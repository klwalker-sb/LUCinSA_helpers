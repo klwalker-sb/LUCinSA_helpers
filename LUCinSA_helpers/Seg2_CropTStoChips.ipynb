{
 "cells": [
  {
   "cell_type": "code",
   "execution_count": 80,
   "id": "ecf17a45",
   "metadata": {},
   "outputs": [],
   "source": [
    "import os\n",
    "from pathlib import Path\n",
    "import shutil\n",
    "import geopandas as gp\n",
    "from shapely.geometry import mapping\n",
    "import rioxarray as rxr\n",
    "import xarray as xr\n",
    "#import sys"
   ]
  },
  {
   "cell_type": "code",
   "execution_count": 83,
   "id": "8f0e9dc2",
   "metadata": {},
   "outputs": [],
   "source": [
    "IMG_DIR_IN = \"/home/sandbox-cel/paraguay_lc/SegmentationData/time_series_vars\"\n",
    "POLY_DIR = \"/home/downspout-cel/paraguay_lc/SegmentationData/user_train\"\n",
    "IMG_DIR_OUT = Path(\"/home/downspout-cel/paraguay_lc/SegmentationData/time_series_vars_crop\")"
   ]
  },
  {
   "cell_type": "code",
   "execution_count": 84,
   "id": "554c87e5",
   "metadata": {},
   "outputs": [],
   "source": [
    "##If passing from BASH:\n",
    "#IMG_DIR_IN = sys.argv[1]\n",
    "#POLY_DIR = sys.argv[2]\n",
    "#IMG_DIR_OUT = sys.argv[3]"
   ]
  },
  {
   "cell_type": "code",
   "execution_count": 87,
   "id": "8beff2e5",
   "metadata": {},
   "outputs": [],
   "source": [
    "#IMG_DIR_OUT.mkdir(parents=True,exist_ok=True)\n",
    "\n",
    "for gpkg in os.listdir(POLY_DIR):\n",
    "    if 'grid' in gpkg:\n",
    "        print('working on {}...'.format(gpkg))\n",
    "        name = gpkg.split('_')\n",
    "        yr = name[2][:4]\n",
    "        cell = gpkg[:4]\n",
    "        subdir_out = Path(os.path.join(IMG_DIR_OUT,name[0]))\n",
    "        subdir_out.mkdir(parents=True,exist_ok=True)\n",
    "        matchCellDir = os.path.join(IMG_DIR_IN,str(cell))\n",
    "        subDirs = [f.name for f in os.scandir(matchCellDir) if f.is_dir()]\n",
    "        for d in subDirs:\n",
    "            subsubdir_out = Path(os.path.join(subdir_out,d))\n",
    "            subsubdir_out.mkdir(parents=True,exist_ok=True)\n",
    "            subsubdir_in = os.path.join(matchCellDir,d)\n",
    "            for img in os.listdir(subsubdir_in):\n",
    "                image = rxr.open_rasterio(os.path.join(subsubdir_in,img),\n",
    "                                 masked=True).squeeze()\n",
    "                crop_extent = gpd.read_file(os.path.join(POLY_DIR,gpkg))\n",
    "                img_clipped = image.rio.clip(crop_extent.geometry.apply(mapping))\n",
    "                img_clipped.rio.to_raster(os.path.join(subsubdir_out,img))\n",
    "                ##To copy file without cropping, coment-out two lines above and use:\n",
    "                #shutil.copyfile(os.path.join(subsubdir_in,img), os.path.join(subsubdir_out,img))"
   ]
  },
  {
   "cell_type": "code",
   "execution_count": null,
   "id": "e1d25388",
   "metadata": {},
   "outputs": [],
   "source": [
    "###Add missing grid field to gpkg:"
   ]
  },
  {
   "cell_type": "code",
   "execution_count": 88,
   "id": "0eda8413",
   "metadata": {},
   "outputs": [],
   "source": [
    "POLY_DIR = \"/home/downspout-cel/paraguay_lc/SegmentationData/user_train\"\n",
    "\n",
    "import geopandas as gpd\n",
    "import fiona\n",
    "\n",
    "for item in os.listdir(POLY_DIR):\n",
    "    if 'grid' in item: \n",
    "        gpkg = os.path.join(POLY_DIR,item)\n",
    "        print(gpkg)\n",
    "        src = gpd.read_file(gpkg)\n",
    "        src['grid']=1\n",
    "        print(src)\n",
    "        src.to_file(os.path.join(POLY_DIR,'out',item), driver=\"GPKG\")"
   ]
  },
  {
   "cell_type": "code",
   "execution_count": 76,
   "id": "8f8b66cd",
   "metadata": {},
   "outputs": [],
   "source": [
    "##Copy new images back into original file. NOte overwrite -- may want to copy folder first\n",
    "for img in os.listdir(os.path.join(POLY_DIR,'out')):\n",
    "    shutil.move(os.path.join(POLY_DIR,'out',img), os.path.join(POLY_DIR,img))"
   ]
  }
 ],
 "metadata": {
  "kernelspec": {
   "display_name": "Python 3",
   "language": "python",
   "name": "python3"
  },
  "language_info": {
   "codemirror_mode": {
    "name": "ipython",
    "version": 3
   },
   "file_extension": ".py",
   "mimetype": "text/x-python",
   "name": "python",
   "nbconvert_exporter": "python",
   "pygments_lexer": "ipython3",
   "version": "3.6.8"
  }
 },
 "nbformat": 4,
 "nbformat_minor": 5
}
