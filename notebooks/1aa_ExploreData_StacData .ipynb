{
 "cells": [
  {
   "cell_type": "markdown",
   "id": "02d941c9",
   "metadata": {},
   "source": [
    "# Explore data in stac catalog"
   ]
  },
  {
   "cell_type": "code",
   "execution_count": null,
   "id": "18a56fba",
   "metadata": {},
   "outputs": [],
   "source": [
    "import os\n",
    "import sys\n",
    "from pathlib import Path\n",
    "import pandas as pd\n",
    "import numpy as np\n",
    "import pyproj\n",
    "import geopandas as gpd\n",
    "from pystac_client import Client\n",
    "import rich.table\n",
    "\n",
    "%matplotlib inline"
   ]
  },
  {
   "cell_type": "code",
   "execution_count": null,
   "id": "4a6b586a",
   "metadata": {},
   "outputs": [],
   "source": [
    "sys.path.append(r\"../LUCinSA_helpers\")\n",
    "from file_checks import *"
   ]
  },
  {
   "cell_type": "code",
   "execution_count": null,
   "id": "0fbc5569",
   "metadata": {},
   "outputs": [],
   "source": [
    "'''\n",
    "PARAMETERS: modify in notebook_params notebook, then run that notebook and this cell to update here\n",
    "DO NOT modify this cell\n",
    "'''\n",
    "\n",
    "%store -r basic_config\n",
    "print(\"Basic Parameters: \\n raw_dir = {} \\n local_dir = {} \\n  gridCell = {}  \\n yr_range = {} \\n image_type = {} \\n\"\n",
    "      .format(basic_config['raw_dir'],basic_config['local_dir'],basic_config['grid_cell'], basic_config['yr_range'], basic_config['image_type']))"
   ]
  },
  {
   "cell_type": "code",
   "execution_count": null,
   "id": "40e1b232",
   "metadata": {},
   "outputs": [],
   "source": [
    "#grid_file = basic_config['grid_file']\n",
    "grid_file = '/home/klwalker/data/LUCinLA_grid_8858.gpkg'\n",
    "#grid_file = f'/home/sandbox-cel/capeTown/vector/cape_grid_utm32S.gpkg'\n",
    "#cell = basic_config['grid_cell']\n",
    "#cell = '3972'\n",
    "cell = '4000'\n",
    "yrs= [2018,2019]\n",
    "#yrs = basic_config['yr_range']\n",
    "#yrs = [2022,2022]\n",
    "#img_type = basic_config['image_type']\n",
    "img_type = 's2'\n",
    "#img_type = 'l8'"
   ]
  },
  {
   "cell_type": "markdown",
   "id": "d54a5143",
   "metadata": {},
   "source": [
    "## Explore properties of stac catalog"
   ]
  },
  {
   "cell_type": "code",
   "execution_count": null,
   "id": "53118ac2",
   "metadata": {},
   "outputs": [],
   "source": [
    "s2_cat_default = Client.open(\"https://earth-search.aws.element84.com/v1\")\n",
    "s2_cat_archive2023 = Client.open(\"https://earth-search.aws.element84.com/v0\")\n",
    "s2_cat_pre2017 = Client.open(\"https://planetarycomputer.microsoft.com/api/stac/v1/\")\n",
    "s2_cat_archive2023.add_conforms_to(\"ITEM_SEARCH\")\n",
    "l_cat_default = Client.open(\"https://planetarycomputer.microsoft.com/api/stac/v1/\")"
   ]
  },
  {
   "cell_type": "code",
   "execution_count": null,
   "id": "07e6095e",
   "metadata": {},
   "outputs": [],
   "source": [
    "## view Planetary hub (default for Landsat):\n",
    "collections = l_cat_default.get_collections()\n",
    "for collection in collections:\n",
    "    print(collection)"
   ]
  },
  {
   "cell_type": "code",
   "execution_count": null,
   "id": "511a3039",
   "metadata": {},
   "outputs": [],
   "source": [
    "## default for Sentinel-2 (after 2023)\n",
    "collections = s2_cat_default.get_collections()\n",
    "for collection in collections:\n",
    "    print(collection)"
   ]
  },
  {
   "cell_type": "code",
   "execution_count": null,
   "id": "ecc15265",
   "metadata": {},
   "outputs": [],
   "source": [
    "## Sentinel archival2023\n",
    "collections = s2_cat_archive2023.get_collections()\n",
    "for collection in collections:\n",
    "    print(collection)"
   ]
  },
  {
   "cell_type": "markdown",
   "id": "0b8824b4",
   "metadata": {},
   "source": [
    "## Get list of images meeting criteria from default stac catalog\n",
    "note: cloud cover (cc) = 90 is the default, but can change to another max cloud cover to filter images"
   ]
  },
  {
   "cell_type": "code",
   "execution_count": null,
   "id": "f1e9e721",
   "metadata": {},
   "outputs": [],
   "source": [
    "#imgs = get_img_list_from_cat(img_type, cell, grid_file, yrs=yrs, cat='default', cc=90)\n",
    "imgs = get_img_list_from_cat(img_type, cell, grid_file, yrs=yrs, cat='planetary', cc=90)\n",
    "imgs.sort_values(by='obs', inplace=True)\n",
    "imgs.head()"
   ]
  },
  {
   "cell_type": "markdown",
   "id": "ad28b556",
   "metadata": {},
   "source": [
    "## Get images from archival catalog\n",
    "(element84 stac library v0 was used to downolad Sentinel images until 2023 (there are no S2 images in the catalog after 4/2023)"
   ]
  },
  {
   "cell_type": "code",
   "execution_count": null,
   "id": "8bb54760",
   "metadata": {},
   "outputs": [],
   "source": [
    "oldimgs = get_img_list_from_cat('s2', cell, grid_file, yrs=yrs, cat='archival2023')\n",
    "oldimgs.sort_values(by='obs', inplace=True)\n",
    "oldimgs.tail()"
   ]
  },
  {
   "cell_type": "code",
   "execution_count": null,
   "id": "8636b5c2",
   "metadata": {},
   "outputs": [],
   "source": [
    "avg_cc = imgs.loc[:, 'cloudcov'].mean().round(2)\n",
    "print(f'avg cloud_cover = {avg_cc}%')"
   ]
  },
  {
   "cell_type": "markdown",
   "id": "b074f083",
   "metadata": {},
   "source": [
    "#### To see the specs of a particular collection:"
   ]
  },
  {
   "cell_type": "code",
   "execution_count": null,
   "id": "0af6f783",
   "metadata": {},
   "outputs": [],
   "source": [
    "s2prod = s2_cat_default.get_collection(\"sentinel-2-l2a\")\n",
    "s2prod "
   ]
  },
  {
   "cell_type": "code",
   "execution_count": null,
   "id": "1544d131",
   "metadata": {},
   "outputs": [],
   "source": [
    "olds2prod = s2_cat_archive2023.get_collection(\"sentinel-s2-l2a\")\n",
    "olds2prod "
   ]
  },
  {
   "cell_type": "code",
   "execution_count": null,
   "id": "f150138a",
   "metadata": {},
   "outputs": [],
   "source": [
    "s2pre2017 = s2_cat_pre2017.get_collection(\"sentinel-2-l2a\")\n",
    "s2pre2017 "
   ]
  },
  {
   "cell_type": "code",
   "execution_count": null,
   "id": "5ac89b9a",
   "metadata": {},
   "outputs": [],
   "source": [
    "def make_asset_table(scene):\n",
    "    asset_table = rich.table.Table(\"Asset Key\", \"Description\")\n",
    "    for asset_key, asset in scene.assets.items():\n",
    "        # print(f\"{asset_key:<25} - {asset.title}\")\n",
    "        asset_table.add_row(asset_key, asset.title)\n",
    "\n",
    "    return asset_table"
   ]
  },
  {
   "cell_type": "code",
   "execution_count": null,
   "id": "e9c60ea8",
   "metadata": {},
   "outputs": [],
   "source": [
    "grid = gpd.read_file(grid_file)\n",
    "if grid.crs != pyproj.CRS.from_epsg(4326):\n",
    "    grid = grid.to_crs('epsg:4326')\n",
    "bb = grid.query(f'UNQ == {cell}').geometry.total_bounds\n",
    "\n",
    "if yrs == None:\n",
    "    time_slice=\"2010-01-01/2022-12-30\"\n",
    "else:\n",
    "    time_slice=f\"{yrs[0]}-01-01/{yrs[1]}-12-30\""
   ]
  },
  {
   "cell_type": "code",
   "execution_count": null,
   "id": "ffc5935d",
   "metadata": {},
   "outputs": [],
   "source": [
    "p_search = l_cat_default.search(bbox=bb,\n",
    "            datetime=time_slice,\n",
    "            collections=['landsat-c2-l2'],\n",
    "            query=['eo:cloud_cover<90'],\n",
    "            max_items = 10)\n",
    "lscene=p_search.item_collection()[0]"
   ]
  },
  {
   "cell_type": "code",
   "execution_count": null,
   "id": "fa814e2d",
   "metadata": {},
   "outputs": [],
   "source": [
    "s2_search = s2_cat_default.search(bbox=bb,\n",
    "            datetime=time_slice,\n",
    "            collections=['sentinel-2-l2a'],\n",
    "            query=['eo:cloud_cover<90'],\n",
    "            max_items = 10)\n",
    "s2scene=s2_search.item_collection()[0]"
   ]
  },
  {
   "cell_type": "code",
   "execution_count": null,
   "id": "0a1fae8b",
   "metadata": {},
   "outputs": [],
   "source": [
    "s2_old_search = s2_cat_archive2023.search(bbox=bb,\n",
    "            datetime=time_slice,\n",
    "            collections=['sentinel-s2-l2a-cogs'],\n",
    "            query=['eo:cloud_cover<90'],\n",
    "            max_items = 10)\n",
    "s2_old_scene=s2_old_search.item_collection()[0]"
   ]
  },
  {
   "cell_type": "code",
   "execution_count": null,
   "id": "5dcbbc82",
   "metadata": {},
   "outputs": [],
   "source": [
    "s2_pre2017_search = s2_cat_pre2017.search(bbox=bb,\n",
    "            datetime=time_slice,\n",
    "            collections=['sentinel-2-l2a'],\n",
    "            query=['eo:cloud_cover<90'],\n",
    "            max_items = 10)\n",
    "s2_pre2017=s2_pre2017_search.item_collection()[0]"
   ]
  },
  {
   "cell_type": "markdown",
   "id": "c8a8d89d",
   "metadata": {},
   "source": [
    "## compare assets for old and new sentinel images"
   ]
  },
  {
   "cell_type": "code",
   "execution_count": null,
   "id": "f700dd01",
   "metadata": {},
   "outputs": [],
   "source": [
    "make_asset_table(lscene)"
   ]
  },
  {
   "cell_type": "code",
   "execution_count": null,
   "id": "7c1642db",
   "metadata": {},
   "outputs": [],
   "source": [
    "make_asset_table(s2scene)"
   ]
  },
  {
   "cell_type": "code",
   "execution_count": null,
   "id": "36a12bcb",
   "metadata": {},
   "outputs": [],
   "source": [
    "make_asset_table(s2_pre2017)"
   ]
  },
  {
   "cell_type": "code",
   "execution_count": null,
   "id": "1208ee89",
   "metadata": {},
   "outputs": [],
   "source": [
    "make_asset_table(s2_old_scene)"
   ]
  },
  {
   "cell_type": "markdown",
   "id": "dcd4cece",
   "metadata": {},
   "source": [
    "## Compare properties for old and new sentinel images"
   ]
  },
  {
   "cell_type": "code",
   "execution_count": null,
   "id": "b86095bc",
   "metadata": {},
   "outputs": [],
   "source": [
    "pd.DataFrame.from_dict(s2scene.properties, orient='index')"
   ]
  },
  {
   "cell_type": "code",
   "execution_count": null,
   "id": "e876422c",
   "metadata": {},
   "outputs": [],
   "source": [
    "pd.DataFrame.from_dict(s2_old_scene.properties, orient='index')"
   ]
  },
  {
   "cell_type": "markdown",
   "id": "843c7fb7",
   "metadata": {},
   "source": [
    "### To save search results:"
   ]
  },
  {
   "cell_type": "code",
   "execution_count": null,
   "id": "9cbec5c0",
   "metadata": {},
   "outputs": [],
   "source": [
    "#scenes.save_object(os.path.join(basic_config['local_dir']),f'stacsearch_{cell}_{yrs}_{img_type}.json')"
   ]
  },
  {
   "cell_type": "markdown",
   "id": "dd949c4d",
   "metadata": {},
   "source": [
    "## get url to download a band/asset"
   ]
  },
  {
   "cell_type": "code",
   "execution_count": null,
   "id": "7e2b2276",
   "metadata": {},
   "outputs": [],
   "source": [
    "For Planetary:"
   ]
  },
  {
   "cell_type": "code",
   "execution_count": null,
   "id": "f71946a2",
   "metadata": {},
   "outputs": [],
   "source": [
    "import planetary_computer as pc\n",
    "\n",
    "items = pc.sign(p_search)\n",
    "test_item = items.items[0]\n",
    "test_url = test_item.assets[\"nir08\"].href\n",
    "print(test_url)"
   ]
  },
  {
   "cell_type": "markdown",
   "id": "43abac75",
   "metadata": {},
   "source": [
    "For Element84 (Sentinel):"
   ]
  },
  {
   "cell_type": "code",
   "execution_count": null,
   "id": "5f219742",
   "metadata": {},
   "outputs": [],
   "source": [
    "url=s2scene.assets[\"nir\"].href\n",
    "#url=s2_old_scene.assets[\"B8A\"].href\n",
    "print(url)"
   ]
  },
  {
   "cell_type": "markdown",
   "id": "30e91c94",
   "metadata": {},
   "source": [
    "## View thumbnail:"
   ]
  },
  {
   "cell_type": "code",
   "execution_count": null,
   "id": "77590ddd",
   "metadata": {},
   "outputs": [],
   "source": [
    "import requests\n",
    "samp_img = requests.get(s2scene.assets[\"thumbnail\"].href).content\n",
    "import matplotlib.pyplot as plt\n",
    "from PIL import Image\n",
    "import io\n",
    "plt.figure(figsize=(5, 5))\n",
    "plt.imshow(Image.open(io.BytesIO(samp_img)))"
   ]
  },
  {
   "cell_type": "markdown",
   "id": "bfe87ad3",
   "metadata": {},
   "source": [
    "#### Explore scene classification map"
   ]
  },
  {
   "cell_type": "code",
   "execution_count": null,
   "id": "82e08c89",
   "metadata": {},
   "outputs": [],
   "source": [
    "import rioxarray\n",
    "scl = rioxarray.open_rasterio(s2scene.assets[\"scl\"].href)\n",
    "scl"
   ]
  },
  {
   "cell_type": "markdown",
   "id": "c527d484",
   "metadata": {},
   "source": [
    "## Check for missing images in db"
   ]
  },
  {
   "cell_type": "code",
   "execution_count": null,
   "id": "c6d58762",
   "metadata": {},
   "outputs": [],
   "source": [
    "#missing_local_s, missing_remote_s, missing_from_localdb_s = compare_files_to_db('s', 'both', basic_config['raw_dir'], basic_config['grid_cell'], basic_config['grid_file'], yrs=basic_config['yr_range'],data_source=basic_config['data_source'])\n",
    "#print('{} images from sentinel catalog have not been processed'.format(len(missing_from_localdb_s)))\n",
    "#print(missing_from_localdb_s)"
   ]
  },
  {
   "cell_type": "markdown",
   "id": "94c9d827",
   "metadata": {},
   "source": [
    "### explore difference between STAC catalogs"
   ]
  },
  {
   "cell_type": "code",
   "execution_count": null,
   "id": "b0d0fdde",
   "metadata": {},
   "outputs": [],
   "source": [
    "'''\n",
    "catfiff = ComparePlanetaryHub_w_Element84 ('Sentinel', basicConfig['gridCell'],basicConfig['gridFile'],Yrs = [2000,2022])\n",
    "diff0 = pd.DataFrame(catdiff[0])\n",
    "diff0['date'] = diff0.apply(lambda x: x[0].split(\"_\")[2], axis=1)\n",
    "diff0.sort_values(by=['date'], inplace=True) \n",
    "diff1 = pd.DataFrame(catdiff[1])\n",
    "diff1['date'] = diff1.apply(lambda x: x[0].split(\"_\")[2], axis=1)\n",
    "diff1.sort_values(by=['date'], inplace=True)    \n",
    "print('{} Images in Element84 but not Planetary: {}'.format(len(catdiff[0]),diff0))\n",
    "print('{} Images in Planetary but not Element84: {}'.format(len(catdiff[1]),diff1))\n",
    "'''"
   ]
  },
  {
   "cell_type": "markdown",
   "id": "fcb38cee",
   "metadata": {},
   "source": [
    "## To save an html copy of this notebook with all outputs:"
   ]
  },
  {
   "cell_type": "code",
   "execution_count": null,
   "id": "25b26464",
   "metadata": {},
   "outputs": [],
   "source": [
    "'''\n",
    "### uncomment and Run to print output as html\n",
    "out_name = str(basic_config['country']+'1aa_StacData_'+str(basic_config['grid_cell']))\n",
    "!jupyter nbconvert --output-dir='./Outputs' --to html --no-input --output=$out_name 1aa_StacData_FileContent.ipynb\n",
    "'''"
   ]
  }
 ],
 "metadata": {
  "kernelspec": {
   "display_name": "Python 3 (ipykernel)",
   "language": "python",
   "name": "python3"
  },
  "language_info": {
   "codemirror_mode": {
    "name": "ipython",
    "version": 3
   },
   "file_extension": ".py",
   "mimetype": "text/x-python",
   "name": "python",
   "nbconvert_exporter": "python",
   "pygments_lexer": "ipython3",
   "version": "3.8.15"
  }
 },
 "nbformat": 4,
 "nbformat_minor": 5
}
