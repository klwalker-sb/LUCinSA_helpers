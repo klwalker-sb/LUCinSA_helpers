{
 "cells": [
  {
   "cell_type": "markdown",
   "id": "16ff518d",
   "metadata": {},
   "source": [
    "## Make and view annual time-series data as 3-band composite"
   ]
  },
  {
   "cell_type": "code",
   "execution_count": null,
   "id": "9e1e3a42",
   "metadata": {},
   "outputs": [],
   "source": [
    "import os\n",
    "import sys\n",
    "from pathlib import Path\n",
    "import datetime\n",
    "\n",
    "import rasterio\n",
    "from rasterio import plot\n",
    "from rasterio.plot import show\n",
    "import matplotlib.pyplot as plt\n",
    "\n",
    "%matplotlib inline"
   ]
  },
  {
   "cell_type": "code",
   "execution_count": null,
   "id": "dd26783f",
   "metadata": {},
   "outputs": [],
   "source": [
    "sys.path.append(r\"../LUCinSA_helpers\")\n",
    "from TScomposite import *"
   ]
  },
  {
   "cell_type": "code",
   "execution_count": null,
   "id": "b1596dd5",
   "metadata": {},
   "outputs": [],
   "source": [
    "'''\n",
    "PARAMETERS: modify basicConfig in Notebook_settings notebook, then run that notebook and this cell to update here\n",
    "DO not modify this cell\n",
    "'''\n",
    "\n",
    "%store -r basicConfig\n",
    "print(\"Basic Parameters: \\n PrintDate = {} \\n gridCell = {} \\n index_dir = {} \\n out_dir = {} \\n spec_index= {} \\n plotYr = {}\"\n",
    "      .format(basicConfig['today'],basicConfig['gridCell'],basicConfig['index_dir'],basicConfig['out_dir'],basicConfig['spec_index'], basicConfig['plotYr']))\n",
    "\n",
    "#%store -r TSCompositeParams\n",
    "#print(\"TSComposite Parameters: \\n BandsOut = {}\".format(TSCompositeParams['BandsOut']))"
   ]
  },
  {
   "cell_type": "code",
   "execution_count": null,
   "id": "a8e86b57",
   "metadata": {},
   "outputs": [],
   "source": [
    "#Basic plotting scripts\n",
    "\n",
    "def normalize(array):\n",
    "    array_min, array_max = array.min(), array.max()\n",
    "    return (array - array_min) / (array_max - array_min)\n",
    "\n",
    "def plotrgb(raster):\n",
    "    # Convert to numpy arrays\n",
    "    red = raster.read(3)\n",
    "    green = raster.read(2)\n",
    "    blue = raster.read(1)\n",
    "\n",
    "    # Normalize band DN\n",
    "    red_norm = normalize(red)\n",
    "    green_norm = normalize(green)\n",
    "    blue_norm = normalize(blue)\n",
    "\n",
    "    # Stack bands\n",
    "    rgb = np.dstack((red_norm, green_norm, blue_norm))\n",
    "\n",
    "    return rgb"
   ]
  },
  {
   "cell_type": "markdown",
   "id": "6f8fc342",
   "metadata": {},
   "source": [
    "## Current options for composite bands are:\n",
    "* Avg (mean)\n",
    "* Max (maximum index value)\n",
    "* Min (minumum index value)\n",
    "* Amp (Max - Min)\n",
    "* Std (standard deviation)\n",
    "* CV (coefficient of variation: std/mean)\n",
    "* MaxDate (day of year on which maximum occurs)\n",
    "* MaxDateCos (cosine of max date, to reduce periodic effect)\n",
    "* MinDate (day of year on which minimum occurs)\n",
    "* MinDateCos (cosine of min date, to reduce periodic effect)\n",
    "---------------------------------------------------------------\n",
    "* Jan (value from Jan 10th image)\n",
    "* Apr (value from Apr 10th image)\n",
    "* Jun (value from Jun 10th image)\n",
    "* Aug (value from Aug 10th image)\n",
    "* Nov (value from Nov 10th image)"
   ]
  },
  {
   "cell_type": "markdown",
   "id": "5b5e3e32",
   "metadata": {},
   "source": [
    "### note: if running many these, use bash script \"MakeTScomposite.sh\" to run on job node of cluster"
   ]
  },
  {
   "cell_type": "markdown",
   "id": "5bf32491",
   "metadata": {},
   "source": [
    "## Make ['Min','Max','Amp'] composite to highlight crops vs grassland/forest"
   ]
  },
  {
   "cell_type": "code",
   "execution_count": null,
   "id": "74ea3c72",
   "metadata": {},
   "outputs": [],
   "source": [
    "##Note: this is a tmp local check before moving to cluster:\n",
    "local_in_dir = \"C:/Users/klobw/Desktop/NasaProject/Paraguay/Grids/000993/evi2_2yr\"\n",
    "local_out_dir = \"C:/Users/klobw/Desktop/Testing\"\n",
    "Comp1 = MakeTSComposite(basicConfig['gridCell'], local_in_dir,local_out_dir,basicConfig['plotYr'],basicConfig['spec_index'],['Min','Max','Amp'])\n",
    "\n",
    "#Comp1 = MakeTSComposite(basicConfig['gridCell'], basicConfig['index_dir'],basicConfig['out_dir'],basicConfig['plotYr'],basicConfig['spec_index'],['Min','Max','Amp'])"
   ]
  },
  {
   "cell_type": "code",
   "execution_count": null,
   "id": "4356f70c",
   "metadata": {},
   "outputs": [],
   "source": [
    "raster = rasterio.open(os.path.join(local_out_dir,'{:06d}'.format(basicConfig['gridCell'])+'_'+str(basicConfig['plotYr'])+basicConfig['spec_index']+'_'+'MinMaxAmp.tif'))\n",
    "#raster = rasterio.open(os.path.join(basicConfig['out_dir'],'{:06d}'.format(basicConfig['gridCell'])+'_'+str(basicConfig['plotYr'])+basicConfig['spec_index']+'_'+'MinMaxAmp.tif'))\n",
    "rgb = plotrgb(raster)\n",
    "fig = plt.figure(figsize=(18,12))\n",
    "plt.imshow(rgb);"
   ]
  },
  {
   "cell_type": "markdown",
   "id": "a465b664",
   "metadata": {},
   "source": [
    "## Make ['Jan','Jun','Nov'] composite to see different crops"
   ]
  },
  {
   "cell_type": "code",
   "execution_count": null,
   "id": "3362ee9c",
   "metadata": {},
   "outputs": [],
   "source": [
    "Comp2 = MakeTSComposite(basicConfig['gridCell'], local_in_dir,local_out_dir,basicConfig['plotYr'],basicConfig['spec_index'],['Jan','Jun','Nov'])\n",
    "#Comp2 = MakeTSComposite(basicConfig['gridCell'], basicConfig['index_dir'],basicConfig['out_dir'],basicConfig['plotYr'],basicConfig['spec_index'],['Jan','Jun','Nov'])"
   ]
  },
  {
   "cell_type": "code",
   "execution_count": null,
   "id": "4f304304",
   "metadata": {},
   "outputs": [],
   "source": [
    "raster = rasterio.open(os.path.join(local_out_dir,'000993_2021evi2_JanJunNov.tif'))\n",
    "#raster = rasterio.open(os.path.join(basicConfig['out_dir'],'{:06d}'.format(basicConfig['gridCell'])+'_'+str(basicConfig['plotYr'])+basicConfig['spec_index']+'_'+'JanJunNov.tif'))\n",
    "rgb = plotrgb(raster)\n",
    "fig = plt.figure(figsize=(18,12))\n",
    "plt.imshow(rgb);"
   ]
  },
  {
   "cell_type": "markdown",
   "id": "c5d6c1cd",
   "metadata": {},
   "source": [
    "# To save an html copy of this notebook with all outputs:"
   ]
  },
  {
   "cell_type": "code",
   "execution_count": null,
   "id": "597227a0",
   "metadata": {},
   "outputs": [],
   "source": [
    "### Run to print output as html\n",
    "\n",
    "outName = str(basicConfig['country']+'2b_ViewTimeSeriesComposite'+'_cell'+str(basicConfig['gridCell'])+'_'+basicConfig['plotYr'])\n",
    "!jupyter nbconvert --output-dir='./Outputs' --to html --no-input --output=$outName 1b_ExploreData_OpenImage.ipynb"
   ]
  }
 ],
 "metadata": {
  "kernelspec": {
   "display_name": "Python [conda env:nasaenv]",
   "language": "python",
   "name": "conda-env-nasaenv-py"
  },
  "language_info": {
   "codemirror_mode": {
    "name": "ipython",
    "version": 3
   },
   "file_extension": ".py",
   "mimetype": "text/x-python",
   "name": "python",
   "nbconvert_exporter": "python",
   "pygments_lexer": "ipython3",
   "version": "3.7.12"
  }
 },
 "nbformat": 4,
 "nbformat_minor": 5
}
