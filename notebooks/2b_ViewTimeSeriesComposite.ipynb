{
 "cells": [
  {
   "cell_type": "markdown",
   "id": "16ff518d",
   "metadata": {},
   "source": [
    "## Make and view annual time-series data as 3-band composite"
   ]
  },
  {
   "cell_type": "code",
   "execution_count": null,
   "id": "9e1e3a42",
   "metadata": {},
   "outputs": [],
   "source": [
    "import os\n",
    "import sys\n",
    "from pathlib import Path\n",
    "import datetime\n",
    "\n",
    "import rasterio as rio\n",
    "from rasterio import plot\n",
    "from rasterio.plot import show\n",
    "import matplotlib.pyplot as plt\n",
    "\n",
    "%matplotlib inline"
   ]
  },
  {
   "cell_type": "code",
   "execution_count": null,
   "id": "dd26783f",
   "metadata": {},
   "outputs": [],
   "source": [
    "sys.path.append(r\"../LUCinSA_helpers\")\n",
    "from ts_composite import *\n",
    "from plot import *"
   ]
  },
  {
   "cell_type": "code",
   "execution_count": null,
   "id": "b1596dd5",
   "metadata": {},
   "outputs": [],
   "source": [
    "'''\n",
    "PARAMETERS: modify basicConfig in Notebook_settings notebook, then run that notebook and this cell to update here\n",
    "DO not modify this cell\n",
    "'''\n",
    "\n",
    "%store -r basic_config\n",
    "print(\"Basic Parameters: \\n PrintDate = {} \\n gridCell = {} \\n index_dir = {} \\n out_dir = {} \\n spec_index= {}\"\n",
    "      .format(basic_config['today'],basic_config['grid_cell'],basic_config['index_dir'],basic_config['out_dir'],basic_config['spec_index']))\n",
    "%store -r single_plot_params\n",
    "print(\"Single Plot Parameters: \\n plot_yr = {}\" .format(single_plot_params['plot_yr']))\n",
    "#%store -r TSCompositeParams\n",
    "#print(\"TSComposite Parameters: \\n BandsOut = {}\".format(TSCompositeParams['BandsOut']))"
   ]
  },
  {
   "cell_type": "markdown",
   "id": "6f8fc342",
   "metadata": {},
   "source": [
    "## Current options for composite bands are:\n",
    "* Avg (mean)\n",
    "* Max (maximum index value)\n",
    "* Min (minumum index value)\n",
    "* Amp (Max - Min)\n",
    "* Std (standard deviation)\n",
    "* CV (coefficient of variation: std/mean)\n",
    "* MaxDate (day of year on which maximum occurs)\n",
    "* MaxDateCos (cosine of max date, to reduce periodic effect)\n",
    "* MinDate (day of year on which minimum occurs)\n",
    "* MinDateCos (cosine of min date, to reduce periodic effect)\n",
    "---------------------------------------------------------------\n",
    "* Jan (value from Jan 10th image)\n",
    "* Apr (value from Apr 10th image)\n",
    "* Jun (value from Jun 10th image)\n",
    "* Aug (value from Aug 10th image)\n",
    "* Nov (value from Nov 10th image)"
   ]
  },
  {
   "cell_type": "markdown",
   "id": "5b5e3e32",
   "metadata": {},
   "source": [
    "### note: if running many these, use bash script \"MakeTScomposite.sh\" to run on job node of cluster"
   ]
  },
  {
   "cell_type": "markdown",
   "id": "5bf32491",
   "metadata": {},
   "source": [
    "## Make ['Min','Max','Amp'] composite to highlight crops vs grassland/forest"
   ]
  },
  {
   "cell_type": "code",
   "execution_count": null,
   "id": "74ea3c72",
   "metadata": {},
   "outputs": [],
   "source": [
    "bands = ['Min','Max','Amp']\n",
    "band_name = '{}{}{}.tif'.format(bands[0],bands[1],bands[2])\n",
    "comp_dir = os.path.join(basic_config['smooth_dir'],'{:06d}'.format(basic_config['grid_cell']),'comp')\n",
    "comp = ('{}/{:06d}'.format(comp_dir, basic_config['grid_cell'])+'_'+str(single_plot_params['plot_yr'])+basic_config['spec_index']+'_'+band_name)\n",
    "if Path(comp).exists():\n",
    "    print('comp already exists')\n",
    "else:\n",
    "    comp = make_ts_composite(basic_config['grid_cell'],basic_config['index_dir'],basic_config['out_dir'],single_plot_params['plot_yr'],basic_config['spec_index'],bands)"
   ]
  },
  {
   "cell_type": "code",
   "execution_count": null,
   "id": "4356f70c",
   "metadata": {},
   "outputs": [],
   "source": [
    "rgb = get_rbg_img(comp,1)\n",
    "fig = plt.figure(figsize=(18,12))\n",
    "plt.imshow(rgb);"
   ]
  },
  {
   "cell_type": "markdown",
   "id": "a465b664",
   "metadata": {},
   "source": [
    "## Make ['Jan','Jun','Nov'] composite to see different crops"
   ]
  },
  {
   "cell_type": "code",
   "execution_count": null,
   "id": "3362ee9c",
   "metadata": {},
   "outputs": [],
   "source": [
    "bands = ['Jan','Jun','Nov']\n",
    "band_name = '{}{}{}.tif'.format(bands[0],bands[1],bands[2])\n",
    "comp_dir = os.path.join(basic_config['smooth_dir'],'{:06d}'.format(basic_config['grid_cell']),'comp')\n",
    "comp2 = ('{}/{:06d}'.format(comp_dir, basic_config['grid_cell'])+'_'+str(single_plot_params['plot_yr'])+basic_config['spec_index']+'_'+band_name)\n",
    "if Path(comp2).exists():\n",
    "    print('comp already exists')\n",
    "else:\n",
    "    comp2 = make_ts_composite(basic_config['grid_cell'],basic_config['index_dir'],basic_config['out_dir'],single_plot_params['plot_yr'],basic_config['spec_index'],bands)"
   ]
  },
  {
   "cell_type": "code",
   "execution_count": null,
   "id": "4f304304",
   "metadata": {},
   "outputs": [],
   "source": [
    "rgb = get_rbg_img(comp2,1)\n",
    "fig = plt.figure(figsize=(18,12))\n",
    "plt.imshow(rgb);"
   ]
  },
  {
   "cell_type": "markdown",
   "id": "c5d6c1cd",
   "metadata": {},
   "source": [
    "# To save an html copy of this notebook with all outputs:"
   ]
  },
  {
   "cell_type": "code",
   "execution_count": null,
   "id": "597227a0",
   "metadata": {},
   "outputs": [],
   "source": [
    "### Run to print output as html\n",
    "\n",
    "out_name = str(basic_config['country']+'2b_ViewTimeSeriesComposite'+'_cell'+str(basic_config['grid_cell'])+'_'+str(single_plot_params['plot_yr']))\n",
    "!jupyter nbconvert --output-dir='./Outputs' --to html --no-input --output=$out_name 2b_ViewTimeSeriesComposite.ipynb"
   ]
  },
  {
   "cell_type": "code",
   "execution_count": null,
   "id": "f86c4929",
   "metadata": {},
   "outputs": [],
   "source": []
  }
 ],
 "metadata": {
  "kernelspec": {
   "display_name": "Python 3 (ipykernel)",
   "language": "python",
   "name": "python3"
  },
  "language_info": {
   "codemirror_mode": {
    "name": "ipython",
    "version": 3
   },
   "file_extension": ".py",
   "mimetype": "text/x-python",
   "name": "python",
   "nbconvert_exporter": "python",
   "pygments_lexer": "ipython3",
   "version": "3.8.16"
  }
 },
 "nbformat": 4,
 "nbformat_minor": 5
}
