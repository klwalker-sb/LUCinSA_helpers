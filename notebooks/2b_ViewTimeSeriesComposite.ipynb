{
 "cells": [
  {
   "cell_type": "markdown",
   "id": "16ff518d",
   "metadata": {},
   "source": [
    "## Make and view annual time-series data as 3-band composite"
   ]
  },
  {
   "cell_type": "code",
   "execution_count": null,
   "id": "9e1e3a42",
   "metadata": {},
   "outputs": [],
   "source": [
    "import os\n",
    "import sys\n",
    "from pathlib import Path\n",
    "import datetime\n",
    "\n",
    "import rasterio as rio\n",
    "from rasterio import plot\n",
    "from rasterio.plot import show\n",
    "import matplotlib.pyplot as plt\n",
    "\n",
    "%matplotlib inline"
   ]
  },
  {
   "cell_type": "code",
   "execution_count": null,
   "id": "dd26783f",
   "metadata": {},
   "outputs": [],
   "source": [
    "sys.path.append(r\"../LUCinSA_helpers\")\n",
    "from ts_composite import *\n",
    "from plot import *\n",
    "from ts_profile import *"
   ]
  },
  {
   "cell_type": "code",
   "execution_count": null,
   "id": "b1596dd5",
   "metadata": {},
   "outputs": [],
   "source": [
    "'''\n",
    "PARAMETERS: modify basicConfig in Notebook_settings notebook, then run that notebook and this cell to update here\n",
    "DO not modify this cell\n",
    "'''\n",
    "\n",
    "%store -r basic_config\n",
    "print(\"Basic Parameters: \\n PrintDate = {} \\n gridCell = {} \\n index_dir = {} \\n out_dir = {} \\n spec_index= {} \\n filter_yr = {}\"\n",
    "      .format(basic_config['today'],basic_config['grid_cell'],basic_config['index_dir'],basic_config['local_dir'],basic_config['spec_index'],basic_config['filter_yr']))\n",
    "%store -r plot_params\n",
    "\n",
    "if basic_config['ptfile'] == 'interactive':\n",
    "    print('Using interactive point file, with coordinates stored at {}/SelectedCoords.csv'.format(basic_config['local_dir']))\n",
    "else:\n",
    "    print( \"Shapefile = {} \\n    If point, file is {} \\n    If poly, file is {} \\n input crs = {}\"\n",
    "     .format (plot_params['shpfile'], basic_config['ptfile'],basic_config['polyfile'],plot_params['inputCRS']))\n",
    "\n",
    "%store -r timeseries_params\n",
    "print( \"startYr = {} \\n endYr = {} \\n start_mo = {} \\n\"\n",
    "     .format (timeseries_params['start_yr'],timeseries_params['end_yr'],timeseries_params['start_mo']))"
   ]
  },
  {
   "cell_type": "code",
   "execution_count": null,
   "id": "f68b3740",
   "metadata": {},
   "outputs": [],
   "source": [
    "if plot_params['interactive'] == True:\n",
    "    from ipywidgets import Label\n",
    "    from ipyleaflet  import Map, GeoData, basemaps, LayersControl, ImageOverlay, Marker, Popup\n",
    "    from localtileserver import get_leaflet_tile_layer, TileClient\n",
    "    from plot_interactive import *"
   ]
  },
  {
   "cell_type": "markdown",
   "id": "6f8fc342",
   "metadata": {},
   "source": [
    "## Current options for composite bands are:\n",
    "* Avg (mean)\n",
    "* Max (maximum index value)\n",
    "* Min (minumum index value)\n",
    "* Amp (Max - Min)\n",
    "* Std (standard deviation)\n",
    "* CV (coefficient of variation: std/mean)\n",
    "* MaxDate (day of year on which maximum occurs)\n",
    "* MaxDateCos (cosine of max date, to reduce periodic effect)\n",
    "* MinDate (day of year on which minimum occurs)\n",
    "* MinDateCos (cosine of min date, to reduce periodic effect)\n",
    "---------------------------------------------------------------\n",
    "* Jan (value from Jan 10th image)\n",
    "* Apr (value from Apr 10th image)\n",
    "* Jun (value from Jun 10th image)\n",
    "* Aug (value from Aug 10th image)\n",
    "* Nov (value from Nov 10th image)"
   ]
  },
  {
   "cell_type": "markdown",
   "id": "5b5e3e32",
   "metadata": {},
   "source": [
    "### note: if running many these, use bash script \"MakeTScomposite.sh\" to run on job node of cluster"
   ]
  },
  {
   "cell_type": "markdown",
   "id": "5bf32491",
   "metadata": {},
   "source": [
    "## Make ['Min','Max','Amp'] composite to highlight crops vs grassland/forest"
   ]
  },
  {
   "cell_type": "code",
   "execution_count": null,
   "id": "74ea3c72",
   "metadata": {},
   "outputs": [],
   "source": [
    "si_vars = ['maxv_yr','minv_yr','amp_yr']\n",
    "#si_vars = ['Jan_20','Jun_20','Nov_20']\n",
    "\n",
    "comp_dir = os.path.join(basic_config['smooth_dir'],'{:06d}'.format(basic_config['grid_cell']),'comp')\n",
    "comp_path = os.path.join(comp_dir,'{:06d}_{}_{}_{}{}{}.tif'.format(basic_config['grid_cell'],basic_config['filter_yr'],\n",
    "                                                                   basic_config['spec_index'],si_vars[0],si_vars[1],si_vars[2]))\n",
    "if Path(comp_path).exists():\n",
    "    print('comp already exists')\n",
    "    comp = comp_path\n",
    "else:\n",
    "    comp = make_ts_composite(basic_config['grid_cell'],basic_config['index_dir'],comp_dir,basic_config['filter_yr'],\n",
    "                             timeseries_params['start_mo'],basic_config['spec_index'],si_vars)\n",
    "    \n",
    "if type(comp) is str:\n",
    "    comp = comp\n",
    "else:\n",
    "    comp = comp[0]"
   ]
  },
  {
   "cell_type": "markdown",
   "id": "d3499d46",
   "metadata": {},
   "source": [
    "## Non-interactive image with enhanced colors:"
   ]
  },
  {
   "cell_type": "code",
   "execution_count": null,
   "id": "4356f70c",
   "metadata": {},
   "outputs": [],
   "source": [
    "rgb = get_rbg_img(comp,1)\n",
    "fig = plt.figure(figsize=(18,12))\n",
    "plt.imshow(rgb);"
   ]
  },
  {
   "cell_type": "markdown",
   "id": "084b12fd",
   "metadata": {},
   "source": [
    "## Interactive image (to query points for timeseries profile)"
   ]
  },
  {
   "cell_type": "code",
   "execution_count": null,
   "id": "51d054c8",
   "metadata": {},
   "outputs": [],
   "source": [
    "tile_client = TileClient(comp,port=5554)\n",
    "m = Map(center=tile_client.center(), zoom=12, basemap=basemaps.Esri.WorldImagery)\n",
    "t = get_leaflet_tile_layer(tile_client, band=[3,2,1])\n",
    "m.add_layer(t)\n",
    "\n",
    "def get_coords(**kwargs):\n",
    "    if kwargs.get('type') == 'click':\n",
    "        label = Label()\n",
    "        label.value = str(kwargs.get('coordinates'))\n",
    "        #m.add_layer(Marker(location=kwargs.get('coordinates')))\n",
    "        coords =eval(label.value) \n",
    "        selected_coords.append(coords)\n",
    "        print(selected_coords)\n",
    "        return selected_coords\n",
    "selected_coords = []\n",
    "m.on_interaction(get_coords)\n",
    "\n",
    "print('click on map to get coordinates to query (can zoom in first)')\n",
    "m"
   ]
  },
  {
   "cell_type": "code",
   "execution_count": null,
   "id": "03cd58f0",
   "metadata": {},
   "outputs": [],
   "source": [
    "coord_dir = Path(basic_config['local_dir']/'coords').mkdir(parents=True, exist_ok=True)\n",
    "coord_dir = Path(basic_config['local_dir']/'coords')\n",
    "if plot_params['get_new_coords'] == True:\n",
    "    coords = convert_and_print_coord_list(selected_coords, img_crs=plot_params['inputCRS'], out_dir=coord_dir)\n",
    "\n",
    "coords = pd.read_csv(os.path.join(coord_dir,'SelectedCoords.csv'))\n",
    "    \n",
    "vals = get_values_at_coords(coords, plot_params['inputCRS'], comp, [1,2,3])\n",
    "print(coords)\n",
    "\n",
    "for index, pt in coords.iterrows():\n",
    "    marker = Marker(location = [pt.lon,pt.lat])\n",
    "    popup = Popup(\n",
    "        location=[pt.lon,pt.lat],\n",
    "        close_button=False,\n",
    "        auto_close=False,\n",
    "        close_on_click=False,\n",
    "        close_on_escape_key=False\n",
    "    )\n",
    "    popup.children = \"{}: {}/{}/{}\".format(index+1,vals[1][index],vals[2][index],vals[3][index])\n",
    "    print(popup.children)\n",
    "    message=Label()\n",
    "    message.value = popup.children\n",
    "    marker.popup = message\n",
    "    m.add_layer(marker)\n",
    "\n",
    "display(m)"
   ]
  },
  {
   "cell_type": "markdown",
   "id": "85b305bb",
   "metadata": {},
   "source": [
    "## Get time series for pts"
   ]
  },
  {
   "cell_type": "code",
   "execution_count": null,
   "id": "4aa09126",
   "metadata": {},
   "outputs": [],
   "source": [
    "out_dir = os.path.join(basic_config['local_dir']/'TSdfs')\n",
    "if not os.path.exists(out_dir):\n",
    "    os.makedirs(out_dir)\n",
    "    \n",
    "coords = os.path.join(basic_config['local_dir'],'coords','SelectedCoords.csv')\n",
    "\n",
    "ts_smooth = get_timeseries_for_pts_multicell(out_dir, basic_config['spec_index'], timeseries_params['start_yr'], timeseries_params['end_yr'],\n",
    "            basic_config['smooth_dir'], 'Smooth', basic_config['grid_file'], [basic_config['grid_cell']], \n",
    "            polyfile=basic_config['polyfile'], oldest=timeseries_params['oldest_samp'], newest=timeseries_params['newest_samp'],\n",
    "            npts=timeseries_params['npts'], seed=timeseries_params['seed1'], load_samp=True, ptfile=coords)\n",
    "\n",
    "ts_raw =   get_timeseries_for_pts_multicell(out_dir, basic_config['spec_index'], timeseries_params['start_yr'], timeseries_params['end_yr'],\n",
    "            basic_config['raw_dir'], 'AllRaw', basic_config['grid_file'], [basic_config['grid_cell']], \n",
    "             polyfile=basic_config['polyfile'], oldest=timeseries_params['oldest_samp'], newest=timeseries_params['newest_samp'],\n",
    "            npts=timeseries_params['npts'], seed=timeseries_params['seed1'], load_samp=True, ptfile=coords)"
   ]
  },
  {
   "cell_type": "markdown",
   "id": "d44b4af4",
   "metadata": {},
   "source": [
    "## show output"
   ]
  },
  {
   "cell_type": "code",
   "execution_count": null,
   "id": "9614f9f8",
   "metadata": {},
   "outputs": [],
   "source": [
    "display(m)\n",
    "fig, axs = plt.subplots(ncols=2, nrows=2, figsize=(15, 8), layout=\"constrained\")\n",
    "axs[0,0].errorbar(ts_raw.index, ts_raw[0], fmt='o', color='r')                \n",
    "axs[0,0].errorbar(ts_smooth.index, ts_smooth[0], fmt='o', color='k')\n",
    "axs[0,0].set_ylim(0,8000)\n",
    "axs[0,0].set_title('point 1')\n",
    "if 1 in ts_smooth.columns:\n",
    "    axs[0,1].errorbar(ts_raw.index, ts_raw[1], fmt='o', color='r')                      \n",
    "    axs[0,1].errorbar(ts_smooth.index, ts_smooth[1], fmt='o', color='k')\n",
    "    axs[0,1].set_ylim(0,8000)\n",
    "    axs[0,1].set_title('point 2')\n",
    "if 2 in ts_smooth.columns:\n",
    "    axs[1,0].errorbar(ts_raw.index, ts_raw[2], fmt='o', color='r')                        \n",
    "    axs[1,0].errorbar(ts_smooth.index, ts_smooth[2], fmt='o', color='k')\n",
    "    axs[1,0].set_ylim(0,8000)\n",
    "    axs[1,0].set_title('point 3')\n",
    "if 3 in ts_smooth.columns:\n",
    "    axs[1,1].errorbar(ts_raw.index, ts_raw[3], fmt='o', color='r')                        \n",
    "    axs[1,1].errorbar(ts_smooth.index, ts_smooth[3], fmt='o', color='k')\n",
    "    axs[1,1].set_ylim(0,8000)\n",
    "    axs[1,1].set_title('point 4')\n",
    "fig.suptitle('Smoothed vs Raw {} for {}-{} for sampled coordinates'.format(basic_config['spec_index'],timeseries_params['start_yr'],timeseries_params['end_yr']));"
   ]
  },
  {
   "cell_type": "markdown",
   "id": "bd256491",
   "metadata": {},
   "source": [
    "if saving this notebook as static HTML, \n",
    "need to make an JPEG of the interactive composite with point markers above and post it here \n",
    "(interactive maps from localtileserver will not render with nbconvert currently)\n",
    "delete the image after rendering and reinsert this text"
   ]
  },
  {
   "cell_type": "markdown",
   "id": "05e4c556",
   "metadata": {},
   "source": [
    "## to show one point in more detiail:"
   ]
  },
  {
   "cell_type": "code",
   "execution_count": null,
   "id": "e0f9dceb",
   "metadata": {},
   "outputs": [],
   "source": [
    "fig = plt.figure(figsize=(10, 5))\n",
    "plt.errorbar(ts_raw.index, ts_raw[0], fmt='o', color='g')\n",
    "plt.errorbar(ts_smooth.index, ts_smooth[0], fmt='o', color='k')\n",
    "plt.title('Smoothed vs Raw {} for {}-{} for sampled coordinate'.format(basic_config['spec_index'],timeseries_params['start_yr'],timeseries_params['end_yr']))\n",
    "#plt.ylim(0,7000)\n",
    "plt.show();"
   ]
  },
  {
   "cell_type": "markdown",
   "id": "8a351cfa",
   "metadata": {},
   "source": [
    "## Get phenology variables"
   ]
  },
  {
   "cell_type": "code",
   "execution_count": null,
   "id": "0f566ef9",
   "metadata": {},
   "outputs": [],
   "source": [
    "season = 'wet'\n",
    "if season == 'wet':\n",
    "    phen_bands = ['SOS_wet','EOS_wet','LOS_wet','ROG_wet','ROS_wet']\n",
    "    phen_comp = os.path.join(comp_dir,'{:06d}'.format(int(basic_config['grid_cell']))+'_'+str(basic_config['filter_yr'])+basic_config['spec_index']+'_'+'PhenWet.tif')\n",
    "    if Path(phen_comp).exists():\n",
    "        print('comp already exists')\n",
    "    else:\n",
    "        phen_comp = make_ts_composite(basic_config['grid_cell'], basic_config['index_dir'],comp_dir,basic_config['filter_yr'],timeseries_params['start_mo'],basic_config['spec_index'],phen_bands)"
   ]
  },
  {
   "cell_type": "code",
   "execution_count": null,
   "id": "fe5bd51a",
   "metadata": {},
   "outputs": [],
   "source": [
    "phen_vals = get_values_at_coords(coords, plot_params['inputCRS'], phen_comp, [1,2,3,4,5])\n",
    "print(phen_vals)"
   ]
  },
  {
   "cell_type": "markdown",
   "id": "a465b664",
   "metadata": {},
   "source": [
    "## Make ['Jan','Jun','Nov'] composite to see different crops"
   ]
  },
  {
   "cell_type": "code",
   "execution_count": null,
   "id": "3362ee9c",
   "metadata": {},
   "outputs": [],
   "source": [
    "bands = ['Jan','Jun','Nov']\n",
    "band_name = '{}{}{}.tif'.format(bands[0],bands[1],bands[2])\n",
    "comp_dir = os.path.join(basic_config['smooth_dir'],'{:06d}'.format(basic_config['grid_cell']),'comp')\n",
    "comp2 = ('{}/{:06d}'.format(comp_dir, basic_config['grid_cell'])+'_'+str(basic_config['filter_yr'])+basic_config['spec_index']+'_'+band_name+'2')\n",
    "if Path(comp2).exists():\n",
    "    print('comp already exists')\n",
    "else:\n",
    "    comp2 = make_ts_composite(basic_config['grid_cell'],basic_config['index_dir'],comp_dir,basic_config['filter_yr'],basic_config['spec_index'],bands)"
   ]
  },
  {
   "cell_type": "code",
   "execution_count": null,
   "id": "4f304304",
   "metadata": {},
   "outputs": [],
   "source": [
    "rgb = get_rbg_img(comp2,1)\n",
    "fig = plt.figure(figsize=(18,12))\n",
    "plt.imshow(rgb);"
   ]
  },
  {
   "cell_type": "markdown",
   "id": "c5d6c1cd",
   "metadata": {},
   "source": [
    "# To save an html copy of this notebook with all outputs:"
   ]
  },
  {
   "cell_type": "code",
   "execution_count": null,
   "id": "597227a0",
   "metadata": {},
   "outputs": [],
   "source": [
    "### Run to print output as html\n",
    "\n",
    "out_name = str(basic_config['country']+'2b_ViewTimeSeriesComposite'+'_cell'+str(basic_config['grid_cell'])+'_'+str(basic_config['filter_yr']))\n",
    "!jupyter nbconvert --output-dir='./Outputs' --to html --no-input --ExecutePreprocessor.store_widget_state=True --output=$out_name 2b_ViewTimeSeriesComposite.ipynb"
   ]
  },
  {
   "cell_type": "code",
   "execution_count": null,
   "id": "c60f504c",
   "metadata": {},
   "outputs": [],
   "source": []
  }
 ],
 "metadata": {
  "kernelspec": {
   "display_name": "Python 3 (ipykernel)",
   "language": "python",
   "name": "python3"
  },
  "language_info": {
   "codemirror_mode": {
    "name": "ipython",
    "version": 3
   },
   "file_extension": ".py",
   "mimetype": "text/x-python",
   "name": "python",
   "nbconvert_exporter": "python",
   "pygments_lexer": "ipython3",
   "version": "3.8.15"
  },
  "widgets": {
   "application/vnd.jupyter.widget-state+json": {
    "state": {
     "000c15456d904bd7b0520b01dc862935": {
      "model_module": "jupyter-leaflet",
      "model_module_version": "^0.17",
      "model_name": "LeafletMapStyleModel",
      "state": {
       "_model_module_version": "^0.17"
      }
     },
     "00191f8ab9dc460eb832ed2548aeb8ea": {
      "model_module": "@jupyter-widgets/controls",
      "model_module_version": "1.5.0",
      "model_name": "LabelModel",
      "state": {
       "layout": "IPY_MODEL_30bed4d722c5495e8353a7af95ab8e77",
       "style": "IPY_MODEL_9174ea563e9c4bf8aed065aeda58675e",
       "value": "2: 1461,1105,356"
      }
     },
     "0037e58ba8514373896c00452f601572": {
      "model_module": "@jupyter-widgets/controls",
      "model_module_version": "1.5.0",
      "model_name": "DescriptionStyleModel",
      "state": {
       "description_width": ""
      }
     },
     "00a9fb64365f43098ec6b6bb63d6ce7a": {
      "model_module": "jupyter-leaflet",
      "model_module_version": "^0.17",
      "model_name": "LeafletMapModel",
      "state": {
       "_model_module_version": "^0.17",
       "_view_module_version": "^0.17",
       "bottom": 4819903,
       "center": [
        -25.908297044751805,
        -54.80315208435059
       ],
       "controls": [
        "IPY_MODEL_9bb2a6ad039443e19ca17349e8638197",
        "IPY_MODEL_0a5dd0b26e4845ee82c029ec39bdeb87"
       ],
       "default_style": "IPY_MODEL_47b280486ba24a7e946d4859196e366f",
       "dragging_style": "IPY_MODEL_48464d41fe614a92af700e279a20a005",
       "east": -54.782123565673835,
       "fullscreen": false,
       "interpolation": "bilinear",
       "layers": [
        "IPY_MODEL_232da3f13ade4d1eab9f4801f2c6ae09",
        "IPY_MODEL_2c8addd67793443085a4eea7dcb1b163",
        "IPY_MODEL_52d14214fa394a1d99bcdd1f6cc54c41",
        "IPY_MODEL_d994baed05844f3b9a60f93d71de3145",
        "IPY_MODEL_ba0c1615d75c47f8965a5a84f9296169",
        "IPY_MODEL_91d028fdbc6d48a78d68967d9d6d0fd9"
       ],
       "layout": "IPY_MODEL_ce659ea141b14e1594a2305d221e0396",
       "left": 2916808,
       "modisdate": "2023-07-17",
       "north": -25.900576368746403,
       "options": [
        "bounce_at_zoom_limits",
        "box_zoom",
        "center",
        "close_popup_on_click",
        "double_click_zoom",
        "dragging",
        "fullscreen",
        "inertia",
        "inertia_deceleration",
        "inertia_max_speed",
        "interpolation",
        "keyboard",
        "keyboard_pan_offset",
        "keyboard_zoom_offset",
        "max_zoom",
        "min_zoom",
        "prefer_canvas",
        "scroll_wheel_zoom",
        "tap",
        "tap_tolerance",
        "touch_zoom",
        "world_copy_jump",
        "zoom",
        "zoom_animation_threshold",
        "zoom_delta",
        "zoom_snap"
       ],
       "prefer_canvas": false,
       "right": 2917788,
       "south": -25.91601721542732,
       "style": "IPY_MODEL_47b280486ba24a7e946d4859196e366f",
       "top": 4819503,
       "west": -54.82418060302735,
       "window_url": "http://localhost:8889/notebooks/Jupyter/LUCinSA_helpers/LUCinSA_helpers/notebooks/2b_ViewTimeSeriesComposite.ipynb#",
       "zoom": 15
      }
     },
     "0181a427f013480c8a88b52ae498ad57": {
      "model_module": "jupyter-leaflet",
      "model_module_version": "^0.17",
      "model_name": "LeafletMapModel",
      "state": {
       "_model_module_version": "^0.17",
       "_view_module_version": "^0.17",
       "center": [
        -25.895892099924403,
        -54.81781789201834
       ],
       "controls": [
        "IPY_MODEL_5145b7e0548f4b7ba8a60113e5b5cdf8",
        "IPY_MODEL_22e28413219d441dbf5ca8aa28c79f35"
       ],
       "default_style": "IPY_MODEL_f16d31f7d672483ebd075cdb4bc73584",
       "dragging_style": "IPY_MODEL_f5172b6b447a4f1ba4ee21b1553320e8",
       "fullscreen": false,
       "interpolation": "bilinear",
       "layers": [
        "IPY_MODEL_659f7958ca1d4000a003cecf63b6aba1"
       ],
       "layout": "IPY_MODEL_f39bc8f4452c474e9f37de374051bcc4",
       "modisdate": "2023-06-18",
       "options": [
        "bounce_at_zoom_limits",
        "box_zoom",
        "center",
        "close_popup_on_click",
        "double_click_zoom",
        "dragging",
        "fullscreen",
        "inertia",
        "inertia_deceleration",
        "inertia_max_speed",
        "interpolation",
        "keyboard",
        "keyboard_pan_offset",
        "keyboard_zoom_offset",
        "max_zoom",
        "min_zoom",
        "prefer_canvas",
        "scroll_wheel_zoom",
        "tap",
        "tap_tolerance",
        "touch_zoom",
        "world_copy_jump",
        "zoom",
        "zoom_animation_threshold",
        "zoom_delta",
        "zoom_snap"
       ],
       "prefer_canvas": false,
       "style": "IPY_MODEL_7ec1f3b3b6644e8b9dd48b5c2c0d00f2",
       "window_url": "http://localhost:8889/notebooks/Jupyter/LUCinSA_helpers/LUCinSA_helpers/notebooks/2b_ViewTimeSeriesComposite.ipynb"
      }
     },
     "01a50d0492aa49428dcde9c634495bf0": {
      "model_module": "@jupyter-widgets/base",
      "model_module_version": "1.2.0",
      "model_name": "LayoutModel",
      "state": {}
     },
     "01cbb96a9a16453696efa62ac02dfd80": {
      "model_module": "@jupyter-widgets/controls",
      "model_module_version": "1.5.0",
      "model_name": "LabelModel",
      "state": {
       "layout": "IPY_MODEL_f43ea5339de442a8a175e3529f9018db",
       "style": "IPY_MODEL_9c59845b8fa441f89e381757b28e788b",
       "value": "[-25.898337921464023, -54.81286454130896]"
      }
     },
     "01ea022cd42d48d6946cc0f6ed1cf2e2": {
      "model_module": "@jupyter-widgets/controls",
      "model_module_version": "1.5.0",
      "model_name": "LabelModel",
      "state": {
       "layout": "IPY_MODEL_8a102476049840689968903cf7c03d22",
       "style": "IPY_MODEL_fd907e8623ea46ab827a6c26ff5d878d",
       "value": "3: 7337/1181/6156"
      }
     },
     "02703a6dc4384a7bb04de98fc6a47ab9": {
      "model_module": "@jupyter-widgets/controls",
      "model_module_version": "1.5.0",
      "model_name": "DescriptionStyleModel",
      "state": {
       "description_width": ""
      }
     },
     "02ad071786a74d87903917e789b724f7": {
      "model_module": "jupyter-leaflet",
      "model_module_version": "^0.17",
      "model_name": "LeafletTileLayerModel",
      "state": {
       "_model_module_version": "^0.17",
       "_view_module_version": "^0.17",
       "attribution": "Tiles &copy; Esri &mdash; Source: Esri, i-cubed, USDA, USGS, AEX, GeoEye, Getmapping, Aerogrid, IGN, IGP, UPR-EGP, and the GIS User Community",
       "base": true,
       "min_zoom": 1,
       "name": "Esri.WorldImagery",
       "options": [
        "attribution",
        "bounds",
        "detect_retina",
        "max_native_zoom",
        "max_zoom",
        "min_native_zoom",
        "min_zoom",
        "no_wrap",
        "tile_size",
        "tms",
        "zoom_offset"
       ],
       "url": "https://server.arcgisonline.com/ArcGIS/rest/services/World_Imagery/MapServer/tile/{z}/{y}/{x}"
      }
     },
     "02c34b4ced524d2786cdc295063802be": {
      "model_module": "@jupyter-widgets/base",
      "model_module_version": "1.2.0",
      "model_name": "LayoutModel",
      "state": {}
     },
     "02d190594cc14f34a878470560537bbb": {
      "model_module": "jupyter-leaflet",
      "model_module_version": "^0.17",
      "model_name": "LeafletAttributionControlModel",
      "state": {
       "_model_module_version": "^0.17",
       "_view_module_version": "^0.17",
       "options": [
        "position",
        "prefix"
       ],
       "position": "bottomright",
       "prefix": "ipyleaflet"
      }
     },
     "02dd855bcd744927b0c5cbb9adbe3fca": {
      "model_module": "@jupyter-widgets/base",
      "model_module_version": "1.2.0",
      "model_name": "LayoutModel",
      "state": {}
     },
     "03e8bf49d90e4c3abef7db8507cd9d6d": {
      "model_module": "@jupyter-widgets/base",
      "model_module_version": "1.2.0",
      "model_name": "LayoutModel",
      "state": {}
     },
     "046dba8f55c84c29b7c5c3464b1a2032": {
      "model_module": "@jupyter-widgets/controls",
      "model_module_version": "1.5.0",
      "model_name": "DescriptionStyleModel",
      "state": {
       "description_width": ""
      }
     },
     "0568ec6fe97d47b5ac2db1db724a5c5a": {
      "model_module": "jupyter-leaflet",
      "model_module_version": "^0.17",
      "model_name": "LeafletTileLayerModel",
      "state": {
       "_model_module_version": "^0.17",
       "_view_module_version": "^0.17",
       "attribution": "Raster file served by <a href='https://github.com/banesullivan/localtileserver' target='_blank'>localtileserver</a>.",
       "bounds": [
        [
         -25.922538389171017,
         -54.83163201095545
        ],
        [
         -25.879733520251676,
         -54.76869676334894
        ]
       ],
       "max_native_zoom": 15,
       "max_zoom": 15,
       "options": [
        "attribution",
        "bounds",
        "detect_retina",
        "max_native_zoom",
        "max_zoom",
        "min_native_zoom",
        "min_zoom",
        "no_wrap",
        "tile_size",
        "tms",
        "zoom_offset"
       ],
       "show_loading": true,
       "url": "http://127.0.0.1:5554/api/tiles/{z}/{x}/{y}.png?&filename=%2Fhome%2Fklwalker%2Fdata%2Ftmp%2F004057_2021evi2_MinMaxAmp.tif&band.0=3&band.1=2&band.2=1&n_colors=255&projection=EPSG%3A3857"
      }
     },
     "05fa046ba989475db8369cc845834b54": {
      "model_module": "jupyter-leaflet",
      "model_module_version": "^0.17",
      "model_name": "LeafletPopupModel",
      "state": {
       "_model_module_version": "^0.17",
       "_view_module_version": "^0.17",
       "auto_close": false,
       "auto_pan": true,
       "auto_pan_padding": [
        5,
        5
       ],
       "auto_pan_padding_bottom_right": null,
       "auto_pan_padding_top_left": null,
       "close_button": false,
       "close_on_escape_key": true,
       "keep_in_view": false,
       "location": [
        -25.89929597486029,
        -54.8098740563728
       ],
       "options": [
        "auto_close",
        "auto_pan",
        "auto_pan_padding",
        "auto_pan_padding_bottom_right",
        "auto_pan_padding_top_left",
        "close_button",
        "close_on_escape_key",
        "keep_in_view",
        "max_height",
        "max_width",
        "min_width"
       ]
      }
     },
     "05fbf9389aad4e07a5d438c5bb540b22": {
      "model_module": "@jupyter-widgets/base",
      "model_module_version": "1.2.0",
      "model_name": "LayoutModel",
      "state": {}
     },
     "063a746e8687490d9a9a31b2923c8dca": {
      "model_module": "jupyter-leaflet",
      "model_module_version": "^0.17",
      "model_name": "LeafletAttributionControlModel",
      "state": {
       "_model_module_version": "^0.17",
       "_view_module_version": "^0.17",
       "options": [
        "position",
        "prefix"
       ],
       "position": "bottomright",
       "prefix": "ipyleaflet"
      }
     },
     "068d296581c448dcae0850b8834bc9f5": {
      "model_module": "jupyter-leaflet",
      "model_module_version": "^0.17",
      "model_name": "LeafletPopupModel",
      "state": {
       "_model_module_version": "^0.17",
       "_view_module_version": "^0.17",
       "auto_close": false,
       "auto_pan": true,
       "auto_pan_padding": [
        5,
        5
       ],
       "auto_pan_padding_bottom_right": null,
       "auto_pan_padding_top_left": null,
       "close_button": false,
       "close_on_escape_key": false,
       "keep_in_view": false,
       "location": [
        -25.90477647869274,
        -54.807213305030025
       ],
       "options": [
        "auto_close",
        "auto_pan",
        "auto_pan_padding",
        "auto_pan_padding_bottom_right",
        "auto_pan_padding_top_left",
        "close_button",
        "close_on_escape_key",
        "keep_in_view",
        "max_height",
        "max_width",
        "min_width"
       ]
      }
     },
     "069cbfd91d6249e48c0cc07716557991": {
      "model_module": "jupyter-leaflet",
      "model_module_version": "^0.17",
      "model_name": "LeafletAttributionControlModel",
      "state": {
       "_model_module_version": "^0.17",
       "_view_module_version": "^0.17",
       "options": [
        "position",
        "prefix"
       ],
       "position": "bottomright",
       "prefix": "ipyleaflet"
      }
     },
     "06f3a25aab514e22a4452f299c64d1a8": {
      "model_module": "@jupyter-widgets/controls",
      "model_module_version": "1.5.0",
      "model_name": "LabelModel",
      "state": {
       "layout": "IPY_MODEL_84e67c72df8d4f5fb9d3201b7134395b",
       "style": "IPY_MODEL_bcfecbb2e9984185acf145011a0a83c5",
       "value": "1"
      }
     },
     "079f4a92fda9435ea756927e59889d7d": {
      "model_module": "@jupyter-widgets/base",
      "model_module_version": "1.2.0",
      "model_name": "LayoutModel",
      "state": {}
     },
     "08502ed74fca45c787fe40f0a8daf247": {
      "model_module": "jupyter-leaflet",
      "model_module_version": "^0.17",
      "model_name": "LeafletMarkerModel",
      "state": {
       "_model_module_version": "^0.17",
       "_view_module_version": "^0.17",
       "location": [
        -25.898677004544265,
        -54.811161516699954
       ],
       "options": [
        "alt",
        "draggable",
        "keyboard",
        "rise_offset",
        "rise_on_hover",
        "rotation_angle",
        "rotation_origin",
        "title",
        "z_index_offset"
       ],
       "popup": "IPY_MODEL_f759d1d913a74b1b91705fb4db2f88c0"
      }
     },
     "0878061eb89b4e6cbe45650c64d28aaa": {
      "model_module": "jupyter-leaflet",
      "model_module_version": "^0.17",
      "model_name": "LeafletMarkerModel",
      "state": {
       "_model_module_version": "^0.17",
       "_view_module_version": "^0.17",
       "location": [
        -25.898337921464023,
        -54.81286454130896
       ],
       "options": [
        "alt",
        "draggable",
        "keyboard",
        "rise_offset",
        "rise_on_hover",
        "rotation_angle",
        "rotation_origin",
        "title",
        "z_index_offset"
       ],
       "popup": "IPY_MODEL_615b40d4fe324dbf903fbd9d8fa72c73"
      }
     },
     "08a4757f82744df8bb542d6c81cd5701": {
      "model_module": "@jupyter-widgets/controls",
      "model_module_version": "1.5.0",
      "model_name": "LabelModel",
      "state": {
       "layout": "IPY_MODEL_f63a88b4b6b242fc85e34f4b90952cba",
       "style": "IPY_MODEL_cbe8f081d1b74ce787623429bd31d1d1",
       "value": "1"
      }
     },
     "08b5823d5b8843e7b2527df2f9154570": {
      "model_module": "jupyter-leaflet",
      "model_module_version": "^0.17",
      "model_name": "LeafletPopupModel",
      "state": {
       "_model_module_version": "^0.17",
       "_view_module_version": "^0.17",
       "auto_close": false,
       "auto_pan": true,
       "auto_pan_padding": [
        5,
        5
       ],
       "auto_pan_padding_bottom_right": null,
       "auto_pan_padding_top_left": null,
       "close_button": false,
       "close_on_escape_key": false,
       "keep_in_view": false,
       "location": [
        -25.89983515679818,
        -54.824722765479244
       ],
       "options": [
        "auto_close",
        "auto_pan",
        "auto_pan_padding",
        "auto_pan_padding_bottom_right",
        "auto_pan_padding_top_left",
        "close_button",
        "close_on_escape_key",
        "keep_in_view",
        "max_height",
        "max_width",
        "min_width"
       ]
      }
     },
     "09131fabf3ee46d9a21a31803d91fba8": {
      "model_module": "jupyter-leaflet",
      "model_module_version": "^0.17",
      "model_name": "LeafletMapStyleModel",
      "state": {
       "_model_module_version": "^0.17",
       "cursor": "move"
      }
     },
     "09a058a847fd48b6b9bd9c1faaefd1e2": {
      "model_module": "@jupyter-widgets/base",
      "model_module_version": "1.2.0",
      "model_name": "LayoutModel",
      "state": {}
     },
     "0a5dd0b26e4845ee82c029ec39bdeb87": {
      "model_module": "jupyter-leaflet",
      "model_module_version": "^0.17",
      "model_name": "LeafletAttributionControlModel",
      "state": {
       "_model_module_version": "^0.17",
       "_view_module_version": "^0.17",
       "options": [
        "position",
        "prefix"
       ],
       "position": "bottomright",
       "prefix": "ipyleaflet"
      }
     },
     "0ad3fbed13a5456f882a1002c4c5eaa7": {
      "model_module": "jupyter-leaflet",
      "model_module_version": "^0.17",
      "model_name": "LeafletAttributionControlModel",
      "state": {
       "_model_module_version": "^0.17",
       "_view_module_version": "^0.17",
       "options": [
        "position",
        "prefix"
       ],
       "position": "bottomright",
       "prefix": "ipyleaflet"
      }
     },
     "0b03ca3b5551418a85c2676e056dc674": {
      "model_module": "@jupyter-widgets/controls",
      "model_module_version": "1.5.0",
      "model_name": "DescriptionStyleModel",
      "state": {
       "description_width": ""
      }
     },
     "0b08f8e4217a45f1b27107b4d41da1c4": {
      "model_module": "@jupyter-widgets/controls",
      "model_module_version": "1.5.0",
      "model_name": "DescriptionStyleModel",
      "state": {
       "description_width": ""
      }
     },
     "0ba3d6d35eaa429a94482ed34729c4fa": {
      "model_module": "jupyter-leaflet",
      "model_module_version": "^0.17",
      "model_name": "LeafletMapStyleModel",
      "state": {
       "_model_module_version": "^0.17"
      }
     },
     "0c4ceb3a03be4128ab75984f2c0cd346": {
      "model_module": "jupyter-leaflet",
      "model_module_version": "^0.17",
      "model_name": "LeafletAttributionControlModel",
      "state": {
       "_model_module_version": "^0.17",
       "_view_module_version": "^0.17",
       "options": [
        "position",
        "prefix"
       ],
       "position": "bottomright",
       "prefix": "ipyleaflet"
      }
     },
     "0ca36a8aa62642549dcfd00c49ef5c6a": {
      "model_module": "jupyter-leaflet",
      "model_module_version": "^0.17",
      "model_name": "LeafletMapStyleModel",
      "state": {
       "_model_module_version": "^0.17"
      }
     },
     "0ca93c41a3f94a58b58e4bbcd93bcee8": {
      "model_module": "@jupyter-widgets/controls",
      "model_module_version": "1.5.0",
      "model_name": "DescriptionStyleModel",
      "state": {
       "description_width": ""
      }
     },
     "0da0310cdf65430886ac865efe42ff7c": {
      "model_module": "jupyter-leaflet",
      "model_module_version": "^0.17",
      "model_name": "LeafletMarkerModel",
      "state": {
       "_model_module_version": "^0.17",
       "_view_module_version": "^0.17",
       "location": [
        -25.89983515679818,
        -54.824722765479244
       ],
       "options": [
        "alt",
        "draggable",
        "keyboard",
        "rise_offset",
        "rise_on_hover",
        "rotation_angle",
        "rotation_origin",
        "title",
        "z_index_offset"
       ],
       "popup": "IPY_MODEL_94693b11373d4b70992e728a7d2b4e59"
      }
     },
     "0e2fb69147f849b6a35134a1b17cc70c": {
      "model_module": "jupyter-leaflet",
      "model_module_version": "^0.17",
      "model_name": "LeafletPopupModel",
      "state": {
       "_model_module_version": "^0.17",
       "_view_module_version": "^0.17",
       "auto_close": false,
       "auto_pan": true,
       "auto_pan_padding": [
        5,
        5
       ],
       "auto_pan_padding_bottom_right": null,
       "auto_pan_padding_top_left": null,
       "close_button": false,
       "close_on_escape_key": false,
       "keep_in_view": false,
       "location": [
        -25.899110026448305,
        -54.809002160327516
       ],
       "options": [
        "auto_close",
        "auto_pan",
        "auto_pan_padding",
        "auto_pan_padding_bottom_right",
        "auto_pan_padding_top_left",
        "close_button",
        "close_on_escape_key",
        "keep_in_view",
        "max_height",
        "max_width",
        "min_width"
       ]
      }
     },
     "0f23130b6c7c4f27b303c1e0f716b5ff": {
      "model_module": "jupyter-leaflet",
      "model_module_version": "^0.17",
      "model_name": "LeafletMarkerModel",
      "state": {
       "_model_module_version": "^0.17",
       "_view_module_version": "^0.17",
       "location": [
        -25.898422853730835,
        -54.81307911803015
       ],
       "options": [
        "alt",
        "draggable",
        "keyboard",
        "rise_offset",
        "rise_on_hover",
        "rotation_angle",
        "rotation_origin",
        "title",
        "z_index_offset"
       ],
       "popup": "IPY_MODEL_b73abb4536bb4eee87bf8d9ca6229920"
      }
     },
     "0f98947a561f4d4b96b71220fd10a2c1": {
      "model_module": "jupyter-leaflet",
      "model_module_version": "^0.17",
      "model_name": "LeafletMarkerModel",
      "state": {
       "_model_module_version": "^0.17",
       "_view_module_version": "^0.17",
       "location": [
        -25.898422853730835,
        -54.81307911803015
       ],
       "options": [
        "alt",
        "draggable",
        "keyboard",
        "rise_offset",
        "rise_on_hover",
        "rotation_angle",
        "rotation_origin",
        "title",
        "z_index_offset"
       ],
       "popup": "IPY_MODEL_62c49e0eb9b5493782c7cad5610f97a4"
      }
     },
     "1053401e529b4f92af6f61c1016aade9": {
      "model_module": "jupyter-leaflet",
      "model_module_version": "^0.17",
      "model_name": "LeafletMapModel",
      "state": {
       "_model_module_version": "^0.17",
       "_view_module_version": "^0.17",
       "center": [
        -25.895982326781798,
        -54.81765747070313
       ],
       "controls": [
        "IPY_MODEL_cde32aa33d834648bed2cd559c53790c",
        "IPY_MODEL_02d190594cc14f34a878470560537bbb"
       ],
       "default_style": "IPY_MODEL_5272aa59232d422b8d05cdad5f46ce46",
       "dragging_style": "IPY_MODEL_5e55f334c22f4af4b0e9eaa9b4879266",
       "east": null,
       "fullscreen": false,
       "interpolation": "bilinear",
       "layers": [
        "IPY_MODEL_54ad20b18e1440ee8b6cc5a030e52f67",
        "IPY_MODEL_65accf90fd244fb9a35c8e5bf9c78e43",
        "IPY_MODEL_5ebe5a60714a49a48f071cb40c1bdb1b",
        "IPY_MODEL_635b02adf1454bd497e7b12a0440c5ca",
        "IPY_MODEL_939984383dc24117a2091b6148213289",
        "IPY_MODEL_6a5eb7df03fd46f2a3c05079d345c830",
        "IPY_MODEL_999a7363ff6a4b89be7a48f9e781a956",
        "IPY_MODEL_9643cfb549c2436a97d62d1f870d5aa7",
        "IPY_MODEL_5765802a30904f2d8549d597f3645843",
        "IPY_MODEL_ce51f009295045e788cce194cb52ad6b"
       ],
       "layout": "IPY_MODEL_67c363fb2e204c219a5e895648dd8069",
       "modisdate": "2023-06-18",
       "north": -90,
       "options": [
        "bounce_at_zoom_limits",
        "box_zoom",
        "center",
        "close_popup_on_click",
        "double_click_zoom",
        "dragging",
        "fullscreen",
        "inertia",
        "inertia_deceleration",
        "inertia_max_speed",
        "interpolation",
        "keyboard",
        "keyboard_pan_offset",
        "keyboard_zoom_offset",
        "max_zoom",
        "min_zoom",
        "prefer_canvas",
        "scroll_wheel_zoom",
        "tap",
        "tap_tolerance",
        "touch_zoom",
        "world_copy_jump",
        "zoom",
        "zoom_animation_threshold",
        "zoom_delta",
        "zoom_snap"
       ],
       "prefer_canvas": false,
       "south": 90,
       "style": "IPY_MODEL_5272aa59232d422b8d05cdad5f46ce46",
       "west": null,
       "window_url": "http://localhost:8889/notebooks/Jupyter/LUCinSA_helpers/LUCinSA_helpers/notebooks/2b_ViewTimeSeriesComposite.ipynb",
       "zoom": 14
      }
     },
     "10ee01b7dd674c60bd6f0cf25ff7cf62": {
      "model_module": "jupyter-leaflet",
      "model_module_version": "^0.17",
      "model_name": "LeafletTileLayerModel",
      "state": {
       "_model_module_version": "^0.17",
       "_view_module_version": "^0.17",
       "attribution": "Tiles &copy; Esri &mdash; Source: Esri, i-cubed, USDA, USGS, AEX, GeoEye, Getmapping, Aerogrid, IGN, IGP, UPR-EGP, and the GIS User Community",
       "base": true,
       "min_zoom": 1,
       "name": "Esri.WorldImagery",
       "options": [
        "attribution",
        "bounds",
        "detect_retina",
        "max_native_zoom",
        "max_zoom",
        "min_native_zoom",
        "min_zoom",
        "no_wrap",
        "tile_size",
        "tms",
        "zoom_offset"
       ],
       "url": "https://server.arcgisonline.com/ArcGIS/rest/services/World_Imagery/MapServer/tile/{z}/{y}/{x}"
      }
     },
     "11a4fa097b284f2191155321d4b8b7c4": {
      "model_module": "jupyter-leaflet",
      "model_module_version": "^0.17",
      "model_name": "LeafletMarkerModel",
      "state": {
       "_model_module_version": "^0.17",
       "_view_module_version": "^0.17",
       "location": [
        -25.899079142817186,
        -54.809045075671754
       ],
       "options": [
        "alt",
        "draggable",
        "keyboard",
        "rise_offset",
        "rise_on_hover",
        "rotation_angle",
        "rotation_origin",
        "title",
        "z_index_offset"
       ],
       "popup": "IPY_MODEL_00191f8ab9dc460eb832ed2548aeb8ea"
      }
     },
     "11baab33ce354c04aeedf1c5872b6dda": {
      "model_module": "jupyter-leaflet",
      "model_module_version": "^0.17",
      "model_name": "LeafletMarkerModel",
      "state": {
       "_model_module_version": "^0.17",
       "_view_module_version": "^0.17",
       "location": [
        -25.895342749344977,
        -54.79734277585522
       ],
       "options": [
        "alt",
        "draggable",
        "keyboard",
        "rise_offset",
        "rise_on_hover",
        "rotation_angle",
        "rotation_origin",
        "title",
        "z_index_offset"
       ],
       "popup": "IPY_MODEL_7e0a0f4b7f44478db37b2f43a8d422be"
      }
     },
     "11eee0c5841c4533b96d01767be870c7": {
      "model_module": "jupyter-leaflet",
      "model_module_version": "^0.17",
      "model_name": "LeafletMapModel",
      "state": {
       "_model_module_version": "^0.17",
       "_view_module_version": "^0.17",
       "center": [
        -25.895892099924403,
        -54.81781789201834
       ],
       "controls": [
        "IPY_MODEL_cf40e8fe68e44ba6ab2240da844e99ce",
        "IPY_MODEL_696530d353d94b43873eabd898dcb770"
       ],
       "default_style": "IPY_MODEL_bf95002ee6344123a3a5d250b9326e2c",
       "dragging_style": "IPY_MODEL_f02bdca66299439a9a1ede0a940334d1",
       "fullscreen": false,
       "interpolation": "bilinear",
       "layers": [
        "IPY_MODEL_61ce77d35ad94594964bb7b8009543a6"
       ],
       "layout": "IPY_MODEL_cececf31172b4f85b3a7114a6e9dc62f",
       "modisdate": "2023-06-18",
       "options": [
        "bounce_at_zoom_limits",
        "box_zoom",
        "center",
        "close_popup_on_click",
        "double_click_zoom",
        "dragging",
        "fullscreen",
        "inertia",
        "inertia_deceleration",
        "inertia_max_speed",
        "interpolation",
        "keyboard",
        "keyboard_pan_offset",
        "keyboard_zoom_offset",
        "max_zoom",
        "min_zoom",
        "prefer_canvas",
        "scroll_wheel_zoom",
        "tap",
        "tap_tolerance",
        "touch_zoom",
        "world_copy_jump",
        "zoom",
        "zoom_animation_threshold",
        "zoom_delta",
        "zoom_snap"
       ],
       "prefer_canvas": false,
       "style": "IPY_MODEL_53a5353b505b4b63ba54c32c12a223d6",
       "window_url": "http://localhost:8889/notebooks/Jupyter/LUCinSA_helpers/LUCinSA_helpers/notebooks/2b_ViewTimeSeriesComposite.ipynb"
      }
     },
     "121f8b1439d84991b6d4a2b81063e26e": {
      "model_module": "jupyter-leaflet",
      "model_module_version": "^0.17",
      "model_name": "LeafletMarkerModel",
      "state": {
       "_model_module_version": "^0.17",
       "_view_module_version": "^0.17",
       "location": [
        -25.899079142817186,
        -54.809045075671754
       ],
       "options": [
        "alt",
        "draggable",
        "keyboard",
        "rise_offset",
        "rise_on_hover",
        "rotation_angle",
        "rotation_origin",
        "title",
        "z_index_offset"
       ],
       "popup": "IPY_MODEL_827b63da07834de1a63ee1e828076d3a"
      }
     },
     "12560babad3c4198b7179e9c2d7383b9": {
      "model_module": "@jupyter-widgets/base",
      "model_module_version": "1.2.0",
      "model_name": "LayoutModel",
      "state": {}
     },
     "12a0ba71b7e24b94b1b155f69e2f595e": {
      "model_module": "jupyter-leaflet",
      "model_module_version": "^0.17",
      "model_name": "LeafletMapModel",
      "state": {
       "_model_module_version": "^0.17",
       "_view_module_version": "^0.17",
       "center": [
        -25.895982326781798,
        -54.81765747070313
       ],
       "controls": [
        "IPY_MODEL_f37eab4ac7b54563967f916d4c2ee7f4",
        "IPY_MODEL_673cacf1c5e2461f802be02432308959"
       ],
       "default_style": "IPY_MODEL_80b3379e4ed740e18970826ef68990e3",
       "dragging_style": "IPY_MODEL_6ac7a3e01a8145c2adedbbf8e2d594c9",
       "east": null,
       "fullscreen": false,
       "interpolation": "bilinear",
       "layers": [
        "IPY_MODEL_10ee01b7dd674c60bd6f0cf25ff7cf62",
        "IPY_MODEL_61b7d2aefcd749fb9886bcf215466718",
        "IPY_MODEL_32ed015f6b934853862217f8eeaacc26",
        "IPY_MODEL_34406a23c72b420788fc56533f238ea3"
       ],
       "layout": "IPY_MODEL_a9f7e3565ba546e08a95b8017d777bcf",
       "modisdate": "2023-06-18",
       "north": -90,
       "options": [
        "bounce_at_zoom_limits",
        "box_zoom",
        "center",
        "close_popup_on_click",
        "double_click_zoom",
        "dragging",
        "fullscreen",
        "inertia",
        "inertia_deceleration",
        "inertia_max_speed",
        "interpolation",
        "keyboard",
        "keyboard_pan_offset",
        "keyboard_zoom_offset",
        "max_zoom",
        "min_zoom",
        "prefer_canvas",
        "scroll_wheel_zoom",
        "tap",
        "tap_tolerance",
        "touch_zoom",
        "world_copy_jump",
        "zoom",
        "zoom_animation_threshold",
        "zoom_delta",
        "zoom_snap"
       ],
       "prefer_canvas": false,
       "south": 90,
       "style": "IPY_MODEL_80b3379e4ed740e18970826ef68990e3",
       "west": null,
       "window_url": "http://localhost:8889/notebooks/Jupyter/LUCinSA_helpers/LUCinSA_helpers/notebooks/2b_ViewTimeSeriesComposite.ipynb",
       "zoom": 14
      }
     },
     "12f5da079c2b459fa1dd49fc6c3f1808": {
      "model_module": "jupyter-leaflet",
      "model_module_version": "^0.17",
      "model_name": "LeafletMarkerModel",
      "state": {
       "_model_module_version": "^0.17",
       "_view_module_version": "^0.17",
       "location": [
        -25.898422853730835,
        -54.81307911803015
       ],
       "options": [
        "alt",
        "draggable",
        "keyboard",
        "rise_offset",
        "rise_on_hover",
        "rotation_angle",
        "rotation_origin",
        "title",
        "z_index_offset"
       ]
      }
     },
     "13d0ea2ce33e4d85bf3485c84273e3ba": {
      "model_module": "jupyter-leaflet",
      "model_module_version": "^0.17",
      "model_name": "LeafletMapStyleModel",
      "state": {
       "_model_module_version": "^0.17"
      }
     },
     "13e77164d987459baaa53b310968e709": {
      "model_module": "@jupyter-widgets/base",
      "model_module_version": "1.2.0",
      "model_name": "LayoutModel",
      "state": {}
     },
     "13f9347f465d4fdf90868c64691a6487": {
      "model_module": "jupyter-leaflet",
      "model_module_version": "^0.17",
      "model_name": "LeafletMapStyleModel",
      "state": {
       "_model_module_version": "^0.17"
      }
     },
     "1410e7752792494c9b9c906ba856948e": {
      "model_module": "@jupyter-widgets/controls",
      "model_module_version": "1.5.0",
      "model_name": "DescriptionStyleModel",
      "state": {
       "description_width": ""
      }
     },
     "144680716f3148548fea61f8010354a4": {
      "model_module": "@jupyter-widgets/base",
      "model_module_version": "1.2.0",
      "model_name": "LayoutModel",
      "state": {}
     },
     "149bae33fd9c40e99a090f94583b9da3": {
      "model_module": "jupyter-leaflet",
      "model_module_version": "^0.17",
      "model_name": "LeafletPopupModel",
      "state": {
       "_model_module_version": "^0.17",
       "_view_module_version": "^0.17",
       "auto_close": false,
       "auto_pan": true,
       "auto_pan_padding": [
        5,
        5
       ],
       "auto_pan_padding_bottom_right": null,
       "auto_pan_padding_top_left": null,
       "close_button": false,
       "close_on_escape_key": false,
       "keep_in_view": false,
       "location": [
        -25.898677004544265,
        -54.811161516699954
       ],
       "options": [
        "auto_close",
        "auto_pan",
        "auto_pan_padding",
        "auto_pan_padding_bottom_right",
        "auto_pan_padding_top_left",
        "close_button",
        "close_on_escape_key",
        "keep_in_view",
        "max_height",
        "max_width",
        "min_width"
       ]
      }
     },
     "14c78e2f6ae8489388b1413541ba6367": {
      "model_module": "jupyter-leaflet",
      "model_module_version": "^0.17",
      "model_name": "LeafletMarkerModel",
      "state": {
       "_model_module_version": "^0.17",
       "_view_module_version": "^0.17",
       "location": [
        -25.898647407328127,
        -54.81184816220777
       ],
       "options": [
        "alt",
        "draggable",
        "keyboard",
        "rise_offset",
        "rise_on_hover",
        "rotation_angle",
        "rotation_origin",
        "title",
        "z_index_offset"
       ],
       "popup": "IPY_MODEL_63fe448bd61b48c18d84c6dab16df596"
      }
     },
     "1567635322be4b3899a77dffb127c836": {
      "model_module": "@jupyter-widgets/base",
      "model_module_version": "1.2.0",
      "model_name": "LayoutModel",
      "state": {}
     },
     "15aa627431394b0a9c3d1853f373c61a": {
      "model_module": "jupyter-leaflet",
      "model_module_version": "^0.17",
      "model_name": "LeafletMarkerModel",
      "state": {
       "_model_module_version": "^0.17",
       "_view_module_version": "^0.17",
       "location": [
        -25.899110026448305,
        -54.809002160327516
       ],
       "options": [
        "alt",
        "draggable",
        "keyboard",
        "rise_offset",
        "rise_on_hover",
        "rotation_angle",
        "rotation_origin",
        "title",
        "z_index_offset"
       ],
       "popup": "IPY_MODEL_0e2fb69147f849b6a35134a1b17cc70c"
      }
     },
     "16206cf25e624af1a60062674c5d92b2": {
      "model_module": "jupyter-leaflet",
      "model_module_version": "^0.17",
      "model_name": "LeafletMapStyleModel",
      "state": {
       "_model_module_version": "^0.17"
      }
     },
     "165bce2705cc425bbcddcd79eda45579": {
      "model_module": "@jupyter-widgets/base",
      "model_module_version": "1.2.0",
      "model_name": "LayoutModel",
      "state": {}
     },
     "1759069d747740d7b2100899d5b12c09": {
      "model_module": "@jupyter-widgets/controls",
      "model_module_version": "1.5.0",
      "model_name": "LabelModel",
      "state": {
       "layout": "IPY_MODEL_59e5bbe154b74709bb3e809320bb30bb",
       "style": "IPY_MODEL_c13da044dd9b4b5b9bd91ffa90c02876",
       "value": "2: 1404/1084/320"
      }
     },
     "17b0653be3364771a158e0e3225f1c41": {
      "model_module": "@jupyter-widgets/controls",
      "model_module_version": "1.5.0",
      "model_name": "DescriptionStyleModel",
      "state": {
       "description_width": ""
      }
     },
     "17fdd10cf6994168a76f6a63cf6409df": {
      "model_module": "@jupyter-widgets/controls",
      "model_module_version": "1.5.0",
      "model_name": "LabelModel",
      "state": {
       "layout": "IPY_MODEL_18c8dcd9f8d54d90bc6b9ef131857a87",
       "style": "IPY_MODEL_5de868f5475644739d99b9afc10d191b",
       "value": "[-25.90021026732194, -54.80325150419959]"
      }
     },
     "187e54d2e89840a58b2e8f9d76dd1c75": {
      "model_module": "jupyter-leaflet",
      "model_module_version": "^0.17",
      "model_name": "LeafletZoomControlModel",
      "state": {
       "_model_module_version": "^0.17",
       "_view_module_version": "^0.17",
       "options": [
        "position",
        "zoom_in_text",
        "zoom_in_title",
        "zoom_out_text",
        "zoom_out_title"
       ]
      }
     },
     "18c8dcd9f8d54d90bc6b9ef131857a87": {
      "model_module": "@jupyter-widgets/base",
      "model_module_version": "1.2.0",
      "model_name": "LayoutModel",
      "state": {}
     },
     "19e1d599f2b94904a8d22eab7471a645": {
      "model_module": "jupyter-leaflet",
      "model_module_version": "^0.17",
      "model_name": "LeafletMarkerModel",
      "state": {
       "_model_module_version": "^0.17",
       "_view_module_version": "^0.17",
       "location": [
        -25.89287191674047,
        -54.78017663815991
       ],
       "options": [
        "alt",
        "draggable",
        "keyboard",
        "rise_offset",
        "rise_on_hover",
        "rotation_angle",
        "rotation_origin",
        "title",
        "z_index_offset"
       ]
      }
     },
     "1a594b30000e4c6aaf1e2712166616e2": {
      "model_module": "jupyter-leaflet",
      "model_module_version": "^0.17",
      "model_name": "LeafletMarkerModel",
      "state": {
       "_model_module_version": "^0.17",
       "_view_module_version": "^0.17",
       "location": [
        -25.898686012596077,
        -54.81159067014233
       ],
       "options": [
        "alt",
        "draggable",
        "keyboard",
        "rise_offset",
        "rise_on_hover",
        "rotation_angle",
        "rotation_origin",
        "title",
        "z_index_offset"
       ],
       "popup": "IPY_MODEL_2ef8b3fcbf1c41a6977a1b4a09e4342b"
      }
     },
     "1a5afb5c31af4b0495ed855bf7ecd77d": {
      "model_module": "jupyter-leaflet",
      "model_module_version": "^0.17",
      "model_name": "LeafletPopupModel",
      "state": {
       "_model_module_version": "^0.17",
       "_view_module_version": "^0.17",
       "auto_close": false,
       "auto_pan": true,
       "auto_pan_padding": [
        5,
        5
       ],
       "auto_pan_padding_bottom_right": null,
       "auto_pan_padding_top_left": null,
       "close_button": false,
       "close_on_escape_key": false,
       "keep_in_view": false,
       "location": [
        -25.898523871092685,
        -54.8139080987312
       ],
       "options": [
        "auto_close",
        "auto_pan",
        "auto_pan_padding",
        "auto_pan_padding_bottom_right",
        "auto_pan_padding_top_left",
        "close_button",
        "close_on_escape_key",
        "keep_in_view",
        "max_height",
        "max_width",
        "min_width"
       ]
      }
     },
     "1b48b3d7116e40a2856dd304e1afd5d3": {
      "model_module": "jupyter-leaflet",
      "model_module_version": "^0.17",
      "model_name": "LeafletPopupModel",
      "state": {
       "_model_module_version": "^0.17",
       "_view_module_version": "^0.17",
       "auto_close": false,
       "auto_pan": true,
       "auto_pan_padding": [
        5,
        5
       ],
       "auto_pan_padding_bottom_right": null,
       "auto_pan_padding_top_left": null,
       "close_button": false,
       "close_on_escape_key": false,
       "keep_in_view": false,
       "location": [
        -25.89589739275852,
        -54.79313707211987
       ],
       "options": [
        "auto_close",
        "auto_pan",
        "auto_pan_padding",
        "auto_pan_padding_bottom_right",
        "auto_pan_padding_top_left",
        "close_button",
        "close_on_escape_key",
        "keep_in_view",
        "max_height",
        "max_width",
        "min_width"
       ]
      }
     },
     "1b75255288764db0b5557e714f171ff3": {
      "model_module": "jupyter-leaflet",
      "model_module_version": "^0.17",
      "model_name": "LeafletMapStyleModel",
      "state": {
       "_model_module_version": "^0.17",
       "cursor": "move"
      }
     },
     "1b8d7bd2d9664a16adca5bda8b28453d": {
      "model_module": "jupyter-leaflet",
      "model_module_version": "^0.17",
      "model_name": "LeafletZoomControlModel",
      "state": {
       "_model_module_version": "^0.17",
       "_view_module_version": "^0.17",
       "options": [
        "position",
        "zoom_in_text",
        "zoom_in_title",
        "zoom_out_text",
        "zoom_out_title"
       ]
      }
     },
     "1cd7e1fce42d4eee84162175e7917579": {
      "model_module": "jupyter-leaflet",
      "model_module_version": "^0.17",
      "model_name": "LeafletMapStyleModel",
      "state": {
       "_model_module_version": "^0.17"
      }
     },
     "1d593e3f07f64e87ba76e62f3f2e03f8": {
      "model_module": "jupyter-leaflet",
      "model_module_version": "^0.17",
      "model_name": "LeafletPopupModel",
      "state": {
       "_model_module_version": "^0.17",
       "_view_module_version": "^0.17",
       "auto_close": false,
       "auto_pan": true,
       "auto_pan_padding": [
        5,
        5
       ],
       "auto_pan_padding_bottom_right": null,
       "auto_pan_padding_top_left": null,
       "close_button": false,
       "close_on_escape_key": false,
       "keep_in_view": false,
       "location": [
        -25.89968974512961,
        -54.82506608823315
       ],
       "options": [
        "auto_close",
        "auto_pan",
        "auto_pan_padding",
        "auto_pan_padding_bottom_right",
        "auto_pan_padding_top_left",
        "close_button",
        "close_on_escape_key",
        "keep_in_view",
        "max_height",
        "max_width",
        "min_width"
       ]
      }
     },
     "1da043d6089d4fe3822e589964979337": {
      "model_module": "jupyter-leaflet",
      "model_module_version": "^0.17",
      "model_name": "LeafletPopupModel",
      "state": {
       "_model_module_version": "^0.17",
       "_view_module_version": "^0.17",
       "auto_close": false,
       "auto_pan": true,
       "auto_pan_padding": [
        5,
        5
       ],
       "auto_pan_padding_bottom_right": null,
       "auto_pan_padding_top_left": null,
       "close_button": false,
       "close_on_escape_key": false,
       "keep_in_view": false,
       "location": [
        -25.899079142817186,
        -54.809045075671754
       ],
       "options": [
        "auto_close",
        "auto_pan",
        "auto_pan_padding",
        "auto_pan_padding_bottom_right",
        "auto_pan_padding_top_left",
        "close_button",
        "close_on_escape_key",
        "keep_in_view",
        "max_height",
        "max_width",
        "min_width"
       ]
      }
     },
     "1de89d9c8a154b35b0979cb7b47b0e92": {
      "model_module": "jupyter-leaflet",
      "model_module_version": "^0.17",
      "model_name": "LeafletMarkerModel",
      "state": {
       "_model_module_version": "^0.17",
       "_view_module_version": "^0.17",
       "location": [
        -25.898740059714353,
        -54.81133317807691
       ],
       "options": [
        "alt",
        "draggable",
        "keyboard",
        "rise_offset",
        "rise_on_hover",
        "rotation_angle",
        "rotation_origin",
        "title",
        "z_index_offset"
       ]
      }
     },
     "1e908c8b052c4615bbe58a222a9759df": {
      "model_module": "jupyter-leaflet",
      "model_module_version": "^0.17",
      "model_name": "LeafletMarkerModel",
      "state": {
       "_model_module_version": "^0.17",
       "_view_module_version": "^0.17",
       "location": [
        -25.899743791788165,
        -54.825666903052486
       ],
       "options": [
        "alt",
        "draggable",
        "keyboard",
        "rise_offset",
        "rise_on_hover",
        "rotation_angle",
        "rotation_origin",
        "title",
        "z_index_offset"
       ]
      }
     },
     "1e99b4e8b31749d3be4c65863207b68e": {
      "model_module": "jupyter-leaflet",
      "model_module_version": "^0.17",
      "model_name": "LeafletZoomControlModel",
      "state": {
       "_model_module_version": "^0.17",
       "_view_module_version": "^0.17",
       "options": [
        "position",
        "zoom_in_text",
        "zoom_in_title",
        "zoom_out_text",
        "zoom_out_title"
       ]
      }
     },
     "1eacc7b9cc894264aa38361418b48207": {
      "model_module": "jupyter-leaflet",
      "model_module_version": "^0.17",
      "model_name": "LeafletMapModel",
      "state": {
       "_model_module_version": "^0.17",
       "_view_module_version": "^0.17",
       "center": [
        -25.895982326781798,
        -54.81765747070313
       ],
       "controls": [
        "IPY_MODEL_96d21fa5536e499bbf95e4241ca5f3bf",
        "IPY_MODEL_5d200666ca724c9e9b7608726b45b88d"
       ],
       "default_style": "IPY_MODEL_e3244978ca514650b45398f60c51cab0",
       "dragging_style": "IPY_MODEL_2d0af2051de245a0889662c776db422d",
       "east": null,
       "fullscreen": false,
       "interpolation": "bilinear",
       "layers": [
        "IPY_MODEL_9151d1adc2ac4832b0949745ea9259ab",
        "IPY_MODEL_ea360e2c8ebf4c95ac35c5e96bf1feb2",
        "IPY_MODEL_a3ead9b9e0da45549615da9c75befec1",
        "IPY_MODEL_283dff7f7364423f917987d7201708c8"
       ],
       "layout": "IPY_MODEL_e8bb2d03e1b348398ec6cd387bae44bc",
       "modisdate": "2023-06-18",
       "north": -90,
       "options": [
        "bounce_at_zoom_limits",
        "box_zoom",
        "center",
        "close_popup_on_click",
        "double_click_zoom",
        "dragging",
        "fullscreen",
        "inertia",
        "inertia_deceleration",
        "inertia_max_speed",
        "interpolation",
        "keyboard",
        "keyboard_pan_offset",
        "keyboard_zoom_offset",
        "max_zoom",
        "min_zoom",
        "prefer_canvas",
        "scroll_wheel_zoom",
        "tap",
        "tap_tolerance",
        "touch_zoom",
        "world_copy_jump",
        "zoom",
        "zoom_animation_threshold",
        "zoom_delta",
        "zoom_snap"
       ],
       "prefer_canvas": false,
       "south": 90,
       "style": "IPY_MODEL_e3244978ca514650b45398f60c51cab0",
       "west": null,
       "window_url": "http://localhost:8889/notebooks/Jupyter/LUCinSA_helpers/LUCinSA_helpers/notebooks/2b_ViewTimeSeriesComposite.ipynb",
       "zoom": 14
      }
     },
     "1f3c27ca07e345e4b0f9f5e855c11c84": {
      "model_module": "@jupyter-widgets/controls",
      "model_module_version": "1.5.0",
      "model_name": "LabelModel",
      "state": {
       "layout": "IPY_MODEL_c8e59dc8965b4c418e0273e36ffdef66",
       "style": "IPY_MODEL_e90df6a6522c40a0ace6d89f2c4230ff",
       "value": "2: 5308/3384/1924"
      }
     },
     "2171a4bdd9664944af39cd8796a00956": {
      "model_module": "jupyter-leaflet",
      "model_module_version": "^0.17",
      "model_name": "LeafletZoomControlModel",
      "state": {
       "_model_module_version": "^0.17",
       "_view_module_version": "^0.17",
       "options": [
        "position",
        "zoom_in_text",
        "zoom_in_title",
        "zoom_out_text",
        "zoom_out_title"
       ]
      }
     },
     "224df318c25447c2baa610fd68300d0a": {
      "model_module": "@jupyter-widgets/controls",
      "model_module_version": "1.5.0",
      "model_name": "DescriptionStyleModel",
      "state": {
       "description_width": ""
      }
     },
     "2261f0e43a7b4f0db2314f91b4f8b39b": {
      "model_module": "@jupyter-widgets/controls",
      "model_module_version": "1.5.0",
      "model_name": "LabelModel",
      "state": {
       "layout": "IPY_MODEL_368f43b5ae9f4e1082af7a69fa9eba1b",
       "style": "IPY_MODEL_9ffd8a938cca4877ae9c90ddc44b3259",
       "value": "2"
      }
     },
     "227380c84e20411a825469b4c8a1fd42": {
      "model_module": "jupyter-leaflet",
      "model_module_version": "^0.17",
      "model_name": "LeafletPopupModel",
      "state": {
       "_model_module_version": "^0.17",
       "_view_module_version": "^0.17",
       "auto_close": false,
       "auto_pan": true,
       "auto_pan_padding": [
        5,
        5
       ],
       "auto_pan_padding_bottom_right": null,
       "auto_pan_padding_top_left": null,
       "close_button": false,
       "close_on_escape_key": false,
       "keep_in_view": false,
       "location": [
        -25.899651140190034,
        -54.82558107236401
       ],
       "options": [
        "auto_close",
        "auto_pan",
        "auto_pan_padding",
        "auto_pan_padding_bottom_right",
        "auto_pan_padding_top_left",
        "close_button",
        "close_on_escape_key",
        "keep_in_view",
        "max_height",
        "max_width",
        "min_width"
       ]
      }
     },
     "22a1553639f64182808735bd8bfa1bc2": {
      "model_module": "jupyter-leaflet",
      "model_module_version": "^0.17",
      "model_name": "LeafletMapModel",
      "state": {
       "_model_module_version": "^0.17",
       "_view_module_version": "^0.17",
       "bottom": 2409892,
       "center": [
        -25.895982326781798,
        -54.81765747070313
       ],
       "controls": [
        "IPY_MODEL_2171a4bdd9664944af39cd8796a00956",
        "IPY_MODEL_b5244221d7b24427971d1a5d5182621d"
       ],
       "default_style": "IPY_MODEL_ce81df8c27d34e47800a0cf50842b304",
       "dragging_style": "IPY_MODEL_09131fabf3ee46d9a21a31803d91fba8",
       "east": -54.77560043334962,
       "fullscreen": false,
       "interpolation": "bilinear",
       "layers": [
        "IPY_MODEL_9cf545a91f45465091f89e225cd79496",
        "IPY_MODEL_2fd2be3b2db840248e463f11b3432d7a",
        "IPY_MODEL_913f990a61f04770b95f590a603eae5d",
        "IPY_MODEL_08502ed74fca45c787fe40f0a8daf247",
        "IPY_MODEL_69f7a17fed854e5c8ca7261eabe7d9fc",
        "IPY_MODEL_8d65283aed8447789a0690e592c828de",
        "IPY_MODEL_f3802bd4bb56458b92f464d28f1d4f20",
        "IPY_MODEL_9f4ca666bfbc48efb70bd150f4534422",
        "IPY_MODEL_a3ff9a76bf644cb9b73a89c273e57d00",
        "IPY_MODEL_ef484e19539841cb8ea74d85df92a26a",
        "IPY_MODEL_0da0310cdf65430886ac865efe42ff7c",
        "IPY_MODEL_f3b6db88395e419e8b5c42214f64d483",
        "IPY_MODEL_b357553be1ed441082a2f2a8d5226c09",
        "IPY_MODEL_401cdcfe9a2b4e2f98ec9447fa640f5c",
        "IPY_MODEL_f36ed99c85a94d8bb0e57afb39ddcc3d",
        "IPY_MODEL_d1a7c186c372489f9eb0b1f50baff81f",
        "IPY_MODEL_36aea4ce6f4c454296c2e159592dc748",
        "IPY_MODEL_749360284e5e42aa965d990a3ac5af2d"
       ],
       "layout": "IPY_MODEL_12560babad3c4198b7179e9c2d7383b9",
       "left": 1457990,
       "modisdate": "2023-06-18",
       "north": -25.880538858160314,
       "options": [
        "bounce_at_zoom_limits",
        "box_zoom",
        "center",
        "close_popup_on_click",
        "double_click_zoom",
        "dragging",
        "fullscreen",
        "inertia",
        "inertia_deceleration",
        "inertia_max_speed",
        "interpolation",
        "keyboard",
        "keyboard_pan_offset",
        "keyboard_zoom_offset",
        "max_zoom",
        "min_zoom",
        "prefer_canvas",
        "scroll_wheel_zoom",
        "tap",
        "tap_tolerance",
        "touch_zoom",
        "world_copy_jump",
        "zoom",
        "zoom_animation_threshold",
        "zoom_delta",
        "zoom_snap"
       ],
       "prefer_canvas": false,
       "right": 1458970,
       "south": -25.911423774767364,
       "style": "IPY_MODEL_ce81df8c27d34e47800a0cf50842b304",
       "top": 2409492,
       "west": -54.85971450805665,
       "window_url": "http://localhost:8889/notebooks/Jupyter/LUCinSA_helpers/LUCinSA_helpers/notebooks/2b_ViewTimeSeriesComposite.ipynb",
       "zoom": 14
      }
     },
     "22e28413219d441dbf5ca8aa28c79f35": {
      "model_module": "jupyter-leaflet",
      "model_module_version": "^0.17",
      "model_name": "LeafletAttributionControlModel",
      "state": {
       "_model_module_version": "^0.17",
       "_view_module_version": "^0.17",
       "options": [
        "position",
        "prefix"
       ],
       "position": "bottomright",
       "prefix": "ipyleaflet"
      }
     },
     "232da3f13ade4d1eab9f4801f2c6ae09": {
      "model_module": "jupyter-leaflet",
      "model_module_version": "^0.17",
      "model_name": "LeafletTileLayerModel",
      "state": {
       "_model_module_version": "^0.17",
       "_view_module_version": "^0.17",
       "attribution": "Tiles &copy; Esri &mdash; Source: Esri, i-cubed, USDA, USGS, AEX, GeoEye, Getmapping, Aerogrid, IGN, IGP, UPR-EGP, and the GIS User Community",
       "base": true,
       "min_zoom": 1,
       "name": "Esri.WorldImagery",
       "options": [
        "attribution",
        "bounds",
        "detect_retina",
        "max_native_zoom",
        "max_zoom",
        "min_native_zoom",
        "min_zoom",
        "no_wrap",
        "tile_size",
        "tms",
        "zoom_offset"
       ],
       "url": "https://server.arcgisonline.com/ArcGIS/rest/services/World_Imagery/MapServer/tile/{z}/{y}/{x}"
      }
     },
     "23679fe658474bc7aeecdf400dff0228": {
      "model_module": "jupyter-leaflet",
      "model_module_version": "^0.17",
      "model_name": "LeafletMarkerModel",
      "state": {
       "_model_module_version": "^0.17",
       "_view_module_version": "^0.17",
       "location": [
        -25.898422853730835,
        -54.81307911803015
       ],
       "options": [
        "alt",
        "draggable",
        "keyboard",
        "rise_offset",
        "rise_on_hover",
        "rotation_angle",
        "rotation_origin",
        "title",
        "z_index_offset"
       ],
       "popup": "IPY_MODEL_7a3dce7c2405408eacd85798189acb49"
      }
     },
     "23729d554afc4526a6308f5879e52fd0": {
      "model_module": "@jupyter-widgets/base",
      "model_module_version": "1.2.0",
      "model_name": "LayoutModel",
      "state": {}
     },
     "23e7f52ad8a242f8843cde9af078973b": {
      "model_module": "@jupyter-widgets/controls",
      "model_module_version": "1.5.0",
      "model_name": "DescriptionStyleModel",
      "state": {
       "description_width": ""
      }
     },
     "23e84dc0d3294920a2846bf4eb0a2bad": {
      "model_module": "jupyter-leaflet",
      "model_module_version": "^0.17",
      "model_name": "LeafletPopupModel",
      "state": {
       "_model_module_version": "^0.17",
       "_view_module_version": "^0.17",
       "auto_close": false,
       "auto_pan": true,
       "auto_pan_padding": [
        5,
        5
       ],
       "auto_pan_padding_bottom_right": null,
       "auto_pan_padding_top_left": null,
       "close_button": false,
       "close_on_escape_key": false,
       "keep_in_view": false,
       "location": [
        -25.898337921464023,
        -54.81286454130896
       ],
       "options": [
        "auto_close",
        "auto_pan",
        "auto_pan_padding",
        "auto_pan_padding_bottom_right",
        "auto_pan_padding_top_left",
        "close_button",
        "close_on_escape_key",
        "keep_in_view",
        "max_height",
        "max_width",
        "min_width"
       ]
      }
     },
     "240686312bf943bf9794e18dfa59a75a": {
      "model_module": "@jupyter-widgets/controls",
      "model_module_version": "1.5.0",
      "model_name": "DescriptionStyleModel",
      "state": {
       "description_width": ""
      }
     },
     "24440a3b26364b668c8002a6c007b056": {
      "model_module": "@jupyter-widgets/controls",
      "model_module_version": "1.5.0",
      "model_name": "LabelModel",
      "state": {
       "layout": "IPY_MODEL_abf41627d05b4fb1a281016bb2a63efc",
       "style": "IPY_MODEL_02703a6dc4384a7bb04de98fc6a47ab9",
       "value": "[-25.89451657068475, -54.82274865964428]"
      }
     },
     "24e18a55ca504e98b9c47f16e7a67bfd": {
      "model_module": "@jupyter-widgets/base",
      "model_module_version": "1.2.0",
      "model_name": "LayoutModel",
      "state": {}
     },
     "2530fdffa7f34a1c8d6a2d69e5256102": {
      "model_module": "@jupyter-widgets/controls",
      "model_module_version": "1.5.0",
      "model_name": "LabelModel",
      "state": {
       "layout": "IPY_MODEL_05fbf9389aad4e07a5d438c5bb540b22",
       "style": "IPY_MODEL_288f531bf0e24517a88d57880e0abd71",
       "value": "[-25.899110026448305, -54.809002160327516]"
      }
     },
     "25d6dff5c52f44809375fc27dd3070ba": {
      "model_module": "@jupyter-widgets/base",
      "model_module_version": "1.2.0",
      "model_name": "LayoutModel",
      "state": {}
     },
     "25fd28b2748545619502ff7a13cf7960": {
      "model_module": "@jupyter-widgets/base",
      "model_module_version": "1.2.0",
      "model_name": "LayoutModel",
      "state": {}
     },
     "2641cfbcce8b4149b05676535ad1bc8e": {
      "model_module": "jupyter-leaflet",
      "model_module_version": "^0.17",
      "model_name": "LeafletZoomControlModel",
      "state": {
       "_model_module_version": "^0.17",
       "_view_module_version": "^0.17",
       "options": [
        "position",
        "zoom_in_text",
        "zoom_in_title",
        "zoom_out_text",
        "zoom_out_title"
       ]
      }
     },
     "267244974da74df8a7150a7150d2cb50": {
      "model_module": "jupyter-leaflet",
      "model_module_version": "^0.17",
      "model_name": "LeafletMapStyleModel",
      "state": {
       "_model_module_version": "^0.17"
      }
     },
     "2694647774374bb886638f8109d0790f": {
      "model_module": "jupyter-leaflet",
      "model_module_version": "^0.17",
      "model_name": "LeafletTileLayerModel",
      "state": {
       "_model_module_version": "^0.17",
       "_view_module_version": "^0.17",
       "attribution": "Tiles &copy; Esri &mdash; Source: Esri, i-cubed, USDA, USGS, AEX, GeoEye, Getmapping, Aerogrid, IGN, IGP, UPR-EGP, and the GIS User Community",
       "base": true,
       "min_zoom": 1,
       "name": "Esri.WorldImagery",
       "options": [
        "attribution",
        "bounds",
        "detect_retina",
        "max_native_zoom",
        "max_zoom",
        "min_native_zoom",
        "min_zoom",
        "no_wrap",
        "tile_size",
        "tms",
        "zoom_offset"
       ],
       "url": "https://server.arcgisonline.com/ArcGIS/rest/services/World_Imagery/MapServer/tile/{z}/{y}/{x}"
      }
     },
     "26a69d05fe3d4f0eb068a4b225b22273": {
      "model_module": "jupyter-leaflet",
      "model_module_version": "^0.17",
      "model_name": "LeafletPopupModel",
      "state": {
       "_model_module_version": "^0.17",
       "_view_module_version": "^0.17",
       "auto_close": false,
       "auto_pan": true,
       "auto_pan_padding": [
        5,
        5
       ],
       "auto_pan_padding_bottom_right": null,
       "auto_pan_padding_top_left": null,
       "close_button": false,
       "close_on_escape_key": false,
       "keep_in_view": false,
       "location": [
        -25.898523871092685,
        -54.8139080987312
       ],
       "options": [
        "auto_close",
        "auto_pan",
        "auto_pan_padding",
        "auto_pan_padding_bottom_right",
        "auto_pan_padding_top_left",
        "close_button",
        "close_on_escape_key",
        "keep_in_view",
        "max_height",
        "max_width",
        "min_width"
       ]
      }
     },
     "26b66d2a963842f58b19f161ded9f367": {
      "model_module": "@jupyter-widgets/base",
      "model_module_version": "1.2.0",
      "model_name": "LayoutModel",
      "state": {}
     },
     "26d535e69cf843d0935b278af5b39639": {
      "model_module": "jupyter-leaflet",
      "model_module_version": "^0.17",
      "model_name": "LeafletMapStyleModel",
      "state": {
       "_model_module_version": "^0.17"
      }
     },
     "2716b5c58451471faa0d4e9f56a3e6a2": {
      "model_module": "@jupyter-widgets/base",
      "model_module_version": "1.2.0",
      "model_name": "LayoutModel",
      "state": {}
     },
     "27420b203c78400086c28f71044d8ded": {
      "model_module": "jupyter-leaflet",
      "model_module_version": "^0.17",
      "model_name": "LeafletMapStyleModel",
      "state": {
       "_model_module_version": "^0.17"
      }
     },
     "27e1999f20b04dc3bc913ed9c06a4f42": {
      "model_module": "@jupyter-widgets/controls",
      "model_module_version": "1.5.0",
      "model_name": "LabelModel",
      "state": {
       "layout": "IPY_MODEL_01a50d0492aa49428dcde9c634495bf0",
       "style": "IPY_MODEL_8f9ff5e405964eb1b0f5e51a6ed5fd71",
       "value": "1: 6434/6259/175"
      }
     },
     "283dff7f7364423f917987d7201708c8": {
      "model_module": "jupyter-leaflet",
      "model_module_version": "^0.17",
      "model_name": "LeafletMarkerModel",
      "state": {
       "_model_module_version": "^0.17",
       "_view_module_version": "^0.17",
       "location": [
        -25.899110026448305,
        -54.809002160327516
       ],
       "options": [
        "alt",
        "draggable",
        "keyboard",
        "rise_offset",
        "rise_on_hover",
        "rotation_angle",
        "rotation_origin",
        "title",
        "z_index_offset"
       ],
       "popup": "IPY_MODEL_bf268f5fd56c41a98b4bba7bf6a7516e"
      }
     },
     "2889f2fb1f2d488d909403fbf8076e22": {
      "model_module": "jupyter-leaflet",
      "model_module_version": "^0.17",
      "model_name": "LeafletAttributionControlModel",
      "state": {
       "_model_module_version": "^0.17",
       "_view_module_version": "^0.17",
       "options": [
        "position",
        "prefix"
       ],
       "position": "bottomright",
       "prefix": "ipyleaflet"
      }
     },
     "288f531bf0e24517a88d57880e0abd71": {
      "model_module": "@jupyter-widgets/controls",
      "model_module_version": "1.5.0",
      "model_name": "DescriptionStyleModel",
      "state": {
       "description_width": ""
      }
     },
     "2892f1ea0978483db75d012e97a421bc": {
      "model_module": "@jupyter-widgets/base",
      "model_module_version": "1.2.0",
      "model_name": "LayoutModel",
      "state": {}
     },
     "28da037aee7847b28a2226fbfb95bcc7": {
      "model_module": "@jupyter-widgets/controls",
      "model_module_version": "1.5.0",
      "model_name": "DescriptionStyleModel",
      "state": {
       "description_width": ""
      }
     },
     "294f4d7fa3c84854b089ad50ff312739": {
      "model_module": "@jupyter-widgets/controls",
      "model_module_version": "1.5.0",
      "model_name": "LabelModel",
      "state": {
       "layout": "IPY_MODEL_5e1eeda4eb424a6687b58c7c7f586052",
       "style": "IPY_MODEL_6a234e94e4b541c280278a00bb18ce87",
       "value": "2: 5368/3885/1483"
      }
     },
     "2966860fadb84f9d987d4353613d429e": {
      "model_module": "@jupyter-widgets/controls",
      "model_module_version": "1.5.0",
      "model_name": "LabelModel",
      "state": {
       "layout": "IPY_MODEL_76ca16f9f3174df59f459cc4ffbbe105",
       "style": "IPY_MODEL_f14e91509ef74210aaaaf18da5fc475e",
       "value": "[-25.898422853730835, -54.81307911803015]"
      }
     },
     "2a8dd61ba59249799fefd9c999f3b636": {
      "model_module": "jupyter-leaflet",
      "model_module_version": "^0.17",
      "model_name": "LeafletPopupModel",
      "state": {
       "_model_module_version": "^0.17",
       "_view_module_version": "^0.17",
       "auto_close": false,
       "auto_pan": true,
       "auto_pan_padding": [
        5,
        5
       ],
       "auto_pan_padding_bottom_right": null,
       "auto_pan_padding_top_left": null,
       "close_button": false,
       "close_on_escape_key": false,
       "keep_in_view": false,
       "location": [
        -25.89589739275852,
        -54.79313707211987
       ],
       "options": [
        "auto_close",
        "auto_pan",
        "auto_pan_padding",
        "auto_pan_padding_bottom_right",
        "auto_pan_padding_top_left",
        "close_button",
        "close_on_escape_key",
        "keep_in_view",
        "max_height",
        "max_width",
        "min_width"
       ]
      }
     },
     "2afb58f5d05f421093807a6a8169c63f": {
      "model_module": "jupyter-leaflet",
      "model_module_version": "^0.17",
      "model_name": "LeafletPopupModel",
      "state": {
       "_model_module_version": "^0.17",
       "_view_module_version": "^0.17",
       "auto_close": false,
       "auto_pan": true,
       "auto_pan_padding": [
        5,
        5
       ],
       "auto_pan_padding_bottom_right": null,
       "auto_pan_padding_top_left": null,
       "close_button": false,
       "close_on_escape_key": false,
       "keep_in_view": false,
       "location": [
        -25.899110026448305,
        -54.809002160327516
       ],
       "options": [
        "auto_close",
        "auto_pan",
        "auto_pan_padding",
        "auto_pan_padding_bottom_right",
        "auto_pan_padding_top_left",
        "close_button",
        "close_on_escape_key",
        "keep_in_view",
        "max_height",
        "max_width",
        "min_width"
       ]
      }
     },
     "2bae3bde6067403882cb2e6f345c6940": {
      "model_module": "jupyter-leaflet",
      "model_module_version": "^0.17",
      "model_name": "LeafletMapStyleModel",
      "state": {
       "_model_module_version": "^0.17"
      }
     },
     "2c2bc3f631d945d2abbbd9e0944402fe": {
      "model_module": "jupyter-leaflet",
      "model_module_version": "^0.17",
      "model_name": "LeafletZoomControlModel",
      "state": {
       "_model_module_version": "^0.17",
       "_view_module_version": "^0.17",
       "options": [
        "position",
        "zoom_in_text",
        "zoom_in_title",
        "zoom_out_text",
        "zoom_out_title"
       ]
      }
     },
     "2c5c44774fad436c9bf80f107581c0e3": {
      "model_module": "@jupyter-widgets/controls",
      "model_module_version": "1.5.0",
      "model_name": "DescriptionStyleModel",
      "state": {
       "description_width": ""
      }
     },
     "2c8addd67793443085a4eea7dcb1b163": {
      "model_module": "jupyter-leaflet",
      "model_module_version": "^0.17",
      "model_name": "LeafletTileLayerModel",
      "state": {
       "_model_module_version": "^0.17",
       "_view_module_version": "^0.17",
       "attribution": "Raster file served by <a href='https://github.com/banesullivan/localtileserver' target='_blank'>localtileserver</a>.",
       "bounds": [
        [
         -25.922538389171017,
         -54.83163201095545
        ],
        [
         -25.879733520251676,
         -54.76869676334894
        ]
       ],
       "max_native_zoom": 15,
       "max_zoom": 15,
       "options": [
        "attribution",
        "bounds",
        "detect_retina",
        "max_native_zoom",
        "max_zoom",
        "min_native_zoom",
        "min_zoom",
        "no_wrap",
        "tile_size",
        "tms",
        "zoom_offset"
       ],
       "show_loading": true,
       "url": "http://127.0.0.1:5554/api/tiles/{z}/{x}/{y}.png?&filename=%2Fhome%2Fklwalker%2Fdata%2Ftmp%2F004057_2010evi2_MinMaxAmp.tif&band.0=3&band.1=2&band.2=1&n_colors=255&projection=EPSG%3A3857"
      }
     },
     "2cc354b090fd4ffa9ad747503482cea8": {
      "model_module": "@jupyter-widgets/controls",
      "model_module_version": "1.5.0",
      "model_name": "LabelModel",
      "state": {
       "layout": "IPY_MODEL_9460b8f7939f4715868546a498f977b1",
       "style": "IPY_MODEL_e2d38a848eb34fb188f4c92c2ca4605e",
       "value": "1"
      }
     },
     "2d0af2051de245a0889662c776db422d": {
      "model_module": "jupyter-leaflet",
      "model_module_version": "^0.17",
      "model_name": "LeafletMapStyleModel",
      "state": {
       "_model_module_version": "^0.17",
       "cursor": "move"
      }
     },
     "2d3afa7cf6054931a1861661368310c3": {
      "model_module": "@jupyter-widgets/controls",
      "model_module_version": "1.5.0",
      "model_name": "LabelModel",
      "state": {
       "layout": "IPY_MODEL_25d6dff5c52f44809375fc27dd3070ba",
       "style": "IPY_MODEL_6e94ce1dd0004038bdc2c0eae22d023c",
       "value": "2"
      }
     },
     "2d59b9cd3d3d461d95b96685c80b8661": {
      "model_module": "@jupyter-widgets/controls",
      "model_module_version": "1.5.0",
      "model_name": "LabelModel",
      "state": {
       "layout": "IPY_MODEL_803bb50674c94d768208248e05deaa1a",
       "style": "IPY_MODEL_67891b53c4634e1f97d68b2c2c6e4ccd",
       "value": "3: 4964/2650/2314"
      }
     },
     "2ded8b51b3c4488db84c66264b4ae8ef": {
      "model_module": "@jupyter-widgets/controls",
      "model_module_version": "1.5.0",
      "model_name": "LabelModel",
      "state": {
       "layout": "IPY_MODEL_165bce2705cc425bbcddcd79eda45579",
       "style": "IPY_MODEL_5cb61c618e054859a6b17ff1e921b50d",
       "value": "[-25.89914477199631, -54.81063294340857]"
      }
     },
     "2df614882c70475ab34b857801676d33": {
      "model_module": "@jupyter-widgets/controls",
      "model_module_version": "1.5.0",
      "model_name": "LabelModel",
      "state": {
       "layout": "IPY_MODEL_79564cc84efe440e9c006a3f316c47fd",
       "style": "IPY_MODEL_45775c2f656744bbb1a45a0b679f9b44",
       "value": "1: 7981/1312/6669"
      }
     },
     "2e399b6d7dc44ca58e541a8093209f03": {
      "model_module": "@jupyter-widgets/controls",
      "model_module_version": "1.5.0",
      "model_name": "DescriptionStyleModel",
      "state": {
       "description_width": ""
      }
     },
     "2ef8b3fcbf1c41a6977a1b4a09e4342b": {
      "model_module": "@jupyter-widgets/controls",
      "model_module_version": "1.5.0",
      "model_name": "LabelModel",
      "state": {
       "layout": "IPY_MODEL_13e77164d987459baaa53b310968e709",
       "style": "IPY_MODEL_ac2d7a57ecd2473d81ca7a340d216f87",
       "value": "2: 1402/1095/307"
      }
     },
     "2fd2be3b2db840248e463f11b3432d7a": {
      "model_module": "jupyter-leaflet",
      "model_module_version": "^0.17",
      "model_name": "LeafletTileLayerModel",
      "state": {
       "_model_module_version": "^0.17",
       "_view_module_version": "^0.17",
       "attribution": "Raster file served by <a href='https://github.com/banesullivan/localtileserver' target='_blank'>localtileserver</a>.",
       "bounds": [
        [
         -25.978911914208837,
         -54.93987275686129
        ],
        [
         -25.812872285639965,
         -54.695763027175396
        ]
       ],
       "max_native_zoom": 15,
       "max_zoom": 15,
       "options": [
        "attribution",
        "bounds",
        "detect_retina",
        "max_native_zoom",
        "max_zoom",
        "min_native_zoom",
        "min_zoom",
        "no_wrap",
        "tile_size",
        "tms",
        "zoom_offset"
       ],
       "show_loading": true,
       "url": "http://127.0.0.1:5554/api/tiles/{z}/{x}/{y}.png?&filename=%2Fhome%2Fklwalker%2Fdata%2Ftmp%2F004057_2010evi2_MinMaxAmp.tif&band.0=3&band.1=2&band.2=1&n_colors=255&projection=EPSG%3A3857"
      }
     },
     "2feff2ac96db4bf3b29269440849b3b1": {
      "model_module": "@jupyter-widgets/controls",
      "model_module_version": "1.5.0",
      "model_name": "LabelModel",
      "state": {
       "layout": "IPY_MODEL_faceff856714485ab73b78741ef251d7",
       "style": "IPY_MODEL_0037e58ba8514373896c00452f601572",
       "value": "1: 1353"
      }
     },
     "3048cbe1da7d44debc491b18a904dac7": {
      "model_module": "@jupyter-widgets/base",
      "model_module_version": "1.2.0",
      "model_name": "LayoutModel",
      "state": {}
     },
     "30bed4d722c5495e8353a7af95ab8e77": {
      "model_module": "@jupyter-widgets/base",
      "model_module_version": "1.2.0",
      "model_name": "LayoutModel",
      "state": {}
     },
     "3132bc779f664ea8a2f97c0be61b143c": {
      "model_module": "@jupyter-widgets/base",
      "model_module_version": "1.2.0",
      "model_name": "LayoutModel",
      "state": {}
     },
     "316ff6888c384a958b4967e0df184af5": {
      "model_module": "jupyter-leaflet",
      "model_module_version": "^0.17",
      "model_name": "LeafletPopupModel",
      "state": {
       "_model_module_version": "^0.17",
       "_view_module_version": "^0.17",
       "auto_close": false,
       "auto_pan": true,
       "auto_pan_padding": [
        5,
        5
       ],
       "auto_pan_padding_bottom_right": null,
       "auto_pan_padding_top_left": null,
       "close_button": false,
       "close_on_escape_key": false,
       "keep_in_view": false,
       "location": [
        -25.909691858401438,
        -54.78735326540998
       ],
       "options": [
        "auto_close",
        "auto_pan",
        "auto_pan_padding",
        "auto_pan_padding_bottom_right",
        "auto_pan_padding_top_left",
        "close_button",
        "close_on_escape_key",
        "keep_in_view",
        "max_height",
        "max_width",
        "min_width"
       ]
      }
     },
     "32ed015f6b934853862217f8eeaacc26": {
      "model_module": "jupyter-leaflet",
      "model_module_version": "^0.17",
      "model_name": "LeafletMarkerModel",
      "state": {
       "_model_module_version": "^0.17",
       "_view_module_version": "^0.17",
       "location": [
        -25.899203322910555,
        -54.81210565427319
       ],
       "options": [
        "alt",
        "draggable",
        "keyboard",
        "rise_offset",
        "rise_on_hover",
        "rotation_angle",
        "rotation_origin",
        "title",
        "z_index_offset"
       ],
       "popup": "IPY_MODEL_06f3a25aab514e22a4452f299c64d1a8"
      }
     },
     "335c5c03b27344209b7bf4439b2d366f": {
      "model_module": "jupyter-leaflet",
      "model_module_version": "^0.17",
      "model_name": "LeafletMarkerModel",
      "state": {
       "_model_module_version": "^0.17",
       "_view_module_version": "^0.17",
       "location": [
        -25.89287191674047,
        -54.78017663815991
       ],
       "options": [
        "alt",
        "draggable",
        "keyboard",
        "rise_offset",
        "rise_on_hover",
        "rotation_angle",
        "rotation_origin",
        "title",
        "z_index_offset"
       ],
       "popup": "IPY_MODEL_cf1c64e5983c4805a39f162409fe69a3"
      }
     },
     "3390df10fcf242a9ba7835ea0038e8c5": {
      "model_module": "@jupyter-widgets/base",
      "model_module_version": "1.2.0",
      "model_name": "LayoutModel",
      "state": {}
     },
     "339f88bfae0d430f89d44e1b1b113068": {
      "model_module": "@jupyter-widgets/controls",
      "model_module_version": "1.5.0",
      "model_name": "LabelModel",
      "state": {
       "layout": "IPY_MODEL_4bb51f615f5d44e696383b7396069732",
       "style": "IPY_MODEL_c211d69175694c3880923151a49627b1",
       "value": "3: 5827/1967/3860"
      }
     },
     "343eb5116a5b456c81ce6c3c0eac67c2": {
      "model_module": "@jupyter-widgets/controls",
      "model_module_version": "1.5.0",
      "model_name": "LabelModel",
      "state": {
       "layout": "IPY_MODEL_fa73392199804136aaabbf3cbf557b28",
       "style": "IPY_MODEL_780342e7e9494d3f9e7c5cb9f7e64cbd",
       "value": "1: 6434/6259/175"
      }
     },
     "34406a23c72b420788fc56533f238ea3": {
      "model_module": "jupyter-leaflet",
      "model_module_version": "^0.17",
      "model_name": "LeafletMarkerModel",
      "state": {
       "_model_module_version": "^0.17",
       "_view_module_version": "^0.17",
       "location": [
        -25.899975422232355,
        -54.80901574948803
       ],
       "options": [
        "alt",
        "draggable",
        "keyboard",
        "rise_offset",
        "rise_on_hover",
        "rotation_angle",
        "rotation_origin",
        "title",
        "z_index_offset"
       ],
       "popup": "IPY_MODEL_a46877ea6ea445fda8db2fc3e15962d3"
      }
     },
     "34506b9f31804d91b2b66ad47a0690e7": {
      "model_module": "@jupyter-widgets/controls",
      "model_module_version": "1.5.0",
      "model_name": "LabelModel",
      "state": {
       "layout": "IPY_MODEL_b6d5fc25d72b4756a8eb73f1d8a18887",
       "style": "IPY_MODEL_b3fb68901a6448f6b78403d583520c77",
       "value": "3: 4932/2572/2360"
      }
     },
     "348e1f8a0b1e4e7eb69514db775b6928": {
      "model_module": "@jupyter-widgets/controls",
      "model_module_version": "1.5.0",
      "model_name": "DescriptionStyleModel",
      "state": {
       "description_width": ""
      }
     },
     "349bb698cdd94991818736870cce822f": {
      "model_module": "jupyter-leaflet",
      "model_module_version": "^0.17",
      "model_name": "LeafletMapStyleModel",
      "state": {
       "_model_module_version": "^0.17"
      }
     },
     "34d19213d45b40aa84f9eefcedd7bbda": {
      "model_module": "@jupyter-widgets/controls",
      "model_module_version": "1.5.0",
      "model_name": "LabelModel",
      "state": {
       "layout": "IPY_MODEL_8fb51e2438e4447e8f6244672555ee9b",
       "style": "IPY_MODEL_427a73f64fd44c72a372b2522a919318",
       "value": "3: 4964/2650/2314"
      }
     },
     "34e7086146c54fa4a1159d4efbcd272c": {
      "model_module": "@jupyter-widgets/controls",
      "model_module_version": "1.5.0",
      "model_name": "LabelModel",
      "state": {
       "layout": "IPY_MODEL_b7cce230408b4abdaad0ddc0e5fd0b5e",
       "style": "IPY_MODEL_75e06098aa114e0bb23f6c7a95f52a2f",
       "value": "1: 6539/6342/197"
      }
     },
     "34ff800f0fc8489c8ce27c90906fc34e": {
      "model_module": "jupyter-leaflet",
      "model_module_version": "^0.17",
      "model_name": "LeafletMapStyleModel",
      "state": {
       "_model_module_version": "^0.17"
      }
     },
     "359ff65d76a140018a689c8272c42c86": {
      "model_module": "jupyter-leaflet",
      "model_module_version": "^0.17",
      "model_name": "LeafletTileLayerModel",
      "state": {
       "_model_module_version": "^0.17",
       "_view_module_version": "^0.17",
       "attribution": "Tiles &copy; Esri &mdash; Source: Esri, i-cubed, USDA, USGS, AEX, GeoEye, Getmapping, Aerogrid, IGN, IGP, UPR-EGP, and the GIS User Community",
       "base": true,
       "min_zoom": 1,
       "name": "Esri.WorldImagery",
       "options": [
        "attribution",
        "bounds",
        "detect_retina",
        "max_native_zoom",
        "max_zoom",
        "min_native_zoom",
        "min_zoom",
        "no_wrap",
        "tile_size",
        "tms",
        "zoom_offset"
       ],
       "url": "https://server.arcgisonline.com/ArcGIS/rest/services/World_Imagery/MapServer/tile/{z}/{y}/{x}"
      }
     },
     "35a683bb754e4d9ea71e71530abe2a61": {
      "model_module": "jupyter-leaflet",
      "model_module_version": "^0.17",
      "model_name": "LeafletAttributionControlModel",
      "state": {
       "_model_module_version": "^0.17",
       "_view_module_version": "^0.17",
       "options": [
        "position",
        "prefix"
       ],
       "position": "bottomright",
       "prefix": "ipyleaflet"
      }
     },
     "3674b7b4c0184a63a9ef7490cf0df5e9": {
      "model_module": "@jupyter-widgets/controls",
      "model_module_version": "1.5.0",
      "model_name": "LabelModel",
      "state": {
       "layout": "IPY_MODEL_d86cdff3af694308b8c18ec4be1299bc",
       "style": "IPY_MODEL_74d1eec18492479fb368a4bd64eba94f",
       "value": "2: 5308/3384/1924"
      }
     },
     "368f43b5ae9f4e1082af7a69fa9eba1b": {
      "model_module": "@jupyter-widgets/base",
      "model_module_version": "1.2.0",
      "model_name": "LayoutModel",
      "state": {}
     },
     "36aea4ce6f4c454296c2e159592dc748": {
      "model_module": "jupyter-leaflet",
      "model_module_version": "^0.17",
      "model_name": "LeafletMarkerModel",
      "state": {
       "_model_module_version": "^0.17",
       "_view_module_version": "^0.17",
       "location": [
        -25.90477647869274,
        -54.807213305030025
       ],
       "options": [
        "alt",
        "draggable",
        "keyboard",
        "rise_offset",
        "rise_on_hover",
        "rotation_angle",
        "rotation_origin",
        "title",
        "z_index_offset"
       ],
       "popup": "IPY_MODEL_34d19213d45b40aa84f9eefcedd7bbda"
      }
     },
     "36d94d86ff5f4186aa32e75033fc4d73": {
      "model_module": "@jupyter-widgets/controls",
      "model_module_version": "1.5.0",
      "model_name": "LabelModel",
      "state": {
       "layout": "IPY_MODEL_eb20fd6b798848d28825b1f8f652ba16",
       "style": "IPY_MODEL_f5dad822e8f942b89deb005499374a4d",
       "value": "[-25.898523871092685, -54.8139080987312]"
      }
     },
     "373ad5861a6d4a4fb44397dc25e344e1": {
      "model_module": "@jupyter-widgets/controls",
      "model_module_version": "1.5.0",
      "model_name": "DescriptionStyleModel",
      "state": {
       "description_width": ""
      }
     },
     "3783572aad8e45da80b1afb4b5455189": {
      "model_module": "@jupyter-widgets/controls",
      "model_module_version": "1.5.0",
      "model_name": "LabelModel",
      "state": {
       "layout": "IPY_MODEL_f4cdcec8033142888d132bcf7dd21447",
       "style": "IPY_MODEL_81d967b7be9a437baefc5caa7f551d3b",
       "value": "[-25.89756645469786, -54.80051851132886]"
      }
     },
     "38e6ad500a734ef9a50bc26225eb55e7": {
      "model_module": "jupyter-leaflet",
      "model_module_version": "^0.17",
      "model_name": "LeafletMarkerModel",
      "state": {
       "_model_module_version": "^0.17",
       "_view_module_version": "^0.17",
       "location": [
        -25.899651140190034,
        -54.82558107236401
       ],
       "options": [
        "alt",
        "draggable",
        "keyboard",
        "rise_offset",
        "rise_on_hover",
        "rotation_angle",
        "rotation_origin",
        "title",
        "z_index_offset"
       ],
       "popup": "IPY_MODEL_64ce16d8a23b4b3cb766fd420ea98d56"
      }
     },
     "3906dae7d7494d42b85f713e65c6f4bc": {
      "model_module": "jupyter-leaflet",
      "model_module_version": "^0.17",
      "model_name": "LeafletPopupModel",
      "state": {
       "_model_module_version": "^0.17",
       "_view_module_version": "^0.17",
       "auto_close": false,
       "auto_pan": true,
       "auto_pan_padding": [
        5,
        5
       ],
       "auto_pan_padding_bottom_right": null,
       "auto_pan_padding_top_left": null,
       "close_button": false,
       "close_on_escape_key": false,
       "keep_in_view": false,
       "location": [
        -25.898422853730835,
        -54.81307911803015
       ],
       "options": [
        "auto_close",
        "auto_pan",
        "auto_pan_padding",
        "auto_pan_padding_bottom_right",
        "auto_pan_padding_top_left",
        "close_button",
        "close_on_escape_key",
        "keep_in_view",
        "max_height",
        "max_width",
        "min_width"
       ]
      }
     },
     "398278f2c3a94c47932b87b10e13895c": {
      "model_module": "@jupyter-widgets/controls",
      "model_module_version": "1.5.0",
      "model_name": "LabelModel",
      "state": {
       "layout": "IPY_MODEL_24e18a55ca504e98b9c47f16e7a67bfd",
       "style": "IPY_MODEL_ed9bc3f9b3ac489d9dd1eb03793b4bcb",
       "value": "4: 8325/1425/6900"
      }
     },
     "398ed2af82ff49a2b7defd7fa2d52542": {
      "model_module": "@jupyter-widgets/controls",
      "model_module_version": "1.5.0",
      "model_name": "LabelModel",
      "state": {
       "layout": "IPY_MODEL_6a032e07d214481ba1e31c7e0f9c6c41",
       "style": "IPY_MODEL_d06616c60b5f4ecba58bad80573fa979",
       "value": "4: 4806/4497/309"
      }
     },
     "3a2b8bb614444b21a6a3fc3ec9a245e3": {
      "model_module": "jupyter-leaflet",
      "model_module_version": "^0.17",
      "model_name": "LeafletTileLayerModel",
      "state": {
       "_model_module_version": "^0.17",
       "_view_module_version": "^0.17",
       "attribution": "Raster file served by <a href='https://github.com/banesullivan/localtileserver' target='_blank'>localtileserver</a>.",
       "bounds": [
        [
         -25.978911914208837,
         -54.93987275686129
        ],
        [
         -25.812872285639965,
         -54.695763027175396
        ]
       ],
       "max_native_zoom": 15,
       "max_zoom": 15,
       "options": [
        "attribution",
        "bounds",
        "detect_retina",
        "max_native_zoom",
        "max_zoom",
        "min_native_zoom",
        "min_zoom",
        "no_wrap",
        "tile_size",
        "tms",
        "zoom_offset"
       ],
       "show_loading": true,
       "url": "http://127.0.0.1:5554/api/tiles/{z}/{x}/{y}.png?&filename=%2Fhome%2Fklwalker%2Fdata%2Ftmp%2F004057_2010evi2_MinMaxAmp.tif&band.0=3&band.1=2&band.2=1&n_colors=255&projection=EPSG%3A3857"
      }
     },
     "3a474dd01f054374b636e6c0cbdd3ea6": {
      "model_module": "jupyter-leaflet",
      "model_module_version": "^0.17",
      "model_name": "LeafletMapStyleModel",
      "state": {
       "_model_module_version": "^0.17"
      }
     },
     "3a9289ef197444bb94d3eaeadc180a20": {
      "model_module": "@jupyter-widgets/controls",
      "model_module_version": "1.5.0",
      "model_name": "LabelModel",
      "state": {
       "layout": "IPY_MODEL_5957536f78f94f06b8e9b8ed499a074b",
       "style": "IPY_MODEL_224df318c25447c2baa610fd68300d0a",
       "value": "[-25.900075793830606, -54.8248944268562]"
      }
     },
     "3aef3d2c608c4fa492118540628b27fe": {
      "model_module": "@jupyter-widgets/controls",
      "model_module_version": "1.5.0",
      "model_name": "DescriptionStyleModel",
      "state": {
       "description_width": ""
      }
     },
     "3afe09fbc5c0467da25f989c99b3166e": {
      "model_module": "jupyter-leaflet",
      "model_module_version": "^0.17",
      "model_name": "LeafletTileLayerModel",
      "state": {
       "_model_module_version": "^0.17",
       "_view_module_version": "^0.17",
       "attribution": "Raster file served by <a href='https://github.com/banesullivan/localtileserver' target='_blank'>localtileserver</a>.",
       "bounds": [
        [
         -25.978911914208837,
         -54.93987275686129
        ],
        [
         -25.812872285639965,
         -54.695763027175396
        ]
       ],
       "max_native_zoom": 15,
       "max_zoom": 15,
       "options": [
        "attribution",
        "bounds",
        "detect_retina",
        "max_native_zoom",
        "max_zoom",
        "min_native_zoom",
        "min_zoom",
        "no_wrap",
        "tile_size",
        "tms",
        "zoom_offset"
       ],
       "show_loading": true,
       "url": "http://127.0.0.1:5554/api/tiles/{z}/{x}/{y}.png?&filename=%2Fhome%2Fklwalker%2Fdata%2Ftmp%2F004057_2010evi2_MinMaxAmp.tif&band.0=3&band.1=2&band.2=1&n_colors=255&projection=EPSG%3A3857"
      }
     },
     "3b35fd98219b433a8bd86e7968c11fe3": {
      "model_module": "jupyter-leaflet",
      "model_module_version": "^0.17",
      "model_name": "LeafletMapStyleModel",
      "state": {
       "_model_module_version": "^0.17"
      }
     },
     "3bd0ee8b31cd47bdaf738bca6672aa65": {
      "model_module": "jupyter-leaflet",
      "model_module_version": "^0.17",
      "model_name": "LeafletTileLayerModel",
      "state": {
       "_model_module_version": "^0.17",
       "_view_module_version": "^0.17",
       "attribution": "Tiles &copy; Esri &mdash; Source: Esri, i-cubed, USDA, USGS, AEX, GeoEye, Getmapping, Aerogrid, IGN, IGP, UPR-EGP, and the GIS User Community",
       "base": true,
       "min_zoom": 1,
       "name": "Esri.WorldImagery",
       "options": [
        "attribution",
        "bounds",
        "detect_retina",
        "max_native_zoom",
        "max_zoom",
        "min_native_zoom",
        "min_zoom",
        "no_wrap",
        "tile_size",
        "tms",
        "zoom_offset"
       ],
       "url": "https://server.arcgisonline.com/ArcGIS/rest/services/World_Imagery/MapServer/tile/{z}/{y}/{x}"
      }
     },
     "3c44ce389ac04accb67376eb2e1ca1b2": {
      "model_module": "jupyter-leaflet",
      "model_module_version": "^0.17",
      "model_name": "LeafletPopupModel",
      "state": {
       "_model_module_version": "^0.17",
       "_view_module_version": "^0.17",
       "auto_close": false,
       "auto_pan": true,
       "auto_pan_padding": [
        5,
        5
       ],
       "auto_pan_padding_bottom_right": null,
       "auto_pan_padding_top_left": null,
       "close_button": false,
       "close_on_escape_key": false,
       "keep_in_view": false,
       "location": [
        -25.91185353156826,
        -54.798165725398846
       ],
       "options": [
        "auto_close",
        "auto_pan",
        "auto_pan_padding",
        "auto_pan_padding_bottom_right",
        "auto_pan_padding_top_left",
        "close_button",
        "close_on_escape_key",
        "keep_in_view",
        "max_height",
        "max_width",
        "min_width"
       ]
      }
     },
     "3c4eb5a934024ddf9c0710b12acd25c1": {
      "model_module": "jupyter-leaflet",
      "model_module_version": "^0.17",
      "model_name": "LeafletMapModel",
      "state": {
       "_model_module_version": "^0.17",
       "_view_module_version": "^0.17",
       "center": [
        -25.895892099924403,
        -54.81781789201834
       ],
       "controls": [
        "IPY_MODEL_cfc175b849aa401584d151f1e7665e30",
        "IPY_MODEL_86d81d11d6f5442e9954ef5c6bcd9be7"
       ],
       "default_style": "IPY_MODEL_bd3bf43beecb40fa937be69a3235b922",
       "dragging_style": "IPY_MODEL_5700aa5fd47c4550b7ec833d81c171ca",
       "fullscreen": false,
       "interpolation": "bilinear",
       "layers": [
        "IPY_MODEL_fe3ca7b0ed314d1ca4f082868c573f38"
       ],
       "layout": "IPY_MODEL_ad947b1a8de14d159aa62156834b06cd",
       "modisdate": "2023-06-18",
       "options": [
        "bounce_at_zoom_limits",
        "box_zoom",
        "center",
        "close_popup_on_click",
        "double_click_zoom",
        "dragging",
        "fullscreen",
        "inertia",
        "inertia_deceleration",
        "inertia_max_speed",
        "interpolation",
        "keyboard",
        "keyboard_pan_offset",
        "keyboard_zoom_offset",
        "max_zoom",
        "min_zoom",
        "prefer_canvas",
        "scroll_wheel_zoom",
        "tap",
        "tap_tolerance",
        "touch_zoom",
        "world_copy_jump",
        "zoom",
        "zoom_animation_threshold",
        "zoom_delta",
        "zoom_snap"
       ],
       "prefer_canvas": false,
       "style": "IPY_MODEL_5509c1b9409e4bfea1c84078d782f51d",
       "window_url": "http://localhost:8889/notebooks/Jupyter/LUCinSA_helpers/LUCinSA_helpers/notebooks/2b_ViewTimeSeriesComposite.ipynb"
      }
     },
     "3c961431164840f8a56fb537a87a0aed": {
      "model_module": "@jupyter-widgets/controls",
      "model_module_version": "1.5.0",
      "model_name": "DescriptionStyleModel",
      "state": {
       "description_width": ""
      }
     },
     "3cf22faa9387452db59544f257897ff5": {
      "model_module": "@jupyter-widgets/base",
      "model_module_version": "1.2.0",
      "model_name": "LayoutModel",
      "state": {}
     },
     "3d6f0f54902447d08d5b645adfe7ca1b": {
      "model_module": "@jupyter-widgets/controls",
      "model_module_version": "1.5.0",
      "model_name": "DescriptionStyleModel",
      "state": {
       "description_width": ""
      }
     },
     "3e3f0812e22b4288b272223a16f2cdf2": {
      "model_module": "jupyter-leaflet",
      "model_module_version": "^0.17",
      "model_name": "LeafletMapStyleModel",
      "state": {
       "_model_module_version": "^0.17"
      }
     },
     "3ec670b94d7e4f938b6808236d50ba68": {
      "model_module": "jupyter-leaflet",
      "model_module_version": "^0.17",
      "model_name": "LeafletPopupModel",
      "state": {
       "_model_module_version": "^0.17",
       "_view_module_version": "^0.17",
       "auto_close": false,
       "auto_pan": true,
       "auto_pan_padding": [
        5,
        5
       ],
       "auto_pan_padding_bottom_right": null,
       "auto_pan_padding_top_left": null,
       "close_button": false,
       "close_on_escape_key": false,
       "keep_in_view": false,
       "location": [
        -25.91185353156826,
        -54.798165725398846
       ],
       "options": [
        "auto_close",
        "auto_pan",
        "auto_pan_padding",
        "auto_pan_padding_bottom_right",
        "auto_pan_padding_top_left",
        "close_button",
        "close_on_escape_key",
        "keep_in_view",
        "max_height",
        "max_width",
        "min_width"
       ]
      }
     },
     "3f153c790fa84273a0090fa5b2ff63c4": {
      "model_module": "jupyter-leaflet",
      "model_module_version": "^0.17",
      "model_name": "LeafletMapStyleModel",
      "state": {
       "_model_module_version": "^0.17",
       "cursor": "move"
      }
     },
     "401cdcfe9a2b4e2f98ec9447fa640f5c": {
      "model_module": "jupyter-leaflet",
      "model_module_version": "^0.17",
      "model_name": "LeafletMarkerModel",
      "state": {
       "_model_module_version": "^0.17",
       "_view_module_version": "^0.17",
       "location": [
        -25.89589739275852,
        -54.79313707211987
       ],
       "options": [
        "alt",
        "draggable",
        "keyboard",
        "rise_offset",
        "rise_on_hover",
        "rotation_angle",
        "rotation_origin",
        "title",
        "z_index_offset"
       ],
       "popup": "IPY_MODEL_e4abc0c4f3f847a5b55349cc2cfde401"
      }
     },
     "412260f5ee394bb48aa5867391b4ae67": {
      "model_module": "@jupyter-widgets/controls",
      "model_module_version": "1.5.0",
      "model_name": "LabelModel",
      "state": {
       "layout": "IPY_MODEL_e78051a0cbf54a4abfa3fdc0e0b867be",
       "style": "IPY_MODEL_e8a13a4b61dd4025a66490348e6ad8fe",
       "value": "[-25.90477647869274, -54.807213305030025]"
      }
     },
     "41a1455e2981419b92e53432e8f9afce": {
      "model_module": "@jupyter-widgets/base",
      "model_module_version": "1.2.0",
      "model_name": "LayoutModel",
      "state": {}
     },
     "41a32e3659b841f589be3991fb70323f": {
      "model_module": "@jupyter-widgets/controls",
      "model_module_version": "1.5.0",
      "model_name": "LabelModel",
      "state": {
       "layout": "IPY_MODEL_eeb12c7fad2f429ea28382756f2d577b",
       "style": "IPY_MODEL_2e399b6d7dc44ca58e541a8093209f03",
       "value": "4: 4806/4497/309"
      }
     },
     "423edf2d4e5f40e6a0ff5d79383b5b84": {
      "model_module": "@jupyter-widgets/controls",
      "model_module_version": "1.5.0",
      "model_name": "LabelModel",
      "state": {
       "layout": "IPY_MODEL_9aba6f875796439b9fa6f69ed9e7d449",
       "style": "IPY_MODEL_6946aae7cefb4631a015b81557fdb4bd",
       "value": "[-25.89968974512961, -54.82506608823315]"
      }
     },
     "426ac690ded7455e94e012d7f04a7f68": {
      "model_module": "jupyter-leaflet",
      "model_module_version": "^0.17",
      "model_name": "LeafletZoomControlModel",
      "state": {
       "_model_module_version": "^0.17",
       "_view_module_version": "^0.17",
       "options": [
        "position",
        "zoom_in_text",
        "zoom_in_title",
        "zoom_out_text",
        "zoom_out_title"
       ]
      }
     },
     "427a73f64fd44c72a372b2522a919318": {
      "model_module": "@jupyter-widgets/controls",
      "model_module_version": "1.5.0",
      "model_name": "DescriptionStyleModel",
      "state": {
       "description_width": ""
      }
     },
     "434554c7789449bc88a1fd8a104edddc": {
      "model_module": "jupyter-leaflet",
      "model_module_version": "^0.17",
      "model_name": "LeafletTileLayerModel",
      "state": {
       "_model_module_version": "^0.17",
       "_view_module_version": "^0.17",
       "attribution": "Tiles &copy; Esri &mdash; Source: Esri, i-cubed, USDA, USGS, AEX, GeoEye, Getmapping, Aerogrid, IGN, IGP, UPR-EGP, and the GIS User Community",
       "base": true,
       "min_zoom": 1,
       "name": "Esri.WorldImagery",
       "options": [
        "attribution",
        "bounds",
        "detect_retina",
        "max_native_zoom",
        "max_zoom",
        "min_native_zoom",
        "min_zoom",
        "no_wrap",
        "tile_size",
        "tms",
        "zoom_offset"
       ],
       "url": "https://server.arcgisonline.com/ArcGIS/rest/services/World_Imagery/MapServer/tile/{z}/{y}/{x}"
      }
     },
     "435a4c279f8c48c2a61918c9123d03a6": {
      "model_module": "jupyter-leaflet",
      "model_module_version": "^0.17",
      "model_name": "LeafletMarkerModel",
      "state": {
       "_model_module_version": "^0.17",
       "_view_module_version": "^0.17",
       "location": [
        -25.899079142817186,
        -54.809045075671754
       ],
       "options": [
        "alt",
        "draggable",
        "keyboard",
        "rise_offset",
        "rise_on_hover",
        "rotation_angle",
        "rotation_origin",
        "title",
        "z_index_offset"
       ],
       "popup": "IPY_MODEL_e10b8254a4d04b56bdbfc2d7c68829ab"
      }
     },
     "43edfa88be7d43db87681d39caf568df": {
      "model_module": "jupyter-leaflet",
      "model_module_version": "^0.17",
      "model_name": "LeafletPopupModel",
      "state": {
       "_model_module_version": "^0.17",
       "_view_module_version": "^0.17",
       "auto_close": false,
       "auto_pan": true,
       "auto_pan_padding": [
        5,
        5
       ],
       "auto_pan_padding_bottom_right": null,
       "auto_pan_padding_top_left": null,
       "close_button": false,
       "close_on_escape_key": false,
       "keep_in_view": false,
       "location": [
        -25.90477647869274,
        -54.807213305030025
       ],
       "options": [
        "auto_close",
        "auto_pan",
        "auto_pan_padding",
        "auto_pan_padding_bottom_right",
        "auto_pan_padding_top_left",
        "close_button",
        "close_on_escape_key",
        "keep_in_view",
        "max_height",
        "max_width",
        "min_width"
       ]
      }
     },
     "43effe639d33480f8799ffba5d339e45": {
      "model_module": "jupyter-leaflet",
      "model_module_version": "^0.17",
      "model_name": "LeafletMapStyleModel",
      "state": {
       "_model_module_version": "^0.17"
      }
     },
     "444548303bf54711aa9c8e2db2fbe7ca": {
      "model_module": "@jupyter-widgets/controls",
      "model_module_version": "1.5.0",
      "model_name": "DescriptionStyleModel",
      "state": {
       "description_width": ""
      }
     },
     "44db4a13a0554e3d880bc4c67273e959": {
      "model_module": "@jupyter-widgets/controls",
      "model_module_version": "1.5.0",
      "model_name": "DescriptionStyleModel",
      "state": {
       "description_width": ""
      }
     },
     "4569187957ef41f5adddb2ee1c7da45a": {
      "model_module": "@jupyter-widgets/base",
      "model_module_version": "1.2.0",
      "model_name": "LayoutModel",
      "state": {}
     },
     "45775c2f656744bbb1a45a0b679f9b44": {
      "model_module": "@jupyter-widgets/controls",
      "model_module_version": "1.5.0",
      "model_name": "DescriptionStyleModel",
      "state": {
       "description_width": ""
      }
     },
     "45d9eb547689446da31743c05dec8926": {
      "model_module": "@jupyter-widgets/controls",
      "model_module_version": "1.5.0",
      "model_name": "LabelModel",
      "state": {
       "layout": "IPY_MODEL_e978107abfc94c38a80525c1b2fd172d",
       "style": "IPY_MODEL_d676053fe5d74456b89f1afcca6591b0",
       "value": "2"
      }
     },
     "45fbb1c60ce54d3db676845590cc899b": {
      "model_module": "jupyter-leaflet",
      "model_module_version": "^0.17",
      "model_name": "LeafletPopupModel",
      "state": {
       "_model_module_version": "^0.17",
       "_view_module_version": "^0.17",
       "auto_close": false,
       "auto_pan": true,
       "auto_pan_padding": [
        5,
        5
       ],
       "auto_pan_padding_bottom_right": null,
       "auto_pan_padding_top_left": null,
       "close_button": false,
       "close_on_escape_key": false,
       "keep_in_view": false,
       "location": [
        -25.89589739275852,
        -54.79313707211987
       ],
       "options": [
        "auto_close",
        "auto_pan",
        "auto_pan_padding",
        "auto_pan_padding_bottom_right",
        "auto_pan_padding_top_left",
        "close_button",
        "close_on_escape_key",
        "keep_in_view",
        "max_height",
        "max_width",
        "min_width"
       ]
      }
     },
     "464bbf118df54117a89435ce8988a8b2": {
      "model_module": "jupyter-leaflet",
      "model_module_version": "^0.17",
      "model_name": "LeafletPopupModel",
      "state": {
       "_model_module_version": "^0.17",
       "_view_module_version": "^0.17",
       "auto_close": false,
       "auto_pan": true,
       "auto_pan_padding": [
        5,
        5
       ],
       "auto_pan_padding_bottom_right": null,
       "auto_pan_padding_top_left": null,
       "close_button": false,
       "close_on_escape_key": false,
       "keep_in_view": false,
       "location": [
        -25.89929597486029,
        -54.8098740563728
       ],
       "options": [
        "auto_close",
        "auto_pan",
        "auto_pan_padding",
        "auto_pan_padding_bottom_right",
        "auto_pan_padding_top_left",
        "close_button",
        "close_on_escape_key",
        "keep_in_view",
        "max_height",
        "max_width",
        "min_width"
       ]
      }
     },
     "4678c0f2974445cd87da4e47a6384ab7": {
      "model_module": "@jupyter-widgets/base",
      "model_module_version": "1.2.0",
      "model_name": "LayoutModel",
      "state": {}
     },
     "4706e8ea3b004d30884839de258356be": {
      "model_module": "jupyter-leaflet",
      "model_module_version": "^0.17",
      "model_name": "LeafletTileLayerModel",
      "state": {
       "_model_module_version": "^0.17",
       "_view_module_version": "^0.17",
       "attribution": "Tiles &copy; Esri &mdash; Source: Esri, i-cubed, USDA, USGS, AEX, GeoEye, Getmapping, Aerogrid, IGN, IGP, UPR-EGP, and the GIS User Community",
       "base": true,
       "min_zoom": 1,
       "name": "Esri.WorldImagery",
       "options": [
        "attribution",
        "bounds",
        "detect_retina",
        "max_native_zoom",
        "max_zoom",
        "min_native_zoom",
        "min_zoom",
        "no_wrap",
        "tile_size",
        "tms",
        "zoom_offset"
       ],
       "url": "https://server.arcgisonline.com/ArcGIS/rest/services/World_Imagery/MapServer/tile/{z}/{y}/{x}"
      }
     },
     "47090767c1294f6f8d174e566a650865": {
      "model_module": "jupyter-leaflet",
      "model_module_version": "^0.17",
      "model_name": "LeafletPopupModel",
      "state": {
       "_model_module_version": "^0.17",
       "_view_module_version": "^0.17",
       "auto_close": false,
       "auto_pan": true,
       "auto_pan_padding": [
        5,
        5
       ],
       "auto_pan_padding_bottom_right": null,
       "auto_pan_padding_top_left": null,
       "close_button": false,
       "close_on_escape_key": false,
       "keep_in_view": false,
       "location": [
        -25.898677004544265,
        -54.811161516699954
       ],
       "options": [
        "auto_close",
        "auto_pan",
        "auto_pan_padding",
        "auto_pan_padding_bottom_right",
        "auto_pan_padding_top_left",
        "close_button",
        "close_on_escape_key",
        "keep_in_view",
        "max_height",
        "max_width",
        "min_width"
       ]
      }
     },
     "4799adea5a4845d2b9778ab7d2733c92": {
      "model_module": "@jupyter-widgets/controls",
      "model_module_version": "1.5.0",
      "model_name": "DescriptionStyleModel",
      "state": {
       "description_width": ""
      }
     },
     "47b280486ba24a7e946d4859196e366f": {
      "model_module": "jupyter-leaflet",
      "model_module_version": "^0.17",
      "model_name": "LeafletMapStyleModel",
      "state": {
       "_model_module_version": "^0.17"
      }
     },
     "48464d41fe614a92af700e279a20a005": {
      "model_module": "jupyter-leaflet",
      "model_module_version": "^0.17",
      "model_name": "LeafletMapStyleModel",
      "state": {
       "_model_module_version": "^0.17",
       "cursor": "move"
      }
     },
     "48da67b432114dc59093df4a93d8826c": {
      "model_module": "@jupyter-widgets/controls",
      "model_module_version": "1.5.0",
      "model_name": "LabelModel",
      "state": {
       "layout": "IPY_MODEL_3132bc779f664ea8a2f97c0be61b143c",
       "style": "IPY_MODEL_4df0e75fb5d84ca8b7d8657e001c3cac",
       "value": "1"
      }
     },
     "4a5a37d856334c81adef4a252e0e6bb8": {
      "model_module": "@jupyter-widgets/controls",
      "model_module_version": "1.5.0",
      "model_name": "LabelModel",
      "state": {
       "layout": "IPY_MODEL_d62cb2c45c1848b28715e452c2bbbfaf",
       "style": "IPY_MODEL_373ad5861a6d4a4fb44397dc25e344e1",
       "value": "3: 4964/2650/2314"
      }
     },
     "4a675a43e3e747f5bf90eb650c0666f5": {
      "model_module": "jupyter-leaflet",
      "model_module_version": "^0.17",
      "model_name": "LeafletZoomControlModel",
      "state": {
       "_model_module_version": "^0.17",
       "_view_module_version": "^0.17",
       "options": [
        "position",
        "zoom_in_text",
        "zoom_in_title",
        "zoom_out_text",
        "zoom_out_title"
       ]
      }
     },
     "4bb49a282e4b4448b18fcae1ede04e3f": {
      "model_module": "@jupyter-widgets/base",
      "model_module_version": "1.2.0",
      "model_name": "LayoutModel",
      "state": {}
     },
     "4bb51f615f5d44e696383b7396069732": {
      "model_module": "@jupyter-widgets/base",
      "model_module_version": "1.2.0",
      "model_name": "LayoutModel",
      "state": {}
     },
     "4c1f0cff6d7c4a3fa785e371f456558f": {
      "model_module": "@jupyter-widgets/base",
      "model_module_version": "1.2.0",
      "model_name": "LayoutModel",
      "state": {}
     },
     "4c321630d5e94b23aed6c599a4c72d4c": {
      "model_module": "@jupyter-widgets/base",
      "model_module_version": "1.2.0",
      "model_name": "LayoutModel",
      "state": {}
     },
     "4c49773b70e5484bba6c964cad9c609f": {
      "model_module": "@jupyter-widgets/controls",
      "model_module_version": "1.5.0",
      "model_name": "LabelModel",
      "state": {
       "layout": "IPY_MODEL_518fe1ae76a54c07a99bffdd8275758a",
       "style": "IPY_MODEL_b0eaf9958a754009a59dd1ee8e6be1b7",
       "value": "[-25.898647407328127, -54.81184816220777]"
      }
     },
     "4c7dbdebaa614ed39d2bd79569aeda5d": {
      "model_module": "jupyter-leaflet",
      "model_module_version": "^0.17",
      "model_name": "LeafletPopupModel",
      "state": {
       "_model_module_version": "^0.17",
       "_view_module_version": "^0.17",
       "auto_close": false,
       "auto_pan": true,
       "auto_pan_padding": [
        5,
        5
       ],
       "auto_pan_padding_bottom_right": null,
       "auto_pan_padding_top_left": null,
       "close_button": false,
       "close_on_escape_key": false,
       "keep_in_view": false,
       "location": [
        -25.90477647869274,
        -54.807213305030025
       ],
       "options": [
        "auto_close",
        "auto_pan",
        "auto_pan_padding",
        "auto_pan_padding_bottom_right",
        "auto_pan_padding_top_left",
        "close_button",
        "close_on_escape_key",
        "keep_in_view",
        "max_height",
        "max_width",
        "min_width"
       ]
      }
     },
     "4c817208d7094b1fb44cf46bafd9f627": {
      "model_module": "jupyter-leaflet",
      "model_module_version": "^0.17",
      "model_name": "LeafletPopupModel",
      "state": {
       "_model_module_version": "^0.17",
       "_view_module_version": "^0.17",
       "auto_close": false,
       "auto_pan": true,
       "auto_pan_padding": [
        5,
        5
       ],
       "auto_pan_padding_bottom_right": null,
       "auto_pan_padding_top_left": null,
       "close_button": false,
       "close_on_escape_key": false,
       "keep_in_view": false,
       "location": [
        -25.90660368515048,
        -54.82064877712176
       ],
       "options": [
        "auto_close",
        "auto_pan",
        "auto_pan_padding",
        "auto_pan_padding_bottom_right",
        "auto_pan_padding_top_left",
        "close_button",
        "close_on_escape_key",
        "keep_in_view",
        "max_height",
        "max_width",
        "min_width"
       ]
      }
     },
     "4ce479b9fa124c67a3fa47543694fa9e": {
      "model_module": "jupyter-leaflet",
      "model_module_version": "^0.17",
      "model_name": "LeafletMapModel",
      "state": {
       "_model_module_version": "^0.17",
       "_view_module_version": "^0.17",
       "bottom": 4819872,
       "center": [
        -25.90710037306105,
        -54.80353832244874
       ],
       "controls": [
        "IPY_MODEL_fff689cc8e734efcba078e74921fe7de",
        "IPY_MODEL_fb76e9fc997d448eacbcb34a2e408307"
       ],
       "default_style": "IPY_MODEL_6e4adc6ab0154243875cce3a76a87dc8",
       "dragging_style": "IPY_MODEL_1b75255288764db0b5557e714f171ff3",
       "east": -54.78250980377198,
       "fullscreen": false,
       "interpolation": "bilinear",
       "layers": [
        "IPY_MODEL_3bd0ee8b31cd47bdaf738bca6672aa65",
        "IPY_MODEL_0568ec6fe97d47b5ac2db1db724a5c5a",
        "IPY_MODEL_b1be15ef67e24af7b8d23019235e459e",
        "IPY_MODEL_8478f3855c6d4629a9761c9fa203b3c2",
        "IPY_MODEL_fa49147a14cc47b592849dbcc03d77d9",
        "IPY_MODEL_f76bbcbe68fb434e951afb99f3b7aca2"
       ],
       "layout": "IPY_MODEL_23729d554afc4526a6308f5879e52fd0",
       "left": 2916799,
       "modisdate": "2023-07-17",
       "north": -25.899379618739122,
       "options": [
        "bounce_at_zoom_limits",
        "box_zoom",
        "center",
        "close_popup_on_click",
        "double_click_zoom",
        "dragging",
        "fullscreen",
        "inertia",
        "inertia_deceleration",
        "inertia_max_speed",
        "interpolation",
        "keyboard",
        "keyboard_pan_offset",
        "keyboard_zoom_offset",
        "max_zoom",
        "min_zoom",
        "prefer_canvas",
        "scroll_wheel_zoom",
        "tap",
        "tap_tolerance",
        "touch_zoom",
        "world_copy_jump",
        "zoom",
        "zoom_animation_threshold",
        "zoom_delta",
        "zoom_snap"
       ],
       "prefer_canvas": false,
       "right": 2917779,
       "south": -25.91482062206972,
       "style": "IPY_MODEL_6e4adc6ab0154243875cce3a76a87dc8",
       "top": 4819472,
       "west": -54.82456684112549,
       "window_url": "http://localhost:8889/notebooks/Jupyter/LUCinSA_helpers/LUCinSA_helpers/notebooks/2b_ViewTimeSeriesComposite.ipynb#",
       "zoom": 15
      }
     },
     "4d1648442e2441dc8dab0fe64f42ed47": {
      "model_module": "@jupyter-widgets/controls",
      "model_module_version": "1.5.0",
      "model_name": "LabelModel",
      "state": {
       "layout": "IPY_MODEL_7231a26fe93c4bedb78333e076ba945e",
       "style": "IPY_MODEL_5ad426ff4e4147b08b8b50d093d6f6ae",
       "value": "[-25.89983515679818, -54.824722765479244]"
      }
     },
     "4d73d77cd02e4084aea7fb0459789282": {
      "model_module": "jupyter-leaflet",
      "model_module_version": "^0.17",
      "model_name": "LeafletMarkerModel",
      "state": {
       "_model_module_version": "^0.17",
       "_view_module_version": "^0.17",
       "location": [
        -25.89756645469786,
        -54.80051851132886
       ],
       "options": [
        "alt",
        "draggable",
        "keyboard",
        "rise_offset",
        "rise_on_hover",
        "rotation_angle",
        "rotation_origin",
        "title",
        "z_index_offset"
       ],
       "popup": "IPY_MODEL_79f824fb876e42f68fdf62fba1eea0cf"
      }
     },
     "4da9daabc413483f976de4de63713154": {
      "model_module": "jupyter-leaflet",
      "model_module_version": "^0.17",
      "model_name": "LeafletPopupModel",
      "state": {
       "_model_module_version": "^0.17",
       "_view_module_version": "^0.17",
       "auto_close": false,
       "auto_pan": true,
       "auto_pan_padding": [
        5,
        5
       ],
       "auto_pan_padding_bottom_right": null,
       "auto_pan_padding_top_left": null,
       "close_button": false,
       "close_on_escape_key": false,
       "keep_in_view": false,
       "location": [
        -25.90706691629243,
        -54.80477333983649
       ],
       "options": [
        "auto_close",
        "auto_pan",
        "auto_pan_padding",
        "auto_pan_padding_bottom_right",
        "auto_pan_padding_top_left",
        "close_button",
        "close_on_escape_key",
        "keep_in_view",
        "max_height",
        "max_width",
        "min_width"
       ]
      }
     },
     "4df0e75fb5d84ca8b7d8657e001c3cac": {
      "model_module": "@jupyter-widgets/controls",
      "model_module_version": "1.5.0",
      "model_name": "DescriptionStyleModel",
      "state": {
       "description_width": ""
      }
     },
     "4dfbecd26aff4bfa9140081c6164d734": {
      "model_module": "jupyter-leaflet",
      "model_module_version": "^0.17",
      "model_name": "LeafletPopupModel",
      "state": {
       "_model_module_version": "^0.17",
       "_view_module_version": "^0.17",
       "auto_close": false,
       "auto_pan": true,
       "auto_pan_padding": [
        5,
        5
       ],
       "auto_pan_padding_bottom_right": null,
       "auto_pan_padding_top_left": null,
       "close_button": false,
       "close_on_escape_key": false,
       "keep_in_view": false,
       "location": [
        -25.898337921464023,
        -54.81286454130896
       ],
       "options": [
        "auto_close",
        "auto_pan",
        "auto_pan_padding",
        "auto_pan_padding_bottom_right",
        "auto_pan_padding_top_left",
        "close_button",
        "close_on_escape_key",
        "keep_in_view",
        "max_height",
        "max_width",
        "min_width"
       ]
      }
     },
     "4ed03b08489d4ba5a41b3781f051ba2f": {
      "model_module": "@jupyter-widgets/controls",
      "model_module_version": "1.5.0",
      "model_name": "LabelModel",
      "state": {
       "layout": "IPY_MODEL_ab762c8ba95642cda006f6058edf9ac8",
       "style": "IPY_MODEL_1410e7752792494c9b9c906ba856948e",
       "value": "[-25.902353455456915, -54.791506289038814]"
      }
     },
     "4f98afdb5f48477ca9a2e0eae60d0597": {
      "model_module": "jupyter-leaflet",
      "model_module_version": "^0.17",
      "model_name": "LeafletAttributionControlModel",
      "state": {
       "_model_module_version": "^0.17",
       "_view_module_version": "^0.17",
       "options": [
        "position",
        "prefix"
       ],
       "position": "bottomright",
       "prefix": "ipyleaflet"
      }
     },
     "50ce5e29c0844d9c98914a1352ae53d1": {
      "model_module": "@jupyter-widgets/base",
      "model_module_version": "1.2.0",
      "model_name": "LayoutModel",
      "state": {}
     },
     "50d867ad3ae4466d898df3a622624fb8": {
      "model_module": "jupyter-leaflet",
      "model_module_version": "^0.17",
      "model_name": "LeafletPopupModel",
      "state": {
       "_model_module_version": "^0.17",
       "_view_module_version": "^0.17",
       "auto_close": false,
       "auto_pan": true,
       "auto_pan_padding": [
        5,
        5
       ],
       "auto_pan_padding_bottom_right": null,
       "auto_pan_padding_top_left": null,
       "close_button": false,
       "close_on_escape_key": false,
       "keep_in_view": false,
       "location": [
        -25.899079142817186,
        -54.809045075671754
       ],
       "options": [
        "auto_close",
        "auto_pan",
        "auto_pan_padding",
        "auto_pan_padding_bottom_right",
        "auto_pan_padding_top_left",
        "close_button",
        "close_on_escape_key",
        "keep_in_view",
        "max_height",
        "max_width",
        "min_width"
       ]
      }
     },
     "51168051b4f54b5086c798019fdaed9b": {
      "model_module": "@jupyter-widgets/controls",
      "model_module_version": "1.5.0",
      "model_name": "DescriptionStyleModel",
      "state": {
       "description_width": ""
      }
     },
     "511e42a48f384b19adaede26cddad33e": {
      "model_module": "@jupyter-widgets/controls",
      "model_module_version": "1.5.0",
      "model_name": "LabelModel",
      "state": {
       "layout": "IPY_MODEL_ce9cb986009a450ba4122cde5fc62692",
       "style": "IPY_MODEL_348e1f8a0b1e4e7eb69514db775b6928",
       "value": "3: 4964/2650/2314"
      }
     },
     "5145b7e0548f4b7ba8a60113e5b5cdf8": {
      "model_module": "jupyter-leaflet",
      "model_module_version": "^0.17",
      "model_name": "LeafletZoomControlModel",
      "state": {
       "_model_module_version": "^0.17",
       "_view_module_version": "^0.17",
       "options": [
        "position",
        "zoom_in_text",
        "zoom_in_title",
        "zoom_out_text",
        "zoom_out_title"
       ]
      }
     },
     "518fe1ae76a54c07a99bffdd8275758a": {
      "model_module": "@jupyter-widgets/base",
      "model_module_version": "1.2.0",
      "model_name": "LayoutModel",
      "state": {}
     },
     "5200084258584043b95df5c2f402da16": {
      "model_module": "jupyter-leaflet",
      "model_module_version": "^0.17",
      "model_name": "LeafletMapModel",
      "state": {
       "_model_module_version": "^0.17",
       "_view_module_version": "^0.17",
       "center": [
        -25.895892099924403,
        -54.81781789201834
       ],
       "controls": [
        "IPY_MODEL_187e54d2e89840a58b2e8f9d76dd1c75",
        "IPY_MODEL_0ad3fbed13a5456f882a1002c4c5eaa7"
       ],
       "default_style": "IPY_MODEL_000c15456d904bd7b0520b01dc862935",
       "dragging_style": "IPY_MODEL_d8931e3aaf7f4d5ab5ca354b897ab670",
       "fullscreen": false,
       "interpolation": "bilinear",
       "layers": [
        "IPY_MODEL_54f19c0288b7433f90fab53e203a2840"
       ],
       "layout": "IPY_MODEL_74a67e3cd3254ac4b4b5a68dfee58cb2",
       "modisdate": "2023-06-18",
       "options": [
        "bounce_at_zoom_limits",
        "box_zoom",
        "center",
        "close_popup_on_click",
        "double_click_zoom",
        "dragging",
        "fullscreen",
        "inertia",
        "inertia_deceleration",
        "inertia_max_speed",
        "interpolation",
        "keyboard",
        "keyboard_pan_offset",
        "keyboard_zoom_offset",
        "max_zoom",
        "min_zoom",
        "prefer_canvas",
        "scroll_wheel_zoom",
        "tap",
        "tap_tolerance",
        "touch_zoom",
        "world_copy_jump",
        "zoom",
        "zoom_animation_threshold",
        "zoom_delta",
        "zoom_snap"
       ],
       "prefer_canvas": false,
       "style": "IPY_MODEL_27420b203c78400086c28f71044d8ded",
       "window_url": "http://localhost:8889/notebooks/Jupyter/LUCinSA_helpers/LUCinSA_helpers/notebooks/2b_ViewTimeSeriesComposite.ipynb"
      }
     },
     "5272aa59232d422b8d05cdad5f46ce46": {
      "model_module": "jupyter-leaflet",
      "model_module_version": "^0.17",
      "model_name": "LeafletMapStyleModel",
      "state": {
       "_model_module_version": "^0.17"
      }
     },
     "52d14214fa394a1d99bcdd1f6cc54c41": {
      "model_module": "jupyter-leaflet",
      "model_module_version": "^0.17",
      "model_name": "LeafletMarkerModel",
      "state": {
       "_model_module_version": "^0.17",
       "_view_module_version": "^0.17",
       "location": [
        -25.90660368515048,
        -54.82064877712176
       ],
       "options": [
        "alt",
        "draggable",
        "keyboard",
        "rise_offset",
        "rise_on_hover",
        "rotation_angle",
        "rotation_origin",
        "title",
        "z_index_offset"
       ],
       "popup": "IPY_MODEL_2df614882c70475ab34b857801676d33"
      }
     },
     "5339f15ffbf2484eb56cd72380ef4109": {
      "model_module": "@jupyter-widgets/controls",
      "model_module_version": "1.5.0",
      "model_name": "DescriptionStyleModel",
      "state": {
       "description_width": ""
      }
     },
     "53a5353b505b4b63ba54c32c12a223d6": {
      "model_module": "jupyter-leaflet",
      "model_module_version": "^0.17",
      "model_name": "LeafletMapStyleModel",
      "state": {
       "_model_module_version": "^0.17"
      }
     },
     "5428ab7c8b8b4517bdc20ab4efc6ef62": {
      "model_module": "jupyter-leaflet",
      "model_module_version": "^0.17",
      "model_name": "LeafletPopupModel",
      "state": {
       "_model_module_version": "^0.17",
       "_view_module_version": "^0.17",
       "auto_close": false,
       "auto_pan": true,
       "auto_pan_padding": [
        5,
        5
       ],
       "auto_pan_padding_bottom_right": null,
       "auto_pan_padding_top_left": null,
       "close_button": false,
       "close_on_escape_key": false,
       "keep_in_view": false,
       "location": [
        -25.898647407328127,
        -54.81184816220777
       ],
       "options": [
        "auto_close",
        "auto_pan",
        "auto_pan_padding",
        "auto_pan_padding_bottom_right",
        "auto_pan_padding_top_left",
        "close_button",
        "close_on_escape_key",
        "keep_in_view",
        "max_height",
        "max_width",
        "min_width"
       ]
      }
     },
     "54ad20b18e1440ee8b6cc5a030e52f67": {
      "model_module": "jupyter-leaflet",
      "model_module_version": "^0.17",
      "model_name": "LeafletTileLayerModel",
      "state": {
       "_model_module_version": "^0.17",
       "_view_module_version": "^0.17",
       "attribution": "Tiles &copy; Esri &mdash; Source: Esri, i-cubed, USDA, USGS, AEX, GeoEye, Getmapping, Aerogrid, IGN, IGP, UPR-EGP, and the GIS User Community",
       "base": true,
       "min_zoom": 1,
       "name": "Esri.WorldImagery",
       "options": [
        "attribution",
        "bounds",
        "detect_retina",
        "max_native_zoom",
        "max_zoom",
        "min_native_zoom",
        "min_zoom",
        "no_wrap",
        "tile_size",
        "tms",
        "zoom_offset"
       ],
       "url": "https://server.arcgisonline.com/ArcGIS/rest/services/World_Imagery/MapServer/tile/{z}/{y}/{x}"
      }
     },
     "54f19c0288b7433f90fab53e203a2840": {
      "model_module": "jupyter-leaflet",
      "model_module_version": "^0.17",
      "model_name": "LeafletTileLayerModel",
      "state": {
       "_model_module_version": "^0.17",
       "_view_module_version": "^0.17",
       "attribution": "Tiles &copy; Esri &mdash; Source: Esri, i-cubed, USDA, USGS, AEX, GeoEye, Getmapping, Aerogrid, IGN, IGP, UPR-EGP, and the GIS User Community",
       "base": true,
       "min_zoom": 1,
       "name": "Esri.WorldImagery",
       "options": [
        "attribution",
        "bounds",
        "detect_retina",
        "max_native_zoom",
        "max_zoom",
        "min_native_zoom",
        "min_zoom",
        "no_wrap",
        "tile_size",
        "tms",
        "zoom_offset"
       ],
       "url": "https://server.arcgisonline.com/ArcGIS/rest/services/World_Imagery/MapServer/tile/{z}/{y}/{x}"
      }
     },
     "5509c1b9409e4bfea1c84078d782f51d": {
      "model_module": "jupyter-leaflet",
      "model_module_version": "^0.17",
      "model_name": "LeafletMapStyleModel",
      "state": {
       "_model_module_version": "^0.17"
      }
     },
     "5519dee2069b4e4495b440e9c3f75d2e": {
      "model_module": "jupyter-leaflet",
      "model_module_version": "^0.17",
      "model_name": "LeafletPopupModel",
      "state": {
       "_model_module_version": "^0.17",
       "_view_module_version": "^0.17",
       "auto_close": false,
       "auto_pan": true,
       "auto_pan_padding": [
        5,
        5
       ],
       "auto_pan_padding_bottom_right": null,
       "auto_pan_padding_top_left": null,
       "close_button": false,
       "close_on_escape_key": true,
       "keep_in_view": false,
       "location": [
        -25.898523871092685,
        -54.8139080987312
       ],
       "options": [
        "auto_close",
        "auto_pan",
        "auto_pan_padding",
        "auto_pan_padding_bottom_right",
        "auto_pan_padding_top_left",
        "close_button",
        "close_on_escape_key",
        "keep_in_view",
        "max_height",
        "max_width",
        "min_width"
       ]
      }
     },
     "55240b726e6c4ec58456a126ffce3c16": {
      "model_module": "jupyter-leaflet",
      "model_module_version": "^0.17",
      "model_name": "LeafletTileLayerModel",
      "state": {
       "_model_module_version": "^0.17",
       "_view_module_version": "^0.17",
       "attribution": "Tiles &copy; Esri &mdash; Source: Esri, i-cubed, USDA, USGS, AEX, GeoEye, Getmapping, Aerogrid, IGN, IGP, UPR-EGP, and the GIS User Community",
       "base": true,
       "min_zoom": 1,
       "name": "Esri.WorldImagery",
       "options": [
        "attribution",
        "bounds",
        "detect_retina",
        "max_native_zoom",
        "max_zoom",
        "min_native_zoom",
        "min_zoom",
        "no_wrap",
        "tile_size",
        "tms",
        "zoom_offset"
       ],
       "url": "https://server.arcgisonline.com/ArcGIS/rest/services/World_Imagery/MapServer/tile/{z}/{y}/{x}"
      }
     },
     "5699b0c31185456587ccaa57f79553b6": {
      "model_module": "jupyter-leaflet",
      "model_module_version": "^0.17",
      "model_name": "LeafletMarkerModel",
      "state": {
       "_model_module_version": "^0.17",
       "_view_module_version": "^0.17",
       "location": [
        -25.89968974512961,
        -54.82506608823315
       ],
       "options": [
        "alt",
        "draggable",
        "keyboard",
        "rise_offset",
        "rise_on_hover",
        "rotation_angle",
        "rotation_origin",
        "title",
        "z_index_offset"
       ],
       "popup": "IPY_MODEL_34e7086146c54fa4a1159d4efbcd272c"
      }
     },
     "5700aa5fd47c4550b7ec833d81c171ca": {
      "model_module": "jupyter-leaflet",
      "model_module_version": "^0.17",
      "model_name": "LeafletMapStyleModel",
      "state": {
       "_model_module_version": "^0.17",
       "cursor": "move"
      }
     },
     "571c5701498141a49b3cd14cfdde5a5b": {
      "model_module": "jupyter-leaflet",
      "model_module_version": "^0.17",
      "model_name": "LeafletMarkerModel",
      "state": {
       "_model_module_version": "^0.17",
       "_view_module_version": "^0.17",
       "location": [
        -25.899743791788165,
        -54.825666903052486
       ],
       "options": [
        "alt",
        "draggable",
        "keyboard",
        "rise_offset",
        "rise_on_hover",
        "rotation_angle",
        "rotation_origin",
        "title",
        "z_index_offset"
       ]
      }
     },
     "5765802a30904f2d8549d597f3645843": {
      "model_module": "jupyter-leaflet",
      "model_module_version": "^0.17",
      "model_name": "LeafletMarkerModel",
      "state": {
       "_model_module_version": "^0.17",
       "_view_module_version": "^0.17",
       "location": [
        -25.898523871092685,
        -54.8139080987312
       ],
       "options": [
        "alt",
        "draggable",
        "keyboard",
        "rise_offset",
        "rise_on_hover",
        "rotation_angle",
        "rotation_origin",
        "title",
        "z_index_offset"
       ],
       "popup": "IPY_MODEL_dc3ae91fa97e4278af86c693746ad3a2"
      }
     },
     "57ad7ed80a364fc1b8e5afbf7063dd31": {
      "model_module": "jupyter-leaflet",
      "model_module_version": "^0.17",
      "model_name": "LeafletZoomControlModel",
      "state": {
       "_model_module_version": "^0.17",
       "_view_module_version": "^0.17",
       "options": [
        "position",
        "zoom_in_text",
        "zoom_in_title",
        "zoom_out_text",
        "zoom_out_title"
       ]
      }
     },
     "5806234a791a4a42a57474ed310b77b6": {
      "model_module": "@jupyter-widgets/base",
      "model_module_version": "1.2.0",
      "model_name": "LayoutModel",
      "state": {}
     },
     "5896a75dc0394fb0b8bc0dc9c24c9ba3": {
      "model_module": "jupyter-leaflet",
      "model_module_version": "^0.17",
      "model_name": "LeafletMarkerModel",
      "state": {
       "_model_module_version": "^0.17",
       "_view_module_version": "^0.17",
       "location": [
        -25.898422853730835,
        -54.81307911803015
       ],
       "options": [
        "alt",
        "draggable",
        "keyboard",
        "rise_offset",
        "rise_on_hover",
        "rotation_angle",
        "rotation_origin",
        "title",
        "z_index_offset"
       ]
      }
     },
     "58b69cce09624bccaa25c3733f13b3ff": {
      "model_module": "@jupyter-widgets/controls",
      "model_module_version": "1.5.0",
      "model_name": "LabelModel",
      "state": {
       "layout": "IPY_MODEL_64ccdccd85f64e37bb8caf438cf84aa2",
       "style": "IPY_MODEL_b438677ed8644c04b33569fdb3591073",
       "value": "1"
      }
     },
     "5957536f78f94f06b8e9b8ed499a074b": {
      "model_module": "@jupyter-widgets/base",
      "model_module_version": "1.2.0",
      "model_name": "LayoutModel",
      "state": {}
     },
     "59772993b1d24dbe8401fb28c9ffca0b": {
      "model_module": "jupyter-leaflet",
      "model_module_version": "^0.17",
      "model_name": "LeafletPopupModel",
      "state": {
       "_model_module_version": "^0.17",
       "_view_module_version": "^0.17",
       "auto_close": false,
       "auto_pan": true,
       "auto_pan_padding": [
        5,
        5
       ],
       "auto_pan_padding_bottom_right": null,
       "auto_pan_padding_top_left": null,
       "close_button": false,
       "close_on_escape_key": false,
       "keep_in_view": false,
       "location": [
        -25.898422853730835,
        -54.81307911803015
       ],
       "options": [
        "auto_close",
        "auto_pan",
        "auto_pan_padding",
        "auto_pan_padding_bottom_right",
        "auto_pan_padding_top_left",
        "close_button",
        "close_on_escape_key",
        "keep_in_view",
        "max_height",
        "max_width",
        "min_width"
       ]
      }
     },
     "59e5bbe154b74709bb3e809320bb30bb": {
      "model_module": "@jupyter-widgets/base",
      "model_module_version": "1.2.0",
      "model_name": "LayoutModel",
      "state": {}
     },
     "5ad426ff4e4147b08b8b50d093d6f6ae": {
      "model_module": "@jupyter-widgets/controls",
      "model_module_version": "1.5.0",
      "model_name": "DescriptionStyleModel",
      "state": {
       "description_width": ""
      }
     },
     "5bdbbcec76734bbcb0d0fc3544abab61": {
      "model_module": "@jupyter-widgets/base",
      "model_module_version": "1.2.0",
      "model_name": "LayoutModel",
      "state": {}
     },
     "5bdf86ebab2143529c42c1b8dff26bba": {
      "model_module": "@jupyter-widgets/controls",
      "model_module_version": "1.5.0",
      "model_name": "DescriptionStyleModel",
      "state": {
       "description_width": ""
      }
     },
     "5bf2add52f8849e9942f9a72f2323ef7": {
      "model_module": "jupyter-leaflet",
      "model_module_version": "^0.17",
      "model_name": "LeafletMapModel",
      "state": {
       "_model_module_version": "^0.17",
       "_view_module_version": "^0.17",
       "center": [
        -25.895892099924403,
        -54.81781789201834
       ],
       "controls": [
        "IPY_MODEL_426ac690ded7455e94e012d7f04a7f68",
        "IPY_MODEL_4f98afdb5f48477ca9a2e0eae60d0597"
       ],
       "default_style": "IPY_MODEL_ff47757f39b145f397ab0f2b7c3c2ab9",
       "dragging_style": "IPY_MODEL_f75d87fa495c44ad98d7bc5d4e9d2483",
       "fullscreen": false,
       "interpolation": "bilinear",
       "layers": [
        "IPY_MODEL_55240b726e6c4ec58456a126ffce3c16"
       ],
       "layout": "IPY_MODEL_c1ebf986258d47b49e43536e6c7e0e5f",
       "modisdate": "2023-06-18",
       "options": [
        "bounce_at_zoom_limits",
        "box_zoom",
        "center",
        "close_popup_on_click",
        "double_click_zoom",
        "dragging",
        "fullscreen",
        "inertia",
        "inertia_deceleration",
        "inertia_max_speed",
        "interpolation",
        "keyboard",
        "keyboard_pan_offset",
        "keyboard_zoom_offset",
        "max_zoom",
        "min_zoom",
        "prefer_canvas",
        "scroll_wheel_zoom",
        "tap",
        "tap_tolerance",
        "touch_zoom",
        "world_copy_jump",
        "zoom",
        "zoom_animation_threshold",
        "zoom_delta",
        "zoom_snap"
       ],
       "prefer_canvas": false,
       "style": "IPY_MODEL_13d0ea2ce33e4d85bf3485c84273e3ba",
       "window_url": "http://localhost:8889/notebooks/Jupyter/LUCinSA_helpers/LUCinSA_helpers/notebooks/2b_ViewTimeSeriesComposite.ipynb"
      }
     },
     "5cb61c618e054859a6b17ff1e921b50d": {
      "model_module": "@jupyter-widgets/controls",
      "model_module_version": "1.5.0",
      "model_name": "DescriptionStyleModel",
      "state": {
       "description_width": ""
      }
     },
     "5cba57c523a94e11b1606c8ec75c4de6": {
      "model_module": "jupyter-leaflet",
      "model_module_version": "^0.17",
      "model_name": "LeafletTileLayerModel",
      "state": {
       "_model_module_version": "^0.17",
       "_view_module_version": "^0.17",
       "attribution": "Tiles &copy; Esri &mdash; Source: Esri, i-cubed, USDA, USGS, AEX, GeoEye, Getmapping, Aerogrid, IGN, IGP, UPR-EGP, and the GIS User Community",
       "base": true,
       "min_zoom": 1,
       "name": "Esri.WorldImagery",
       "options": [
        "attribution",
        "bounds",
        "detect_retina",
        "max_native_zoom",
        "max_zoom",
        "min_native_zoom",
        "min_zoom",
        "no_wrap",
        "tile_size",
        "tms",
        "zoom_offset"
       ],
       "url": "https://server.arcgisonline.com/ArcGIS/rest/services/World_Imagery/MapServer/tile/{z}/{y}/{x}"
      }
     },
     "5d200666ca724c9e9b7608726b45b88d": {
      "model_module": "jupyter-leaflet",
      "model_module_version": "^0.17",
      "model_name": "LeafletAttributionControlModel",
      "state": {
       "_model_module_version": "^0.17",
       "_view_module_version": "^0.17",
       "options": [
        "position",
        "prefix"
       ],
       "position": "bottomright",
       "prefix": "ipyleaflet"
      }
     },
     "5de868f5475644739d99b9afc10d191b": {
      "model_module": "@jupyter-widgets/controls",
      "model_module_version": "1.5.0",
      "model_name": "DescriptionStyleModel",
      "state": {
       "description_width": ""
      }
     },
     "5df99bbe2d0b4fe984c02df12a65b332": {
      "model_module": "jupyter-leaflet",
      "model_module_version": "^0.17",
      "model_name": "LeafletMapStyleModel",
      "state": {
       "_model_module_version": "^0.17",
       "cursor": "move"
      }
     },
     "5e0627ced20343b2879c912f346c36e3": {
      "model_module": "jupyter-leaflet",
      "model_module_version": "^0.17",
      "model_name": "LeafletMapModel",
      "state": {
       "_model_module_version": "^0.17",
       "_view_module_version": "^0.17",
       "center": [
        -25.895892099924403,
        -54.81781789201834
       ],
       "controls": [
        "IPY_MODEL_2c2bc3f631d945d2abbbd9e0944402fe",
        "IPY_MODEL_ffbf2b65ce61417b917c9cc321f9363c"
       ],
       "default_style": "IPY_MODEL_3b35fd98219b433a8bd86e7968c11fe3",
       "dragging_style": "IPY_MODEL_f927f8fcbb1c4e378b4dc092e9caaae9",
       "fullscreen": false,
       "interpolation": "bilinear",
       "layers": [
        "IPY_MODEL_abc699be62004a3bb6ae0dc881fb744d",
        "IPY_MODEL_9c6c882aeb904eafafa9d249e3ab8936"
       ],
       "layout": "IPY_MODEL_f93363ba31094b0ba6c094a0637c6d41",
       "modisdate": "2023-06-18",
       "options": [
        "bounce_at_zoom_limits",
        "box_zoom",
        "center",
        "close_popup_on_click",
        "double_click_zoom",
        "dragging",
        "fullscreen",
        "inertia",
        "inertia_deceleration",
        "inertia_max_speed",
        "interpolation",
        "keyboard",
        "keyboard_pan_offset",
        "keyboard_zoom_offset",
        "max_zoom",
        "min_zoom",
        "prefer_canvas",
        "scroll_wheel_zoom",
        "tap",
        "tap_tolerance",
        "touch_zoom",
        "world_copy_jump",
        "zoom",
        "zoom_animation_threshold",
        "zoom_delta",
        "zoom_snap"
       ],
       "prefer_canvas": false,
       "style": "IPY_MODEL_2bae3bde6067403882cb2e6f345c6940",
       "window_url": "http://localhost:8889/notebooks/Jupyter/LUCinSA_helpers/LUCinSA_helpers/notebooks/2b_ViewTimeSeriesComposite.ipynb"
      }
     },
     "5e1eeda4eb424a6687b58c7c7f586052": {
      "model_module": "@jupyter-widgets/base",
      "model_module_version": "1.2.0",
      "model_name": "LayoutModel",
      "state": {}
     },
     "5e3d1b29ff5b4369ab2a738bb8eb6de9": {
      "model_module": "@jupyter-widgets/controls",
      "model_module_version": "1.5.0",
      "model_name": "DescriptionStyleModel",
      "state": {
       "description_width": ""
      }
     },
     "5e55f334c22f4af4b0e9eaa9b4879266": {
      "model_module": "jupyter-leaflet",
      "model_module_version": "^0.17",
      "model_name": "LeafletMapStyleModel",
      "state": {
       "_model_module_version": "^0.17",
       "cursor": "move"
      }
     },
     "5ea1251d9440485d98738a7ea52a5d61": {
      "model_module": "jupyter-leaflet",
      "model_module_version": "^0.17",
      "model_name": "LeafletMapStyleModel",
      "state": {
       "_model_module_version": "^0.17"
      }
     },
     "5ebe5a60714a49a48f071cb40c1bdb1b": {
      "model_module": "jupyter-leaflet",
      "model_module_version": "^0.17",
      "model_name": "LeafletMarkerModel",
      "state": {
       "_model_module_version": "^0.17",
       "_view_module_version": "^0.17",
       "location": [
        -25.898523871092685,
        -54.8139080987312
       ],
       "options": [
        "alt",
        "draggable",
        "keyboard",
        "rise_offset",
        "rise_on_hover",
        "rotation_angle",
        "rotation_origin",
        "title",
        "z_index_offset"
       ],
       "popup": "IPY_MODEL_48da67b432114dc59093df4a93d8826c"
      }
     },
     "5f81767a527048248c3341b349e43ce8": {
      "model_module": "jupyter-leaflet",
      "model_module_version": "^0.17",
      "model_name": "LeafletPopupModel",
      "state": {
       "_model_module_version": "^0.17",
       "_view_module_version": "^0.17",
       "auto_close": false,
       "auto_pan": true,
       "auto_pan_padding": [
        5,
        5
       ],
       "auto_pan_padding_bottom_right": null,
       "auto_pan_padding_top_left": null,
       "close_button": false,
       "close_on_escape_key": false,
       "keep_in_view": false,
       "location": [
        -25.89983515679818,
        -54.824722765479244
       ],
       "options": [
        "auto_close",
        "auto_pan",
        "auto_pan_padding",
        "auto_pan_padding_bottom_right",
        "auto_pan_padding_top_left",
        "close_button",
        "close_on_escape_key",
        "keep_in_view",
        "max_height",
        "max_width",
        "min_width"
       ]
      }
     },
     "60b4a34bb8964660b478401511d28cb7": {
      "model_module": "@jupyter-widgets/base",
      "model_module_version": "1.2.0",
      "model_name": "LayoutModel",
      "state": {}
     },
     "615b40d4fe324dbf903fbd9d8fa72c73": {
      "model_module": "jupyter-leaflet",
      "model_module_version": "^0.17",
      "model_name": "LeafletPopupModel",
      "state": {
       "_model_module_version": "^0.17",
       "_view_module_version": "^0.17",
       "auto_close": false,
       "auto_pan": true,
       "auto_pan_padding": [
        5,
        5
       ],
       "auto_pan_padding_bottom_right": null,
       "auto_pan_padding_top_left": null,
       "close_button": false,
       "close_on_escape_key": false,
       "keep_in_view": false,
       "location": [
        -25.898337921464023,
        -54.81286454130896
       ],
       "options": [
        "auto_close",
        "auto_pan",
        "auto_pan_padding",
        "auto_pan_padding_bottom_right",
        "auto_pan_padding_top_left",
        "close_button",
        "close_on_escape_key",
        "keep_in_view",
        "max_height",
        "max_width",
        "min_width"
       ]
      }
     },
     "61b7d2aefcd749fb9886bcf215466718": {
      "model_module": "jupyter-leaflet",
      "model_module_version": "^0.17",
      "model_name": "LeafletTileLayerModel",
      "state": {
       "_model_module_version": "^0.17",
       "_view_module_version": "^0.17",
       "attribution": "Raster file served by <a href='https://github.com/banesullivan/localtileserver' target='_blank'>localtileserver</a>.",
       "bounds": [
        [
         -25.978911914208837,
         -54.93987275686129
        ],
        [
         -25.812872285639965,
         -54.695763027175396
        ]
       ],
       "max_native_zoom": 15,
       "max_zoom": 15,
       "options": [
        "attribution",
        "bounds",
        "detect_retina",
        "max_native_zoom",
        "max_zoom",
        "min_native_zoom",
        "min_zoom",
        "no_wrap",
        "tile_size",
        "tms",
        "zoom_offset"
       ],
       "show_loading": true,
       "url": "http://127.0.0.1:5554/api/tiles/{z}/{x}/{y}.png?&filename=%2Fhome%2Fklwalker%2Fdata%2Ftmp%2F004057_2010evi2_MinMaxAmp.tif&band.0=3&band.1=2&band.2=1&n_colors=255&projection=EPSG%3A3857"
      }
     },
     "61ce77d35ad94594964bb7b8009543a6": {
      "model_module": "jupyter-leaflet",
      "model_module_version": "^0.17",
      "model_name": "LeafletTileLayerModel",
      "state": {
       "_model_module_version": "^0.17",
       "_view_module_version": "^0.17",
       "attribution": "Tiles &copy; Esri &mdash; Source: Esri, i-cubed, USDA, USGS, AEX, GeoEye, Getmapping, Aerogrid, IGN, IGP, UPR-EGP, and the GIS User Community",
       "base": true,
       "min_zoom": 1,
       "name": "Esri.WorldImagery",
       "options": [
        "attribution",
        "bounds",
        "detect_retina",
        "max_native_zoom",
        "max_zoom",
        "min_native_zoom",
        "min_zoom",
        "no_wrap",
        "tile_size",
        "tms",
        "zoom_offset"
       ],
       "url": "https://server.arcgisonline.com/ArcGIS/rest/services/World_Imagery/MapServer/tile/{z}/{y}/{x}"
      }
     },
     "6270e202908b4e1993a51b3c11fe7867": {
      "model_module": "jupyter-leaflet",
      "model_module_version": "^0.17",
      "model_name": "LeafletPopupModel",
      "state": {
       "_model_module_version": "^0.17",
       "_view_module_version": "^0.17",
       "auto_close": false,
       "auto_pan": true,
       "auto_pan_padding": [
        5,
        5
       ],
       "auto_pan_padding_bottom_right": null,
       "auto_pan_padding_top_left": null,
       "close_button": false,
       "close_on_escape_key": false,
       "keep_in_view": false,
       "location": [
        -25.898337921464023,
        -54.81286454130896
       ],
       "options": [
        "auto_close",
        "auto_pan",
        "auto_pan_padding",
        "auto_pan_padding_bottom_right",
        "auto_pan_padding_top_left",
        "close_button",
        "close_on_escape_key",
        "keep_in_view",
        "max_height",
        "max_width",
        "min_width"
       ]
      }
     },
     "62c49e0eb9b5493782c7cad5610f97a4": {
      "model_module": "@jupyter-widgets/controls",
      "model_module_version": "1.5.0",
      "model_name": "LabelModel",
      "state": {
       "layout": "IPY_MODEL_e76a8b2b11b745f899964e885857846c",
       "style": "IPY_MODEL_3aef3d2c608c4fa492118540628b27fe",
       "value": "1: 1353/1061/292"
      }
     },
     "635b02adf1454bd497e7b12a0440c5ca": {
      "model_module": "jupyter-leaflet",
      "model_module_version": "^0.17",
      "model_name": "LeafletMarkerModel",
      "state": {
       "_model_module_version": "^0.17",
       "_view_module_version": "^0.17",
       "location": [
        -25.89929597486029,
        -54.8098740563728
       ],
       "options": [
        "alt",
        "draggable",
        "keyboard",
        "rise_offset",
        "rise_on_hover",
        "rotation_angle",
        "rotation_origin",
        "title",
        "z_index_offset"
       ],
       "popup": "IPY_MODEL_45d9eb547689446da31743c05dec8926"
      }
     },
     "63ea027e818a467d952268432a8ee0ce": {
      "model_module": "jupyter-leaflet",
      "model_module_version": "^0.17",
      "model_name": "LeafletPopupModel",
      "state": {
       "_model_module_version": "^0.17",
       "_view_module_version": "^0.17",
       "auto_close": false,
       "auto_pan": true,
       "auto_pan_padding": [
        5,
        5
       ],
       "auto_pan_padding_bottom_right": null,
       "auto_pan_padding_top_left": null,
       "close_button": false,
       "close_on_escape_key": false,
       "keep_in_view": false,
       "location": [
        -25.90660368515048,
        -54.82064877712176
       ],
       "options": [
        "auto_close",
        "auto_pan",
        "auto_pan_padding",
        "auto_pan_padding_bottom_right",
        "auto_pan_padding_top_left",
        "close_button",
        "close_on_escape_key",
        "keep_in_view",
        "max_height",
        "max_width",
        "min_width"
       ]
      }
     },
     "63fe448bd61b48c18d84c6dab16df596": {
      "model_module": "@jupyter-widgets/controls",
      "model_module_version": "1.5.0",
      "model_name": "LabelModel",
      "state": {
       "layout": "IPY_MODEL_8f4514e39d47482cbd31e94d6f602985",
       "style": "IPY_MODEL_9301408e99d04c10b29289474dac8c5e",
       "value": "2: 1432/1097/335"
      }
     },
     "64ccdccd85f64e37bb8caf438cf84aa2": {
      "model_module": "@jupyter-widgets/base",
      "model_module_version": "1.2.0",
      "model_name": "LayoutModel",
      "state": {}
     },
     "64ce16d8a23b4b3cb766fd420ea98d56": {
      "model_module": "@jupyter-widgets/controls",
      "model_module_version": "1.5.0",
      "model_name": "LabelModel",
      "state": {
       "layout": "IPY_MODEL_6941cd46d0614897b4db3fd72f09f77f",
       "style": "IPY_MODEL_b8e1ac0d6cdb457685a72a1ffd80978b",
       "value": "1: 6547/6361/186"
      }
     },
     "659f7958ca1d4000a003cecf63b6aba1": {
      "model_module": "jupyter-leaflet",
      "model_module_version": "^0.17",
      "model_name": "LeafletTileLayerModel",
      "state": {
       "_model_module_version": "^0.17",
       "_view_module_version": "^0.17",
       "attribution": "Tiles &copy; Esri &mdash; Source: Esri, i-cubed, USDA, USGS, AEX, GeoEye, Getmapping, Aerogrid, IGN, IGP, UPR-EGP, and the GIS User Community",
       "base": true,
       "min_zoom": 1,
       "name": "Esri.WorldImagery",
       "options": [
        "attribution",
        "bounds",
        "detect_retina",
        "max_native_zoom",
        "max_zoom",
        "min_native_zoom",
        "min_zoom",
        "no_wrap",
        "tile_size",
        "tms",
        "zoom_offset"
       ],
       "url": "https://server.arcgisonline.com/ArcGIS/rest/services/World_Imagery/MapServer/tile/{z}/{y}/{x}"
      }
     },
     "65accf90fd244fb9a35c8e5bf9c78e43": {
      "model_module": "jupyter-leaflet",
      "model_module_version": "^0.17",
      "model_name": "LeafletTileLayerModel",
      "state": {
       "_model_module_version": "^0.17",
       "_view_module_version": "^0.17",
       "attribution": "Raster file served by <a href='https://github.com/banesullivan/localtileserver' target='_blank'>localtileserver</a>.",
       "bounds": [
        [
         -25.978911914208837,
         -54.93987275686129
        ],
        [
         -25.812872285639965,
         -54.695763027175396
        ]
       ],
       "max_native_zoom": 15,
       "max_zoom": 15,
       "options": [
        "attribution",
        "bounds",
        "detect_retina",
        "max_native_zoom",
        "max_zoom",
        "min_native_zoom",
        "min_zoom",
        "no_wrap",
        "tile_size",
        "tms",
        "zoom_offset"
       ],
       "show_loading": true,
       "url": "http://127.0.0.1:5554/api/tiles/{z}/{x}/{y}.png?&filename=%2Fhome%2Fklwalker%2Fdata%2Ftmp%2F004057_2010evi2_MinMaxAmp.tif&band.0=3&band.1=2&band.2=1&n_colors=255&projection=EPSG%3A3857"
      }
     },
     "65e6353c218244d78f5f1e4322aa9191": {
      "model_module": "jupyter-leaflet",
      "model_module_version": "^0.17",
      "model_name": "LeafletPopupModel",
      "state": {
       "_model_module_version": "^0.17",
       "_view_module_version": "^0.17",
       "auto_close": false,
       "auto_pan": true,
       "auto_pan_padding": [
        5,
        5
       ],
       "auto_pan_padding_bottom_right": null,
       "auto_pan_padding_top_left": null,
       "close_button": false,
       "close_on_escape_key": true,
       "keep_in_view": false,
       "location": [
        -25.89929597486029,
        -54.8098740563728
       ],
       "options": [
        "auto_close",
        "auto_pan",
        "auto_pan_padding",
        "auto_pan_padding_bottom_right",
        "auto_pan_padding_top_left",
        "close_button",
        "close_on_escape_key",
        "keep_in_view",
        "max_height",
        "max_width",
        "min_width"
       ]
      }
     },
     "6630b20de94049128463b7d8399bbf12": {
      "model_module": "@jupyter-widgets/controls",
      "model_module_version": "1.5.0",
      "model_name": "LabelModel",
      "state": {
       "layout": "IPY_MODEL_f8e52d8ad8264971a3114e9d8309757c",
       "style": "IPY_MODEL_ab3d6eb7cf2341a69697804e25c0c6d9",
       "value": "4: 8325/1425/6900"
      }
     },
     "6687705ea8a04bb282e533ac6471a658": {
      "model_module": "@jupyter-widgets/controls",
      "model_module_version": "1.5.0",
      "model_name": "DescriptionStyleModel",
      "state": {
       "description_width": ""
      }
     },
     "673cacf1c5e2461f802be02432308959": {
      "model_module": "jupyter-leaflet",
      "model_module_version": "^0.17",
      "model_name": "LeafletAttributionControlModel",
      "state": {
       "_model_module_version": "^0.17",
       "_view_module_version": "^0.17",
       "options": [
        "position",
        "prefix"
       ],
       "position": "bottomright",
       "prefix": "ipyleaflet"
      }
     },
     "6741ddf8802c4a3d86ad7dd8b1d0b2db": {
      "model_module": "jupyter-leaflet",
      "model_module_version": "^0.17",
      "model_name": "LeafletTileLayerModel",
      "state": {
       "_model_module_version": "^0.17",
       "_view_module_version": "^0.17",
       "attribution": "Tiles &copy; Esri &mdash; Source: Esri, i-cubed, USDA, USGS, AEX, GeoEye, Getmapping, Aerogrid, IGN, IGP, UPR-EGP, and the GIS User Community",
       "base": true,
       "min_zoom": 1,
       "name": "Esri.WorldImagery",
       "options": [
        "attribution",
        "bounds",
        "detect_retina",
        "max_native_zoom",
        "max_zoom",
        "min_native_zoom",
        "min_zoom",
        "no_wrap",
        "tile_size",
        "tms",
        "zoom_offset"
       ],
       "url": "https://server.arcgisonline.com/ArcGIS/rest/services/World_Imagery/MapServer/tile/{z}/{y}/{x}"
      }
     },
     "67891b53c4634e1f97d68b2c2c6e4ccd": {
      "model_module": "@jupyter-widgets/controls",
      "model_module_version": "1.5.0",
      "model_name": "DescriptionStyleModel",
      "state": {
       "description_width": ""
      }
     },
     "67c363fb2e204c219a5e895648dd8069": {
      "model_module": "@jupyter-widgets/base",
      "model_module_version": "1.2.0",
      "model_name": "LayoutModel",
      "state": {}
     },
     "68376d50f01843f394cf99a2bb19bcde": {
      "model_module": "@jupyter-widgets/controls",
      "model_module_version": "1.5.0",
      "model_name": "LabelModel",
      "state": {
       "layout": "IPY_MODEL_4c1f0cff6d7c4a3fa785e371f456558f",
       "style": "IPY_MODEL_f9d4276f1c8f43c28346c22a73931769",
       "value": "4: 8046/1254/6792"
      }
     },
     "6922f8e9c5134aefa9f6e440847842e1": {
      "model_module": "@jupyter-widgets/controls",
      "model_module_version": "1.5.0",
      "model_name": "DescriptionStyleModel",
      "state": {
       "description_width": ""
      }
     },
     "6941cd46d0614897b4db3fd72f09f77f": {
      "model_module": "@jupyter-widgets/base",
      "model_module_version": "1.2.0",
      "model_name": "LayoutModel",
      "state": {}
     },
     "6946aae7cefb4631a015b81557fdb4bd": {
      "model_module": "@jupyter-widgets/controls",
      "model_module_version": "1.5.0",
      "model_name": "DescriptionStyleModel",
      "state": {
       "description_width": ""
      }
     },
     "696530d353d94b43873eabd898dcb770": {
      "model_module": "jupyter-leaflet",
      "model_module_version": "^0.17",
      "model_name": "LeafletAttributionControlModel",
      "state": {
       "_model_module_version": "^0.17",
       "_view_module_version": "^0.17",
       "options": [
        "position",
        "prefix"
       ],
       "position": "bottomright",
       "prefix": "ipyleaflet"
      }
     },
     "69b8858662604314bb69893dfb732cc0": {
      "model_module": "jupyter-leaflet",
      "model_module_version": "^0.17",
      "model_name": "LeafletMapModel",
      "state": {
       "_model_module_version": "^0.17",
       "_view_module_version": "^0.17",
       "center": [
        -25.895892099924403,
        -54.81781789201834
       ],
       "controls": [
        "IPY_MODEL_f013acdaa0ae435893b05958ffb84c11",
        "IPY_MODEL_069cbfd91d6249e48c0cc07716557991"
       ],
       "default_style": "IPY_MODEL_908472de9a234728923f613bffdc49ed",
       "dragging_style": "IPY_MODEL_af95391a98ae460fbb7e0887144a8e74",
       "fullscreen": false,
       "interpolation": "bilinear",
       "layers": [
        "IPY_MODEL_4706e8ea3b004d30884839de258356be"
       ],
       "layout": "IPY_MODEL_98462c42f08549df86d3e5a51f144dc3",
       "modisdate": "2023-06-18",
       "options": [
        "bounce_at_zoom_limits",
        "box_zoom",
        "center",
        "close_popup_on_click",
        "double_click_zoom",
        "dragging",
        "fullscreen",
        "inertia",
        "inertia_deceleration",
        "inertia_max_speed",
        "interpolation",
        "keyboard",
        "keyboard_pan_offset",
        "keyboard_zoom_offset",
        "max_zoom",
        "min_zoom",
        "prefer_canvas",
        "scroll_wheel_zoom",
        "tap",
        "tap_tolerance",
        "touch_zoom",
        "world_copy_jump",
        "zoom",
        "zoom_animation_threshold",
        "zoom_delta",
        "zoom_snap"
       ],
       "prefer_canvas": false,
       "style": "IPY_MODEL_ffcca18d938346a4b28c55dc6b57316f",
       "window_url": "http://localhost:8889/notebooks/Jupyter/LUCinSA_helpers/LUCinSA_helpers/notebooks/2b_ViewTimeSeriesComposite.ipynb"
      }
     },
     "69e2ba32a3fe4faaa8c2702787ff9835": {
      "model_module": "jupyter-leaflet",
      "model_module_version": "^0.17",
      "model_name": "LeafletMapStyleModel",
      "state": {
       "_model_module_version": "^0.17",
       "cursor": "move"
      }
     },
     "69f7a17fed854e5c8ca7261eabe7d9fc": {
      "model_module": "jupyter-leaflet",
      "model_module_version": "^0.17",
      "model_name": "LeafletMarkerModel",
      "state": {
       "_model_module_version": "^0.17",
       "_view_module_version": "^0.17",
       "location": [
        -25.90477647869274,
        -54.807213305030025
       ],
       "options": [
        "alt",
        "draggable",
        "keyboard",
        "rise_offset",
        "rise_on_hover",
        "rotation_angle",
        "rotation_origin",
        "title",
        "z_index_offset"
       ],
       "popup": "IPY_MODEL_4a5a37d856334c81adef4a252e0e6bb8"
      }
     },
     "6a032e07d214481ba1e31c7e0f9c6c41": {
      "model_module": "@jupyter-widgets/base",
      "model_module_version": "1.2.0",
      "model_name": "LayoutModel",
      "state": {}
     },
     "6a234e94e4b541c280278a00bb18ce87": {
      "model_module": "@jupyter-widgets/controls",
      "model_module_version": "1.5.0",
      "model_name": "DescriptionStyleModel",
      "state": {
       "description_width": ""
      }
     },
     "6a5eb7df03fd46f2a3c05079d345c830": {
      "model_module": "jupyter-leaflet",
      "model_module_version": "^0.17",
      "model_name": "LeafletMarkerModel",
      "state": {
       "_model_module_version": "^0.17",
       "_view_module_version": "^0.17",
       "location": [
        -25.89929597486029,
        -54.8098740563728
       ],
       "options": [
        "alt",
        "draggable",
        "keyboard",
        "rise_offset",
        "rise_on_hover",
        "rotation_angle",
        "rotation_origin",
        "title",
        "z_index_offset"
       ],
       "popup": "IPY_MODEL_8bcad4e68fd24fee9fdcf9c9e4113a3c"
      }
     },
     "6ac0cf855dfd44dca00250e10786dc94": {
      "model_module": "jupyter-leaflet",
      "model_module_version": "^0.17",
      "model_name": "LeafletMapStyleModel",
      "state": {
       "_model_module_version": "^0.17",
       "cursor": "move"
      }
     },
     "6ac7a3e01a8145c2adedbbf8e2d594c9": {
      "model_module": "jupyter-leaflet",
      "model_module_version": "^0.17",
      "model_name": "LeafletMapStyleModel",
      "state": {
       "_model_module_version": "^0.17",
       "cursor": "move"
      }
     },
     "6cbc87abc9814641af33da48c425fa26": {
      "model_module": "@jupyter-widgets/controls",
      "model_module_version": "1.5.0",
      "model_name": "LabelModel",
      "state": {
       "layout": "IPY_MODEL_afb605e5792648d88e58fdccd5eb5632",
       "style": "IPY_MODEL_0b03ca3b5551418a85c2676e056dc674",
       "value": "1"
      }
     },
     "6d862abf3c6f44a9b609cea8e3bd5949": {
      "model_module": "@jupyter-widgets/controls",
      "model_module_version": "1.5.0",
      "model_name": "LabelModel",
      "state": {
       "layout": "IPY_MODEL_3390df10fcf242a9ba7835ea0038e8c5",
       "style": "IPY_MODEL_75f146c2b2dc42fa90a8bb8c4c954eab",
       "value": "4: 4474/2494/1980"
      }
     },
     "6e010e1ee9ce4f32952ef49f091d8983": {
      "model_module": "jupyter-leaflet",
      "model_module_version": "^0.17",
      "model_name": "LeafletPopupModel",
      "state": {
       "_model_module_version": "^0.17",
       "_view_module_version": "^0.17",
       "auto_close": false,
       "auto_pan": true,
       "auto_pan_padding": [
        5,
        5
       ],
       "auto_pan_padding_bottom_right": null,
       "auto_pan_padding_top_left": null,
       "close_button": false,
       "close_on_escape_key": false,
       "keep_in_view": false,
       "location": [
        -25.899079142817186,
        -54.809045075671754
       ],
       "options": [
        "auto_close",
        "auto_pan",
        "auto_pan_padding",
        "auto_pan_padding_bottom_right",
        "auto_pan_padding_top_left",
        "close_button",
        "close_on_escape_key",
        "keep_in_view",
        "max_height",
        "max_width",
        "min_width"
       ]
      }
     },
     "6e4adc6ab0154243875cce3a76a87dc8": {
      "model_module": "jupyter-leaflet",
      "model_module_version": "^0.17",
      "model_name": "LeafletMapStyleModel",
      "state": {
       "_model_module_version": "^0.17"
      }
     },
     "6e94ce1dd0004038bdc2c0eae22d023c": {
      "model_module": "@jupyter-widgets/controls",
      "model_module_version": "1.5.0",
      "model_name": "DescriptionStyleModel",
      "state": {
       "description_width": ""
      }
     },
     "6ebe54d153a44467b6d74c6c80679d28": {
      "model_module": "jupyter-leaflet",
      "model_module_version": "^0.17",
      "model_name": "LeafletZoomControlModel",
      "state": {
       "_model_module_version": "^0.17",
       "_view_module_version": "^0.17",
       "options": [
        "position",
        "zoom_in_text",
        "zoom_in_title",
        "zoom_out_text",
        "zoom_out_title"
       ]
      }
     },
     "6edc5f24aa344e00a83bf7dd6cf5955c": {
      "model_module": "@jupyter-widgets/base",
      "model_module_version": "1.2.0",
      "model_name": "LayoutModel",
      "state": {}
     },
     "6f1990d614014dbb9a0b739b2163a306": {
      "model_module": "jupyter-leaflet",
      "model_module_version": "^0.17",
      "model_name": "LeafletPopupModel",
      "state": {
       "_model_module_version": "^0.17",
       "_view_module_version": "^0.17",
       "auto_close": false,
       "auto_pan": true,
       "auto_pan_padding": [
        5,
        5
       ],
       "auto_pan_padding_bottom_right": null,
       "auto_pan_padding_top_left": null,
       "close_button": false,
       "close_on_escape_key": false,
       "keep_in_view": false,
       "location": [
        -25.898686012596077,
        -54.81159067014233
       ],
       "options": [
        "auto_close",
        "auto_pan",
        "auto_pan_padding",
        "auto_pan_padding_bottom_right",
        "auto_pan_padding_top_left",
        "close_button",
        "close_on_escape_key",
        "keep_in_view",
        "max_height",
        "max_width",
        "min_width"
       ]
      }
     },
     "6f21cfa2bfef4f8fb04e4db8b8fbcd5e": {
      "model_module": "jupyter-leaflet",
      "model_module_version": "^0.17",
      "model_name": "LeafletMarkerModel",
      "state": {
       "_model_module_version": "^0.17",
       "_view_module_version": "^0.17",
       "location": [
        -25.899079142817186,
        -54.809045075671754
       ],
       "options": [
        "alt",
        "draggable",
        "keyboard",
        "rise_offset",
        "rise_on_hover",
        "rotation_angle",
        "rotation_origin",
        "title",
        "z_index_offset"
       ],
       "popup": "IPY_MODEL_bded5629cdf24beba1c1a10247a81e8d"
      }
     },
     "6f9ab976446947caa0c7809c346c579c": {
      "model_module": "@jupyter-widgets/base",
      "model_module_version": "1.2.0",
      "model_name": "LayoutModel",
      "state": {}
     },
     "6fc122446a3d4c6b941e986f487447e3": {
      "model_module": "@jupyter-widgets/base",
      "model_module_version": "1.2.0",
      "model_name": "LayoutModel",
      "state": {}
     },
     "705fd2ecaf494ba190b9cea686c61f83": {
      "model_module": "jupyter-leaflet",
      "model_module_version": "^0.17",
      "model_name": "LeafletPopupModel",
      "state": {
       "_model_module_version": "^0.17",
       "_view_module_version": "^0.17",
       "auto_close": false,
       "auto_pan": true,
       "auto_pan_padding": [
        5,
        5
       ],
       "auto_pan_padding_bottom_right": null,
       "auto_pan_padding_top_left": null,
       "close_button": false,
       "close_on_escape_key": false,
       "keep_in_view": false,
       "location": [
        -25.89983515679818,
        -54.824722765479244
       ],
       "options": [
        "auto_close",
        "auto_pan",
        "auto_pan_padding",
        "auto_pan_padding_bottom_right",
        "auto_pan_padding_top_left",
        "close_button",
        "close_on_escape_key",
        "keep_in_view",
        "max_height",
        "max_width",
        "min_width"
       ]
      }
     },
     "709c3d85d61c4f31868c071baad057a8": {
      "model_module": "@jupyter-widgets/controls",
      "model_module_version": "1.5.0",
      "model_name": "DescriptionStyleModel",
      "state": {
       "description_width": ""
      }
     },
     "712ed9d0c1064dddb705333ac2e6e373": {
      "model_module": "jupyter-leaflet",
      "model_module_version": "^0.17",
      "model_name": "LeafletAttributionControlModel",
      "state": {
       "_model_module_version": "^0.17",
       "_view_module_version": "^0.17",
       "options": [
        "position",
        "prefix"
       ],
       "position": "bottomright",
       "prefix": "ipyleaflet"
      }
     },
     "7231a26fe93c4bedb78333e076ba945e": {
      "model_module": "@jupyter-widgets/base",
      "model_module_version": "1.2.0",
      "model_name": "LayoutModel",
      "state": {}
     },
     "73498ed8072c45c191c668534226c196": {
      "model_module": "jupyter-leaflet",
      "model_module_version": "^0.17",
      "model_name": "LeafletMarkerModel",
      "state": {
       "_model_module_version": "^0.17",
       "_view_module_version": "^0.17",
       "location": [
        -25.898422853730835,
        -54.81307911803015
       ],
       "options": [
        "alt",
        "draggable",
        "keyboard",
        "rise_offset",
        "rise_on_hover",
        "rotation_angle",
        "rotation_origin",
        "title",
        "z_index_offset"
       ],
       "popup": "IPY_MODEL_2feff2ac96db4bf3b29269440849b3b1"
      }
     },
     "73a2a86968d449ceb3021d1ca66bb9b3": {
      "model_module": "jupyter-leaflet",
      "model_module_version": "^0.17",
      "model_name": "LeafletMapStyleModel",
      "state": {
       "_model_module_version": "^0.17"
      }
     },
     "749360284e5e42aa965d990a3ac5af2d": {
      "model_module": "jupyter-leaflet",
      "model_module_version": "^0.17",
      "model_name": "LeafletMarkerModel",
      "state": {
       "_model_module_version": "^0.17",
       "_view_module_version": "^0.17",
       "location": [
        -25.89589739275852,
        -54.79313707211987
       ],
       "options": [
        "alt",
        "draggable",
        "keyboard",
        "rise_offset",
        "rise_on_hover",
        "rotation_angle",
        "rotation_origin",
        "title",
        "z_index_offset"
       ],
       "popup": "IPY_MODEL_76d93920d56c44bba7850464c74c929d"
      }
     },
     "74a67e3cd3254ac4b4b5a68dfee58cb2": {
      "model_module": "@jupyter-widgets/base",
      "model_module_version": "1.2.0",
      "model_name": "LayoutModel",
      "state": {}
     },
     "74d1eec18492479fb368a4bd64eba94f": {
      "model_module": "@jupyter-widgets/controls",
      "model_module_version": "1.5.0",
      "model_name": "DescriptionStyleModel",
      "state": {
       "description_width": ""
      }
     },
     "754c217c0f594a2ebe3f77a48aae7fdc": {
      "model_module": "@jupyter-widgets/base",
      "model_module_version": "1.2.0",
      "model_name": "LayoutModel",
      "state": {}
     },
     "7581b2eab35349508f5735a600af0d0a": {
      "model_module": "jupyter-leaflet",
      "model_module_version": "^0.17",
      "model_name": "LeafletPopupModel",
      "state": {
       "_model_module_version": "^0.17",
       "_view_module_version": "^0.17",
       "auto_close": false,
       "auto_pan": true,
       "auto_pan_padding": [
        5,
        5
       ],
       "auto_pan_padding_bottom_right": null,
       "auto_pan_padding_top_left": null,
       "close_button": false,
       "close_on_escape_key": false,
       "keep_in_view": false,
       "location": [
        -25.898523871092685,
        -54.8139080987312
       ],
       "options": [
        "auto_close",
        "auto_pan",
        "auto_pan_padding",
        "auto_pan_padding_bottom_right",
        "auto_pan_padding_top_left",
        "close_button",
        "close_on_escape_key",
        "keep_in_view",
        "max_height",
        "max_width",
        "min_width"
       ]
      }
     },
     "75af888cc591458f8096ee49e0336c1b": {
      "model_module": "@jupyter-widgets/controls",
      "model_module_version": "1.5.0",
      "model_name": "LabelModel",
      "state": {
       "layout": "IPY_MODEL_b7b1fcd6156b4c7d813cadaeb18a4a56",
       "style": "IPY_MODEL_046dba8f55c84c29b7c5c3464b1a2032",
       "value": "2: 1461,1105,356"
      }
     },
     "75d199c9116a4ffeb8d6629896da908a": {
      "model_module": "jupyter-leaflet",
      "model_module_version": "^0.17",
      "model_name": "LeafletMarkerModel",
      "state": {
       "_model_module_version": "^0.17",
       "_view_module_version": "^0.17",
       "location": [
        -25.898422853730835,
        -54.81307911803015
       ],
       "options": [
        "alt",
        "draggable",
        "keyboard",
        "rise_offset",
        "rise_on_hover",
        "rotation_angle",
        "rotation_origin",
        "title",
        "z_index_offset"
       ],
       "popup": "IPY_MODEL_d9d6f329622a4578ab76c204653924cc"
      }
     },
     "75e06098aa114e0bb23f6c7a95f52a2f": {
      "model_module": "@jupyter-widgets/controls",
      "model_module_version": "1.5.0",
      "model_name": "DescriptionStyleModel",
      "state": {
       "description_width": ""
      }
     },
     "75e3082c455342f2acb2704467a7bfc0": {
      "model_module": "jupyter-leaflet",
      "model_module_version": "^0.17",
      "model_name": "LeafletZoomControlModel",
      "state": {
       "_model_module_version": "^0.17",
       "_view_module_version": "^0.17",
       "options": [
        "position",
        "zoom_in_text",
        "zoom_in_title",
        "zoom_out_text",
        "zoom_out_title"
       ]
      }
     },
     "75f146c2b2dc42fa90a8bb8c4c954eab": {
      "model_module": "@jupyter-widgets/controls",
      "model_module_version": "1.5.0",
      "model_name": "DescriptionStyleModel",
      "state": {
       "description_width": ""
      }
     },
     "7679da41ba0f4512b758ccefc21c0a70": {
      "model_module": "jupyter-leaflet",
      "model_module_version": "^0.17",
      "model_name": "LeafletTileLayerModel",
      "state": {
       "_model_module_version": "^0.17",
       "_view_module_version": "^0.17",
       "attribution": "Raster file served by <a href='https://github.com/banesullivan/localtileserver' target='_blank'>localtileserver</a>.",
       "bounds": [
        [
         -25.978911914208837,
         -54.93987275686129
        ],
        [
         -25.812872285639965,
         -54.695763027175396
        ]
       ],
       "max_native_zoom": 15,
       "max_zoom": 15,
       "options": [
        "attribution",
        "bounds",
        "detect_retina",
        "max_native_zoom",
        "max_zoom",
        "min_native_zoom",
        "min_zoom",
        "no_wrap",
        "tile_size",
        "tms",
        "zoom_offset"
       ],
       "show_loading": true,
       "url": "http://127.0.0.1:5554/api/tiles/{z}/{x}/{y}.png?&filename=%2Fhome%2Fklwalker%2Fdata%2Ftmp%2F004057_2010evi2_MinMaxAmp.tif&band.0=3&band.1=2&band.2=1&n_colors=255&projection=EPSG%3A3857"
      }
     },
     "76c3d38f5cf14718b31f656f9e24c7ff": {
      "model_module": "jupyter-leaflet",
      "model_module_version": "^0.17",
      "model_name": "LeafletTileLayerModel",
      "state": {
       "_model_module_version": "^0.17",
       "_view_module_version": "^0.17",
       "attribution": "Raster file served by <a href='https://github.com/banesullivan/localtileserver' target='_blank'>localtileserver</a>.",
       "bounds": [
        [
         -25.978911914208837,
         -54.93987275686129
        ],
        [
         -25.812872285639965,
         -54.695763027175396
        ]
       ],
       "max_native_zoom": 15,
       "max_zoom": 15,
       "options": [
        "attribution",
        "bounds",
        "detect_retina",
        "max_native_zoom",
        "max_zoom",
        "min_native_zoom",
        "min_zoom",
        "no_wrap",
        "tile_size",
        "tms",
        "zoom_offset"
       ],
       "show_loading": true,
       "url": "http://127.0.0.1:5554/api/tiles/{z}/{x}/{y}.png?&filename=%2Fhome%2Fklwalker%2Fdata%2Ftmp%2F004057_2010evi2_MinMaxAmp.tif&band.0=3&band.1=2&band.2=1&n_colors=255&projection=EPSG%3A3857"
      }
     },
     "76ca16f9f3174df59f459cc4ffbbe105": {
      "model_module": "@jupyter-widgets/base",
      "model_module_version": "1.2.0",
      "model_name": "LayoutModel",
      "state": {}
     },
     "76d8a974ea3c46578abf86415db711d0": {
      "model_module": "jupyter-leaflet",
      "model_module_version": "^0.17",
      "model_name": "LeafletPopupModel",
      "state": {
       "_model_module_version": "^0.17",
       "_view_module_version": "^0.17",
       "auto_close": false,
       "auto_pan": true,
       "auto_pan_padding": [
        5,
        5
       ],
       "auto_pan_padding_bottom_right": null,
       "auto_pan_padding_top_left": null,
       "close_button": false,
       "close_on_escape_key": false,
       "keep_in_view": false,
       "location": [
        -25.898422853730835,
        -54.81307911803015
       ],
       "options": [
        "auto_close",
        "auto_pan",
        "auto_pan_padding",
        "auto_pan_padding_bottom_right",
        "auto_pan_padding_top_left",
        "close_button",
        "close_on_escape_key",
        "keep_in_view",
        "max_height",
        "max_width",
        "min_width"
       ]
      }
     },
     "76d93920d56c44bba7850464c74c929d": {
      "model_module": "@jupyter-widgets/controls",
      "model_module_version": "1.5.0",
      "model_name": "LabelModel",
      "state": {
       "layout": "IPY_MODEL_e5b243d793c34489b4a892ed6c2ac51e",
       "style": "IPY_MODEL_e9cb0d9e48f141c798e524116b12ec39",
       "value": "4: 4806/4497/309"
      }
     },
     "76de087f0a9145329c0a01ceb6ef7a51": {
      "model_module": "@jupyter-widgets/controls",
      "model_module_version": "1.5.0",
      "model_name": "DescriptionStyleModel",
      "state": {
       "description_width": ""
      }
     },
     "76edd8ef08c2403eac58f851ddc21666": {
      "model_module": "jupyter-leaflet",
      "model_module_version": "^0.17",
      "model_name": "LeafletMapModel",
      "state": {
       "_model_module_version": "^0.17",
       "_view_module_version": "^0.17",
       "center": [
        -25.895982326781798,
        -54.81765747070313
       ],
       "controls": [
        "IPY_MODEL_c1ce25c99f6f4ce2ad3a267959dc578a",
        "IPY_MODEL_cc6c9b886f704b3686a8474e73e03290"
       ],
       "default_style": "IPY_MODEL_b0325745d6a84997be47e5a76289c56d",
       "dragging_style": "IPY_MODEL_9ea4462405cc4e1fb4c4b3173bed9ef7",
       "east": null,
       "fullscreen": false,
       "interpolation": "bilinear",
       "layers": [
        "IPY_MODEL_ccdae8ac8c27413da4d9a839d4ad3a8e",
        "IPY_MODEL_f22c95085a9f4cd5a03ca74bfa2bc8eb"
       ],
       "layout": "IPY_MODEL_d080de82d49c43a5b44103fbef999c24",
       "modisdate": "2023-06-18",
       "north": -90,
       "options": [
        "bounce_at_zoom_limits",
        "box_zoom",
        "center",
        "close_popup_on_click",
        "double_click_zoom",
        "dragging",
        "fullscreen",
        "inertia",
        "inertia_deceleration",
        "inertia_max_speed",
        "interpolation",
        "keyboard",
        "keyboard_pan_offset",
        "keyboard_zoom_offset",
        "max_zoom",
        "min_zoom",
        "prefer_canvas",
        "scroll_wheel_zoom",
        "tap",
        "tap_tolerance",
        "touch_zoom",
        "world_copy_jump",
        "zoom",
        "zoom_animation_threshold",
        "zoom_delta",
        "zoom_snap"
       ],
       "prefer_canvas": false,
       "south": 90,
       "style": "IPY_MODEL_b0325745d6a84997be47e5a76289c56d",
       "west": null,
       "window_url": "http://localhost:8889/notebooks/Jupyter/LUCinSA_helpers/LUCinSA_helpers/notebooks/2b_ViewTimeSeriesComposite.ipynb",
       "zoom": 14
      }
     },
     "76f3167bdb594f2cb145ab64599e496b": {
      "model_module": "jupyter-leaflet",
      "model_module_version": "^0.17",
      "model_name": "LeafletMapStyleModel",
      "state": {
       "_model_module_version": "^0.17"
      }
     },
     "780342e7e9494d3f9e7c5cb9f7e64cbd": {
      "model_module": "@jupyter-widgets/controls",
      "model_module_version": "1.5.0",
      "model_name": "DescriptionStyleModel",
      "state": {
       "description_width": ""
      }
     },
     "7952ec46aabb4a5a8cb3e16bafd05a91": {
      "model_module": "jupyter-leaflet",
      "model_module_version": "^0.17",
      "model_name": "LeafletMapStyleModel",
      "state": {
       "_model_module_version": "^0.17",
       "cursor": "move"
      }
     },
     "79564cc84efe440e9c006a3f316c47fd": {
      "model_module": "@jupyter-widgets/base",
      "model_module_version": "1.2.0",
      "model_name": "LayoutModel",
      "state": {}
     },
     "79f19f5fcc074b8db036e11288a9b506": {
      "model_module": "jupyter-leaflet",
      "model_module_version": "^0.17",
      "model_name": "LeafletPopupModel",
      "state": {
       "_model_module_version": "^0.17",
       "_view_module_version": "^0.17",
       "auto_close": false,
       "auto_pan": true,
       "auto_pan_padding": [
        5,
        5
       ],
       "auto_pan_padding_bottom_right": null,
       "auto_pan_padding_top_left": null,
       "close_button": false,
       "close_on_escape_key": false,
       "keep_in_view": false,
       "location": [
        -25.89589739275852,
        -54.79313707211987
       ],
       "options": [
        "auto_close",
        "auto_pan",
        "auto_pan_padding",
        "auto_pan_padding_bottom_right",
        "auto_pan_padding_top_left",
        "close_button",
        "close_on_escape_key",
        "keep_in_view",
        "max_height",
        "max_width",
        "min_width"
       ]
      }
     },
     "79f824fb876e42f68fdf62fba1eea0cf": {
      "model_module": "@jupyter-widgets/controls",
      "model_module_version": "1.5.0",
      "model_name": "LabelModel",
      "state": {
       "layout": "IPY_MODEL_998f0c73712a43d7818c4a95b2152904",
       "style": "IPY_MODEL_240686312bf943bf9794e18dfa59a75a",
       "value": "3: 4497/4440/57"
      }
     },
     "7a3dce7c2405408eacd85798189acb49": {
      "model_module": "@jupyter-widgets/controls",
      "model_module_version": "1.5.0",
      "model_name": "LabelModel",
      "state": {
       "layout": "IPY_MODEL_b9555f79009748baad7c5d9c29fde2e5",
       "style": "IPY_MODEL_bd52055bbea44eb0b97c1a3aababf237",
       "value": "1: 1353,1061,292"
      }
     },
     "7b6d0031764b4d909673feb42cea3337": {
      "model_module": "jupyter-leaflet",
      "model_module_version": "^0.17",
      "model_name": "LeafletZoomControlModel",
      "state": {
       "_model_module_version": "^0.17",
       "_view_module_version": "^0.17",
       "options": [
        "position",
        "zoom_in_text",
        "zoom_in_title",
        "zoom_out_text",
        "zoom_out_title"
       ]
      }
     },
     "7bec73dd8b104042b46a1640e11ac02c": {
      "model_module": "jupyter-leaflet",
      "model_module_version": "^0.17",
      "model_name": "LeafletPopupModel",
      "state": {
       "_model_module_version": "^0.17",
       "_view_module_version": "^0.17",
       "auto_close": false,
       "auto_pan": true,
       "auto_pan_padding": [
        5,
        5
       ],
       "auto_pan_padding_bottom_right": null,
       "auto_pan_padding_top_left": null,
       "close_button": false,
       "close_on_escape_key": false,
       "keep_in_view": false,
       "location": [
        -25.898422853730835,
        -54.81307911803015
       ],
       "options": [
        "auto_close",
        "auto_pan",
        "auto_pan_padding",
        "auto_pan_padding_bottom_right",
        "auto_pan_padding_top_left",
        "close_button",
        "close_on_escape_key",
        "keep_in_view",
        "max_height",
        "max_width",
        "min_width"
       ]
      }
     },
     "7c375cf371434ab2a4e370a58a7d4a66": {
      "model_module": "jupyter-leaflet",
      "model_module_version": "^0.17",
      "model_name": "LeafletMapStyleModel",
      "state": {
       "_model_module_version": "^0.17"
      }
     },
     "7c4a36f0e25247dda9395e65ce2e233f": {
      "model_module": "@jupyter-widgets/base",
      "model_module_version": "1.2.0",
      "model_name": "LayoutModel",
      "state": {}
     },
     "7dea51bbc0e4484bbed22dabe1a76518": {
      "model_module": "jupyter-leaflet",
      "model_module_version": "^0.17",
      "model_name": "LeafletPopupModel",
      "state": {
       "_model_module_version": "^0.17",
       "_view_module_version": "^0.17",
       "auto_close": false,
       "auto_pan": true,
       "auto_pan_padding": [
        5,
        5
       ],
       "auto_pan_padding_bottom_right": null,
       "auto_pan_padding_top_left": null,
       "close_button": false,
       "close_on_escape_key": false,
       "keep_in_view": false,
       "location": [
        -25.898422853730835,
        -54.81307911803015
       ],
       "options": [
        "auto_close",
        "auto_pan",
        "auto_pan_padding",
        "auto_pan_padding_bottom_right",
        "auto_pan_padding_top_left",
        "close_button",
        "close_on_escape_key",
        "keep_in_view",
        "max_height",
        "max_width",
        "min_width"
       ]
      }
     },
     "7e0a0f4b7f44478db37b2f43a8d422be": {
      "model_module": "@jupyter-widgets/controls",
      "model_module_version": "1.5.0",
      "model_name": "LabelModel",
      "state": {
       "layout": "IPY_MODEL_fd513408e55b44069ba1b0834a5ef373",
       "style": "IPY_MODEL_51168051b4f54b5086c798019fdaed9b",
       "value": "3"
      }
     },
     "7ec1f3b3b6644e8b9dd48b5c2c0d00f2": {
      "model_module": "jupyter-leaflet",
      "model_module_version": "^0.17",
      "model_name": "LeafletMapStyleModel",
      "state": {
       "_model_module_version": "^0.17"
      }
     },
     "7f8433b5acfd4560a5179e614c2bed39": {
      "model_module": "@jupyter-widgets/base",
      "model_module_version": "1.2.0",
      "model_name": "LayoutModel",
      "state": {}
     },
     "7f9f6b2bb466432cabde3ce271d94336": {
      "model_module": "jupyter-leaflet",
      "model_module_version": "^0.17",
      "model_name": "LeafletPopupModel",
      "state": {
       "_model_module_version": "^0.17",
       "_view_module_version": "^0.17",
       "auto_close": false,
       "auto_pan": true,
       "auto_pan_padding": [
        5,
        5
       ],
       "auto_pan_padding_bottom_right": null,
       "auto_pan_padding_top_left": null,
       "close_button": false,
       "close_on_escape_key": false,
       "keep_in_view": false,
       "location": [
        -25.89752784906365,
        -54.80069017270581
       ],
       "options": [
        "auto_close",
        "auto_pan",
        "auto_pan_padding",
        "auto_pan_padding_bottom_right",
        "auto_pan_padding_top_left",
        "close_button",
        "close_on_escape_key",
        "keep_in_view",
        "max_height",
        "max_width",
        "min_width"
       ]
      }
     },
     "803bb50674c94d768208248e05deaa1a": {
      "model_module": "@jupyter-widgets/base",
      "model_module_version": "1.2.0",
      "model_name": "LayoutModel",
      "state": {}
     },
     "8046b712c737498c9e54faf75a9407c2": {
      "model_module": "jupyter-leaflet",
      "model_module_version": "^0.17",
      "model_name": "LeafletMapModel",
      "state": {
       "_model_module_version": "^0.17",
       "_view_module_version": "^0.17",
       "center": [
        -25.895982326781798,
        -54.81765747070313
       ],
       "controls": [
        "IPY_MODEL_57ad7ed80a364fc1b8e5afbf7063dd31",
        "IPY_MODEL_063a746e8687490d9a9a31b2923c8dca"
       ],
       "default_style": "IPY_MODEL_267244974da74df8a7150a7150d2cb50",
       "dragging_style": "IPY_MODEL_3f153c790fa84273a0090fa5b2ff63c4",
       "east": null,
       "fullscreen": false,
       "interpolation": "bilinear",
       "layers": [
        "IPY_MODEL_5cba57c523a94e11b1606c8ec75c4de6",
        "IPY_MODEL_7679da41ba0f4512b758ccefc21c0a70",
        "IPY_MODEL_75d199c9116a4ffeb8d6629896da908a",
        "IPY_MODEL_6f21cfa2bfef4f8fb04e4db8b8fbcd5e",
        "IPY_MODEL_73498ed8072c45c191c668534226c196",
        "IPY_MODEL_121f8b1439d84991b6d4a2b81063e26e",
        "IPY_MODEL_0f23130b6c7c4f27b303c1e0f716b5ff",
        "IPY_MODEL_839b5dc975534851a27c347a6548f14c",
        "IPY_MODEL_23679fe658474bc7aeecdf400dff0228",
        "IPY_MODEL_11a4fa097b284f2191155321d4b8b7c4",
        "IPY_MODEL_b1e9166bc756477085150c4613dd4a88",
        "IPY_MODEL_435a4c279f8c48c2a61918c9123d03a6",
        "IPY_MODEL_0f98947a561f4d4b96b71220fd10a2c1"
       ],
       "layout": "IPY_MODEL_4bb49a282e4b4448b18fcae1ede04e3f",
       "modisdate": "2023-06-18",
       "north": -90,
       "options": [
        "bounce_at_zoom_limits",
        "box_zoom",
        "center",
        "close_popup_on_click",
        "double_click_zoom",
        "dragging",
        "fullscreen",
        "inertia",
        "inertia_deceleration",
        "inertia_max_speed",
        "interpolation",
        "keyboard",
        "keyboard_pan_offset",
        "keyboard_zoom_offset",
        "max_zoom",
        "min_zoom",
        "prefer_canvas",
        "scroll_wheel_zoom",
        "tap",
        "tap_tolerance",
        "touch_zoom",
        "world_copy_jump",
        "zoom",
        "zoom_animation_threshold",
        "zoom_delta",
        "zoom_snap"
       ],
       "prefer_canvas": false,
       "south": 90,
       "style": "IPY_MODEL_267244974da74df8a7150a7150d2cb50",
       "west": null,
       "window_url": "http://localhost:8889/notebooks/Jupyter/LUCinSA_helpers/LUCinSA_helpers/notebooks/2b_ViewTimeSeriesComposite.ipynb",
       "zoom": 15
      }
     },
     "80aa8ffdb95244f084365208d00d46f7": {
      "model_module": "@jupyter-widgets/controls",
      "model_module_version": "1.5.0",
      "model_name": "LabelModel",
      "state": {
       "layout": "IPY_MODEL_02dd855bcd744927b0c5cbb9adbe3fca",
       "style": "IPY_MODEL_44db4a13a0554e3d880bc4c67273e959",
       "value": "[-25.899079142817186, -54.809045075671754]"
      }
     },
     "80b3379e4ed740e18970826ef68990e3": {
      "model_module": "jupyter-leaflet",
      "model_module_version": "^0.17",
      "model_name": "LeafletMapStyleModel",
      "state": {
       "_model_module_version": "^0.17"
      }
     },
     "819e203c87554cbea1c43a695ab3b030": {
      "model_module": "jupyter-leaflet",
      "model_module_version": "^0.17",
      "model_name": "LeafletMapModel",
      "state": {
       "_model_module_version": "^0.17",
       "_view_module_version": "^0.17",
       "center": [
        -25.895892099924403,
        -54.81781789201834
       ],
       "controls": [
        "IPY_MODEL_ad53c2d0c62e420093b650b090d1e311",
        "IPY_MODEL_e778294fe53c4281bc54102f452c00ce"
       ],
       "default_style": "IPY_MODEL_0ca36a8aa62642549dcfd00c49ef5c6a",
       "dragging_style": "IPY_MODEL_7952ec46aabb4a5a8cb3e16bafd05a91",
       "fullscreen": false,
       "interpolation": "bilinear",
       "layers": [
        "IPY_MODEL_434554c7789449bc88a1fd8a104edddc"
       ],
       "layout": "IPY_MODEL_4c321630d5e94b23aed6c599a4c72d4c",
       "modisdate": "2023-06-18",
       "options": [
        "bounce_at_zoom_limits",
        "box_zoom",
        "center",
        "close_popup_on_click",
        "double_click_zoom",
        "dragging",
        "fullscreen",
        "inertia",
        "inertia_deceleration",
        "inertia_max_speed",
        "interpolation",
        "keyboard",
        "keyboard_pan_offset",
        "keyboard_zoom_offset",
        "max_zoom",
        "min_zoom",
        "prefer_canvas",
        "scroll_wheel_zoom",
        "tap",
        "tap_tolerance",
        "touch_zoom",
        "world_copy_jump",
        "zoom",
        "zoom_animation_threshold",
        "zoom_delta",
        "zoom_snap"
       ],
       "prefer_canvas": false,
       "style": "IPY_MODEL_0ba3d6d35eaa429a94482ed34729c4fa",
       "window_url": "http://localhost:8889/notebooks/Jupyter/LUCinSA_helpers/LUCinSA_helpers/notebooks/2b_ViewTimeSeriesComposite.ipynb"
      }
     },
     "81d967b7be9a437baefc5caa7f551d3b": {
      "model_module": "@jupyter-widgets/controls",
      "model_module_version": "1.5.0",
      "model_name": "DescriptionStyleModel",
      "state": {
       "description_width": ""
      }
     },
     "81e00d150adb42479b468a9ff430b942": {
      "model_module": "@jupyter-widgets/base",
      "model_module_version": "1.2.0",
      "model_name": "LayoutModel",
      "state": {}
     },
     "82729fe204214145b02baa601dd49d75": {
      "model_module": "jupyter-leaflet",
      "model_module_version": "^0.17",
      "model_name": "LeafletPopupModel",
      "state": {
       "_model_module_version": "^0.17",
       "_view_module_version": "^0.17",
       "auto_close": false,
       "auto_pan": true,
       "auto_pan_padding": [
        5,
        5
       ],
       "auto_pan_padding_bottom_right": null,
       "auto_pan_padding_top_left": null,
       "close_button": false,
       "close_on_escape_key": false,
       "keep_in_view": false,
       "location": [
        -25.898422853730835,
        -54.81307911803015
       ],
       "options": [
        "auto_close",
        "auto_pan",
        "auto_pan_padding",
        "auto_pan_padding_bottom_right",
        "auto_pan_padding_top_left",
        "close_button",
        "close_on_escape_key",
        "keep_in_view",
        "max_height",
        "max_width",
        "min_width"
       ]
      }
     },
     "827b63da07834de1a63ee1e828076d3a": {
      "model_module": "@jupyter-widgets/controls",
      "model_module_version": "1.5.0",
      "model_name": "LabelModel",
      "state": {
       "layout": "IPY_MODEL_4678c0f2974445cd87da4e47a6384ab7",
       "style": "IPY_MODEL_0b08f8e4217a45f1b27107b4d41da1c4",
       "value": "2: 1461"
      }
     },
     "82f3ad0c3bc140ffa7cd73fa9f4dca0f": {
      "model_module": "@jupyter-widgets/controls",
      "model_module_version": "1.5.0",
      "model_name": "DescriptionStyleModel",
      "state": {
       "description_width": ""
      }
     },
     "837fd9a5da154a1c910d832e9796b792": {
      "model_module": "@jupyter-widgets/controls",
      "model_module_version": "1.5.0",
      "model_name": "LabelModel",
      "state": {
       "layout": "IPY_MODEL_3cf22faa9387452db59544f257897ff5",
       "style": "IPY_MODEL_b7b4bd897fe04b14a509baff919eb8d8",
       "value": "[-25.89589739275852, -54.79313707211987]"
      }
     },
     "838a1b50d491434593bcb0b730fcaa4b": {
      "model_module": "jupyter-leaflet",
      "model_module_version": "^0.17",
      "model_name": "LeafletMapStyleModel",
      "state": {
       "_model_module_version": "^0.17"
      }
     },
     "839b5dc975534851a27c347a6548f14c": {
      "model_module": "jupyter-leaflet",
      "model_module_version": "^0.17",
      "model_name": "LeafletMarkerModel",
      "state": {
       "_model_module_version": "^0.17",
       "_view_module_version": "^0.17",
       "location": [
        -25.899079142817186,
        -54.809045075671754
       ],
       "options": [
        "alt",
        "draggable",
        "keyboard",
        "rise_offset",
        "rise_on_hover",
        "rotation_angle",
        "rotation_origin",
        "title",
        "z_index_offset"
       ],
       "popup": "IPY_MODEL_75af888cc591458f8096ee49e0336c1b"
      }
     },
     "8478f3855c6d4629a9761c9fa203b3c2": {
      "model_module": "jupyter-leaflet",
      "model_module_version": "^0.17",
      "model_name": "LeafletMarkerModel",
      "state": {
       "_model_module_version": "^0.17",
       "_view_module_version": "^0.17",
       "location": [
        -25.90706691629243,
        -54.80477333983649
       ],
       "options": [
        "alt",
        "draggable",
        "keyboard",
        "rise_offset",
        "rise_on_hover",
        "rotation_angle",
        "rotation_origin",
        "title",
        "z_index_offset"
       ],
       "popup": "IPY_MODEL_1f3c27ca07e345e4b0f9f5e855c11c84"
      }
     },
     "84e67c72df8d4f5fb9d3201b7134395b": {
      "model_module": "@jupyter-widgets/base",
      "model_module_version": "1.2.0",
      "model_name": "LayoutModel",
      "state": {}
     },
     "86d81d11d6f5442e9954ef5c6bcd9be7": {
      "model_module": "jupyter-leaflet",
      "model_module_version": "^0.17",
      "model_name": "LeafletAttributionControlModel",
      "state": {
       "_model_module_version": "^0.17",
       "_view_module_version": "^0.17",
       "options": [
        "position",
        "prefix"
       ],
       "position": "bottomright",
       "prefix": "ipyleaflet"
      }
     },
     "876e46eae77f4b9ea252af6c1cbce81a": {
      "model_module": "jupyter-leaflet",
      "model_module_version": "^0.17",
      "model_name": "LeafletMapStyleModel",
      "state": {
       "_model_module_version": "^0.17"
      }
     },
     "8788f7da35f34581942396a04e7d9ce9": {
      "model_module": "jupyter-leaflet",
      "model_module_version": "^0.17",
      "model_name": "LeafletMarkerModel",
      "state": {
       "_model_module_version": "^0.17",
       "_view_module_version": "^0.17",
       "location": [
        -25.898523871092685,
        -54.8139080987312
       ],
       "options": [
        "alt",
        "draggable",
        "keyboard",
        "rise_offset",
        "rise_on_hover",
        "rotation_angle",
        "rotation_origin",
        "title",
        "z_index_offset"
       ]
      }
     },
     "87bfd5b1c9964842890988ac3daa4b9e": {
      "model_module": "jupyter-leaflet",
      "model_module_version": "^0.17",
      "model_name": "LeafletPopupModel",
      "state": {
       "_model_module_version": "^0.17",
       "_view_module_version": "^0.17",
       "auto_close": false,
       "auto_pan": true,
       "auto_pan_padding": [
        5,
        5
       ],
       "auto_pan_padding_bottom_right": null,
       "auto_pan_padding_top_left": null,
       "close_button": false,
       "close_on_escape_key": false,
       "keep_in_view": false,
       "location": [
        -25.909691858401438,
        -54.78735326540998
       ],
       "options": [
        "auto_close",
        "auto_pan",
        "auto_pan_padding",
        "auto_pan_padding_bottom_right",
        "auto_pan_padding_top_left",
        "close_button",
        "close_on_escape_key",
        "keep_in_view",
        "max_height",
        "max_width",
        "min_width"
       ]
      }
     },
     "885c90f04d9f4dfdb410d78cca2b7e73": {
      "model_module": "@jupyter-widgets/base",
      "model_module_version": "1.2.0",
      "model_name": "LayoutModel",
      "state": {}
     },
     "8970c35a99ba4dd8bb5d7b135cc388ed": {
      "model_module": "jupyter-leaflet",
      "model_module_version": "^0.17",
      "model_name": "LeafletTileLayerModel",
      "state": {
       "_model_module_version": "^0.17",
       "_view_module_version": "^0.17",
       "attribution": "Raster file served by <a href='https://github.com/banesullivan/localtileserver' target='_blank'>localtileserver</a>.",
       "bounds": [
        [
         -25.978911914208837,
         -54.93987275686129
        ],
        [
         -25.812872285639965,
         -54.695763027175396
        ]
       ],
       "max_native_zoom": 15,
       "max_zoom": 15,
       "options": [
        "attribution",
        "bounds",
        "detect_retina",
        "max_native_zoom",
        "max_zoom",
        "min_native_zoom",
        "min_zoom",
        "no_wrap",
        "tile_size",
        "tms",
        "zoom_offset"
       ],
       "show_loading": true,
       "url": "http://127.0.0.1:5554/api/tiles/{z}/{x}/{y}.png?&filename=%2Fhome%2Fklwalker%2Fdata%2Ftmp%2F004057_2010evi2_MinMaxAmp.tif&band.0=3&band.1=2&band.2=1&n_colors=255&projection=EPSG%3A3857"
      }
     },
     "8a102476049840689968903cf7c03d22": {
      "model_module": "@jupyter-widgets/base",
      "model_module_version": "1.2.0",
      "model_name": "LayoutModel",
      "state": {}
     },
     "8bcad4e68fd24fee9fdcf9c9e4113a3c": {
      "model_module": "@jupyter-widgets/controls",
      "model_module_version": "1.5.0",
      "model_name": "LabelModel",
      "state": {
       "layout": "IPY_MODEL_81e00d150adb42479b468a9ff430b942",
       "style": "IPY_MODEL_b958933c47ec47098f3da913e8a50a52",
       "value": "2"
      }
     },
     "8c1318f16ecb43a99a3f70b982c8e018": {
      "model_module": "jupyter-leaflet",
      "model_module_version": "^0.17",
      "model_name": "LeafletTileLayerModel",
      "state": {
       "_model_module_version": "^0.17",
       "_view_module_version": "^0.17",
       "attribution": "Tiles &copy; Esri &mdash; Source: Esri, i-cubed, USDA, USGS, AEX, GeoEye, Getmapping, Aerogrid, IGN, IGP, UPR-EGP, and the GIS User Community",
       "base": true,
       "min_zoom": 1,
       "name": "Esri.WorldImagery",
       "options": [
        "attribution",
        "bounds",
        "detect_retina",
        "max_native_zoom",
        "max_zoom",
        "min_native_zoom",
        "min_zoom",
        "no_wrap",
        "tile_size",
        "tms",
        "zoom_offset"
       ],
       "url": "https://server.arcgisonline.com/ArcGIS/rest/services/World_Imagery/MapServer/tile/{z}/{y}/{x}"
      }
     },
     "8c926f78804b4b799aa12e488819c701": {
      "model_module": "@jupyter-widgets/base",
      "model_module_version": "1.2.0",
      "model_name": "LayoutModel",
      "state": {}
     },
     "8d2a7bd1e4eb4e1e9720e8bfa2b431f5": {
      "model_module": "jupyter-leaflet",
      "model_module_version": "^0.17",
      "model_name": "LeafletPopupModel",
      "state": {
       "_model_module_version": "^0.17",
       "_view_module_version": "^0.17",
       "auto_close": false,
       "auto_pan": true,
       "auto_pan_padding": [
        5,
        5
       ],
       "auto_pan_padding_bottom_right": null,
       "auto_pan_padding_top_left": null,
       "close_button": false,
       "close_on_escape_key": false,
       "keep_in_view": false,
       "location": [
        -25.90706691629243,
        -54.80477333983649
       ],
       "options": [
        "auto_close",
        "auto_pan",
        "auto_pan_padding",
        "auto_pan_padding_bottom_right",
        "auto_pan_padding_top_left",
        "close_button",
        "close_on_escape_key",
        "keep_in_view",
        "max_height",
        "max_width",
        "min_width"
       ]
      }
     },
     "8d65283aed8447789a0690e592c828de": {
      "model_module": "jupyter-leaflet",
      "model_module_version": "^0.17",
      "model_name": "LeafletMarkerModel",
      "state": {
       "_model_module_version": "^0.17",
       "_view_module_version": "^0.17",
       "location": [
        -25.89589739275852,
        -54.79313707211987
       ],
       "options": [
        "alt",
        "draggable",
        "keyboard",
        "rise_offset",
        "rise_on_hover",
        "rotation_angle",
        "rotation_origin",
        "title",
        "z_index_offset"
       ],
       "popup": "IPY_MODEL_41a32e3659b841f589be3991fb70323f"
      }
     },
     "8dcccbb0e0c741f0bfe500f356a4e17e": {
      "model_module": "jupyter-leaflet",
      "model_module_version": "^0.17",
      "model_name": "LeafletAttributionControlModel",
      "state": {
       "_model_module_version": "^0.17",
       "_view_module_version": "^0.17",
       "options": [
        "position",
        "prefix"
       ],
       "position": "bottomright",
       "prefix": "ipyleaflet"
      }
     },
     "8e5c167594bf41ef9252af069dd8ccb0": {
      "model_module": "@jupyter-widgets/controls",
      "model_module_version": "1.5.0",
      "model_name": "LabelModel",
      "state": {
       "layout": "IPY_MODEL_c69abc8046c7452abead4519c65f1a61",
       "style": "IPY_MODEL_82f3ad0c3bc140ffa7cd73fa9f4dca0f",
       "value": "2"
      }
     },
     "8f4514e39d47482cbd31e94d6f602985": {
      "model_module": "@jupyter-widgets/base",
      "model_module_version": "1.2.0",
      "model_name": "LayoutModel",
      "state": {}
     },
     "8f9ff5e405964eb1b0f5e51a6ed5fd71": {
      "model_module": "@jupyter-widgets/controls",
      "model_module_version": "1.5.0",
      "model_name": "DescriptionStyleModel",
      "state": {
       "description_width": ""
      }
     },
     "8fa98add3e9946d68bd53c62fda67520": {
      "model_module": "@jupyter-widgets/controls",
      "model_module_version": "1.5.0",
      "model_name": "LabelModel",
      "state": {
       "layout": "IPY_MODEL_60b4a34bb8964660b478401511d28cb7",
       "style": "IPY_MODEL_23e7f52ad8a242f8843cde9af078973b",
       "value": "[-25.89929597486029, -54.8098740563728]"
      }
     },
     "8fb51e2438e4447e8f6244672555ee9b": {
      "model_module": "@jupyter-widgets/base",
      "model_module_version": "1.2.0",
      "model_name": "LayoutModel",
      "state": {}
     },
     "908472de9a234728923f613bffdc49ed": {
      "model_module": "jupyter-leaflet",
      "model_module_version": "^0.17",
      "model_name": "LeafletMapStyleModel",
      "state": {
       "_model_module_version": "^0.17"
      }
     },
     "90b9d97d2746477bbb1d56517c7eccdd": {
      "model_module": "jupyter-leaflet",
      "model_module_version": "^0.17",
      "model_name": "LeafletTileLayerModel",
      "state": {
       "_model_module_version": "^0.17",
       "_view_module_version": "^0.17",
       "attribution": "Tiles &copy; Esri &mdash; Source: Esri, i-cubed, USDA, USGS, AEX, GeoEye, Getmapping, Aerogrid, IGN, IGP, UPR-EGP, and the GIS User Community",
       "base": true,
       "min_zoom": 1,
       "name": "Esri.WorldImagery",
       "options": [
        "attribution",
        "bounds",
        "detect_retina",
        "max_native_zoom",
        "max_zoom",
        "min_native_zoom",
        "min_zoom",
        "no_wrap",
        "tile_size",
        "tms",
        "zoom_offset"
       ],
       "url": "https://server.arcgisonline.com/ArcGIS/rest/services/World_Imagery/MapServer/tile/{z}/{y}/{x}"
      }
     },
     "913f990a61f04770b95f590a603eae5d": {
      "model_module": "jupyter-leaflet",
      "model_module_version": "^0.17",
      "model_name": "LeafletMarkerModel",
      "state": {
       "_model_module_version": "^0.17",
       "_view_module_version": "^0.17",
       "location": [
        -25.89983515679818,
        -54.824722765479244
       ],
       "options": [
        "alt",
        "draggable",
        "keyboard",
        "rise_offset",
        "rise_on_hover",
        "rotation_angle",
        "rotation_origin",
        "title",
        "z_index_offset"
       ],
       "popup": "IPY_MODEL_b7ff46247c4942108b383f2f4250368e"
      }
     },
     "9151d1adc2ac4832b0949745ea9259ab": {
      "model_module": "jupyter-leaflet",
      "model_module_version": "^0.17",
      "model_name": "LeafletTileLayerModel",
      "state": {
       "_model_module_version": "^0.17",
       "_view_module_version": "^0.17",
       "attribution": "Tiles &copy; Esri &mdash; Source: Esri, i-cubed, USDA, USGS, AEX, GeoEye, Getmapping, Aerogrid, IGN, IGP, UPR-EGP, and the GIS User Community",
       "base": true,
       "min_zoom": 1,
       "name": "Esri.WorldImagery",
       "options": [
        "attribution",
        "bounds",
        "detect_retina",
        "max_native_zoom",
        "max_zoom",
        "min_native_zoom",
        "min_zoom",
        "no_wrap",
        "tile_size",
        "tms",
        "zoom_offset"
       ],
       "url": "https://server.arcgisonline.com/ArcGIS/rest/services/World_Imagery/MapServer/tile/{z}/{y}/{x}"
      }
     },
     "9174ea563e9c4bf8aed065aeda58675e": {
      "model_module": "@jupyter-widgets/controls",
      "model_module_version": "1.5.0",
      "model_name": "DescriptionStyleModel",
      "state": {
       "description_width": ""
      }
     },
     "91a9370fc885434593a0c48d02b17af1": {
      "model_module": "@jupyter-widgets/controls",
      "model_module_version": "1.5.0",
      "model_name": "DescriptionStyleModel",
      "state": {
       "description_width": ""
      }
     },
     "91d028fdbc6d48a78d68967d9d6d0fd9": {
      "model_module": "jupyter-leaflet",
      "model_module_version": "^0.17",
      "model_name": "LeafletMarkerModel",
      "state": {
       "_model_module_version": "^0.17",
       "_view_module_version": "^0.17",
       "location": [
        -25.909691858401438,
        -54.78735326540998
       ],
       "options": [
        "alt",
        "draggable",
        "keyboard",
        "rise_offset",
        "rise_on_hover",
        "rotation_angle",
        "rotation_origin",
        "title",
        "z_index_offset"
       ],
       "popup": "IPY_MODEL_68376d50f01843f394cf99a2bb19bcde"
      }
     },
     "92edd7e21cf24e25a5a9f53968ae081c": {
      "model_module": "jupyter-leaflet",
      "model_module_version": "^0.17",
      "model_name": "LeafletMarkerModel",
      "state": {
       "_model_module_version": "^0.17",
       "_view_module_version": "^0.17",
       "location": [
        -25.89451657068475,
        -54.82274865964428
       ],
       "options": [
        "alt",
        "draggable",
        "keyboard",
        "rise_offset",
        "rise_on_hover",
        "rotation_angle",
        "rotation_origin",
        "title",
        "z_index_offset"
       ],
       "popup": "IPY_MODEL_34506b9f31804d91b2b66ad47a0690e7"
      }
     },
     "9301408e99d04c10b29289474dac8c5e": {
      "model_module": "@jupyter-widgets/controls",
      "model_module_version": "1.5.0",
      "model_name": "DescriptionStyleModel",
      "state": {
       "description_width": ""
      }
     },
     "934189d8a767458ebacb9f776ab21686": {
      "model_module": "jupyter-leaflet",
      "model_module_version": "^0.17",
      "model_name": "LeafletMarkerModel",
      "state": {
       "_model_module_version": "^0.17",
       "_view_module_version": "^0.17",
       "location": [
        -25.89752784906365,
        -54.80069017270581
       ],
       "options": [
        "alt",
        "draggable",
        "keyboard",
        "rise_offset",
        "rise_on_hover",
        "rotation_angle",
        "rotation_origin",
        "title",
        "z_index_offset"
       ],
       "popup": "IPY_MODEL_c220f8a218b6435fa5376c09072a7ef9"
      }
     },
     "93643421aec346a3a934242157fb0ae2": {
      "model_module": "jupyter-leaflet",
      "model_module_version": "^0.17",
      "model_name": "LeafletMapStyleModel",
      "state": {
       "_model_module_version": "^0.17"
      }
     },
     "939984383dc24117a2091b6148213289": {
      "model_module": "jupyter-leaflet",
      "model_module_version": "^0.17",
      "model_name": "LeafletMarkerModel",
      "state": {
       "_model_module_version": "^0.17",
       "_view_module_version": "^0.17",
       "location": [
        -25.898523871092685,
        -54.8139080987312
       ],
       "options": [
        "alt",
        "draggable",
        "keyboard",
        "rise_offset",
        "rise_on_hover",
        "rotation_angle",
        "rotation_origin",
        "title",
        "z_index_offset"
       ],
       "popup": "IPY_MODEL_e24f3ccc729d42caa4c6356a6fe5dd11"
      }
     },
     "9460b8f7939f4715868546a498f977b1": {
      "model_module": "@jupyter-widgets/base",
      "model_module_version": "1.2.0",
      "model_name": "LayoutModel",
      "state": {}
     },
     "94693b11373d4b70992e728a7d2b4e59": {
      "model_module": "@jupyter-widgets/controls",
      "model_module_version": "1.5.0",
      "model_name": "LabelModel",
      "state": {
       "layout": "IPY_MODEL_41a1455e2981419b92e53432e8f9afce",
       "style": "IPY_MODEL_3c961431164840f8a56fb537a87a0aed",
       "value": "1: 6434/6259/175"
      }
     },
     "94e6c65d97a14a40b7789374f613c8c2": {
      "model_module": "jupyter-leaflet",
      "model_module_version": "^0.17",
      "model_name": "LeafletPopupModel",
      "state": {
       "_model_module_version": "^0.17",
       "_view_module_version": "^0.17",
       "auto_close": false,
       "auto_pan": true,
       "auto_pan_padding": [
        5,
        5
       ],
       "auto_pan_padding_bottom_right": null,
       "auto_pan_padding_top_left": null,
       "close_button": false,
       "close_on_escape_key": false,
       "keep_in_view": false,
       "location": [
        -25.90660368515048,
        -54.82064877712176
       ],
       "options": [
        "auto_close",
        "auto_pan",
        "auto_pan_padding",
        "auto_pan_padding_bottom_right",
        "auto_pan_padding_top_left",
        "close_button",
        "close_on_escape_key",
        "keep_in_view",
        "max_height",
        "max_width",
        "min_width"
       ]
      }
     },
     "9586ebb80daf4387824b99f920c508be": {
      "model_module": "jupyter-leaflet",
      "model_module_version": "^0.17",
      "model_name": "LeafletMarkerModel",
      "state": {
       "_model_module_version": "^0.17",
       "_view_module_version": "^0.17",
       "location": [
        -25.91185353156826,
        -54.798165725398846
       ],
       "options": [
        "alt",
        "draggable",
        "keyboard",
        "rise_offset",
        "rise_on_hover",
        "rotation_angle",
        "rotation_origin",
        "title",
        "z_index_offset"
       ],
       "popup": "IPY_MODEL_ed083220717e4e7ca93b4b289cd41faf"
      }
     },
     "9643cfb549c2436a97d62d1f870d5aa7": {
      "model_module": "jupyter-leaflet",
      "model_module_version": "^0.17",
      "model_name": "LeafletMarkerModel",
      "state": {
       "_model_module_version": "^0.17",
       "_view_module_version": "^0.17",
       "location": [
        -25.89929597486029,
        -54.8098740563728
       ],
       "options": [
        "alt",
        "draggable",
        "keyboard",
        "rise_offset",
        "rise_on_hover",
        "rotation_angle",
        "rotation_origin",
        "title",
        "z_index_offset"
       ],
       "popup": "IPY_MODEL_2d3afa7cf6054931a1861661368310c3"
      }
     },
     "96d21fa5536e499bbf95e4241ca5f3bf": {
      "model_module": "jupyter-leaflet",
      "model_module_version": "^0.17",
      "model_name": "LeafletZoomControlModel",
      "state": {
       "_model_module_version": "^0.17",
       "_view_module_version": "^0.17",
       "options": [
        "position",
        "zoom_in_text",
        "zoom_in_title",
        "zoom_out_text",
        "zoom_out_title"
       ]
      }
     },
     "98462c42f08549df86d3e5a51f144dc3": {
      "model_module": "@jupyter-widgets/base",
      "model_module_version": "1.2.0",
      "model_name": "LayoutModel",
      "state": {}
     },
     "984b1af447c04d9aa8523e9ceffb77b2": {
      "model_module": "jupyter-leaflet",
      "model_module_version": "^0.17",
      "model_name": "LeafletPopupModel",
      "state": {
       "_model_module_version": "^0.17",
       "_view_module_version": "^0.17",
       "auto_close": false,
       "auto_pan": true,
       "auto_pan_padding": [
        5,
        5
       ],
       "auto_pan_padding_bottom_right": null,
       "auto_pan_padding_top_left": null,
       "close_button": false,
       "close_on_escape_key": false,
       "keep_in_view": false,
       "location": [
        -25.909691858401438,
        -54.78735326540998
       ],
       "options": [
        "auto_close",
        "auto_pan",
        "auto_pan_padding",
        "auto_pan_padding_bottom_right",
        "auto_pan_padding_top_left",
        "close_button",
        "close_on_escape_key",
        "keep_in_view",
        "max_height",
        "max_width",
        "min_width"
       ]
      }
     },
     "99553290e2fa40d6bee43c926f06ebb3": {
      "model_module": "jupyter-leaflet",
      "model_module_version": "^0.17",
      "model_name": "LeafletAttributionControlModel",
      "state": {
       "_model_module_version": "^0.17",
       "_view_module_version": "^0.17",
       "options": [
        "position",
        "prefix"
       ],
       "position": "bottomright",
       "prefix": "ipyleaflet"
      }
     },
     "998f0c73712a43d7818c4a95b2152904": {
      "model_module": "@jupyter-widgets/base",
      "model_module_version": "1.2.0",
      "model_name": "LayoutModel",
      "state": {}
     },
     "999a7363ff6a4b89be7a48f9e781a956": {
      "model_module": "jupyter-leaflet",
      "model_module_version": "^0.17",
      "model_name": "LeafletMarkerModel",
      "state": {
       "_model_module_version": "^0.17",
       "_view_module_version": "^0.17",
       "location": [
        -25.898523871092685,
        -54.8139080987312
       ],
       "options": [
        "alt",
        "draggable",
        "keyboard",
        "rise_offset",
        "rise_on_hover",
        "rotation_angle",
        "rotation_origin",
        "title",
        "z_index_offset"
       ],
       "popup": "IPY_MODEL_08a4757f82744df8bb542d6c81cd5701"
      }
     },
     "9a1b45c72cb74ae0a708f59156de1244": {
      "model_module": "jupyter-leaflet",
      "model_module_version": "^0.17",
      "model_name": "LeafletMapStyleModel",
      "state": {
       "_model_module_version": "^0.17"
      }
     },
     "9a3964baade4411d85218b51ba5ec43d": {
      "model_module": "jupyter-leaflet",
      "model_module_version": "^0.17",
      "model_name": "LeafletAttributionControlModel",
      "state": {
       "_model_module_version": "^0.17",
       "_view_module_version": "^0.17",
       "options": [
        "position",
        "prefix"
       ],
       "position": "bottomright",
       "prefix": "ipyleaflet"
      }
     },
     "9aba6f875796439b9fa6f69ed9e7d449": {
      "model_module": "@jupyter-widgets/base",
      "model_module_version": "1.2.0",
      "model_name": "LayoutModel",
      "state": {}
     },
     "9afe62cb8c9b40d6849e48684409a4de": {
      "model_module": "@jupyter-widgets/base",
      "model_module_version": "1.2.0",
      "model_name": "LayoutModel",
      "state": {}
     },
     "9b06c0b7116b4e5089544a71b49ce916": {
      "model_module": "jupyter-leaflet",
      "model_module_version": "^0.17",
      "model_name": "LeafletMapStyleModel",
      "state": {
       "_model_module_version": "^0.17"
      }
     },
     "9b1c6f230b694bd1938c2b302ef20ecb": {
      "model_module": "jupyter-leaflet",
      "model_module_version": "^0.17",
      "model_name": "LeafletPopupModel",
      "state": {
       "_model_module_version": "^0.17",
       "_view_module_version": "^0.17",
       "auto_close": false,
       "auto_pan": true,
       "auto_pan_padding": [
        5,
        5
       ],
       "auto_pan_padding_bottom_right": null,
       "auto_pan_padding_top_left": null,
       "close_button": false,
       "close_on_escape_key": false,
       "keep_in_view": false,
       "location": [
        -25.898422853730835,
        -54.81307911803015
       ],
       "options": [
        "auto_close",
        "auto_pan",
        "auto_pan_padding",
        "auto_pan_padding_bottom_right",
        "auto_pan_padding_top_left",
        "close_button",
        "close_on_escape_key",
        "keep_in_view",
        "max_height",
        "max_width",
        "min_width"
       ]
      }
     },
     "9bb2a6ad039443e19ca17349e8638197": {
      "model_module": "jupyter-leaflet",
      "model_module_version": "^0.17",
      "model_name": "LeafletZoomControlModel",
      "state": {
       "_model_module_version": "^0.17",
       "_view_module_version": "^0.17",
       "options": [
        "position",
        "zoom_in_text",
        "zoom_in_title",
        "zoom_out_text",
        "zoom_out_title"
       ]
      }
     },
     "9bbaafebb146432e8d98cedc47d1223c": {
      "model_module": "@jupyter-widgets/controls",
      "model_module_version": "1.5.0",
      "model_name": "DescriptionStyleModel",
      "state": {
       "description_width": ""
      }
     },
     "9c59845b8fa441f89e381757b28e788b": {
      "model_module": "@jupyter-widgets/controls",
      "model_module_version": "1.5.0",
      "model_name": "DescriptionStyleModel",
      "state": {
       "description_width": ""
      }
     },
     "9c6c882aeb904eafafa9d249e3ab8936": {
      "model_module": "jupyter-leaflet",
      "model_module_version": "^0.17",
      "model_name": "LeafletTileLayerModel",
      "state": {
       "_model_module_version": "^0.17",
       "_view_module_version": "^0.17",
       "attribution": "Raster file served by <a href='https://github.com/banesullivan/localtileserver' target='_blank'>localtileserver</a>.",
       "bounds": [
        [
         -25.978911914208837,
         -54.93987275686129
        ],
        [
         -25.812872285639965,
         -54.695763027175396
        ]
       ],
       "max_native_zoom": 15,
       "max_zoom": 15,
       "options": [
        "attribution",
        "bounds",
        "detect_retina",
        "max_native_zoom",
        "max_zoom",
        "min_native_zoom",
        "min_zoom",
        "no_wrap",
        "tile_size",
        "tms",
        "zoom_offset"
       ],
       "show_loading": true,
       "url": "http://127.0.0.1:5554/api/tiles/{z}/{x}/{y}.png?&filename=%2Fhome%2Fklwalker%2Fdata%2Ftmp%2F004057_2010evi2_MinMaxAmp.tif&band.0=3&band.1=2&band.2=1&n_colors=255&projection=EPSG%3A3857"
      }
     },
     "9cdc120ab52347ce9512c56ef9993cc7": {
      "model_module": "@jupyter-widgets/controls",
      "model_module_version": "1.5.0",
      "model_name": "DescriptionStyleModel",
      "state": {
       "description_width": ""
      }
     },
     "9cf545a91f45465091f89e225cd79496": {
      "model_module": "jupyter-leaflet",
      "model_module_version": "^0.17",
      "model_name": "LeafletTileLayerModel",
      "state": {
       "_model_module_version": "^0.17",
       "_view_module_version": "^0.17",
       "attribution": "Tiles &copy; Esri &mdash; Source: Esri, i-cubed, USDA, USGS, AEX, GeoEye, Getmapping, Aerogrid, IGN, IGP, UPR-EGP, and the GIS User Community",
       "base": true,
       "min_zoom": 1,
       "name": "Esri.WorldImagery",
       "options": [
        "attribution",
        "bounds",
        "detect_retina",
        "max_native_zoom",
        "max_zoom",
        "min_native_zoom",
        "min_zoom",
        "no_wrap",
        "tile_size",
        "tms",
        "zoom_offset"
       ],
       "url": "https://server.arcgisonline.com/ArcGIS/rest/services/World_Imagery/MapServer/tile/{z}/{y}/{x}"
      }
     },
     "9d8b11b5737748269c35b02b49eca760": {
      "model_module": "jupyter-leaflet",
      "model_module_version": "^0.17",
      "model_name": "LeafletMarkerModel",
      "state": {
       "_model_module_version": "^0.17",
       "_view_module_version": "^0.17",
       "location": [
        -25.90706691629243,
        -54.80477333983649
       ],
       "options": [
        "alt",
        "draggable",
        "keyboard",
        "rise_offset",
        "rise_on_hover",
        "rotation_angle",
        "rotation_origin",
        "title",
        "z_index_offset"
       ],
       "popup": "IPY_MODEL_3674b7b4c0184a63a9ef7490cf0df5e9"
      }
     },
     "9db74e64950e46e88326c90b4607c1e3": {
      "model_module": "@jupyter-widgets/controls",
      "model_module_version": "1.5.0",
      "model_name": "DescriptionStyleModel",
      "state": {
       "description_width": ""
      }
     },
     "9e3a66eeab304a96a265bdeabd506449": {
      "model_module": "@jupyter-widgets/base",
      "model_module_version": "1.2.0",
      "model_name": "LayoutModel",
      "state": {}
     },
     "9ea4462405cc4e1fb4c4b3173bed9ef7": {
      "model_module": "jupyter-leaflet",
      "model_module_version": "^0.17",
      "model_name": "LeafletMapStyleModel",
      "state": {
       "_model_module_version": "^0.17",
       "cursor": "move"
      }
     },
     "9f4ca666bfbc48efb70bd150f4534422": {
      "model_module": "jupyter-leaflet",
      "model_module_version": "^0.17",
      "model_name": "LeafletMarkerModel",
      "state": {
       "_model_module_version": "^0.17",
       "_view_module_version": "^0.17",
       "location": [
        -25.898677004544265,
        -54.811161516699954
       ],
       "options": [
        "alt",
        "draggable",
        "keyboard",
        "rise_offset",
        "rise_on_hover",
        "rotation_angle",
        "rotation_origin",
        "title",
        "z_index_offset"
       ],
       "popup": "IPY_MODEL_b8b0d10aa2e84f64a01071b4ebd3205c"
      }
     },
     "9ffd8a938cca4877ae9c90ddc44b3259": {
      "model_module": "@jupyter-widgets/controls",
      "model_module_version": "1.5.0",
      "model_name": "DescriptionStyleModel",
      "state": {
       "description_width": ""
      }
     },
     "a05ea223cc814732875488e082f25703": {
      "model_module": "jupyter-leaflet",
      "model_module_version": "^0.17",
      "model_name": "LeafletMapStyleModel",
      "state": {
       "_model_module_version": "^0.17",
       "cursor": "move"
      }
     },
     "a06ddb80b1a44a22950727f0ea87391c": {
      "model_module": "@jupyter-widgets/controls",
      "model_module_version": "1.5.0",
      "model_name": "DescriptionStyleModel",
      "state": {
       "description_width": ""
      }
     },
     "a22352eb144a4fba844813a0c6283bb6": {
      "model_module": "jupyter-leaflet",
      "model_module_version": "^0.17",
      "model_name": "LeafletPopupModel",
      "state": {
       "_model_module_version": "^0.17",
       "_view_module_version": "^0.17",
       "auto_close": false,
       "auto_pan": true,
       "auto_pan_padding": [
        5,
        5
       ],
       "auto_pan_padding_bottom_right": null,
       "auto_pan_padding_top_left": null,
       "close_button": false,
       "close_on_escape_key": false,
       "keep_in_view": false,
       "location": [
        -25.898677004544265,
        -54.811161516699954
       ],
       "options": [
        "auto_close",
        "auto_pan",
        "auto_pan_padding",
        "auto_pan_padding_bottom_right",
        "auto_pan_padding_top_left",
        "close_button",
        "close_on_escape_key",
        "keep_in_view",
        "max_height",
        "max_width",
        "min_width"
       ]
      }
     },
     "a2f650a676fc4a6c9ac113a2fc81880a": {
      "model_module": "@jupyter-widgets/controls",
      "model_module_version": "1.5.0",
      "model_name": "LabelModel",
      "state": {
       "layout": "IPY_MODEL_144680716f3148548fea61f8010354a4",
       "style": "IPY_MODEL_76de087f0a9145329c0a01ceb6ef7a51",
       "value": "1: 1353/1061/292"
      }
     },
     "a3ead9b9e0da45549615da9c75befec1": {
      "model_module": "jupyter-leaflet",
      "model_module_version": "^0.17",
      "model_name": "LeafletMarkerModel",
      "state": {
       "_model_module_version": "^0.17",
       "_view_module_version": "^0.17",
       "location": [
        -25.898337921464023,
        -54.81286454130896
       ],
       "options": [
        "alt",
        "draggable",
        "keyboard",
        "rise_offset",
        "rise_on_hover",
        "rotation_angle",
        "rotation_origin",
        "title",
        "z_index_offset"
       ],
       "popup": "IPY_MODEL_23e84dc0d3294920a2846bf4eb0a2bad"
      }
     },
     "a3ff9a76bf644cb9b73a89c273e57d00": {
      "model_module": "jupyter-leaflet",
      "model_module_version": "^0.17",
      "model_name": "LeafletMarkerModel",
      "state": {
       "_model_module_version": "^0.17",
       "_view_module_version": "^0.17",
       "location": [
        -25.90477647869274,
        -54.807213305030025
       ],
       "options": [
        "alt",
        "draggable",
        "keyboard",
        "rise_offset",
        "rise_on_hover",
        "rotation_angle",
        "rotation_origin",
        "title",
        "z_index_offset"
       ],
       "popup": "IPY_MODEL_511e42a48f384b19adaede26cddad33e"
      }
     },
     "a42bff3b43f64153bf582a192d7e6302": {
      "model_module": "jupyter-leaflet",
      "model_module_version": "^0.17",
      "model_name": "LeafletMapModel",
      "state": {
       "_model_module_version": "^0.17",
       "_view_module_version": "^0.17",
       "bottom": 2409892,
       "center": [
        -25.895982326781798,
        -54.81765747070313
       ],
       "controls": [
        "IPY_MODEL_2641cfbcce8b4149b05676535ad1bc8e",
        "IPY_MODEL_712ed9d0c1064dddb705333ac2e6e373"
       ],
       "default_style": "IPY_MODEL_a9840b469a5f4e239d07d75bea8fd9b2",
       "dragging_style": "IPY_MODEL_a05ea223cc814732875488e082f25703",
       "east": -54.77560043334962,
       "fullscreen": false,
       "interpolation": "bilinear",
       "layers": [
        "IPY_MODEL_b9ad0ab9a4a94ed4817fd6d045c02603",
        "IPY_MODEL_3a2b8bb614444b21a6a3fc3ec9a245e3",
        "IPY_MODEL_38e6ad500a734ef9a50bc26225eb55e7",
        "IPY_MODEL_14c78e2f6ae8489388b1413541ba6367",
        "IPY_MODEL_4d73d77cd02e4084aea7fb0459789282",
        "IPY_MODEL_fe565ef723f54f76b96fcf11e71b0315"
       ],
       "layout": "IPY_MODEL_fec4e8f04aa04d8b9382d288d7b8e738",
       "left": 1457990,
       "modisdate": "2023-06-18",
       "north": -25.880538858160314,
       "options": [
        "bounce_at_zoom_limits",
        "box_zoom",
        "center",
        "close_popup_on_click",
        "double_click_zoom",
        "dragging",
        "fullscreen",
        "inertia",
        "inertia_deceleration",
        "inertia_max_speed",
        "interpolation",
        "keyboard",
        "keyboard_pan_offset",
        "keyboard_zoom_offset",
        "max_zoom",
        "min_zoom",
        "prefer_canvas",
        "scroll_wheel_zoom",
        "tap",
        "tap_tolerance",
        "touch_zoom",
        "world_copy_jump",
        "zoom",
        "zoom_animation_threshold",
        "zoom_delta",
        "zoom_snap"
       ],
       "prefer_canvas": false,
       "right": 1458970,
       "south": -25.911423774767364,
       "style": "IPY_MODEL_a9840b469a5f4e239d07d75bea8fd9b2",
       "top": 2409492,
       "west": -54.85971450805665,
       "window_url": "http://localhost:8889/notebooks/Jupyter/LUCinSA_helpers/LUCinSA_helpers/notebooks/2b_ViewTimeSeriesComposite.ipynb",
       "zoom": 14
      }
     },
     "a46877ea6ea445fda8db2fc3e15962d3": {
      "model_module": "@jupyter-widgets/controls",
      "model_module_version": "1.5.0",
      "model_name": "LabelModel",
      "state": {
       "layout": "IPY_MODEL_4569187957ef41f5adddb2ee1c7da45a",
       "style": "IPY_MODEL_5339f15ffbf2484eb56cd72380ef4109",
       "value": "2"
      }
     },
     "a510f19690a44a29ad6f8f4eeb7d541c": {
      "model_module": "@jupyter-widgets/base",
      "model_module_version": "1.2.0",
      "model_name": "LayoutModel",
      "state": {}
     },
     "a72a4e859d7b4d518a588cd221a2313e": {
      "model_module": "@jupyter-widgets/controls",
      "model_module_version": "1.5.0",
      "model_name": "LabelModel",
      "state": {
       "layout": "IPY_MODEL_2892f1ea0978483db75d012e97a421bc",
       "style": "IPY_MODEL_17b0653be3364771a158e0e3225f1c41",
       "value": "[-25.898740059714353, -54.81133317807691]"
      }
     },
     "a743e07b0ef647c0a458fccd8b7631e2": {
      "model_module": "jupyter-leaflet",
      "model_module_version": "^0.17",
      "model_name": "LeafletMarkerModel",
      "state": {
       "_model_module_version": "^0.17",
       "_view_module_version": "^0.17",
       "location": [
        -25.895342749344977,
        -54.79734277585522
       ],
       "options": [
        "alt",
        "draggable",
        "keyboard",
        "rise_offset",
        "rise_on_hover",
        "rotation_angle",
        "rotation_origin",
        "title",
        "z_index_offset"
       ]
      }
     },
     "a9600d1e393e40148546183b4c7c7809": {
      "model_module": "jupyter-leaflet",
      "model_module_version": "^0.17",
      "model_name": "LeafletMapStyleModel",
      "state": {
       "_model_module_version": "^0.17"
      }
     },
     "a9840b469a5f4e239d07d75bea8fd9b2": {
      "model_module": "jupyter-leaflet",
      "model_module_version": "^0.17",
      "model_name": "LeafletMapStyleModel",
      "state": {
       "_model_module_version": "^0.17"
      }
     },
     "a9f7e3565ba546e08a95b8017d777bcf": {
      "model_module": "@jupyter-widgets/base",
      "model_module_version": "1.2.0",
      "model_name": "LayoutModel",
      "state": {}
     },
     "a9fc81805add43fea6139a042276bd51": {
      "model_module": "@jupyter-widgets/controls",
      "model_module_version": "1.5.0",
      "model_name": "DescriptionStyleModel",
      "state": {
       "description_width": ""
      }
     },
     "aa208d35c0db42cb8b4060dbfde14678": {
      "model_module": "jupyter-leaflet",
      "model_module_version": "^0.17",
      "model_name": "LeafletMarkerModel",
      "state": {
       "_model_module_version": "^0.17",
       "_view_module_version": "^0.17",
       "location": [
        -25.898740059714353,
        -54.81133317807691
       ],
       "options": [
        "alt",
        "draggable",
        "keyboard",
        "rise_offset",
        "rise_on_hover",
        "rotation_angle",
        "rotation_origin",
        "title",
        "z_index_offset"
       ],
       "popup": "IPY_MODEL_ca620ea946764ddc90c0fccd0fb8d6d7"
      }
     },
     "aa816092f89644b3963678ab539025f3": {
      "model_module": "@jupyter-widgets/base",
      "model_module_version": "1.2.0",
      "model_name": "LayoutModel",
      "state": {}
     },
     "ab3d6eb7cf2341a69697804e25c0c6d9": {
      "model_module": "@jupyter-widgets/controls",
      "model_module_version": "1.5.0",
      "model_name": "DescriptionStyleModel",
      "state": {
       "description_width": ""
      }
     },
     "ab762c8ba95642cda006f6058edf9ac8": {
      "model_module": "@jupyter-widgets/base",
      "model_module_version": "1.2.0",
      "model_name": "LayoutModel",
      "state": {}
     },
     "ab9038262f8540088727abf977ddd5c2": {
      "model_module": "@jupyter-widgets/controls",
      "model_module_version": "1.5.0",
      "model_name": "DescriptionStyleModel",
      "state": {
       "description_width": ""
      }
     },
     "abc699be62004a3bb6ae0dc881fb744d": {
      "model_module": "jupyter-leaflet",
      "model_module_version": "^0.17",
      "model_name": "LeafletTileLayerModel",
      "state": {
       "_model_module_version": "^0.17",
       "_view_module_version": "^0.17",
       "attribution": "Tiles &copy; Esri &mdash; Source: Esri, i-cubed, USDA, USGS, AEX, GeoEye, Getmapping, Aerogrid, IGN, IGP, UPR-EGP, and the GIS User Community",
       "base": true,
       "min_zoom": 1,
       "name": "Esri.WorldImagery",
       "options": [
        "attribution",
        "bounds",
        "detect_retina",
        "max_native_zoom",
        "max_zoom",
        "min_native_zoom",
        "min_zoom",
        "no_wrap",
        "tile_size",
        "tms",
        "zoom_offset"
       ],
       "url": "https://server.arcgisonline.com/ArcGIS/rest/services/World_Imagery/MapServer/tile/{z}/{y}/{x}"
      }
     },
     "abdf36777c744606a2fafe48d270e390": {
      "model_module": "jupyter-leaflet",
      "model_module_version": "^0.17",
      "model_name": "LeafletPopupModel",
      "state": {
       "_model_module_version": "^0.17",
       "_view_module_version": "^0.17",
       "auto_close": false,
       "auto_pan": true,
       "auto_pan_padding": [
        5,
        5
       ],
       "auto_pan_padding_bottom_right": null,
       "auto_pan_padding_top_left": null,
       "close_button": false,
       "close_on_escape_key": false,
       "keep_in_view": false,
       "location": [
        -25.90706691629243,
        -54.80477333983649
       ],
       "options": [
        "auto_close",
        "auto_pan",
        "auto_pan_padding",
        "auto_pan_padding_bottom_right",
        "auto_pan_padding_top_left",
        "close_button",
        "close_on_escape_key",
        "keep_in_view",
        "max_height",
        "max_width",
        "min_width"
       ]
      }
     },
     "abf41627d05b4fb1a281016bb2a63efc": {
      "model_module": "@jupyter-widgets/base",
      "model_module_version": "1.2.0",
      "model_name": "LayoutModel",
      "state": {}
     },
     "ac2d7a57ecd2473d81ca7a340d216f87": {
      "model_module": "@jupyter-widgets/controls",
      "model_module_version": "1.5.0",
      "model_name": "DescriptionStyleModel",
      "state": {
       "description_width": ""
      }
     },
     "ac635c43c9b3481bb40e4886f50b7b92": {
      "model_module": "@jupyter-widgets/controls",
      "model_module_version": "1.5.0",
      "model_name": "LabelModel",
      "state": {
       "layout": "IPY_MODEL_5806234a791a4a42a57474ed310b77b6",
       "style": "IPY_MODEL_91a9370fc885434593a0c48d02b17af1",
       "value": "2: 1404/1084/320"
      }
     },
     "ad53c2d0c62e420093b650b090d1e311": {
      "model_module": "jupyter-leaflet",
      "model_module_version": "^0.17",
      "model_name": "LeafletZoomControlModel",
      "state": {
       "_model_module_version": "^0.17",
       "_view_module_version": "^0.17",
       "options": [
        "position",
        "zoom_in_text",
        "zoom_in_title",
        "zoom_out_text",
        "zoom_out_title"
       ]
      }
     },
     "ad947b1a8de14d159aa62156834b06cd": {
      "model_module": "@jupyter-widgets/base",
      "model_module_version": "1.2.0",
      "model_name": "LayoutModel",
      "state": {}
     },
     "adb96f7783b842c98dc9187720cbac37": {
      "model_module": "jupyter-leaflet",
      "model_module_version": "^0.17",
      "model_name": "LeafletTileLayerModel",
      "state": {
       "_model_module_version": "^0.17",
       "_view_module_version": "^0.17",
       "attribution": "Tiles &copy; Esri &mdash; Source: Esri, i-cubed, USDA, USGS, AEX, GeoEye, Getmapping, Aerogrid, IGN, IGP, UPR-EGP, and the GIS User Community",
       "base": true,
       "min_zoom": 1,
       "name": "Esri.WorldImagery",
       "options": [
        "attribution",
        "bounds",
        "detect_retina",
        "max_native_zoom",
        "max_zoom",
        "min_native_zoom",
        "min_zoom",
        "no_wrap",
        "tile_size",
        "tms",
        "zoom_offset"
       ],
       "url": "https://server.arcgisonline.com/ArcGIS/rest/services/World_Imagery/MapServer/tile/{z}/{y}/{x}"
      }
     },
     "adc610565053496b8e2ed28a0f09763e": {
      "model_module": "jupyter-leaflet",
      "model_module_version": "^0.17",
      "model_name": "LeafletMapStyleModel",
      "state": {
       "_model_module_version": "^0.17",
       "cursor": "move"
      }
     },
     "af95391a98ae460fbb7e0887144a8e74": {
      "model_module": "jupyter-leaflet",
      "model_module_version": "^0.17",
      "model_name": "LeafletMapStyleModel",
      "state": {
       "_model_module_version": "^0.17",
       "cursor": "move"
      }
     },
     "afb605e5792648d88e58fdccd5eb5632": {
      "model_module": "@jupyter-widgets/base",
      "model_module_version": "1.2.0",
      "model_name": "LayoutModel",
      "state": {}
     },
     "afc9314db47c42ea88c3d099ba9fced1": {
      "model_module": "jupyter-leaflet",
      "model_module_version": "^0.17",
      "model_name": "LeafletMarkerModel",
      "state": {
       "_model_module_version": "^0.17",
       "_view_module_version": "^0.17",
       "location": [
        -25.898422853730835,
        -54.81307911803015
       ],
       "options": [
        "alt",
        "draggable",
        "keyboard",
        "rise_offset",
        "rise_on_hover",
        "rotation_angle",
        "rotation_origin",
        "title",
        "z_index_offset"
       ]
      }
     },
     "b0325745d6a84997be47e5a76289c56d": {
      "model_module": "jupyter-leaflet",
      "model_module_version": "^0.17",
      "model_name": "LeafletMapStyleModel",
      "state": {
       "_model_module_version": "^0.17"
      }
     },
     "b0eaf9958a754009a59dd1ee8e6be1b7": {
      "model_module": "@jupyter-widgets/controls",
      "model_module_version": "1.5.0",
      "model_name": "DescriptionStyleModel",
      "state": {
       "description_width": ""
      }
     },
     "b12861030cf74730a1b66b99dc894237": {
      "model_module": "@jupyter-widgets/controls",
      "model_module_version": "1.5.0",
      "model_name": "LabelModel",
      "state": {
       "layout": "IPY_MODEL_26b66d2a963842f58b19f161ded9f367",
       "style": "IPY_MODEL_0ca93c41a3f94a58b58e4bbcd93bcee8",
       "value": "1"
      }
     },
     "b13bb971f44041a3acde9b9d5d102908": {
      "model_module": "jupyter-leaflet",
      "model_module_version": "^0.17",
      "model_name": "LeafletZoomControlModel",
      "state": {
       "_model_module_version": "^0.17",
       "_view_module_version": "^0.17",
       "options": [
        "position",
        "zoom_in_text",
        "zoom_in_title",
        "zoom_out_text",
        "zoom_out_title"
       ]
      }
     },
     "b1be15ef67e24af7b8d23019235e459e": {
      "model_module": "jupyter-leaflet",
      "model_module_version": "^0.17",
      "model_name": "LeafletMarkerModel",
      "state": {
       "_model_module_version": "^0.17",
       "_view_module_version": "^0.17",
       "location": [
        -25.90660368515048,
        -54.82064877712176
       ],
       "options": [
        "alt",
        "draggable",
        "keyboard",
        "rise_offset",
        "rise_on_hover",
        "rotation_angle",
        "rotation_origin",
        "title",
        "z_index_offset"
       ],
       "popup": "IPY_MODEL_d9d596461743443295e7c6d1de970df5"
      }
     },
     "b1e9166bc756477085150c4613dd4a88": {
      "model_module": "jupyter-leaflet",
      "model_module_version": "^0.17",
      "model_name": "LeafletMarkerModel",
      "state": {
       "_model_module_version": "^0.17",
       "_view_module_version": "^0.17",
       "location": [
        -25.898422853730835,
        -54.81307911803015
       ],
       "options": [
        "alt",
        "draggable",
        "keyboard",
        "rise_offset",
        "rise_on_hover",
        "rotation_angle",
        "rotation_origin",
        "title",
        "z_index_offset"
       ],
       "popup": "IPY_MODEL_a2f650a676fc4a6c9ac113a2fc81880a"
      }
     },
     "b2452b68b1ce4060a882aa28dc89ca00": {
      "model_module": "jupyter-leaflet",
      "model_module_version": "^0.17",
      "model_name": "LeafletPopupModel",
      "state": {
       "_model_module_version": "^0.17",
       "_view_module_version": "^0.17",
       "auto_close": false,
       "auto_pan": true,
       "auto_pan_padding": [
        5,
        5
       ],
       "auto_pan_padding_bottom_right": null,
       "auto_pan_padding_top_left": null,
       "close_button": false,
       "close_on_escape_key": false,
       "keep_in_view": false,
       "location": [
        -25.89929597486029,
        -54.8098740563728
       ],
       "options": [
        "auto_close",
        "auto_pan",
        "auto_pan_padding",
        "auto_pan_padding_bottom_right",
        "auto_pan_padding_top_left",
        "close_button",
        "close_on_escape_key",
        "keep_in_view",
        "max_height",
        "max_width",
        "min_width"
       ]
      }
     },
     "b25691cf36e3427eaa80b7bdf4f30d04": {
      "model_module": "@jupyter-widgets/base",
      "model_module_version": "1.2.0",
      "model_name": "LayoutModel",
      "state": {}
     },
     "b2a7873cdadc4e86848d67b9adbc2505": {
      "model_module": "@jupyter-widgets/controls",
      "model_module_version": "1.5.0",
      "model_name": "LabelModel",
      "state": {
       "layout": "IPY_MODEL_bbe4eaab325a4c319abf5aa3688f0a54",
       "style": "IPY_MODEL_9bbaafebb146432e8d98cedc47d1223c",
       "value": "1: 8990/1487/7503"
      }
     },
     "b357553be1ed441082a2f2a8d5226c09": {
      "model_module": "jupyter-leaflet",
      "model_module_version": "^0.17",
      "model_name": "LeafletMarkerModel",
      "state": {
       "_model_module_version": "^0.17",
       "_view_module_version": "^0.17",
       "location": [
        -25.90477647869274,
        -54.807213305030025
       ],
       "options": [
        "alt",
        "draggable",
        "keyboard",
        "rise_offset",
        "rise_on_hover",
        "rotation_angle",
        "rotation_origin",
        "title",
        "z_index_offset"
       ],
       "popup": "IPY_MODEL_2d59b9cd3d3d461d95b96685c80b8661"
      }
     },
     "b3d3314b72cd408b972bb1b0545314ca": {
      "model_module": "@jupyter-widgets/base",
      "model_module_version": "1.2.0",
      "model_name": "LayoutModel",
      "state": {}
     },
     "b3fb68901a6448f6b78403d583520c77": {
      "model_module": "@jupyter-widgets/controls",
      "model_module_version": "1.5.0",
      "model_name": "DescriptionStyleModel",
      "state": {
       "description_width": ""
      }
     },
     "b403ba5a05c64bcf9996f1891281977f": {
      "model_module": "@jupyter-widgets/controls",
      "model_module_version": "1.5.0",
      "model_name": "DescriptionStyleModel",
      "state": {
       "description_width": ""
      }
     },
     "b438677ed8644c04b33569fdb3591073": {
      "model_module": "@jupyter-widgets/controls",
      "model_module_version": "1.5.0",
      "model_name": "DescriptionStyleModel",
      "state": {
       "description_width": ""
      }
     },
     "b4accfbeb2094188ba953a52596d7061": {
      "model_module": "@jupyter-widgets/base",
      "model_module_version": "1.2.0",
      "model_name": "LayoutModel",
      "state": {}
     },
     "b4e022e16bb040e5a9fcf1c16f104cdf": {
      "model_module": "jupyter-leaflet",
      "model_module_version": "^0.17",
      "model_name": "LeafletMapModel",
      "state": {
       "_model_module_version": "^0.17",
       "_view_module_version": "^0.17",
       "center": [
        -25.895982326781798,
        -54.81765747070313
       ],
       "controls": [
        "IPY_MODEL_b13bb971f44041a3acde9b9d5d102908",
        "IPY_MODEL_f9320b83562a467fa893ba76e96cd833"
       ],
       "default_style": "IPY_MODEL_5ea1251d9440485d98738a7ea52a5d61",
       "dragging_style": "IPY_MODEL_5df99bbe2d0b4fe984c02df12a65b332",
       "east": null,
       "fullscreen": false,
       "interpolation": "bilinear",
       "layers": [
        "IPY_MODEL_da09150126174467a1a528a4699d08fa",
        "IPY_MODEL_3afe09fbc5c0467da25f989c99b3166e",
        "IPY_MODEL_5699b0c31185456587ccaa57f79553b6",
        "IPY_MODEL_1a594b30000e4c6aaf1e2712166616e2",
        "IPY_MODEL_92edd7e21cf24e25a5a9f53968ae081c",
        "IPY_MODEL_934189d8a767458ebacb9f776ab21686"
       ],
       "layout": "IPY_MODEL_50ce5e29c0844d9c98914a1352ae53d1",
       "modisdate": "2023-06-18",
       "north": -90,
       "options": [
        "bounce_at_zoom_limits",
        "box_zoom",
        "center",
        "close_popup_on_click",
        "double_click_zoom",
        "dragging",
        "fullscreen",
        "inertia",
        "inertia_deceleration",
        "inertia_max_speed",
        "interpolation",
        "keyboard",
        "keyboard_pan_offset",
        "keyboard_zoom_offset",
        "max_zoom",
        "min_zoom",
        "prefer_canvas",
        "scroll_wheel_zoom",
        "tap",
        "tap_tolerance",
        "touch_zoom",
        "world_copy_jump",
        "zoom",
        "zoom_animation_threshold",
        "zoom_delta",
        "zoom_snap"
       ],
       "prefer_canvas": false,
       "south": 90,
       "style": "IPY_MODEL_5ea1251d9440485d98738a7ea52a5d61",
       "west": null,
       "window_url": "http://localhost:8889/notebooks/Jupyter/LUCinSA_helpers/LUCinSA_helpers/notebooks/2b_ViewTimeSeriesComposite.ipynb",
       "zoom": 14
      }
     },
     "b5244221d7b24427971d1a5d5182621d": {
      "model_module": "jupyter-leaflet",
      "model_module_version": "^0.17",
      "model_name": "LeafletAttributionControlModel",
      "state": {
       "_model_module_version": "^0.17",
       "_view_module_version": "^0.17",
       "options": [
        "position",
        "prefix"
       ],
       "position": "bottomright",
       "prefix": "ipyleaflet"
      }
     },
     "b601b5aedb8c421ab53ed733de50cef4": {
      "model_module": "jupyter-leaflet",
      "model_module_version": "^0.17",
      "model_name": "LeafletMapStyleModel",
      "state": {
       "_model_module_version": "^0.17"
      }
     },
     "b6a06c901a8e447d8d71535e1c7278fe": {
      "model_module": "jupyter-leaflet",
      "model_module_version": "^0.17",
      "model_name": "LeafletMarkerModel",
      "state": {
       "_model_module_version": "^0.17",
       "_view_module_version": "^0.17",
       "location": [
        -25.898337921464023,
        -54.81286454130896
       ],
       "options": [
        "alt",
        "draggable",
        "keyboard",
        "rise_offset",
        "rise_on_hover",
        "rotation_angle",
        "rotation_origin",
        "title",
        "z_index_offset"
       ],
       "popup": "IPY_MODEL_6270e202908b4e1993a51b3c11fe7867"
      }
     },
     "b6d5fc25d72b4756a8eb73f1d8a18887": {
      "model_module": "@jupyter-widgets/base",
      "model_module_version": "1.2.0",
      "model_name": "LayoutModel",
      "state": {}
     },
     "b7110a4d0fe04fc5a8165448d2a6b556": {
      "model_module": "jupyter-leaflet",
      "model_module_version": "^0.17",
      "model_name": "LeafletPopupModel",
      "state": {
       "_model_module_version": "^0.17",
       "_view_module_version": "^0.17",
       "auto_close": false,
       "auto_pan": true,
       "auto_pan_padding": [
        5,
        5
       ],
       "auto_pan_padding_bottom_right": null,
       "auto_pan_padding_top_left": null,
       "close_button": false,
       "close_on_escape_key": true,
       "keep_in_view": false,
       "location": [
        -25.898523871092685,
        -54.8139080987312
       ],
       "options": [
        "auto_close",
        "auto_pan",
        "auto_pan_padding",
        "auto_pan_padding_bottom_right",
        "auto_pan_padding_top_left",
        "close_button",
        "close_on_escape_key",
        "keep_in_view",
        "max_height",
        "max_width",
        "min_width"
       ]
      }
     },
     "b73abb4536bb4eee87bf8d9ca6229920": {
      "model_module": "@jupyter-widgets/controls",
      "model_module_version": "1.5.0",
      "model_name": "LabelModel",
      "state": {
       "layout": "IPY_MODEL_c7597f9521b742f6954d5a353b4ff236",
       "style": "IPY_MODEL_ebe1c670b5ae4160b58ab45c6c3793dc",
       "value": "1: 1353,1061,292"
      }
     },
     "b7744f3e7e894739a9cd2287d6e5fed1": {
      "model_module": "jupyter-leaflet",
      "model_module_version": "^0.17",
      "model_name": "LeafletMarkerModel",
      "state": {
       "_model_module_version": "^0.17",
       "_view_module_version": "^0.17",
       "location": [
        -25.909691858401438,
        -54.78735326540998
       ],
       "options": [
        "alt",
        "draggable",
        "keyboard",
        "rise_offset",
        "rise_on_hover",
        "rotation_angle",
        "rotation_origin",
        "title",
        "z_index_offset"
       ],
       "popup": "IPY_MODEL_6630b20de94049128463b7d8399bbf12"
      }
     },
     "b78df63ae25943f0852c03f3bba97485": {
      "model_module": "jupyter-leaflet",
      "model_module_version": "^0.17",
      "model_name": "LeafletPopupModel",
      "state": {
       "_model_module_version": "^0.17",
       "_view_module_version": "^0.17",
       "auto_close": false,
       "auto_pan": true,
       "auto_pan_padding": [
        5,
        5
       ],
       "auto_pan_padding_bottom_right": null,
       "auto_pan_padding_top_left": null,
       "close_button": false,
       "close_on_escape_key": false,
       "keep_in_view": false,
       "location": [
        -25.902353455456915,
        -54.791506289038814
       ],
       "options": [
        "auto_close",
        "auto_pan",
        "auto_pan_padding",
        "auto_pan_padding_bottom_right",
        "auto_pan_padding_top_left",
        "close_button",
        "close_on_escape_key",
        "keep_in_view",
        "max_height",
        "max_width",
        "min_width"
       ]
      }
     },
     "b7b1fcd6156b4c7d813cadaeb18a4a56": {
      "model_module": "@jupyter-widgets/base",
      "model_module_version": "1.2.0",
      "model_name": "LayoutModel",
      "state": {}
     },
     "b7b4bd897fe04b14a509baff919eb8d8": {
      "model_module": "@jupyter-widgets/controls",
      "model_module_version": "1.5.0",
      "model_name": "DescriptionStyleModel",
      "state": {
       "description_width": ""
      }
     },
     "b7cce230408b4abdaad0ddc0e5fd0b5e": {
      "model_module": "@jupyter-widgets/base",
      "model_module_version": "1.2.0",
      "model_name": "LayoutModel",
      "state": {}
     },
     "b7ff46247c4942108b383f2f4250368e": {
      "model_module": "@jupyter-widgets/controls",
      "model_module_version": "1.5.0",
      "model_name": "LabelModel",
      "state": {
       "layout": "IPY_MODEL_fbcca09ae9974d8da1a97105fbbe79a1",
       "style": "IPY_MODEL_a06ddb80b1a44a22950727f0ea87391c",
       "value": "1: 6434/6259/175"
      }
     },
     "b821d68d5b4d49078509a4ee1fe4a50a": {
      "model_module": "@jupyter-widgets/controls",
      "model_module_version": "1.5.0",
      "model_name": "LabelModel",
      "state": {
       "layout": "IPY_MODEL_02c34b4ced524d2786cdc295063802be",
       "style": "IPY_MODEL_f82cdbd4747a46939223c30f8b54b6f6",
       "value": "[-25.898686012596077, -54.81159067014233]"
      }
     },
     "b8b0d10aa2e84f64a01071b4ebd3205c": {
      "model_module": "@jupyter-widgets/controls",
      "model_module_version": "1.5.0",
      "model_name": "LabelModel",
      "state": {
       "layout": "IPY_MODEL_ccc65552534340c7bb4e210bdf823d65",
       "style": "IPY_MODEL_28da037aee7847b28a2226fbfb95bcc7",
       "value": "2: 1404/1084/320"
      }
     },
     "b8b70df656534b02ba7ece987e200b13": {
      "model_module": "jupyter-leaflet",
      "model_module_version": "^0.17",
      "model_name": "LeafletPopupModel",
      "state": {
       "_model_module_version": "^0.17",
       "_view_module_version": "^0.17",
       "auto_close": false,
       "auto_pan": true,
       "auto_pan_padding": [
        5,
        5
       ],
       "auto_pan_padding_bottom_right": null,
       "auto_pan_padding_top_left": null,
       "close_button": false,
       "close_on_escape_key": false,
       "keep_in_view": false,
       "location": [
        -25.89451657068475,
        -54.82274865964428
       ],
       "options": [
        "auto_close",
        "auto_pan",
        "auto_pan_padding",
        "auto_pan_padding_bottom_right",
        "auto_pan_padding_top_left",
        "close_button",
        "close_on_escape_key",
        "keep_in_view",
        "max_height",
        "max_width",
        "min_width"
       ]
      }
     },
     "b8e1ac0d6cdb457685a72a1ffd80978b": {
      "model_module": "@jupyter-widgets/controls",
      "model_module_version": "1.5.0",
      "model_name": "DescriptionStyleModel",
      "state": {
       "description_width": ""
      }
     },
     "b9555f79009748baad7c5d9c29fde2e5": {
      "model_module": "@jupyter-widgets/base",
      "model_module_version": "1.2.0",
      "model_name": "LayoutModel",
      "state": {}
     },
     "b958933c47ec47098f3da913e8a50a52": {
      "model_module": "@jupyter-widgets/controls",
      "model_module_version": "1.5.0",
      "model_name": "DescriptionStyleModel",
      "state": {
       "description_width": ""
      }
     },
     "b9886e35757c41feb4e0e04355e121fa": {
      "model_module": "@jupyter-widgets/controls",
      "model_module_version": "1.5.0",
      "model_name": "LabelModel",
      "state": {
       "layout": "IPY_MODEL_6f9ab976446947caa0c7809c346c579c",
       "style": "IPY_MODEL_f97d6846cc3745da9fcddde734936029",
       "value": "[-25.899203322910555, -54.81210565427319]"
      }
     },
     "b9ad0ab9a4a94ed4817fd6d045c02603": {
      "model_module": "jupyter-leaflet",
      "model_module_version": "^0.17",
      "model_name": "LeafletTileLayerModel",
      "state": {
       "_model_module_version": "^0.17",
       "_view_module_version": "^0.17",
       "attribution": "Tiles &copy; Esri &mdash; Source: Esri, i-cubed, USDA, USGS, AEX, GeoEye, Getmapping, Aerogrid, IGN, IGP, UPR-EGP, and the GIS User Community",
       "base": true,
       "min_zoom": 1,
       "name": "Esri.WorldImagery",
       "options": [
        "attribution",
        "bounds",
        "detect_retina",
        "max_native_zoom",
        "max_zoom",
        "min_native_zoom",
        "min_zoom",
        "no_wrap",
        "tile_size",
        "tms",
        "zoom_offset"
       ],
       "url": "https://server.arcgisonline.com/ArcGIS/rest/services/World_Imagery/MapServer/tile/{z}/{y}/{x}"
      }
     },
     "ba0c1615d75c47f8965a5a84f9296169": {
      "model_module": "jupyter-leaflet",
      "model_module_version": "^0.17",
      "model_name": "LeafletMarkerModel",
      "state": {
       "_model_module_version": "^0.17",
       "_view_module_version": "^0.17",
       "location": [
        -25.91185353156826,
        -54.798165725398846
       ],
       "options": [
        "alt",
        "draggable",
        "keyboard",
        "rise_offset",
        "rise_on_hover",
        "rotation_angle",
        "rotation_origin",
        "title",
        "z_index_offset"
       ],
       "popup": "IPY_MODEL_339f88bfae0d430f89d44e1b1b113068"
      }
     },
     "bbe4eaab325a4c319abf5aa3688f0a54": {
      "model_module": "@jupyter-widgets/base",
      "model_module_version": "1.2.0",
      "model_name": "LayoutModel",
      "state": {}
     },
     "bc4a08f0b98443e2afdbce605df56b83": {
      "model_module": "@jupyter-widgets/controls",
      "model_module_version": "1.5.0",
      "model_name": "DescriptionStyleModel",
      "state": {
       "description_width": ""
      }
     },
     "bcfecbb2e9984185acf145011a0a83c5": {
      "model_module": "@jupyter-widgets/controls",
      "model_module_version": "1.5.0",
      "model_name": "DescriptionStyleModel",
      "state": {
       "description_width": ""
      }
     },
     "bd3bf43beecb40fa937be69a3235b922": {
      "model_module": "jupyter-leaflet",
      "model_module_version": "^0.17",
      "model_name": "LeafletMapStyleModel",
      "state": {
       "_model_module_version": "^0.17"
      }
     },
     "bd4f84884c334605a0aec102ccc134b0": {
      "model_module": "@jupyter-widgets/controls",
      "model_module_version": "1.5.0",
      "model_name": "LabelModel",
      "state": {
       "layout": "IPY_MODEL_885c90f04d9f4dfdb410d78cca2b7e73",
       "style": "IPY_MODEL_9db74e64950e46e88326c90b4607c1e3",
       "value": "[-25.8860228074706, -54.8208603844978]"
      }
     },
     "bd52055bbea44eb0b97c1a3aababf237": {
      "model_module": "@jupyter-widgets/controls",
      "model_module_version": "1.5.0",
      "model_name": "DescriptionStyleModel",
      "state": {
       "description_width": ""
      }
     },
     "bded5629cdf24beba1c1a10247a81e8d": {
      "model_module": "@jupyter-widgets/controls",
      "model_module_version": "1.5.0",
      "model_name": "LabelModel",
      "state": {
       "layout": "IPY_MODEL_f82edf9125fe4c17a1d26b2f06b13d4e",
       "style": "IPY_MODEL_a9fc81805add43fea6139a042276bd51",
       "value": "2: [1061, 1105]"
      }
     },
     "bdf63befcef940af8c6ca76002b4978d": {
      "model_module": "@jupyter-widgets/controls",
      "model_module_version": "1.5.0",
      "model_name": "DescriptionStyleModel",
      "state": {
       "description_width": ""
      }
     },
     "be4ec89921ad478080ce44ff7f361202": {
      "model_module": "jupyter-leaflet",
      "model_module_version": "^0.17",
      "model_name": "LeafletMapModel",
      "state": {
       "_model_module_version": "^0.17",
       "_view_module_version": "^0.17",
       "center": [
        -25.901135954711346,
        -54.80016438715219
       ],
       "controls": [
        "IPY_MODEL_d9d0aae3ff984cce8b1bb9eb1a6d1fe6",
        "IPY_MODEL_0c4ceb3a03be4128ab75984f2c0cd346"
       ],
       "default_style": "IPY_MODEL_d83a6579ce9b41b0aed180b0d0608f65",
       "dragging_style": "IPY_MODEL_6ac0cf855dfd44dca00250e10786dc94",
       "fullscreen": false,
       "interpolation": "bilinear",
       "layers": [
        "IPY_MODEL_8c1318f16ecb43a99a3f70b982c8e018"
       ],
       "layout": "IPY_MODEL_c915a1b661d04278a117ec73e774d6f3",
       "modisdate": "2023-07-17",
       "options": [
        "bounce_at_zoom_limits",
        "box_zoom",
        "center",
        "close_popup_on_click",
        "double_click_zoom",
        "dragging",
        "fullscreen",
        "inertia",
        "inertia_deceleration",
        "inertia_max_speed",
        "interpolation",
        "keyboard",
        "keyboard_pan_offset",
        "keyboard_zoom_offset",
        "max_zoom",
        "min_zoom",
        "prefer_canvas",
        "scroll_wheel_zoom",
        "tap",
        "tap_tolerance",
        "touch_zoom",
        "world_copy_jump",
        "zoom",
        "zoom_animation_threshold",
        "zoom_delta",
        "zoom_snap"
       ],
       "prefer_canvas": false,
       "style": "IPY_MODEL_13f9347f465d4fdf90868c64691a6487",
       "window_url": "http://localhost:8889/notebooks/Jupyter/LUCinSA_helpers/LUCinSA_helpers/notebooks/2b_ViewTimeSeriesComposite.ipynb#"
      }
     },
     "bea3392667c44d9a9539da381b63359b": {
      "model_module": "jupyter-leaflet",
      "model_module_version": "^0.17",
      "model_name": "LeafletTileLayerModel",
      "state": {
       "_model_module_version": "^0.17",
       "_view_module_version": "^0.17",
       "attribution": "Tiles &copy; Esri &mdash; Source: Esri, i-cubed, USDA, USGS, AEX, GeoEye, Getmapping, Aerogrid, IGN, IGP, UPR-EGP, and the GIS User Community",
       "base": true,
       "min_zoom": 1,
       "name": "Esri.WorldImagery",
       "options": [
        "attribution",
        "bounds",
        "detect_retina",
        "max_native_zoom",
        "max_zoom",
        "min_native_zoom",
        "min_zoom",
        "no_wrap",
        "tile_size",
        "tms",
        "zoom_offset"
       ],
       "url": "https://server.arcgisonline.com/ArcGIS/rest/services/World_Imagery/MapServer/tile/{z}/{y}/{x}"
      }
     },
     "bf08eadc419146a3935b4050d8d3f199": {
      "model_module": "@jupyter-widgets/base",
      "model_module_version": "1.2.0",
      "model_name": "LayoutModel",
      "state": {}
     },
     "bf268f5fd56c41a98b4bba7bf6a7516e": {
      "model_module": "jupyter-leaflet",
      "model_module_version": "^0.17",
      "model_name": "LeafletPopupModel",
      "state": {
       "_model_module_version": "^0.17",
       "_view_module_version": "^0.17",
       "auto_close": false,
       "auto_pan": true,
       "auto_pan_padding": [
        5,
        5
       ],
       "auto_pan_padding_bottom_right": null,
       "auto_pan_padding_top_left": null,
       "close_button": false,
       "close_on_escape_key": false,
       "keep_in_view": false,
       "location": [
        -25.899110026448305,
        -54.809002160327516
       ],
       "options": [
        "auto_close",
        "auto_pan",
        "auto_pan_padding",
        "auto_pan_padding_bottom_right",
        "auto_pan_padding_top_left",
        "close_button",
        "close_on_escape_key",
        "keep_in_view",
        "max_height",
        "max_width",
        "min_width"
       ]
      }
     },
     "bf95002ee6344123a3a5d250b9326e2c": {
      "model_module": "jupyter-leaflet",
      "model_module_version": "^0.17",
      "model_name": "LeafletMapStyleModel",
      "state": {
       "_model_module_version": "^0.17"
      }
     },
     "bffe411d28d646888b833c8de2d03455": {
      "model_module": "@jupyter-widgets/controls",
      "model_module_version": "1.5.0",
      "model_name": "DescriptionStyleModel",
      "state": {
       "description_width": ""
      }
     },
     "c13da044dd9b4b5b9bd91ffa90c02876": {
      "model_module": "@jupyter-widgets/controls",
      "model_module_version": "1.5.0",
      "model_name": "DescriptionStyleModel",
      "state": {
       "description_width": ""
      }
     },
     "c17c1bca2bae481e834c665b8bf93e6f": {
      "model_module": "jupyter-leaflet",
      "model_module_version": "^0.17",
      "model_name": "LeafletMarkerModel",
      "state": {
       "_model_module_version": "^0.17",
       "_view_module_version": "^0.17",
       "location": [
        -25.899743791788165,
        -54.825666903052486
       ],
       "options": [
        "alt",
        "draggable",
        "keyboard",
        "rise_offset",
        "rise_on_hover",
        "rotation_angle",
        "rotation_origin",
        "title",
        "z_index_offset"
       ],
       "popup": "IPY_MODEL_2cc354b090fd4ffa9ad747503482cea8"
      }
     },
     "c1ce25c99f6f4ce2ad3a267959dc578a": {
      "model_module": "jupyter-leaflet",
      "model_module_version": "^0.17",
      "model_name": "LeafletZoomControlModel",
      "state": {
       "_model_module_version": "^0.17",
       "_view_module_version": "^0.17",
       "options": [
        "position",
        "zoom_in_text",
        "zoom_in_title",
        "zoom_out_text",
        "zoom_out_title"
       ]
      }
     },
     "c1ebf986258d47b49e43536e6c7e0e5f": {
      "model_module": "@jupyter-widgets/base",
      "model_module_version": "1.2.0",
      "model_name": "LayoutModel",
      "state": {}
     },
     "c2110915474745a3a760a806d370901c": {
      "model_module": "@jupyter-widgets/controls",
      "model_module_version": "1.5.0",
      "model_name": "LabelModel",
      "state": {
       "layout": "IPY_MODEL_9e3a66eeab304a96a265bdeabd506449",
       "style": "IPY_MODEL_709c3d85d61c4f31868c071baad057a8",
       "value": "[-25.899651140190034, -54.82558107236401]"
      }
     },
     "c211d69175694c3880923151a49627b1": {
      "model_module": "@jupyter-widgets/controls",
      "model_module_version": "1.5.0",
      "model_name": "DescriptionStyleModel",
      "state": {
       "description_width": ""
      }
     },
     "c220f8a218b6435fa5376c09072a7ef9": {
      "model_module": "@jupyter-widgets/controls",
      "model_module_version": "1.5.0",
      "model_name": "LabelModel",
      "state": {
       "layout": "IPY_MODEL_7f8433b5acfd4560a5179e614c2bed39",
       "style": "IPY_MODEL_fde4bdb4f5d745b1978eab258e1ee6e6",
       "value": "4: 4577/4515/62"
      }
     },
     "c52266f420204150babfd7fd42f065a5": {
      "model_module": "@jupyter-widgets/base",
      "model_module_version": "1.2.0",
      "model_name": "LayoutModel",
      "state": {}
     },
     "c69abc8046c7452abead4519c65f1a61": {
      "model_module": "@jupyter-widgets/base",
      "model_module_version": "1.2.0",
      "model_name": "LayoutModel",
      "state": {}
     },
     "c71b399e37bb4ae8be08a58d0a1d0a33": {
      "model_module": "jupyter-leaflet",
      "model_module_version": "^0.17",
      "model_name": "LeafletMapModel",
      "state": {
       "_model_module_version": "^0.17",
       "_view_module_version": "^0.17",
       "center": [
        -25.901135954711346,
        -54.80016438715219
       ],
       "controls": [
        "IPY_MODEL_e416ae40b6a24e958950291de2540c38",
        "IPY_MODEL_9a3964baade4411d85218b51ba5ec43d"
       ],
       "default_style": "IPY_MODEL_a9600d1e393e40148546183b4c7c7809",
       "dragging_style": "IPY_MODEL_69e2ba32a3fe4faaa8c2702787ff9835",
       "fullscreen": false,
       "interpolation": "bilinear",
       "layers": [
        "IPY_MODEL_bea3392667c44d9a9539da381b63359b"
       ],
       "layout": "IPY_MODEL_b4accfbeb2094188ba953a52596d7061",
       "modisdate": "2023-07-17",
       "options": [
        "bounce_at_zoom_limits",
        "box_zoom",
        "center",
        "close_popup_on_click",
        "double_click_zoom",
        "dragging",
        "fullscreen",
        "inertia",
        "inertia_deceleration",
        "inertia_max_speed",
        "interpolation",
        "keyboard",
        "keyboard_pan_offset",
        "keyboard_zoom_offset",
        "max_zoom",
        "min_zoom",
        "prefer_canvas",
        "scroll_wheel_zoom",
        "tap",
        "tap_tolerance",
        "touch_zoom",
        "world_copy_jump",
        "zoom",
        "zoom_animation_threshold",
        "zoom_delta",
        "zoom_snap"
       ],
       "prefer_canvas": false,
       "style": "IPY_MODEL_3e3f0812e22b4288b272223a16f2cdf2",
       "window_url": "http://localhost:8889/notebooks/Jupyter/LUCinSA_helpers/LUCinSA_helpers/notebooks/2b_ViewTimeSeriesComposite.ipynb#"
      }
     },
     "c7597f9521b742f6954d5a353b4ff236": {
      "model_module": "@jupyter-widgets/base",
      "model_module_version": "1.2.0",
      "model_name": "LayoutModel",
      "state": {}
     },
     "c7bf348618a641f39936d8de62c15277": {
      "model_module": "jupyter-leaflet",
      "model_module_version": "^0.17",
      "model_name": "LeafletPopupModel",
      "state": {
       "_model_module_version": "^0.17",
       "_view_module_version": "^0.17",
       "auto_close": false,
       "auto_pan": true,
       "auto_pan_padding": [
        5,
        5
       ],
       "auto_pan_padding_bottom_right": null,
       "auto_pan_padding_top_left": null,
       "close_button": false,
       "close_on_escape_key": false,
       "keep_in_view": false,
       "location": [
        -25.898422853730835,
        -54.81307911803015
       ],
       "options": [
        "auto_close",
        "auto_pan",
        "auto_pan_padding",
        "auto_pan_padding_bottom_right",
        "auto_pan_padding_top_left",
        "close_button",
        "close_on_escape_key",
        "keep_in_view",
        "max_height",
        "max_width",
        "min_width"
       ]
      }
     },
     "c7d32de70f4147729f84f19598d85df2": {
      "model_module": "@jupyter-widgets/controls",
      "model_module_version": "1.5.0",
      "model_name": "DescriptionStyleModel",
      "state": {
       "description_width": ""
      }
     },
     "c8e59dc8965b4c418e0273e36ffdef66": {
      "model_module": "@jupyter-widgets/base",
      "model_module_version": "1.2.0",
      "model_name": "LayoutModel",
      "state": {}
     },
     "c915a1b661d04278a117ec73e774d6f3": {
      "model_module": "@jupyter-widgets/base",
      "model_module_version": "1.2.0",
      "model_name": "LayoutModel",
      "state": {}
     },
     "c93a1d1039fa4cf6bbef9c07c47343c5": {
      "model_module": "jupyter-leaflet",
      "model_module_version": "^0.17",
      "model_name": "LeafletPopupModel",
      "state": {
       "_model_module_version": "^0.17",
       "_view_module_version": "^0.17",
       "auto_close": false,
       "auto_pan": true,
       "auto_pan_padding": [
        5,
        5
       ],
       "auto_pan_padding_bottom_right": null,
       "auto_pan_padding_top_left": null,
       "close_button": false,
       "close_on_escape_key": false,
       "keep_in_view": false,
       "location": [
        -25.898677004544265,
        -54.811161516699954
       ],
       "options": [
        "auto_close",
        "auto_pan",
        "auto_pan_padding",
        "auto_pan_padding_bottom_right",
        "auto_pan_padding_top_left",
        "close_button",
        "close_on_escape_key",
        "keep_in_view",
        "max_height",
        "max_width",
        "min_width"
       ]
      }
     },
     "c9d5fd36c3d14555a0c0ce276357a644": {
      "model_module": "jupyter-leaflet",
      "model_module_version": "^0.17",
      "model_name": "LeafletMapModel",
      "state": {
       "_model_module_version": "^0.17",
       "_view_module_version": "^0.17",
       "center": [
        -25.895982326781798,
        -54.81765747070313
       ],
       "controls": [
        "IPY_MODEL_1b8d7bd2d9664a16adca5bda8b28453d",
        "IPY_MODEL_f27c41e8cd834bb79b03954f22619af9"
       ],
       "default_style": "IPY_MODEL_cee5be833ac04eb68fa2653fe6441a7d",
       "dragging_style": "IPY_MODEL_dc1e9844600d46b8a09bbc81e3c23b73",
       "east": null,
       "fullscreen": false,
       "interpolation": "bilinear",
       "layers": [
        "IPY_MODEL_359ff65d76a140018a689c8272c42c86",
        "IPY_MODEL_76c3d38f5cf14718b31f656f9e24c7ff",
        "IPY_MODEL_1e908c8b052c4615bbe58a222a9759df",
        "IPY_MODEL_1de89d9c8a154b35b0979cb7b47b0e92",
        "IPY_MODEL_a743e07b0ef647c0a458fccd8b7631e2",
        "IPY_MODEL_19e1d599f2b94904a8d22eab7471a645"
       ],
       "layout": "IPY_MODEL_2716b5c58451471faa0d4e9f56a3e6a2",
       "modisdate": "2023-06-18",
       "north": -90,
       "options": [
        "bounce_at_zoom_limits",
        "box_zoom",
        "center",
        "close_popup_on_click",
        "double_click_zoom",
        "dragging",
        "fullscreen",
        "inertia",
        "inertia_deceleration",
        "inertia_max_speed",
        "interpolation",
        "keyboard",
        "keyboard_pan_offset",
        "keyboard_zoom_offset",
        "max_zoom",
        "min_zoom",
        "prefer_canvas",
        "scroll_wheel_zoom",
        "tap",
        "tap_tolerance",
        "touch_zoom",
        "world_copy_jump",
        "zoom",
        "zoom_animation_threshold",
        "zoom_delta",
        "zoom_snap"
       ],
       "prefer_canvas": false,
       "south": 90,
       "style": "IPY_MODEL_cee5be833ac04eb68fa2653fe6441a7d",
       "west": null,
       "window_url": "http://localhost:8889/notebooks/Jupyter/LUCinSA_helpers/LUCinSA_helpers/notebooks/2b_ViewTimeSeriesComposite.ipynb",
       "zoom": 14
      }
     },
     "ca620ea946764ddc90c0fccd0fb8d6d7": {
      "model_module": "@jupyter-widgets/controls",
      "model_module_version": "1.5.0",
      "model_name": "LabelModel",
      "state": {
       "layout": "IPY_MODEL_3048cbe1da7d44debc491b18a904dac7",
       "style": "IPY_MODEL_3d6f0f54902447d08d5b645adfe7ca1b",
       "value": "2"
      }
     },
     "cb20f79873ad40babc3e6f5d09068ed9": {
      "model_module": "@jupyter-widgets/controls",
      "model_module_version": "1.5.0",
      "model_name": "LabelModel",
      "state": {
       "layout": "IPY_MODEL_e65aa53cbb544cfb889518044fff331e",
       "style": "IPY_MODEL_bffe411d28d646888b833c8de2d03455",
       "value": "[-25.89876322309409, -54.81150483945386]"
      }
     },
     "cbe8f081d1b74ce787623429bd31d1d1": {
      "model_module": "@jupyter-widgets/controls",
      "model_module_version": "1.5.0",
      "model_name": "DescriptionStyleModel",
      "state": {
       "description_width": ""
      }
     },
     "cc6c9b886f704b3686a8474e73e03290": {
      "model_module": "jupyter-leaflet",
      "model_module_version": "^0.17",
      "model_name": "LeafletAttributionControlModel",
      "state": {
       "_model_module_version": "^0.17",
       "_view_module_version": "^0.17",
       "options": [
        "position",
        "prefix"
       ],
       "position": "bottomright",
       "prefix": "ipyleaflet"
      }
     },
     "cc70e5056fb442fe8a6ee887f3501a38": {
      "model_module": "jupyter-leaflet",
      "model_module_version": "^0.17",
      "model_name": "LeafletMapStyleModel",
      "state": {
       "_model_module_version": "^0.17"
      }
     },
     "cc9f94333a424e5b98ba261a6b86970d": {
      "model_module": "jupyter-leaflet",
      "model_module_version": "^0.17",
      "model_name": "LeafletMapStyleModel",
      "state": {
       "_model_module_version": "^0.17",
       "cursor": "move"
      }
     },
     "ccc65552534340c7bb4e210bdf823d65": {
      "model_module": "@jupyter-widgets/base",
      "model_module_version": "1.2.0",
      "model_name": "LayoutModel",
      "state": {}
     },
     "ccdae8ac8c27413da4d9a839d4ad3a8e": {
      "model_module": "jupyter-leaflet",
      "model_module_version": "^0.17",
      "model_name": "LeafletTileLayerModel",
      "state": {
       "_model_module_version": "^0.17",
       "_view_module_version": "^0.17",
       "attribution": "Tiles &copy; Esri &mdash; Source: Esri, i-cubed, USDA, USGS, AEX, GeoEye, Getmapping, Aerogrid, IGN, IGP, UPR-EGP, and the GIS User Community",
       "base": true,
       "min_zoom": 1,
       "name": "Esri.WorldImagery",
       "options": [
        "attribution",
        "bounds",
        "detect_retina",
        "max_native_zoom",
        "max_zoom",
        "min_native_zoom",
        "min_zoom",
        "no_wrap",
        "tile_size",
        "tms",
        "zoom_offset"
       ],
       "url": "https://server.arcgisonline.com/ArcGIS/rest/services/World_Imagery/MapServer/tile/{z}/{y}/{x}"
      }
     },
     "cde32aa33d834648bed2cd559c53790c": {
      "model_module": "jupyter-leaflet",
      "model_module_version": "^0.17",
      "model_name": "LeafletZoomControlModel",
      "state": {
       "_model_module_version": "^0.17",
       "_view_module_version": "^0.17",
       "options": [
        "position",
        "zoom_in_text",
        "zoom_in_title",
        "zoom_out_text",
        "zoom_out_title"
       ]
      }
     },
     "ce015a5e89724045b311286640b45dc6": {
      "model_module": "@jupyter-widgets/controls",
      "model_module_version": "1.5.0",
      "model_name": "LabelModel",
      "state": {
       "layout": "IPY_MODEL_a510f19690a44a29ad6f8f4eeb7d541c",
       "style": "IPY_MODEL_e9b588c4d11d4c5fbc5452d4d5c54f94",
       "value": "[-25.89287191674047, -54.78017663815991]"
      }
     },
     "ce51f009295045e788cce194cb52ad6b": {
      "model_module": "jupyter-leaflet",
      "model_module_version": "^0.17",
      "model_name": "LeafletMarkerModel",
      "state": {
       "_model_module_version": "^0.17",
       "_view_module_version": "^0.17",
       "location": [
        -25.89929597486029,
        -54.8098740563728
       ],
       "options": [
        "alt",
        "draggable",
        "keyboard",
        "rise_offset",
        "rise_on_hover",
        "rotation_angle",
        "rotation_origin",
        "title",
        "z_index_offset"
       ],
       "popup": "IPY_MODEL_8e5c167594bf41ef9252af069dd8ccb0"
      }
     },
     "ce659ea141b14e1594a2305d221e0396": {
      "model_module": "@jupyter-widgets/base",
      "model_module_version": "1.2.0",
      "model_name": "LayoutModel",
      "state": {}
     },
     "ce81df8c27d34e47800a0cf50842b304": {
      "model_module": "jupyter-leaflet",
      "model_module_version": "^0.17",
      "model_name": "LeafletMapStyleModel",
      "state": {
       "_model_module_version": "^0.17"
      }
     },
     "ce9520f3bc72434ba79c8bb20cf424c1": {
      "model_module": "@jupyter-widgets/controls",
      "model_module_version": "1.5.0",
      "model_name": "DescriptionStyleModel",
      "state": {
       "description_width": ""
      }
     },
     "ce9cb986009a450ba4122cde5fc62692": {
      "model_module": "@jupyter-widgets/base",
      "model_module_version": "1.2.0",
      "model_name": "LayoutModel",
      "state": {}
     },
     "cececf31172b4f85b3a7114a6e9dc62f": {
      "model_module": "@jupyter-widgets/base",
      "model_module_version": "1.2.0",
      "model_name": "LayoutModel",
      "state": {}
     },
     "cee5be833ac04eb68fa2653fe6441a7d": {
      "model_module": "jupyter-leaflet",
      "model_module_version": "^0.17",
      "model_name": "LeafletMapStyleModel",
      "state": {
       "_model_module_version": "^0.17"
      }
     },
     "cf1c64e5983c4805a39f162409fe69a3": {
      "model_module": "@jupyter-widgets/controls",
      "model_module_version": "1.5.0",
      "model_name": "LabelModel",
      "state": {
       "layout": "IPY_MODEL_ea5f39af021b4d549149ccdd88224788",
       "style": "IPY_MODEL_6687705ea8a04bb282e533ac6471a658",
       "value": "4"
      }
     },
     "cf40e8fe68e44ba6ab2240da844e99ce": {
      "model_module": "jupyter-leaflet",
      "model_module_version": "^0.17",
      "model_name": "LeafletZoomControlModel",
      "state": {
       "_model_module_version": "^0.17",
       "_view_module_version": "^0.17",
       "options": [
        "position",
        "zoom_in_text",
        "zoom_in_title",
        "zoom_out_text",
        "zoom_out_title"
       ]
      }
     },
     "cfc175b849aa401584d151f1e7665e30": {
      "model_module": "jupyter-leaflet",
      "model_module_version": "^0.17",
      "model_name": "LeafletZoomControlModel",
      "state": {
       "_model_module_version": "^0.17",
       "_view_module_version": "^0.17",
       "options": [
        "position",
        "zoom_in_text",
        "zoom_in_title",
        "zoom_out_text",
        "zoom_out_title"
       ]
      }
     },
     "d06616c60b5f4ecba58bad80573fa979": {
      "model_module": "@jupyter-widgets/controls",
      "model_module_version": "1.5.0",
      "model_name": "DescriptionStyleModel",
      "state": {
       "description_width": ""
      }
     },
     "d080de82d49c43a5b44103fbef999c24": {
      "model_module": "@jupyter-widgets/base",
      "model_module_version": "1.2.0",
      "model_name": "LayoutModel",
      "state": {}
     },
     "d1a7c186c372489f9eb0b1f50baff81f": {
      "model_module": "jupyter-leaflet",
      "model_module_version": "^0.17",
      "model_name": "LeafletMarkerModel",
      "state": {
       "_model_module_version": "^0.17",
       "_view_module_version": "^0.17",
       "location": [
        -25.898677004544265,
        -54.811161516699954
       ],
       "options": [
        "alt",
        "draggable",
        "keyboard",
        "rise_offset",
        "rise_on_hover",
        "rotation_angle",
        "rotation_origin",
        "title",
        "z_index_offset"
       ],
       "popup": "IPY_MODEL_1759069d747740d7b2100899d5b12c09"
      }
     },
     "d26054c8f90a4e4a81813a757a3794fa": {
      "model_module": "jupyter-leaflet",
      "model_module_version": "^0.17",
      "model_name": "LeafletMarkerModel",
      "state": {
       "_model_module_version": "^0.17",
       "_view_module_version": "^0.17",
       "location": [
        -25.899110026448305,
        -54.809002160327516
       ],
       "options": [
        "alt",
        "draggable",
        "keyboard",
        "rise_offset",
        "rise_on_hover",
        "rotation_angle",
        "rotation_origin",
        "title",
        "z_index_offset"
       ],
       "popup": "IPY_MODEL_2afb58f5d05f421093807a6a8169c63f"
      }
     },
     "d2ddfcf84fa540ff88556a4625de2a58": {
      "model_module": "jupyter-leaflet",
      "model_module_version": "^0.17",
      "model_name": "LeafletPopupModel",
      "state": {
       "_model_module_version": "^0.17",
       "_view_module_version": "^0.17",
       "auto_close": false,
       "auto_pan": true,
       "auto_pan_padding": [
        5,
        5
       ],
       "auto_pan_padding_bottom_right": null,
       "auto_pan_padding_top_left": null,
       "close_button": false,
       "close_on_escape_key": false,
       "keep_in_view": false,
       "location": [
        -25.89756645469786,
        -54.80051851132886
       ],
       "options": [
        "auto_close",
        "auto_pan",
        "auto_pan_padding",
        "auto_pan_padding_bottom_right",
        "auto_pan_padding_top_left",
        "close_button",
        "close_on_escape_key",
        "keep_in_view",
        "max_height",
        "max_width",
        "min_width"
       ]
      }
     },
     "d523a5a17a5640b58ec28f7ff8eeabdc": {
      "model_module": "jupyter-leaflet",
      "model_module_version": "^0.17",
      "model_name": "LeafletPopupModel",
      "state": {
       "_model_module_version": "^0.17",
       "_view_module_version": "^0.17",
       "auto_close": false,
       "auto_pan": true,
       "auto_pan_padding": [
        5,
        5
       ],
       "auto_pan_padding_bottom_right": null,
       "auto_pan_padding_top_left": null,
       "close_button": false,
       "close_on_escape_key": false,
       "keep_in_view": false,
       "location": [
        -25.898523871092685,
        -54.8139080987312
       ],
       "options": [
        "auto_close",
        "auto_pan",
        "auto_pan_padding",
        "auto_pan_padding_bottom_right",
        "auto_pan_padding_top_left",
        "close_button",
        "close_on_escape_key",
        "keep_in_view",
        "max_height",
        "max_width",
        "min_width"
       ]
      }
     },
     "d5a9679399514aaf93ad09eea0012856": {
      "model_module": "jupyter-leaflet",
      "model_module_version": "^0.17",
      "model_name": "LeafletPopupModel",
      "state": {
       "_model_module_version": "^0.17",
       "_view_module_version": "^0.17",
       "auto_close": false,
       "auto_pan": true,
       "auto_pan_padding": [
        5,
        5
       ],
       "auto_pan_padding_bottom_right": null,
       "auto_pan_padding_top_left": null,
       "close_button": false,
       "close_on_escape_key": false,
       "keep_in_view": false,
       "location": [
        -25.89983515679818,
        -54.824722765479244
       ],
       "options": [
        "auto_close",
        "auto_pan",
        "auto_pan_padding",
        "auto_pan_padding_bottom_right",
        "auto_pan_padding_top_left",
        "close_button",
        "close_on_escape_key",
        "keep_in_view",
        "max_height",
        "max_width",
        "min_width"
       ]
      }
     },
     "d62cb2c45c1848b28715e452c2bbbfaf": {
      "model_module": "@jupyter-widgets/base",
      "model_module_version": "1.2.0",
      "model_name": "LayoutModel",
      "state": {}
     },
     "d676053fe5d74456b89f1afcca6591b0": {
      "model_module": "@jupyter-widgets/controls",
      "model_module_version": "1.5.0",
      "model_name": "DescriptionStyleModel",
      "state": {
       "description_width": ""
      }
     },
     "d785cf6b6c3c461f982b9ad4c1ccdcc5": {
      "model_module": "jupyter-leaflet",
      "model_module_version": "^0.17",
      "model_name": "LeafletMarkerModel",
      "state": {
       "_model_module_version": "^0.17",
       "_view_module_version": "^0.17",
       "location": [
        -25.898337921464023,
        -54.81286454130896
       ],
       "options": [
        "alt",
        "draggable",
        "keyboard",
        "rise_offset",
        "rise_on_hover",
        "rotation_angle",
        "rotation_origin",
        "title",
        "z_index_offset"
       ],
       "popup": "IPY_MODEL_4dfbecd26aff4bfa9140081c6164d734"
      }
     },
     "d7ecffda2cf84e92879336d5662ed270": {
      "model_module": "@jupyter-widgets/controls",
      "model_module_version": "1.5.0",
      "model_name": "LabelModel",
      "state": {
       "layout": "IPY_MODEL_b3d3314b72cd408b972bb1b0545314ca",
       "style": "IPY_MODEL_444548303bf54711aa9c8e2db2fbe7ca",
       "value": "[-25.886563337882627, -54.803694246802486]"
      }
     },
     "d83a6579ce9b41b0aed180b0d0608f65": {
      "model_module": "jupyter-leaflet",
      "model_module_version": "^0.17",
      "model_name": "LeafletMapStyleModel",
      "state": {
       "_model_module_version": "^0.17"
      }
     },
     "d86cdff3af694308b8c18ec4be1299bc": {
      "model_module": "@jupyter-widgets/base",
      "model_module_version": "1.2.0",
      "model_name": "LayoutModel",
      "state": {}
     },
     "d8931e3aaf7f4d5ab5ca354b897ab670": {
      "model_module": "jupyter-leaflet",
      "model_module_version": "^0.17",
      "model_name": "LeafletMapStyleModel",
      "state": {
       "_model_module_version": "^0.17",
       "cursor": "move"
      }
     },
     "d8f3d9e0cf294f1abbff0087c0079c06": {
      "model_module": "jupyter-leaflet",
      "model_module_version": "^0.17",
      "model_name": "LeafletMarkerModel",
      "state": {
       "_model_module_version": "^0.17",
       "_view_module_version": "^0.17",
       "location": [
        -25.898422853730835,
        -54.81307911803015
       ],
       "options": [
        "alt",
        "draggable",
        "keyboard",
        "rise_offset",
        "rise_on_hover",
        "rotation_angle",
        "rotation_origin",
        "title",
        "z_index_offset"
       ]
      }
     },
     "d965114138f84ff3a6cba113b9e221f4": {
      "model_module": "@jupyter-widgets/base",
      "model_module_version": "1.2.0",
      "model_name": "LayoutModel",
      "state": {}
     },
     "d994baed05844f3b9a60f93d71de3145": {
      "model_module": "jupyter-leaflet",
      "model_module_version": "^0.17",
      "model_name": "LeafletMarkerModel",
      "state": {
       "_model_module_version": "^0.17",
       "_view_module_version": "^0.17",
       "location": [
        -25.90706691629243,
        -54.80477333983649
       ],
       "options": [
        "alt",
        "draggable",
        "keyboard",
        "rise_offset",
        "rise_on_hover",
        "rotation_angle",
        "rotation_origin",
        "title",
        "z_index_offset"
       ],
       "popup": "IPY_MODEL_294f4d7fa3c84854b089ad50ff312739"
      }
     },
     "d996818fb1c54b4891192ee88c12f3e7": {
      "model_module": "jupyter-leaflet",
      "model_module_version": "^0.17",
      "model_name": "LeafletMapStyleModel",
      "state": {
       "_model_module_version": "^0.17",
       "cursor": "move"
      }
     },
     "d9d0aae3ff984cce8b1bb9eb1a6d1fe6": {
      "model_module": "jupyter-leaflet",
      "model_module_version": "^0.17",
      "model_name": "LeafletZoomControlModel",
      "state": {
       "_model_module_version": "^0.17",
       "_view_module_version": "^0.17",
       "options": [
        "position",
        "zoom_in_text",
        "zoom_in_title",
        "zoom_out_text",
        "zoom_out_title"
       ]
      }
     },
     "d9d596461743443295e7c6d1de970df5": {
      "model_module": "@jupyter-widgets/controls",
      "model_module_version": "1.5.0",
      "model_name": "LabelModel",
      "state": {
       "layout": "IPY_MODEL_e80a9d187cfc456c98b91e0abff6bd30",
       "style": "IPY_MODEL_9cdc120ab52347ce9512c56ef9993cc7",
       "value": "1: 8990/1487/7503"
      }
     },
     "d9d6f329622a4578ab76c204653924cc": {
      "model_module": "@jupyter-widgets/controls",
      "model_module_version": "1.5.0",
      "model_name": "LabelModel",
      "state": {
       "layout": "IPY_MODEL_c52266f420204150babfd7fd42f065a5",
       "style": "IPY_MODEL_e33d9aaf0b3e4f00ab89043ba01ad39d",
       "value": "1: [1353, 1461]"
      }
     },
     "da09150126174467a1a528a4699d08fa": {
      "model_module": "jupyter-leaflet",
      "model_module_version": "^0.17",
      "model_name": "LeafletTileLayerModel",
      "state": {
       "_model_module_version": "^0.17",
       "_view_module_version": "^0.17",
       "attribution": "Tiles &copy; Esri &mdash; Source: Esri, i-cubed, USDA, USGS, AEX, GeoEye, Getmapping, Aerogrid, IGN, IGP, UPR-EGP, and the GIS User Community",
       "base": true,
       "min_zoom": 1,
       "name": "Esri.WorldImagery",
       "options": [
        "attribution",
        "bounds",
        "detect_retina",
        "max_native_zoom",
        "max_zoom",
        "min_native_zoom",
        "min_zoom",
        "no_wrap",
        "tile_size",
        "tms",
        "zoom_offset"
       ],
       "url": "https://server.arcgisonline.com/ArcGIS/rest/services/World_Imagery/MapServer/tile/{z}/{y}/{x}"
      }
     },
     "da17e7053e3b4006a5e36077df6f4653": {
      "model_module": "jupyter-leaflet",
      "model_module_version": "^0.17",
      "model_name": "LeafletMarkerModel",
      "state": {
       "_model_module_version": "^0.17",
       "_view_module_version": "^0.17",
       "location": [
        -25.90660368515048,
        -54.82064877712176
       ],
       "options": [
        "alt",
        "draggable",
        "keyboard",
        "rise_offset",
        "rise_on_hover",
        "rotation_angle",
        "rotation_origin",
        "title",
        "z_index_offset"
       ],
       "popup": "IPY_MODEL_b2a7873cdadc4e86848d67b9adbc2505"
      }
     },
     "da2353636e404a6dab9204e866ec5fd9": {
      "model_module": "jupyter-leaflet",
      "model_module_version": "^0.17",
      "model_name": "LeafletMarkerModel",
      "state": {
       "_model_module_version": "^0.17",
       "_view_module_version": "^0.17",
       "location": [
        -25.898523871092685,
        -54.8139080987312
       ],
       "options": [
        "alt",
        "draggable",
        "keyboard",
        "rise_offset",
        "rise_on_hover",
        "rotation_angle",
        "rotation_origin",
        "title",
        "z_index_offset"
       ]
      }
     },
     "da2e88a5f3844db388d44bb0c3bd1dda": {
      "model_module": "@jupyter-widgets/controls",
      "model_module_version": "1.5.0",
      "model_name": "LabelModel",
      "state": {
       "layout": "IPY_MODEL_d965114138f84ff3a6cba113b9e221f4",
       "style": "IPY_MODEL_c7d32de70f4147729f84f19598d85df2",
       "value": "[-25.895342749344977, -54.79734277585522]"
      }
     },
     "daba5359ff134f02b89415c0f686cd9f": {
      "model_module": "jupyter-leaflet",
      "model_module_version": "^0.17",
      "model_name": "LeafletMapModel",
      "state": {
       "_model_module_version": "^0.17",
       "_view_module_version": "^0.17",
       "center": [
        -25.895982326781798,
        -54.81765747070313
       ],
       "controls": [
        "IPY_MODEL_1e99b4e8b31749d3be4c65863207b68e",
        "IPY_MODEL_2889f2fb1f2d488d909403fbf8076e22"
       ],
       "default_style": "IPY_MODEL_16206cf25e624af1a60062674c5d92b2",
       "dragging_style": "IPY_MODEL_adc610565053496b8e2ed28a0f09763e",
       "east": null,
       "fullscreen": false,
       "interpolation": "bilinear",
       "layers": [
        "IPY_MODEL_02ad071786a74d87903917e789b724f7",
        "IPY_MODEL_8970c35a99ba4dd8bb5d7b135cc388ed",
        "IPY_MODEL_0878061eb89b4e6cbe45650c64d28aaa",
        "IPY_MODEL_15aa627431394b0a9c3d1853f373c61a",
        "IPY_MODEL_b6a06c901a8e447d8d71535e1c7278fe",
        "IPY_MODEL_d26054c8f90a4e4a81813a757a3794fa"
       ],
       "layout": "IPY_MODEL_f7b14400271c48ef9c539e8350e52d13",
       "modisdate": "2023-06-18",
       "north": -90,
       "options": [
        "bounce_at_zoom_limits",
        "box_zoom",
        "center",
        "close_popup_on_click",
        "double_click_zoom",
        "dragging",
        "fullscreen",
        "inertia",
        "inertia_deceleration",
        "inertia_max_speed",
        "interpolation",
        "keyboard",
        "keyboard_pan_offset",
        "keyboard_zoom_offset",
        "max_zoom",
        "min_zoom",
        "prefer_canvas",
        "scroll_wheel_zoom",
        "tap",
        "tap_tolerance",
        "touch_zoom",
        "world_copy_jump",
        "zoom",
        "zoom_animation_threshold",
        "zoom_delta",
        "zoom_snap"
       ],
       "prefer_canvas": false,
       "south": 90,
       "style": "IPY_MODEL_16206cf25e624af1a60062674c5d92b2",
       "west": null,
       "window_url": "http://localhost:8889/notebooks/Jupyter/LUCinSA_helpers/LUCinSA_helpers/notebooks/2b_ViewTimeSeriesComposite.ipynb",
       "zoom": 15
      }
     },
     "dbf84d958c0749c98fdc2ba534efe5d4": {
      "model_module": "@jupyter-widgets/controls",
      "model_module_version": "1.5.0",
      "model_name": "LabelModel",
      "state": {
       "layout": "IPY_MODEL_9afe62cb8c9b40d6849e48684409a4de",
       "style": "IPY_MODEL_ea5e3d68e06c48edb00be4ee06ea2855",
       "value": "2"
      }
     },
     "dc1e9844600d46b8a09bbc81e3c23b73": {
      "model_module": "jupyter-leaflet",
      "model_module_version": "^0.17",
      "model_name": "LeafletMapStyleModel",
      "state": {
       "_model_module_version": "^0.17",
       "cursor": "move"
      }
     },
     "dc3ae91fa97e4278af86c693746ad3a2": {
      "model_module": "@jupyter-widgets/controls",
      "model_module_version": "1.5.0",
      "model_name": "LabelModel",
      "state": {
       "layout": "IPY_MODEL_1567635322be4b3899a77dffb127c836",
       "style": "IPY_MODEL_5bdf86ebab2143529c42c1b8dff26bba",
       "value": "1"
      }
     },
     "dc595f5aedf84faca4a72a256c5808c4": {
      "model_module": "jupyter-leaflet",
      "model_module_version": "^0.17",
      "model_name": "LeafletMarkerModel",
      "state": {
       "_model_module_version": "^0.17",
       "_view_module_version": "^0.17",
       "location": [
        -25.899203322910555,
        -54.81210565427319
       ],
       "options": [
        "alt",
        "draggable",
        "keyboard",
        "rise_offset",
        "rise_on_hover",
        "rotation_angle",
        "rotation_origin",
        "title",
        "z_index_offset"
       ]
      }
     },
     "de3a6ebaad234d6aa7a266956de2be45": {
      "model_module": "@jupyter-widgets/controls",
      "model_module_version": "1.5.0",
      "model_name": "LabelModel",
      "state": {
       "layout": "IPY_MODEL_6edc5f24aa344e00a83bf7dd6cf5955c",
       "style": "IPY_MODEL_b403ba5a05c64bcf9996f1891281977f",
       "value": "1"
      }
     },
     "de820e3fa7c640cb9e2819cd90e5bed6": {
      "model_module": "jupyter-leaflet",
      "model_module_version": "^0.17",
      "model_name": "LeafletMapStyleModel",
      "state": {
       "_model_module_version": "^0.17"
      }
     },
     "e10b8254a4d04b56bdbfc2d7c68829ab": {
      "model_module": "@jupyter-widgets/controls",
      "model_module_version": "1.5.0",
      "model_name": "LabelModel",
      "state": {
       "layout": "IPY_MODEL_5bdbbcec76734bbcb0d0fc3544abab61",
       "style": "IPY_MODEL_ab9038262f8540088727abf977ddd5c2",
       "value": "2: 1461/1105/356"
      }
     },
     "e1bb07f553c345ccba40f7f3dab151ac": {
      "model_module": "jupyter-leaflet",
      "model_module_version": "^0.17",
      "model_name": "LeafletMapStyleModel",
      "state": {
       "_model_module_version": "^0.17",
       "cursor": "move"
      }
     },
     "e24f3ccc729d42caa4c6356a6fe5dd11": {
      "model_module": "@jupyter-widgets/controls",
      "model_module_version": "1.5.0",
      "model_name": "LabelModel",
      "state": {
       "layout": "IPY_MODEL_b25691cf36e3427eaa80b7bdf4f30d04",
       "style": "IPY_MODEL_bdf63befcef940af8c6ca76002b4978d",
       "value": "1"
      }
     },
     "e2c828d431914d82acd25924c52c7f95": {
      "model_module": "jupyter-leaflet",
      "model_module_version": "^0.17",
      "model_name": "LeafletMapStyleModel",
      "state": {
       "_model_module_version": "^0.17",
       "cursor": "move"
      }
     },
     "e2d38a848eb34fb188f4c92c2ca4605e": {
      "model_module": "@jupyter-widgets/controls",
      "model_module_version": "1.5.0",
      "model_name": "DescriptionStyleModel",
      "state": {
       "description_width": ""
      }
     },
     "e3244978ca514650b45398f60c51cab0": {
      "model_module": "jupyter-leaflet",
      "model_module_version": "^0.17",
      "model_name": "LeafletMapStyleModel",
      "state": {
       "_model_module_version": "^0.17"
      }
     },
     "e33d9aaf0b3e4f00ab89043ba01ad39d": {
      "model_module": "@jupyter-widgets/controls",
      "model_module_version": "1.5.0",
      "model_name": "DescriptionStyleModel",
      "state": {
       "description_width": ""
      }
     },
     "e37f765fdb6246989a981ed98dfb50f5": {
      "model_module": "@jupyter-widgets/controls",
      "model_module_version": "1.5.0",
      "model_name": "DescriptionStyleModel",
      "state": {
       "description_width": ""
      }
     },
     "e416ae40b6a24e958950291de2540c38": {
      "model_module": "jupyter-leaflet",
      "model_module_version": "^0.17",
      "model_name": "LeafletZoomControlModel",
      "state": {
       "_model_module_version": "^0.17",
       "_view_module_version": "^0.17",
       "options": [
        "position",
        "zoom_in_text",
        "zoom_in_title",
        "zoom_out_text",
        "zoom_out_title"
       ]
      }
     },
     "e4abc0c4f3f847a5b55349cc2cfde401": {
      "model_module": "@jupyter-widgets/controls",
      "model_module_version": "1.5.0",
      "model_name": "LabelModel",
      "state": {
       "layout": "IPY_MODEL_aa816092f89644b3963678ab539025f3",
       "style": "IPY_MODEL_5e3d1b29ff5b4369ab2a738bb8eb6de9",
       "value": "4: 4806/4497/309"
      }
     },
     "e4f0b7a7a97f4fa9aab0abf31fc712b2": {
      "model_module": "jupyter-leaflet",
      "model_module_version": "^0.17",
      "model_name": "LeafletMapStyleModel",
      "state": {
       "_model_module_version": "^0.17"
      }
     },
     "e5b243d793c34489b4a892ed6c2ac51e": {
      "model_module": "@jupyter-widgets/base",
      "model_module_version": "1.2.0",
      "model_name": "LayoutModel",
      "state": {}
     },
     "e65aa53cbb544cfb889518044fff331e": {
      "model_module": "@jupyter-widgets/base",
      "model_module_version": "1.2.0",
      "model_name": "LayoutModel",
      "state": {}
     },
     "e6ac99b1c07d46beb63d0ac269309101": {
      "model_module": "jupyter-leaflet",
      "model_module_version": "^0.17",
      "model_name": "LeafletPopupModel",
      "state": {
       "_model_module_version": "^0.17",
       "_view_module_version": "^0.17",
       "auto_close": false,
       "auto_pan": true,
       "auto_pan_padding": [
        5,
        5
       ],
       "auto_pan_padding_bottom_right": null,
       "auto_pan_padding_top_left": null,
       "close_button": false,
       "close_on_escape_key": false,
       "keep_in_view": false,
       "location": [
        -25.899079142817186,
        -54.809045075671754
       ],
       "options": [
        "auto_close",
        "auto_pan",
        "auto_pan_padding",
        "auto_pan_padding_bottom_right",
        "auto_pan_padding_top_left",
        "close_button",
        "close_on_escape_key",
        "keep_in_view",
        "max_height",
        "max_width",
        "min_width"
       ]
      }
     },
     "e76a8b2b11b745f899964e885857846c": {
      "model_module": "@jupyter-widgets/base",
      "model_module_version": "1.2.0",
      "model_name": "LayoutModel",
      "state": {}
     },
     "e778294fe53c4281bc54102f452c00ce": {
      "model_module": "jupyter-leaflet",
      "model_module_version": "^0.17",
      "model_name": "LeafletAttributionControlModel",
      "state": {
       "_model_module_version": "^0.17",
       "_view_module_version": "^0.17",
       "options": [
        "position",
        "prefix"
       ],
       "position": "bottomright",
       "prefix": "ipyleaflet"
      }
     },
     "e78051a0cbf54a4abfa3fdc0e0b867be": {
      "model_module": "@jupyter-widgets/base",
      "model_module_version": "1.2.0",
      "model_name": "LayoutModel",
      "state": {}
     },
     "e80a9d187cfc456c98b91e0abff6bd30": {
      "model_module": "@jupyter-widgets/base",
      "model_module_version": "1.2.0",
      "model_name": "LayoutModel",
      "state": {}
     },
     "e8a13a4b61dd4025a66490348e6ad8fe": {
      "model_module": "@jupyter-widgets/controls",
      "model_module_version": "1.5.0",
      "model_name": "DescriptionStyleModel",
      "state": {
       "description_width": ""
      }
     },
     "e8bb2d03e1b348398ec6cd387bae44bc": {
      "model_module": "@jupyter-widgets/base",
      "model_module_version": "1.2.0",
      "model_name": "LayoutModel",
      "state": {}
     },
     "e905b5027f9b4dbea61874a1d8382289": {
      "model_module": "@jupyter-widgets/base",
      "model_module_version": "1.2.0",
      "model_name": "LayoutModel",
      "state": {}
     },
     "e90df6a6522c40a0ace6d89f2c4230ff": {
      "model_module": "@jupyter-widgets/controls",
      "model_module_version": "1.5.0",
      "model_name": "DescriptionStyleModel",
      "state": {
       "description_width": ""
      }
     },
     "e978107abfc94c38a80525c1b2fd172d": {
      "model_module": "@jupyter-widgets/base",
      "model_module_version": "1.2.0",
      "model_name": "LayoutModel",
      "state": {}
     },
     "e9b588c4d11d4c5fbc5452d4d5c54f94": {
      "model_module": "@jupyter-widgets/controls",
      "model_module_version": "1.5.0",
      "model_name": "DescriptionStyleModel",
      "state": {
       "description_width": ""
      }
     },
     "e9cb0d9e48f141c798e524116b12ec39": {
      "model_module": "@jupyter-widgets/controls",
      "model_module_version": "1.5.0",
      "model_name": "DescriptionStyleModel",
      "state": {
       "description_width": ""
      }
     },
     "ea360e2c8ebf4c95ac35c5e96bf1feb2": {
      "model_module": "jupyter-leaflet",
      "model_module_version": "^0.17",
      "model_name": "LeafletTileLayerModel",
      "state": {
       "_model_module_version": "^0.17",
       "_view_module_version": "^0.17",
       "attribution": "Raster file served by <a href='https://github.com/banesullivan/localtileserver' target='_blank'>localtileserver</a>.",
       "bounds": [
        [
         -25.978911914208837,
         -54.93987275686129
        ],
        [
         -25.812872285639965,
         -54.695763027175396
        ]
       ],
       "max_native_zoom": 15,
       "max_zoom": 15,
       "options": [
        "attribution",
        "bounds",
        "detect_retina",
        "max_native_zoom",
        "max_zoom",
        "min_native_zoom",
        "min_zoom",
        "no_wrap",
        "tile_size",
        "tms",
        "zoom_offset"
       ],
       "show_loading": true,
       "url": "http://127.0.0.1:5554/api/tiles/{z}/{x}/{y}.png?&filename=%2Fhome%2Fklwalker%2Fdata%2Ftmp%2F004057_2010evi2_MinMaxAmp.tif&band.0=3&band.1=2&band.2=1&n_colors=255&projection=EPSG%3A3857"
      }
     },
     "ea5e3d68e06c48edb00be4ee06ea2855": {
      "model_module": "@jupyter-widgets/controls",
      "model_module_version": "1.5.0",
      "model_name": "DescriptionStyleModel",
      "state": {
       "description_width": ""
      }
     },
     "ea5f39af021b4d549149ccdd88224788": {
      "model_module": "@jupyter-widgets/base",
      "model_module_version": "1.2.0",
      "model_name": "LayoutModel",
      "state": {}
     },
     "eb20fd6b798848d28825b1f8f652ba16": {
      "model_module": "@jupyter-widgets/base",
      "model_module_version": "1.2.0",
      "model_name": "LayoutModel",
      "state": {}
     },
     "ebe1c670b5ae4160b58ab45c6c3793dc": {
      "model_module": "@jupyter-widgets/controls",
      "model_module_version": "1.5.0",
      "model_name": "DescriptionStyleModel",
      "state": {
       "description_width": ""
      }
     },
     "ec08e82b22c44501ac7695e28deedd5d": {
      "model_module": "jupyter-leaflet",
      "model_module_version": "^0.17",
      "model_name": "LeafletMapModel",
      "state": {
       "_model_module_version": "^0.17",
       "_view_module_version": "^0.17",
       "center": [
        -25.895892099924403,
        -54.81781789201834
       ],
       "controls": [
        "IPY_MODEL_6ebe54d153a44467b6d74c6c80679d28",
        "IPY_MODEL_f763cd1bf69a4bdda032e4ff18a365cc"
       ],
       "default_style": "IPY_MODEL_9b06c0b7116b4e5089544a71b49ce916",
       "dragging_style": "IPY_MODEL_e2c828d431914d82acd25924c52c7f95",
       "fullscreen": false,
       "interpolation": "bilinear",
       "layers": [
        "IPY_MODEL_90b9d97d2746477bbb1d56517c7eccdd"
       ],
       "layout": "IPY_MODEL_7c4a36f0e25247dda9395e65ce2e233f",
       "modisdate": "2023-06-18",
       "options": [
        "bounce_at_zoom_limits",
        "box_zoom",
        "center",
        "close_popup_on_click",
        "double_click_zoom",
        "dragging",
        "fullscreen",
        "inertia",
        "inertia_deceleration",
        "inertia_max_speed",
        "interpolation",
        "keyboard",
        "keyboard_pan_offset",
        "keyboard_zoom_offset",
        "max_zoom",
        "min_zoom",
        "prefer_canvas",
        "scroll_wheel_zoom",
        "tap",
        "tap_tolerance",
        "touch_zoom",
        "world_copy_jump",
        "zoom",
        "zoom_animation_threshold",
        "zoom_delta",
        "zoom_snap"
       ],
       "prefer_canvas": false,
       "style": "IPY_MODEL_26d535e69cf843d0935b278af5b39639",
       "window_url": "http://localhost:8889/notebooks/Jupyter/LUCinSA_helpers/LUCinSA_helpers/notebooks/2b_ViewTimeSeriesComposite.ipynb"
      }
     },
     "ed083220717e4e7ca93b4b289cd41faf": {
      "model_module": "@jupyter-widgets/controls",
      "model_module_version": "1.5.0",
      "model_name": "LabelModel",
      "state": {
       "layout": "IPY_MODEL_03e8bf49d90e4c3abef7db8507cd9d6d",
       "style": "IPY_MODEL_4799adea5a4845d2b9778ab7d2733c92",
       "value": "3: 7337/1181/6156"
      }
     },
     "ed307413bfd34a8090b4ff7376cab9b7": {
      "model_module": "jupyter-leaflet",
      "model_module_version": "^0.17",
      "model_name": "LeafletMarkerModel",
      "state": {
       "_model_module_version": "^0.17",
       "_view_module_version": "^0.17",
       "location": [
        -25.899743791788165,
        -54.825666903052486
       ],
       "options": [
        "alt",
        "draggable",
        "keyboard",
        "rise_offset",
        "rise_on_hover",
        "rotation_angle",
        "rotation_origin",
        "title",
        "z_index_offset"
       ]
      }
     },
     "ed9bc3f9b3ac489d9dd1eb03793b4bcb": {
      "model_module": "@jupyter-widgets/controls",
      "model_module_version": "1.5.0",
      "model_name": "DescriptionStyleModel",
      "state": {
       "description_width": ""
      }
     },
     "eeb12c7fad2f429ea28382756f2d577b": {
      "model_module": "@jupyter-widgets/base",
      "model_module_version": "1.2.0",
      "model_name": "LayoutModel",
      "state": {}
     },
     "eecb2b1812ac44fc9a5d4d78fa10b186": {
      "model_module": "jupyter-leaflet",
      "model_module_version": "^0.17",
      "model_name": "LeafletMapModel",
      "state": {
       "_model_module_version": "^0.17",
       "_view_module_version": "^0.17",
       "bottom": 4819880,
       "center": [
        -25.90740919272412,
        -54.80310916900635
       ],
       "controls": [
        "IPY_MODEL_4a675a43e3e747f5bf90eb650c0666f5",
        "IPY_MODEL_99553290e2fa40d6bee43c926f06ebb3"
       ],
       "default_style": "IPY_MODEL_f01ae5fdb4504263ba8abb54fdaef27f",
       "dragging_style": "IPY_MODEL_cc9f94333a424e5b98ba261a6b86970d",
       "east": -54.7820806503296,
       "fullscreen": false,
       "interpolation": "bilinear",
       "layers": [
        "IPY_MODEL_6741ddf8802c4a3d86ad7dd8b1d0b2db",
        "IPY_MODEL_f7d47d6ee40e4f229b79d6a9d0a706b4",
        "IPY_MODEL_da17e7053e3b4006a5e36077df6f4653",
        "IPY_MODEL_9d8b11b5737748269c35b02b49eca760",
        "IPY_MODEL_9586ebb80daf4387824b99f920c508be",
        "IPY_MODEL_b7744f3e7e894739a9cd2287d6e5fed1"
       ],
       "layout": "IPY_MODEL_25fd28b2748545619502ff7a13cf7960",
       "left": 2916809,
       "modisdate": "2023-07-17",
       "north": -25.89968845861266,
       "options": [
        "bounce_at_zoom_limits",
        "box_zoom",
        "center",
        "close_popup_on_click",
        "double_click_zoom",
        "dragging",
        "fullscreen",
        "inertia",
        "inertia_deceleration",
        "inertia_max_speed",
        "interpolation",
        "keyboard",
        "keyboard_pan_offset",
        "keyboard_zoom_offset",
        "max_zoom",
        "min_zoom",
        "prefer_canvas",
        "scroll_wheel_zoom",
        "tap",
        "tap_tolerance",
        "touch_zoom",
        "world_copy_jump",
        "zoom",
        "zoom_animation_threshold",
        "zoom_delta",
        "zoom_snap"
       ],
       "prefer_canvas": false,
       "right": 2917789,
       "south": -25.915129421518028,
       "style": "IPY_MODEL_f01ae5fdb4504263ba8abb54fdaef27f",
       "top": 4819480,
       "west": -54.82413768768311,
       "window_url": "http://localhost:8889/notebooks/Jupyter/LUCinSA_helpers/LUCinSA_helpers/notebooks/2b_ViewTimeSeriesComposite.ipynb",
       "zoom": 15
      }
     },
     "ef484e19539841cb8ea74d85df92a26a": {
      "model_module": "jupyter-leaflet",
      "model_module_version": "^0.17",
      "model_name": "LeafletMarkerModel",
      "state": {
       "_model_module_version": "^0.17",
       "_view_module_version": "^0.17",
       "location": [
        -25.89589739275852,
        -54.79313707211987
       ],
       "options": [
        "alt",
        "draggable",
        "keyboard",
        "rise_offset",
        "rise_on_hover",
        "rotation_angle",
        "rotation_origin",
        "title",
        "z_index_offset"
       ],
       "popup": "IPY_MODEL_398ed2af82ff49a2b7defd7fa2d52542"
      }
     },
     "ef94d34c2ad4474aa86b09b3ee873c76": {
      "model_module": "jupyter-leaflet",
      "model_module_version": "^0.17",
      "model_name": "LeafletMapStyleModel",
      "state": {
       "_model_module_version": "^0.17"
      }
     },
     "f013acdaa0ae435893b05958ffb84c11": {
      "model_module": "jupyter-leaflet",
      "model_module_version": "^0.17",
      "model_name": "LeafletZoomControlModel",
      "state": {
       "_model_module_version": "^0.17",
       "_view_module_version": "^0.17",
       "options": [
        "position",
        "zoom_in_text",
        "zoom_in_title",
        "zoom_out_text",
        "zoom_out_title"
       ]
      }
     },
     "f01ae5fdb4504263ba8abb54fdaef27f": {
      "model_module": "jupyter-leaflet",
      "model_module_version": "^0.17",
      "model_name": "LeafletMapStyleModel",
      "state": {
       "_model_module_version": "^0.17"
      }
     },
     "f02bdca66299439a9a1ede0a940334d1": {
      "model_module": "jupyter-leaflet",
      "model_module_version": "^0.17",
      "model_name": "LeafletMapStyleModel",
      "state": {
       "_model_module_version": "^0.17",
       "cursor": "move"
      }
     },
     "f14e91509ef74210aaaaf18da5fc475e": {
      "model_module": "@jupyter-widgets/controls",
      "model_module_version": "1.5.0",
      "model_name": "DescriptionStyleModel",
      "state": {
       "description_width": ""
      }
     },
     "f16d31f7d672483ebd075cdb4bc73584": {
      "model_module": "jupyter-leaflet",
      "model_module_version": "^0.17",
      "model_name": "LeafletMapStyleModel",
      "state": {
       "_model_module_version": "^0.17"
      }
     },
     "f22c95085a9f4cd5a03ca74bfa2bc8eb": {
      "model_module": "jupyter-leaflet",
      "model_module_version": "^0.17",
      "model_name": "LeafletTileLayerModel",
      "state": {
       "_model_module_version": "^0.17",
       "_view_module_version": "^0.17",
       "attribution": "Raster file served by <a href='https://github.com/banesullivan/localtileserver' target='_blank'>localtileserver</a>.",
       "bounds": [
        [
         -25.978911914208837,
         -54.93987275686129
        ],
        [
         -25.812872285639965,
         -54.695763027175396
        ]
       ],
       "max_native_zoom": 15,
       "max_zoom": 15,
       "options": [
        "attribution",
        "bounds",
        "detect_retina",
        "max_native_zoom",
        "max_zoom",
        "min_native_zoom",
        "min_zoom",
        "no_wrap",
        "tile_size",
        "tms",
        "zoom_offset"
       ],
       "show_loading": true,
       "url": "http://127.0.0.1:5554/api/tiles/{z}/{x}/{y}.png?&filename=%2Fhome%2Fklwalker%2Fdata%2Ftmp%2F004057_2010evi2_MinMaxAmp.tif&band.0=3&band.1=2&band.2=1&n_colors=255&projection=EPSG%3A3857"
      }
     },
     "f27c41e8cd834bb79b03954f22619af9": {
      "model_module": "jupyter-leaflet",
      "model_module_version": "^0.17",
      "model_name": "LeafletAttributionControlModel",
      "state": {
       "_model_module_version": "^0.17",
       "_view_module_version": "^0.17",
       "options": [
        "position",
        "prefix"
       ],
       "position": "bottomright",
       "prefix": "ipyleaflet"
      }
     },
     "f36ed99c85a94d8bb0e57afb39ddcc3d": {
      "model_module": "jupyter-leaflet",
      "model_module_version": "^0.17",
      "model_name": "LeafletMarkerModel",
      "state": {
       "_model_module_version": "^0.17",
       "_view_module_version": "^0.17",
       "location": [
        -25.89983515679818,
        -54.824722765479244
       ],
       "options": [
        "alt",
        "draggable",
        "keyboard",
        "rise_offset",
        "rise_on_hover",
        "rotation_angle",
        "rotation_origin",
        "title",
        "z_index_offset"
       ],
       "popup": "IPY_MODEL_343eb5116a5b456c81ce6c3c0eac67c2"
      }
     },
     "f37eab4ac7b54563967f916d4c2ee7f4": {
      "model_module": "jupyter-leaflet",
      "model_module_version": "^0.17",
      "model_name": "LeafletZoomControlModel",
      "state": {
       "_model_module_version": "^0.17",
       "_view_module_version": "^0.17",
       "options": [
        "position",
        "zoom_in_text",
        "zoom_in_title",
        "zoom_out_text",
        "zoom_out_title"
       ]
      }
     },
     "f3802bd4bb56458b92f464d28f1d4f20": {
      "model_module": "jupyter-leaflet",
      "model_module_version": "^0.17",
      "model_name": "LeafletMarkerModel",
      "state": {
       "_model_module_version": "^0.17",
       "_view_module_version": "^0.17",
       "location": [
        -25.89983515679818,
        -54.824722765479244
       ],
       "options": [
        "alt",
        "draggable",
        "keyboard",
        "rise_offset",
        "rise_on_hover",
        "rotation_angle",
        "rotation_origin",
        "title",
        "z_index_offset"
       ],
       "popup": "IPY_MODEL_27e1999f20b04dc3bc913ed9c06a4f42"
      }
     },
     "f39bc8f4452c474e9f37de374051bcc4": {
      "model_module": "@jupyter-widgets/base",
      "model_module_version": "1.2.0",
      "model_name": "LayoutModel",
      "state": {}
     },
     "f3b6db88395e419e8b5c42214f64d483": {
      "model_module": "jupyter-leaflet",
      "model_module_version": "^0.17",
      "model_name": "LeafletMarkerModel",
      "state": {
       "_model_module_version": "^0.17",
       "_view_module_version": "^0.17",
       "location": [
        -25.898677004544265,
        -54.811161516699954
       ],
       "options": [
        "alt",
        "draggable",
        "keyboard",
        "rise_offset",
        "rise_on_hover",
        "rotation_angle",
        "rotation_origin",
        "title",
        "z_index_offset"
       ],
       "popup": "IPY_MODEL_ac635c43c9b3481bb40e4886f50b7b92"
      }
     },
     "f43ea5339de442a8a175e3529f9018db": {
      "model_module": "@jupyter-widgets/base",
      "model_module_version": "1.2.0",
      "model_name": "LayoutModel",
      "state": {}
     },
     "f4cdcec8033142888d132bcf7dd21447": {
      "model_module": "@jupyter-widgets/base",
      "model_module_version": "1.2.0",
      "model_name": "LayoutModel",
      "state": {}
     },
     "f5172b6b447a4f1ba4ee21b1553320e8": {
      "model_module": "jupyter-leaflet",
      "model_module_version": "^0.17",
      "model_name": "LeafletMapStyleModel",
      "state": {
       "_model_module_version": "^0.17",
       "cursor": "move"
      }
     },
     "f5854741cfbf4cf18a89d0fb5cc4da95": {
      "model_module": "jupyter-leaflet",
      "model_module_version": "^0.17",
      "model_name": "LeafletPopupModel",
      "state": {
       "_model_module_version": "^0.17",
       "_view_module_version": "^0.17",
       "auto_close": false,
       "auto_pan": true,
       "auto_pan_padding": [
        5,
        5
       ],
       "auto_pan_padding_bottom_right": null,
       "auto_pan_padding_top_left": null,
       "close_button": false,
       "close_on_escape_key": false,
       "keep_in_view": false,
       "location": [
        -25.90477647869274,
        -54.807213305030025
       ],
       "options": [
        "auto_close",
        "auto_pan",
        "auto_pan_padding",
        "auto_pan_padding_bottom_right",
        "auto_pan_padding_top_left",
        "close_button",
        "close_on_escape_key",
        "keep_in_view",
        "max_height",
        "max_width",
        "min_width"
       ]
      }
     },
     "f5dad822e8f942b89deb005499374a4d": {
      "model_module": "@jupyter-widgets/controls",
      "model_module_version": "1.5.0",
      "model_name": "DescriptionStyleModel",
      "state": {
       "description_width": ""
      }
     },
     "f63a88b4b6b242fc85e34f4b90952cba": {
      "model_module": "@jupyter-widgets/base",
      "model_module_version": "1.2.0",
      "model_name": "LayoutModel",
      "state": {}
     },
     "f63f73c2de8f44a1b715e7615d3747ec": {
      "model_module": "jupyter-leaflet",
      "model_module_version": "^0.17",
      "model_name": "LeafletMarkerModel",
      "state": {
       "_model_module_version": "^0.17",
       "_view_module_version": "^0.17",
       "location": [
        -25.899203322910555,
        -54.81210565427319
       ],
       "options": [
        "alt",
        "draggable",
        "keyboard",
        "rise_offset",
        "rise_on_hover",
        "rotation_angle",
        "rotation_origin",
        "title",
        "z_index_offset"
       ]
      }
     },
     "f6d039312659434eb17d6ecde75921c1": {
      "model_module": "@jupyter-widgets/controls",
      "model_module_version": "1.5.0",
      "model_name": "LabelModel",
      "state": {
       "layout": "IPY_MODEL_079f4a92fda9435ea756927e59889d7d",
       "style": "IPY_MODEL_6922f8e9c5134aefa9f6e440847842e1",
       "value": "[-25.898677004544265, -54.811161516699954]"
      }
     },
     "f759d1d913a74b1b91705fb4db2f88c0": {
      "model_module": "@jupyter-widgets/controls",
      "model_module_version": "1.5.0",
      "model_name": "LabelModel",
      "state": {
       "layout": "IPY_MODEL_6fc122446a3d4c6b941e986f487447e3",
       "style": "IPY_MODEL_ce9520f3bc72434ba79c8bb20cf424c1",
       "value": "2: 1404/1084/320"
      }
     },
     "f75d87fa495c44ad98d7bc5d4e9d2483": {
      "model_module": "jupyter-leaflet",
      "model_module_version": "^0.17",
      "model_name": "LeafletMapStyleModel",
      "state": {
       "_model_module_version": "^0.17",
       "cursor": "move"
      }
     },
     "f763cd1bf69a4bdda032e4ff18a365cc": {
      "model_module": "jupyter-leaflet",
      "model_module_version": "^0.17",
      "model_name": "LeafletAttributionControlModel",
      "state": {
       "_model_module_version": "^0.17",
       "_view_module_version": "^0.17",
       "options": [
        "position",
        "prefix"
       ],
       "position": "bottomright",
       "prefix": "ipyleaflet"
      }
     },
     "f76bbcbe68fb434e951afb99f3b7aca2": {
      "model_module": "jupyter-leaflet",
      "model_module_version": "^0.17",
      "model_name": "LeafletMarkerModel",
      "state": {
       "_model_module_version": "^0.17",
       "_view_module_version": "^0.17",
       "location": [
        -25.909691858401438,
        -54.78735326540998
       ],
       "options": [
        "alt",
        "draggable",
        "keyboard",
        "rise_offset",
        "rise_on_hover",
        "rotation_angle",
        "rotation_origin",
        "title",
        "z_index_offset"
       ],
       "popup": "IPY_MODEL_398278f2c3a94c47932b87b10e13895c"
      }
     },
     "f7836174f4cf479b9e3afba159fd7660": {
      "model_module": "@jupyter-widgets/controls",
      "model_module_version": "1.5.0",
      "model_name": "LabelModel",
      "state": {
       "layout": "IPY_MODEL_8c926f78804b4b799aa12e488819c701",
       "style": "IPY_MODEL_bc4a08f0b98443e2afdbce605df56b83",
       "value": "[-25.899743791788165, -54.825666903052486]"
      }
     },
     "f7b14400271c48ef9c539e8350e52d13": {
      "model_module": "@jupyter-widgets/base",
      "model_module_version": "1.2.0",
      "model_name": "LayoutModel",
      "state": {}
     },
     "f7d47d6ee40e4f229b79d6a9d0a706b4": {
      "model_module": "jupyter-leaflet",
      "model_module_version": "^0.17",
      "model_name": "LeafletTileLayerModel",
      "state": {
       "_model_module_version": "^0.17",
       "_view_module_version": "^0.17",
       "attribution": "Raster file served by <a href='https://github.com/banesullivan/localtileserver' target='_blank'>localtileserver</a>.",
       "bounds": [
        [
         -25.922538389171017,
         -54.83163201095545
        ],
        [
         -25.879733520251676,
         -54.76869676334894
        ]
       ],
       "max_native_zoom": 15,
       "max_zoom": 15,
       "options": [
        "attribution",
        "bounds",
        "detect_retina",
        "max_native_zoom",
        "max_zoom",
        "min_native_zoom",
        "min_zoom",
        "no_wrap",
        "tile_size",
        "tms",
        "zoom_offset"
       ],
       "show_loading": true,
       "url": "http://127.0.0.1:5554/api/tiles/{z}/{x}/{y}.png?&filename=%2Fhome%2Fklwalker%2Fdata%2Ftmp%2F004057_2021evi2_MinMaxAmp.tif&band.0=3&band.1=2&band.2=1&n_colors=255&projection=EPSG%3A3857"
      }
     },
     "f802d739d1f84712af6e95ff4d6eef9b": {
      "model_module": "jupyter-leaflet",
      "model_module_version": "^0.17",
      "model_name": "LeafletPopupModel",
      "state": {
       "_model_module_version": "^0.17",
       "_view_module_version": "^0.17",
       "auto_close": false,
       "auto_pan": true,
       "auto_pan_padding": [
        5,
        5
       ],
       "auto_pan_padding_bottom_right": null,
       "auto_pan_padding_top_left": null,
       "close_button": false,
       "close_on_escape_key": false,
       "keep_in_view": false,
       "location": [
        -25.91185353156826,
        -54.798165725398846
       ],
       "options": [
        "auto_close",
        "auto_pan",
        "auto_pan_padding",
        "auto_pan_padding_bottom_right",
        "auto_pan_padding_top_left",
        "close_button",
        "close_on_escape_key",
        "keep_in_view",
        "max_height",
        "max_width",
        "min_width"
       ]
      }
     },
     "f82cdbd4747a46939223c30f8b54b6f6": {
      "model_module": "@jupyter-widgets/controls",
      "model_module_version": "1.5.0",
      "model_name": "DescriptionStyleModel",
      "state": {
       "description_width": ""
      }
     },
     "f82edf9125fe4c17a1d26b2f06b13d4e": {
      "model_module": "@jupyter-widgets/base",
      "model_module_version": "1.2.0",
      "model_name": "LayoutModel",
      "state": {}
     },
     "f8e52d8ad8264971a3114e9d8309757c": {
      "model_module": "@jupyter-widgets/base",
      "model_module_version": "1.2.0",
      "model_name": "LayoutModel",
      "state": {}
     },
     "f927f8fcbb1c4e378b4dc092e9caaae9": {
      "model_module": "jupyter-leaflet",
      "model_module_version": "^0.17",
      "model_name": "LeafletMapStyleModel",
      "state": {
       "_model_module_version": "^0.17",
       "cursor": "move"
      }
     },
     "f9320b83562a467fa893ba76e96cd833": {
      "model_module": "jupyter-leaflet",
      "model_module_version": "^0.17",
      "model_name": "LeafletAttributionControlModel",
      "state": {
       "_model_module_version": "^0.17",
       "_view_module_version": "^0.17",
       "options": [
        "position",
        "prefix"
       ],
       "position": "bottomright",
       "prefix": "ipyleaflet"
      }
     },
     "f93363ba31094b0ba6c094a0637c6d41": {
      "model_module": "@jupyter-widgets/base",
      "model_module_version": "1.2.0",
      "model_name": "LayoutModel",
      "state": {}
     },
     "f97d6846cc3745da9fcddde734936029": {
      "model_module": "@jupyter-widgets/controls",
      "model_module_version": "1.5.0",
      "model_name": "DescriptionStyleModel",
      "state": {
       "description_width": ""
      }
     },
     "f9d4276f1c8f43c28346c22a73931769": {
      "model_module": "@jupyter-widgets/controls",
      "model_module_version": "1.5.0",
      "model_name": "DescriptionStyleModel",
      "state": {
       "description_width": ""
      }
     },
     "fa49147a14cc47b592849dbcc03d77d9": {
      "model_module": "jupyter-leaflet",
      "model_module_version": "^0.17",
      "model_name": "LeafletMarkerModel",
      "state": {
       "_model_module_version": "^0.17",
       "_view_module_version": "^0.17",
       "location": [
        -25.91185353156826,
        -54.798165725398846
       ],
       "options": [
        "alt",
        "draggable",
        "keyboard",
        "rise_offset",
        "rise_on_hover",
        "rotation_angle",
        "rotation_origin",
        "title",
        "z_index_offset"
       ],
       "popup": "IPY_MODEL_01ea022cd42d48d6946cc0f6ed1cf2e2"
      }
     },
     "fa49dc536f744af3abf544038c6402cc": {
      "model_module": "@jupyter-widgets/controls",
      "model_module_version": "1.5.0",
      "model_name": "LabelModel",
      "state": {
       "layout": "IPY_MODEL_e905b5027f9b4dbea61874a1d8382289",
       "style": "IPY_MODEL_e37f765fdb6246989a981ed98dfb50f5",
       "value": "[-25.89752784906365, -54.80069017270581]"
      }
     },
     "fa73392199804136aaabbf3cbf557b28": {
      "model_module": "@jupyter-widgets/base",
      "model_module_version": "1.2.0",
      "model_name": "LayoutModel",
      "state": {}
     },
     "faceff856714485ab73b78741ef251d7": {
      "model_module": "@jupyter-widgets/base",
      "model_module_version": "1.2.0",
      "model_name": "LayoutModel",
      "state": {}
     },
     "fb36db70210740fbb4b96b2e2378b1a7": {
      "model_module": "@jupyter-widgets/controls",
      "model_module_version": "1.5.0",
      "model_name": "LabelModel",
      "state": {
       "layout": "IPY_MODEL_bf08eadc419146a3935b4050d8d3f199",
       "style": "IPY_MODEL_2c5c44774fad436c9bf80f107581c0e3",
       "value": "[-25.899975422232355, -54.80901574948803]"
      }
     },
     "fb76e9fc997d448eacbcb34a2e408307": {
      "model_module": "jupyter-leaflet",
      "model_module_version": "^0.17",
      "model_name": "LeafletAttributionControlModel",
      "state": {
       "_model_module_version": "^0.17",
       "_view_module_version": "^0.17",
       "options": [
        "position",
        "prefix"
       ],
       "position": "bottomright",
       "prefix": "ipyleaflet"
      }
     },
     "fb987b92a5d94a5a81f6ff6c02b42a2a": {
      "model_module": "jupyter-leaflet",
      "model_module_version": "^0.17",
      "model_name": "LeafletPopupModel",
      "state": {
       "_model_module_version": "^0.17",
       "_view_module_version": "^0.17",
       "auto_close": false,
       "auto_pan": true,
       "auto_pan_padding": [
        5,
        5
       ],
       "auto_pan_padding_bottom_right": null,
       "auto_pan_padding_top_left": null,
       "close_button": false,
       "close_on_escape_key": false,
       "keep_in_view": false,
       "location": [
        -25.899079142817186,
        -54.809045075671754
       ],
       "options": [
        "auto_close",
        "auto_pan",
        "auto_pan_padding",
        "auto_pan_padding_bottom_right",
        "auto_pan_padding_top_left",
        "close_button",
        "close_on_escape_key",
        "keep_in_view",
        "max_height",
        "max_width",
        "min_width"
       ]
      }
     },
     "fbcbd63447f44d9aae890d038f14fb2e": {
      "model_module": "jupyter-leaflet",
      "model_module_version": "^0.17",
      "model_name": "LeafletMapModel",
      "state": {
       "_model_module_version": "^0.17",
       "_view_module_version": "^0.17",
       "center": [
        -25.895892099924403,
        -54.81781789201834
       ],
       "controls": [
        "IPY_MODEL_7b6d0031764b4d909673feb42cea3337",
        "IPY_MODEL_35a683bb754e4d9ea71e71530abe2a61"
       ],
       "default_style": "IPY_MODEL_93643421aec346a3a934242157fb0ae2",
       "dragging_style": "IPY_MODEL_d996818fb1c54b4891192ee88c12f3e7",
       "fullscreen": false,
       "interpolation": "bilinear",
       "layers": [
        "IPY_MODEL_2694647774374bb886638f8109d0790f"
       ],
       "layout": "IPY_MODEL_754c217c0f594a2ebe3f77a48aae7fdc",
       "modisdate": "2023-06-18",
       "options": [
        "bounce_at_zoom_limits",
        "box_zoom",
        "center",
        "close_popup_on_click",
        "double_click_zoom",
        "dragging",
        "fullscreen",
        "inertia",
        "inertia_deceleration",
        "inertia_max_speed",
        "interpolation",
        "keyboard",
        "keyboard_pan_offset",
        "keyboard_zoom_offset",
        "max_zoom",
        "min_zoom",
        "prefer_canvas",
        "scroll_wheel_zoom",
        "tap",
        "tap_tolerance",
        "touch_zoom",
        "world_copy_jump",
        "zoom",
        "zoom_animation_threshold",
        "zoom_delta",
        "zoom_snap"
       ],
       "prefer_canvas": false,
       "style": "IPY_MODEL_3a474dd01f054374b636e6c0cbdd3ea6",
       "window_url": "http://localhost:8889/notebooks/Jupyter/LUCinSA_helpers/LUCinSA_helpers/notebooks/2b_ViewTimeSeriesComposite.ipynb"
      }
     },
     "fbcca09ae9974d8da1a97105fbbe79a1": {
      "model_module": "@jupyter-widgets/base",
      "model_module_version": "1.2.0",
      "model_name": "LayoutModel",
      "state": {}
     },
     "fd513408e55b44069ba1b0834a5ef373": {
      "model_module": "@jupyter-widgets/base",
      "model_module_version": "1.2.0",
      "model_name": "LayoutModel",
      "state": {}
     },
     "fd907e8623ea46ab827a6c26ff5d878d": {
      "model_module": "@jupyter-widgets/controls",
      "model_module_version": "1.5.0",
      "model_name": "DescriptionStyleModel",
      "state": {
       "description_width": ""
      }
     },
     "fdc10953fb1a4039ac2fbcf3260c0e7a": {
      "model_module": "jupyter-leaflet",
      "model_module_version": "^0.17",
      "model_name": "LeafletMapModel",
      "state": {
       "_model_module_version": "^0.17",
       "_view_module_version": "^0.17",
       "center": [
        -25.895892099924403,
        -54.81781789201834
       ],
       "controls": [
        "IPY_MODEL_75e3082c455342f2acb2704467a7bfc0",
        "IPY_MODEL_8dcccbb0e0c741f0bfe500f356a4e17e"
       ],
       "default_style": "IPY_MODEL_cc70e5056fb442fe8a6ee887f3501a38",
       "dragging_style": "IPY_MODEL_e1bb07f553c345ccba40f7f3dab151ac",
       "fullscreen": false,
       "interpolation": "bilinear",
       "layers": [
        "IPY_MODEL_adb96f7783b842c98dc9187720cbac37"
       ],
       "layout": "IPY_MODEL_09a058a847fd48b6b9bd9c1faaefd1e2",
       "modisdate": "2023-06-18",
       "options": [
        "bounce_at_zoom_limits",
        "box_zoom",
        "center",
        "close_popup_on_click",
        "double_click_zoom",
        "dragging",
        "fullscreen",
        "inertia",
        "inertia_deceleration",
        "inertia_max_speed",
        "interpolation",
        "keyboard",
        "keyboard_pan_offset",
        "keyboard_zoom_offset",
        "max_zoom",
        "min_zoom",
        "prefer_canvas",
        "scroll_wheel_zoom",
        "tap",
        "tap_tolerance",
        "touch_zoom",
        "world_copy_jump",
        "zoom",
        "zoom_animation_threshold",
        "zoom_delta",
        "zoom_snap"
       ],
       "prefer_canvas": false,
       "style": "IPY_MODEL_b601b5aedb8c421ab53ed733de50cef4",
       "window_url": "http://localhost:8889/notebooks/Jupyter/LUCinSA_helpers/LUCinSA_helpers/notebooks/2b_ViewTimeSeriesComposite.ipynb"
      }
     },
     "fde4bdb4f5d745b1978eab258e1ee6e6": {
      "model_module": "@jupyter-widgets/controls",
      "model_module_version": "1.5.0",
      "model_name": "DescriptionStyleModel",
      "state": {
       "description_width": ""
      }
     },
     "fe3ca7b0ed314d1ca4f082868c573f38": {
      "model_module": "jupyter-leaflet",
      "model_module_version": "^0.17",
      "model_name": "LeafletTileLayerModel",
      "state": {
       "_model_module_version": "^0.17",
       "_view_module_version": "^0.17",
       "attribution": "Tiles &copy; Esri &mdash; Source: Esri, i-cubed, USDA, USGS, AEX, GeoEye, Getmapping, Aerogrid, IGN, IGP, UPR-EGP, and the GIS User Community",
       "base": true,
       "min_zoom": 1,
       "name": "Esri.WorldImagery",
       "options": [
        "attribution",
        "bounds",
        "detect_retina",
        "max_native_zoom",
        "max_zoom",
        "min_native_zoom",
        "min_zoom",
        "no_wrap",
        "tile_size",
        "tms",
        "zoom_offset"
       ],
       "url": "https://server.arcgisonline.com/ArcGIS/rest/services/World_Imagery/MapServer/tile/{z}/{y}/{x}"
      }
     },
     "fe565ef723f54f76b96fcf11e71b0315": {
      "model_module": "jupyter-leaflet",
      "model_module_version": "^0.17",
      "model_name": "LeafletMarkerModel",
      "state": {
       "_model_module_version": "^0.17",
       "_view_module_version": "^0.17",
       "location": [
        -25.902353455456915,
        -54.791506289038814
       ],
       "options": [
        "alt",
        "draggable",
        "keyboard",
        "rise_offset",
        "rise_on_hover",
        "rotation_angle",
        "rotation_origin",
        "title",
        "z_index_offset"
       ],
       "popup": "IPY_MODEL_6d862abf3c6f44a9b609cea8e3bd5949"
      }
     },
     "fec4e8f04aa04d8b9382d288d7b8e738": {
      "model_module": "@jupyter-widgets/base",
      "model_module_version": "1.2.0",
      "model_name": "LayoutModel",
      "state": {}
     },
     "ff47757f39b145f397ab0f2b7c3c2ab9": {
      "model_module": "jupyter-leaflet",
      "model_module_version": "^0.17",
      "model_name": "LeafletMapStyleModel",
      "state": {
       "_model_module_version": "^0.17"
      }
     },
     "ffbf2b65ce61417b917c9cc321f9363c": {
      "model_module": "jupyter-leaflet",
      "model_module_version": "^0.17",
      "model_name": "LeafletAttributionControlModel",
      "state": {
       "_model_module_version": "^0.17",
       "_view_module_version": "^0.17",
       "options": [
        "position",
        "prefix"
       ],
       "position": "bottomright",
       "prefix": "ipyleaflet"
      }
     },
     "ffcca18d938346a4b28c55dc6b57316f": {
      "model_module": "jupyter-leaflet",
      "model_module_version": "^0.17",
      "model_name": "LeafletMapStyleModel",
      "state": {
       "_model_module_version": "^0.17"
      }
     },
     "fff689cc8e734efcba078e74921fe7de": {
      "model_module": "jupyter-leaflet",
      "model_module_version": "^0.17",
      "model_name": "LeafletZoomControlModel",
      "state": {
       "_model_module_version": "^0.17",
       "_view_module_version": "^0.17",
       "options": [
        "position",
        "zoom_in_text",
        "zoom_in_title",
        "zoom_out_text",
        "zoom_out_title"
       ]
      }
     }
    },
    "version_major": 2,
    "version_minor": 0
   }
  }
 },
 "nbformat": 4,
 "nbformat_minor": 5
}
