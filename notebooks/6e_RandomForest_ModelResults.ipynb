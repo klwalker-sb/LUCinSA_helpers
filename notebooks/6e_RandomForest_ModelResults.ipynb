{
 "cells": [
  {
   "cell_type": "code",
   "execution_count": null,
   "id": "6a947286",
   "metadata": {},
   "outputs": [],
   "source": [
    "import os\n",
    "import sys\n",
    "import json\n",
    "from pathlib import Path\n",
    "import pandas as pd\n",
    "import matplotlib\n",
    "import matplotlib.pyplot as plt\n",
    "%matplotlib inline"
   ]
  },
  {
   "cell_type": "code",
   "execution_count": null,
   "id": "72d48bd3",
   "metadata": {},
   "outputs": [],
   "source": [
    "sys.path.append(r\"../LUCinSA_helpers\")\n",
    "#from rf import *"
   ]
  },
  {
   "cell_type": "code",
   "execution_count": null,
   "id": "54f479b5",
   "metadata": {},
   "outputs": [],
   "source": [
    "'''\n",
    "PARAMETERS: modify in notebook_params notebook, then run that notebook and this cell to update here\n",
    "DO NOT modify this cell\n",
    "'''\n",
    "\n",
    "%store -r basic_config\n",
    "print(\"Basic Parameters: \\n time-series data is in (smooth_dir): {} \\n\"\n",
    "      \" modelling year is (filter_year param): {} (this is first year if season spans two years)\"\n",
    "      .format(basic_config['smooth_dir'], basic_config['filter_yr']))\n",
    "%store -r classification_params\n",
    "print(\"Classification_Params: \\n\" \n",
    "      \" modelling mode is {} \\n\"\n",
    "      \" model_type = {} \\n\"\n",
    "      \" output files are saved to (model_dir): {} \\n\" \n",
    "      \" shared input files are in (main_model_dir): {} \\n\"\n",
    "      \" sample_model = {} \\n feature_model = {} \\n model_name = {} \\n\"\n",
    "      \" the full sample pt file: {} \\n\"\n",
    "      \" the full sample dataframe with the feature model applied: {} \\n\"\n",
    "      \" the subset pt file based on the sample model: {} \\n\"\n",
    "      \" lc_class = {} \\n ranhold = {} \\n impmeth = {}\"\n",
    "      .format(classification_params['model_mode'],classification_params['model_type'],classification_params['model_dir'],\n",
    "              classification_params['main_model_dir'],classification_params['sample_model'],classification_params['feature_model'],\n",
    "              classification_params['model_name'],basic_config['ptfile'],classification_params['samp_pix_vars'],classification_params['samp_pts'],\n",
    "              classification_params['lc_mod'],classification_params['ranhold'],classification_params['impmeth']))\n",
    "%store -r timeseries_params    "
   ]
  },
  {
   "cell_type": "markdown",
   "id": "6584cf0e",
   "metadata": {},
   "source": []
  },
  {
   "cell_type": "code",
   "execution_count": null,
   "id": "36d9d6ac",
   "metadata": {},
   "outputs": [],
   "source": [
    "## To read json files to dataframe:\n",
    "##   (note, this should already be done as part of process in model_iterations.py)\n",
    "'''\n",
    "class_model = 'LC2'\n",
    "feat_model = classification_params['feature_model']\n",
    "outcome = os.path.join(classification_params['main_model_dir'],f'model_iterations_{feat_model}_{class_model}.json')\n",
    "mod_dict = json.loads(open(outcome,\"r\").read())\n",
    "df = pd.DataFrame.from_dict(mod_dict, orient='index')\n",
    "df['avgacc_smallCrop'] = df.apply(lambda x: round(np.mean(x['acc_smallCrop']),3), axis=1)\n",
    "df['avgacc_bigCrop'] = df.apply(lambda x: round(np.mean(x['acc_bigCrop']),3), axis=1)\n",
    "df['avgacc_noCrop'] = df.apply(lambda x: round(np.mean(x['acc_noCrop']),3), axis=1)\n",
    "print(df.head())\n",
    "df.to_csv(os.path.join(classification_params['main_model_dir'],f'smallCrop_iterations_{feat_model}_{class_model}.csv')\n",
    "''';"
   ]
  },
  {
   "cell_type": "code",
   "execution_count": null,
   "id": "e0baf8ca",
   "metadata": {},
   "outputs": [],
   "source": [
    "feat_model = classification_params['feature_model']\n",
    "m0_LC2 = pd.read_csv(os.path.join(classification_params['main_model_dir'],'smallCrop_iterations_base4NoPoly_LC2.csv'))\n",
    "m0_LC3sm = pd.read_csv(os.path.join(classification_params['main_model_dir'],'smallCrop_iterations_base4NoPoly_LC3sm.csv'))\n",
    "m0_LC4 = pd.read_csv(os.path.join(classification_params['main_model_dir'],'smallCrop_iterations_base4NoPoly_LC4.csv'))\n",
    "m0_LC8 = pd.read_csv(os.path.join(classification_params['main_model_dir'],'smallCrop_iterations_base4NoPoly_LC8.csv'))\n",
    "m0_LC10 = pd.read_csv(os.path.join(classification_params['main_model_dir'],'smallCrop_iterations_base4NoPoly_LC10.csv'))\n",
    "m0_LC25 = pd.read_csv(os.path.join(classification_params['main_model_dir'],'smallCrop_iterations_base4NoPoly_LC25.csv')) \n",
    "#m0_LC25.head()"
   ]
  },
  {
   "cell_type": "code",
   "execution_count": null,
   "id": "ac62275d",
   "metadata": {},
   "outputs": [],
   "source": [
    "fig = plt.figure(figsize=(10, 5))\n",
    "plt.plot(m0_LC25['n_small'], m0_LC25['avgacc_smallCrop'], color=(0,.3,0), linewidth=1.0, label='SmallAg_25Class')\n",
    "plt.plot(m0_LC4['n_small'], m0_LC4['avgacc_smallCrop'], color=(0,.5,0), linewidth=1.0, label='SmallAg_4Class')\n",
    "plt.plot(m0_LC8['n_small'], m0_LC8['avgacc_smallCrop'], color=(.5,.5,.5), linewidth=1.0, label='SmallAg_8Class')\n",
    "plt.plot(m0_LC10['n_small'], m0_LC10['avgacc_smallCrop'], color='black', linewidth=2.0, label='SmallAg_8Class')\n",
    "plt.plot(m0_LC3sm['n_small'], m0_LC3sm['avgacc_smallCrop'], color=(0,.6,.4), linewidth=1.0, label='SmallAg_3Class')\n",
    "plt.plot(m0_LC2['n_small'], m0_LC2['avgacc_smallCrop'], color=(0,1,0), linewidth=1.0, label='SmallAg_2Class')\n",
    "plt.plot(m0_LC25['n_small'], m0_LC25['avgacc_bigCrop'], color=(1,0,0), linewidth=1.0, label='BigAg_25Class')\n",
    "plt.plot(m0_LC4['n_small'], m0_LC4['avgacc_bigCrop'], color=(.5,0,.5), linewidth=1.0, label='BigAg_4Class')\n",
    "plt.plot(m0_LC2['n_small'], m0_LC2['avgacc_bigCrop'], color=(.8,0,.8), linewidth=1.0, label='BigAg_2Class')\n",
    "plt.plot(m0_LC25['n_small'], m0_LC25['avgacc_noCrop'], color=(0,0,1), linewidth=1.0, label='NoCrop_25Class')\n",
    "plt.plot(m0_LC4['n_small'], m0_LC4['avgacc_noCrop'], color=(0,.6,.7), linewidth=1.0, label='NoCrop_4Class')\n",
    "plt.plot(m0_LC2['n_small'], m0_LC2['avgacc_noCrop'], color=(0,.5,1), linewidth=1.0, label='NoCrop_2Class')\n",
    "plt.xlabel('num smallholder samples in training set')\n",
    "plt.ylabel('% HO accuracy')\n",
    "plt.title('')\n",
    "plt.legend(loc='right');"
   ]
  },
  {
   "cell_type": "markdown",
   "id": "d9a9d11e",
   "metadata": {},
   "source": [
    "## To save an html copy of this notebook with all outputs:\n",
    "(these two cells should be last in notebook)"
   ]
  },
  {
   "cell_type": "code",
   "execution_count": null,
   "id": "35471d60",
   "metadata": {},
   "outputs": [],
   "source": [
    "%%script echo skipping\n",
    "### comment out above line and run this cell to print output as html\n",
    "\n",
    "out_name = str(basic_config['country']+'6c_RandomFoest_ModelComparisons'+'_model'+str(classification_params['model_name'])+'basic_config['filter_yr'])\n",
    "!jupyter nbconvert --output-dir='./Outputs' --to html --no-input --ExecutePreprocessor.store_widget_state=True --output=$out_name 6b_RandomFoest_ModelComparisons.ipynb"
   ]
  },
  {
   "cell_type": "code",
   "execution_count": null,
   "id": "3075d3f8-981c-42e2-aa5b-9fd20e2cf664",
   "metadata": {},
   "outputs": [],
   "source": []
  }
 ],
 "metadata": {
  "kernelspec": {
   "display_name": "Python 3 (ipykernel)",
   "language": "python",
   "name": "python3"
  },
  "language_info": {
   "codemirror_mode": {
    "name": "ipython",
    "version": 3
   },
   "file_extension": ".py",
   "mimetype": "text/x-python",
   "name": "python",
   "nbconvert_exporter": "python",
   "pygments_lexer": "ipython3",
   "version": "3.8.15"
  }
 },
 "nbformat": 4,
 "nbformat_minor": 5
}
