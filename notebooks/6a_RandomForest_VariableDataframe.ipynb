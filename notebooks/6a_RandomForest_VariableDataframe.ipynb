{
 "cells": [
  {
   "cell_type": "code",
   "execution_count": 1,
   "id": "6a947286",
   "metadata": {},
   "outputs": [],
   "source": [
    "import os\n",
    "import sys\n",
    "from pathlib import Path\n",
    "import pandas as pd\n",
    "\n",
    "%matplotlib inline"
   ]
  },
  {
   "cell_type": "code",
   "execution_count": 2,
   "id": "72d48bd3",
   "metadata": {},
   "outputs": [],
   "source": [
    "sys.path.append(r\"../LUCinSA_helpers\")\n",
    "from rf import *"
   ]
  },
  {
   "cell_type": "code",
   "execution_count": 3,
   "id": "54f479b5",
   "metadata": {},
   "outputs": [
    {
     "name": "stdout",
     "output_type": "stream",
     "text": [
      "Basic Parameters: \n",
      " brdf_dir = /home/sandbox-cel/paraguay_lc/stac/grid/003035/brdf \n",
      " gridCell = 3035 \n",
      " index_dir = /home/downspout-cel/paraguay_lc/stac/grids/003035/brdf_ts/ms/evi2 \n",
      " home_dir = ~/data\n",
      "Classification_Params: \n",
      " model_type = RF \n",
      " samp_pt_file = /home/downspout-cel/paraguay_lc/vector/sampleData/SamplePts_Nov2023_ALL.csv \n",
      " pix_vars = /home/downspout-cel/paraguay_lc/vector/ptsgdb_Nov15.csv \n",
      " pixdf = /home/downspout-cel/paraguay_lc/classification/RF/pixdf_lessSoy_Nov.csv \n",
      " model_name = test0Nov \n",
      " lc_class = All \n",
      " ranhold = 29 \n",
      " impmeth = Impurity\n"
     ]
    }
   ],
   "source": [
    "'''\n",
    "PARAMETERS: modify in notebook_params notebook, then run that notebook and this cell to update here\n",
    "DO NOT modify this cell\n",
    "'''\n",
    "\n",
    "%store -r basic_config\n",
    "print(\"Basic Parameters: \\n brdf_dir = {} \\n gridCell = {} \\n index_dir = {} \\n home_dir = {}\"\n",
    "      .format(basic_config['brdf_dir'],basic_config['grid_cell'],basic_config['index_dir'],basic_config['home_dir']))\n",
    "%store -r classification_params\n",
    "print(\"Classification_Params: \\n model_type = {} \\n samp_pt_file = {} \\n pix_vars = {} \\n pixdf = {} \\n model_name = {} \\n lc_class = {} \\n ranhold = {} \\n impmeth = {}\".format(classification_params['model_type'],classification_params['samp_pts'],classification_params['pix_vars'],classification_params['pixdf'],classification_params['model_name'],\n",
    "classification_params['lc_mod'],classification_params['ranhold'],classification_params['impmeth']))"
   ]
  },
  {
   "cell_type": "code",
   "execution_count": 4,
   "id": "01ad1ec9",
   "metadata": {},
   "outputs": [
    {
     "name": "stdout",
     "output_type": "stream",
     "text": [
      "    LC_UNQ               USE_NAME          Segmentation  LCTrans  \\\n",
      "0        1                  NoVeg                 NoVeg        1   \n",
      "1        2             NoVeg_Bare                   NaN        2   \n",
      "2        3            NoVeg_Built                   NaN        3   \n",
      "3        7            NoVeg_Water                   NaN        7   \n",
      "4        9             Mixed-path                   NaN        9   \n",
      "5       10                Cleared                   NaN       10   \n",
      "6       11          TreePlant-new                   NaN       11   \n",
      "7       12      Grassland-Natural                   NaN       15   \n",
      "8       13      Grassland-Planted  LowVeg_grass_managed       15   \n",
      "9       15              Grassland          LowVeg_grass       15   \n",
      "10      17  Grassland-Natural-wet                   NaN       15   \n",
      "11      18        Mixed-GrassEdge                   NaN       19   \n",
      "12      19        Mixed-FieldEdge                   NaN       19   \n",
      "13      20                 LowVeg                LowVeg       20   \n",
      "14      23     Crops-horticulture                   NaN       35   \n",
      "15      30               Crop-Low       Crop_low_single       30   \n",
      "16      31         Crops-Soybeans                   NaN       30   \n",
      "17      32            Crops-Beans                   NaN       30   \n",
      "18      33             Crops-Corn                   NaN       30   \n",
      "19      34         Crops-Mandioca                   NaN       35   \n",
      "21      35              Crops-mix            Crop_mixed       35   \n",
      "20      36          Crops-Peanuts                   NaN       35   \n",
      "22      37             Crops-Rice                   NaN       30   \n",
      "23      38            Crops-Sugar                   NaN       30   \n",
      "24      40               Crop_Med              Crop_med       40   \n",
      "25      41         Crops-Vineyard     Crop_med_vineyard       40   \n",
      "26      42       Crops-Yerba-Mate   Crop_med_yerba-mate       40   \n",
      "27      45      Crops-Orchard-new                   NaN       11   \n",
      "28      46          Crops-Orchard      Crop_med_orchard       46   \n",
      "29      51         Grass_tree-mix                   NaN       52   \n",
      "30      52                  Shrub        MedVeg_natural       52   \n",
      "31      56        TreePlant-young     MedVeg_plantation       56   \n",
      "32      60              TreePlant    HighVeg_plantation       60   \n",
      "33      65        Trees-disturbed                   NaN       65   \n",
      "34      66       TreePlant-mature    HighVeg_plantation       66   \n",
      "35      80           Trees-Forest       HighVeg_natural       80   \n",
      "36      99                unknown                   NaN       99   \n",
      "\n",
      "       LCTrans_name LC5_name  LC5  LC17          LC17_name  LC3 LC3_name  LC4  \\\n",
      "0             NoVeg    NoVeg   10    99            unknown    0   nocrop    0   \n",
      "1        NoVeg_Bare    NoVeg   10     2         NoVeg_Bare    0   nocrop    0   \n",
      "2       NoVeg_Built    NoVeg   10     3        NoVeg_Built    0   nocrop    0   \n",
      "3       NoVeg_Water    NoVeg   10     7        NoVeg_Water    0   nocrop    0   \n",
      "4        Mixed-path    NoVeg   10     9         Mixed-path    0   nocrop    0   \n",
      "5           Cleared   LowVeg   20    99            unknown    0   nocrop    0   \n",
      "6         New_plant   LowVeg   20    11           NewPlant    0   nocrop    0   \n",
      "7             Grass   LowVeg   20    12  Grassland-Natural    0   nocrop    0   \n",
      "8             Grass   LowVeg   20    13  Grassland-Planted    0   nocrop    0   \n",
      "9             Grass   LowVeg   20    99            unknown    0   nocrop    0   \n",
      "10            Grass   LowVeg   20    12  Grassland-Natural    0   nocrop    0   \n",
      "11          VegEdge   LowVeg   20    19      Mixed-VegEdge    0   nocrop    0   \n",
      "12          VegEdge   LowVeg   20    19      Mixed-VegEdge    0   nocrop    0   \n",
      "13           LowVeg   LowVeg   20    99            unknown    0   nocrop    0   \n",
      "14         Crop_mix   LowVeg   20    35          Crops-mix    1     crop    1   \n",
      "15         Crop_low   LowVeg   20    99            unknown    1     crop    1   \n",
      "16         Crop_low   LowVeg   20    31     Crops-Soybeans    1     crop    1   \n",
      "17         Crop_low   LowVeg   20    35          Crops-mix    1     crop    1   \n",
      "18         Crop_low   LowVeg   20    33         Crops-Corn    1     crop    1   \n",
      "19         Crop_mix   LowVeg   20    35          Crops-mix    1     crop    1   \n",
      "21         Crop_mix   LowVeg   20    35          Crops-mix    1     crop    1   \n",
      "20         Crop_mix   LowVeg   20    35          Crops-mix    1     crop    1   \n",
      "22         Crop_low   LowVeg   20    37         Crops-Rice    1     crop    1   \n",
      "23         Crop_low   LowVeg   20    38        Crops-Sugar    1     crop    1   \n",
      "24       Crop_shrub   MedVeg   40    99            unknown    2  medcrop    2   \n",
      "25       Crop_shrub   MedVeg   40    41     Crops-Vineyard    2  medcrop    2   \n",
      "26       Crop_shrub   MedVeg   40    42   Crops-Yerba-Mate    2  medcrop    2   \n",
      "27        New_plant   LowVeg   20    99            unknown    1     crop    1   \n",
      "28        Crop_tree   MedVeg   40    46      Crops-Orchard    2  medcrop    2   \n",
      "29            Shrub   MedVeg   50    51     Grass_tree-mix    0   nocrop    0   \n",
      "30            Shrub   MedVeg   50    52              Shrub    0   nocrop    0   \n",
      "31      Young_plant   MedVeg   50    60          TreePlant    0   nocrop    0   \n",
      "32       Tree_plant  HighVeg   70    60          TreePlant    0   nocrop    0   \n",
      "33  Trees_disturbed  HighVeg   70    65    Trees-disturbed    0   nocrop    3   \n",
      "34       Tree_plant  HighVeg   70    60          TreePlant    0   nocrop    3   \n",
      "35     Trees_Forest  HighVeg   70    80       Trees-Forest    0   nocrop    3   \n",
      "36          unknown  unknown   99    99            unknown   99  unknown   99   \n",
      "\n",
      "   LC4_name  LC2 LC2_name  LC_crops    LC_crops_name  \n",
      "0    nocrop    0   nocrop        10         Not crop  \n",
      "1    nocrop    0   nocrop        10         Not crop  \n",
      "2    nocrop    0   nocrop        10         Not crop  \n",
      "3    nocrop    0   nocrop        10         Not crop  \n",
      "4    nocrop    0   nocrop        10         Not crop  \n",
      "5    nocrop    0   nocrop        10         Not crop  \n",
      "6    nocrop    0   nocrop        10         Not crop  \n",
      "7    nocrop    0   nocrop        10         Not crop  \n",
      "8    nocrop    0   nocrop        10         Not crop  \n",
      "9    nocrop    0   nocrop        10         Not crop  \n",
      "10   nocrop    0   nocrop        10         Not crop  \n",
      "11   nocrop    0   nocrop        10         Not crop  \n",
      "12   nocrop    0   nocrop        10         Not crop  \n",
      "13   nocrop    0   nocrop        10         Not crop  \n",
      "14     crop    1     crop        23     Horticulture  \n",
      "15     crop    1     crop        10    Crops-unknown  \n",
      "16     crop    1     crop        31         Soybeans  \n",
      "17     crop    1     crop        35  Smallholder mix  \n",
      "18     crop    1     crop        33             Corn  \n",
      "19     crop    1     crop        35  Smallholder mix  \n",
      "21     crop    1     crop        35  Smallholder mix  \n",
      "20     crop    1     crop        35  Smallholder mix  \n",
      "22     crop    1     crop        37             Rice  \n",
      "23     crop    1     crop        38            Sugar  \n",
      "24  medcrop    1     crop        40      Shrub crops  \n",
      "25  medcrop    1     crop        40      Shrub crops  \n",
      "26  medcrop    1     crop        40      Shrub crops  \n",
      "27     crop    1     crop        45       Tree crops  \n",
      "28  medcrop    1     crop        50       Tree crops  \n",
      "29   nocrop    0   nocrop        10         Not crop  \n",
      "30   nocrop    0   nocrop        10         Not crop  \n",
      "31   nocrop    0   nocrop        10         Not crop  \n",
      "32   nocrop    0   nocrop        10         Not crop  \n",
      "33     tree    0   nocrop        10         Not crop  \n",
      "34     tree    0   nocrop        10         Not crop  \n",
      "35     tree    0   nocrop        10         Not crop  \n",
      "36  unknown   99  unknown        99          unknown  \n"
     ]
    }
   ],
   "source": [
    "lut=pd.read_csv('../Class_LUT.csv')\n",
    "lut.drop(['Description'], axis=1, inplace=True)\n",
    "print(lut.sort_values('LC_UNQ'))"
   ]
  },
  {
   "cell_type": "markdown",
   "id": "ced2658d",
   "metadata": {},
   "source": [
    "## start with default models with pixel-only data:"
   ]
  },
  {
   "cell_type": "code",
   "execution_count": 5,
   "id": "04f7a074",
   "metadata": {},
   "outputs": [
    {
     "name": "stdout",
     "output_type": "stream",
     "text": [
      "sample breakdown by LC17 class:\n",
      "Crops-Soybeans       4443\n",
      "Mixed-path           3644\n",
      "Crops-mix            2870\n",
      "unknown              1645\n",
      "Mixed-VegEdge        1626\n",
      "Grassland-Planted     981\n",
      "Trees-Forest          819\n",
      "Trees-disturbed       788\n",
      "TreePlant             743\n",
      "Crops-Yerba-Mate      709\n",
      "Grassland-Natural     517\n",
      "Crops-Rice            496\n",
      "Shrub                 297\n",
      "Crops-Sugar           292\n",
      "NoVeg_Water           264\n",
      "Crops-Orchard         254\n",
      "NoVeg_Bare            235\n",
      "Crops-Corn            231\n",
      "NoVeg_Built           224\n",
      "Grass_tree-mix         90\n",
      "NewPlant               38\n",
      "Crops-Vineyard         12\n",
      "Name: LC17_name, dtype: int64\n",
      "default rf model with all sample pixels and pixel only data\n"
     ]
    }
   ],
   "source": [
    "samp_pts = pd.read_csv(classification_params['samp_pts'])\n",
    "pix_vars = pd.read_csv(classification_params['pix_vars'])\n",
    "\n",
    "pix_data = pix_vars.merge(samp_pts, left_on='OID_', right_on='OID_', how='left')\n",
    "\n",
    "pix_data.drop(['LC2'], axis=1, inplace=True)\n",
    "pixdf = pix_data.merge(lut, left_on='Class', right_on='USE_NAME', how='left')\n",
    "print('sample breakdown by LC17 class:')\n",
    "print(pixdf['LC17_name'].value_counts())\n",
    "\n",
    "print('default rf model with all sample pixels and pixel only data')"
   ]
  },
  {
   "cell_type": "code",
   "execution_count": 6,
   "id": "5d111a68",
   "metadata": {},
   "outputs": [
    {
     "name": "stdout",
     "output_type": "stream",
     "text": [
      "Crops-Soybeans       4443\n",
      "Mixed-path           3644\n",
      "Crops-mix            2870\n",
      "unknown              1645\n",
      "Mixed-VegEdge        1626\n",
      "Grassland-Planted     981\n",
      "Trees-Forest          819\n",
      "Trees-disturbed       788\n",
      "TreePlant             743\n",
      "Crops-Yerba-Mate      709\n",
      "Grassland-Natural     517\n",
      "Crops-Rice            496\n",
      "Shrub                 297\n",
      "Crops-Sugar           292\n",
      "NoVeg_Water           264\n",
      "Crops-Orchard         254\n",
      "NoVeg_Bare            235\n",
      "Crops-Corn            231\n",
      "NoVeg_Built           224\n",
      "Grass_tree-mix         90\n",
      "Name: LC17_name, dtype: int64\n"
     ]
    }
   ],
   "source": [
    "dropClass = ['Crops-Vineyard','NewPlant']\n",
    "pixdf = pixdf[~pixdf['LC17_name'].isin(dropClass)]\n",
    "print(pixdf['LC17_name'].value_counts())"
   ]
  },
  {
   "cell_type": "markdown",
   "id": "3bbe361c",
   "metadata": {},
   "source": [
    "## prep pixel datasets by reducing sample\n",
    "### First by sampling method (reducing dominant CAN soy pts)\n",
    "### can also do by field size, etc."
   ]
  },
  {
   "cell_type": "code",
   "execution_count": null,
   "id": "efbbd40e",
   "metadata": {},
   "outputs": [],
   "source": [
    "#### model_name = pixdf_25Soy\n",
    "##   removes 3/4 of the soy points because they are far overrepresented\n",
    "#pixdf_25Soy = pixdf[(pixdf['rand']>.9) | (pixdf['SampMethod'] != 'CAN - unverified in GE')]\n",
    "#print('25Soy sample breakdown by LC17 class:')\n",
    "#print(pixdf_25Soy['LC17_name'].value_counts())\n",
    "#pixdf_path = os.path.join(classification_params['model_dir'],'pixdf_25Soy.csv')\n",
    "#pd.DataFrame.to_csv(pixdf_25Soy, pixdf_path)"
   ]
  },
  {
   "cell_type": "code",
   "execution_count": 7,
   "id": "6b423a50",
   "metadata": {},
   "outputs": [
    {
     "name": "stdout",
     "output_type": "stream",
     "text": [
      "there are now 17092 pts in the training set after dropping CAN soy\n",
      "LessSoy sample breakdown by LC17 class:\n",
      "Mixed-path           3644\n",
      "Crops-mix            2870\n",
      "unknown              1645\n",
      "Mixed-VegEdge        1626\n",
      "Grassland-Planted     981\n",
      "Trees-Forest          819\n",
      "Trees-disturbed       788\n",
      "TreePlant             743\n",
      "Crops-Yerba-Mate      709\n",
      "Grassland-Natural     517\n",
      "Crops-Rice            496\n",
      "Crops-Soybeans        325\n",
      "Shrub                 297\n",
      "Crops-Sugar           292\n",
      "NoVeg_Water           264\n",
      "Crops-Orchard         254\n",
      "NoVeg_Bare            235\n",
      "Crops-Corn            231\n",
      "NoVeg_Built           224\n",
      "Grass_tree-mix         90\n",
      "Name: LC17_name, dtype: int64\n"
     ]
    }
   ],
   "source": [
    "#### model_name = pixdf_lessSoy\n",
    "# removes all soy points that sre not verified in Google Earth\n",
    "pixdf_lessSoy = pixdf[pixdf['SampMethod'] != 'CAN - unverified in GE']\n",
    "print('there are now {} pts in the training set after dropping CAN soy'.format(len(pixdf_lessSoy)))\n",
    "print('LessSoy sample breakdown by LC17 class:')\n",
    "print(pixdf_lessSoy['LC17_name'].value_counts())\n",
    "pixdf_path = os.path.join(classification_params['model_dir'],'pixdf_lessSoy_Nov.csv')\n",
    "pd.DataFrame.to_csv(pixdf_lessSoy, pixdf_path)"
   ]
  },
  {
   "cell_type": "markdown",
   "id": "5247eb48",
   "metadata": {},
   "source": [
    "## if polygons are available, can combine pixel and polygon dfs and create rf datasets for points with polygons and those without:"
   ]
  },
  {
   "cell_type": "code",
   "execution_count": null,
   "id": "1250ae5d",
   "metadata": {},
   "outputs": [],
   "source": [
    "poly_data = pd.read_csv(classification_params['samp_poly'])\n",
    "#rename column names that also occur in pixel df\n",
    "poly_data.rename(columns={'area':'areaSeg'}, inplace=True)\n",
    "all_data = pixdf.merge(poly_data, left_on='OID_', right_on='OID_', how='left')\n",
    "polypixdf_path = os.path.join(classification_params['model_dir'],'pts_polyData_joinCheck.csv')\n",
    "pd.DataFrame.to_csv(all_data, polypixdf_path, sep=',', na_rep='NaN', index=True)"
   ]
  },
  {
   "cell_type": "markdown",
   "id": "aad21203",
   "metadata": {},
   "source": [
    "### first create dataset for points outside of polygons (here we have no variables to add to the original model)"
   ]
  },
  {
   "cell_type": "code",
   "execution_count": null,
   "id": "5f7e4509",
   "metadata": {},
   "outputs": [],
   "source": [
    "outsideSeg = all_data[all_data['areaSeg'].isna()]\n",
    "print(f'of the {all_data.shape[0]} sample points in our dataset, {outsideSeg.shape[0]} are outside of our segmented polygons')\n",
    "print(outsideSeg['LC17_name'].value_counts())\n",
    "out_dir = os.path.join(classification_params['model_dir'],'outside')\n",
    "rfout17 = rf_model(outsideSeg,out_dir,'All','Permutation',29,'Fullsamp')"
   ]
  },
  {
   "cell_type": "markdown",
   "id": "0a8ef9f7",
   "metadata": {},
   "source": [
    "And for model with more balanced soy representation (25Soy):"
   ]
  },
  {
   "cell_type": "code",
   "execution_count": null,
   "id": "ac77984a",
   "metadata": {},
   "outputs": [],
   "source": [
    "all_data_25Soy = pixdf_25Soy.merge(poly_data, left_on='OID_', right_on='OID_', how='left')\n",
    "outsideSeg_25Soy = all_data_25Soy[all_data_25Soy['areaSeg'].isna()]\n",
    "print(outsideSeg_25Soy['LC17_name'].value_counts())\n",
    "out_dir = os.path.join(classification_params['model_dir'],'outside')\n",
    "rfout17_lessSoy = rf_model(outsideSeg_lessSoy,out_dir,'All','Permutation',29,'LessSoy')"
   ]
  },
  {
   "cell_type": "markdown",
   "id": "0af312b5",
   "metadata": {},
   "source": [
    "#### now create dataset for points inside of polygons (here we want to add some variables first)"
   ]
  },
  {
   "cell_type": "code",
   "execution_count": null,
   "id": "135283bd",
   "metadata": {},
   "outputs": [],
   "source": [
    "#poly_data['AvgU'] = poly_data.apply(lambda x:count([x[c] for c in df.columns if c.endswith('U')]),axis=1)\n",
    "#TODO: calculate these in pandas as above\n",
    "poly_data.rename(columns={'areaSeg':'var_areaSeg','AVGU':'var_AVGU','AVGR':'var_AVGR','AVGSTD':'var_AVGSTD','MAXR':'var_MAXR','MINR':'var_MINR','STDU':'var_STDU','MINU':'var_MINU','MAXU':'var_MAXU','rU':'var_RU'}, inplace=True)\n",
    "polyvars = pixdf.merge(poly_data, left_on='OID_', right_on='OID_', how='left')\n",
    "withinSeg = polyvars[polyvars['var_areaSeg'] > 0]\n",
    "\n",
    "print(withinSeg['LC17_name'].value_counts())\n",
    "out_dir = os.path.join(classification_params['model_dir'],'within')\n",
    "#rfin17 = rf_model..."
   ]
  },
  {
   "cell_type": "code",
   "execution_count": null,
   "id": "621cd9d6",
   "metadata": {},
   "outputs": [],
   "source": [
    "all_data_lessSoy = pixdf_lessSoy.merge(poly_data, left_on='OID_', right_on='OID_', how='left')\n",
    "withinSeg_lessSoy = all_data_lessSoy[all_data_lessSoy['var_areaSeg']>0]\n",
    "print(withinSeg_lessSoy['LC17_name'].value_counts())\n",
    "out_dir = os.path.join(classification_params['model_dir'],'within')\n",
    "#rfin17_lessSoy = rf_model(..."
   ]
  },
  {
   "cell_type": "markdown",
   "id": "c7d5fe33",
   "metadata": {},
   "source": [
    "## To save an html copy of this notebook with all outputs:\n",
    "(these two cells should be last in notebook)"
   ]
  },
  {
   "cell_type": "code",
   "execution_count": null,
   "id": "68f1e3e3",
   "metadata": {},
   "outputs": [],
   "source": [
    "%%script echo skipping\n",
    "### comment out above line and run this cell to print output as html\n",
    "\n",
    "out_name = str(basic_config['country']+'6a_RandomFoest_VariableDataframe'+'_model'+str(classification_params['model_name'])+'_'+'Tests1')\n",
    "!jupyter nbconvert --output-dir='./Outputs' --to html --no-input --ExecutePreprocessor.store_widget_state=True --output=$out_name 6b_RandomFoest_ModelComparisons.ipynb"
   ]
  }
 ],
 "metadata": {
  "kernelspec": {
   "display_name": "Python 3 (ipykernel)",
   "language": "python",
   "name": "python3"
  },
  "language_info": {
   "codemirror_mode": {
    "name": "ipython",
    "version": 3
   },
   "file_extension": ".py",
   "mimetype": "text/x-python",
   "name": "python",
   "nbconvert_exporter": "python",
   "pygments_lexer": "ipython3",
   "version": "3.8.15"
  }
 },
 "nbformat": 4,
 "nbformat_minor": 5
}
