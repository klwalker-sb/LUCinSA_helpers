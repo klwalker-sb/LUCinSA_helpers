{
 "cells": [
  {
   "cell_type": "markdown",
   "id": "02d941c9",
   "metadata": {},
   "source": [
    "# Set up new project"
   ]
  },
  {
   "cell_type": "code",
   "execution_count": null,
   "id": "18a56fba",
   "metadata": {},
   "outputs": [],
   "source": [
    "import os\n",
    "import sys\n",
    "from pathlib import Path\n",
    "import matplotlib.pyplot as plt\n",
    "from rasterio import plot\n",
    "from rasterio.plot import show\n",
    "%matplotlib inline"
   ]
  },
  {
   "cell_type": "code",
   "execution_count": null,
   "id": "4a6b586a",
   "metadata": {},
   "outputs": [],
   "source": [
    "sys.path.append(r\"../LUCinSA_helpers\")\n",
    "from project_prep import *"
   ]
  },
  {
   "cell_type": "code",
   "execution_count": null,
   "id": "0d455104",
   "metadata": {},
   "outputs": [],
   "source": [
    "country = 'capeTown'\n",
    "raw_dir = \"/home/sandbox-cel/capeTown\"\n",
    "yr_range = [2014,2021]\n",
    "epsg = 32734\n",
    "data_source = 'stac'\n",
    "cell_size = 20000\n",
    "shapes = f'{raw_dir}/vector/isiskey2015_4326.geojson'\n",
    "grid_file = f'{raw_dir}/vector/cape_grid_utm32S.gpkg'"
   ]
  },
  {
   "cell_type": "code",
   "execution_count": null,
   "id": "0fbc5569",
   "metadata": {},
   "outputs": [],
   "source": [
    "## Set parameters above for now (maybe use parameters file later)\n",
    "'''\n",
    "PARAMETERS: modify in notebook_params notebook, then run that notebook and this cell to update here\n",
    "DO NOT modify this cell\n",
    "\n",
    "\n",
    "%store -r basic_config\n",
    "print(\"basic parameters: \\n brdf_dir = {} \\n grid_cell = {} \\n index_dir = {} \\n local_dir = {}\"\n",
    "      .format(basic_config['brdf_dir'],basic_config['grid_cell'],basic_config['index_dir'],basic_config['local_dir']))\n",
    "print(\"\\n image_type = {}\".format(basic_config['image_type']))\n",
    "%store -r single_output_params\n",
    "print(\"single_output_params: \\n map_years = {}\".format(single_output_params['map_years']))\n",
    "'''"
   ]
  },
  {
   "cell_type": "code",
   "execution_count": null,
   "id": "528b0f9b",
   "metadata": {},
   "outputs": [],
   "source": [
    "create_proj_grid(shapes, cell_size, epsg, grid_file, samp_pts=False)"
   ]
  },
  {
   "cell_type": "code",
   "execution_count": null,
   "id": "775f2263",
   "metadata": {},
   "outputs": [],
   "source": [
    "fig, ax = plt.subplots()\n",
    "parcels = gpd.read_file(shapes)\n",
    "grid = gpd.read_file(grid_file)\n",
    "if (parcels.crs != grid.crs):\n",
    "    print(\"Reprojecting shape file to match grid crs\")\n",
    "    parcels = parcels.to_crs(grid.crs)\n",
    "grid.plot(ax=ax, facecolor='none', edgecolor='black')\n",
    "parcels.plot(ax=ax, facecolor='none', edgecolor='steelblue')"
   ]
  },
  {
   "cell_type": "code",
   "execution_count": null,
   "id": "95b9c57a",
   "metadata": {},
   "outputs": [],
   "source": []
  }
 ],
 "metadata": {
  "kernelspec": {
   "display_name": "Python 3 (ipykernel)",
   "language": "python",
   "name": "python3"
  },
  "language_info": {
   "codemirror_mode": {
    "name": "ipython",
    "version": 3
   },
   "file_extension": ".py",
   "mimetype": "text/x-python",
   "name": "python",
   "nbconvert_exporter": "python",
   "pygments_lexer": "ipython3",
   "version": "3.8.18"
  }
 },
 "nbformat": 4,
 "nbformat_minor": 5
}
