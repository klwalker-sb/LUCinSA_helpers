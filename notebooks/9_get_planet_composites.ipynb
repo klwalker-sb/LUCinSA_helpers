{
 "cells": [
  {
   "cell_type": "markdown",
   "id": "02d941c9",
   "metadata": {},
   "source": [
    "# Get cell processing info"
   ]
  },
  {
   "cell_type": "code",
   "execution_count": null,
   "id": "18a56fba",
   "metadata": {},
   "outputs": [],
   "source": [
    "import os, sys, glob, time\n",
    "import numpy as np\n",
    "import pandas as pd\n",
    "#import osgeo # needed only if running from windows\n",
    "import io\n",
    "import requests\n",
    "import ee\n",
    "\n",
    "from shapely.geometry import Polygon, mapping\n",
    "import geopandas as gpd\n",
    "import geemap\n",
    "import geemap.geemap as geemap\n",
    "import jupyter_contrib_nbextensions \n",
    "import ipyleaflet\n",
    "import ipywidgets as widgets"
   ]
  },
  {
   "cell_type": "code",
   "execution_count": null,
   "id": "4a6b586a",
   "metadata": {},
   "outputs": [],
   "source": [
    "## note: need to authenticate through an account with NICFI and developer access\n",
    "## can access through cel.emlab@gmail.com\n",
    "ee.Authenticate() # do NOT select read only scopes\n",
    "ee.Initialize()"
   ]
  },
  {
   "cell_type": "code",
   "execution_count": null,
   "id": "0fbc5569",
   "metadata": {},
   "outputs": [],
   "source": [
    "def GET_GEE(gee_name, start, end, aoi_shape, chip_id):\n",
    "    gdf = gpd.read_file(aoi_shape)\n",
    "    gdf_web = gdf.to_crs(\"EPSG:4326\")\n",
    "    gdf_web = gdf_web[gdf_web[\"chip_id\"] == chip_id]\n",
    "    gdf_web = gdf_web[gdf_web[\"chip_id\"] == chip_id]\n",
    "    \n",
    "    aoi = ee.Geometry.Rectangle([gdf_web.bounds.minx.min(), gdf_web.bounds.miny.min(), gdf_web.bounds.maxx.max(), gdf_web.bounds.maxy.max()])\n",
    "\n",
    "    collection = ee.ImageCollection(gee_name).filterBounds(aoi).filterDate(start, end)\n",
    "    clip_col = collection.map(lambda col : col.clip(aoi))\n",
    "\n",
    "    return clip_col\n",
    "\n",
    "\n",
    "def getNDVI(image):\n",
    "    ndvi = image.normalizedDifference(['N','R']).rename(\"NDVI\")\n",
    "    \n",
    "    return(ndvi)\n",
    "\n",
    "\n",
    "## JUST DOWNLOAD CHIPS \n",
    "def GET_monthly_TS(chip_shape, chip_id, start_date, end_date, export_composite=False):\n",
    "\n",
    "    planet_NDVI = GET_GEE(gee_name=\"projects/planet-nicfi/assets/basemaps/americas\", \n",
    "                 start=start_date, end=end_date, \n",
    "                 aoi_shape=chip_shape, \n",
    "                 chip_id=chip_id).map(getNDVI).toBands()\n",
    "\n",
    "    planet_NDVI=ee.Image(planet_NDVI).multiply(10000).int()\n",
    "\n",
    "    if not os.path.exists(export_composite):\n",
    "        os.makedirs(export_composite)\n",
    "    out_file = os.path.join(export_composite, \"PS_monthly_\"+str(chip_id)+\".tif\")\n",
    "    geemap.ee_export_image(planet_NDVI, out_file, scale=4.7)\n",
    "    return out_file"
   ]
  },
  {
   "cell_type": "code",
   "execution_count": null,
   "id": "e374cb93",
   "metadata": {},
   "outputs": [],
   "source": [
    "## TODO: Set paramaters here. chip_file location & out_dir (where 'images' folder will be placed).\n",
    "chip_file=\"C:/GISprojects/PyCropSeg/Priority9chips.shp\"\n",
    "chips = gpd.read_file(chip_file)\n",
    "\n",
    "for chipID in chips.chip_id.to_list():\n",
    "    planet_img = GET_monthly_TS(chip_shape=chip_file, \n",
    "                                chip_id=chipID, \n",
    "                                start_date=\"2020-07-01\", \n",
    "                                end_date=\"2021-08-01\", \n",
    "                                export_composite=\"images/\")"
   ]
  }
 ],
 "metadata": {
  "kernelspec": {
   "display_name": "Python 3 (ipykernel)",
   "language": "python",
   "name": "python3"
  },
  "language_info": {
   "codemirror_mode": {
    "name": "ipython",
    "version": 3
   },
   "file_extension": ".py",
   "mimetype": "text/x-python",
   "name": "python",
   "nbconvert_exporter": "python",
   "pygments_lexer": "ipython3",
   "version": "3.8.15"
  }
 },
 "nbformat": 4,
 "nbformat_minor": 5
}
