{
 "cells": [
  {
   "cell_type": "markdown",
   "id": "02d941c9",
   "metadata": {},
   "source": [
    "# Get Zonal Stats"
   ]
  },
  {
   "cell_type": "code",
   "execution_count": null,
   "id": "18a56fba",
   "metadata": {},
   "outputs": [],
   "source": [
    "import os\n",
    "import sys\n",
    "import rasterio as rio\n",
    "import numpy as np\n",
    "import geopandas as gpd"
   ]
  },
  {
   "cell_type": "code",
   "execution_count": null,
   "id": "4a6b586a",
   "metadata": {},
   "outputs": [],
   "source": [
    "sys.path.append(r\"../LUCinSA_helpers\")\n",
    "module_path = os.path.abspath(os.path.join('.'))\n",
    "if module_path not in sys.path:\n",
    "    sys.path.append(module_path)\n",
    "    \n",
    "from ras_tools import *"
   ]
  },
  {
   "cell_type": "code",
   "execution_count": null,
   "id": "cca68036",
   "metadata": {},
   "outputs": [],
   "source": [
    "polys = \"/home/downspout-cel/paraguay_lc/vector/zonal_polys/sample_districts/sample_districts.shp\""
   ]
  },
  {
   "cell_type": "code",
   "execution_count": null,
   "id": "17220330",
   "metadata": {},
   "outputs": [],
   "source": [
    "map_dict = {\n",
    "    'ESA_cereal':{'loc':'ESA_WorldCereal/WorldCereal_TempCrops_EPy.tif','classes':{'crop': [1],'other': [0]}},\n",
    "    'MB_2021':{'loc':'MB_PRY/MB_PRY_2022_reclass.tif','classes':{'crop': [1], 'trees':[3], 'noVeg':[4],'lowVeg':[2]}},\n",
    "    'CEL_2021':{'loc':'CEL/reclass_2/CEL_reclass_2022_8858.tif','classes':{'crop': [1], 'trees':[3], 'noVeg':[4],'lowVeg':[2]}}\n",
    "}\n",
    "map_dict_path = \"/home/downspout-cel/paraguay_lc/lc_prods/prod_dict.json\"\n",
    "\n",
    "with open(map_dict_path, 'w') as dic:\n",
    "    json.dump(map_dict, dic)"
   ]
  },
  {
   "cell_type": "code",
   "execution_count": null,
   "id": "74cc9b93",
   "metadata": {},
   "outputs": [],
   "source": [
    "map_product = 'ESA_cereal'\n",
    "scratch_dir = '/home/scratch-cel/poly_tmp'\n",
    "stats = summarize_district_polys(polys, map_product, scratch_dir, test=False)\n",
    "print(stats)"
   ]
  },
  {
   "cell_type": "code",
   "execution_count": null,
   "id": "dfed1a00",
   "metadata": {},
   "outputs": [],
   "source": [
    "map_product = \"CEL_base4Poly6_bal200mix6_LC35_DistrictSamp\"\n",
    "scratch_dir = '/home/scratch-cel/poly_tmp'\n",
    "stats = summarize_district_polys(polys, map_product, scratch_dir, test=False)\n",
    "print(stats)"
   ]
  },
  {
   "cell_type": "code",
   "execution_count": null,
   "id": "f96203ea",
   "metadata": {},
   "outputs": [],
   "source": [
    "all_scores = pd.read_csv('/home/downspout-cel/paraguay_lc/classification/RF/model_stats/CEL_model_scores.csv')\n",
    "all_scores"
   ]
  },
  {
   "cell_type": "code",
   "execution_count": null,
   "id": "44a9a53a",
   "metadata": {},
   "outputs": [],
   "source": []
  }
 ],
 "metadata": {
  "kernelspec": {
   "display_name": "Python 3 (ipykernel)",
   "language": "python",
   "name": "python3"
  },
  "language_info": {
   "codemirror_mode": {
    "name": "ipython",
    "version": 3
   },
   "file_extension": ".py",
   "mimetype": "text/x-python",
   "name": "python",
   "nbconvert_exporter": "python",
   "pygments_lexer": "ipython3",
   "version": "3.8.13"
  }
 },
 "nbformat": 4,
 "nbformat_minor": 5
}
