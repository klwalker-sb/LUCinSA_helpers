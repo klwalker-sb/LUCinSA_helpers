{
 "cells": [
  {
   "cell_type": "markdown",
   "id": "02d941c9",
   "metadata": {},
   "source": [
    "# Get Zonal Stats"
   ]
  },
  {
   "cell_type": "code",
   "execution_count": null,
   "id": "18a56fba",
   "metadata": {},
   "outputs": [],
   "source": [
    "import os\n",
    "import sys\n",
    "import rasterio as rio\n",
    "import numpy as np\n",
    "import geopandas as gpd"
   ]
  },
  {
   "cell_type": "code",
   "execution_count": null,
   "id": "4a6b586a",
   "metadata": {},
   "outputs": [],
   "source": [
    "sys.path.append(r\"../LUCinSA_helpers\")\n",
    "module_path = os.path.abspath(os.path.join('.'))\n",
    "if module_path not in sys.path:\n",
    "    sys.path.append(module_path)\n",
    "    \n",
    "from ras_tools import *"
   ]
  },
  {
   "cell_type": "code",
   "execution_count": null,
   "id": "cca68036",
   "metadata": {},
   "outputs": [],
   "source": [
    "out_dir = \"/home/downspout-cel/paraguay_lc/vector/tests\"\n",
    "map_dir = \"/home/downspout-cel/paraguay_lc/lc_prods\"\n",
    "poly_dir = \"/home/downspout-cel/paraguay_lc/vector/zonal_polys/sm_districts\""
   ]
  },
  {
   "cell_type": "code",
   "execution_count": null,
   "id": "17220330",
   "metadata": {},
   "outputs": [],
   "source": [
    "map_dict = {\n",
    "    'ESA_cereal':{'loc':'ESA_WorldCereal/WorldCereal_TempCrops_EPy.tif','classes':{'crop': 1,'other': 0}},\n",
    "    'MB_2021':{'loc':'MB_PRY/MB_PRY_2022_reclass.tif','classes':{'crop': 1, 'trees':3, 'noVeg':4,'lowVeg':2}},\n",
    "    'CEL_2021':{'loc':'CEL/reclass_2/CEL_reclass_2022_8858.tif','classes':{'crop': 1, 'trees':3, 'noVeg':4,'lowVeg':2}}\n",
    "}"
   ]
  },
  {
   "cell_type": "code",
   "execution_count": null,
   "id": "dfed1a00",
   "metadata": {},
   "outputs": [],
   "source": [
    "map_product = 'ESA_cereal'\n",
    "polys = os.path.join(poly_dir,'smSampDistricts.shp')"
   ]
  },
  {
   "cell_type": "code",
   "execution_count": null,
   "id": "b7422dd1",
   "metadata": {},
   "outputs": [],
   "source": [
    "zone_stats = summarize_zones(polys,map_dir,out_dir,map_dict,map_product)\n",
    "print(zone_stats)"
   ]
  },
  {
   "cell_type": "code",
   "execution_count": null,
   "id": "57b80416",
   "metadata": {},
   "outputs": [],
   "source": []
  }
 ],
 "metadata": {
  "kernelspec": {
   "display_name": "Python 3 (ipykernel)",
   "language": "python",
   "name": "python3"
  },
  "language_info": {
   "codemirror_mode": {
    "name": "ipython",
    "version": 3
   },
   "file_extension": ".py",
   "mimetype": "text/x-python",
   "name": "python",
   "nbconvert_exporter": "python",
   "pygments_lexer": "ipython3",
   "version": "3.8.15"
  }
 },
 "nbformat": 4,
 "nbformat_minor": 5
}
