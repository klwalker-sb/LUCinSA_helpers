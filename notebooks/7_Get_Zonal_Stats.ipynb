{
 "cells": [
  {
   "cell_type": "markdown",
   "id": "02d941c9",
   "metadata": {},
   "source": [
    "# Get cell processing info"
   ]
  },
  {
   "cell_type": "code",
   "execution_count": null,
   "id": "18a56fba",
   "metadata": {},
   "outputs": [],
   "source": [
    "import os\n",
    "import sys"
   ]
  },
  {
   "cell_type": "code",
   "execution_count": null,
   "id": "4a6b586a",
   "metadata": {},
   "outputs": [],
   "source": [
    "sys.path.append(r\"../LUCinSA_helpers\")\n",
    "module_path = os.path.abspath(os.path.join('.'))\n",
    "if module_path not in sys.path:\n",
    "    sys.path.append(module_path)\n",
    "    \n",
    "from ras_tools import *"
   ]
  },
  {
   "cell_type": "code",
   "execution_count": null,
   "id": "cca68036",
   "metadata": {},
   "outputs": [],
   "source": [
    "other_map_dir = \"home/downspout-cel/paraguay_lc/lc_prods\"\n",
    "poly_dir = \"home/downspout-cel/paraguay_lc/vector/\"\n"
   ]
  },
  {
   "cell_type": "code",
   "execution_count": null,
   "id": "dfed1a00",
   "metadata": {},
   "outputs": [],
   "source": [
    "ras_in = os.path.join(other_map_dir,ESA)\n",
    "polys = \n",
    "clip_ras_to_poly(ras_in, polys, out_dir)"
   ]
  }
 ],
 "metadata": {
  "kernelspec": {
   "display_name": "Python 3 (ipykernel)",
   "language": "python",
   "name": "python3"
  },
  "language_info": {
   "codemirror_mode": {
    "name": "ipython",
    "version": 3
   },
   "file_extension": ".py",
   "mimetype": "text/x-python",
   "name": "python",
   "nbconvert_exporter": "python",
   "pygments_lexer": "ipython3",
   "version": "3.8.15"
  }
 },
 "nbformat": 4,
 "nbformat_minor": 5
}
