{
 "cells": [
  {
   "cell_type": "code",
   "execution_count": null,
   "id": "989552f5",
   "metadata": {},
   "outputs": [],
   "source": [
    "import os\n",
    "import sys\n",
    "from pathlib import Path\n",
    "import rasterio as rio\n",
    "from rasterio import plot\n",
    "from rasterio.plot import show\n",
    "\n",
    "%matplotlib inline"
   ]
  },
  {
   "cell_type": "code",
   "execution_count": null,
   "id": "af51518d",
   "metadata": {},
   "outputs": [],
   "source": [
    "sys.path.append(r\"../LUCinSA_helpers\")\n",
    "module_path = os.path.abspath(os.path.join('.'))\n",
    "if module_path not in sys.path:\n",
    "    sys.path.append(module_path)\n",
    "    \n",
    "from mosaic import *\n",
    "from plot import *"
   ]
  },
  {
   "cell_type": "code",
   "execution_count": null,
   "id": "3b976dc1",
   "metadata": {},
   "outputs": [],
   "source": [
    "'''\n",
    "PARAMETERS: modify in Notebook_settings notebook, then run that notebook and this cell to update here\n",
    "DO not modify this cell\n",
    "'''\n",
    "\n",
    "%store -r basic_config\n",
    "print(\"Basic Parameters: \\n gridCells = {} \\n ts_dir = {} \\n local_dir = {}\"\n",
    "      .format(basic_config['grid_cells'],basic_config['smooth_dir'],basic_config['local_dir']))\n",
    "\n",
    "%store -r single_plot_params\n",
    "print(\"SinglePlotParams: \\n gamma = {}\"\n",
    "      .format(single_plot_params['gamma']))"
   ]
  },
  {
   "cell_type": "markdown",
   "id": "1ac9a487",
   "metadata": {},
   "source": [
    "## build mosaic"
   ]
  },
  {
   "cell_type": "code",
   "execution_count": null,
   "id": "8decc209",
   "metadata": {},
   "outputs": [],
   "source": [
    "model = 'base4NoPoly_base1000_2018'\n",
    "out_path = Path('/home/downspout-cel/paraguay_lc/mosaics')\n",
    "cell_list = '/home/downspout-cel/paraguay_lc/mosaics/lists/Tile10list.csv'\n",
    "#Priority1.csv'\n",
    "#mosaicked = mosaic_cells(basic_config['grid_cells'], basic_config['smooth_dir'], 'comp', model, out_path)\n",
    "#mosaicked = mosaic_cells(cell_list, basic_config['smooth_dir'], 'comp', model, out_path)\n",
    "mosaicked = mosaic_cells(cell_list, basic_config['raw_dir'], 'comp', model, out_path)"
   ]
  },
  {
   "cell_type": "markdown",
   "id": "403ceec7",
   "metadata": {},
   "source": [
    "## view mosaic"
   ]
  },
  {
   "cell_type": "code",
   "execution_count": null,
   "id": "21064478",
   "metadata": {},
   "outputs": [],
   "source": [
    "fig = plt.figsize=(30,30)\n",
    "l_rgb = get_rbg_img(mosaicked,single_plot_params['gamma'])\n",
    "plt.imshow(l_rgb)\n",
    "plt.title(\"new moasic\")\n",
    "plt.axis('off');"
   ]
  },
  {
   "cell_type": "code",
   "execution_count": null,
   "id": "aa86bae3",
   "metadata": {},
   "outputs": [],
   "source": []
  }
 ],
 "metadata": {
  "kernelspec": {
   "display_name": "Python 3 (ipykernel)",
   "language": "python",
   "name": "python3"
  },
  "language_info": {
   "codemirror_mode": {
    "name": "ipython",
    "version": 3
   },
   "file_extension": ".py",
   "mimetype": "text/x-python",
   "name": "python",
   "nbconvert_exporter": "python",
   "pygments_lexer": "ipython3",
   "version": "3.8.15"
  }
 },
 "nbformat": 4,
 "nbformat_minor": 5
}
