{
 "cells": [
  {
   "cell_type": "code",
   "execution_count": 1,
   "id": "6a947286",
   "metadata": {},
   "outputs": [],
   "source": [
    "import os\n",
    "import sys\n",
    "from pathlib import Path\n",
    "import pandas as pd\n",
    "\n",
    "%matplotlib inline"
   ]
  },
  {
   "cell_type": "code",
   "execution_count": 2,
   "id": "72d48bd3",
   "metadata": {},
   "outputs": [],
   "source": [
    "sys.path.append(r\"../LUCinSA_helpers\")\n",
    "from rf import *"
   ]
  },
  {
   "cell_type": "code",
   "execution_count": 3,
   "id": "54f479b5",
   "metadata": {},
   "outputs": [
    {
     "name": "stdout",
     "output_type": "stream",
     "text": [
      "Basic Parameters: \n",
      " time-series data is in (smooth_dir): /home/downspout-cel/paraguay_lc/stac/grids \n",
      " modelling year is (filter_year param): 2021 (this is first year if season spans two years)\n",
      "Classification_Params: \n",
      " modelling mode is testing \n",
      " model_type = RF \n",
      " output files are saved to (model_dir): /home/downspout-cel/paraguay_lc/vector/tests_KW \n",
      " shared input files are in (main_model_dir): /home/downspout-cel/paraguay_lc/classification/RF \n",
      " sample_model = bal400mix1 \n",
      " feature_model = Max \n",
      " model_name = Max_bal400mix1 \n",
      " the full sample pt file: /home/downspout-cel/paraguay_lc/vector/sampleData/SamplePts_Dec2023_ALL.csv \n",
      " the full sample dataframe with the feature model applied: /home/downspout-cel/paraguay_lc/vector/ptsgdb_Max.csv \n",
      " the subset pt file based on the sample model: /home/downspout-cel/paraguay_lc/classification/RF/sample_dfs/bal400mix1.csv \n",
      " lc_class = all \n",
      " ranhold = 29 \n",
      " impmeth = Impurity\n"
     ]
    }
   ],
   "source": [
    "'''\n",
    "PARAMETERS: modify in notebook_params notebook, then run that notebook and this cell to update here\n",
    "DO NOT modify this cell\n",
    "'''\n",
    "\n",
    "%store -r basic_config\n",
    "print(\"Basic Parameters: \\n time-series data is in (smooth_dir): {} \\n\"\n",
    "      \" modelling year is (filter_year param): {} (this is first year if season spans two years)\"\n",
    "      .format(basic_config['smooth_dir'], basic_config['filter_yr']))\n",
    "%store -r classification_params\n",
    "\n",
    "print(\"Classification_Params: \\n\" \n",
    "      \" modelling mode is {} \\n\"\n",
    "      \" model_type = {} \\n\"\n",
    "      \" output files are saved to (model_dir): {} \\n\" \n",
    "      \" shared input files are in (main_model_dir): {} \\n\"\n",
    "      \" sample_model = {} \\n feature_model = {} \\n model_name = {} \\n\"\n",
    "      \" the full sample pt file: {} \\n\"\n",
    "      \" the full sample dataframe with the feature model applied: {} \\n\"\n",
    "      \" the subset pt file based on the sample model: {} \\n\"\n",
    "      \" lc_class = {} \\n ranhold = {} \\n impmeth = {}\"\n",
    "      .format(classification_params['model_mode'],classification_params['model_type'],classification_params['model_dir'],\n",
    "              classification_params['main_model_dir'],classification_params['sample_model'],classification_params['feature_model'],\n",
    "              classification_params['model_name'],basic_config['ptfile'],classification_params['samp_pix_vars'],classification_params['samp_pts'],\n",
    "              classification_params['lc_mod'],classification_params['ranhold'],classification_params['impmeth']))\n",
    "    "
   ]
  },
  {
   "cell_type": "markdown",
   "id": "7a5e6b2f",
   "metadata": {},
   "source": [
    "#### Set new variables here for temp model testing: -- SKIP if keeping original model"
   ]
  },
  {
   "cell_type": "code",
   "execution_count": 5,
   "id": "9ecbcade",
   "metadata": {},
   "outputs": [
    {
     "name": "stdout",
     "output_type": "stream",
     "text": [
      "Now working with sample_model: bal400mix3 \n",
      " New output model will be named: Max_bal400mix3\n"
     ]
    }
   ],
   "source": [
    "## Set new variables here for temp model testing:\n",
    "feature_model = \"Max\"\n",
    "## Sample model options currently: bal400mix1 | bal400mix2 | bal400mix3\n",
    "sample_model = \"bal400mix3\"\n",
    "\n",
    "## The following will set themselves based on the above variables:\n",
    "classification_params['feature_model'] = feature_model\n",
    "classification_params['sample_model'] = sample_model\n",
    "classification_params['model_name'] = '{}_{}'.format(feature_model, sample_model)\n",
    "classification_params['samp_pix_vars'] = '{}/ptsgdb_{}.csv'.format(classification_params['model_dir'],feature_model)\n",
    "classification_params[\"samp_pts\"] = '/home/downspout-cel/paraguay_lc/classification/RF/sample_dfs/{}.csv'.format(sample_model)\n",
    "print('Now working with sample_model: {} \\n New output model will be named: {}'\n",
    "      .format(classification_params['sample_model'],classification_params['model_name']))"
   ]
  },
  {
   "cell_type": "markdown",
   "id": "8d081503-83b0-41d5-9202-2cb1be3cfb28",
   "metadata": {},
   "source": [
    "## Merge dataframes together"
   ]
  },
  {
   "cell_type": "code",
   "execution_count": 6,
   "id": "f7a567ea-f130-4b2c-8a82-f54243fe28a3",
   "metadata": {},
   "outputs": [
    {
     "name": "stdout",
     "output_type": "stream",
     "text": [
      "['Unnamed: 0', 'OID_', 'UNQ8858', 'Class', 'LC_UNQ', 'NOTES', 'YCoord', 'XCoord', 'SampMethod', 'PurePixel', 'FieldWidth', 'PureCrop', 'Date', 'Photo', 'surface', 'rand', 'TESTSET20', 'TESTSET10', 'UNQ8858.1', 'rand2', 'estrat', 'smlhld_1ha', 'smlhd_halfha', 'LC_UNQ_y', 'USE_NAME', 'LC25', 'perLC25E', 'LC25_name', 'ratios']\n",
      "sample breakdown by LC25 class:\n",
      "Trees-Forest         1711\n",
      "Grassland-Managed    1597\n",
      "Crops-Soybeans       1379\n",
      "Crops-mix            1210\n",
      "Mixed-VegEdge        1196\n",
      "Mixed-path           1183\n",
      "Grassland-Wet        1062\n",
      "Grassland-Natural     632\n",
      "Shrub                 494\n",
      "Trees-disturbed       429\n",
      "Crops-Yerba-Mate      410\n",
      "Grass_tree-mix        408\n",
      "TreePlant             407\n",
      "NoVeg_Water           401\n",
      "Crops-Rice            398\n",
      "NoVeg_Bare            397\n",
      "Crops-Sugar           369\n",
      "Crops-Banana          313\n",
      "Crops-Orchard         289\n",
      "NoVeg_Built           284\n",
      "Cleared               266\n",
      "Crops-Corn            244\n",
      "Trees-Forest_palm     213\n",
      "Burnt-woody            74\n",
      "Name: LC25_name, dtype: int64\n"
     ]
    }
   ],
   "source": [
    "lut=pd.read_csv('../Class_LUT.csv')\n",
    "#print(lut.sort_values('LC_UNQ')[['LC_UNQ','USE_NAME','LC25','LC25_name']])\n",
    "\n",
    "samp_pts = pd.read_csv(classification_params['samp_pts'])\n",
    "print(samp_pts.columns.tolist())\n",
    "#if mod_name == \"base1000\":\n",
    "#    samp_pts.rename(columns = {\"Unnamed: 0\": 'OID_'}, inplace = True)\n",
    "\n",
    "pix_vars = pd.read_csv(classification_params['samp_pix_vars'])\n",
    "#print(pix_vars.columns.tolist())\n",
    "\n",
    "pix_data = samp_pts.merge(pix_vars, left_on='OID_', right_on='OID_', how='inner')\n",
    "print('sample breakdown by LC25 class:')\n",
    "print(pix_data['LC25_name'].value_counts())\n",
    "\n",
    "#pixdf = pix_data.merge(lut, left_on='Class', right_on='USE_NAME', how='left')\n",
    "\n",
    "classification_params[\"pixdf\"] = pix_data\n",
    "#print(classification_params['pixdf'].columns.tolist())"
   ]
  },
  {
   "cell_type": "markdown",
   "id": "696938fd",
   "metadata": {},
   "source": [
    "## View the look up table\n",
    "These are the different LC_models to group things in classification and to translate between numerical map categories and text labels"
   ]
  },
  {
   "cell_type": "code",
   "execution_count": 7,
   "id": "01ad1ec9",
   "metadata": {},
   "outputs": [
    {
     "name": "stdout",
     "output_type": "stream",
     "text": [
      "    LC_UNQ            USE_NAME          Segmentation  LCTrans  \\\n",
      "0        1               NoVeg                 NoVeg        1   \n",
      "1        2          NoVeg_Bare                   NaN        2   \n",
      "2        3         NoVeg_Built                   NaN        3   \n",
      "3        7         NoVeg_Water                   NaN        7   \n",
      "4        9          Mixed-path                   NaN        9   \n",
      "5       10             Cleared                   NaN       10   \n",
      "6       11       TreePlant-new                   NaN       11   \n",
      "7       12   Grassland-Natural                   NaN       15   \n",
      "8       13   Grassland-Managed  LowVeg_grass_managed       15   \n",
      "9       15           Grassland          LowVeg_grass       15   \n",
      "10      17       Grassland-Wet                   NaN       15   \n",
      "11      18     Mixed-GrassEdge                   NaN       19   \n",
      "12      19     Mixed-FieldEdge                   NaN       19   \n",
      "13      20              LowVeg                LowVeg       20   \n",
      "14      23  Crops-horticulture                   NaN       35   \n",
      "15      30            Crop-Low       Crop_low_single       30   \n",
      "16      31      Crops-Soybeans                   NaN       30   \n",
      "17      32         Crops-Beans                   NaN       30   \n",
      "18      33          Crops-Corn                   NaN       30   \n",
      "19      34      Crops-Mandioca                   NaN       35   \n",
      "20      35           Crops-mix            Crop_mixed       35   \n",
      "21      36       Crops-Peanuts                   NaN       35   \n",
      "22      37          Crops-Rice                   NaN       30   \n",
      "23      38         Crops-Sugar                   NaN       30   \n",
      "24      40            Crop_Med              Crop_med       40   \n",
      "25      41      Crops-Vineyard     Crop_med_vineyard       40   \n",
      "26      42    Crops-Yerba-Mate   Crop_med_yerba-mate       40   \n",
      "27      43        Crops-Banana              Crop_med       40   \n",
      "28      45   Crops-Orchard-new                   NaN       11   \n",
      "29      46       Crops-Orchard      Crop_med_orchard       46   \n",
      "30      51      Grass_tree-mix                   NaN       52   \n",
      "31      52               Shrub        MedVeg_natural       52   \n",
      "32      56     TreePlant-young     MedVeg_plantation       56   \n",
      "33      58         Burnt-woody                   NaN       65   \n",
      "34      60           TreePlant    HighVeg_plantation       60   \n",
      "35      65          Trees-Open                   NaN       65   \n",
      "36      66    TreePlant-mature    HighVeg_plantation       66   \n",
      "37      67  Trees-Forest_decid                   NaN       80   \n",
      "38      68   Trees-Forest_palm                   NaN       68   \n",
      "39      80        Trees-Forest       HighVeg_natural       80   \n",
      "40      99             unknown                   NaN       99   \n",
      "\n",
      "         LCTrans_name LC5_name  LC5  LC25  perLC25E          LC25_name  LC3  \\\n",
      "0               NoVeg    NoVeg   10    99       NaN            unknown    0   \n",
      "1          NoVeg_Bare    NoVeg   10     2  0.005302         NoVeg_Bare    0   \n",
      "2         NoVeg_Built    NoVeg   10     3  0.003224        NoVeg_Built    0   \n",
      "3         NoVeg_Water    NoVeg   10     7  0.028044        NoVeg_Water    0   \n",
      "4          Mixed-path    NoVeg   10     9  0.012164         Mixed-path    0   \n",
      "5             Cleared   LowVeg   20    10  0.002787            Cleared    0   \n",
      "6           New_plant   LowVeg   20    11       NaN           NewPlant    0   \n",
      "7               Grass   LowVeg   20    12  0.074283  Grassland-Natural    0   \n",
      "8               Grass   LowVeg   20    13  0.183143  Grassland-Managed    0   \n",
      "9               Grass   LowVeg   20    99       NaN            unknown    0   \n",
      "10              Grass   LowVeg   20    17  0.157200      Grassland-Wet    0   \n",
      "11            VegEdge   LowVeg   20    19  0.015783      Mixed-VegEdge    0   \n",
      "12            VegEdge   LowVeg   20    19  0.015783      Mixed-VegEdge    0   \n",
      "13             LowVeg   LowVeg   20    99       NaN            unknown    0   \n",
      "14           Crop_mix   LowVeg   20    35  0.043938          Crops-mix    1   \n",
      "15           Crop_low   LowVeg   20    99       NaN            unknown    1   \n",
      "16           Crop_low   LowVeg   20    31  0.146893     Crops-Soybeans    1   \n",
      "17           Crop_low   LowVeg   20    35  0.043938          Crops-mix    1   \n",
      "18           Crop_low   LowVeg   20    33  0.001171         Crops-Corn    1   \n",
      "19           Crop_mix   LowVeg   20    35  0.043938          Crops-mix    1   \n",
      "20           Crop_mix   LowVeg   20    35  0.043938          Crops-mix    1   \n",
      "21           Crop_mix   LowVeg   20    35  0.043938          Crops-mix    1   \n",
      "22           Crop_low   LowVeg   20    37  0.014800         Crops-Rice    1   \n",
      "23           Crop_low   LowVeg   20    38  0.003007        Crops-Sugar    1   \n",
      "24         Crop_shrub   MedVeg   40    99       NaN            unknown    2   \n",
      "25         Crop_shrub   MedVeg   40    41       NaN     Crops-Vineyard    2   \n",
      "26         Crop_shrub   MedVeg   40    42  0.008308   Crops-Yerba-Mate    2   \n",
      "27         Crop_shrub   MedVeg   40    43  0.000939       Crops-Banana    2   \n",
      "28          New_plant   LowVeg   20    99       NaN            unknown    1   \n",
      "29          Crop_tree   MedVeg   40    46  0.001873      Crops-Orchard    2   \n",
      "30              Shrub   MedVeg   50    51  0.008193     Grass_tree-mix    0   \n",
      "31              Shrub   MedVeg   50    52  0.058986              Shrub    0   \n",
      "32        Young_plant   MedVeg   50    60  0.016314          TreePlant    0   \n",
      "33    Trees_disturbed   MedVeg   50    58  0.000818        Burnt-woody    0   \n",
      "34         Tree_plant  HighVeg   70    60  0.016314          TreePlant    0   \n",
      "35         Trees-open  HighVeg   70    65  0.014617    Trees-disturbed    0   \n",
      "36         Tree_plant  HighVeg   70    60  0.016314          TreePlant    0   \n",
      "37       Trees-Forest  HighVeg   70    80  0.195441       Trees-Forest    0   \n",
      "38  Trees-Palm_closed  HighVeg   70    68  0.002773  Trees-Forest_palm    0   \n",
      "39       Trees_Forest  HighVeg   70    80  0.195441       Trees-Forest    0   \n",
      "40            unknown  unknown   99    99       NaN            unknown   99   \n",
      "\n",
      "   LC3_name  LC4 LC4_name  LC2 LC2_name  LC_crops    LC_crops_name  \n",
      "0    nocrop    0   nocrop    0   nocrop        10         Not crop  \n",
      "1    nocrop    0   nocrop    0   nocrop        10         Not crop  \n",
      "2    nocrop    0   nocrop    0   nocrop        10         Not crop  \n",
      "3    nocrop    0   nocrop    0   nocrop        10         Not crop  \n",
      "4    nocrop    0   nocrop    0   nocrop        10         Not crop  \n",
      "5    nocrop    0   nocrop    0   nocrop        10         Not crop  \n",
      "6    nocrop    0   nocrop    0   nocrop        10         Not crop  \n",
      "7    nocrop    0   nocrop    0   nocrop        10         Not crop  \n",
      "8    nocrop    0   nocrop    0   nocrop        10         Not crop  \n",
      "9    nocrop    0   nocrop    0   nocrop        10         Not crop  \n",
      "10   nocrop    0   nocrop    0   nocrop        10         Not crop  \n",
      "11   nocrop    0   nocrop    0   nocrop        10         Not crop  \n",
      "12   nocrop    0   nocrop    0   nocrop        10         Not crop  \n",
      "13   nocrop    0   nocrop    0   nocrop        10         Not crop  \n",
      "14     crop    1     crop    1     crop        23     Horticulture  \n",
      "15     crop    1     crop    1     crop        10    Crops-unknown  \n",
      "16     crop    1     crop    1     crop        31         Soybeans  \n",
      "17     crop    1     crop    1     crop        35  Smallholder mix  \n",
      "18     crop    1     crop    1     crop        33             Corn  \n",
      "19     crop    1     crop    1     crop        35  Smallholder mix  \n",
      "20     crop    1     crop    1     crop        35  Smallholder mix  \n",
      "21     crop    1     crop    1     crop        35  Smallholder mix  \n",
      "22     crop    1     crop    1     crop        37             Rice  \n",
      "23     crop    1     crop    1     crop        38            Sugar  \n",
      "24  medcrop    2  medcrop    1     crop        40      Shrub crops  \n",
      "25  medcrop    2  medcrop    1     crop        40      Shrub crops  \n",
      "26  medcrop    2  medcrop    1     crop        40      Shrub crops  \n",
      "27  medcrop    2  medcrop    1     crop        40      Shrub crops  \n",
      "28     crop    1     crop    1     crop        45       Tree crops  \n",
      "29  medcrop    2  medcrop    1     crop        50       Tree crops  \n",
      "30   nocrop    0   nocrop    0   nocrop        10         Not crop  \n",
      "31   nocrop    0   nocrop    0   nocrop        10         Not crop  \n",
      "32   nocrop    0   nocrop    0   nocrop        10         Not crop  \n",
      "33   nocrop    0   nocrop    0   nocrop        10         Not crop  \n",
      "34   nocrop    3     tree    0   nocrop        10         Not crop  \n",
      "35   nocrop    3     tree    0   nocrop        10         Not crop  \n",
      "36   nocrop    3     tree    0   nocrop        10         Not crop  \n",
      "37   nocrop    3     tree    0   nocrop        10         Not crop  \n",
      "38   nocrop    3     tree    0   nocrop        10         Not crop  \n",
      "39   nocrop    3     tree    0   nocrop        10         Not crop  \n",
      "40  unknown   99  unknown   99  unknown        99          unknown  \n"
     ]
    }
   ],
   "source": [
    "lut=pd.read_csv('../Class_LUT.csv')\n",
    "lut.drop(['Description'], axis=1, inplace=True)\n",
    "\n",
    "print(lut.sort_values('LC_UNQ'))"
   ]
  },
  {
   "cell_type": "markdown",
   "id": "ced2658d",
   "metadata": {},
   "source": [
    "## get sample dataframe:\n",
    " pixdf is the combination of the sample point file and variable stack for those points (pix_vars).\n",
    " This is created in notebooks 6a and 6b."
   ]
  },
  {
   "cell_type": "code",
   "execution_count": 20,
   "id": "04f7a074",
   "metadata": {},
   "outputs": [],
   "source": [
    "\"\"\"print(classification_params['pixdf'])\n",
    "pixdf = pd.read_csv(classification_params['pixdf'])\n",
    "#pixdf = pixdf.dropna(inplace = True)\n",
    "#print(pixdf)\n",
    "#print(pixdf.isnull().any().any())\n",
    "print('sample breakdown by {}:'.format(classification_params['lc_mod']))\n",
    "label_col, new_lut = get_class_col(classification_params['lc_mod'], lut)\n",
    "if '{}_name'.format(label_col) in pixdf.columns:\n",
    "    print(pixdf['{}_name'.format(label_col)].value_counts())\n",
    "else:\n",
    "    pixdf2 = pixdf.merge(new_lut[['USE_NAME','{}'.format(label_col),'{}_name'.format(label_col)]], left_on='Class', right_on='USE_NAME', how='left')\n",
    "    print(pixdf2['{}_name'.format(label_col)].value_counts())\"\"\";"
   ]
  },
  {
   "cell_type": "markdown",
   "id": "b44e7ae8",
   "metadata": {},
   "source": [
    "## create rf model\n",
    "this uses the multiclass RandomForestClassifier method from sklearn.ensemble (code is in ../LUCinSA_helpers/rf.py)\n",
    "\n",
    "To use a different classification model, change 'lc_mod' in the parameters and rerun\n",
    "current models = ('All' | 'trans_cats\" | 'crop_nocrop' | 'crop_nocrop_medcrop' | 'crop_nocrop_medcrop_tree' | 'veg' | 'cropType' or 'single_X' (where X is any unique string in the USE_NAME column) for binary classification of X vs all else) "
   ]
  },
  {
   "cell_type": "code",
   "execution_count": 8,
   "id": "61eca1f2",
   "metadata": {},
   "outputs": [
    {
     "name": "stdout",
     "output_type": "stream",
     "text": [
      "class_col = LC25\n",
      "there are 15366 pts in the full data set\n",
      "there are 15366 sample points after removing those without clear class\n",
      "There are 12648 training features\n",
      "Out-of-bag score estimate: 0.662\n",
      "Mean accuracy score: 0.646\n",
      "getting confusion matrix based on LC25...\n",
      "number of holdout pixels = 2718\n"
     ]
    }
   ],
   "source": [
    "rf0 = rf_model(classification_params['pixdf'],\n",
    "         classification_params['model_dir'],\n",
    "         classification_params['lc_mod'],\n",
    "         classification_params['impmeth'],\n",
    "         classification_params['ranhold'],\n",
    "         classification_params['model_name'],\n",
    "         lut)"
   ]
  },
  {
   "cell_type": "markdown",
   "id": "d07d87ac",
   "metadata": {},
   "source": [
    "## view confusion matrices\n",
    "Note parameters: (pred_col, obs_col, lut, lc_mod_map, lc_mod_acc, print_cm=False, out_dir=None, model_name=None)\n",
    "To print cm to csv file, change print_cm to True and provide an out_dir and model_Name"
   ]
  },
  {
   "cell_type": "code",
   "execution_count": 10,
   "id": "68f1e3e3",
   "metadata": {},
   "outputs": [
    {
     "name": "stdout",
     "output_type": "stream",
     "text": [
      "getting confusion matrix based on LC2...\n",
      "getting confusion matrix based on LC_crops...\n",
      "getting confusion matrix based on LC5...\n",
      "getting confusion matrix based on LC25...\n",
      "pred_reclass  crop  nocrop   All  correct  sumcol        UA        PA\n",
      "obs_reclass                                                          \n",
      "crop           727     154   881      727     830  0.825199  0.875904\n",
      "nocrop         103    1734  1837     1734    1888  0.943930  0.918432\n",
      "All            830    1888  2718     2718    2718  1.000000  1.000000\n",
      "Done!\n"
     ]
    }
   ],
   "source": [
    "out_dir = os.path.join(classification_params['local_dir']/'cms')\n",
    "\n",
    "cm_cropNoCrop = get_confusion_matrix(rf0[1]['pred'],rf0[1]['label'],lut,classification_params['lc_mod'],'cropNoCrop',True, os.path.join(out_dir,'cropNoCrop_cms'),classification_params['model_name'])\n",
    "cm_cropType = get_confusion_matrix(rf0[1]['pred'],rf0[1]['label'],lut,classification_params['lc_mod'],'cropType',True,os.path.join(out_dir,'cropType_cms'),classification_params['model_name'])\n",
    "cm_veg = get_confusion_matrix(rf0[1]['pred'],rf0[1]['label'],lut,classification_params['lc_mod'],'veg',True,os.path.join(out_dir,'veg_cms'),classification_params['model_name'])\n",
    "cm_all = get_confusion_matrix(rf0[1]['pred'],rf0[1]['label'],lut,classification_params['lc_mod'],'all',True,os.path.join(out_dir,'all_cms'),classification_params['model_name'])\n",
    "#cm_single = get_confusion_matrix(rf0[1]['pred'],rf0[1]['label'],lut,classification_params['lc_mod'],classification_params['lc_mod'],False,classification_params['local_model_dir'],None)\n",
    "\n",
    "print(cm_cropNoCrop)\n",
    "#print(cm_cropType)\n",
    "#print(cm_veg)\n",
    "#print(cm_all)\n",
    "#print(cm_single)\n",
    "\n",
    "print(\"Done!\")"
   ]
  },
  {
   "cell_type": "markdown",
   "id": "e071eca7",
   "metadata": {},
   "source": [
    "## view variable importance\n",
    "this can be computed via Impurity or Permutation method (see sklearn docs)  by setting impmeth in rf_model\n",
    "The full list is stored in the model directory for further manipulation "
   ]
  },
  {
   "cell_type": "code",
   "execution_count": 11,
   "id": "3ac864cf",
   "metadata": {},
   "outputs": [
    {
     "data": {
      "text/html": [
       "<div>\n",
       "<style scoped>\n",
       "    .dataframe tbody tr th:only-of-type {\n",
       "        vertical-align: middle;\n",
       "    }\n",
       "\n",
       "    .dataframe tbody tr th {\n",
       "        vertical-align: top;\n",
       "    }\n",
       "\n",
       "    .dataframe thead th {\n",
       "        text-align: right;\n",
       "    }\n",
       "</style>\n",
       "<table border=\"1\" class=\"dataframe\">\n",
       "  <thead>\n",
       "    <tr style=\"text-align: right;\">\n",
       "      <th></th>\n",
       "      <th>var</th>\n",
       "      <th>imp</th>\n",
       "    </tr>\n",
       "  </thead>\n",
       "  <tbody>\n",
       "    <tr>\n",
       "      <th>110</th>\n",
       "      <td>var_poly_pred_dst</td>\n",
       "      <td>0.026115</td>\n",
       "    </tr>\n",
       "    <tr>\n",
       "      <th>109</th>\n",
       "      <td>var_poly_pred_ext</td>\n",
       "      <td>0.021364</td>\n",
       "    </tr>\n",
       "    <tr>\n",
       "      <th>132</th>\n",
       "      <td>var_kndvi_minv_wet</td>\n",
       "      <td>0.016037</td>\n",
       "    </tr>\n",
       "    <tr>\n",
       "      <th>133</th>\n",
       "      <td>var_kndvi_med_wet</td>\n",
       "      <td>0.014860</td>\n",
       "    </tr>\n",
       "    <tr>\n",
       "      <th>58</th>\n",
       "      <td>var_kndvi_avg_yr</td>\n",
       "      <td>0.013169</td>\n",
       "    </tr>\n",
       "    <tr>\n",
       "      <th>112</th>\n",
       "      <td>var_poly_pred_APR</td>\n",
       "      <td>0.012896</td>\n",
       "    </tr>\n",
       "    <tr>\n",
       "      <th>111</th>\n",
       "      <td>var_poly_pred_area</td>\n",
       "      <td>0.012297</td>\n",
       "    </tr>\n",
       "    <tr>\n",
       "      <th>40</th>\n",
       "      <td>var_wi_avg_yr</td>\n",
       "      <td>0.012250</td>\n",
       "    </tr>\n",
       "    <tr>\n",
       "      <th>68</th>\n",
       "      <td>var_kndvi_Aug_20</td>\n",
       "      <td>0.011491</td>\n",
       "    </tr>\n",
       "    <tr>\n",
       "      <th>67</th>\n",
       "      <td>var_kndvi_Jul_20</td>\n",
       "      <td>0.011139</td>\n",
       "    </tr>\n",
       "  </tbody>\n",
       "</table>\n",
       "</div>"
      ],
      "text/plain": [
       "                    var       imp\n",
       "110   var_poly_pred_dst  0.026115\n",
       "109   var_poly_pred_ext  0.021364\n",
       "132  var_kndvi_minv_wet  0.016037\n",
       "133   var_kndvi_med_wet  0.014860\n",
       "58     var_kndvi_avg_yr  0.013169\n",
       "112   var_poly_pred_APR  0.012896\n",
       "111  var_poly_pred_area  0.012297\n",
       "40        var_wi_avg_yr  0.012250\n",
       "68     var_kndvi_Aug_20  0.011491\n",
       "67     var_kndvi_Jul_20  0.011139"
      ]
     },
     "execution_count": 11,
     "metadata": {},
     "output_type": "execute_result"
    }
   ],
   "source": [
    "var_imp_path = os.path.join(classification_params['model_dir'],'VarImportance_{}.csv'.format(classification_params['model_name']))\n",
    "var_imp = pd.read_csv(var_imp_path, names=['var','imp'], header=None)\n",
    "## view 10 most important variables:\n",
    "var_imp.sort_values('imp', ascending=False).head(10)"
   ]
  },
  {
   "cell_type": "code",
   "execution_count": 15,
   "id": "f952f86c-f763-49b6-9a13-0f6bd8fa4a2e",
   "metadata": {},
   "outputs": [],
   "source": [
    "def get_smallholder(rf_mod, one = False, half = False):\n",
    "    rf_mod = pd.DataFrame(rf_mod)\n",
    "    if one == True: #decide if you want to do 1ha or halfha\n",
    "        smalls = rf_mod.loc[rf_mod['smalls_1ha'] == 1]\n",
    "        print('There are {} 1ha smallholder samples in the holdout.'.format(smalls.shape[0]))\n",
    "    elif half == True: \n",
    "        smalls = rf_mod.loc[rf_mod['smalls_halfha'] == 1]\n",
    "        print('There are {} half-ha smallholder samples in the holdout.'.format(smalls.shape[0]))\n",
    "    \n",
    "    return smalls\n",
    "\n",
    "def small_acc(rf_mod, one = False, half = False):\n",
    "    if one == True:\n",
    "        one_ha = get_smallholder(rf_mod[1], one = True) # df for 1_ha smallholder ag\n",
    "        one_ha_cropNoCrop = get_confusion_matrix(one_ha['pred'], one_ha['label'],lut,classification_params['lc_mod'],'cropNoCrop',False,classification_params['model_dir'],None)\n",
    "        return one_ha_cropNoCrop.head(1)[\"crop\"]/one_ha_cropNoCrop.head(1)[\"All\"]\n",
    "    \n",
    "    if half == True:\n",
    "        half_ha = get_smallholder(rf_mod[1], half = True) # df for half_ha smallholder ag\n",
    "        half_ha_cropNoCrop = get_confusion_matrix(half_ha['pred'], half_ha['label'],lut,classification_params['lc_mod'],'cropNoCrop',False,classification_params['model_dir'],None)\n",
    "        return half_ha_cropNoCrop.head(1)[\"crop\"]/half_ha_cropNoCrop.head(1)[\"All\"]\n"
   ]
  },
  {
   "cell_type": "code",
   "execution_count": 34,
   "id": "d0b9754b-2120-453d-9a7a-97c063df2936",
   "metadata": {},
   "outputs": [
    {
     "name": "stdout",
     "output_type": "stream",
     "text": [
      "There are 421 1ha smallholder samples in the holdout.\n",
      "getting confusion matrix based on LC2...\n",
      "There are 339 half-ha smallholder samples in the holdout.\n",
      "getting confusion matrix based on LC2...\n",
      "            Model        UA      PA      1_ha  half_ha  No. of Obs.\n",
      "0  Max_bal400mix1  0.921591  0.9391  0.747253     0.75        12917\n",
      "            Model        UA        PA  No. of Obs.\n",
      "0  Max_bal400mix1  0.623538  0.764432        12917\n",
      "            Model        UA       PA  No. of Obs.\n",
      "0  Max_bal400mix1  0.809559  0.85365        12917\n",
      "            Model        UA        PA  No. of Obs.\n",
      "0  Max_bal400mix1  0.552358  0.648255        12917\n"
     ]
    }
   ],
   "source": [
    "## take the cms and find take the averages of the UAs and PAs\n",
    "'''\n",
    "# only run this section once to create the csvs and then comment out\n",
    "feature_model = classification_params['feature_model']\n",
    "sample_model = classification_params['sample_model']\n",
    "model_name = classification_params['model_name']\n",
    "out_dir = os.path.join(classification_params['local_dir'],'cms')\n",
    "\n",
    "cropNoCrop_metrics = pd.DataFrame({\"Model\": [\"{}\".format(model_name)],\n",
    "                             \"UA\": [wave(os.path.join(out_dir,'cropNoCrop_cms','{}_cropNoCrop.csv'.format(model_name)), uacc = True)],\n",
    "                             \"PA\": [wave(os.path.join(out_dir,'cropNoCrop_cms','{}_cropNoCrop.csv'.format(model_name)), pacc = True)],\n",
    "                             \"1_ha\": [small_acc(rf0, one = True)[0]], #create a new function that uses the smallholder rf outputs in a useful manner\n",
    "                             \"half_ha\": [small_acc(rf0, half = True)[0]],\n",
    "                             \"No. of Obs.\": [len(classification_params[\"pixdf\"][\"LC25_name\"])]})\n",
    "cropType_metrics = pd.DataFrame({\"Model\": [\"{}\".format(model_name)],\n",
    "                             \"UA\": [wave(os.path.join(out_dir,'cropType_cms','{}_cropType.csv'.format(model_name)), uacc = True)],\n",
    "                             \"PA\": [wave(os.path.join(out_dir,'cropType_cms','{}_cropType.csv'.format(model_name)), pacc = True)],\n",
    "                             \"No. of Obs.\": [len(classification_params[\"pixdf\"][\"LC25_name\"])]})\n",
    "veg_metrics = pd.DataFrame({\"Model\": [\"{}\".format(model_name)],\n",
    "                             \"UA\": [wave(os.path.join(out_dir,'veg_cms','{}_veg.csv'.format(model_name)), uacc = True)],\n",
    "                             \"PA\": [wave(os.path.join(out_dir,'veg_cms','{}_veg.csv'.format(model_name)), pacc = True)],\n",
    "                             \"No. of Obs.\": [len(classification_params[\"pixdf\"][\"LC25_name\"])]})\n",
    "all_metrics = pd.DataFrame({\"Model\": [\"{}\".format(model_name)],\n",
    "                             \"UA\": [wave(os.path.join(out_dir,'all_cms','{}_all.csv'.format(model_name)), uacc = True)],\n",
    "                             \"PA\": [wave(os.path.join(out_dir,'all_cms','{}_all.csv'.format(model_name)), pacc = True)],\n",
    "                             \"No. of Obs.\": [len(classification_params[\"pixdf\"][\"LC25_name\"])]})\n",
    "\n",
    "print(cropNoCrop_metrics)\n",
    "print(cropType_metrics)\n",
    "print(veg_metrics)\n",
    "print(all_metrics)\n",
    "\n",
    "types = [\"cropNoCrop\", \"cropType\", \"veg\", \"all\"] \n",
    "matrics = [cropNoCrop_metrics, cropType_metrics, veg_metrics, all_metrics]\n",
    "\n",
    "#saves the cms to the /testing/metrics folder\n",
    "for idx, i in enumerate(types):\n",
    "    matrics[idx].to_csv(os.path.join(out_dir,'metrics','{}_metrics.csv'.format(i)))\n",
    "'''"
   ]
  },
  {
   "cell_type": "code",
   "execution_count": 13,
   "id": "f23d883f-f948-46be-b4f1-a0e62d29616c",
   "metadata": {},
   "outputs": [],
   "source": [
    "# open the csvs and add a new row with the new data\n",
    "\n",
    "def new_wave(cm_path, stored_path, model_name):\n",
    "    stored = pd.read_csv(stored_path, index_col = 0)\n",
    "    new_data = pd.DataFrame({\"Model\": [model_name],\n",
    "                             \"UA\": [wave(cm_path, uacc = True)],\n",
    "                             \"PA\": [wave(cm_path, pacc = True)],\n",
    "                             \"1_ha\": [small_acc(rf0, one = True)[0]],\n",
    "                             \"half_ha\": [small_acc(rf0, half = True)[0]],\n",
    "                             \"No. of Obs.\": [len(classification_params[\"pixdf\"][\"LC25_name\"])]})\n",
    "    #print(stored.reset_index(drop=True))\n",
    "    #print(new_data.reset_index(drop=True))\n",
    "    stored = pd.concat([stored.reset_index(drop = True), new_data.reset_index(drop = True)], ignore_index = True)\n",
    "    return stored\n"
   ]
  },
  {
   "cell_type": "code",
   "execution_count": 16,
   "id": "85bf4982-839d-46fb-9b3c-0697c705a451",
   "metadata": {},
   "outputs": [
    {
     "name": "stdout",
     "output_type": "stream",
     "text": [
      "There are 549 1ha smallholder samples in the holdout.\n",
      "getting confusion matrix based on LC2...\n",
      "There are 464 half-ha smallholder samples in the holdout.\n",
      "getting confusion matrix based on LC2...\n",
      "            Model        UA        PA      1_ha   half_ha  No. of Obs.\n",
      "0  Max_bal400mix1  0.921591  0.939100  0.747253  0.750000        12917\n",
      "1  Max_bal400mix1  0.921591  0.939100  0.747253  0.750000        12917\n",
      "2  Max_bal400mix2  0.921588  0.934688  0.771429  0.764045        14142\n",
      "3  Max_bal400mix3  0.923043  0.931445  0.781955  0.780702        15366\n",
      "There are 549 1ha smallholder samples in the holdout.\n",
      "getting confusion matrix based on LC2...\n",
      "There are 464 half-ha smallholder samples in the holdout.\n",
      "getting confusion matrix based on LC2...\n",
      "            Model        UA        PA  No. of Obs.      1_ha   half_ha\n",
      "0  Max_bal400mix1  0.623538  0.764432        12917       NaN       NaN\n",
      "1  Max_bal400mix1  0.623538  0.764432        12917  0.747253  0.750000\n",
      "2  Max_bal400mix2  0.696597  0.773772        14142  0.771429  0.764045\n",
      "3  Max_bal400mix3  0.693463  0.783999        15366  0.781955  0.780702\n",
      "There are 549 1ha smallholder samples in the holdout.\n",
      "getting confusion matrix based on LC2...\n",
      "There are 464 half-ha smallholder samples in the holdout.\n",
      "getting confusion matrix based on LC2...\n",
      "            Model        UA        PA  No. of Obs.      1_ha   half_ha\n",
      "0  Max_bal400mix1  0.809559  0.853650        12917       NaN       NaN\n",
      "1  Max_bal400mix1  0.809559  0.853650        12917  0.747253  0.750000\n",
      "2  Max_bal400mix2  0.801867  0.842165        14142  0.771429  0.764045\n",
      "3  Max_bal400mix3  0.794971  0.835051        15366  0.781955  0.780702\n",
      "There are 549 1ha smallholder samples in the holdout.\n",
      "getting confusion matrix based on LC2...\n",
      "There are 464 half-ha smallholder samples in the holdout.\n",
      "getting confusion matrix based on LC2...\n",
      "            Model        UA        PA  No. of Obs.      1_ha   half_ha\n",
      "0  Max_bal400mix1  0.552358  0.648255        12917       NaN       NaN\n",
      "1  Max_bal400mix1  0.552358  0.648255        12917  0.747253  0.750000\n",
      "2  Max_bal400mix2  0.586059  0.662591        14142  0.771429  0.764045\n",
      "3  Max_bal400mix3  0.588504  0.674406        15366  0.781955  0.780702\n"
     ]
    }
   ],
   "source": [
    "out_dir = os.path.join(classification_params['local_dir'],'cms')\n",
    "types = [\"cropNoCrop\", \"cropType\", \"veg\", \"all\"]\n",
    "mats = [cm_cropNoCrop, cm_cropType, cm_veg, cm_all]\n",
    "\n",
    "#updates the metric csvs in /testing/metrics folder\n",
    "for idx, i in enumerate(types):\n",
    "    mats[idx] = new_wave(os.path.join(out_dir,'{}_cms'.format(i),'{}_{}.csv'.format(classification_params['model_name'], i)), \n",
    "                os.path.join(out_dir,'metrics','{}_metrics.csv'.format(i)),classification_params['model_name'])\n",
    "    mats[idx].to_csv(os.path.join(out_dir,'metrics','{}_metrics.csv'.format(i)))\n",
    "    print(mats[idx])\n"
   ]
  },
  {
   "cell_type": "code",
   "execution_count": 592,
   "id": "967f6bff-e3ef-48df-b9ce-f7960d02e80e",
   "metadata": {},
   "outputs": [
    {
     "data": {
      "text/plain": [
       "'\\ntypes = [\"cropNoCrop\", \"cropType\", \"veg\", \"all\"]\\n\\ndelrow = 0\\nfor i in types:\\n    mat = pd.read_csv(\"/home/ryanashraf/LUCinSA_helpers/testing/metrics/{}_metrics.csv\".format(i), index_col = 0)\\n    \\n    mat = mat.drop([delrow])\\n    print(mat)\\n    mat.to_csv(\"/home/ryanashraf/LUCinSA_helpers/testing/metrics/{}_metrics.csv\".format(i))\\n'"
      ]
     },
     "execution_count": 592,
     "metadata": {},
     "output_type": "execute_result"
    }
   ],
   "source": [
    "## use this to remove certain rows from the dfs that you do not want anymore\n",
    "\n",
    "\"\"\"\n",
    "types = [\"cropNoCrop\", \"cropType\", \"veg\", \"all\"]\n",
    "\n",
    "delrow = 0\n",
    "for i in types:\n",
    "    mat = pd.read_csv(\"/home/ryanashraf/LUCinSA_helpers/testing/metrics/{}_metrics.csv\".format(i), index_col = 0)\n",
    "    \n",
    "    mat = mat.drop([delrow])\n",
    "    print(mat)\n",
    "    mat.to_csv(\"/home/ryanashraf/LUCinSA_helpers/testing/metrics/{}_metrics.csv\".format(i))\n",
    "\"\"\"\n"
   ]
  },
  {
   "cell_type": "code",
   "execution_count": 17,
   "id": "4dbbf490-2c7b-4c04-9762-ebd9b24af303",
   "metadata": {},
   "outputs": [],
   "source": [
    "def overall_wave(cnc_metrics, ct_path, model_name):\n",
    "    \n",
    "    # iterate through rows of the CNC_metrics dataframe\n",
    "    cnc = pd.read_csv(cnc_metrics, index_col = 0)\n",
    "    cnc_partial = cnc[cnc[\"Model\"] == model_name]\n",
    "\n",
    "    # now deal with the CT matrix\n",
    "    ct = pd.read_csv(ct_path, index_col = 0)\n",
    "    ct_partial = [wave(ct_path, uacc = True, weights = \"CT\"), wave(ct_path, pacc = True, weights = \"CT\")]\n",
    "    \n",
    "    cnc_partial = [cnc_partial[\"UA\"], cnc_partial[\"PA\"], cnc_partial[\"1_ha\"], cnc_partial[\"half_ha\"]]\n",
    "    #print(cnc_partial)\n",
    "    #print(ct_partial)\n",
    "\n",
    "    overall_metrics = pd.DataFrame({\"Model\": [\"{}\".format(model_name)],\n",
    "                             \"UA\": [(2 * cnc_partial[0] + ct_partial[0])/3],\n",
    "                             \"PA\": [(2 * cnc_partial[1] + ct_partial[1])/3],\n",
    "                             \"1_ha\": [cnc_partial[2]],\n",
    "                             \"half_ha\": [cnc_partial[3]],\n",
    "                             \"No. of Obs.\": [len(classification_params[\"pixdf\"][\"LC25_name\"])]})\n",
    "    return overall_metrics\n"
   ]
  },
  {
   "cell_type": "code",
   "execution_count": 18,
   "id": "1b02f429-7c10-470e-8951-055a5d2975a4",
   "metadata": {},
   "outputs": [
    {
     "name": "stdout",
     "output_type": "stream",
     "text": [
      "            Model                                      UA  \\\n",
      "0  Max_bal400mix3  3    0.846758\n",
      "Name: UA, dtype: float64   \n",
      "\n",
      "                                       PA  \\\n",
      "0  3    0.871778\n",
      "Name: PA, dtype: float64   \n",
      "\n",
      "                                       1_ha  \\\n",
      "0  3    0.781955\n",
      "Name: 1_ha, dtype: float64   \n",
      "\n",
      "                                       half_ha  No. of Obs.  \n",
      "0  3    0.780702\n",
      "Name: half_ha, dtype: float64        15366  \n"
     ]
    }
   ],
   "source": [
    "out_dir = os.path.join(classification_params['local_dir'],'cms')\n",
    "print(overall_wave(os.path.join(out_dir,'metrics','cropNoCrop_metrics.csv'), \n",
    "                        os.path.join(out_dir,'cropType_cms','{}_cropType.csv'.format(classification_params['model_name'])), \n",
    "                        classification_params['model_name']))"
   ]
  },
  {
   "cell_type": "code",
   "execution_count": 42,
   "id": "9b9a3d86-576c-4878-8ced-314cfe25a490",
   "metadata": {},
   "outputs": [],
   "source": [
    "## create the baseline for the new overall metrics, once again comment this code out after running it for the first time\n",
    "'''\n",
    "overall = overall_wave(os.path.join(out_dir,'metrics','cropNoCrop_metrics.csv'), \n",
    "             os.path.join(out_dir,'cropType_cms','{}_cropType.csv'.format(classification_params['model_name'])),\n",
    "                       classification_params['model_name'])\n",
    "overall.to_csv(os.path.join(out_dir,'metrics','overall_metrics.csv'))\n",
    "'''"
   ]
  },
  {
   "cell_type": "code",
   "execution_count": 19,
   "id": "b844285e-4796-408d-963d-233a5a7a063a",
   "metadata": {},
   "outputs": [
    {
     "name": "stdout",
     "output_type": "stream",
     "text": [
      "            Model                                                 UA  \\\n",
      "0  Max_bal400mix1  0    0.812848\\n1    0.812848\\nName: UA, dtype:...   \n",
      "1  Max_bal400mix1  0    0.812848\\n1    0.812848\\nName: UA, dtype:...   \n",
      "2  Max_bal400mix2            2    0.844101\\nName: UA, dtype: float64   \n",
      "3  Max_bal400mix3             3    0.846758\n",
      "Name: UA, dtype: float64   \n",
      "\n",
      "                                                  PA  \\\n",
      "0  0    0.870651\\n1    0.870651\\nName: PA, dtype:...   \n",
      "1  0    0.870651\\n1    0.870651\\nName: PA, dtype:...   \n",
      "2            2    0.870507\\nName: PA, dtype: float64   \n",
      "3             3    0.871778\n",
      "Name: PA, dtype: float64   \n",
      "\n",
      "                                                1_ha  \\\n",
      "0  0    0.747253\\n1    0.747253\\nName: 1_ha, dtyp...   \n",
      "1  0    0.747253\\n1    0.747253\\nName: 1_ha, dtyp...   \n",
      "2          2    0.771429\\nName: 1_ha, dtype: float64   \n",
      "3           3    0.781955\n",
      "Name: 1_ha, dtype: float64   \n",
      "\n",
      "                                             half_ha  No. of Obs.  \n",
      "0  0    0.75\\n1    0.75\\nName: half_ha, dtype: fl...        12917  \n",
      "1  0    0.75\\n1    0.75\\nName: half_ha, dtype: fl...        12917  \n",
      "2       2    0.764045\\nName: half_ha, dtype: float64        14142  \n",
      "3        3    0.780702\n",
      "Name: half_ha, dtype: float64        15366  \n"
     ]
    }
   ],
   "source": [
    "## add new rows to the overall_metrics csv\n",
    "\n",
    "stored = pd.read_csv(os.path.join(out_dir,'metrics','overall_metrics.csv'), index_col = 0)\n",
    "new_data = overall_wave(os.path.join(out_dir,'metrics','cropNoCrop_metrics.csv'), \n",
    "                        os.path.join(out_dir,'cropType_cms','{}_cropType.csv'.format(classification_params['model_name'])), \n",
    "                       classification_params['model_name'])\n",
    "#print(stored.reset_index(drop=True))\n",
    "#print(new_data.reset_index(drop=True))\n",
    "stored = pd.concat([stored.reset_index(drop = True), new_data.reset_index(drop = True)], ignore_index = True)\n",
    "print(stored)\n",
    "stored.to_csv(os.path.join(out_dir,'metrics','overall_metrics.csv'))"
   ]
  },
  {
   "cell_type": "code",
   "execution_count": 597,
   "id": "5b86fb73-5c9b-4e74-9b73-f8fc823fc263",
   "metadata": {},
   "outputs": [
    {
     "data": {
      "text/plain": [
       "'\\ndelrow = 16\\nmat = pd.read_csv(\"/home/ryanashraf/LUCinSA_helpers/testing/metrics/overall_metrics.csv\", index_col = 0)\\nmat = mat.drop([delrow])\\nprint(mat)\\nmat.to_csv(\"/home/ryanashraf/LUCinSA_helpers/testing/metrics/overall_metrics.csv\")\\n'"
      ]
     },
     "execution_count": 597,
     "metadata": {},
     "output_type": "execute_result"
    }
   ],
   "source": [
    "## use this to remove certain rows from the df that you do not want anymore\n",
    "\n",
    "\"\"\"\n",
    "delrow = 16\n",
    "mat = pd.read_csv(\"/home/ryanashraf/LUCinSA_helpers/testing/metrics/overall_metrics.csv\", index_col = 0)\n",
    "mat = mat.drop([delrow])\n",
    "print(mat)\n",
    "mat.to_csv(\"/home/ryanashraf/LUCinSA_helpers/testing/metrics/overall_metrics.csv\")\n",
    "\"\"\"\n"
   ]
  },
  {
   "cell_type": "markdown",
   "id": "b78c30f8-b1d5-44e8-a856-5e3e4a897b7a",
   "metadata": {},
   "source": [
    "## Make some tables that organize the data cleanly"
   ]
  },
  {
   "cell_type": "code",
   "execution_count": 21,
   "id": "a777bbdd-17e3-4bd6-bbd4-e53e3fdf0e11",
   "metadata": {},
   "outputs": [
    {
     "name": "stdout",
     "output_type": "stream",
     "text": [
      "Empty DataFrame\n",
      "Columns: []\n",
      "Index: []\n"
     ]
    }
   ],
   "source": [
    "## Organize all of the models that exclude poly_pred variables\n",
    "\n",
    "key_word = \"Max_no_pp_\"\n",
    "model_name = classification_params['model_name']\n",
    "\n",
    "stored = pd.read_csv(os.path.join(out_dir,'metrics','overall_metrics.csv'), index_col = 0)\n",
    "tab = []\n",
    "for i in stored.iterrows():\n",
    "    if i[1][\"Model\"] == \"Max_{}\".format(model_name):\n",
    "        tab.append(i[1])\n",
    "    if i[1][\"Model\"].startswith(key_word):\n",
    "        tab.append(i[1])\n",
    "\n",
    "tab = pd.DataFrame(tab)\n",
    "print(tab)\n"
   ]
  },
  {
   "cell_type": "code",
   "execution_count": 599,
   "id": "942115ee-4d19-4a6f-ac58-774c24bedd02",
   "metadata": {},
   "outputs": [],
   "source": [
    "## \n",
    "\n",
    "\n"
   ]
  },
  {
   "cell_type": "code",
   "execution_count": 600,
   "id": "ae950239-e398-4523-abf3-1dd02ea6c7a9",
   "metadata": {},
   "outputs": [],
   "source": [
    "## some cool graphs of the data you could have compiled\n",
    "\n",
    "\n",
    "\n",
    "\n",
    "\n",
    "\n"
   ]
  },
  {
   "cell_type": "markdown",
   "id": "d9a9d11e",
   "metadata": {},
   "source": [
    "## To save an html copy of this notebook with all outputs:\n",
    "(these two cells should be last in notebook)"
   ]
  },
  {
   "cell_type": "code",
   "execution_count": 601,
   "id": "35471d60",
   "metadata": {},
   "outputs": [
    {
     "name": "stdout",
     "output_type": "stream",
     "text": [
      "skipping\n"
     ]
    }
   ],
   "source": [
    "%%script echo skipping\n",
    "### comment out above line and run this cell to print output as html\n",
    "\n",
    "out_name = str(basic_config['country']+'6c_RandomFoest_ModelComparisons'+'_model'+str(classification_params['model_name'])+'basic_config['filter_yr'])\n",
    "!jupyter nbconvert --output-dir='./Outputs' --to html --no-input --ExecutePreprocessor.store_widget_state=True --output=$out_name 6b_RandomFoest_ModelComparisons.ipynb"
   ]
  },
  {
   "cell_type": "code",
   "execution_count": null,
   "id": "3075d3f8-981c-42e2-aa5b-9fd20e2cf664",
   "metadata": {},
   "outputs": [],
   "source": []
  }
 ],
 "metadata": {
  "kernelspec": {
   "display_name": "Python 3 (ipykernel)",
   "language": "python",
   "name": "python3"
  },
  "language_info": {
   "codemirror_mode": {
    "name": "ipython",
    "version": 3
   },
   "file_extension": ".py",
   "mimetype": "text/x-python",
   "name": "python",
   "nbconvert_exporter": "python",
   "pygments_lexer": "ipython3",
   "version": "3.8.15"
  }
 },
 "nbformat": 4,
 "nbformat_minor": 5
}
