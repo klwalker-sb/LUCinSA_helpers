{
 "cells": [
  {
   "cell_type": "code",
   "execution_count": null,
   "id": "6a947286",
   "metadata": {},
   "outputs": [],
   "source": [
    "import os\n",
    "import sys\n",
    "from pathlib import Path\n",
    "import pandas as pd\n",
    "\n",
    "%matplotlib inline"
   ]
  },
  {
   "cell_type": "code",
   "execution_count": null,
   "id": "72d48bd3",
   "metadata": {},
   "outputs": [],
   "source": [
    "sys.path.append(r\"../LUCinSA_helpers\")\n",
    "from rf import *"
   ]
  },
  {
   "cell_type": "code",
   "execution_count": null,
   "id": "54f479b5",
   "metadata": {},
   "outputs": [],
   "source": [
    "'''\n",
    "PARAMETERS: modify in notebook_params notebook, then run that notebook and this cell to update here\n",
    "DO NOT modify this cell\n",
    "'''\n",
    "\n",
    "%store -r basic_config\n",
    "print(\"Basic Parameters: \\n time-series data is in (smooth_dir): {} \\n\"\n",
    "      \" modelling year is (filter_year param): {} (this is first year if season spans two years)\"\n",
    "      .format(basic_config['smooth_dir'], basic_config['filter_yr']))\n",
    "%store -r classification_params\n",
    "print(\"Classification_Params: \\n\" \n",
    "      \" temp output files are saved to (local_model_dir): {} \\n\" \n",
    "      \" shared modelling files are in (main_model_dir): {} \\n\" \n",
    "      \" feature_model = {} \\n sample_model = {} \\n model_name = {} \\n\" \n",
    "      \" model_type = {} \\n samp_pt_file = {} \\n pix_vars = {} \\n pixdf = {} \\n lc_class = {} \\n ranhold = {} \\n impmeth = {}\"\n",
    "      .format(classification_params['local_model_dir'],classification_params['main_model_dir'],\n",
    "              classification_params['feature_model'],classification_params['sample_model'],classification_params['model_name'],\n",
    "              classification_params['model_type'],basic_config['ptfile'],\n",
    "              classification_params['samp_pix_vars'],classification_params['pixdf'],classification_params['lc_mod'],\n",
    "              classification_params['ranhold'],classification_params['impmeth']))\n",
    "      "
   ]
  },
  {
   "cell_type": "markdown",
   "id": "696938fd",
   "metadata": {},
   "source": [
    "## View the look up table\n",
    "These are the different LC_models to group things in classification and to translate between numerical map categories and text labels"
   ]
  },
  {
   "cell_type": "code",
   "execution_count": null,
   "id": "01ad1ec9",
   "metadata": {},
   "outputs": [],
   "source": [
    "lut=pd.read_csv('../Class_LUT.csv')\n",
    "lut.drop(['Description'], axis=1, inplace=True)\n",
    "print(lut.sort_values('LC_UNQ'))"
   ]
  },
  {
   "cell_type": "markdown",
   "id": "ced2658d",
   "metadata": {},
   "source": [
    "## get sample dataframe:\n",
    " pixdf is the combination of the sample point file and variable stack for those points (pix_vars).\n",
    " This is created in notebooks 6a and 6b."
   ]
  },
  {
   "cell_type": "code",
   "execution_count": null,
   "id": "04f7a074",
   "metadata": {},
   "outputs": [],
   "source": [
    "pixdf = pd.read_csv(classification_params['pixdf'])\n",
    "print('sample breakdown by {}:'.format(classification_params['lc_mod']))\n",
    "label_col, new_lut = get_class_col(classification_params['lc_mod'], lut)\n",
    "if '{}_name'.format(label_col) in pixdf.columns:\n",
    "    print(pixdf['{}_name'.format(label_col)].value_counts())\n",
    "else:\n",
    "    pixdf2 = pixdf.merge(new_lut[['USE_NAME','{}'.format(label_col),'{}_name'.format(label_col)]], left_on='Class', right_on='USE_NAME', how='left')\n",
    "    print(pixdf2['{}_name'.format(label_col)].value_counts())"
   ]
  },
  {
   "cell_type": "markdown",
   "id": "b44e7ae8",
   "metadata": {},
   "source": [
    "## create rf model\n",
    "this uses the multiclass RandomForestClassifier method from sklearn.ensemble (code is in ../LUCinSA_helpers/rf.py)\n",
    "\n",
    "To use a different classification model, change 'lc_mod' in the parameters and rerun\n",
    "current models = ('All' | 'trans_cats\" | 'crop_nocrop' | 'crop_nocrop_medcrop' | 'crop_nocrop_medcrop_tree' | 'veg' | 'cropType' or 'single_X' (where X is any unique string in the USE_NAME column) for binary classification of X vs all else) "
   ]
  },
  {
   "cell_type": "code",
   "execution_count": null,
   "id": "61eca1f2",
   "metadata": {},
   "outputs": [],
   "source": [
    "rf0 = rf_model(classification_params['pixdf'],\n",
    "         classification_params['local_model_dir'],\n",
    "         classification_params['lc_mod'],\n",
    "         classification_params['impmeth'],\n",
    "         classification_params['ranhold'],\n",
    "         classification_params['model_name'],\n",
    "         lut)"
   ]
  },
  {
   "cell_type": "markdown",
   "id": "d07d87ac",
   "metadata": {},
   "source": [
    "## view confusion matrices\n",
    "Note parameters: (pred_col, obs_col, lut, lc_mod_map, lc_mod_acc, print_cm=False, out_dir=None, model_name=None)\n",
    "To print cm to csv file, change print_cm to True and provide an out_dir and model_Name"
   ]
  },
  {
   "cell_type": "code",
   "execution_count": null,
   "id": "68f1e3e3",
   "metadata": {},
   "outputs": [],
   "source": [
    "cm_cropNoCrop = get_confusion_matrix(rf0[1]['pred'],rf0[1]['label'],lut,classification_params['lc_mod'],'crop_nocrop',True,classification_params['local_model_dir'],'Nov_default')\n",
    "cm_cropType = get_confusion_matrix(rf0[1]['pred'],rf0[1]['label'],lut,classification_params['lc_mod'],'cropType',True,classification_params['local_model_dir'],'Nov_default')\n",
    "cm_veg = get_confusion_matrix(rf0[1]['pred'],rf0[1]['label'],lut,classification_params['lc_mod'],'veg',False,classification_params['local_model_dir'],'Nov_default')\n",
    "cm_all = get_confusion_matrix(rf0[1]['pred'],rf0[1]['label'],lut,classification_params['lc_mod'],'All',False,classification_params['local_model_dir'],'Nov_default')\n",
    "#cm_single = get_confusion_matrix(rf0[1]['pred'],rf0[1]['label'],lut,classification_params['lc_mod'],classification_params['lc_mod'],False,classification_params['local_model_dir'],None)\n",
    "\n",
    "print(cm_cropNoCrop)\n",
    "print(cm_cropType)\n",
    "print(cm_veg)\n",
    "print(cm_all)\n",
    "#print(cm_single)"
   ]
  },
  {
   "cell_type": "markdown",
   "id": "e071eca7",
   "metadata": {},
   "source": [
    "## view variable importance\n",
    "this can be computed via Impurity or Permutation method (see sklearn docs)  by setting impmeth in rf_model\n",
    "The full list is stored in the model directory for further manipulation "
   ]
  },
  {
   "cell_type": "code",
   "execution_count": null,
   "id": "3ac864cf",
   "metadata": {},
   "outputs": [],
   "source": [
    "var_imp_path = os.path.join(classification_params['local_model_dir'],'VarImportance_{}.csv'.format(classification_params['model_name']))\n",
    "var_imp = pd.read_csv(var_imp_path, names=['var','imp'], header=None)\n",
    "## view 10 most important variables:\n",
    "var_imp.sort_values('imp', ascending=False).head(10)"
   ]
  },
  {
   "cell_type": "markdown",
   "id": "d9a9d11e",
   "metadata": {},
   "source": [
    "## To save an html copy of this notebook with all outputs:\n",
    "(these two cells should be last in notebook)"
   ]
  },
  {
   "cell_type": "code",
   "execution_count": null,
   "id": "35471d60",
   "metadata": {},
   "outputs": [],
   "source": [
    "%%script echo skipping\n",
    "### comment out above line and run this cell to print output as html\n",
    "\n",
    "out_name = str(basic_config['country']+'6c_RandomFoest_ModelComparisons'+'_model'+str(classification_params['model_name'])+'basic_config['filter_yr'])\n",
    "!jupyter nbconvert --output-dir='./Outputs' --to html --no-input --ExecutePreprocessor.store_widget_state=True --output=$out_name 6b_RandomFoest_ModelComparisons.ipynb"
   ]
  }
 ],
 "metadata": {
  "kernelspec": {
   "display_name": "Python 3 (ipykernel)",
   "language": "python",
   "name": "python3"
  },
  "language_info": {
   "codemirror_mode": {
    "name": "ipython",
    "version": 3
   },
   "file_extension": ".py",
   "mimetype": "text/x-python",
   "name": "python",
   "nbconvert_exporter": "python",
   "pygments_lexer": "ipython3",
   "version": "3.8.15"
  }
 },
 "nbformat": 4,
 "nbformat_minor": 5
}
