{
 "cells": [
  {
   "cell_type": "code",
   "execution_count": 1,
   "id": "6a947286",
   "metadata": {},
   "outputs": [],
   "source": [
    "import os\n",
    "import sys\n",
    "from pathlib import Path\n",
    "import pandas as pd\n",
    "import math\n",
    "#import json\n",
    "\n",
    "%matplotlib inline"
   ]
  },
  {
   "cell_type": "code",
   "execution_count": 2,
   "id": "72d48bd3",
   "metadata": {},
   "outputs": [],
   "source": [
    "sys.path.append(r\"../LUCinSA_helpers\")\n",
    "from rf import *"
   ]
  },
  {
   "cell_type": "code",
   "execution_count": 3,
   "id": "54f479b5",
   "metadata": {},
   "outputs": [
    {
     "name": "stdout",
     "output_type": "stream",
     "text": [
      "Classification_Params: \n",
      " temp output files are saved to (local_model_dir): /home/downspout-cel/paraguay_lc/classification/RF \n",
      " shared modelling files are in (main_model_dir): /home/downspout-cel/paraguay_lc/classification \n",
      " feature_model = Max \n",
      " sample_model = testing \n",
      " model_name = Max_testing_2021 \n",
      " sample_model_dict is: /home/downspout-cel/paraguay_lc/Sample_Models.json \n",
      " samp_pt_file = /home/downspout-cel/paraguay_lc/vector/sampleData/SamplePts_Dec2023_ALL.csv \n",
      " pix_vars = /home/downspout-cel/paraguay_lc/vector/tests/ptsgdb_Max_nomon5-6.csv \n",
      " pixdf = /home/downspout-cel/paraguay_lc/classification/RF/pixdf_base1000.csv \n",
      " lc_class = All\n"
     ]
    }
   ],
   "source": [
    "'''\n",
    "PARAMETERS: modify in notebook_params notebook, then run that notebook and this cell to update here\n",
    "DO NOT modify this cell\n",
    "'''\n",
    "\n",
    "%store -r basic_config\n",
    "#print(\" modelling year is (filter_year param): {} (this is first year if season spans two years)\".format(basic_config['filter_yr']))\n",
    "%store -r classification_params\n",
    "new_feature_mod = 'Max_nomon5-6'\n",
    "classification_params['samp_pix_vars'] = '/home/downspout-cel/paraguay_lc/vector/tests/ptsgdb_{}.csv'.format(new_feature_mod)\n",
    "\n",
    "print(\"Classification_Params: \\n\" \n",
    "      \" temp output files are saved to (local_model_dir): {} \\n\" \n",
    "      \" shared modelling files are in (main_model_dir): {} \\n\" \n",
    "      \" feature_model = {} \\n sample_model = {} \\n model_name = {} \\n\"\n",
    "      \" sample_model_dict is: {} \\n\"\n",
    "      \" samp_pt_file = {} \\n pix_vars = {} \\n pixdf = {} \\n lc_class = {}\"\n",
    "      .format(classification_params['local_model_dir'],classification_params['main_model_dir'],\n",
    "              classification_params['feature_model'],classification_params['sample_model'],classification_params['model_name'],\n",
    "              classification_params['sample_mod_dict'],basic_config['ptfile'], classification_params['samp_pix_vars'],classification_params['pixdf'],\n",
    "              classification_params['lc_mod']))"
   ]
  },
  {
   "cell_type": "markdown",
   "id": "f878c7cf",
   "metadata": {},
   "source": [
    "## define / alter sample pixels to participate in model training"
   ]
  },
  {
   "cell_type": "markdown",
   "id": "fabb25ba",
   "metadata": {},
   "source": [
    "### load in LUT to see class options"
   ]
  },
  {
   "cell_type": "code",
   "execution_count": 4,
   "id": "375e8236",
   "metadata": {},
   "outputs": [
    {
     "name": "stdout",
     "output_type": "stream",
     "text": [
      "    LC_UNQ            USE_NAME  LC25          LC25_name\n",
      "0        1               NoVeg    99            unknown\n",
      "1        2          NoVeg_Bare     2         NoVeg_Bare\n",
      "2        3         NoVeg_Built     3        NoVeg_Built\n",
      "3        7         NoVeg_Water     7        NoVeg_Water\n",
      "4        9          Mixed-path     9         Mixed-path\n",
      "5       10             Cleared    10            Cleared\n",
      "6       11       TreePlant-new    11           NewPlant\n",
      "7       12   Grassland-Natural    12  Grassland-Natural\n",
      "8       13   Grassland-Managed    13  Grassland-Managed\n",
      "9       15           Grassland    99            unknown\n",
      "10      17       Grassland-Wet    17      Grassland-Wet\n",
      "11      18     Mixed-GrassEdge    19      Mixed-VegEdge\n",
      "12      19     Mixed-FieldEdge    19      Mixed-VegEdge\n",
      "13      20              LowVeg    99            unknown\n",
      "14      23  Crops-horticulture    35          Crops-mix\n",
      "15      30            Crop-Low    99            unknown\n",
      "16      31      Crops-Soybeans    31     Crops-Soybeans\n",
      "17      32         Crops-Beans    35          Crops-mix\n",
      "18      33          Crops-Corn    33         Crops-Corn\n",
      "19      34      Crops-Mandioca    35          Crops-mix\n",
      "20      35           Crops-mix    35          Crops-mix\n",
      "21      36       Crops-Peanuts    35          Crops-mix\n",
      "22      37          Crops-Rice    37         Crops-Rice\n",
      "23      38         Crops-Sugar    38        Crops-Sugar\n",
      "24      40            Crop_Med    99            unknown\n",
      "25      41      Crops-Vineyard    41     Crops-Vineyard\n",
      "26      42    Crops-Yerba-Mate    42   Crops-Yerba-Mate\n",
      "27      43        Crops-Banana    43       Crops-Banana\n",
      "28      45   Crops-Orchard-new    99            unknown\n",
      "29      46       Crops-Orchard    46      Crops-Orchard\n",
      "30      51      Grass_tree-mix    51     Grass_tree-mix\n",
      "31      52               Shrub    52              Shrub\n",
      "32      56     TreePlant-young    60          TreePlant\n",
      "33      58         Burnt-woody    58        Burnt-woody\n",
      "34      60           TreePlant    60          TreePlant\n",
      "35      65          Trees-Open    65    Trees-disturbed\n",
      "36      66    TreePlant-mature    60          TreePlant\n",
      "37      67  Trees-Forest_decid    80       Trees-Forest\n",
      "38      68   Trees-Forest_palm    68  Trees-Forest_palm\n",
      "39      80        Trees-Forest    80       Trees-Forest\n",
      "40      99             unknown    99            unknown\n"
     ]
    }
   ],
   "source": [
    "lut=pd.read_csv('../Class_LUT.csv')\n",
    "print(lut.sort_values('LC_UNQ')[['LC_UNQ','USE_NAME','LC25','LC25_name']])"
   ]
  },
  {
   "cell_type": "markdown",
   "id": "29d0d401",
   "metadata": {},
   "source": [
    "### start with default models with pixel-only data:"
   ]
  },
  {
   "cell_type": "code",
   "execution_count": 5,
   "id": "04f7a074",
   "metadata": {},
   "outputs": [
    {
     "name": "stdout",
     "output_type": "stream",
     "text": [
      "        OID_ UNQ8858  OID1             Class  LC_UNQ  LC5  LC3  LC4  LC2  \\\n",
      "0          1    3278   NaN    Crops-Soybeans      31   20    1    1    1   \n",
      "1          2    3278   NaN    Crops-Soybeans      31   20    1    1    1   \n",
      "2          3    3278   NaN    Crops-Soybeans      31   20    1    1    1   \n",
      "3          4    3278   NaN    Crops-Soybeans      31   20    1    1    1   \n",
      "4          5    3278   NaN    Crops-Soybeans      31   20    1    1    1   \n",
      "...      ...     ...   ...               ...     ...  ...  ...  ...  ...   \n",
      "28006  28654    3769   NaN       Crops-Sugar      38   20    1    1    1   \n",
      "28007  28655    3769   NaN       Crops-Sugar      38   20    1    1    1   \n",
      "28008  28656    3804   NaN  TreePlant-mature      66   70    0    0    0   \n",
      "28009  28657  <Null>   NaN           Cleared      10   10    0    0    0   \n",
      "28010  28658    3769   NaN      Trees-Forest      80   70    0    0    0   \n",
      "\n",
      "                                              NOTES  ...  Photo  surface  \\\n",
      "0                                                    ...                   \n",
      "1                                                    ...                   \n",
      "2                                                    ...                   \n",
      "3                                                    ...                   \n",
      "4                                                    ...                   \n",
      "...                                             ...  ...    ...      ...   \n",
      "28006                                    maybe corn  ...    NaN      NaN   \n",
      "28007                                    maybe corn  ...    NaN      NaN   \n",
      "28008                                           NaN  ...    NaN      NaN   \n",
      "28009  TreePlant - mature 12/2020, harvested 7-2021  ...    NaN      NaN   \n",
      "28010                                           NaN  ...    NaN      NaN   \n",
      "\n",
      "           rand TESTSET20  TESTSET10 UNQ8858.1     rand2 estrat smlhld_1ha  \\\n",
      "0      0.756024         0          0      3278  0.530000  Chaco          0   \n",
      "1      0.600634         0          0      3278  0.340000  Chaco          0   \n",
      "2      0.172018         0          0      3278  0.590000  Chaco          0   \n",
      "3      0.438246         0          0      3278  0.790000  Chaco          0   \n",
      "4      0.684106         0          0      3278  0.300000  Chaco          0   \n",
      "...         ...       ...        ...       ...       ...    ...        ...   \n",
      "28006  0.206085         0          0      3769  0.278692    NaN          0   \n",
      "28007  0.448546         1          1      3769  0.106765    NaN          1   \n",
      "28008  0.387021         0          0      3804  0.261107    NaN          0   \n",
      "28009  0.531870         0          0    <Null>  0.860375    NaN          0   \n",
      "28010  0.056042         0          0      3769  0.403633    NaN          0   \n",
      "\n",
      "       smlhd_halfha  \n",
      "0                 0  \n",
      "1                 0  \n",
      "2                 0  \n",
      "3                 0  \n",
      "4                 0  \n",
      "...             ...  \n",
      "28006             0  \n",
      "28007             1  \n",
      "28008             0  \n",
      "28009             0  \n",
      "28010             0  \n",
      "\n",
      "[28011 rows x 27 columns]\n",
      "sample breakdown by LC25 class:\n",
      "Crops-Soybeans       4485\n",
      "Mixed-path           3902\n",
      "Crops-mix            2988\n",
      "Grassland-Managed    1884\n",
      "Mixed-VegEdge        1828\n",
      "Trees-Forest         1711\n",
      "unknown              1668\n",
      "Trees-disturbed      1195\n",
      "Grassland-Wet        1062\n",
      "Grassland-Natural    1033\n",
      "TreePlant             830\n",
      "Shrub                 791\n",
      "Crops-Yerba-Mate      606\n",
      "Crops-Rice            516\n",
      "Grass_tree-mix        464\n",
      "NoVeg_Water           421\n",
      "NoVeg_Bare            397\n",
      "Crops-Sugar           369\n",
      "Crops-Banana          313\n",
      "Crops-Orchard         289\n",
      "NoVeg_Built           284\n",
      "Cleared               266\n",
      "Crops-Corn            244\n",
      "Trees-Forest_palm     213\n",
      "Burnt-woody            74\n",
      "NewPlant               48\n",
      "Crops-Vineyard         23\n",
      "Name: LC25_name, dtype: int64\n",
      "default rf model with all sample pixels and pixel only data\n"
     ]
    }
   ],
   "source": [
    "samp_pts = pd.read_csv(basic_config['ptfile'])\n",
    "pix_vars = pd.read_csv(classification_params['samp_pix_vars'])\n",
    "print(samp_pts)\n",
    "\n",
    "pix_data = pix_vars.merge(samp_pts, left_on='OID_', right_on='OID_', how='left')\n",
    "\n",
    "pix_data.drop(['LC2'], axis=1, inplace=True)\n",
    "pixdf = pix_data.merge(lut, left_on='Class', right_on='USE_NAME', how='left')\n",
    "print('sample breakdown by LC25 class:')\n",
    "print(pixdf['LC25_name'].value_counts())\n",
    "\n",
    "print('default rf model with all sample pixels and pixel only data')"
   ]
  },
  {
   "cell_type": "markdown",
   "id": "082fbc9e",
   "metadata": {},
   "source": [
    "## Add smallholder flag to dataset"
   ]
  },
  {
   "cell_type": "code",
   "execution_count": 6,
   "id": "120fcc5a",
   "metadata": {},
   "outputs": [
    {
     "name": "stdout",
     "output_type": "stream",
     "text": [
      "0    23104\n",
      "1     4806\n",
      "Name: smlhld_1ha, dtype: int64\n",
      "0    23653\n",
      "1     4257\n",
      "Name: smlhld_halfha, dtype: int64\n"
     ]
    }
   ],
   "source": [
    "## <=1 hectare\n",
    "pixdf['smlhld_1ha'] = pixdf.apply(lambda x: 1 if (\n",
    "    ((x['var_poly_pred_area'] < 100) and (x['LC2'] == 1)) or (\n",
    "    (x['FieldWidth'] <= 100) and (x['LC2'] == 1))) else 0, axis=1)\n",
    "print(pixdf['smlhld_1ha'].value_counts())\n",
    "## <= .5 hectare\n",
    "pixdf['smlhld_halfha'] = pixdf.apply(lambda x: 1 if (\n",
    "    ((x['var_poly_pred_area'] < 50) and (x['LC2'] == 1)) or (\n",
    "    (x['FieldWidth'] <= 50) and (x['LC2'] == 1))) else 0, axis=1)\n",
    "print(pixdf['smlhld_halfha'].value_counts())\n",
    "pd.DataFrame.to_csv(pixdf, '/home/klwalker/data/df_w_sh.csv')"
   ]
  },
  {
   "cell_type": "markdown",
   "id": "0913efc8",
   "metadata": {},
   "source": [
    "## Drop classes that have sample sizes too small to model"
   ]
  },
  {
   "cell_type": "code",
   "execution_count": 11,
   "id": "5d111a68",
   "metadata": {},
   "outputs": [
    {
     "name": "stdout",
     "output_type": "stream",
     "text": [
      "Crops-Soybeans       4485\n",
      "Mixed-path           3902\n",
      "Crops-mix            2988\n",
      "Grassland-Managed    1884\n",
      "Mixed-VegEdge        1828\n",
      "Trees-Forest         1711\n",
      "unknown              1668\n",
      "Trees-disturbed      1195\n",
      "Grassland-Wet        1062\n",
      "Grassland-Natural    1033\n",
      "TreePlant             830\n",
      "Shrub                 791\n",
      "Crops-Yerba-Mate      606\n",
      "Crops-Rice            516\n",
      "Grass_tree-mix        464\n",
      "NoVeg_Water           421\n",
      "NoVeg_Bare            397\n",
      "Crops-Sugar           369\n",
      "Crops-Banana          313\n",
      "Crops-Orchard         289\n",
      "NoVeg_Built           284\n",
      "Cleared               266\n",
      "Crops-Corn            244\n",
      "Trees-Forest_palm     213\n",
      "Burnt-woody            74\n",
      "Name: LC25_name, dtype: int64\n",
      "columns with NaN: ['OID1', 'NOTES', 'PureCrop', 'Date', 'Photo', 'surface', 'estrat', 'LC_UNQ_y', 'USE_NAME', 'Segmentation', 'LCTrans', 'LCTrans_name', 'LC5_name', 'LC5_y', 'LC25', 'perLC17E', 'LC25_name', 'LC3_y', 'LC3_name', 'LC4_y', 'LC4_name', 'LC2', 'LC2_name', 'LC_crops', 'LC_crops_name', 'Description']\n"
     ]
    },
    {
     "data": {
      "text/plain": [
       "'\\nfor index, row in pixdf.loc[:, NaNrows].iterrows():\\n    print(index)'"
      ]
     },
     "execution_count": 11,
     "metadata": {},
     "output_type": "execute_result"
    }
   ],
   "source": [
    "dropClass = ['Crops-Vineyard','NewPlant']\n",
    "pixdf = pixdf[~pixdf['LC25_name'].isin(dropClass)]\n",
    "#pixdf = pixdf.drop(\"Description\", axis=1)\n",
    "pd.options.display.max_columns = None\n",
    "print(pixdf['LC25_name'].value_counts())\n",
    "#print(pd.DataFrame(pixdf.isnull().any()))"
   ]
  },
  {
   "cell_type": "markdown",
   "id": "5c30c6e1",
   "metadata": {},
   "source": [
    "#### check for nan columns if desired"
   ]
  },
  {
   "cell_type": "code",
   "execution_count": null,
   "id": "fe80bf02",
   "metadata": {},
   "outputs": [],
   "source": [
    "nancols = pixdf.columns[pixdf.isna().any()].tolist()\n",
    "print(f'columns with NaN: {nancols}')\n",
    "\n",
    "#for i in nancols:\n",
    "#    print(pixdf[i])"
   ]
  },
  {
   "cell_type": "markdown",
   "id": "a1981702",
   "metadata": {},
   "source": [
    "## prep pixel datasets by reducing sample"
   ]
  },
  {
   "cell_type": "markdown",
   "id": "755b47dd",
   "metadata": {},
   "source": [
    "### Option1: by sampling method (reducing dominant CAN soy pts that are not verified in GE)"
   ]
  },
  {
   "cell_type": "code",
   "execution_count": null,
   "id": "1afa6be7",
   "metadata": {},
   "outputs": [],
   "source": [
    "#### model_name = pixdf_25Soy\n",
    "##   removes 3/4 of the soy points because they are far overrepresented\n",
    "pixdf_25Soy = pixdf[(pixdf['rand']>.9) | (pixdf['SampMethod'] != 'CAN - unverified in GE')]\n",
    "print('25Soy sample breakdown by LC25 class:')\n",
    "print(pixdf_25Soy['LC17_name'].value_counts())\n",
    "pixdf_path = os.path.join(classification_params['model_dir'],'pixdf_25Soy.csv')\n",
    "#pd.DataFrame.to_csv(pixdf_25Soy, pixdf_path)"
   ]
  },
  {
   "cell_type": "markdown",
   "id": "14429267",
   "metadata": {},
   "source": [
    "### Option2: by balancing classes"
   ]
  },
  {
   "cell_type": "code",
   "execution_count": 48,
   "id": "b4164680-a586-4b4d-8fc6-67ffbf592f3e",
   "metadata": {},
   "outputs": [
    {
     "name": "stdout",
     "output_type": "stream",
     "text": [
      "            LC25_name  counts\n",
      "0      Crops-Soybeans    4485\n",
      "1          Mixed-path    3902\n",
      "2           Crops-mix    2988\n",
      "3   Grassland-Managed    1884\n",
      "4       Mixed-VegEdge    1828\n",
      "5        Trees-Forest    1711\n",
      "6             unknown    1668\n",
      "7     Trees-disturbed    1195\n",
      "8       Grassland-Wet    1062\n",
      "9   Grassland-Natural    1033\n",
      "10          TreePlant     830\n",
      "11              Shrub     791\n",
      "12   Crops-Yerba-Mate     606\n",
      "13         Crops-Rice     516\n",
      "14     Grass_tree-mix     464\n",
      "15        NoVeg_Water     421\n",
      "16         NoVeg_Bare     397\n",
      "17        Crops-Sugar     369\n",
      "18       Crops-Banana     313\n",
      "19      Crops-Orchard     289\n",
      "20        NoVeg_Built     284\n",
      "21            Cleared     266\n",
      "22         Crops-Corn     244\n",
      "23  Trees-Forest_palm     213\n",
      "24        Burnt-woody      74\n",
      "Total sample size before balancing is: 27833\n",
      "Trees-Forest         1292\n",
      "Grassland-Managed    1236\n",
      "Grassland-Wet        1057\n",
      "Crops-Soybeans        935\n",
      "Grassland-Natural     479\n",
      "NoVeg_Bare            397\n",
      "Shrub                 377\n",
      "Crops-Sugar           369\n",
      "Crops-Banana          313\n",
      "Crops-Orchard         289\n",
      "NoVeg_Built           284\n",
      "Cleared               266\n",
      "Crops-mix             263\n",
      "Crops-Corn            244\n",
      "Trees-Forest_palm     213\n",
      "NoVeg_Water           188\n",
      "Crops-Rice            109\n",
      "TreePlant             103\n",
      "Trees-disturbed        95\n",
      "Mixed-VegEdge          94\n",
      "Burnt-woody            74\n",
      "Mixed-path             71\n",
      "Crops-Yerba-Mate       55\n",
      "Grass_tree-mix         51\n",
      "Name: LC25_name, dtype: int64\n",
      "Total sample size after balancing is: 8854\n"
     ]
    },
    {
     "ename": "KeyError",
     "evalue": "'local_dir'",
     "output_type": "error",
     "traceback": [
      "\u001b[0;31m---------------------------------------------------------------------------\u001b[0m",
      "\u001b[0;31mKeyError\u001b[0m                                  Traceback (most recent call last)",
      "Cell \u001b[0;32mIn[48], line 48\u001b[0m\n\u001b[1;32m     41\u001b[0m     pd\u001b[38;5;241m.\u001b[39mDataFrame\u001b[38;5;241m.\u001b[39mto_csv(pixdf_ratios_rebal, pixdf_path)\n\u001b[1;32m     43\u001b[0m \u001b[38;5;66;03m#for i in range(1, 20):\u001b[39;00m\n\u001b[1;32m     44\u001b[0m \u001b[38;5;66;03m#    bal = math.exp(i / 7)\u001b[39;00m\n\u001b[1;32m     45\u001b[0m \u001b[38;5;66;03m#    #print(bal)\u001b[39;00m\n\u001b[1;32m     46\u001b[0m \u001b[38;5;66;03m#    new_training_data(bal_ratio = bal, new_name = \"{}\".format(i), cutoff = 400)\u001b[39;00m\n\u001b[0;32m---> 48\u001b[0m \u001b[43mnew_training_data\u001b[49m\u001b[43m(\u001b[49m\u001b[43mbal_ratio\u001b[49m\u001b[43m \u001b[49m\u001b[38;5;241;43m=\u001b[39;49m\u001b[43m \u001b[49m\u001b[38;5;241;43m5.5\u001b[39;49m\u001b[43m,\u001b[49m\u001b[43m \u001b[49m\u001b[43mnew_name\u001b[49m\u001b[43m \u001b[49m\u001b[38;5;241;43m=\u001b[39;49m\u001b[43m \u001b[49m\u001b[38;5;124;43m\"\u001b[39;49m\u001b[38;5;124;43mbase\u001b[39;49m\u001b[38;5;124;43m\"\u001b[39;49m\u001b[43m,\u001b[49m\u001b[43m \u001b[49m\u001b[43mcutoff\u001b[49m\u001b[43m \u001b[49m\u001b[38;5;241;43m=\u001b[39;49m\u001b[43m \u001b[49m\u001b[38;5;241;43m400\u001b[39;49m\u001b[43m)\u001b[49m\n",
      "Cell \u001b[0;32mIn[48], line 40\u001b[0m, in \u001b[0;36mnew_training_data\u001b[0;34m(bal_ratio, new_name, cutoff)\u001b[0m\n\u001b[1;32m     37\u001b[0m totsamp \u001b[38;5;241m=\u001b[39m \u001b[38;5;28msum\u001b[39m(pixdf_ratios_rebal[\u001b[38;5;124m'\u001b[39m\u001b[38;5;124mLC25_name\u001b[39m\u001b[38;5;124m'\u001b[39m]\u001b[38;5;241m.\u001b[39mvalue_counts())\n\u001b[1;32m     38\u001b[0m \u001b[38;5;28mprint\u001b[39m(\u001b[38;5;124mf\u001b[39m\u001b[38;5;124m'\u001b[39m\u001b[38;5;124mTotal sample size after balancing is: \u001b[39m\u001b[38;5;132;01m{\u001b[39;00mtotsamp\u001b[38;5;132;01m}\u001b[39;00m\u001b[38;5;124m'\u001b[39m)\n\u001b[0;32m---> 40\u001b[0m pixdf_path \u001b[38;5;241m=\u001b[39m os\u001b[38;5;241m.\u001b[39mpath\u001b[38;5;241m.\u001b[39mjoin(\u001b[43mclassification_params\u001b[49m\u001b[43m[\u001b[49m\u001b[38;5;124;43m'\u001b[39;49m\u001b[38;5;124;43mlocal_dir\u001b[39;49m\u001b[38;5;124;43m'\u001b[39;49m\u001b[43m]\u001b[49m,\u001b[38;5;124m'\u001b[39m\u001b[38;5;124mr_tests/pixdf_\u001b[39m\u001b[38;5;132;01m{}\u001b[39;00m\u001b[38;5;124m_rebal_\u001b[39m\u001b[38;5;132;01m{}\u001b[39;00m\u001b[38;5;124m.csv\u001b[39m\u001b[38;5;124m'\u001b[39m\u001b[38;5;241m.\u001b[39mformat(new_feature_mod, new_name))\n\u001b[1;32m     41\u001b[0m pd\u001b[38;5;241m.\u001b[39mDataFrame\u001b[38;5;241m.\u001b[39mto_csv(pixdf_ratios_rebal, pixdf_path)\n",
      "\u001b[0;31mKeyError\u001b[0m: 'local_dir'"
     ]
    }
   ],
   "source": [
    "##   first collect the sample ratios from the LUT\n",
    "\n",
    "def new_training_data(bal_ratio, new_name, cutoff = 400):\n",
    "    \n",
    "    lut=pd.read_csv('../Class_LUT.csv')\n",
    "    ordered = lut.sort_values('perLC17E')[[\"perLC17E\", \"LC25_name\"]]\n",
    "    #print(ordered)\n",
    "    \n",
    "    ##   now clean this df for NaN and repeats, check if the percents add up correctly, then divide and round\n",
    "    \n",
    "    ordered = ordered.dropna()\n",
    "    ordered = ordered.drop_duplicates(subset = \"perLC17E\") \n",
    "    #print(ordered)\n",
    "    \n",
    "    tot = ordered[\"perLC17E\"].sum()\n",
    "    # print(tot)\n",
    "    # lessssss gooooooo close to 1\n",
    "    \n",
    "    mmin = ordered[\"perLC17E\"].min()\n",
    "    ordered[\"perLC17E\"] = ordered[\"perLC17E\"]//mmin\n",
    "    #print(ordered)\n",
    "    \n",
    "    ##   find the scale factor, actually just use an appropriate number\n",
    "    \n",
    "    ## rescale the training data set\n",
    "\n",
    "    counts = pixdf['LC25_name'].value_counts().rename_axis(\"LC25_name\").reset_index(name=\"counts\")\n",
    "    print(counts)\n",
    "    print(f'Total sample size before balancing is: {sum(counts[\"counts\"])}')\n",
    "    \n",
    "    ratiodf = ordered.merge(counts, left_on=\"LC25_name\", right_on=\"LC25_name\", how='left')\n",
    "    ratiodf['ratios'] = np.where(ratiodf[\"counts\"] < cutoff, 1, ((ratiodf[\"perLC17E\"] * bal_ratio) / ratiodf[\"counts\"]))\n",
    "    \n",
    "    pixdf_ratios_rebal = pixdf.merge(ratiodf[['LC25_name','ratios']],left_on=\"LC25_name\", right_on=\"LC25_name\", how='left')\n",
    "    pixdf_ratios_rebal = pixdf_ratios_rebal[pixdf_ratios_rebal['rand'] < pixdf_ratios_rebal['ratios']]\n",
    "    print(pixdf_ratios_rebal['LC25_name'].value_counts())\n",
    "    totsamp = sum(pixdf_ratios_rebal['LC25_name'].value_counts())\n",
    "    print(f'Total sample size after balancing is: {totsamp}')\n",
    "    \n",
    "    pixdf_path = os.path.join(classification_params['local_dir'],'r_tests/pixdf_{}_rebal_{}.csv'.format(new_feature_mod, new_name))\n",
    "    pd.DataFrame.to_csv(pixdf_ratios_rebal, pixdf_path)\n",
    "\n",
    "#for i in range(1, 20):\n",
    "#    bal = math.exp(i / 7)\n",
    "#    #print(bal)\n",
    "#    new_training_data(bal_ratio = bal, new_name = \"{}\".format(i), cutoff = 400)\n",
    "\n",
    "new_training_data(bal_ratio = 5.5, new_name = \"base\", cutoff = 400)\n"
   ]
  },
  {
   "cell_type": "code",
   "execution_count": null,
   "id": "19ce35c7",
   "metadata": {},
   "outputs": [],
   "source": [
    "# use this to fix any mess ups u make \n",
    "\"\"\"\n",
    "dir = \"/home/downspout-cel/paraguay_lc/classification/RF\"\n",
    "for filename in os.listdir(dir):\n",
    "    if filename.startswith(\"pixdf_{}\".format(new_feature_mod)):\n",
    "        filepath = os.path.join(dir, filename)\n",
    "        os.remove(filepath)\n",
    "\"\"\""
   ]
  },
  {
   "cell_type": "markdown",
   "id": "3bbe361c",
   "metadata": {},
   "source": [
    "## prep pixel datasets by reducing sample\n",
    "### First by sampling method (reducing dominant CAN soy pts)\n",
    "### can also do by field size, etc."
   ]
  },
  {
   "cell_type": "code",
   "execution_count": 20,
   "id": "efbbd40e",
   "metadata": {},
   "outputs": [
    {
     "name": "stdout",
     "output_type": "stream",
     "text": [
      "25Soy sample breakdown by LC25 class:\n",
      "LC25_name\n",
      "Mixed-path           3902\n",
      "Crops-mix            2988\n",
      "Grassland-Managed    1884\n",
      "Mixed-VegEdge        1828\n",
      "Trees-Forest         1711\n",
      "unknown              1668\n",
      "Trees-disturbed      1195\n",
      "Grassland-Wet        1062\n",
      "Grassland-Natural    1033\n",
      "TreePlant             830\n",
      "Shrub                 791\n",
      "Crops-Soybeans        767\n",
      "Crops-Yerba-Mate      606\n",
      "Crops-Rice            516\n",
      "Grass_tree-mix        464\n",
      "NoVeg_Water           421\n",
      "NoVeg_Bare            397\n",
      "Crops-Sugar           369\n",
      "Crops-Banana          313\n",
      "Crops-Orchard         289\n",
      "NoVeg_Built           284\n",
      "Cleared               266\n",
      "Crops-Corn            244\n",
      "Trees-Forest_palm     213\n",
      "Burnt-woody            74\n",
      "Name: count, dtype: int64\n"
     ]
    }
   ],
   "source": [
    "#### model_name = pixdf_25Soy\n",
    "##   removes 3/4 of the soy points because they are far overrepresented\n",
    "pixdf_25Soy = pixdf[(pixdf['rand']>.9) | (pixdf['SampMethod'] != 'CAN - unverified in GE')]\n",
    "print('25Soy sample breakdown by LC25 class:')\n",
    "print(pixdf_25Soy['LC25_name'].value_counts())\n",
    "pixdf_path = os.path.join(classification_params['local_dir'],'r_tests/pixdf_{}_25Soy.csv'.format(new_feature_mod))\n",
    "pd.DataFrame.to_csv(pixdf_25Soy, pixdf_path)"
   ]
  },
  {
   "cell_type": "code",
   "execution_count": 21,
   "id": "6b423a50",
   "metadata": {},
   "outputs": [
    {
     "name": "stdout",
     "output_type": "stream",
     "text": [
      "there are now 23710 pts in the training set after dropping CAN soy\n",
      "LessSoy sample breakdown by LC25 class:\n",
      "LC25_name\n",
      "Mixed-path           3902\n",
      "Crops-mix            2988\n",
      "Grassland-Managed    1884\n",
      "Mixed-VegEdge        1828\n",
      "Trees-Forest         1711\n",
      "unknown              1668\n",
      "Trees-disturbed      1195\n",
      "Grassland-Wet        1062\n",
      "Grassland-Natural    1033\n",
      "TreePlant             830\n",
      "Shrub                 791\n",
      "Crops-Yerba-Mate      606\n",
      "Crops-Rice            516\n",
      "Grass_tree-mix        464\n",
      "NoVeg_Water           421\n",
      "NoVeg_Bare            397\n",
      "Crops-Sugar           369\n",
      "Crops-Soybeans        356\n",
      "Crops-Banana          313\n",
      "Crops-Orchard         289\n",
      "NoVeg_Built           284\n",
      "Cleared               266\n",
      "Crops-Corn            244\n",
      "Trees-Forest_palm     213\n",
      "Burnt-woody            74\n",
      "Name: count, dtype: int64\n"
     ]
    }
   ],
   "source": [
    "#### model_name = pixdf_lessSoy\n",
    "# removes all soy points that sre not verified in Google Earth\n",
    "pixdf_lessSoy = pixdf[pixdf['SampMethod'] != 'CAN - unverified in GE']\n",
    "print('there are now {} pts in the training set after dropping CAN soy'.format(len(pixdf_lessSoy)))\n",
    "print('LessSoy sample breakdown by LC25 class:')\n",
    "print(pixdf_lessSoy['LC25_name'].value_counts())\n",
    "pixdf_path = os.path.join(classification_params['local_dir'],'r_tests/pixdf_{}_lessSoy_Nov.csv'.format(new_feature_mod))\n",
    "pd.DataFrame.to_csv(pixdf_lessSoy, pixdf_path)"
   ]
  },
  {
   "cell_type": "code",
   "execution_count": 22,
   "id": "027898d0",
   "metadata": {},
   "outputs": [
    {
     "name": "stdout",
     "output_type": "stream",
     "text": [
      "pixdf_bal0 sample breakdown by LC25 class:\n",
      "LC25_name\n",
      "unknown              1659\n",
      "Grassland-Managed    1108\n",
      "Trees-Forest         1071\n",
      "Grassland-Wet        1062\n",
      "Grassland-Natural    1012\n",
      "Crops-Soybeans       1006\n",
      "Crops-mix            1006\n",
      "Shrub                 778\n",
      "TreePlant             735\n",
      "Mixed-VegEdge         647\n",
      "Trees-disturbed       597\n",
      "Mixed-path            588\n",
      "Grass_tree-mix        464\n",
      "Crops-Rice            461\n",
      "NoVeg_Bare            382\n",
      "NoVeg_Water           370\n",
      "Crops-Sugar           322\n",
      "Crops-Banana          313\n",
      "Crops-Orchard         289\n",
      "NoVeg_Built           276\n",
      "Cleared               266\n",
      "Crops-Yerba-Mate      239\n",
      "Trees-Forest_palm     213\n",
      "Crops-Corn            200\n",
      "Burnt-woody            74\n",
      "Name: count, dtype: int64\n"
     ]
    }
   ],
   "source": [
    "#### model_name = pixdf_bal1000\n",
    "pixdf1 = pixdf[(pixdf['PurePixel'] != 'No') | (pixdf['LC25_name'].str.contains('mix', na=False, case=False))]\n",
    "pixdf2 = pixdf1[(pixdf['rand']>.84) | (pixdf['SampMethod'] != 'CAN - unverified in GE')]\n",
    "pixdf3 = pixdf2[(pixdf2['rand']>.65) | (pixdf2['LC25_name'] != 'Mixed-VegEdge')]\n",
    "pixdf4 = pixdf3[(pixdf3['rand']>.65) | (pixdf3['LC25_name'] != 'Crops-mix')]\n",
    "pixdf5 = pixdf4[(pixdf4['rand']>.86) | (pixdf4['LC25_name'] != 'Mixed-path')]\n",
    "pixdf6 = pixdf5[(pixdf5['rand']>.50) | (pixdf5['LC25_name'] != 'Crops-Yerba-Mate')]\n",
    "pixdf7 = pixdf6[(pixdf6['rand']>.37) | (pixdf6['LC25_name'] != 'Grassland-Managed')]\n",
    "pixdf8 = pixdf7[(pixdf7['rand']>.36) | (pixdf7['LC25_name'] != 'Trees-Forest')]\n",
    "print('pixdf_bal0 sample breakdown by LC25 class:')\n",
    "print(pixdf8['LC25_name'].value_counts())\n",
    "pixdf_path = os.path.join(classification_params['local_dir'],'r_tests/pixdf_{}_base1000.csv'.format(new_feature_mod))\n",
    "pd.DataFrame.to_csv(pixdf8, pixdf_path)pixdf3 = pixdf2[(pixdf2['rand']>.45) | (pixdf2['LC25_name'] != 'Mixed-VegEdge')]\n",
    "pixdf4 = pixdf3[(pixdf3['rand']>.65) | (pixdf3['LC25_name'] != 'Crops-mix')]\n",
    "pixdf5 = pixdf4[(pixdf4['rand']>.76) | (pixdf4['LC25_name'] != 'Mixed-path')]\n",
    "pixdf6 = pixdf5[(pixdf5['rand']>.01) | (pixdf5['LC25_name'] != 'Crops-Yerba-Mate')]\n",
    "pixdf7 = pixdf6[(pixdf6['rand']>.42) | (pixdf6['LC25_name'] != 'Grassland-Managed')]\n",
    "pixdf8 = pixdf7[(pixdf7['rand']>.38) | (pixdf7['LC25_name'] != 'Trees-Forest')]\n",
    "print('pixdf_bal0 sample breakdown by LC25 class:')\n",
    "print(pixdf8['LC25_name'].value_counts())\n",
    "pixdf_path = os.path.join(classification_params['local_model_dir'],'pixdf_base1000.csv')\n",
    "pd.DataFrame.to_csv(pixdf5, pixdf_path)"
   ]
  },
  {
   "cell_type": "code",
   "execution_count": 13,
   "id": "93ee4879",
   "metadata": {},
   "outputs": [],
   "source": [
    "### example ###########################\n",
    "#pixdf = pixdf[(pixdf['rand']>.5) | (pixdf['LC17_name'] != 'Mixed-VegEdge')]]\n",
    "#print(pixdf['LC17_name'].value_counts())"
   ]
  },
  {
   "cell_type": "markdown",
   "id": "5247eb48",
   "metadata": {},
   "source": [
    "## if polygons are available, can combine pixel and polygon dfs and create rf datasets for points with polygons and those without:"
   ]
  },
  {
   "cell_type": "code",
   "execution_count": 14,
   "id": "1250ae5d",
   "metadata": {},
   "outputs": [
    {
     "ename": "KeyError",
     "evalue": "'samp_poly'",
     "output_type": "error",
     "traceback": [
      "\u001b[0;31m---------------------------------------------------------------------------\u001b[0m",
      "\u001b[0;31mKeyError\u001b[0m                                  Traceback (most recent call last)",
      "Cell \u001b[0;32mIn[14], line 1\u001b[0m\n\u001b[0;32m----> 1\u001b[0m poly_data \u001b[38;5;241m=\u001b[39m pd\u001b[38;5;241m.\u001b[39mread_csv(\u001b[43mclassification_params\u001b[49m\u001b[43m[\u001b[49m\u001b[38;5;124;43m'\u001b[39;49m\u001b[38;5;124;43msamp_poly\u001b[39;49m\u001b[38;5;124;43m'\u001b[39;49m\u001b[43m]\u001b[49m)\n\u001b[1;32m      2\u001b[0m \u001b[38;5;66;03m#rename column names that also occur in pixel df\u001b[39;00m\n\u001b[1;32m      3\u001b[0m poly_data\u001b[38;5;241m.\u001b[39mrename(columns\u001b[38;5;241m=\u001b[39m{\u001b[38;5;124m'\u001b[39m\u001b[38;5;124marea\u001b[39m\u001b[38;5;124m'\u001b[39m:\u001b[38;5;124m'\u001b[39m\u001b[38;5;124mareaSeg\u001b[39m\u001b[38;5;124m'\u001b[39m}, inplace\u001b[38;5;241m=\u001b[39m\u001b[38;5;28;01mTrue\u001b[39;00m)\n",
      "\u001b[0;31mKeyError\u001b[0m: 'samp_poly'"
     ]
    }
   ],
   "source": [
    "poly_data = pd.read_csv(classification_params['samp_poly'])\n",
    "#rename column names that also occur in pixel df\n",
    "poly_data.rename(columns={'area':'areaSeg'}, inplace=True)\n",
    "all_data = pixdf.merge(poly_data, left_on='OID_', right_on='OID_', how='left')\n",
    "polypixdf_path = os.path.join(classification_params['model_dir'],'pts_polyData_joinCheck.csv')\n",
    "pd.DataFrame.to_csv(all_data, polypixdf_path, sep=',', na_rep='NaN', index=True)"
   ]
  },
  {
   "cell_type": "markdown",
   "id": "aad21203",
   "metadata": {},
   "source": [
    "### first create dataset for points outside of polygons (here we have no variables to add to the original model)"
   ]
  },
  {
   "cell_type": "code",
   "execution_count": 15,
   "id": "5f7e4509",
   "metadata": {},
   "outputs": [
    {
     "ename": "NameError",
     "evalue": "name 'all_data' is not defined",
     "output_type": "error",
     "traceback": [
      "\u001b[0;31m---------------------------------------------------------------------------\u001b[0m",
      "\u001b[0;31mNameError\u001b[0m                                 Traceback (most recent call last)",
      "Cell \u001b[0;32mIn[15], line 1\u001b[0m\n\u001b[0;32m----> 1\u001b[0m outsideSeg \u001b[38;5;241m=\u001b[39m \u001b[43mall_data\u001b[49m[all_data[\u001b[38;5;124m'\u001b[39m\u001b[38;5;124mareaSeg\u001b[39m\u001b[38;5;124m'\u001b[39m]\u001b[38;5;241m.\u001b[39misna()]\n\u001b[1;32m      2\u001b[0m \u001b[38;5;28mprint\u001b[39m(\u001b[38;5;124mf\u001b[39m\u001b[38;5;124m'\u001b[39m\u001b[38;5;124mof the \u001b[39m\u001b[38;5;132;01m{\u001b[39;00mall_data\u001b[38;5;241m.\u001b[39mshape[\u001b[38;5;241m0\u001b[39m]\u001b[38;5;132;01m}\u001b[39;00m\u001b[38;5;124m sample points in our dataset, \u001b[39m\u001b[38;5;132;01m{\u001b[39;00moutsideSeg\u001b[38;5;241m.\u001b[39mshape[\u001b[38;5;241m0\u001b[39m]\u001b[38;5;132;01m}\u001b[39;00m\u001b[38;5;124m are outside of our segmented polygons\u001b[39m\u001b[38;5;124m'\u001b[39m)\n\u001b[1;32m      3\u001b[0m \u001b[38;5;28mprint\u001b[39m(outsideSeg[\u001b[38;5;124m'\u001b[39m\u001b[38;5;124mLC17_name\u001b[39m\u001b[38;5;124m'\u001b[39m]\u001b[38;5;241m.\u001b[39mvalue_counts())\n",
      "\u001b[0;31mNameError\u001b[0m: name 'all_data' is not defined"
     ]
    }
   ],
   "source": [
    "outsideSeg = all_data[all_data['areaSeg'].isna()]\n",
    "print(f'of the {all_data.shape[0]} sample points in our dataset, {outsideSeg.shape[0]} are outside of our segmented polygons')\n",
    "print(outsideSeg['LC17_name'].value_counts())\n",
    "out_dir = os.path.join(classification_params['model_dir'],'outside')\n",
    "rfout17 = rf_model(outsideSeg,out_dir,'All','Permutation',29,'Fullsamp')"
   ]
  },
  {
   "cell_type": "markdown",
   "id": "0a8ef9f7",
   "metadata": {},
   "source": [
    "And for model with more balanced soy representation (25Soy):"
   ]
  },
  {
   "cell_type": "code",
   "execution_count": 16,
   "id": "ac77984a",
   "metadata": {},
   "outputs": [
    {
     "ename": "NameError",
     "evalue": "name 'poly_data' is not defined",
     "output_type": "error",
     "traceback": [
      "\u001b[0;31m---------------------------------------------------------------------------\u001b[0m",
      "\u001b[0;31mNameError\u001b[0m                                 Traceback (most recent call last)",
      "Cell \u001b[0;32mIn[16], line 1\u001b[0m\n\u001b[0;32m----> 1\u001b[0m all_data_25Soy \u001b[38;5;241m=\u001b[39m pixdf_25Soy\u001b[38;5;241m.\u001b[39mmerge(\u001b[43mpoly_data\u001b[49m, left_on\u001b[38;5;241m=\u001b[39m\u001b[38;5;124m'\u001b[39m\u001b[38;5;124mOID_\u001b[39m\u001b[38;5;124m'\u001b[39m, right_on\u001b[38;5;241m=\u001b[39m\u001b[38;5;124m'\u001b[39m\u001b[38;5;124mOID_\u001b[39m\u001b[38;5;124m'\u001b[39m, how\u001b[38;5;241m=\u001b[39m\u001b[38;5;124m'\u001b[39m\u001b[38;5;124mleft\u001b[39m\u001b[38;5;124m'\u001b[39m)\n\u001b[1;32m      2\u001b[0m outsideSeg_25Soy \u001b[38;5;241m=\u001b[39m all_data_25Soy[all_data_25Soy[\u001b[38;5;124m'\u001b[39m\u001b[38;5;124mareaSeg\u001b[39m\u001b[38;5;124m'\u001b[39m]\u001b[38;5;241m.\u001b[39misna()]\n\u001b[1;32m      3\u001b[0m \u001b[38;5;28mprint\u001b[39m(outsideSeg_25Soy[\u001b[38;5;124m'\u001b[39m\u001b[38;5;124mLC17_name\u001b[39m\u001b[38;5;124m'\u001b[39m]\u001b[38;5;241m.\u001b[39mvalue_counts())\n",
      "\u001b[0;31mNameError\u001b[0m: name 'poly_data' is not defined"
     ]
    }
   ],
   "source": [
    "all_data_25Soy = pixdf_25Soy.merge(poly_data, left_on='OID_', right_on='OID_', how='left')\n",
    "outsideSeg_25Soy = all_data_25Soy[all_data_25Soy['areaSeg'].isna()]\n",
    "print(outsideSeg_25Soy['LC17_name'].value_counts())\n",
    "out_dir = os.path.join(classification_params['model_dir'],'outside')\n",
    "rfout17_lessSoy = rf_model(outsideSeg_lessSoy,out_dir,'All','Permutation',29,'LessSoy')"
   ]
  },
  {
   "cell_type": "markdown",
   "id": "0af312b5",
   "metadata": {},
   "source": [
    "#### now create dataset for points inside of polygons (here we want to add some variables first)"
   ]
  },
  {
   "cell_type": "code",
   "execution_count": 17,
   "id": "135283bd",
   "metadata": {},
   "outputs": [
    {
     "ename": "NameError",
     "evalue": "name 'poly_data' is not defined",
     "output_type": "error",
     "traceback": [
      "\u001b[0;31m---------------------------------------------------------------------------\u001b[0m",
      "\u001b[0;31mNameError\u001b[0m                                 Traceback (most recent call last)",
      "Cell \u001b[0;32mIn[17], line 3\u001b[0m\n\u001b[1;32m      1\u001b[0m \u001b[38;5;66;03m#poly_data['AvgU'] = poly_data.apply(lambda x:count([x[c] for c in df.columns if c.endswith('U')]),axis=1)\u001b[39;00m\n\u001b[1;32m      2\u001b[0m \u001b[38;5;66;03m#TODO: calculate these in pandas as above\u001b[39;00m\n\u001b[0;32m----> 3\u001b[0m \u001b[43mpoly_data\u001b[49m\u001b[38;5;241m.\u001b[39mrename(columns\u001b[38;5;241m=\u001b[39m{\u001b[38;5;124m'\u001b[39m\u001b[38;5;124mareaSeg\u001b[39m\u001b[38;5;124m'\u001b[39m:\u001b[38;5;124m'\u001b[39m\u001b[38;5;124mvar_areaSeg\u001b[39m\u001b[38;5;124m'\u001b[39m,\u001b[38;5;124m'\u001b[39m\u001b[38;5;124mAVGU\u001b[39m\u001b[38;5;124m'\u001b[39m:\u001b[38;5;124m'\u001b[39m\u001b[38;5;124mvar_AVGU\u001b[39m\u001b[38;5;124m'\u001b[39m,\u001b[38;5;124m'\u001b[39m\u001b[38;5;124mAVGR\u001b[39m\u001b[38;5;124m'\u001b[39m:\u001b[38;5;124m'\u001b[39m\u001b[38;5;124mvar_AVGR\u001b[39m\u001b[38;5;124m'\u001b[39m,\u001b[38;5;124m'\u001b[39m\u001b[38;5;124mAVGSTD\u001b[39m\u001b[38;5;124m'\u001b[39m:\u001b[38;5;124m'\u001b[39m\u001b[38;5;124mvar_AVGSTD\u001b[39m\u001b[38;5;124m'\u001b[39m,\u001b[38;5;124m'\u001b[39m\u001b[38;5;124mMAXR\u001b[39m\u001b[38;5;124m'\u001b[39m:\u001b[38;5;124m'\u001b[39m\u001b[38;5;124mvar_MAXR\u001b[39m\u001b[38;5;124m'\u001b[39m,\u001b[38;5;124m'\u001b[39m\u001b[38;5;124mMINR\u001b[39m\u001b[38;5;124m'\u001b[39m:\u001b[38;5;124m'\u001b[39m\u001b[38;5;124mvar_MINR\u001b[39m\u001b[38;5;124m'\u001b[39m,\u001b[38;5;124m'\u001b[39m\u001b[38;5;124mSTDU\u001b[39m\u001b[38;5;124m'\u001b[39m:\u001b[38;5;124m'\u001b[39m\u001b[38;5;124mvar_STDU\u001b[39m\u001b[38;5;124m'\u001b[39m,\u001b[38;5;124m'\u001b[39m\u001b[38;5;124mMINU\u001b[39m\u001b[38;5;124m'\u001b[39m:\u001b[38;5;124m'\u001b[39m\u001b[38;5;124mvar_MINU\u001b[39m\u001b[38;5;124m'\u001b[39m,\u001b[38;5;124m'\u001b[39m\u001b[38;5;124mMAXU\u001b[39m\u001b[38;5;124m'\u001b[39m:\u001b[38;5;124m'\u001b[39m\u001b[38;5;124mvar_MAXU\u001b[39m\u001b[38;5;124m'\u001b[39m,\u001b[38;5;124m'\u001b[39m\u001b[38;5;124mrU\u001b[39m\u001b[38;5;124m'\u001b[39m:\u001b[38;5;124m'\u001b[39m\u001b[38;5;124mvar_RU\u001b[39m\u001b[38;5;124m'\u001b[39m}, inplace\u001b[38;5;241m=\u001b[39m\u001b[38;5;28;01mTrue\u001b[39;00m)\n\u001b[1;32m      4\u001b[0m polyvars \u001b[38;5;241m=\u001b[39m pixdf\u001b[38;5;241m.\u001b[39mmerge(poly_data, left_on\u001b[38;5;241m=\u001b[39m\u001b[38;5;124m'\u001b[39m\u001b[38;5;124mOID_\u001b[39m\u001b[38;5;124m'\u001b[39m, right_on\u001b[38;5;241m=\u001b[39m\u001b[38;5;124m'\u001b[39m\u001b[38;5;124mOID_\u001b[39m\u001b[38;5;124m'\u001b[39m, how\u001b[38;5;241m=\u001b[39m\u001b[38;5;124m'\u001b[39m\u001b[38;5;124mleft\u001b[39m\u001b[38;5;124m'\u001b[39m)\n\u001b[1;32m      5\u001b[0m withinSeg \u001b[38;5;241m=\u001b[39m polyvars[polyvars[\u001b[38;5;124m'\u001b[39m\u001b[38;5;124mvar_areaSeg\u001b[39m\u001b[38;5;124m'\u001b[39m] \u001b[38;5;241m>\u001b[39m \u001b[38;5;241m0\u001b[39m]\n",
      "\u001b[0;31mNameError\u001b[0m: name 'poly_data' is not defined"
     ]
    }
   ],
   "source": [
    "#poly_data['AvgU'] = poly_data.apply(lambda x:count([x[c] for c in df.columns if c.endswith('U')]),axis=1)\n",
    "#TODO: calculate these in pandas as above\n",
    "poly_data.rename(columns={'areaSeg':'var_areaSeg','AVGU':'var_AVGU','AVGR':'var_AVGR','AVGSTD':'var_AVGSTD','MAXR':'var_MAXR','MINR':'var_MINR','STDU':'var_STDU','MINU':'var_MINU','MAXU':'var_MAXU','rU':'var_RU'}, inplace=True)\n",
    "polyvars = pixdf.merge(poly_data, left_on='OID_', right_on='OID_', how='left')\n",
    "withinSeg = polyvars[polyvars['var_areaSeg'] > 0]\n",
    "\n",
    "print(withinSeg['LC17_name'].value_counts())\n",
    "out_dir = os.path.join(classification_params['model_dir'],'within')\n",
    "#rfin17 = rf_model..."
   ]
  },
  {
   "cell_type": "code",
   "execution_count": 18,
   "id": "621cd9d6",
   "metadata": {},
   "outputs": [
    {
     "ename": "NameError",
     "evalue": "name 'poly_data' is not defined",
     "output_type": "error",
     "traceback": [
      "\u001b[0;31m---------------------------------------------------------------------------\u001b[0m",
      "\u001b[0;31mNameError\u001b[0m                                 Traceback (most recent call last)",
      "Cell \u001b[0;32mIn[18], line 1\u001b[0m\n\u001b[0;32m----> 1\u001b[0m all_data_lessSoy \u001b[38;5;241m=\u001b[39m pixdf_lessSoy\u001b[38;5;241m.\u001b[39mmerge(\u001b[43mpoly_data\u001b[49m, left_on\u001b[38;5;241m=\u001b[39m\u001b[38;5;124m'\u001b[39m\u001b[38;5;124mOID_\u001b[39m\u001b[38;5;124m'\u001b[39m, right_on\u001b[38;5;241m=\u001b[39m\u001b[38;5;124m'\u001b[39m\u001b[38;5;124mOID_\u001b[39m\u001b[38;5;124m'\u001b[39m, how\u001b[38;5;241m=\u001b[39m\u001b[38;5;124m'\u001b[39m\u001b[38;5;124mleft\u001b[39m\u001b[38;5;124m'\u001b[39m)\n\u001b[1;32m      2\u001b[0m withinSeg_lessSoy \u001b[38;5;241m=\u001b[39m all_data_lessSoy[all_data_lessSoy[\u001b[38;5;124m'\u001b[39m\u001b[38;5;124mvar_areaSeg\u001b[39m\u001b[38;5;124m'\u001b[39m]\u001b[38;5;241m>\u001b[39m\u001b[38;5;241m0\u001b[39m]\n\u001b[1;32m      3\u001b[0m \u001b[38;5;28mprint\u001b[39m(withinSeg_lessSoy[\u001b[38;5;124m'\u001b[39m\u001b[38;5;124mLC17_name\u001b[39m\u001b[38;5;124m'\u001b[39m]\u001b[38;5;241m.\u001b[39mvalue_counts())\n",
      "\u001b[0;31mNameError\u001b[0m: name 'poly_data' is not defined"
     ]
    }
   ],
   "source": [
    "all_data_lessSoy = pixdf_lessSoy.merge(poly_data, left_on='OID_', right_on='OID_', how='left')\n",
    "withinSeg_lessSoy = all_data_lessSoy[all_data_lessSoy['var_areaSeg']>0]\n",
    "print(withinSeg_lessSoy['LC17_name'].value_counts())\n",
    "out_dir = os.path.join(classification_params['model_dir'],'within')\n",
    "#rfin17_lessSoy = rf_model(..."
   ]
  },
  {
   "cell_type": "markdown",
   "id": "c7d5fe33",
   "metadata": {},
   "source": [
    "## To save an html copy of this notebook with all outputs:\n",
    "(these two cells should be last in notebook)"
   ]
  },
  {
   "cell_type": "code",
   "execution_count": null,
   "id": "68f1e3e3",
   "metadata": {},
   "outputs": [],
   "source": [
    "%%script echo skipping\n",
    "### comment out above line and run this cell to print output as html\n",
    "\n",
    "out_name = str(basic_config['country']+'6a_RandomFoest_VariableDataframe'+'_model'+str(classification_params['model_name'])+'_'+'Tests1')\n",
    "!jupyter nbconvert --output-dir='./Outputs' --to html --no-input --ExecutePreprocessor.store_widget_state=True --output=$out_name 6b_RandomFoest_ModelComparisons.ipynb"
   ]
  }
 ],
 "metadata": {
  "kernelspec": {
   "display_name": "Python 3 (ipykernel)",
   "language": "python",
   "name": "python3"
  },
  "language_info": {
   "codemirror_mode": {
    "name": "ipython",
    "version": 3
   },
   "file_extension": ".py",
   "mimetype": "text/x-python",
   "name": "python",
   "nbconvert_exporter": "python",
   "pygments_lexer": "ipython3",
   "version": "3.8.15"
  }
 },
 "nbformat": 4,
 "nbformat_minor": 5
}
