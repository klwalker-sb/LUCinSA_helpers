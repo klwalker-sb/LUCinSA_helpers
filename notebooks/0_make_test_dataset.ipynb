{
 "cells": [
  {
   "cell_type": "code",
   "execution_count": null,
   "id": "b24e958c",
   "metadata": {},
   "outputs": [],
   "source": [
    "import os\n",
    "import sys\n",
    "from pathlib import Path\n",
    "import csv"
   ]
  },
  {
   "cell_type": "code",
   "execution_count": null,
   "id": "9563d4d1",
   "metadata": {},
   "outputs": [],
   "source": [
    "sys.path.append(r\"../LUCinSA_helpers\")\n",
    "module_path = os.path.abspath(os.path.join('.'))\n",
    "if module_path not in sys.path:\n",
    "    sys.path.append(module_path)\n",
    "    \n",
    "from ras_tools import *"
   ]
  },
  {
   "cell_type": "code",
   "execution_count": null,
   "id": "ccc60fb5",
   "metadata": {},
   "outputs": [],
   "source": [
    "# Make test sets for pheno tests:\n",
    "nbsize = 9\n",
    "res = 10\n",
    "ind = 'wi'\n",
    "ptfile = Path('/home/klwalker/data/samp.csv')\n",
    "in_dir = Path('/home/downspout-cel/paraguay_lc/stac/grids/003945/brdf_ts/ms/{}'.format(ind))\n",
    "out_main = Path('/home/klwalker/data/for_pheno')\n",
    "yrs = [2020,2021,2022]\n",
    "#make_test_set(ptfile, xpt,ypt,img_in,out_name,out_dir,nbsize,res)"
   ]
  }
 ],
 "metadata": {
  "kernelspec": {
   "display_name": "Python 3 (ipykernel)",
   "language": "python",
   "name": "python3"
  },
  "language_info": {
   "codemirror_mode": {
    "name": "ipython",
    "version": 3
   },
   "file_extension": ".py",
   "mimetype": "text/x-python",
   "name": "python",
   "nbconvert_exporter": "python",
   "pygments_lexer": "ipython3",
   "version": "3.8.15"
  }
 },
 "nbformat": 4,
 "nbformat_minor": 5
}
