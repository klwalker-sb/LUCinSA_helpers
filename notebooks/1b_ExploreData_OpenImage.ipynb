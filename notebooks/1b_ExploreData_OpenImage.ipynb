{
 "cells": [
  {
   "cell_type": "markdown",
   "metadata": {
    "Collapsed": "false"
   },
   "source": [
    "# Plot individual images on the cluster"
   ]
  },
  {
   "cell_type": "markdown",
   "metadata": {
    "Collapsed": "false"
   },
   "source": [
    "This notebook explores how to view geospatial data on the cluster without needing to transfer it"
   ]
  },
  {
   "cell_type": "markdown",
   "metadata": {
    "Collapsed": "false"
   },
   "source": [
    "## Imports"
   ]
  },
  {
   "cell_type": "code",
   "execution_count": null,
   "metadata": {
    "Collapsed": "false"
   },
   "outputs": [],
   "source": [
    "import os\n",
    "import sys\n",
    "from pathlib import Path\n",
    "import datetime\n",
    "\n",
    "import rasterio\n",
    "from rasterio import plot\n",
    "from rasterio.plot import show\n",
    "import matplotlib.pyplot as plt\n",
    "import shutil\n",
    "import tempfile\n",
    "import json\n",
    "import random\n",
    "import numpy as np\n",
    "import pandas as pd\n",
    "import geopandas as gpd\n",
    "from pyproj import Proj, transform\n",
    "from pyproj import CRS\n",
    "from shapely.geometry import box\n",
    "from shapely.geometry import shape\n",
    "from shapely.geometry import MultiPoint\n",
    "from shapely.geometry import Point\n",
    "from shapely.geometry import Polygon\n",
    "import xarray as xr\n",
    "\n",
    "%matplotlib inline"
   ]
  },
  {
   "cell_type": "code",
   "execution_count": null,
   "metadata": {},
   "outputs": [],
   "source": [
    "'''\n",
    "PARAMETERS: modify in Notebook_settings notebook, then run that notebook and this cell to update here\n",
    "DO not modify this cell\n",
    "'''\n",
    "\n",
    "%store -r basicConfig\n",
    "print(\"Basic Parameters: \\n PrintDate = {} \\n brdf_dir = {} \\n data source = {} \\n gridCell = {} \\n index_dir = {} \\n out_dir = {} \\n plotYr = {}\"\n",
    "      .format(basicConfig['today'],basicConfig['brdf_dir'],basicConfig['data_source'],basicConfig['gridCell'],basicConfig['index_dir'],basicConfig['out_dir'], basicConfig['plotYr']))\n",
    "\n",
    "%store -r SinglePlotParams\n",
    "print(\"Plotting Parameters: \\n plotDay = {} \\n Viewband = {} \\n imageType = {}\"\n",
    "      .format(SinglePlotParams['plotDay'],SinglePlotParams['Viewband'],SinglePlotParams['imageType']))"
   ]
  },
  {
   "cell_type": "code",
   "execution_count": null,
   "metadata": {},
   "outputs": [],
   "source": [
    "def GetImgDate(img, imageType, data_source):\n",
    "    \n",
    "    if imageType == 'Smooth':  #Expects images to be named YYYYDDD\n",
    "        YYYY = int(img[:4])\n",
    "        doy = int(img[4:7])\n",
    "    elif imageType not in ['Sentinel','Landsat','AllRaw']:\n",
    "        print ('Currently valid image types are Smooth,Sentinel,Landsat and AllRaw. You put {}'.format(imageType))\n",
    "    elif data_source == 'GEE':\n",
    "        if img.startswith('L1C'):\n",
    "            YYYY = int(img[19:23])\n",
    "            MM = int(img[23:25])\n",
    "            DD = int(img[25:27])\n",
    "        elif img.startswith('LC') or img.startswith('LT') or img.startswith('LE'):\n",
    "            YYYY = int(img[17:21])\n",
    "            MM = int(img[21:23])\n",
    "            DD = int(img[23:25])\n",
    "    elif data_source == 'stac':\n",
    "        YYYY = int(img[-24:-20])\n",
    "        MM = int(img[-20:-18])\n",
    "        DD = int(img[-18:-16])\n",
    "        \n",
    "    ymd = datetime.datetime(YYYY, MM, DD)\n",
    "    doy = int(ymd.strftime('%j'))\n",
    "        \n",
    "    return YYYY, doy\n",
    "\n",
    "def GetClosestImage(img_dir, imageType, data_source, TargetYr, TargetDay):\n",
    "    '''\n",
    "    returns path of image closest to {TargetDay (DDD)} of {TargetYear (YYYY)} in directory of images, {img_dir}\n",
    "    Currently looks for images with name YYYYDDD* (DDD is day-of-year(1-365)) if imageType = Smooth\n",
    "    or Sentinel images starting with L1C* (Date format is YYYYMMDD, starting at position 19)\n",
    "    '''\n",
    "    imgFiles = []\n",
    "    imgList = []\n",
    "    if imageType == 'Smooth':\n",
    "        for img in os.listdir(img_dir):\n",
    "            if img.endswith('.tif'):\n",
    "                imgDate = GetImgDate(img, 'Smooth', data_source)\n",
    "                if imgDate[0] == TargetYr:\n",
    "                    imgList.append(imgDate[1])\n",
    "    else:\n",
    "        for img in os.listdir(img_dir):\n",
    "            if data_source == 'GEE':\n",
    "                imgTyp = os.path.basename(img)[:2]\n",
    "            elif data_source == 'stac':\n",
    "                imgTyp = os.path.basename(img)[4:6]\n",
    "\n",
    "            if (imageType in ['Sentinel','AllRaw'] and imgTyp in ['S2','L1']) or (imageType in ['Landsat','AllRaw'] and imgTyp in ['LC','LT','LE']):\n",
    "                if img.endswith('.nc') and 'angles' not in img and 'cloudless' not in img:\n",
    "                    imgFiles.append(img)\n",
    "                    imgDate = GetImgDate(img, imageType, data_source)\n",
    "                    if imgDate[0] == TargetYr:\n",
    "                        imgList.append(imgDate[1])\n",
    "                \n",
    "    if len(imgList) == 0: \n",
    "        print('there are no {} images for target year {}'.format(imageType, TargetYr))\n",
    "        \n",
    "    else:       \n",
    "        closestDay = min(imgList, key=lambda x:abs(x-TargetDay))\n",
    "        print('closest day for {} is: {}'.format(imageType, str(TargetYr)+str(closestDay)))\n",
    "        closestMM = (datetime.datetime(TargetYr, 1, 1) + datetime.timedelta(closestDay - 1)).month\n",
    "        closestDD = (datetime.datetime(TargetYr, 1, 1) + datetime.timedelta(closestDay - 1)).day\n",
    "    \n",
    "        validImgs = [] #There can be more than one image if more than one path overlaps cell; pick the largest file\n",
    "        for fname in imgFiles:\n",
    "            if imageType == 'Smooth':\n",
    "                if str(TargetYr)+str(closestDay) in fname:\n",
    "                    validImgs.append(os.path.join(img_dir,fname))\n",
    "            else:\n",
    "                if str(TargetYr)+'{:02d}'.format(closestMM)+'{:02d}'.format(closestDD) in fname and fname.endswith('.nc') and 'angles' not in fname and 'cloudless' not in fname:\n",
    "                    imgPath = os.path.join(img_dir,fname)\n",
    "                    print('image match with {} of file size {}'.format(fname, os.stat(imgPath).st_size))\n",
    "                    validImgs.append(imgPath)\n",
    "                    \n",
    "        closestimg = max(validImgs, key =  lambda x: os.stat(x).st_size)\n",
    "        print('sample {} image is: {} with file size {}'.format(imageType, closestimg, os.stat(closestimg).st_size))\n",
    "            \n",
    "    return closestimg"
   ]
  },
  {
   "cell_type": "code",
   "execution_count": null,
   "metadata": {},
   "outputs": [],
   "source": [
    "#SampImg_Smooth = GetClosestImage(basicConfig['index_dir'], 'Smooth', basicConfig['data_source'], basicConfig['plotYr'], SinglePlotParams['plotDay'])\n",
    "SampImg_Sentinel = GetClosestImage(basicConfig['brdf_dir'], 'Sentinel', basicConfig['data_source'], basicConfig['plotYr'], SinglePlotParams['plotDay'])\n",
    "#SampImg_Landsat = GetClosestImage(basicConfig['brdf_dir'], 'Landsat', basicConfig['data_source'], basicConfig['plotYr'], SinglePlotParams['plotDay'])"
   ]
  },
  {
   "cell_type": "code",
   "execution_count": null,
   "metadata": {},
   "outputs": [],
   "source": [
    "### For visualizing index image (Process check 1)\n",
    "def exploreBand(img, band):\n",
    "\n",
    "    print('plotting {} band of image {}'.format(band, img))\n",
    "    fig, axarr = plt.subplots(1, 3, figsize=(15,5))\n",
    "    \n",
    "    if img.endswith('.tif'):\n",
    "        print ('this is in .tif format')\n",
    "        with rasterio.open(img) as src:\n",
    "            TSamp = src.read()\n",
    "    elif img.endswith('.nc'):\n",
    "        print ('this is in .nc format')\n",
    "        with xr.open_dataset(img) as xrimg:\n",
    "            xrcrs = xrimg.crs\n",
    "            print(xrcrs)  ##epsg:32632\n",
    "            #print(xrimg.variables)\n",
    "            bands=[i for i in xrimg.data_vars]\n",
    "            print(bands)\n",
    "            #print(xrimg.coords)\n",
    "            \n",
    "        ### Check that x and y values correspond to UTM coords\n",
    "        print(\"Coord range is: y: {}-{}. x: {}-{}\".format(\n",
    "          xrimg[band][\"y\"].values.min(), \n",
    "          xrimg[band][\"y\"].values.max(),\n",
    "          xrimg[band][\"x\"].values.min(), \n",
    "          xrimg[band][\"x\"].values.max()))\n",
    "    \n",
    "        ### Get single band (Opens as Dataset)\n",
    "        xr_idx = xrimg[band]\n",
    "    \n",
    "        ##Note outliers (while nodata = None)\n",
    "        origHist = xr_idx.plot.hist(color=\"purple\")\n",
    "        #ax.imshow()\n",
    "        \n",
    "        xr_idx_clean = xr_idx.where(xr_idx < 10000)\n",
    "        maskedHist = xr_idx_clean.plot.hist(color=\"purple\")\n",
    "        #print('The no data value is:', xrimg[spec_index].rio.nodata)\n",
    "    \n",
    "        TSamp = xr_idx_clean\n",
    "\n",
    "    if img.endswith('.nc'):\n",
    "        xr_idx.plot.hist(color=\"purple\",  ax=axarr[0])\n",
    "        axarr[0].set_title(\"original data\")\n",
    "        xr_idx_clean.plot.hist(color=\"purple\", ax=axarr[1])\n",
    "        axarr[1].set_title(\"masked data\")\n",
    "        TSamp.plot(x=\"x\",y=\"y\")\n",
    "        plot.show(TSamp, ax=axarr[2])\n",
    "        axarr[2].set_title('{} band'.format(band))\n",
    "        axarr[2].axis('off')\n",
    "    \n",
    "    elif img.endswith('.tif'):\n",
    "        plot.show(TSamp)\n",
    "        axarr[2].set_title('{} band'.format(band))\n",
    "        axarr[2].axis('off')\n",
    "        \n",
    "    return axarr"
   ]
  },
  {
   "cell_type": "code",
   "execution_count": null,
   "metadata": {},
   "outputs": [],
   "source": [
    "if SinglePlotParams['imageType'] == 'Smooth':\n",
    "    exploreBand(SampImg_Smooth, basicConfig['spec_index'])\n",
    "elif SinglePlotParams['imageType'] in ['Sentinel','AllRaw']:\n",
    "    exploreBand(SampImg_Sentinel, SinglePlotParams['Viewband'])\n",
    "elif SinglePlotParams['imageType'] == 'Landsat':\n",
    "    exploreBand(SampImg_Landsat, SinglePlotParams['Viewband'])"
   ]
  },
  {
   "cell_type": "markdown",
   "metadata": {
    "Collapsed": "false"
   },
   "source": [
    "## Plot 3-band image"
   ]
  },
  {
   "cell_type": "code",
   "execution_count": null,
   "metadata": {},
   "outputs": [],
   "source": [
    "def normalize(array):\n",
    "    array_min, array_max = array.min(), array.max()\n",
    "    return (array - array_min) / (array_max - array_min)\n",
    "\n",
    "def gammacorr(band, gamma):\n",
    "    return np.power(band, 1/gamma)\n",
    "\n",
    "def GetrbgImg(image):\n",
    "    with xr.open_dataset(image) as xrimg:\n",
    "        red = xrimg['red'].where(xrimg['red'] != 65535)\n",
    "        green = xrimg['green'].where(xrimg['green'] != 65535)\n",
    "        blue = xrimg['blue'].where(xrimg['blue'] != 65535)\n",
    "        #print (red.min(), red.max())\n",
    "    \n",
    "    red_g=gammacorr(red, SinglePlotParams['gamma'])\n",
    "    blue_g=gammacorr(blue, SinglePlotParams['gamma'])\n",
    "    green_g=gammacorr(green, SinglePlotParams['gamma'])\n",
    "\n",
    "    red_norm_g = normalize(red_g)\n",
    "    green_norm_g = normalize(green_g)\n",
    "    blue_norm_g = normalize(blue_g)\n",
    "\n",
    "    rgb = np.dstack([red_norm_g, green_norm_g, blue_norm_g])\n",
    "    fig = plt.figure(figsize=(18,12))\n",
    "    plt.imshow(rgb)"
   ]
  },
  {
   "cell_type": "code",
   "execution_count": null,
   "metadata": {},
   "outputs": [],
   "source": [
    "GetrbgImg(SampImg_Sentinel)\n",
    "plt.title(\"Sentinel\")\n",
    "plt.axis('off');"
   ]
  },
  {
   "cell_type": "code",
   "execution_count": null,
   "metadata": {},
   "outputs": [],
   "source": [
    "GetrbgImg(SampImg_Landsat)\n",
    "plt.title(\"Landsat\")\n",
    "plt.axis('off');"
   ]
  },
  {
   "cell_type": "markdown",
   "metadata": {},
   "source": [
    "## To save an html copy of this notebook with all outputs:"
   ]
  },
  {
   "cell_type": "code",
   "execution_count": null,
   "metadata": {},
   "outputs": [],
   "source": [
    "### Run to print output as html\n",
    "\n",
    "outName = str(basicConfig['country']+'1b_SampleImagePlot_for_Cell'+str(basicConfig['gridCell'])+'_from_'+str(SinglePlotParams['plotYr'])+str(SinglePlotParams['plotDay']))\n",
    "!jupyter nbconvert --output-dir='./Outputs' --to html --no-input --output=$outName 1b_ExploreData_OpenImage.ipynb"
   ]
  }
 ],
 "metadata": {
  "kernelspec": {
   "display_name": "Python 3 (ipykernel)",
   "language": "python",
   "name": "python3"
  },
  "language_info": {
   "codemirror_mode": {
    "name": "ipython",
    "version": 3
   },
   "file_extension": ".py",
   "mimetype": "text/x-python",
   "name": "python",
   "nbconvert_exporter": "python",
   "pygments_lexer": "ipython3",
   "version": "3.8.13"
  },
  "toc-autonumbering": true,
  "toc-showmarkdowntxt": false
 },
 "nbformat": 4,
 "nbformat_minor": 4
}
