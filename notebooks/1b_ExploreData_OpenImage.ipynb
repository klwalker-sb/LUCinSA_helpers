{
 "cells": [
  {
   "cell_type": "markdown",
   "metadata": {
    "Collapsed": "false"
   },
   "source": [
    "# Plot individual images on the cluster"
   ]
  },
  {
   "cell_type": "markdown",
   "metadata": {
    "Collapsed": "false"
   },
   "source": [
    "This notebook enables up to view raster outputs (.tif and .nc) on the cluster without needing to transfer files"
   ]
  },
  {
   "cell_type": "markdown",
   "metadata": {
    "Collapsed": "false"
   },
   "source": [
    "## Imports"
   ]
  },
  {
   "cell_type": "code",
   "execution_count": 1,
   "metadata": {
    "Collapsed": "false"
   },
   "outputs": [],
   "source": [
    "import os\n",
    "import sys\n",
    "import ipywidgets as widgets #not really using right now\n",
    "from functools import partial #not really using right now\n",
    "from IPython.display import Image\n",
    "%matplotlib inline"
   ]
  },
  {
   "cell_type": "code",
   "execution_count": 2,
   "metadata": {},
   "outputs": [],
   "source": [
    "sys.path.append(r\"../LUCinSA_helpers\")\n",
    "from file_info import *\n",
    "from file_checks import *\n",
    "from plot import *"
   ]
  },
  {
   "cell_type": "code",
   "execution_count": 3,
   "metadata": {},
   "outputs": [],
   "source": [
    "class Counter:\n",
    "    def __init__(self, initial=0):\n",
    "        self.value = initial\n",
    "    def increment(self, amount=1):\n",
    "        self.value += amount\n",
    "        print(self.value)\n",
    "        return self.value\n",
    "    def __iter__(self, sentinal=False):\n",
    "        return iter(self.increment, sentinal)"
   ]
  },
  {
   "cell_type": "code",
   "execution_count": 4,
   "metadata": {},
   "outputs": [
    {
     "name": "stdout",
     "output_type": "stream",
     "text": [
      "Basic Parameters: \n",
      " PrintDate = 2023-11-28 \n",
      " brdf_dir = /home/sandbox-cel/paraguay_lc/stac/grid/003491/brdf \n",
      " data source = stac \n",
      " gridCell = 3491 \n",
      " index_dir = /home/downspout-cel/paraguay_lc/stac/grids/003491/brdf_ts/ms/evi2 \n",
      " home_dir = ~/data\n",
      "Plotting Parameters: \n",
      " Viewband = nir \n",
      " imageType = AllRaw \n",
      " plotYr = 2006 \n",
      " plotDay = 100\n"
     ]
    }
   ],
   "source": [
    "'''\n",
    "PARAMETERS: modify in Notebook_settings notebook, then run that notebook and this cell to update here\n",
    "DO not modify this cell\n",
    "'''\n",
    "\n",
    "%store -r basic_config\n",
    "print(\"Basic Parameters: \\n PrintDate = {} \\n brdf_dir = {} \\n data source = {} \\n gridCell = {} \\n index_dir = {} \\n home_dir = {}\"\n",
    "      .format(basic_config['today'],basic_config['brdf_dir'],basic_config['data_source'],basic_config['grid_cell'],basic_config['index_dir'],basic_config['home_dir']))\n",
    "\n",
    "%store -r single_plot_params\n",
    "print(\"Plotting Parameters: \\n Viewband = {} \\n imageType = {} \\n plotYr = {} \\n plotDay = {}\"\n",
    "      .format(single_plot_params['viewband'],single_plot_params['image_type'],single_plot_params['plot_yr'],single_plot_params['plot_day']))"
   ]
  },
  {
   "cell_type": "code",
   "execution_count": 31,
   "metadata": {},
   "outputs": [],
   "source": [
    "# interactive needs to be set to true in parameters if thumbnails are to be printed\n",
    "if single_plot_params['interactive'] == True:\n",
    "    from plot_interactive import *"
   ]
  },
  {
   "cell_type": "code",
   "execution_count": 5,
   "metadata": {},
   "outputs": [
    {
     "name": "stdout",
     "output_type": "stream",
     "text": [
      "closest downloaded Sentinel image is:\n",
      "     there are no Sentinel images for target year 2006\n",
      "closest Sentinel brdf is:\n",
      "     there are no Sentinel images for target year 2006\n",
      "closest downloaded Landsat image is:\n",
      "     there are no Landsat images for target year 2006\n",
      "closest downloaded Landsat5 image is:\n",
      "     there are no Landsat5 images for target year 2006\n",
      "closest downloaded Landsat7 image is:\n",
      "     there are no Landsat7 images for target year 2006\n",
      "closest downloaded Landsat8 image is:\n",
      "     there are no Landsat8 images for target year 2006\n",
      "closest downloaded Landsat9 image is:\n",
      "     there are no Landsat9 images for target year 2006\n",
      "closest Landsat brdf is:\n",
      "/home/sandbox-cel/paraguay_lc/stac/grid/003491/brdf/L3B_LT05_brdf22607702T1_20060408_20230601_C01_coreg.nc with file size 34680278\n",
      "closest smoothed evi2 index image is:\n",
      "/home/downspout-cel/paraguay_lc/stac/grids/003491/brdf_ts/ms/evi2/2006100.tif\n",
      "/home/downspout-cel/paraguay_lc/stac/grids/003491/brdf_ts/ms/evi2/2006100.tif with file size 8996993\n"
     ]
    }
   ],
   "source": [
    "print('closest downloaded Sentinel image is:')\n",
    "samp_img_raw_sentinel = get_closest_image(os.path.join(basic_config['raw_dir'],'{:06d}'.format(basic_config['grid_cell'])), 'Sentinel', basic_config['data_source'], single_plot_params['plot_yr'], single_plot_params['plot_day'])\n",
    "print('closest Sentinel brdf is:')\n",
    "samp_img_brdf_sentinel = get_closest_image(basic_config['brdf_dir'], 'Sentinel', basic_config['data_source'], single_plot_params['plot_yr'], single_plot_params['plot_day'])\n",
    "print('closest downloaded Landsat image is:')\n",
    "samp_img_raw_landsat = get_closest_image(os.path.join(basic_config['raw_dir'],'{:06d}'.format(basic_config['grid_cell'])), 'Landsat', basic_config['data_source'], single_plot_params['plot_yr'], single_plot_params['plot_day'])\n",
    "print('closest downloaded Landsat5 image is:')\n",
    "samp_img_raw_landsat5 = get_closest_image(os.path.join(basic_config['raw_dir'],'{:06d}'.format(basic_config['grid_cell'])), 'Landsat5', basic_config['data_source'], single_plot_params['plot_yr'], single_plot_params['plot_day'])\n",
    "print('closest downloaded Landsat7 image is:')\n",
    "samp_img_raw_landsat7 = get_closest_image(os.path.join(basic_config['raw_dir'],'{:06d}'.format(basic_config['grid_cell'])), 'Landsat7', basic_config['data_source'], single_plot_params['plot_yr'], single_plot_params['plot_day'])\n",
    "print('closest downloaded Landsat8 image is:')\n",
    "samp_img_raw_landsat8 = get_closest_image(os.path.join(basic_config['raw_dir'],'{:06d}'.format(basic_config['grid_cell'])), 'Landsat8', basic_config['data_source'], single_plot_params['plot_yr'], single_plot_params['plot_day'])\n",
    "print('closest downloaded Landsat9 image is:')\n",
    "samp_img_raw_landsat9 = get_closest_image(os.path.join(basic_config['raw_dir'],'{:06d}'.format(basic_config['grid_cell'])), 'Landsat9', basic_config['data_source'], single_plot_params['plot_yr'], single_plot_params['plot_day'])\n",
    "print('closest Landsat brdf is:')\n",
    "samp_img_brdf_landsat = get_closest_image(basic_config['brdf_dir'], 'Landsat', basic_config['data_source'],single_plot_params['plot_yr'], single_plot_params['plot_day'])\n",
    "print('closest smoothed {} index image is:'.format(basic_config['spec_index']))\n",
    "samp_img_smooth = get_closest_image(basic_config['index_dir'], 'Smooth', basic_config['data_source'], single_plot_params['plot_yr'], single_plot_params['plot_day'])"
   ]
  },
  {
   "cell_type": "code",
   "execution_count": 15,
   "metadata": {},
   "outputs": [
    {
     "name": "stdout",
     "output_type": "stream",
     "text": [
      "plotting nir band of image None\n"
     ]
    },
    {
     "ename": "AttributeError",
     "evalue": "'NoneType' object has no attribute 'endswith'",
     "output_type": "error",
     "traceback": [
      "\u001b[0;31m---------------------------------------------------------------------------\u001b[0m",
      "\u001b[0;31mAttributeError\u001b[0m                            Traceback (most recent call last)",
      "Cell \u001b[0;32mIn[15], line 6\u001b[0m\n\u001b[1;32m      3\u001b[0m     explore_band(samp_img_smooth, basic_config[\u001b[38;5;124m'\u001b[39m\u001b[38;5;124mspec_index\u001b[39m\u001b[38;5;124m'\u001b[39m])\n\u001b[1;32m      4\u001b[0m \u001b[38;5;28;01melif\u001b[39;00m single_plot_params[\u001b[38;5;124m'\u001b[39m\u001b[38;5;124mimage_type\u001b[39m\u001b[38;5;124m'\u001b[39m] \u001b[38;5;129;01min\u001b[39;00m [\u001b[38;5;124m'\u001b[39m\u001b[38;5;124mSentinel\u001b[39m\u001b[38;5;124m'\u001b[39m,\u001b[38;5;124m'\u001b[39m\u001b[38;5;124mAllRaw\u001b[39m\u001b[38;5;124m'\u001b[39m]:\n\u001b[1;32m      5\u001b[0m     \u001b[38;5;66;03m#get_valid_pix_per(samp_img_brdf_sentinel)\u001b[39;00m\n\u001b[0;32m----> 6\u001b[0m     \u001b[43mexplore_band\u001b[49m\u001b[43m(\u001b[49m\u001b[43msamp_img_brdf_sentinel\u001b[49m\u001b[43m,\u001b[49m\u001b[43m \u001b[49m\u001b[43msingle_plot_params\u001b[49m\u001b[43m[\u001b[49m\u001b[38;5;124;43m'\u001b[39;49m\u001b[38;5;124;43mviewband\u001b[39;49m\u001b[38;5;124;43m'\u001b[39;49m\u001b[43m]\u001b[49m\u001b[43m)\u001b[49m\n\u001b[1;32m      7\u001b[0m \u001b[38;5;28;01melif\u001b[39;00m single_plot_params[\u001b[38;5;124m'\u001b[39m\u001b[38;5;124mimage_type\u001b[39m\u001b[38;5;124m'\u001b[39m] \u001b[38;5;241m==\u001b[39m \u001b[38;5;124m'\u001b[39m\u001b[38;5;124mLandsat\u001b[39m\u001b[38;5;124m'\u001b[39m:\n\u001b[1;32m      8\u001b[0m     \u001b[38;5;66;03m#get_valid_pix_per(samp_img_brdf_landsat)\u001b[39;00m\n\u001b[1;32m      9\u001b[0m     explore_band(samp_img_brdf_landsat, single_plot_params[\u001b[38;5;124m'\u001b[39m\u001b[38;5;124mviewband\u001b[39m\u001b[38;5;124m'\u001b[39m])\n",
      "File \u001b[0;32m~/miniconda3/envs/venv.lucinla38_jupyter/lib/python3.8/site-packages/LUCinSA_helpers/plot.py:44\u001b[0m, in \u001b[0;36mexplore_band\u001b[0;34m(img, band)\u001b[0m\n\u001b[1;32m     41\u001b[0m \u001b[38;5;28mprint\u001b[39m(\u001b[38;5;124m'\u001b[39m\u001b[38;5;124mplotting \u001b[39m\u001b[38;5;132;01m{}\u001b[39;00m\u001b[38;5;124m band of image \u001b[39m\u001b[38;5;132;01m{}\u001b[39;00m\u001b[38;5;124m'\u001b[39m\u001b[38;5;241m.\u001b[39mformat(band, img))\n\u001b[1;32m     42\u001b[0m fig, axarr \u001b[38;5;241m=\u001b[39m plt\u001b[38;5;241m.\u001b[39msubplots(\u001b[38;5;241m1\u001b[39m, \u001b[38;5;241m3\u001b[39m, figsize\u001b[38;5;241m=\u001b[39m(\u001b[38;5;241m15\u001b[39m,\u001b[38;5;241m5\u001b[39m))\n\u001b[0;32m---> 44\u001b[0m \u001b[38;5;28;01mif\u001b[39;00m \u001b[43mimg\u001b[49m\u001b[38;5;241;43m.\u001b[39;49m\u001b[43mendswith\u001b[49m(\u001b[38;5;124m'\u001b[39m\u001b[38;5;124m.tif\u001b[39m\u001b[38;5;124m'\u001b[39m):\n\u001b[1;32m     45\u001b[0m     \u001b[38;5;28mprint\u001b[39m (\u001b[38;5;124m'\u001b[39m\u001b[38;5;124mthis is in .tif format\u001b[39m\u001b[38;5;124m'\u001b[39m)\n\u001b[1;32m     46\u001b[0m     \u001b[38;5;28;01mwith\u001b[39;00m rio\u001b[38;5;241m.\u001b[39mopen(img) \u001b[38;5;28;01mas\u001b[39;00m src:\n",
      "\u001b[0;31mAttributeError\u001b[0m: 'NoneType' object has no attribute 'endswith'"
     ]
    },
    {
     "data": {
      "image/png": "[encoded data removed]",
      "text/plain": [
       "<Figure size 1500x500 with 3 Axes>"
      ]
     },
     "metadata": {},
     "output_type": "display_data"
    }
   ],
   "source": [
    "if single_plot_params['image_type'] == 'Smooth':\n",
    "    #get_valid_pix_per(samp_img_smooth)\n",
    "    explore_band(samp_img_smooth, basic_config['spec_index'])\n",
    "elif single_plot_params['image_type'] in ['Sentinel','AllRaw']:\n",
    "    #get_valid_pix_per(samp_img_brdf_sentinel)\n",
    "    explore_band(samp_img_brdf_sentinel, single_plot_params['viewband'])\n",
    "elif single_plot_params['image_type'] == 'Landsat':\n",
    "    #get_valid_pix_per(samp_img_brdf_landsat)\n",
    "    explore_band(samp_img_brdf_landsat, single_plot_params['viewband'])"
   ]
  },
  {
   "cell_type": "code",
   "execution_count": 8,
   "metadata": {},
   "outputs": [
    {
     "name": "stdout",
     "output_type": "stream",
     "text": [
      "plotting nir band of image None\n"
     ]
    },
    {
     "ename": "AttributeError",
     "evalue": "'NoneType' object has no attribute 'endswith'",
     "output_type": "error",
     "traceback": [
      "\u001b[0;31m---------------------------------------------------------------------------\u001b[0m",
      "\u001b[0;31mAttributeError\u001b[0m                            Traceback (most recent call last)",
      "Cell \u001b[0;32mIn[8], line 1\u001b[0m\n\u001b[0;32m----> 1\u001b[0m \u001b[43mexplore_band\u001b[49m\u001b[43m(\u001b[49m\u001b[43msamp_img_raw_sentinel\u001b[49m\u001b[43m,\u001b[49m\u001b[43m \u001b[49m\u001b[43msingle_plot_params\u001b[49m\u001b[43m[\u001b[49m\u001b[38;5;124;43m'\u001b[39;49m\u001b[38;5;124;43mviewband\u001b[39;49m\u001b[38;5;124;43m'\u001b[39;49m\u001b[43m]\u001b[49m\u001b[43m)\u001b[49m;\n",
      "File \u001b[0;32m~/miniconda3/envs/venv.lucinla38_jupyter/lib/python3.8/site-packages/LUCinSA_helpers/plot.py:44\u001b[0m, in \u001b[0;36mexplore_band\u001b[0;34m(img, band)\u001b[0m\n\u001b[1;32m     41\u001b[0m \u001b[38;5;28mprint\u001b[39m(\u001b[38;5;124m'\u001b[39m\u001b[38;5;124mplotting \u001b[39m\u001b[38;5;132;01m{}\u001b[39;00m\u001b[38;5;124m band of image \u001b[39m\u001b[38;5;132;01m{}\u001b[39;00m\u001b[38;5;124m'\u001b[39m\u001b[38;5;241m.\u001b[39mformat(band, img))\n\u001b[1;32m     42\u001b[0m fig, axarr \u001b[38;5;241m=\u001b[39m plt\u001b[38;5;241m.\u001b[39msubplots(\u001b[38;5;241m1\u001b[39m, \u001b[38;5;241m3\u001b[39m, figsize\u001b[38;5;241m=\u001b[39m(\u001b[38;5;241m15\u001b[39m,\u001b[38;5;241m5\u001b[39m))\n\u001b[0;32m---> 44\u001b[0m \u001b[38;5;28;01mif\u001b[39;00m \u001b[43mimg\u001b[49m\u001b[38;5;241;43m.\u001b[39;49m\u001b[43mendswith\u001b[49m(\u001b[38;5;124m'\u001b[39m\u001b[38;5;124m.tif\u001b[39m\u001b[38;5;124m'\u001b[39m):\n\u001b[1;32m     45\u001b[0m     \u001b[38;5;28mprint\u001b[39m (\u001b[38;5;124m'\u001b[39m\u001b[38;5;124mthis is in .tif format\u001b[39m\u001b[38;5;124m'\u001b[39m)\n\u001b[1;32m     46\u001b[0m     \u001b[38;5;28;01mwith\u001b[39;00m rio\u001b[38;5;241m.\u001b[39mopen(img) \u001b[38;5;28;01mas\u001b[39;00m src:\n",
      "\u001b[0;31mAttributeError\u001b[0m: 'NoneType' object has no attribute 'endswith'"
     ]
    },
    {
     "data": {
      "image/png": "[encoded data removed]",
      "text/plain": [
       "<Figure size 1500x500 with 3 Axes>"
      ]
     },
     "metadata": {},
     "output_type": "display_data"
    }
   ],
   "source": [
    "explore_band(samp_img_raw_sentinel, single_plot_params['viewband']);"
   ]
  },
  {
   "cell_type": "code",
   "execution_count": 9,
   "metadata": {},
   "outputs": [
    {
     "name": "stdout",
     "output_type": "stream",
     "text": [
      "plotting nir band of image None\n"
     ]
    },
    {
     "ename": "AttributeError",
     "evalue": "'NoneType' object has no attribute 'endswith'",
     "output_type": "error",
     "traceback": [
      "\u001b[0;31m---------------------------------------------------------------------------\u001b[0m",
      "\u001b[0;31mAttributeError\u001b[0m                            Traceback (most recent call last)",
      "Cell \u001b[0;32mIn[9], line 1\u001b[0m\n\u001b[0;32m----> 1\u001b[0m \u001b[43mexplore_band\u001b[49m\u001b[43m(\u001b[49m\u001b[43msamp_img_raw_landsat\u001b[49m\u001b[43m,\u001b[49m\u001b[43m \u001b[49m\u001b[43msingle_plot_params\u001b[49m\u001b[43m[\u001b[49m\u001b[38;5;124;43m'\u001b[39;49m\u001b[38;5;124;43mviewband\u001b[39;49m\u001b[38;5;124;43m'\u001b[39;49m\u001b[43m]\u001b[49m\u001b[43m)\u001b[49m;\n",
      "File \u001b[0;32m~/miniconda3/envs/venv.lucinla38_jupyter/lib/python3.8/site-packages/LUCinSA_helpers/plot.py:44\u001b[0m, in \u001b[0;36mexplore_band\u001b[0;34m(img, band)\u001b[0m\n\u001b[1;32m     41\u001b[0m \u001b[38;5;28mprint\u001b[39m(\u001b[38;5;124m'\u001b[39m\u001b[38;5;124mplotting \u001b[39m\u001b[38;5;132;01m{}\u001b[39;00m\u001b[38;5;124m band of image \u001b[39m\u001b[38;5;132;01m{}\u001b[39;00m\u001b[38;5;124m'\u001b[39m\u001b[38;5;241m.\u001b[39mformat(band, img))\n\u001b[1;32m     42\u001b[0m fig, axarr \u001b[38;5;241m=\u001b[39m plt\u001b[38;5;241m.\u001b[39msubplots(\u001b[38;5;241m1\u001b[39m, \u001b[38;5;241m3\u001b[39m, figsize\u001b[38;5;241m=\u001b[39m(\u001b[38;5;241m15\u001b[39m,\u001b[38;5;241m5\u001b[39m))\n\u001b[0;32m---> 44\u001b[0m \u001b[38;5;28;01mif\u001b[39;00m \u001b[43mimg\u001b[49m\u001b[38;5;241;43m.\u001b[39;49m\u001b[43mendswith\u001b[49m(\u001b[38;5;124m'\u001b[39m\u001b[38;5;124m.tif\u001b[39m\u001b[38;5;124m'\u001b[39m):\n\u001b[1;32m     45\u001b[0m     \u001b[38;5;28mprint\u001b[39m (\u001b[38;5;124m'\u001b[39m\u001b[38;5;124mthis is in .tif format\u001b[39m\u001b[38;5;124m'\u001b[39m)\n\u001b[1;32m     46\u001b[0m     \u001b[38;5;28;01mwith\u001b[39;00m rio\u001b[38;5;241m.\u001b[39mopen(img) \u001b[38;5;28;01mas\u001b[39;00m src:\n",
      "\u001b[0;31mAttributeError\u001b[0m: 'NoneType' object has no attribute 'endswith'"
     ]
    },
    {
     "data": {
      "image/png": "[encoded data removed]",
      "text/plain": [
       "<Figure size 1500x500 with 3 Axes>"
      ]
     },
     "metadata": {},
     "output_type": "display_data"
    }
   ],
   "source": [
    "explore_band(samp_img_raw_landsat, single_plot_params['viewband']);"
   ]
  },
  {
   "cell_type": "markdown",
   "metadata": {
    "Collapsed": "false"
   },
   "source": [
    "## Plot 3-band image"
   ]
  },
  {
   "cell_type": "code",
   "execution_count": 16,
   "metadata": {},
   "outputs": [
    {
     "ename": "AttributeError",
     "evalue": "'NoneType' object has no attribute 'endswith'",
     "output_type": "error",
     "traceback": [
      "\u001b[0;31m---------------------------------------------------------------------------\u001b[0m",
      "\u001b[0;31mAttributeError\u001b[0m                            Traceback (most recent call last)",
      "Cell \u001b[0;32mIn[16], line 2\u001b[0m\n\u001b[1;32m      1\u001b[0m fig, axarr \u001b[38;5;241m=\u001b[39m plt\u001b[38;5;241m.\u001b[39msubplots(\u001b[38;5;241m1\u001b[39m, \u001b[38;5;241m2\u001b[39m, figsize\u001b[38;5;241m=\u001b[39m(\u001b[38;5;241m15\u001b[39m,\u001b[38;5;241m5\u001b[39m))\n\u001b[0;32m----> 2\u001b[0m l_rgb \u001b[38;5;241m=\u001b[39m \u001b[43mget_rbg_img\u001b[49m\u001b[43m(\u001b[49m\u001b[43msamp_img_raw_landsat\u001b[49m\u001b[43m,\u001b[49m\u001b[43msingle_plot_params\u001b[49m\u001b[43m[\u001b[49m\u001b[38;5;124;43m'\u001b[39;49m\u001b[38;5;124;43mgamma\u001b[39;49m\u001b[38;5;124;43m'\u001b[39;49m\u001b[43m]\u001b[49m\u001b[43m)\u001b[49m\n\u001b[1;32m      3\u001b[0m axarr[\u001b[38;5;241m0\u001b[39m]\u001b[38;5;241m.\u001b[39mimshow(l_rgb)\n\u001b[1;32m      4\u001b[0m axarr[\u001b[38;5;241m0\u001b[39m]\u001b[38;5;241m.\u001b[39mset_title(\u001b[38;5;124m\"\u001b[39m\u001b[38;5;124mLandsat\u001b[39m\u001b[38;5;124m\"\u001b[39m)\n",
      "File \u001b[0;32m~/miniconda3/envs/venv.lucinla38_jupyter/lib/python3.8/site-packages/LUCinSA_helpers/plot.py:109\u001b[0m, in \u001b[0;36mget_rbg_img\u001b[0;34m(image, gamma)\u001b[0m\n\u001b[1;32m    107\u001b[0m \u001b[38;5;28;01mdef\u001b[39;00m \u001b[38;5;21mget_rbg_img\u001b[39m(image, gamma):\n\u001b[0;32m--> 109\u001b[0m     \u001b[38;5;28;01mif\u001b[39;00m \u001b[43mimage\u001b[49m\u001b[38;5;241;43m.\u001b[39;49m\u001b[43mendswith\u001b[49m(\u001b[38;5;124m'\u001b[39m\u001b[38;5;124m.tif\u001b[39m\u001b[38;5;124m'\u001b[39m):\n\u001b[1;32m    110\u001b[0m         \u001b[38;5;28;01mwith\u001b[39;00m rio\u001b[38;5;241m.\u001b[39mopen(image) \u001b[38;5;28;01mas\u001b[39;00m src:\n\u001b[1;32m    111\u001b[0m             red0 \u001b[38;5;241m=\u001b[39m src\u001b[38;5;241m.\u001b[39mread(\u001b[38;5;241m3\u001b[39m, masked\u001b[38;5;241m=\u001b[39m\u001b[38;5;28;01mTrue\u001b[39;00m)\n",
      "\u001b[0;31mAttributeError\u001b[0m: 'NoneType' object has no attribute 'endswith'"
     ]
    },
    {
     "data": {
      "image/png": "[encoded data removed]",
      "text/plain": [
       "<Figure size 1500x500 with 2 Axes>"
      ]
     },
     "metadata": {},
     "output_type": "display_data"
    }
   ],
   "source": [
    "fig, axarr = plt.subplots(1, 2, figsize=(15,5))\n",
    "l_rgb = get_rbg_img(samp_img_raw_landsat,single_plot_params['gamma'])\n",
    "axarr[0].imshow(l_rgb)\n",
    "axarr[0].set_title(\"Landsat\")\n",
    "axarr[0].axis('off')\n",
    "s_rgb = get_rbg_img(samp_img_raw_sentinel,single_plot_params['gamma'])\n",
    "axarr[1].imshow(s_rgb)\n",
    "axarr[1].set_title(\"Sentinel\")\n",
    "axarr[1].axis('off');"
   ]
  },
  {
   "cell_type": "code",
   "execution_count": 21,
   "metadata": {},
   "outputs": [
    {
     "data": {
      "application/vnd.jupyter.widget-view+json": {
       "model_id": "bedd248b537e42d4a3c2d437e95c104f",
       "version_major": 2,
       "version_minor": 0
      },
      "text/plain": [
       "Button(description='Next', style=ButtonStyle())"
      ]
     },
     "metadata": {},
     "output_type": "display_data"
    }
   ],
   "source": [
    "def button_iterater(counter, w):\n",
    "    counter.increment()    \n",
    "\n",
    "counter = Counter()\n",
    "w = widgets.Button(description='Next')\n",
    "w.on_click(partial(button_iterater, counter))\n",
    "display(w)"
   ]
  },
  {
   "cell_type": "code",
   "execution_count": 22,
   "metadata": {},
   "outputs": [
    {
     "data": {
      "image/png": "[encoded data removed]",
      "text/plain": [
       "<Figure size 1800x1200 with 1 Axes>"
      ]
     },
     "metadata": {},
     "output_type": "display_data"
    }
   ],
   "source": [
    "l_rgb = get_rbg_img(samp_img_raw_landsat,single_plot_params['gamma'])\n",
    "fig = plt.figure(figsize=(18,12))\n",
    "plt.imshow(l_rgb)\n",
    "plt.title(\"Landsat\")\n",
    "plt.axis('off');"
   ]
  },
  {
   "cell_type": "markdown",
   "metadata": {},
   "source": [
    "## Compare original, downloaded and brdf image:"
   ]
  },
  {
   "cell_type": "code",
   "execution_count": 11,
   "metadata": {},
   "outputs": [
    {
     "ename": "TypeError",
     "evalue": "expected str, bytes or os.PathLike object, not NoneType",
     "output_type": "error",
     "traceback": [
      "\u001b[0;31m---------------------------------------------------------------------------\u001b[0m",
      "\u001b[0;31mTypeError\u001b[0m                                 Traceback (most recent call last)",
      "Cell \u001b[0;32mIn[11], line 1\u001b[0m\n\u001b[0;32m----> 1\u001b[0m l_orig_id \u001b[38;5;241m=\u001b[39m \u001b[43mos\u001b[49m\u001b[38;5;241;43m.\u001b[39;49m\u001b[43mpath\u001b[49m\u001b[38;5;241;43m.\u001b[39;49m\u001b[43mbasename\u001b[49m\u001b[43m(\u001b[49m\u001b[43msamp_img_raw_landsat\u001b[49m\u001b[43m)\u001b[49m\u001b[38;5;241m.\u001b[39mstrip(\u001b[38;5;124m'\u001b[39m\u001b[38;5;124m.tif\u001b[39m\u001b[38;5;124m'\u001b[39m)\n\u001b[1;32m      2\u001b[0m l_orig \u001b[38;5;241m=\u001b[39m get_img_from_planetary_hub(l_orig_id)\n\u001b[1;32m      3\u001b[0m Image(url\u001b[38;5;241m=\u001b[39ml_orig\u001b[38;5;241m.\u001b[39massets[\u001b[38;5;124m\"\u001b[39m\u001b[38;5;124mrendered_preview\u001b[39m\u001b[38;5;124m\"\u001b[39m]\u001b[38;5;241m.\u001b[39mhref, width\u001b[38;5;241m=\u001b[39m\u001b[38;5;241m500\u001b[39m)\n",
      "File \u001b[0;32m~/miniconda3/envs/venv.lucinla38_jupyter/lib/python3.8/posixpath.py:142\u001b[0m, in \u001b[0;36mbasename\u001b[0;34m(p)\u001b[0m\n\u001b[1;32m    140\u001b[0m \u001b[38;5;28;01mdef\u001b[39;00m \u001b[38;5;21mbasename\u001b[39m(p):\n\u001b[1;32m    141\u001b[0m \u001b[38;5;250m    \u001b[39m\u001b[38;5;124;03m\"\"\"Returns the final component of a pathname\"\"\"\u001b[39;00m\n\u001b[0;32m--> 142\u001b[0m     p \u001b[38;5;241m=\u001b[39m \u001b[43mos\u001b[49m\u001b[38;5;241;43m.\u001b[39;49m\u001b[43mfspath\u001b[49m\u001b[43m(\u001b[49m\u001b[43mp\u001b[49m\u001b[43m)\u001b[49m\n\u001b[1;32m    143\u001b[0m     sep \u001b[38;5;241m=\u001b[39m _get_sep(p)\n\u001b[1;32m    144\u001b[0m     i \u001b[38;5;241m=\u001b[39m p\u001b[38;5;241m.\u001b[39mrfind(sep) \u001b[38;5;241m+\u001b[39m \u001b[38;5;241m1\u001b[39m\n",
      "\u001b[0;31mTypeError\u001b[0m: expected str, bytes or os.PathLike object, not NoneType"
     ]
    }
   ],
   "source": [
    "l_orig_id = os.path.basename(samp_img_raw_landsat).strip('.tif')\n",
    "l_orig = get_img_from_planetary_hub(l_orig_id)\n",
    "Image(url=l_orig.assets[\"rendered_preview\"].href, width=500)"
   ]
  },
  {
   "cell_type": "code",
   "execution_count": 24,
   "metadata": {},
   "outputs": [
    {
     "ename": "AttributeError",
     "evalue": "'NoneType' object has no attribute 'endswith'",
     "output_type": "error",
     "traceback": [
      "\u001b[0;31m---------------------------------------------------------------------------\u001b[0m",
      "\u001b[0;31mAttributeError\u001b[0m                            Traceback (most recent call last)",
      "Cell \u001b[0;32mIn[24], line 4\u001b[0m\n\u001b[1;32m      2\u001b[0m l_dl \u001b[38;5;241m=\u001b[39m get_rbg_img(samp_img_raw_landsat,single_plot_params[\u001b[38;5;124m'\u001b[39m\u001b[38;5;124mgamma\u001b[39m\u001b[38;5;124m'\u001b[39m])\n\u001b[1;32m      3\u001b[0m l_brdf \u001b[38;5;241m=\u001b[39m get_rbg_img(samp_img_brdf_landsat,single_plot_params[\u001b[38;5;124m'\u001b[39m\u001b[38;5;124mgamma\u001b[39m\u001b[38;5;124m'\u001b[39m])\n\u001b[0;32m----> 4\u001b[0m s_dl \u001b[38;5;241m=\u001b[39m \u001b[43mget_rbg_img\u001b[49m\u001b[43m(\u001b[49m\u001b[43msamp_img_raw_sentinel\u001b[49m\u001b[43m,\u001b[49m\u001b[43msingle_plot_params\u001b[49m\u001b[43m[\u001b[49m\u001b[38;5;124;43m'\u001b[39;49m\u001b[38;5;124;43mgamma\u001b[39;49m\u001b[38;5;124;43m'\u001b[39;49m\u001b[43m]\u001b[49m\u001b[43m)\u001b[49m\n\u001b[1;32m      5\u001b[0m s_brdf \u001b[38;5;241m=\u001b[39m get_rbg_img(samp_img_brdf_sentinel,single_plot_params[\u001b[38;5;124m'\u001b[39m\u001b[38;5;124mgamma\u001b[39m\u001b[38;5;124m'\u001b[39m])\n\u001b[1;32m      7\u001b[0m axarr[\u001b[38;5;241m0\u001b[39m,\u001b[38;5;241m0\u001b[39m]\u001b[38;5;241m.\u001b[39mimshow(l_dl)\n",
      "File \u001b[0;32m~/Jupyter/LUCinSA_helpers/LUCinSA_helpers/notebooks/../LUCinSA_helpers/plot.py:101\u001b[0m, in \u001b[0;36mget_rbg_img\u001b[0;34m(image, gamma)\u001b[0m\n\u001b[1;32m     99\u001b[0m \u001b[38;5;28;01mdef\u001b[39;00m \u001b[38;5;21mget_rbg_img\u001b[39m(image, gamma):\n\u001b[0;32m--> 101\u001b[0m     \u001b[38;5;28;01mif\u001b[39;00m \u001b[43mimage\u001b[49m\u001b[38;5;241;43m.\u001b[39;49m\u001b[43mendswith\u001b[49m(\u001b[38;5;124m'\u001b[39m\u001b[38;5;124m.tif\u001b[39m\u001b[38;5;124m'\u001b[39m):\n\u001b[1;32m    102\u001b[0m         \u001b[38;5;28;01mwith\u001b[39;00m rio\u001b[38;5;241m.\u001b[39mopen(image) \u001b[38;5;28;01mas\u001b[39;00m src:\n\u001b[1;32m    103\u001b[0m             red0 \u001b[38;5;241m=\u001b[39m src\u001b[38;5;241m.\u001b[39mread(\u001b[38;5;241m3\u001b[39m, masked\u001b[38;5;241m=\u001b[39m\u001b[38;5;28;01mTrue\u001b[39;00m)\n",
      "\u001b[0;31mAttributeError\u001b[0m: 'NoneType' object has no attribute 'endswith'"
     ]
    },
    {
     "data": {
      "image/png": "[encoded data removed]",
      "text/plain": [
       "<Figure size 1000x1000 with 4 Axes>"
      ]
     },
     "metadata": {},
     "output_type": "display_data"
    }
   ],
   "source": [
    "fig, axarr = plt.subplots(2, 2, figsize=(10,10))\n",
    "l_dl = get_rbg_img(samp_img_raw_landsat,single_plot_params['gamma'])\n",
    "l_brdf = get_rbg_img(samp_img_brdf_landsat,single_plot_params['gamma'])\n",
    "s_dl = get_rbg_img(samp_img_raw_sentinel,single_plot_params['gamma'])\n",
    "s_brdf = get_rbg_img(samp_img_brdf_sentinel,single_plot_params['gamma'])\n",
    "\n",
    "axarr[0,0].imshow(l_dl)\n",
    "axarr[0,0].set_title(\"original Landsat download\")\n",
    "axarr[0,0].axis('off')\n",
    "axarr[0,1].imshow(l_brdf)\n",
    "axarr[0,1].set_title(\"Landsat brdf\")\n",
    "axarr[0,1].axis('off')\n",
    "axarr[1,0].imshow(s_dl)\n",
    "axarr[1,0].set_title(\"original Sentinel download\")\n",
    "axarr[1,0].axis('off')\n",
    "axarr[1,1].imshow(s_brdf)\n",
    "axarr[1,1].set_title(\"Sentinel brdf\")\n",
    "axarr[1,1].axis('off');"
   ]
  },
  {
   "cell_type": "markdown",
   "metadata": {},
   "source": [
    "## Iterate through images with button (not really using at moment)"
   ]
  },
  {
   "cell_type": "code",
   "execution_count": null,
   "metadata": {},
   "outputs": [],
   "source": [
    "imgs = [f for f in os.listdir(basic_config['brdf_dir']) if f.endswith(tuple(['.nc','tif'])) and 'X.nc' not in f]\n",
    "def button_iterater(counter, w):\n",
    "    counter.increment()  \n",
    "def iterate_images(counter, w):\n",
    "    counter.increment() \n",
    "    img = get_rbg_img(os.path.join(basic_config['brdf_dir'],imgs[counter.value]),single_plot_params['gamma'])\n",
    "    fig = plt.figure(figsize=(7,5))\n",
    "    plt.imshow(img)\n",
    "                                                      \n",
    "counter = Counter()\n",
    "w = widgets.Button(description='Next image')\n",
    "w.on_click(partial(iterate_images, counter))\n",
    "display(w)"
   ]
  },
  {
   "cell_type": "markdown",
   "metadata": {},
   "source": [
    "# make / view thumbnails for all images in directory"
   ]
  },
  {
   "cell_type": "code",
   "execution_count": 33,
   "metadata": {},
   "outputs": [],
   "source": [
    "yrs = str(single_plot_params['plot_yr'])\n",
    "if single_plot_params['image_type'] == 'AllRaw':\n",
    "    img_dir = basic_config['brdf_dir']\n",
    "    thumbnail_dir = os.path.join(basic_config['raw_dir'],'{:06d}'.format(basic_config['grid_cell']), 'thumbnails','brdf')\n",
    "    exclude='X.nc'\n",
    "    include=None\n",
    "    out_file = \"./Outputs/img_thumbnails/{}_brdf_{}.png\".format(basic_config['grid_cell'], yrs)\n",
    "elif single_plot_params['image_type'] == 'Landsat':\n",
    "    img_dir = os.path.join(basic_config['raw_dir'],'{:06d}'.format(basic_config['grid_cell']),'landsat')\n",
    "    thumbnail_dir = os.path.join(basic_config['raw_dir'],'{:06d}'.format(basic_config['grid_cell']), 'thumbnails','Landsat_dls')\n",
    "    exclude=None\n",
    "    include='.tif'\n",
    "    out_file = \"./Outputs/img_thumbnails/{}_Landsat_{}.png\".format(basic_config['grid_cell'], yrs)\n",
    "view_thumbnails(img_dir,thumbnail_dir,out_file,single_plot_params['gamma'],exclude,include,yrs,reduct_factor=10)"
   ]
  },
  {
   "cell_type": "markdown",
   "metadata": {},
   "source": [
    "# view images that failed to coregister:"
   ]
  },
  {
   "cell_type": "code",
   "execution_count": null,
   "metadata": {},
   "outputs": [],
   "source": [
    "#yrs = str(single_plot_params['plot_yr'])\n",
    "yrs = None\n",
    "img_dir = basic_config['brdf_dir']\n",
    "#img_dir = os.path.join(basic_config['raw_dir'],'{:06d}'.format(basic_config['grid_cell'],'Landsat')\n",
    "thumbnail_dir = os.path.join(basic_config['raw_dir'],'{:06d}'.format(basic_config['grid_cell']), 'thumbnails','brdf')\n",
    "exclude=None\n",
    "include='X.nc'\n",
    "out_file = \"./Outputs/img_thumbnails/{}_failed_coreg_{}.png\".format(basic_config['grid_cell'], yrs)\n",
    "view_thumbnails(img_dir,thumbnail_dir,out_file,single_plot_params['gamma'],exclude,include,yrs,reduct_factor=10)"
   ]
  },
  {
   "cell_type": "markdown",
   "metadata": {},
   "source": [
    "# File checks -- more complete in other notebooks"
   ]
  },
  {
   "cell_type": "code",
   "execution_count": 39,
   "metadata": {},
   "outputs": [
    {
     "data": {
      "text/html": [
       "<div>\n",
       "<style scoped>\n",
       "    .dataframe tbody tr th:only-of-type {\n",
       "        vertical-align: middle;\n",
       "    }\n",
       "\n",
       "    .dataframe tbody tr th {\n",
       "        vertical-align: top;\n",
       "    }\n",
       "\n",
       "    .dataframe thead th {\n",
       "        text-align: right;\n",
       "    }\n",
       "</style>\n",
       "<table border=\"1\" class=\"dataframe\">\n",
       "  <thead>\n",
       "    <tr style=\"text-align: right;\">\n",
       "      <th>id</th>\n",
       "      <th>dl</th>\n",
       "      <th>beforeDB</th>\n",
       "      <th>redownload</th>\n",
       "      <th>skip</th>\n",
       "      <th>skip_reason</th>\n",
       "      <th>error</th>\n",
       "      <th>dldate</th>\n",
       "      <th>brdf_id</th>\n",
       "      <th>brdf_error</th>\n",
       "      <th>brdf</th>\n",
       "      <th>bandpass</th>\n",
       "    </tr>\n",
       "  </thead>\n",
       "  <tbody>\n",
       "    <tr>\n",
       "      <th>LE07_L2SP_228076_20141216_02_T1</th>\n",
       "      <td>/home/sandbox-cel/paraguay_lc/stac/grid/003121...</td>\n",
       "      <td>True</td>\n",
       "      <td>False</td>\n",
       "      <td>False</td>\n",
       "      <td>NaN</td>\n",
       "      <td>NaN</td>\n",
       "      <td>NaN</td>\n",
       "      <td>L3B_LE07_brdf22807602T1_20141216_20231124_C01.nc</td>\n",
       "      <td>None</td>\n",
       "      <td>True</td>\n",
       "      <td>True</td>\n",
       "    </tr>\n",
       "    <tr>\n",
       "      <th>LE07_L2SP_228076_20150117_02_T1</th>\n",
       "      <td>/home/sandbox-cel/paraguay_lc/stac/grid/003121...</td>\n",
       "      <td>True</td>\n",
       "      <td>False</td>\n",
       "      <td>False</td>\n",
       "      <td>NaN</td>\n",
       "      <td>NaN</td>\n",
       "      <td>NaN</td>\n",
       "      <td>NaN</td>\n",
       "      <td>NaN</td>\n",
       "      <td>NaN</td>\n",
       "      <td>NaN</td>\n",
       "    </tr>\n",
       "    <tr>\n",
       "      <th>LE07_L2SP_228075_20010126_02_T1</th>\n",
       "      <td>/home/sandbox-cel/paraguay_lc/stac/grid/003121...</td>\n",
       "      <td>True</td>\n",
       "      <td>False</td>\n",
       "      <td>False</td>\n",
       "      <td>NaN</td>\n",
       "      <td>NaN</td>\n",
       "      <td>NaN</td>\n",
       "      <td>L3B_LE07_brdf22807502T1_20010126_20231124_C01.nc</td>\n",
       "      <td>None</td>\n",
       "      <td>True</td>\n",
       "      <td>True</td>\n",
       "    </tr>\n",
       "    <tr>\n",
       "      <th>LT05_L2SP_228075_20080902_02_T1</th>\n",
       "      <td>/home/sandbox-cel/paraguay_lc/stac/grid/003121...</td>\n",
       "      <td>True</td>\n",
       "      <td>False</td>\n",
       "      <td>False</td>\n",
       "      <td>NaN</td>\n",
       "      <td>NaN</td>\n",
       "      <td>NaN</td>\n",
       "      <td>L3B_LT05_brdf22807502T1_20080902_20231124_C01.nc</td>\n",
       "      <td>None</td>\n",
       "      <td>True</td>\n",
       "      <td>True</td>\n",
       "    </tr>\n",
       "    <tr>\n",
       "      <th>LT05_L2SP_228075_20040212_02_T1</th>\n",
       "      <td>/home/sandbox-cel/paraguay_lc/stac/grid/003121...</td>\n",
       "      <td>True</td>\n",
       "      <td>False</td>\n",
       "      <td>False</td>\n",
       "      <td>NaN</td>\n",
       "      <td>NaN</td>\n",
       "      <td>NaN</td>\n",
       "      <td>L3B_LT05_brdf22807502T1_20040212_20231124_C01.nc</td>\n",
       "      <td>None</td>\n",
       "      <td>True</td>\n",
       "      <td>True</td>\n",
       "    </tr>\n",
       "  </tbody>\n",
       "</table>\n",
       "</div>"
      ],
      "text/plain": [
       "id                                                                              dl  \\\n",
       "LE07_L2SP_228076_20141216_02_T1  /home/sandbox-cel/paraguay_lc/stac/grid/003121...   \n",
       "LE07_L2SP_228076_20150117_02_T1  /home/sandbox-cel/paraguay_lc/stac/grid/003121...   \n",
       "LE07_L2SP_228075_20010126_02_T1  /home/sandbox-cel/paraguay_lc/stac/grid/003121...   \n",
       "LT05_L2SP_228075_20080902_02_T1  /home/sandbox-cel/paraguay_lc/stac/grid/003121...   \n",
       "LT05_L2SP_228075_20040212_02_T1  /home/sandbox-cel/paraguay_lc/stac/grid/003121...   \n",
       "\n",
       "id                              beforeDB  redownload   skip skip_reason error  \\\n",
       "LE07_L2SP_228076_20141216_02_T1     True       False  False         NaN   NaN   \n",
       "LE07_L2SP_228076_20150117_02_T1     True       False  False         NaN   NaN   \n",
       "LE07_L2SP_228075_20010126_02_T1     True       False  False         NaN   NaN   \n",
       "LT05_L2SP_228075_20080902_02_T1     True       False  False         NaN   NaN   \n",
       "LT05_L2SP_228075_20040212_02_T1     True       False  False         NaN   NaN   \n",
       "\n",
       "id                              dldate  \\\n",
       "LE07_L2SP_228076_20141216_02_T1    NaN   \n",
       "LE07_L2SP_228076_20150117_02_T1    NaN   \n",
       "LE07_L2SP_228075_20010126_02_T1    NaN   \n",
       "LT05_L2SP_228075_20080902_02_T1    NaN   \n",
       "LT05_L2SP_228075_20040212_02_T1    NaN   \n",
       "\n",
       "id                                                                        brdf_id  \\\n",
       "LE07_L2SP_228076_20141216_02_T1  L3B_LE07_brdf22807602T1_20141216_20231124_C01.nc   \n",
       "LE07_L2SP_228076_20150117_02_T1                                               NaN   \n",
       "LE07_L2SP_228075_20010126_02_T1  L3B_LE07_brdf22807502T1_20010126_20231124_C01.nc   \n",
       "LT05_L2SP_228075_20080902_02_T1  L3B_LT05_brdf22807502T1_20080902_20231124_C01.nc   \n",
       "LT05_L2SP_228075_20040212_02_T1  L3B_LT05_brdf22807502T1_20040212_20231124_C01.nc   \n",
       "\n",
       "id                              brdf_error  brdf bandpass  \n",
       "LE07_L2SP_228076_20141216_02_T1       None  True     True  \n",
       "LE07_L2SP_228076_20150117_02_T1        NaN   NaN      NaN  \n",
       "LE07_L2SP_228075_20010126_02_T1       None  True     True  \n",
       "LT05_L2SP_228075_20080902_02_T1       None  True     True  \n",
       "LT05_L2SP_228075_20040212_02_T1       None  True     True  "
      ]
     },
     "execution_count": 39,
     "metadata": {},
     "output_type": "execute_result"
    }
   ],
   "source": [
    "df = pd.read_pickle(os.path.join(basic_config['raw_dir'],'{:06d}'.format(basic_config['grid_cell']),'processing.info'))\n",
    "df.head()"
   ]
  },
  {
   "cell_type": "code",
   "execution_count": null,
   "metadata": {},
   "outputs": [],
   "source": [
    "## Slice processing database by start and end years in parameters\n",
    "\n",
    "processing_db = read_db(os.path.join(basic_config['raw_dir'],'{:06d}'.format(basic_config['grid_cell']),'processing.info'), db_version='current')\n",
    "processing_db['date'] = pd.to_datetime(processing_db['date'], format='%Y%m%d', errors='coerce').dt.date\n",
    "\n",
    "start = datetime.datetime.strptime('{}-01-01'.format(single_plot_params['plot_yr']),'%Y-%m-%d').date()\n",
    "end = datetime.datetime.strptime('{}-12-31'.format(single_plot_params['plot_yr']),'%Y-%m-%d').date()\n",
    "dfslice = processing_db[(processing_db['date'] > start) & (processing_db['date'] < end)]\n",
    "\n",
    "## can set date to index\n",
    "#dfslice.reset_index(inplace=True)\n",
    "#dfslice.set_index(['date'], inplace=True, drop=True)\n",
    "#dfslice = dfslice.rename_axis(None)\n",
    "\n",
    "dfslice.head(n=5)"
   ]
  },
  {
   "cell_type": "code",
   "execution_count": null,
   "metadata": {},
   "outputs": [],
   "source": [
    "### Make valid pixel db for brdf and orig images\n",
    "##  NOTE: THis can be heavy and best run through Slurm with the .sh script and then loaded as below\n",
    "## NOTE: all of this needs modification to work with current processing db. ValidPix noted at download, so part of the work can be pulled straight from the db \n",
    "#valid_pixdb = check_valid_pixels(basic_config['raw_dir'],basic_config['brdf_dir'],basic_config['grid_cell'],'Landsat8',yrs=[2021,2021],data_source='stac')\n",
    "'''\n",
    "brdf_file_list = dfslice['brdf_id'].tolist()\n",
    "dl_file_list = dfslice['dl'].tolist()\n",
    "#print('There are {} files in file list'.format(len(brdf_file_list)))\n",
    "time_names = dfslice.date.dt.strftime('%Y-%m-%d').values.tolist()\n",
    "validpix_brdf = get_num_valid_pix_for_stac(brdf_file_list)\n",
    "validpix_orig = get_num_valid_pix_for_stac(dl_file_list, date_list=time_names)\n",
    "\n",
    "fig, axarr = plt.subplots(1, 2, figsize=(15,5))\n",
    "fig.suptitle('Num valid pixels for {}'.format(single_plot_params['plot_yr']))\n",
    "rawim = axarr[0].imshow(validpix_orig, cmap='jet_r')\n",
    "axarr[0].set_title(\"original downloads\")\n",
    "bimg = axarr[1].imshow(validpix_brdf, cmap='jet_r')\n",
    "axarr[1].set_title(\"brdfs\")\n",
    "fig.colorbar(rawim, ax=axarr[0], fraction=0.046, pad=0.04) \n",
    "fig.colorbar(bimg, ax=axarr[1], fraction=0.046, pad=0.04) ;\n",
    "'''"
   ]
  },
  {
   "cell_type": "code",
   "execution_count": null,
   "metadata": {},
   "outputs": [],
   "source": []
  },
  {
   "cell_type": "markdown",
   "metadata": {},
   "source": [
    "## To save an html copy of this notebook with all outputs:"
   ]
  },
  {
   "cell_type": "code",
   "execution_count": null,
   "metadata": {},
   "outputs": [],
   "source": [
    "### Run to print output as html\n",
    "\n",
    "out_name = str(basic_config['country']+'1b_ExploreData_OpenImage'+str(basic_config['grid_cell'])+'_from_'+str(single_plot_params['plot_yr'])+str(single_plot_params['plot_day']))\n",
    "!jupyter nbconvert --output-dir='./Outputs' --to html --no-input --output=$out_name 1b_ExploreData_OpenImage.ipynb"
   ]
  },
  {
   "cell_type": "code",
   "execution_count": null,
   "metadata": {},
   "outputs": [],
   "source": []
  }
 ],
 "metadata": {
  "kernelspec": {
   "display_name": "Python 3 (ipykernel)",
   "language": "python",
   "name": "python3"
  },
  "language_info": {
   "codemirror_mode": {
    "name": "ipython",
    "version": 3
   },
   "file_extension": ".py",
   "mimetype": "text/x-python",
   "name": "python",
   "nbconvert_exporter": "python",
   "pygments_lexer": "ipython3",
   "version": "3.8.15"
  },
  "toc-autonumbering": true,
  "toc-showmarkdowntxt": false
 },
 "nbformat": 4,
 "nbformat_minor": 4
}
