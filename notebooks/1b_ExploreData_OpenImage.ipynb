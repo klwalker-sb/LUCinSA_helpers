{
 "cells": [
  {
   "cell_type": "markdown",
   "metadata": {
    "Collapsed": "false"
   },
   "source": [
    "# Plot individual images on the cluster"
   ]
  },
  {
   "cell_type": "markdown",
   "metadata": {
    "Collapsed": "false"
   },
   "source": [
    "This notebook explores how to view geospatial data on the cluster without needing to transfer it"
   ]
  },
  {
   "cell_type": "markdown",
   "metadata": {
    "Collapsed": "false"
   },
   "source": [
    "## Imports"
   ]
  },
  {
   "cell_type": "code",
   "execution_count": null,
   "metadata": {
    "Collapsed": "false"
   },
   "outputs": [],
   "source": [
    "import os\n",
    "import sys\n",
    "from IPython.display import Image\n",
    "\n",
    "%matplotlib inline"
   ]
  },
  {
   "cell_type": "code",
   "execution_count": null,
   "metadata": {},
   "outputs": [],
   "source": [
    "sys.path.append(r\"../LUCinSA_helpers\")\n",
    "from FileInfo import *\n",
    "from FileChecks import *\n",
    "from plot import *"
   ]
  },
  {
   "cell_type": "code",
   "execution_count": null,
   "metadata": {},
   "outputs": [],
   "source": [
    "'''\n",
    "PARAMETERS: modify in Notebook_settings notebook, then run that notebook and this cell to update here\n",
    "DO not modify this cell\n",
    "'''\n",
    "\n",
    "%store -r basicConfig\n",
    "print(\"Basic Parameters: \\n PrintDate = {} \\n brdf_dir = {} \\n data source = {} \\n gridCell = {} \\n index_dir = {} \\n out_dir = {} \\n plotYr = {}\"\n",
    "      .format(basicConfig['today'],basicConfig['brdf_dir'],basicConfig['data_source'],basicConfig['gridCell'],basicConfig['index_dir'],basicConfig['out_dir'], basicConfig['plotYr']))\n",
    "\n",
    "%store -r SinglePlotParams\n",
    "print(\"Plotting Parameters: \\n plotDay = {} \\n Viewband = {} \\n imageType = {}\"\n",
    "      .format(SinglePlotParams['plotDay'],SinglePlotParams['Viewband'],SinglePlotParams['imageType']))"
   ]
  },
  {
   "cell_type": "code",
   "execution_count": null,
   "metadata": {},
   "outputs": [],
   "source": [
    "print('closest downloaded Sentinel image is:')\n",
    "SampImg_raw_Sentinel = GetClosestImage(os.path.join(basicConfig['raw_dir'],'{:06d}'.format(basicConfig['gridCell'])), 'Sentinel', basicConfig['data_source'], basicConfig['plotYr'], SinglePlotParams['plotDay'])\n",
    "print('closest Sentinel brdf is:')\n",
    "SampImg_brdf_Sentinel = GetClosestImage(basicConfig['brdf_dir'], 'Sentinel', basicConfig['data_source'], basicConfig['plotYr'], SinglePlotParams['plotDay'])\n",
    "print('closest downloaded Landsat image is:')\n",
    "SampImg_raw_Landsat = GetClosestImage(os.path.join(basicConfig['raw_dir'],'{:06d}'.format(basicConfig['gridCell'])), 'Landsat', basicConfig['data_source'], basicConfig['plotYr'], SinglePlotParams['plotDay'])\n",
    "print('closest downloaded Landsat5 image is:')\n",
    "SampImg_raw_Landsat = GetClosestImage(os.path.join(basicConfig['raw_dir'],'{:06d}'.format(basicConfig['gridCell'])), 'Landsat5', basicConfig['data_source'], basicConfig['plotYr'], SinglePlotParams['plotDay'])\n",
    "print('closest downloaded Landsat7 image is:')\n",
    "SampImg_raw_Landsat = GetClosestImage(os.path.join(basicConfig['raw_dir'],'{:06d}'.format(basicConfig['gridCell'])), 'Landsat7', basicConfig['data_source'], basicConfig['plotYr'], SinglePlotParams['plotDay'])\n",
    "print('closest downloaded Landsat8 image is:')\n",
    "SampImg_raw_Landsat = GetClosestImage(os.path.join(basicConfig['raw_dir'],'{:06d}'.format(basicConfig['gridCell'])), 'Landsat8', basicConfig['data_source'], basicConfig['plotYr'], SinglePlotParams['plotDay'])\n",
    "print('closest downloaded Landsat9 image is:')\n",
    "SampImg_raw_Landsat = GetClosestImage(os.path.join(basicConfig['raw_dir'],'{:06d}'.format(basicConfig['gridCell'])), 'Landsat9', basicConfig['data_source'], basicConfig['plotYr'], SinglePlotParams['plotDay'])\n",
    "print('closest Landsat brdf is:')\n",
    "SampImg_brdf_Landsat = GetClosestImage(basicConfig['brdf_dir'], 'Landsat', basicConfig['data_source'], basicConfig['plotYr'], SinglePlotParams['plotDay'])\n",
    "print('closest smoothed {} index image is:'.format(basicConfig['spec_index']))\n",
    "SampImg_Smooth = GetClosestImage(basicConfig['index_dir'], 'Smooth', basicConfig['data_source'], basicConfig['plotYr'], SinglePlotParams['plotDay'])"
   ]
  },
  {
   "cell_type": "code",
   "execution_count": null,
   "metadata": {},
   "outputs": [],
   "source": [
    "if SinglePlotParams['imageType'] == 'Smooth':\n",
    "    #GetValidPixPer(SampImg_Smooth)\n",
    "    exploreBand(SampImg_Smooth, basicConfig['spec_index'])\n",
    "elif SinglePlotParams['imageType'] in ['Sentinel','AllRaw']:\n",
    "    #GetValidPixPer(SampImg_brdf_Sentinel)\n",
    "    exploreBand(SampImg_brdf_Sentinel, SinglePlotParams['Viewband'])\n",
    "elif SinglePlotParams['imageType'] == 'Landsat':\n",
    "    #GetValidPixPer(SampImg_brdf_Landsat)\n",
    "    exploreBand(SampImg_brdf_Landsat, SinglePlotParams['Viewband'])"
   ]
  },
  {
   "cell_type": "code",
   "execution_count": null,
   "metadata": {},
   "outputs": [],
   "source": [
    "exploreBand(SampImg_raw_Sentinel, SinglePlotParams['Viewband']);"
   ]
  },
  {
   "cell_type": "code",
   "execution_count": null,
   "metadata": {},
   "outputs": [],
   "source": [
    "exploreBand(SampImg_raw_Landsat, SinglePlotParams['Viewband']);"
   ]
  },
  {
   "cell_type": "markdown",
   "metadata": {
    "Collapsed": "false"
   },
   "source": [
    "## Plot 3-band image"
   ]
  },
  {
   "cell_type": "code",
   "execution_count": null,
   "metadata": {},
   "outputs": [],
   "source": [
    "fig, axarr = plt.subplots(1, 2, figsize=(15,5))\n",
    "s_rgb = GetrbgImg(SampImg_raw_Sentinel,SinglePlotParams['gamma'])\n",
    "l_rgb = GetrbgImg(SampImg_raw_Landsat,SinglePlotParams['gamma'])\n",
    "#fig = plt.figure(figsize=(18,12))\n",
    "axarr[0].imshow(l_rgb)\n",
    "axarr[0].set_title(\"Landsat\")\n",
    "axarr[0].axis('off')\n",
    "axarr[1].imshow(s_rgb)\n",
    "axarr[1].set_title(\"Sentinel\")\n",
    "axarr[1].axis('off');"
   ]
  },
  {
   "cell_type": "code",
   "execution_count": null,
   "metadata": {},
   "outputs": [],
   "source": [
    "l_rgb = GetrbgImg(SampImg_Landsat,SinglePlotParams['gamma'])\n",
    "fig = plt.figure(figsize=(18,12))\n",
    "plt.imshow(l_rgb)\n",
    "plt.title(\"Landsat\")\n",
    "plt.axis('off');"
   ]
  },
  {
   "cell_type": "markdown",
   "metadata": {},
   "source": [
    "## Compare original, downloaded and brdf image:"
   ]
  },
  {
   "cell_type": "code",
   "execution_count": null,
   "metadata": {},
   "outputs": [],
   "source": [
    "l_orig_id = os.path.basename(SampImg_raw_Landsat).strip('.tif')\n",
    "l_orig = GetImgFromPlanetaryHub(l_orig_id)\n",
    "Image(url=l_orig.assets[\"rendered_preview\"].href, width=500)"
   ]
  },
  {
   "cell_type": "code",
   "execution_count": null,
   "metadata": {},
   "outputs": [],
   "source": [
    "fig, axarr = plt.subplots(2, 2, figsize=(10,10))\n",
    "l_dl = GetrbgImg(SampImg_raw_Landsat,1)\n",
    "l_brdf = GetrbgImg(SampImg_brdf_Landsat,SinglePlotParams['gamma'])\n",
    "s_dl = GetrbgImg(SampImg_raw_Sentinel,SinglePlotParams['gamma'])\n",
    "s_brdf = GetrbgImg(SampImg_brdf_Sentinel,SinglePlotParams['gamma'])\n",
    "\n",
    "axarr[0,0].imshow(l_dl)\n",
    "axarr[0,0].set_title(\"original Landsat download\")\n",
    "axarr[0,0].axis('off')\n",
    "axarr[0,1].imshow(l_brdf)\n",
    "axarr[0,1].set_title(\"Landsat brdf\")\n",
    "axarr[0,1].axis('off')\n",
    "axarr[1,0].imshow(s_dl)\n",
    "axarr[1,0].set_title(\"original Sentinel download\")\n",
    "axarr[1,0].axis('off')\n",
    "axarr[1,1].imshow(s_brdf)\n",
    "axarr[1,1].set_title(\"Sentinel brdf\")\n",
    "axarr[1,1].axis('off');"
   ]
  },
  {
   "cell_type": "code",
   "execution_count": null,
   "metadata": {},
   "outputs": [],
   "source": [
    "### Make valid pixel db for brdf and orig images\n",
    "##  NOTE: THis can be heavy and best run through Slurm with the .sh script and then loaded as below\n",
    "#validPixdb = checkValidPixels(basicConfig['raw_dir'],basicConfig['brdf_dir'],basicConfig['gridCell'],'Landsat8',Yrs=[2021,2021],dataSource='stac')\n",
    "\n",
    "Processing_db = ReadDB(os.path.join(basicConfig['raw_dir'],'{:06d}'.format(basicConfig['gridCell']),'processed_imgs_All.info'))\n",
    "Processing_db.head(n=5)"
   ]
  },
  {
   "cell_type": "code",
   "execution_count": null,
   "metadata": {},
   "outputs": [],
   "source": [
    "dfslice = Processing_db['{}-01-01'.format(basicConfig['plotYr']):'{}-12-31'.format(basicConfig['plotYr'])]\n",
    "brdf_file_list = dfslice['file_path'].tolist()\n",
    "dl_file_list = dfslice['orig_file_path'].tolist()\n",
    "#print('There are {} files in file list'.format(len(file_list)))\n",
    "time_names = dfslice.date.dt.strftime('%Y-%m-%d').values.tolist()\n",
    "validpix_brdf = getNumValidPix_forStac(brdf_file_list)\n",
    "validpix_orig = getNumValidPix_forStac(dl_file_list, date_list=time_names)\n",
    "\n",
    "fig, axarr = plt.subplots(1, 2, figsize=(15,5))\n",
    "fig.suptitle('Num valid pixels for {}'.format(basicConfig['plotYr']))\n",
    "rawim = axarr[0].imshow(validpix_orig, cmap='jet_r')\n",
    "axarr[0].set_title(\"original downloads\")\n",
    "bimg = axarr[1].imshow(validpix_brdf, cmap='jet_r')\n",
    "axarr[1].set_title(\"brdfs\")\n",
    "fig.colorbar(rawim, ax=axarr[0], fraction=0.046, pad=0.04) \n",
    "fig.colorbar(bimg, ax=axarr[1], fraction=0.046, pad=0.04) ;"
   ]
  },
  {
   "cell_type": "code",
   "execution_count": null,
   "metadata": {},
   "outputs": [],
   "source": []
  },
  {
   "cell_type": "markdown",
   "metadata": {},
   "source": [
    "## To save an html copy of this notebook with all outputs:"
   ]
  },
  {
   "cell_type": "code",
   "execution_count": null,
   "metadata": {},
   "outputs": [],
   "source": [
    "### Run to print output as html\n",
    "\n",
    "outName = str(basicConfig['country']+'1b_SampleImagePlot_for_Cell'+str(basicConfig['gridCell'])+'_from_'+str(SinglePlotParams['plotYr'])+str(SinglePlotParams['plotDay']))\n",
    "!jupyter nbconvert --output-dir='./Outputs' --to html --no-input --output=$outName 1b_ExploreData_OpenImage.ipynb"
   ]
  }
 ],
 "metadata": {
  "kernelspec": {
   "display_name": "Python 3 (ipykernel)",
   "language": "python",
   "name": "python3"
  },
  "language_info": {
   "codemirror_mode": {
    "name": "ipython",
    "version": 3
   },
   "file_extension": ".py",
   "mimetype": "text/x-python",
   "name": "python",
   "nbconvert_exporter": "python",
   "pygments_lexer": "ipython3",
   "version": "3.8.13"
  },
  "toc-autonumbering": true,
  "toc-showmarkdowntxt": false
 },
 "nbformat": 4,
 "nbformat_minor": 4
}
