{
 "cells": [
  {
   "cell_type": "markdown",
   "metadata": {
    "Collapsed": "false"
   },
   "source": [
    "# Plot individual images on the cluster"
   ]
  },
  {
   "cell_type": "markdown",
   "metadata": {
    "Collapsed": "false"
   },
   "source": [
    "This notebook enables up to view raster outputs (.tif and .nc) on the cluster without needing to transfer files"
   ]
  },
  {
   "cell_type": "markdown",
   "metadata": {
    "Collapsed": "false"
   },
   "source": [
    "## Imports"
   ]
  },
  {
   "cell_type": "code",
   "execution_count": null,
   "metadata": {
    "Collapsed": "false"
   },
   "outputs": [],
   "source": [
    "import os\n",
    "import sys\n",
    "from IPython.display import Image\n",
    "\n",
    "%matplotlib inline"
   ]
  },
  {
   "cell_type": "code",
   "execution_count": null,
   "metadata": {},
   "outputs": [],
   "source": [
    "sys.path.append(r\"../LUCinSA_helpers\")\n",
    "from file_info import *\n",
    "from file_checks import *\n",
    "from plot import *"
   ]
  },
  {
   "cell_type": "code",
   "execution_count": null,
   "metadata": {},
   "outputs": [],
   "source": [
    "'''\n",
    "PARAMETERS: modify in Notebook_settings notebook, then run that notebook and this cell to update here\n",
    "DO not modify this cell\n",
    "'''\n",
    "\n",
    "%store -r basic_config\n",
    "print(\"Basic Parameters: \\n PrintDate = {} \\n brdf_dir = {} \\n data source = {} \\n gridCell = {} \\n index_dir = {} \\n out_dir = {}\"\n",
    "      .format(basic_config['today'],basic_config['brdf_dir'],basic_config['data_source'],basic_config['grid_cell'],basic_config['index_dir'],basic_config['out_dir']))\n",
    "\n",
    "%store -r single_plot_params\n",
    "print(\"Plotting Parameters: \\n Viewband = {} \\n imageType = {} \\n plotYr = {} \\n plotDay = {}\"\n",
    "      .format(single_plot_params['viewband'],single_plot_params['image_type'],single_plot_params['plot_yr'],single_plot_params['plot_day']))"
   ]
  },
  {
   "cell_type": "code",
   "execution_count": null,
   "metadata": {},
   "outputs": [],
   "source": [
    "print('closest downloaded Sentinel image is:')\n",
    "samp_img_raw_sentinel = get_closest_image(os.path.join(basic_config['raw_dir'],'{:06d}'.format(basic_config['grid_cell'])), 'Sentinel', basic_config['data_source'], single_plot_params['plot_yr'], single_plot_params['plot_day'])\n",
    "print('closest Sentinel brdf is:')\n",
    "samp_img_brdf_sentinel = get_closest_image(basic_config['brdf_dir'], 'Sentinel', basic_config['data_source'], single_plot_params['plot_yr'], single_plot_params['plot_day'])\n",
    "print('closest downloaded Landsat image is:')\n",
    "samp_img_raw_landsat = get_closest_image(os.path.join(basic_config['raw_dir'],'{:06d}'.format(basic_config['grid_cell'])), 'Landsat', basic_config['data_source'], single_plot_params['plot_yr'], single_plot_params['plot_day'])\n",
    "print('closest downloaded Landsat5 image is:')\n",
    "samp_img_raw_landsat5 = get_closest_image(os.path.join(basic_config['raw_dir'],'{:06d}'.format(basic_config['grid_cell'])), 'Landsat5', basic_config['data_source'], single_plot_params['plot_yr'], single_plot_params['plot_day'])\n",
    "print('closest downloaded Landsat7 image is:')\n",
    "samp_img_raw_landsat7 = get_closest_image(os.path.join(basic_config['raw_dir'],'{:06d}'.format(basic_config['grid_cell'])), 'Landsat7', basic_config['data_source'], single_plot_params['plot_yr'], single_plot_params['plot_day'])\n",
    "print('closest downloaded Landsat8 image is:')\n",
    "samp_img_raw_landsat8 = get_closest_image(os.path.join(basic_config['raw_dir'],'{:06d}'.format(basic_config['grid_cell'])), 'Landsat8', basic_config['data_source'], single_plot_params['plot_yr'], single_plot_params['plot_day'])\n",
    "print('closest downloaded Landsat9 image is:')\n",
    "samp_img_raw_landsat9 = get_closest_image(os.path.join(basic_config['raw_dir'],'{:06d}'.format(basic_config['grid_cell'])), 'Landsat9', basic_config['data_source'], single_plot_params['plot_yr'], single_plot_params['plot_day'])\n",
    "print('closest Landsat brdf is:')\n",
    "samp_img_brdf_landsat = get_closest_image(basic_config['brdf_dir'], 'Landsat', basic_config['data_source'],single_plot_params['plot_yr'], single_plot_params['plot_day'])\n",
    "print('closest smoothed {} index image is:'.format(basic_config['spec_index']))\n",
    "samp_img_smooth = get_closest_image(basic_config['index_dir'], 'Smooth', basic_config['data_source'], single_plot_params['plot_yr'], single_plot_params['plot_day'])"
   ]
  },
  {
   "cell_type": "code",
   "execution_count": null,
   "metadata": {},
   "outputs": [],
   "source": [
    "if single_plot_params['image_type'] == 'Smooth':\n",
    "    #get_valid_pix_per(samp_img_smooth)\n",
    "    explore_band(samp_img_smooth, basic_config['spec_index'])\n",
    "elif single_plot_params['image_type'] in ['Sentinel','AllRaw']:\n",
    "    #get_valid_pix_per(samp_img_brdf_sentinel)\n",
    "    explore_band(samp_img_brdf_sentinel, single_plot_params['viewband'])\n",
    "elif single_plot_params['image_type'] == 'Landsat':\n",
    "    #get_valid_pix_per(samp_img_brdf_landsat)\n",
    "    explore_band(samp_img_brdf_landsat, single_plot_params['viewband'])"
   ]
  },
  {
   "cell_type": "code",
   "execution_count": null,
   "metadata": {},
   "outputs": [],
   "source": [
    "explore_band(samp_img_raw_sentinel, single_plot_params['viewband']);"
   ]
  },
  {
   "cell_type": "code",
   "execution_count": null,
   "metadata": {},
   "outputs": [],
   "source": [
    "explore_band(samp_img_raw_landsat, single_plot_params['viewband']);"
   ]
  },
  {
   "cell_type": "markdown",
   "metadata": {
    "Collapsed": "false"
   },
   "source": [
    "## Plot 3-band image"
   ]
  },
  {
   "cell_type": "code",
   "execution_count": null,
   "metadata": {},
   "outputs": [],
   "source": [
    "fig, axarr = plt.subplots(1, 2, figsize=(15,5))\n",
    "l_rgb = get_rbg_img(samp_img_raw_landsat,single_plot_params['gamma'])\n",
    "axarr[0].imshow(l_rgb)\n",
    "axarr[0].set_title(\"Landsat\")\n",
    "axarr[0].axis('off')\n",
    "s_rgb = get_rbg_img(samp_img_raw_sentinel,single_plot_params['gamma'])\n",
    "axarr[1].imshow(s_rgb)\n",
    "axarr[1].set_title(\"Sentinel\")\n",
    "axarr[1].axis('off');"
   ]
  },
  {
   "cell_type": "code",
   "execution_count": null,
   "metadata": {},
   "outputs": [],
   "source": [
    "l_rgb = get_rbg_img(samp_img_raw_landsat,single_plot_params['gamma'])\n",
    "fig = plt.figure(figsize=(18,12))\n",
    "plt.imshow(l_rgb)\n",
    "plt.title(\"Landsat\")\n",
    "plt.axis('off');"
   ]
  },
  {
   "cell_type": "markdown",
   "metadata": {},
   "source": [
    "## Compare original, downloaded and brdf image:"
   ]
  },
  {
   "cell_type": "code",
   "execution_count": null,
   "metadata": {},
   "outputs": [],
   "source": [
    "l_orig_id = os.path.basename(samp_img_raw_landsat).strip('.tif')\n",
    "l_orig = get_img_from_planetary_hub(l_orig_id)\n",
    "Image(url=l_orig.assets[\"rendered_preview\"].href, width=500)"
   ]
  },
  {
   "cell_type": "code",
   "execution_count": null,
   "metadata": {},
   "outputs": [],
   "source": [
    "fig, axarr = plt.subplots(2, 2, figsize=(10,10))\n",
    "l_dl = get_rbg_img(samp_img_raw_landsat,single_plot_params['gamma'])\n",
    "l_brdf = get_rbg_img(samp_img_brdf_landsat,single_plot_params['gamma'])\n",
    "s_dl = get_rbg_img(samp_img_raw_sentinel,single_plot_params['gamma'])\n",
    "s_brdf = get_rbg_img(samp_img_brdf_sentinel,single_plot_params['gamma'])\n",
    "\n",
    "axarr[0,0].imshow(l_dl)\n",
    "axarr[0,0].set_title(\"original Landsat download\")\n",
    "axarr[0,0].axis('off')\n",
    "axarr[0,1].imshow(l_brdf)\n",
    "axarr[0,1].set_title(\"Landsat brdf\")\n",
    "axarr[0,1].axis('off')\n",
    "axarr[1,0].imshow(s_dl)\n",
    "axarr[1,0].set_title(\"original Sentinel download\")\n",
    "axarr[1,0].axis('off')\n",
    "axarr[1,1].imshow(s_brdf)\n",
    "axarr[1,1].set_title(\"Sentinel brdf\")\n",
    "axarr[1,1].axis('off');"
   ]
  },
  {
   "cell_type": "markdown",
   "metadata": {},
   "source": [
    "## File checks -- more complete in other notebooks"
   ]
  },
  {
   "cell_type": "code",
   "execution_count": null,
   "metadata": {},
   "outputs": [],
   "source": [
    "## Slice processing database by start and end years in parameters\n",
    "\n",
    "processing_db = read_db(os.path.join(basic_config['raw_dir'],'{:06d}'.format(basic_config['grid_cell']),'processing.info'), db_version='current')\n",
    "processing_db['date'] = pd.to_datetime(processing_db['date'], format='%Y%m%d', errors='coerce').dt.date\n",
    "\n",
    "start = datetime.datetime.strptime('{}-01-01'.format(single_plot_params['plot_yr']),'%Y-%m-%d').date()\n",
    "end = datetime.datetime.strptime('{}-12-31'.format(single_plot_params['plot_yr']),'%Y-%m-%d').date()\n",
    "dfslice = processing_db[(processing_db['date'] > start) & (processing_db['date'] < end)]\n",
    "\n",
    "## can set date to index\n",
    "#dfslice.reset_index(inplace=True)\n",
    "#dfslice.set_index(['date'], inplace=True, drop=True)\n",
    "#dfslice = dfslice.rename_axis(None)\n",
    "\n",
    "dfslice.head(n=5)"
   ]
  },
  {
   "cell_type": "code",
   "execution_count": null,
   "metadata": {},
   "outputs": [],
   "source": [
    "### Make valid pixel db for brdf and orig images\n",
    "##  NOTE: THis can be heavy and best run through Slurm with the .sh script and then loaded as below\n",
    "## NOTE: all of this needs modification to work with current processing db. ValidPix noted at download, so part of the work can be pulled straight from the db \n",
    "#valid_pixdb = check_valid_pixels(basic_config['raw_dir'],basic_config['brdf_dir'],basic_config['grid_cell'],'Landsat8',yrs=[2021,2021],data_source='stac')\n",
    "'''\n",
    "brdf_file_list = dfslice['brdf_id'].tolist()\n",
    "dl_file_list = dfslice['dl'].tolist()\n",
    "#print('There are {} files in file list'.format(len(brdf_file_list)))\n",
    "time_names = dfslice.date.dt.strftime('%Y-%m-%d').values.tolist()\n",
    "validpix_brdf = get_num_valid_pix_for_stac(brdf_file_list)\n",
    "validpix_orig = get_num_valid_pix_for_stac(dl_file_list, date_list=time_names)\n",
    "\n",
    "fig, axarr = plt.subplots(1, 2, figsize=(15,5))\n",
    "fig.suptitle('Num valid pixels for {}'.format(single_plot_params['plot_yr']))\n",
    "rawim = axarr[0].imshow(validpix_orig, cmap='jet_r')\n",
    "axarr[0].set_title(\"original downloads\")\n",
    "bimg = axarr[1].imshow(validpix_brdf, cmap='jet_r')\n",
    "axarr[1].set_title(\"brdfs\")\n",
    "fig.colorbar(rawim, ax=axarr[0], fraction=0.046, pad=0.04) \n",
    "fig.colorbar(bimg, ax=axarr[1], fraction=0.046, pad=0.04) ;\n",
    "'''"
   ]
  },
  {
   "cell_type": "code",
   "execution_count": null,
   "metadata": {},
   "outputs": [],
   "source": []
  },
  {
   "cell_type": "markdown",
   "metadata": {},
   "source": [
    "## To save an html copy of this notebook with all outputs:"
   ]
  },
  {
   "cell_type": "code",
   "execution_count": null,
   "metadata": {},
   "outputs": [],
   "source": [
    "### Run to print output as html\n",
    "\n",
    "out_name = str(basic_config['country']+'1b_ExploreData_OpenImage'+str(basic_config['grid_cell'])+'_from_'+str(single_plot_params['plot_yr'])+str(single_plot_params['plot_day']))\n",
    "!jupyter nbconvert --output-dir='./Outputs' --to html --no-input --output=$out_name 1b_ExploreData_OpenImage.ipynb"
   ]
  },
  {
   "cell_type": "code",
   "execution_count": null,
   "metadata": {},
   "outputs": [],
   "source": []
  }
 ],
 "metadata": {
  "kernelspec": {
   "display_name": "Python 3 (ipykernel)",
   "language": "python",
   "name": "python3"
  },
  "language_info": {
   "codemirror_mode": {
    "name": "ipython",
    "version": 3
   },
   "file_extension": ".py",
   "mimetype": "text/x-python",
   "name": "python",
   "nbconvert_exporter": "python",
   "pygments_lexer": "ipython3",
   "version": "3.8.15"
  },
  "toc-autonumbering": true,
  "toc-showmarkdowntxt": false
 },
 "nbformat": 4,
 "nbformat_minor": 4
}
