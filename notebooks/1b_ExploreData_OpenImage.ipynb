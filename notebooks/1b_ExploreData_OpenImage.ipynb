{
 "cells": [
  {
   "cell_type": "markdown",
   "metadata": {
    "Collapsed": "false"
   },
   "source": [
    "# Plot individual images on the cluster"
   ]
  },
  {
   "cell_type": "markdown",
   "metadata": {
    "Collapsed": "false"
   },
   "source": [
    "This notebook explores how to view geospatial data on the cluster without needing to transfer it"
   ]
  },
  {
   "cell_type": "markdown",
   "metadata": {
    "Collapsed": "false"
   },
   "source": [
    "## Imports"
   ]
  },
  {
   "cell_type": "code",
   "execution_count": null,
   "metadata": {
    "Collapsed": "false"
   },
   "outputs": [],
   "source": [
    "import os\n",
    "import sys\n",
    "from pathlib import Path\n",
    "import datetime\n",
    "\n",
    "import rasterio\n",
    "from rasterio import plot\n",
    "from rasterio.plot import show\n",
    "import matplotlib.pyplot as plt\n",
    "import shutil\n",
    "import tempfile\n",
    "import json\n",
    "import random\n",
    "import numpy as np\n",
    "import pandas as pd\n",
    "import geopandas as gpd\n",
    "from pyproj import Proj, transform\n",
    "from pyproj import CRS\n",
    "from shapely.geometry import box\n",
    "from shapely.geometry import shape\n",
    "from shapely.geometry import MultiPoint\n",
    "from shapely.geometry import Point\n",
    "from shapely.geometry import Polygon\n",
    "import xarray as xr\n",
    "\n",
    "%matplotlib inline"
   ]
  },
  {
   "cell_type": "code",
   "execution_count": null,
   "metadata": {},
   "outputs": [],
   "source": [
    "##This is just for data checking. Not actually used in processing sequence so far.\n",
    "def GetClosestImage(img_dir, imageType, YYYY, DDD):\n",
    "    '''\n",
    "    returns path of image closest to day DDD of year YYYY in directory of images\n",
    "    Currently looks for images with name YYYYDDD* (DDD is day-of-year(1-365))\n",
    "    or Sentinel images starting with L1C* (Date format is YYYYMMDD, starting at position 19)\n",
    "    TODO: expand imageType to Landsat\n",
    "    '''\n",
    "    \n",
    "    imgList = []\n",
    "    \n",
    "    if imageType == 'TS':\n",
    "        for img in os.listdir(img_dir):\n",
    "            if img.startswith(str(YYYY)):\n",
    "                imgList.append(int(img[4:7]))\n",
    "    elif imageType == 'L1C':\n",
    "        for img in os.listdir(img_dir):\n",
    "            if img.startswith('L1C') and img[19:23]==str(YYYY):\n",
    "                MM = int(img[23:25])\n",
    "                DD = int(img[25:27])\n",
    "                ymd = datetime.datetime(YYYY, MM, DD)\n",
    "                doy=int(ymd.strftime('%j'))\n",
    "                imgList.append(doy)\n",
    "    \n",
    "    closestDay = min(imgList, key=lambda x:abs(x-DDD))\n",
    "    print('closest day is: {}'.format(str(YYYY)+str(closestDay)))\n",
    "    closestMM = (datetime.datetime(YYYY, 1, 1) + datetime.timedelta(closestDay - 1)).month\n",
    "    closestDD = (datetime.datetime(YYYY, 1, 1) + datetime.timedelta(closestDay - 1)).day\n",
    "    \n",
    "    for fname in os.listdir(img_dir):\n",
    "        if imageType == 'TS':\n",
    "            if str(YYYY)+str(closestDay) in fname:\n",
    "                closestimg = os.path.join(img_dir,fname)\n",
    "        elif imageType == 'L1C':\n",
    "            if str(YYYY)+'{:02d}'.format(closestMM)+'{:02d}'.format(closestDD) in fname and fname.startswith('L1C') and 'angles' not in fname:\n",
    "                closestimg = os.path.join(img_dir,fname)\n",
    " \n",
    "    return closestimg"
   ]
  },
  {
   "cell_type": "code",
   "execution_count": null,
   "metadata": {},
   "outputs": [],
   "source": [
    "### For visualizing index image (Process check 1)\n",
    "def exploreBand(img, spec_index):\n",
    "\n",
    "    print('plotting {} band of image {}'.format(img, spec_index))\n",
    "    fig, axarr = plt.subplots(1, 3, figsize=(15,5))\n",
    "    \n",
    "    if img.endswith('.tif'):\n",
    "        with rasterio.open(img) as src:\n",
    "            TSamp = src.read()\n",
    "    elif img.endswith('.nc'):\n",
    "        with xr.open_dataset(img) as xrimg:\n",
    "            xrcrs = xrimg.crs\n",
    "            print(xrcrs)  ##epsg:32632\n",
    "            #print(xrimg.variables)\n",
    "            print(xrimg.dims)\n",
    "            #print(xrimg.coords)\n",
    "    \n",
    "        ### Check that x and y values correspond to UTM coords\n",
    "        print(\"Coord range is: y: {}-{}. x: {}-{}\".format(\n",
    "          xrimg[spec_index][\"y\"].values.min(), \n",
    "          xrimg[spec_index][\"y\"].values.max(),\n",
    "          xrimg[spec_index][\"x\"].values.min(), \n",
    "          xrimg[spec_index][\"x\"].values.max()))\n",
    "    \n",
    "        ### Get single band (Opens as Dataset)\n",
    "        xr_idx = xrimg[spec_index]\n",
    "    \n",
    "        ##Note outliers (while nodata = None)\n",
    "        origHist = xr_idx.plot.hist(color=\"purple\")\n",
    "        #ax.imshow()\n",
    "        \n",
    "        xr_idx_clean = xr_idx.where(xr_idx < 10000)\n",
    "        maskedHist = xr_idx_clean.plot.hist(color=\"purple\")\n",
    "        #print('The no data value is:', xrimg[spec_index].rio.nodata)\n",
    "    \n",
    "        TSamp = xr_idx_clean\n",
    "\n",
    "    if img.endswith('.nc'):\n",
    "        xr_idx.plot.hist(color=\"purple\",  ax=axarr[0])\n",
    "        axarr[0].set_title(\"original data\")\n",
    "        xr_idx_clean.plot.hist(color=\"purple\", ax=axarr[1])\n",
    "        axarr[1].set_title(\"masked data\")\n",
    "        TSamp.plot(x=\"x\",y=\"y\")\n",
    "        plot.show(TSamp, ax=axarr[2])\n",
    "        axarr[2].set_title('{} band'.format(spec_index))\n",
    "        axarr[2].axis('off')\n",
    "    \n",
    "    elif img.endswith('.tif'):\n",
    "        plot.show(TSamp)\n",
    "        axarr[2].set_title('{} band'.format(spec_index))\n",
    "        axarr[2].axis('off')\n",
    "        \n",
    "    return axarr"
   ]
  },
  {
   "cell_type": "code",
   "execution_count": null,
   "metadata": {},
   "outputs": [],
   "source": [
    "'''\n",
    "PARAMETERS: modify in Notebook_settings notebook, then run that notebook and this cell to update here\n",
    "DO not modify this cell\n",
    "'''\n",
    "\n",
    "%store -r basicConfig\n",
    "print(\"Basic Parameters: \\n brdf_dir = {} \\n gridCell = {} \\n index_dir = {} \\n out_dir = {}\"\n",
    "      .format(basicConfig['brdf_dir'],basicConfig['gridCell'],basicConfig['index_dir'],basicConfig['out_dir']))\n",
    "\n",
    "%store -r SinglePlotParams\n",
    "print(\"Plotting Parameters: \\n plotYr = {} \\n plotDay = {} \\n Viewband = {} \\n imageType = {}\"\n",
    "      .format(SinglePlotParams['plotYr'],SinglePlotParams['plotDay'],SinglePlotParams['Viewband'],SinglePlotParams['imageType']))"
   ]
  },
  {
   "cell_type": "code",
   "execution_count": null,
   "metadata": {},
   "outputs": [],
   "source": [
    "if SinglePlotParams['imageType'] == 'TS':\n",
    "    SampImg = GetClosestImage(basicConfig['index_dir'],'TS',SinglePlotParams['plotYr'],SinglePlotParams['plotDay'])\n",
    "    exploreBand(SampImg, basicConfig['spec_index'])\n",
    "else:\n",
    "    SampImg = GetClosestImage(basicConfig['brdf_dir'],'L1C',SinglePlotParams['plotYr'],SinglePlotParams['plotDay'])\n",
    "    exploreBand(SampImg, SinglePlotParams['Viewband'])"
   ]
  },
  {
   "cell_type": "markdown",
   "metadata": {
    "Collapsed": "false"
   },
   "source": [
    "## Plot 3-band image"
   ]
  },
  {
   "cell_type": "code",
   "execution_count": null,
   "metadata": {},
   "outputs": [],
   "source": [
    "def normalize(array):\n",
    "    array_min, array_max = array.min(), array.max()\n",
    "    return (array - array_min) / (array_max - array_min)\n",
    "\n",
    "def gammacorr(band, gamma):\n",
    "    return np.power(band, 1/gamma)\n",
    "\n",
    "with xr.open_dataset(SampImg) as xrimg:\n",
    "    red = xrimg['red'].where(xrimg['red'] != 65535)\n",
    "    green = xrimg['green'].where(xrimg['green'] != 65535)\n",
    "    blue = xrimg['blue'].where(xrimg['blue'] != 65535)\n",
    "    #print (red.min(), red.max())\n",
    "    \n",
    "\n",
    "red_g=gammacorr(red, SinglePlotParams['gamma'])\n",
    "blue_g=gammacorr(blue, SinglePlotParams['gamma'])\n",
    "green_g=gammacorr(green, SinglePlotParams['gamma'])\n",
    "\n",
    "red_norm_g = normalize(red_g)\n",
    "green_norm_g = normalize(green_g)\n",
    "blue_norm_g = normalize(blue_g)\n",
    "\n",
    "rgb = np.dstack([red_norm_g, green_norm_g, blue_norm_g])\n",
    "fig = plt.figure(figsize=(18,12))\n",
    "plt.imshow(rgb);"
   ]
  },
  {
   "cell_type": "code",
   "execution_count": null,
   "metadata": {},
   "outputs": [],
   "source": [
    "### Run to print output as html\n",
    "\n",
    "outName = str(basicConfig['country']+'1b_SampleImagePlot_for_Cell'+str(basicConfig['gridCell'])+'_from_'+str(SinglePlotParams['plotYr'])+str(SinglePlotParams['plotDay']))\n",
    "!jupyter nbconvert --output-dir='./Outputs' --to html --no-input --output=$outName 1b_ExploreData_OpenImage.ipynb"
   ]
  }
 ],
 "metadata": {
  "kernelspec": {
   "display_name": "Python 3",
   "language": "python",
   "name": "python3"
  },
  "language_info": {
   "codemirror_mode": {
    "name": "ipython",
    "version": 3
   },
   "file_extension": ".py",
   "mimetype": "text/x-python",
   "name": "python",
   "nbconvert_exporter": "python",
   "pygments_lexer": "ipython3",
   "version": "3.6.8"
  },
  "toc-autonumbering": true,
  "toc-showmarkdowntxt": false
 },
 "nbformat": 4,
 "nbformat_minor": 4
}
