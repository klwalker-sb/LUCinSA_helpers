{
 "cells": [
  {
   "cell_type": "markdown",
   "id": "02d941c9",
   "metadata": {},
   "source": [
    "# Gets summary of images in a directory"
   ]
  },
  {
   "cell_type": "code",
   "execution_count": null,
   "id": "18a56fba",
   "metadata": {},
   "outputs": [],
   "source": [
    "import os\n",
    "import sys\n",
    "from pathlib import Path\n",
    "import pandas as pd\n",
    "import geopandas as gpd\n",
    "import numpy as np\n",
    "import pyproj\n",
    "import pickle\n",
    "from shapely.geometry import box\n",
    "import matplotlib.pyplot as plt\n",
    "\n",
    "%matplotlib inline"
   ]
  },
  {
   "cell_type": "code",
   "execution_count": null,
   "id": "4a6b586a",
   "metadata": {},
   "outputs": [],
   "source": [
    "sys.path.append(r\"../LUCinSA_helpers\")\n",
    "from FileChecks import *"
   ]
  },
  {
   "cell_type": "code",
   "execution_count": null,
   "id": "0fbc5569",
   "metadata": {},
   "outputs": [],
   "source": [
    "'''\n",
    "PARAMETERS: modify in notebook_params notebook, then run that notebook and this cell to update here\n",
    "DO NOT modify this cell\n",
    "'''\n",
    "\n",
    "%store -r basicConfig\n",
    "print(\"Basic Parameters: \\n brdf_dir = {} \\n gridCell = {} \\n index_dir = {} \\n out_dir = {}\"\n",
    "      .format(basicConfig['brdf_dir'],basicConfig['gridCell'],basicConfig['index_dir'],basicConfig['out_dir']))\n",
    "%store -r SingleOutputParams\n",
    "print(\"SingleOutputParams: \\n MapYears = {}\".format(SingleOutputParams['MapYears']))\n",
    "%store -r SinglePlotParams\n",
    "print(\"SinglePlotParams: \\n iImageType = {}\".format(SinglePlotParams['imageType']))"
   ]
  },
  {
   "cell_type": "code",
   "execution_count": null,
   "id": "c396dfcf",
   "metadata": {},
   "outputs": [],
   "source": [
    "###To get all images in brdf directory:\n",
    "Allimages = PrintFilesInDirectory(basicConfig['brdf_dir'],'.nc',printList=basicConfig['printList'],out_dir=basicConfig['out_dir'],dataSource='stac')\n",
    "\n",
    "if basicConfig['printList'] == True:\n",
    "    print('full dataframe is printed as FileList.txt in {}'.format(out_dir=basicConfig['out_dir']))\n",
    "else:\n",
    "    print('sample of dataframe: (Not printed to file. Can print by setting printList=True in notebook_params)')\n",
    "Allimages.head(n=5)"
   ]
  },
  {
   "cell_type": "code",
   "execution_count": null,
   "id": "57119161",
   "metadata": {},
   "outputs": [],
   "source": [
    "#Allimages.groupby(['yr','sensor']).size().unstack().plot(kind='bar', stacked=True, figsize=(20, 5), title=('Images per year'))\n",
    "Allimages.groupby(['yr','sensor']).size().unstack().plot(kind='bar', stacked=True, figsize=(20, 5), \n",
    "            title=('Number images processed per year for {} cell {}'.format(basicConfig['country'],basicConfig['gridCell'])));"
   ]
  },
  {
   "cell_type": "code",
   "execution_count": null,
   "id": "c95283a5",
   "metadata": {},
   "outputs": [],
   "source": [
    "Allimages.groupby(['yrmo','sensor']).size().unstack().plot(kind='bar', stacked=True, figsize=(20, 5), \n",
    "        title=('Number images processed per month for {} cell {}'.format(basicConfig['country'],basicConfig['gridCell'])));"
   ]
  },
  {
   "cell_type": "markdown",
   "id": "6413eed5",
   "metadata": {},
   "source": [
    "## Focus on smaller range of years to see month on axis:"
   ]
  },
  {
   "cell_type": "code",
   "execution_count": null,
   "id": "60db71fd",
   "metadata": {},
   "outputs": [],
   "source": [
    "ImgSubset = Allimages[Allimages[\"yr\"].astype(int) > 2019]\n",
    "ImgSubset.groupby(['yrmo','sensor']).size().unstack().plot(kind='bar', stacked=True, figsize=(20, 5), \n",
    "   title=('Number images processed per month for {} cell {} from 2019 on'.format(basicConfig['country'],basicConfig['gridCell'])));"
   ]
  },
  {
   "cell_type": "markdown",
   "id": "55ceced8",
   "metadata": {},
   "source": [
    "## Read scene.info file"
   ]
  },
  {
   "cell_type": "code",
   "execution_count": null,
   "id": "fc5a2726",
   "metadata": {},
   "outputs": [],
   "source": [
    "##for all years:\n",
    "#dfAll = GetImgListFromDb(SinglePlotParams['imageType'], basicConfig['raw_dir'], basicConfig['gridCell'],Yrs=None,dataSource='stac')\n",
    "##for selection of years:\n",
    "dfSlice = GetImgListFromDb(SinglePlotParams['imageType'], basicConfig['raw_dir'], basicConfig['gridCell'],Yrs=SingleOutputParams['MapYears'],dataSource='stac')"
   ]
  },
  {
   "cell_type": "code",
   "execution_count": null,
   "id": "472c0ae8",
   "metadata": {},
   "outputs": [],
   "source": [
    "CatList = GetImgListFromCat(SinglePlotParams['imageType'],basicConfig['gridCell'], basicConfig['gridFile'], Yrs=SingleOutputParams['MapYears'])"
   ]
  },
  {
   "cell_type": "code",
   "execution_count": null,
   "id": "c4766486",
   "metadata": {},
   "outputs": [],
   "source": [
    "missingFiles = CompareFilesToDb(SinglePlotParams['imageType'], 'Both', basicConfig['raw_dir'], basicConfig['gridCell'], basicConfig['gridFile'], Yrs=SingleOutputParams['MapYears'],dataSource=basicConfig['data_source'])"
   ]
  },
  {
   "cell_type": "markdown",
   "id": "34a6b92a",
   "metadata": {},
   "source": [
    "## Check processing for cell"
   ]
  },
  {
   "cell_type": "code",
   "execution_count": null,
   "id": "14644c73",
   "metadata": {},
   "outputs": [],
   "source": [
    "GetCellStatus(basicConfig['raw_dir'],basicConfig['gridCell'],basicConfig['gridFile'],Yrs = [2010,2022])\n",
    "\n",
    "##TO ADD:\n",
    "    ##Check if brdfs have been generated\n",
    "    ## if yes, check for...\n",
    "    ##Check coreg\n",
    "      ##check non-coreged images\n",
    "    ##Check indices"
   ]
  },
  {
   "cell_type": "code",
   "execution_count": null,
   "id": "5a07fb4b",
   "metadata": {},
   "outputs": [],
   "source": [
    "#CatDiff = ComparePlanetaryHub_w_Element84 ('Sentinel', basicConfig['gridCell'],basicConfig['gridFile'],Yrs = [2010,2022])\n",
    "Diff0 = pd.DataFrame(CatDiff[0])\n",
    "Diff0['date'] = Diff0.apply(lambda x: x[0].split(\"_\")[2], axis=1)\n",
    "Diff0.sort_values(by=['date'], inplace=True) \n",
    "Diff1 = pd.DataFrame(CatDiff[1])\n",
    "Diff1['date'] = Diff1.apply(lambda x: x[0].split(\"_\")[2], axis=1)\n",
    "Diff1.sort_values(by=['date'], inplace=True)    \n",
    "print('{} Images in Element84 but not Planetary: {}'.format(len(CatDiff[0]),Diff0))\n",
    "print('{} Images in Planetary but not Element84: {}'.format(len(CatDiff[1]),Diff1))"
   ]
  },
  {
   "cell_type": "markdown",
   "id": "4919fd2d",
   "metadata": {},
   "source": [
    "## Check original products"
   ]
  },
  {
   "cell_type": "code",
   "execution_count": null,
   "id": "20304f03",
   "metadata": {},
   "outputs": [],
   "source": [
    "l_orig = GetImgFromPlanetaryHub(CatList[0])\n",
    "import rich.table\n",
    "\n",
    "table = rich.table.Table(\"Asset Key\", \"Descripiption\")\n",
    "for asset_key, asset in l_orig.assets.items():\n",
    "    # print(f\"{asset_key:<25} - {asset.title}\")\n",
    "    table.add_row(asset_key, asset.title)\n",
    "\n",
    "table"
   ]
  },
  {
   "cell_type": "code",
   "execution_count": null,
   "id": "49ec9c2f",
   "metadata": {},
   "outputs": [],
   "source": [
    "#get url to download a band/asset:\n",
    "url=img.assets[\"nir08\"].href\n",
    "print(url)"
   ]
  },
  {
   "cell_type": "markdown",
   "id": "fcb38cee",
   "metadata": {},
   "source": [
    "## To save an html copy of this notebook with all outputs:"
   ]
  },
  {
   "cell_type": "code",
   "execution_count": null,
   "id": "25b26464",
   "metadata": {},
   "outputs": [],
   "source": [
    "### Run to print output as html\n",
    "outName = str(basicConfig['country']+'1a_ImagesProcessed_in_Cell_'+str(basicConfig['gridCell']))\n",
    "!jupyter nbconvert --output-dir='./Outputs' --to html --no-input --output=$outName 1a_ExploreData_FileContent.ipynb"
   ]
  }
 ],
 "metadata": {
  "kernelspec": {
   "display_name": "Python 3 (ipykernel)",
   "language": "python",
   "name": "python3"
  },
  "language_info": {
   "codemirror_mode": {
    "name": "ipython",
    "version": 3
   },
   "file_extension": ".py",
   "mimetype": "text/x-python",
   "name": "python",
   "nbconvert_exporter": "python",
   "pygments_lexer": "ipython3",
   "version": "3.8.13"
  }
 },
 "nbformat": 4,
 "nbformat_minor": 5
}
