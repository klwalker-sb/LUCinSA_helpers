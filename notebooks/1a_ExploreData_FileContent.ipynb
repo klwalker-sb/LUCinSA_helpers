{
 "cells": [
  {
   "cell_type": "markdown",
   "id": "02d941c9",
   "metadata": {},
   "source": [
    "# Gets summary of images in a directory"
   ]
  },
  {
   "cell_type": "code",
   "execution_count": null,
   "id": "18a56fba",
   "metadata": {},
   "outputs": [],
   "source": [
    "import os\n",
    "import sys\n",
    "from pathlib import Path\n",
    "import pandas as pd\n",
    "import geopandas as gpd\n",
    "import numpy as np\n",
    "import pyproj\n",
    "import pickle\n",
    "from shapely.geometry import box\n",
    "import matplotlib.pyplot as plt\n",
    "from PIL import Image\n",
    "\n",
    "%matplotlib inline"
   ]
  },
  {
   "cell_type": "code",
   "execution_count": null,
   "id": "4a6b586a",
   "metadata": {},
   "outputs": [],
   "source": [
    "sys.path.append(r\"../LUCinSA_helpers\")\n",
    "from file_checks import *"
   ]
  },
  {
   "cell_type": "code",
   "execution_count": null,
   "id": "0fbc5569",
   "metadata": {},
   "outputs": [],
   "source": [
    "'''\n",
    "PARAMETERS: modify in notebook_params notebook, then run that notebook and this cell to update here\n",
    "DO NOT modify this cell\n",
    "'''\n",
    "\n",
    "%store -r basic_config\n",
    "print(\"Basic Parameters: \\n brdf_dir = {} \\n smooth_dir = {}, gridCell = {} \\n local_dir = {} \\n filter_yr = {} \\n yr_range = {} \\n image_type = {} \\n sensor_code = {}\"\n",
    "      .format(basic_config['brdf_dir'],basic_config['smooth_dir'],basic_config['grid_cell'], basic_config['local_dir'], basic_config['filter_yr'], basic_config['yr_range'], basic_config['image_type'], basic_config['sensor_code']))"
   ]
  },
  {
   "cell_type": "markdown",
   "id": "9fece1b4",
   "metadata": {},
   "source": [
    "#### To get all images in download directories: \n",
    "note: these directories may have been cleaned out already; this is only useful for internal troubleshooting"
   ]
  },
  {
   "cell_type": "code",
   "execution_count": null,
   "id": "84024351",
   "metadata": {},
   "outputs": [],
   "source": [
    "if basic_config['purpose'] == 'troubleshoot':\n",
    "    all_images_landsat = print_files_in_directory(Path('{}/{:06d}/landsat'.format(basic_config['raw_dir'],int(basic_config['grid_cell']))),'.tif',print_list=basic_config['print_list'],out_dir=basic_config['local_dir'],data_source='stac')\n",
    "    all_images_sentinel = print_files_in_directory(Path('{}/{:06d}/sentinel2'.format(basic_config['raw_dir'],int(basic_config['grid_cell']))),'.tif',print_list=basic_config['print_list'],out_dir=basic_config['local_dir'],data_source='stac')"
   ]
  },
  {
   "cell_type": "markdown",
   "id": "f5982de5",
   "metadata": {},
   "source": [
    "## To get all processed images in brdf directory\n",
    "This is primarily for troubleshooting, prior to finilization of time series data.\n",
    "These are all of the files that have been downloaded and processed, but some will be excluded from the final time series \n",
    "(For example L5, L7 and Sentinel images that fail coreg are here but not processed further).\n",
    "For final accounting of files used in time series (and reasons for skipping), use methods below that utilize processing.info"
   ]
  },
  {
   "cell_type": "code",
   "execution_count": null,
   "id": "c396dfcf",
   "metadata": {},
   "outputs": [],
   "source": [
    "if basic_config['purpose'] == 'troubleshoot':\n",
    "    all_images_brdf = print_files_in_directory(basic_config['brdf_dir'],'.nc',print_list=basic_config['print_list'],out_dir=basic_config['local_dir'],data_source='stac')\n",
    "\n",
    "    if basic_config['print_list'] == True:\n",
    "        print('full dataframe is printed as brdf_fileList.txt in {}'.format(basic_config['local_dir']))\n",
    "    else:\n",
    "        print('sample of dataframe: (Not printed to file. Can print by setting printList=True in notebook_params)')\n",
    "    all_images_brdf.head(n=5)"
   ]
  },
  {
   "cell_type": "code",
   "execution_count": null,
   "id": "57119161",
   "metadata": {},
   "outputs": [],
   "source": [
    "if basic_config['purpose'] == 'troubleshoot':\n",
    "    all_images_brdf.groupby(['yr','sensor']).size().unstack().plot(kind='bar', stacked=True, figsize=(20, 5), \n",
    "            title=('Number images processed per year for {} cell {}'.format(basic_config['country'],basic_config['grid_cell'])));"
   ]
  },
  {
   "cell_type": "code",
   "execution_count": null,
   "id": "517b62e6",
   "metadata": {},
   "outputs": [],
   "source": [
    "if basic_config['purpose'] == 'troubleshoot':\n",
    "    all_images_brdf.groupby(['yr','quality']).size().unstack().plot(color=['black','white'], kind='bar', stacked=True, edgecolor = 'black', figsize=(20, 5), \n",
    "            title=('Number images processed per year for {} cell {}'.format(basic_config['country'],basic_config['grid_cell'])))"
   ]
  },
  {
   "cell_type": "code",
   "execution_count": null,
   "id": "c95283a5",
   "metadata": {},
   "outputs": [],
   "source": [
    "if basic_config['purpose'] == 'troubleshoot':\n",
    "    all_images_brdf.groupby(['yrmo','sensor']).size().unstack().plot(kind='bar', stacked=True, figsize=(20, 5), \n",
    "        title=('Number images processed per month for {} cell {}'.format(basic_config['country'],basic_config['grid_cell'])));"
   ]
  },
  {
   "cell_type": "markdown",
   "id": "6413eed5",
   "metadata": {},
   "source": [
    "## Focus on smaller range of years to see month on axis:\n",
    "eg. to look for months where data did not get downloaded. \n",
    "But NOTE: missing months are not shown as gaps. TODO: spread axis over all months in range to show gaps"
   ]
  },
  {
   "cell_type": "code",
   "execution_count": null,
   "id": "60db71fd",
   "metadata": {},
   "outputs": [],
   "source": [
    "if basic_config['purpose'] == 'troubleshoot':\n",
    "    img_subset = all_images_brdf[(all_images_brdf[\"yr\"].astype(int) >= basic_config['yr_range'][0]) & (all_images_brdf[\"yr\"].astype(int) <= basic_config['yr_range'][1])]\n",
    "    img_subset.groupby(['yrmo','sensor']).size().unstack().plot(kind='bar', stacked=True, figsize=(20, 5), \n",
    "       title=('Number images processed per month for {} cell {} from {} to {}'.format(basic_config['country'],basic_config['grid_cell'], basic_config['yr_range'][0], basic_config['yr_range'][1])));"
   ]
  },
  {
   "cell_type": "markdown",
   "id": "5ce3ca8e",
   "metadata": {},
   "source": [
    "## Read processing.info database"
   ]
  },
  {
   "cell_type": "code",
   "execution_count": null,
   "id": "aaf79e05",
   "metadata": {},
   "outputs": [],
   "source": [
    "p_df = pd.read_pickle(Path('{}/{:06d}/processing.info'.format(basic_config['raw_dir'],int(basic_config['grid_cell']))))\n",
    "p_df.sort_index(ascending=True).tail(n=5)"
   ]
  },
  {
   "cell_type": "markdown",
   "id": "abd639db",
   "metadata": {},
   "source": [
    "#### Look for records from selected year and sensor \n",
    "(for troubleshooting)"
   ]
  },
  {
   "cell_type": "code",
   "execution_count": null,
   "id": "265d8aee",
   "metadata": {},
   "outputs": [],
   "source": [
    "if basic_config['purpose'] == 'troubleshoot':\n",
    "    match = p_df.loc[p_df.index.str.contains(str(basic_config['filter_yr']), na = False) & p_df.index.str.contains(basic_config['sensor_code'], na = False)]\n",
    "    match.tail(n=5)"
   ]
  },
  {
   "cell_type": "markdown",
   "id": "5a0a9f18",
   "metadata": {},
   "source": [
    "## get list of images that were skipped (intentionally not processed)\n",
    "reason for skipping can be found in column (skip_reason)"
   ]
  },
  {
   "cell_type": "code",
   "execution_count": null,
   "id": "8e31c941",
   "metadata": {},
   "outputs": [],
   "source": [
    "p_df_skip = p_df[p_df['skip'] == True]\n",
    "print('{} files were intentionally skipped'.format(len(p_df_skip)))\n",
    "print('reasons for skipping files: {}'.format(p_df_skip['skip_reason'].unique().tolist()))\n",
    "if basic_config['purpose'] == 'troubleshoot':\n",
    "    print(p_df_skip.index.values)"
   ]
  },
  {
   "cell_type": "markdown",
   "id": "82bd93f9",
   "metadata": {},
   "source": [
    "## get list of images that were not downloaded due to processing errors and marked for redownload "
   ]
  },
  {
   "cell_type": "code",
   "execution_count": null,
   "id": "6d413b3e",
   "metadata": {},
   "outputs": [],
   "source": [
    "p_df_redo = p_df[p_df['redownload'] == True]\n",
    "print('{} files were not processed due to errors and are flagged for reprocessing'.format(len(p_df_redo)))\n",
    "print('errors in processing files: {}'.format(p_df_redo['error'].unique().tolist()))\n",
    "if basic_config['purpose'] == 'troubleshoot':\n",
    "    print(p_df_redo.index.values)"
   ]
  },
  {
   "cell_type": "markdown",
   "id": "885271eb",
   "metadata": {},
   "source": [
    "# Get cell summary from processing database"
   ]
  },
  {
   "cell_type": "code",
   "execution_count": null,
   "id": "6a6041bb",
   "metadata": {},
   "outputs": [],
   "source": [
    "sensor = 'All' if basic_config['image_type'] == 'All' else basic_config['sensor_code'].lower()\n",
    "## for all years:\n",
    "df_all = get_img_list_from_db(basic_config['raw_dir'], basic_config['grid_cell'],'All',yrs=None,data_source='stac')\n",
    "\n",
    "##for selection of years:\n",
    "#df_slice = get_img_list_from_db(basic_config['raw_dir'], basic_config['grid_cell'],sensor,yrs=basic_config['yr_range'],data_source='stac')\n"
   ]
  },
  {
   "cell_type": "code",
   "execution_count": null,
   "id": "472c0ae8",
   "metadata": {},
   "outputs": [],
   "source": [
    "if basic_config['purpose'] == 'troubleshoot':\n",
    "    if basic_config['image_type'] == 'All' or basic_config['sensor_code'].lower().startswith('l'):\n",
    "        #catList_landsat = get_img_list_from_cat('l',basic_config['grid_cell'], basic_config['grid_file'], yrs=basic_config['yr_range'])\n",
    "        #print('{} images were found in the original landsat database for {} from {} to {}'.format(basic_config['grid_file'],basic_config['yr_range'][0],basic_config['yr_range'][1]))\n",
    "        #print(catList_landsat)\n",
    "        missing_local_l, missing_remote_l, missing_from_localdb_l = compare_files_to_db('l', 'both', basic_config['raw_dir'], basic_config['grid_cell'], basic_config['grid_file'], yrs=basic_config['yr_range'],data_source=basic_config['data_source'])\n",
    "        print('{} images from landsat catalog have not been processed'.format(len(missing_from_localdb_l)))\n",
    "        #print(missing_from_localdb_l)\n",
    "    if basic_config['image_type'] == 'All' or basic_config['sensor_code'].lower().startswith('s'):\n",
    "        #catList_sentinel = get_img_list_from_cat('s',basic_config['grid_cell'], basic_config['grid_file'], yrs=basic_config['yr_range'])\n",
    "        #print('{} images were found in the original sentinel database for {} from {} to {}'.format(basic_config['grid_file'],basic_config['yr_range'][0],basic_config['yr_range'][1]))\n",
    "        #print(catList_sentinel)\n",
    "        missing_local_s, missing_remote_s, missing_from_localdb_s = compare_files_to_db('s', 'both', basic_config['raw_dir'], basic_config['grid_cell'], basic_config['grid_file'], yrs=basic_config['yr_range'],data_source=basic_config['data_source'])\n",
    "        print('{} images from sentinel catalog have not been processed'.format(len(missing_from_localdb_s)))\n",
    "        #print(missing_from_localdb_s)"
   ]
  },
  {
   "cell_type": "markdown",
   "id": "34a6b92a",
   "metadata": {},
   "source": [
    "## Check processing for grid cell"
   ]
  },
  {
   "cell_type": "code",
   "execution_count": null,
   "id": "14644c73",
   "metadata": {},
   "outputs": [],
   "source": [
    "status, fig1, fig2 = get_cell_status(basic_config['raw_dir'],basic_config['smooth_dir'],basic_config['grid_cell'],None,True,basic_config['local_dir'],'stac')"
   ]
  },
  {
   "cell_type": "code",
   "execution_count": null,
   "id": "eaa3e6bb",
   "metadata": {},
   "outputs": [],
   "source": [
    "print(status)"
   ]
  },
  {
   "cell_type": "code",
   "execution_count": null,
   "id": "e80d473d",
   "metadata": {},
   "outputs": [],
   "source": [
    "# show plot of images ingested per year by sensor for selected cell\n",
    "image = Image.open(fig1)\n",
    "image.show()"
   ]
  },
  {
   "cell_type": "code",
   "execution_count": null,
   "id": "4a52b537",
   "metadata": {},
   "outputs": [],
   "source": [
    "# show plot of processing results (images used) by year for selected cell\n",
    "image = Image.open(fig2)\n",
    "image.show()"
   ]
  },
  {
   "cell_type": "markdown",
   "id": "37248ced",
   "metadata": {},
   "source": [
    "# extra exploration of inputs"
   ]
  },
  {
   "cell_type": "markdown",
   "id": "f97cf9f8",
   "metadata": {},
   "source": [
    "## Read scene.info file\n",
    " (this is for internal troublshooting. Processed items and status are better checked with processing.info checks above)"
   ]
  },
  {
   "cell_type": "code",
   "execution_count": null,
   "id": "0c836b25",
   "metadata": {},
   "outputs": [],
   "source": [
    "if purpose == 'troubleshoot':\n",
    "    prelim_landsat_df = pd.read_pickle(Path('{}/{:06d}/{}/scene.info'.format(basic_config['raw_dir'],int(basic_config['grid_cell']),'landsat'.lower())))\n",
    "    # pd.DataFrame.to_csv(prelim_landsat_df, Path('{}/{:06d}_landsatList.csv'.format(basic_config['local_dir'],int(basic_config['grid_cell']))), sep=',', na_rep='.', index=False) \n",
    "    prelim_sentinel_df = pd.read_pickle(Path('{}/{:06d}/{}/scene.info'.format(basic_config['raw_dir'],int(basic_config['grid_cell']),'sentinel2'.lower())))\n",
    "    prelim_brdf_df = pd.read_pickle(Path('{}/scene.info'.format(basic_config['brdf_dir'],int(basic_config['grid_cell']))))\n",
    "    print('landsat scene.info has {} items. Sentinel scene.info has {} items. brdf scene.info has {} items.'.format(len(prelim_landsat_df),len(prelim_sentinel_df),len(prelim_brdf_df)))    \n",
    "    print(prelim_brdf_df)"
   ]
  },
  {
   "cell_type": "markdown",
   "id": "4919fd2d",
   "metadata": {},
   "source": [
    "### Check original products"
   ]
  },
  {
   "cell_type": "code",
   "execution_count": null,
   "id": "20304f03",
   "metadata": {},
   "outputs": [],
   "source": [
    "'''\n",
    "l_orig = get_img_from_planetary_hub(catlist[0])\n",
    "import rich.table\n",
    "\n",
    "table = rich.table.Table(\"Asset Key\", \"Descripiption\")\n",
    "for asset_key, asset in l_orig.assets.items():\n",
    "    # print(f\"{asset_key:<25} - {asset.title}\")\n",
    "    table.add_row(asset_key, asset.title)\n",
    "\n",
    "table\n",
    "'''"
   ]
  },
  {
   "cell_type": "code",
   "execution_count": null,
   "id": "49ec9c2f",
   "metadata": {},
   "outputs": [],
   "source": [
    "'''\n",
    "#get url to download a band/asset:\n",
    "url=img.assets[\"nir08\"].href\n",
    "print(url)\n",
    "'''"
   ]
  },
  {
   "cell_type": "markdown",
   "id": "94c9d827",
   "metadata": {},
   "source": [
    "### explore difference between STAC catalogs"
   ]
  },
  {
   "cell_type": "code",
   "execution_count": null,
   "id": "b0d0fdde",
   "metadata": {},
   "outputs": [],
   "source": [
    "'''\n",
    "catfiff = ComparePlanetaryHub_w_Element84 ('Sentinel', basicConfig['gridCell'],basicConfig['gridFile'],Yrs = [2000,2022])\n",
    "diff0 = pd.DataFrame(catdiff[0])\n",
    "diff0['date'] = diff0.apply(lambda x: x[0].split(\"_\")[2], axis=1)\n",
    "diff0.sort_values(by=['date'], inplace=True) \n",
    "diff1 = pd.DataFrame(catdiff[1])\n",
    "diff1['date'] = diff1.apply(lambda x: x[0].split(\"_\")[2], axis=1)\n",
    "diff1.sort_values(by=['date'], inplace=True)    \n",
    "print('{} Images in Element84 but not Planetary: {}'.format(len(catdiff[0]),diff0))\n",
    "print('{} Images in Planetary but not Element84: {}'.format(len(catdiff[1]),diff1))\n",
    "'''"
   ]
  },
  {
   "cell_type": "markdown",
   "id": "fcb38cee",
   "metadata": {},
   "source": [
    "## To save an html copy of this notebook with all outputs:"
   ]
  },
  {
   "cell_type": "code",
   "execution_count": null,
   "id": "25b26464",
   "metadata": {},
   "outputs": [],
   "source": [
    "'''\n",
    "### uncomment and Run to print output as html\n",
    "out_name = str(basic_config['country']+'1a_ImagesProcessed_in_Cell_'+str(basic_config['grid_cell']))\n",
    "!jupyter nbconvert --output-dir='./Outputs' --to html --no-input --output=$out_name 1a_ExploreData_FileContent.ipynb\n",
    "'''"
   ]
  }
 ],
 "metadata": {
  "kernelspec": {
   "display_name": "Python 3 (ipykernel)",
   "language": "python",
   "name": "python3"
  },
  "language_info": {
   "codemirror_mode": {
    "name": "ipython",
    "version": 3
   },
   "file_extension": ".py",
   "mimetype": "text/x-python",
   "name": "python",
   "nbconvert_exporter": "python",
   "pygments_lexer": "ipython3",
   "version": "3.8.15"
  }
 },
 "nbformat": 4,
 "nbformat_minor": 5
}
