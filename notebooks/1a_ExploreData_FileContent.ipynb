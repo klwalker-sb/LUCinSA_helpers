{
 "cells": [
  {
   "cell_type": "markdown",
   "id": "02d941c9",
   "metadata": {},
   "source": [
    "# Gets summary of images in a directory"
   ]
  },
  {
   "cell_type": "code",
   "execution_count": 1,
   "id": "18a56fba",
   "metadata": {},
   "outputs": [],
   "source": [
    "import os\n",
    "import sys\n",
    "from pathlib import Path\n",
    "import pandas as pd\n",
    "import geopandas as gpd\n",
    "import numpy as np\n",
    "import pyproj\n",
    "import pickle\n",
    "from shapely.geometry import box\n",
    "import matplotlib.pyplot as plt\n",
    "\n",
    "%matplotlib inline"
   ]
  },
  {
   "cell_type": "code",
   "execution_count": 2,
   "id": "4a6b586a",
   "metadata": {},
   "outputs": [],
   "source": [
    "sys.path.append(r\"../LUCinSA_helpers\")\n",
    "from file_checks import *"
   ]
  },
  {
   "cell_type": "code",
   "execution_count": 3,
   "id": "0fbc5569",
   "metadata": {},
   "outputs": [
    {
     "name": "stdout",
     "output_type": "stream",
     "text": [
      "Basic Parameters: \n",
      " brdf_dir = /home/sandbox-cel/paraguay_lc/stac/grid/003045/brdf \n",
      " gridCell = 3045 \n",
      " index_dir = /home/downspout-cel/paraguay_lc/stac/grids/003045/brdf_ts/ms/evi2 \n",
      " out_dir = /home/klwalker/data/tmp\n",
      "SingleOutputParams: \n",
      " MapYears = [2020, 2021]\n",
      "SinglePlotParams: \n",
      " iImageType = AllRaw\n"
     ]
    }
   ],
   "source": [
    "'''\n",
    "PARAMETERS: modify in notebook_params notebook, then run that notebook and this cell to update here\n",
    "DO NOT modify this cell\n",
    "'''\n",
    "\n",
    "%store -r basic_config\n",
    "print(\"Basic Parameters: \\n brdf_dir = {} \\n gridCell = {} \\n index_dir = {} \\n out_dir = {}\"\n",
    "      .format(basic_config['brdf_dir'],basic_config['grid_cell'],basic_config['index_dir'],basic_config['out_dir']))\n",
    "%store -r single_output_params\n",
    "print(\"SingleOutputParams: \\n MapYears = {}\".format(single_output_params['map_years']))\n",
    "%store -r single_plot_params\n",
    "print(\"SinglePlotParams: \\n iImageType = {}\".format(single_plot_params['image_type']))"
   ]
  },
  {
   "cell_type": "code",
   "execution_count": 4,
   "id": "c396dfcf",
   "metadata": {},
   "outputs": [
    {
     "ename": "FileNotFoundError",
     "evalue": "[Errno 2] No such file or directory: '/home/sandbox-cel/paraguay_lc/stac/grid/003045/brdf'",
     "output_type": "error",
     "traceback": [
      "\u001b[0;31m---------------------------------------------------------------------------\u001b[0m",
      "\u001b[0;31mFileNotFoundError\u001b[0m                         Traceback (most recent call last)",
      "Cell \u001b[0;32mIn[4], line 2\u001b[0m\n\u001b[1;32m      1\u001b[0m \u001b[38;5;66;03m###To get all images in brdf directory:\u001b[39;00m\n\u001b[0;32m----> 2\u001b[0m all_images \u001b[38;5;241m=\u001b[39m \u001b[43mprint_files_in_directory\u001b[49m\u001b[43m(\u001b[49m\u001b[43mbasic_config\u001b[49m\u001b[43m[\u001b[49m\u001b[38;5;124;43m'\u001b[39;49m\u001b[38;5;124;43mbrdf_dir\u001b[39;49m\u001b[38;5;124;43m'\u001b[39;49m\u001b[43m]\u001b[49m\u001b[43m,\u001b[49m\u001b[38;5;124;43m'\u001b[39;49m\u001b[38;5;124;43m.nc\u001b[39;49m\u001b[38;5;124;43m'\u001b[39;49m\u001b[43m,\u001b[49m\u001b[43mprint_list\u001b[49m\u001b[38;5;241;43m=\u001b[39;49m\u001b[43mbasic_config\u001b[49m\u001b[43m[\u001b[49m\u001b[38;5;124;43m'\u001b[39;49m\u001b[38;5;124;43mprint_list\u001b[39;49m\u001b[38;5;124;43m'\u001b[39;49m\u001b[43m]\u001b[49m\u001b[43m,\u001b[49m\u001b[43mout_dir\u001b[49m\u001b[38;5;241;43m=\u001b[39;49m\u001b[43mbasic_config\u001b[49m\u001b[43m[\u001b[49m\u001b[38;5;124;43m'\u001b[39;49m\u001b[38;5;124;43mout_dir\u001b[39;49m\u001b[38;5;124;43m'\u001b[39;49m\u001b[43m]\u001b[49m\u001b[43m,\u001b[49m\u001b[43mdata_source\u001b[49m\u001b[38;5;241;43m=\u001b[39;49m\u001b[38;5;124;43m'\u001b[39;49m\u001b[38;5;124;43mstac\u001b[39;49m\u001b[38;5;124;43m'\u001b[39;49m\u001b[43m)\u001b[49m\n\u001b[1;32m      4\u001b[0m \u001b[38;5;28;01mif\u001b[39;00m basic_config[\u001b[38;5;124m'\u001b[39m\u001b[38;5;124mprint_list\u001b[39m\u001b[38;5;124m'\u001b[39m] \u001b[38;5;241m==\u001b[39m \u001b[38;5;28;01mTrue\u001b[39;00m:\n\u001b[1;32m      5\u001b[0m     \u001b[38;5;28mprint\u001b[39m(\u001b[38;5;124m'\u001b[39m\u001b[38;5;124mfull dataframe is printed as FileList.txt in \u001b[39m\u001b[38;5;132;01m{}\u001b[39;00m\u001b[38;5;124m'\u001b[39m\u001b[38;5;241m.\u001b[39mformat(out_dir\u001b[38;5;241m=\u001b[39mbasic_config[\u001b[38;5;124m'\u001b[39m\u001b[38;5;124mout_dir\u001b[39m\u001b[38;5;124m'\u001b[39m]))\n",
      "File \u001b[0;32m~/Jupyter/LUCinSA_helpers/LUCinSA_helpers/notebooks/../LUCinSA_helpers/file_checks.py:23\u001b[0m, in \u001b[0;36mprint_files_in_directory\u001b[0;34m(in_dir, endstring, print_list, out_dir, data_source)\u001b[0m\n\u001b[1;32m     16\u001b[0m \u001b[38;5;28;01mdef\u001b[39;00m \u001b[38;5;21mprint_files_in_directory\u001b[39m(in_dir,endstring,print_list\u001b[38;5;241m=\u001b[39m\u001b[38;5;28;01mFalse\u001b[39;00m,out_dir\u001b[38;5;241m=\u001b[39m\u001b[38;5;28;01mNone\u001b[39;00m,data_source\u001b[38;5;241m=\u001b[39m\u001b[38;5;124m'\u001b[39m\u001b[38;5;124mstac\u001b[39m\u001b[38;5;124m'\u001b[39m):\n\u001b[1;32m     17\u001b[0m \u001b[38;5;250m    \u001b[39m\u001b[38;5;124;03m'''\u001b[39;00m\n\u001b[1;32m     18\u001b[0m \u001b[38;5;124;03m    Can generate a dataframe with a list of all files in folder for quick exploration. \u001b[39;00m\n\u001b[1;32m     19\u001b[0m \u001b[38;5;124;03m    Option to print to file for deeper look.\u001b[39;00m\n\u001b[1;32m     20\u001b[0m \u001b[38;5;124;03m    If the directory of interest is a brdf directory, can extract dates and sensor types from file names\u001b[39;00m\n\u001b[1;32m     21\u001b[0m \u001b[38;5;124;03m    using '.nc' as {endstring} and {brdfDir=True} and generate quick graphs of images by year and month below.\u001b[39;00m\n\u001b[1;32m     22\u001b[0m \u001b[38;5;124;03m    '''\u001b[39;00m\n\u001b[0;32m---> 23\u001b[0m     file_list \u001b[38;5;241m=\u001b[39m [f \u001b[38;5;28;01mfor\u001b[39;00m f \u001b[38;5;129;01min\u001b[39;00m \u001b[43mos\u001b[49m\u001b[38;5;241;43m.\u001b[39;49m\u001b[43mlistdir\u001b[49m\u001b[43m(\u001b[49m\u001b[43min_dir\u001b[49m\u001b[43m)\u001b[49m \u001b[38;5;28;01mif\u001b[39;00m f\u001b[38;5;241m.\u001b[39mendswith(endstring) \u001b[38;5;129;01mand\u001b[39;00m \u001b[38;5;124m'\u001b[39m\u001b[38;5;124mangles\u001b[39m\u001b[38;5;124m'\u001b[39m \u001b[38;5;129;01mnot\u001b[39;00m \u001b[38;5;129;01min\u001b[39;00m f]\n\u001b[1;32m     24\u001b[0m     \u001b[38;5;28;01mif\u001b[39;00m \u001b[38;5;28mlen\u001b[39m(file_list)\u001b[38;5;241m==\u001b[39m\u001b[38;5;241m0\u001b[39m:\n\u001b[1;32m     25\u001b[0m         \u001b[38;5;28mprint\u001b[39m(\u001b[38;5;124m'\u001b[39m\u001b[38;5;124mthere are no files ending with \u001b[39m\u001b[38;5;132;01m{}\u001b[39;00m\u001b[38;5;124m in directory \u001b[39m\u001b[38;5;132;01m{}\u001b[39;00m\u001b[38;5;124m'\u001b[39m\u001b[38;5;241m.\u001b[39mformat(endstring, in_dir))\n",
      "\u001b[0;31mFileNotFoundError\u001b[0m: [Errno 2] No such file or directory: '/home/sandbox-cel/paraguay_lc/stac/grid/003045/brdf'"
     ]
    }
   ],
   "source": [
    "###To get all images in brdf directory:\n",
    "all_images = print_files_in_directory(basic_config['brdf_dir'],'.nc',print_list=basic_config['print_list'],out_dir=basic_config['out_dir'],data_source='stac')\n",
    "\n",
    "if basic_config['print_list'] == True:\n",
    "    print('full dataframe is printed as FileList.txt in {}'.format(out_dir=basic_config['out_dir']))\n",
    "else:\n",
    "    print('sample of dataframe: (Not printed to file. Can print by setting printList=True in notebook_params)')\n",
    "all_images.head(n=5)"
   ]
  },
  {
   "cell_type": "code",
   "execution_count": null,
   "id": "57119161",
   "metadata": {},
   "outputs": [],
   "source": [
    "#all_images.groupby(['yr','sensor']).size().unstack().plot(kind='bar', stacked=True, figsize=(20, 5), title=('Images per year'))\n",
    "all_images.groupby(['yr','sensor']).size().unstack().plot(kind='bar', stacked=True, figsize=(20, 5), \n",
    "            title=('Number images processed per year for {} cell {}'.format(basic_config['country'],basic_config['grid_cell'])));"
   ]
  },
  {
   "cell_type": "code",
   "execution_count": null,
   "id": "c95283a5",
   "metadata": {},
   "outputs": [],
   "source": [
    "all_images.groupby(['yrmo','sensor']).size().unstack().plot(kind='bar', stacked=True, figsize=(20, 5), \n",
    "        title=('Number images processed per month for {} cell {}'.format(basic_config['country'],basic_config['grid_cell'])));"
   ]
  },
  {
   "cell_type": "markdown",
   "id": "6413eed5",
   "metadata": {},
   "source": [
    "## Focus on smaller range of years to see month on axis:"
   ]
  },
  {
   "cell_type": "code",
   "execution_count": null,
   "id": "60db71fd",
   "metadata": {},
   "outputs": [],
   "source": [
    "img_subset = all_images[all_images[\"yr\"].astype(int) < 2011]\n",
    "img_subset.groupby(['yrmo','sensor']).size().unstack().plot(kind='bar', stacked=True, figsize=(20, 5), \n",
    "   title=('Number images processed per month for {} cell {} from 2019 on'.format(basic_config['country'],basic_config['grid_cell'])));"
   ]
  },
  {
   "cell_type": "markdown",
   "id": "55ceced8",
   "metadata": {},
   "source": [
    "## Read full downloading info file"
   ]
  },
  {
   "cell_type": "code",
   "execution_count": null,
   "id": "bf0fffa3",
   "metadata": {},
   "outputs": [],
   "source": [
    "all_processing = \"/raid-cel/r/downspout-cel/paraguay_lc/cell_processing_dl.csv\""
   ]
  },
  {
   "cell_type": "markdown",
   "id": "a3127e4d",
   "metadata": {},
   "source": [
    "## Read scene.info file"
   ]
  },
  {
   "cell_type": "code",
   "execution_count": null,
   "id": "331d699f",
   "metadata": {},
   "outputs": [],
   "source": [
    "df = pd.read_pickle(Path('{}/{:06d}/{}/scene.info'.format(basic_config['raw_dir'],int(basic_config['grid_cell']),single_plot_params['image_type'].lower())))\n",
    "print(len(df))\n",
    "df.tail(n=5)"
   ]
  },
  {
   "cell_type": "code",
   "execution_count": null,
   "id": "49e378b9",
   "metadata": {},
   "outputs": [],
   "source": [
    "brdf_df = pd.read_pickle(Path('{}/scene.info'.format(basic_config['brdf_dir'],int(basic_config['grid_cell']))))\n",
    "#brdf_df.set_index('id',drop=True,inplace=True)\n",
    "#brdf_df.rename(columns={'out_id':'brdf_id','error':'brdf_error'},inplace=True)\n",
    "brdf_df.tail(n=15)"
   ]
  },
  {
   "cell_type": "code",
   "execution_count": null,
   "id": "bac118a9",
   "metadata": {},
   "outputs": [],
   "source": [
    "p_df = pd.read_pickle(Path('{}/{:06d}/processing.info'.format(basic_config['raw_dir'],int(basic_config['grid_cell']))))\n",
    "#processing_db = p_df.rename_axis(None,axis=1,inplace=True)\n",
    "#pdict = p_df.to_dict(orient='index')\n",
    "#new_processing_info = pd.DataFrame.from_dict(pdict,orient='index')\n",
    "#new_processing_info.rename_axis('id', axis=1, inplace=True)\n",
    "#pd.to_pickle(new_processing_info, os.path.join(basicConfig['out_dir'],'processing_db'))\n",
    "\n",
    "\n",
    "#p_df.index = p_df.index.set_names(['id'])\n",
    "#p_df.reset_index(drop=False, inplace=True)\n",
    "p_df.tail(n=50)"
   ]
  },
  {
   "cell_type": "code",
   "execution_count": null,
   "id": "fc5a2726",
   "metadata": {},
   "outputs": [],
   "source": [
    "##for all years:\n",
    "#dfAll = get_img_list_from_db(SinglePlotParams['imageType'], basicConfig['raw_dir'], basicConfig['gridCell'],yrs=None,data_source='stac')\n",
    "##for selection of years:\n",
    "dfSlice = get_img_list_from_db(basic_config['brdf_dir'], basic_config['grid_cell'],single_plot_params['image_type'],yrs=single_output_params['map_years'],data_source='stac')\n",
    "dfSlice.head(5)"
   ]
  },
  {
   "cell_type": "code",
   "execution_count": null,
   "id": "472c0ae8",
   "metadata": {},
   "outputs": [],
   "source": [
    "CatList = get_img_list_from_cat(single_plot_params['image_type'],basic_config['grid_cell'], basic_config['grid_file'], yrs=single_output_params['map_years'])"
   ]
  },
  {
   "cell_type": "code",
   "execution_count": null,
   "id": "c4766486",
   "metadata": {},
   "outputs": [],
   "source": [
    "missing_files = compare_files_to_db(single_plot_params['image_type'], 'Both', basic_config['raw_dir'], basic_config['grid_cell'], basic_config['grid_file'], yrs=single_output_params['map_years'],data_source=basic_config['data_source'])"
   ]
  },
  {
   "cell_type": "markdown",
   "id": "34a6b92a",
   "metadata": {},
   "source": [
    "## Check processing for cell"
   ]
  },
  {
   "cell_type": "code",
   "execution_count": null,
   "id": "14644c73",
   "metadata": {},
   "outputs": [],
   "source": [
    "get_cell_status(basic_config['raw_dir'],basic_config['grid_cell'],basic_config['grid_file'],yrs = [2010,2022])\n",
    "\n",
    "##TO ADD:\n",
    "    ##Check if brdfs have been generated\n",
    "    ## if yes, check for...\n",
    "    ##Check coreg\n",
    "      ##check non-coreged images\n",
    "    ##Check indices"
   ]
  },
  {
   "cell_type": "code",
   "execution_count": null,
   "id": "5a07fb4b",
   "metadata": {},
   "outputs": [],
   "source": [
    "#catfiff = ComparePlanetaryHub_w_Element84 ('Sentinel', basicConfig['gridCell'],basicConfig['gridFile'],Yrs = [2010,2022])\n",
    "diff0 = pd.DataFrame(catdiff[0])\n",
    "diff0['date'] = diff0.apply(lambda x: x[0].split(\"_\")[2], axis=1)\n",
    "diff0.sort_values(by=['date'], inplace=True) \n",
    "diff1 = pd.DataFrame(catdiff[1])\n",
    "diff1['date'] = diff1.apply(lambda x: x[0].split(\"_\")[2], axis=1)\n",
    "diff1.sort_values(by=['date'], inplace=True)    \n",
    "print('{} Images in Element84 but not Planetary: {}'.format(len(catdiff[0]),diff0))\n",
    "print('{} Images in Planetary but not Element84: {}'.format(len(catdiff[1]),diff1))"
   ]
  },
  {
   "cell_type": "markdown",
   "id": "4919fd2d",
   "metadata": {},
   "source": [
    "## Check original products"
   ]
  },
  {
   "cell_type": "code",
   "execution_count": null,
   "id": "20304f03",
   "metadata": {},
   "outputs": [],
   "source": [
    "l_orig = get_img_from_planetary_hub(catlist[0])\n",
    "import rich.table\n",
    "\n",
    "table = rich.table.Table(\"Asset Key\", \"Descripiption\")\n",
    "for asset_key, asset in l_orig.assets.items():\n",
    "    # print(f\"{asset_key:<25} - {asset.title}\")\n",
    "    table.add_row(asset_key, asset.title)\n",
    "\n",
    "table"
   ]
  },
  {
   "cell_type": "code",
   "execution_count": null,
   "id": "49ec9c2f",
   "metadata": {},
   "outputs": [],
   "source": [
    "#get url to download a band/asset:\n",
    "url=img.assets[\"nir08\"].href\n",
    "print(url)"
   ]
  },
  {
   "cell_type": "markdown",
   "id": "3b6686ce",
   "metadata": {},
   "source": [
    "# Get cell status from new db"
   ]
  },
  {
   "cell_type": "code",
   "execution_count": 5,
   "id": "e5265583",
   "metadata": {},
   "outputs": [
    {
     "name": "stdout",
     "output_type": "stream",
     "text": [
      "filtering returned dataset to AllRaw...\n"
     ]
    },
    {
     "name": "stderr",
     "output_type": "stream",
     "text": [
      "/home/klwalker/Jupyter/LUCinSA_helpers/LUCinSA_helpers/notebooks/../LUCinSA_helpers/file_checks.py:86: SettingWithCopyWarning: \n",
      "A value is trying to be set on a copy of a slice from a DataFrame.\n",
      "Try using .loc[row_indexer,col_indexer] = value instead\n",
      "\n",
      "See the caveats in the documentation: https://pandas.pydata.org/pandas-docs/stable/user_guide/indexing.html#returning-a-view-versus-a-copy\n",
      "  df_lan['date'] = df_lan.index.map(lambda x: int(x.split('_')[3][:8]))\n",
      "/home/klwalker/Jupyter/LUCinSA_helpers/LUCinSA_helpers/notebooks/../LUCinSA_helpers/file_checks.py:88: SettingWithCopyWarning: \n",
      "A value is trying to be set on a copy of a slice from a DataFrame.\n",
      "Try using .loc[row_indexer,col_indexer] = value instead\n",
      "\n",
      "See the caveats in the documentation: https://pandas.pydata.org/pandas-docs/stable/user_guide/indexing.html#returning-a-view-versus-a-copy\n",
      "  df_sen['date'] = df_sen.index.map(lambda x: int(x.split('_')[2][:8]))\n"
     ]
    },
    {
     "data": {
      "text/html": [
       "<div>\n",
       "<style scoped>\n",
       "    .dataframe tbody tr th:only-of-type {\n",
       "        vertical-align: middle;\n",
       "    }\n",
       "\n",
       "    .dataframe tbody tr th {\n",
       "        vertical-align: top;\n",
       "    }\n",
       "\n",
       "    .dataframe thead th {\n",
       "        text-align: right;\n",
       "    }\n",
       "</style>\n",
       "<table border=\"1\" class=\"dataframe\">\n",
       "  <thead>\n",
       "    <tr style=\"text-align: right;\">\n",
       "      <th>id</th>\n",
       "      <th>dl</th>\n",
       "      <th>beforeDB</th>\n",
       "      <th>dldate</th>\n",
       "      <th>numpix</th>\n",
       "      <th>skip</th>\n",
       "      <th>redownload</th>\n",
       "      <th>skip_reason</th>\n",
       "      <th>error</th>\n",
       "      <th>sensor</th>\n",
       "      <th>date</th>\n",
       "    </tr>\n",
       "  </thead>\n",
       "  <tbody>\n",
       "    <tr>\n",
       "      <th>LE07_L2SP_229074_20200106_02_T2</th>\n",
       "      <td>None</td>\n",
       "      <td>NaN</td>\n",
       "      <td>NaN</td>\n",
       "      <td>NaN</td>\n",
       "      <td>True</td>\n",
       "      <td>False</td>\n",
       "      <td>L7 after l7_stop_year</td>\n",
       "      <td>NaN</td>\n",
       "      <td>le07</td>\n",
       "      <td>20200106</td>\n",
       "    </tr>\n",
       "    <tr>\n",
       "      <th>LC08_L2SP_229074_20200114_02_T1</th>\n",
       "      <td>/home/sandbox-cel/paraguay_lc/stac/grid/003045...</td>\n",
       "      <td>False</td>\n",
       "      <td>2023-07-01</td>\n",
       "      <td>1890522.0</td>\n",
       "      <td>NaN</td>\n",
       "      <td>NaN</td>\n",
       "      <td>NaN</td>\n",
       "      <td>NaN</td>\n",
       "      <td>lc08</td>\n",
       "      <td>20200114</td>\n",
       "    </tr>\n",
       "    <tr>\n",
       "      <th>LE07_L2SP_229074_20200122_02_T1</th>\n",
       "      <td>None</td>\n",
       "      <td>NaN</td>\n",
       "      <td>NaN</td>\n",
       "      <td>NaN</td>\n",
       "      <td>True</td>\n",
       "      <td>False</td>\n",
       "      <td>L7 after l7_stop_year</td>\n",
       "      <td>NaN</td>\n",
       "      <td>le07</td>\n",
       "      <td>20200122</td>\n",
       "    </tr>\n",
       "    <tr>\n",
       "      <th>LC08_L2SP_229074_20200130_02_T2</th>\n",
       "      <td>/home/sandbox-cel/paraguay_lc/stac/grid/003045...</td>\n",
       "      <td>False</td>\n",
       "      <td>2023-07-01</td>\n",
       "      <td>3220.0</td>\n",
       "      <td>NaN</td>\n",
       "      <td>NaN</td>\n",
       "      <td>NaN</td>\n",
       "      <td>NaN</td>\n",
       "      <td>lc08</td>\n",
       "      <td>20200130</td>\n",
       "    </tr>\n",
       "    <tr>\n",
       "      <th>LE07_L2SP_229074_20200207_02_T1</th>\n",
       "      <td>None</td>\n",
       "      <td>NaN</td>\n",
       "      <td>NaN</td>\n",
       "      <td>NaN</td>\n",
       "      <td>True</td>\n",
       "      <td>False</td>\n",
       "      <td>L7 after l7_stop_year</td>\n",
       "      <td>NaN</td>\n",
       "      <td>le07</td>\n",
       "      <td>20200207</td>\n",
       "    </tr>\n",
       "  </tbody>\n",
       "</table>\n",
       "</div>"
      ],
      "text/plain": [
       "id                                                                              dl  \\\n",
       "LE07_L2SP_229074_20200106_02_T2                                               None   \n",
       "LC08_L2SP_229074_20200114_02_T1  /home/sandbox-cel/paraguay_lc/stac/grid/003045...   \n",
       "LE07_L2SP_229074_20200122_02_T1                                               None   \n",
       "LC08_L2SP_229074_20200130_02_T2  /home/sandbox-cel/paraguay_lc/stac/grid/003045...   \n",
       "LE07_L2SP_229074_20200207_02_T1                                               None   \n",
       "\n",
       "id                              beforeDB      dldate     numpix  skip  \\\n",
       "LE07_L2SP_229074_20200106_02_T2      NaN         NaN        NaN  True   \n",
       "LC08_L2SP_229074_20200114_02_T1    False  2023-07-01  1890522.0   NaN   \n",
       "LE07_L2SP_229074_20200122_02_T1      NaN         NaN        NaN  True   \n",
       "LC08_L2SP_229074_20200130_02_T2    False  2023-07-01     3220.0   NaN   \n",
       "LE07_L2SP_229074_20200207_02_T1      NaN         NaN        NaN  True   \n",
       "\n",
       "id                              redownload            skip_reason  error  \\\n",
       "LE07_L2SP_229074_20200106_02_T2      False  L7 after l7_stop_year    NaN   \n",
       "LC08_L2SP_229074_20200114_02_T1        NaN                    NaN    NaN   \n",
       "LE07_L2SP_229074_20200122_02_T1      False  L7 after l7_stop_year    NaN   \n",
       "LC08_L2SP_229074_20200130_02_T2        NaN                    NaN    NaN   \n",
       "LE07_L2SP_229074_20200207_02_T1      False  L7 after l7_stop_year    NaN   \n",
       "\n",
       "id                              sensor      date  \n",
       "LE07_L2SP_229074_20200106_02_T2   le07  20200106  \n",
       "LC08_L2SP_229074_20200114_02_T1   lc08  20200114  \n",
       "LE07_L2SP_229074_20200122_02_T1   le07  20200122  \n",
       "LC08_L2SP_229074_20200130_02_T2   lc08  20200130  \n",
       "LE07_L2SP_229074_20200207_02_T1   le07  20200207  "
      ]
     },
     "execution_count": 5,
     "metadata": {},
     "output_type": "execute_result"
    }
   ],
   "source": [
    "##for all years:\n",
    "#dfAll = GetImgListFromDb(basicConfig['raw_dir'], basicConfig['gridCell'],SinglePlotParams['imageType'],Yrs=None,dataSource='stac')\n",
    "##for selection of years:\n",
    "dfSlice = get_img_list_from_db(basic_config['raw_dir'], basic_config['grid_cell'],single_plot_params['image_type'],yrs=single_output_params['map_years'],data_source='stac')\n",
    "\n",
    "dfSlice.head(n=5)"
   ]
  },
  {
   "cell_type": "code",
   "execution_count": null,
   "id": "cb16fde5",
   "metadata": {},
   "outputs": [],
   "source": [
    "(note, there are some methods in file_checks.py to get status of single (and all cells -- but this is done in notebook 5). Most were written before this db was created. Need to consolidate & finish processing checks."
   ]
  },
  {
   "cell_type": "markdown",
   "id": "fcb38cee",
   "metadata": {},
   "source": [
    "## To save an html copy of this notebook with all outputs:"
   ]
  },
  {
   "cell_type": "code",
   "execution_count": null,
   "id": "25b26464",
   "metadata": {},
   "outputs": [],
   "source": [
    "### Run to print output as html\n",
    "out_name = str(basic_config['country']+'1a_ImagesProcessed_in_Cell_'+str(basic_config['grid_cell']))\n",
    "!jupyter nbconvert --output-dir='./Outputs' --to html --no-input --output=$out_name 1a_ExploreData_FileContent.ipynb"
   ]
  }
 ],
 "metadata": {
  "kernelspec": {
   "display_name": "Python 3 (ipykernel)",
   "language": "python",
   "name": "python3"
  },
  "language_info": {
   "codemirror_mode": {
    "name": "ipython",
    "version": 3
   },
   "file_extension": ".py",
   "mimetype": "text/x-python",
   "name": "python",
   "nbconvert_exporter": "python",
   "pygments_lexer": "ipython3",
   "version": "3.8.15"
  }
 },
 "nbformat": 4,
 "nbformat_minor": 5
}
