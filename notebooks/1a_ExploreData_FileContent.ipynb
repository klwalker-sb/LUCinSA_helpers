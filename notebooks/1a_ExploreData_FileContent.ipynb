{
 "cells": [
  {
   "cell_type": "markdown",
   "id": "02d941c9",
   "metadata": {},
   "source": [
    "# Gets summary of images in a directory"
   ]
  },
  {
   "cell_type": "code",
   "execution_count": null,
   "id": "18a56fba",
   "metadata": {},
   "outputs": [],
   "source": [
    "import os\n",
    "import sys\n",
    "from pathlib import Path\n",
    "import pandas as pd\n",
    "import geopandas as gpd\n",
    "import numpy as np\n",
    "import pyproj\n",
    "import pickle\n",
    "from shapely.geometry import box\n",
    "import matplotlib.pyplot as plt\n",
    "\n",
    "%matplotlib inline"
   ]
  },
  {
   "cell_type": "code",
   "execution_count": null,
   "id": "4a6b586a",
   "metadata": {},
   "outputs": [],
   "source": [
    "sys.path.append(r\"../LUCinSA_helpers\")\n",
    "from file_checks import *"
   ]
  },
  {
   "cell_type": "code",
   "execution_count": null,
   "id": "0fbc5569",
   "metadata": {},
   "outputs": [],
   "source": [
    "'''\n",
    "PARAMETERS: modify in notebook_params notebook, then run that notebook and this cell to update here\n",
    "DO NOT modify this cell\n",
    "'''\n",
    "\n",
    "%store -r basic_config\n",
    "print(\"Basic Parameters: \\n brdf_dir = {} \\n gridCell = {} \\n index_dir = {} \\n out_dir = {}\"\n",
    "      .format(basic_config['brdf_dir'],basic_config['grid_cell'],basic_config['index_dir'],basic_config['out_dir']))\n",
    "%store -r single_output_params\n",
    "print(\"SingleOutputParams: \\n MapYears = {}\".format(single_output_params['map_years']))\n",
    "%store -r single_plot_params\n",
    "print(\"SinglePlotParams: \\n iImageType = {}\".format(single_plot_params['image_type']))"
   ]
  },
  {
   "cell_type": "code",
   "execution_count": null,
   "id": "c396dfcf",
   "metadata": {},
   "outputs": [],
   "source": [
    "###To get all images in brdf directory:\n",
    "all_images = print_files_in_directory(basic_config['brdf_dir'],'.nc',print_list=basic_config['print_list'],out_dir=basic_config['out_dir'],data_source='stac')\n",
    "\n",
    "if basic_config['print_list'] == True:\n",
    "    print('full dataframe is printed as FileList.txt in {}'.format(out_dir=basic_config['out_dir']))\n",
    "else:\n",
    "    print('sample of dataframe: (Not printed to file. Can print by setting printList=True in notebook_params)')\n",
    "all_images.head(n=5)"
   ]
  },
  {
   "cell_type": "code",
   "execution_count": null,
   "id": "57119161",
   "metadata": {},
   "outputs": [],
   "source": [
    "#all_images.groupby(['yr','sensor']).size().unstack().plot(kind='bar', stacked=True, figsize=(20, 5), title=('Images per year'))\n",
    "all_images.groupby(['yr','sensor']).size().unstack().plot(kind='bar', stacked=True, figsize=(20, 5), \n",
    "            title=('Number images processed per year for {} cell {}'.format(basic_config['country'],basic_config['grid_cell'])));"
   ]
  },
  {
   "cell_type": "code",
   "execution_count": null,
   "id": "c95283a5",
   "metadata": {},
   "outputs": [],
   "source": [
    "all_images.groupby(['yrmo','sensor']).size().unstack().plot(kind='bar', stacked=True, figsize=(20, 5), \n",
    "        title=('Number images processed per month for {} cell {}'.format(basic_config['country'],basic_config['grid_cell'])));"
   ]
  },
  {
   "cell_type": "markdown",
   "id": "6413eed5",
   "metadata": {},
   "source": [
    "## Focus on smaller range of years to see month on axis:"
   ]
  },
  {
   "cell_type": "code",
   "execution_count": null,
   "id": "60db71fd",
   "metadata": {},
   "outputs": [],
   "source": [
    "img_subset = all_images[all_images[\"yr\"].astype(int) < 2011]\n",
    "img_subset.groupby(['yrmo','sensor']).size().unstack().plot(kind='bar', stacked=True, figsize=(20, 5), \n",
    "   title=('Number images processed per month for {} cell {} from 2019 on'.format(basic_config['country'],basic_config['grid_cell'])));"
   ]
  },
  {
   "cell_type": "markdown",
   "id": "55ceced8",
   "metadata": {},
   "source": [
    "## Read full downloading info file"
   ]
  },
  {
   "cell_type": "code",
   "execution_count": null,
   "id": "bf0fffa3",
   "metadata": {},
   "outputs": [],
   "source": [
    "all_processing = \"/raid-cel/r/downspout-cel/paraguay_lc/cell_processing_dl.csv\""
   ]
  },
  {
   "cell_type": "markdown",
   "id": "a3127e4d",
   "metadata": {},
   "source": [
    "## Read scene.info file"
   ]
  },
  {
   "cell_type": "code",
   "execution_count": null,
   "id": "331d699f",
   "metadata": {},
   "outputs": [],
   "source": [
    "df = pd.read_pickle(Path('{}/{:06d}/{}/scene.info'.format(basic_config['raw_dir'],int(basic_config['grid_cell']),single_plot_params['image_type'].lower())))\n",
    "print(len(df))\n",
    "df.tail(n=5)"
   ]
  },
  {
   "cell_type": "code",
   "execution_count": null,
   "id": "49e378b9",
   "metadata": {},
   "outputs": [],
   "source": [
    "brdf_df = pd.read_pickle(Path('{}/scene.info'.format(basic_config['brdf_dir'],int(basic_config['grid_cell']))))\n",
    "#brdf_df.set_index('id',drop=True,inplace=True)\n",
    "#brdf_df.rename(columns={'out_id':'brdf_id','error':'brdf_error'},inplace=True)\n",
    "brdf_df.tail(n=15)"
   ]
  },
  {
   "cell_type": "code",
   "execution_count": null,
   "id": "bac118a9",
   "metadata": {},
   "outputs": [],
   "source": [
    "p_df = pd.read_pickle(Path('{}/{:06d}/processing.info'.format(basic_config['raw_dir'],int(basic_config['grid_cell']))))\n",
    "#processing_db = p_df.rename_axis(None,axis=1,inplace=True)\n",
    "#pdict = p_df.to_dict(orient='index')\n",
    "#new_processing_info = pd.DataFrame.from_dict(pdict,orient='index')\n",
    "#new_processing_info.rename_axis('id', axis=1, inplace=True)\n",
    "#pd.to_pickle(new_processing_info, os.path.join(basicConfig['out_dir'],'processing_db'))\n",
    "\n",
    "\n",
    "#p_df.index = p_df.index.set_names(['id'])\n",
    "#p_df.reset_index(drop=False, inplace=True)\n",
    "p_df.tail(n=50)"
   ]
  },
  {
   "cell_type": "code",
   "execution_count": null,
   "id": "fc5a2726",
   "metadata": {},
   "outputs": [],
   "source": [
    "##for all years:\n",
    "#dfAll = get_img_list_from_db(SinglePlotParams['imageType'], basicConfig['raw_dir'], basicConfig['gridCell'],yrs=None,data_source='stac')\n",
    "##for selection of years:\n",
    "dfSlice = get_img_list_from_db(basic_config['brdf_dir'], basic_config['grid_cell'],single_plot_params['image_type'],yrs=single_output_params['map_years'],data_source='stac')\n",
    "dfSlice.head(5)"
   ]
  },
  {
   "cell_type": "code",
   "execution_count": null,
   "id": "472c0ae8",
   "metadata": {},
   "outputs": [],
   "source": [
    "CatList = get_img_list_from_cat(single_plot_params['image_type'],basic_config['grid_cell'], basic_config['grid_file'], yrs=single_output_params['map_years'])"
   ]
  },
  {
   "cell_type": "code",
   "execution_count": null,
   "id": "c4766486",
   "metadata": {},
   "outputs": [],
   "source": [
    "missing_files = compare_files_to_db(single_plot_params['image_type'], 'Both', basic_config['raw_dir'], basic_config['grid_cell'], basic_config['grid_file'], yrs=single_output_params['map_years'],data_source=basic_config['data_source'])"
   ]
  },
  {
   "cell_type": "markdown",
   "id": "34a6b92a",
   "metadata": {},
   "source": [
    "## Check processing for cell"
   ]
  },
  {
   "cell_type": "code",
   "execution_count": null,
   "id": "14644c73",
   "metadata": {},
   "outputs": [],
   "source": [
    "get_cell_status(basic_config['raw_dir'],basic_config['grid_cell'],basic_config['grid_file'],yrs = [2010,2022])\n",
    "\n",
    "##TO ADD:\n",
    "    ##Check if brdfs have been generated\n",
    "    ## if yes, check for...\n",
    "    ##Check coreg\n",
    "      ##check non-coreged images\n",
    "    ##Check indices"
   ]
  },
  {
   "cell_type": "code",
   "execution_count": null,
   "id": "5a07fb4b",
   "metadata": {},
   "outputs": [],
   "source": [
    "#catfiff = ComparePlanetaryHub_w_Element84 ('Sentinel', basicConfig['gridCell'],basicConfig['gridFile'],Yrs = [2010,2022])\n",
    "diff0 = pd.DataFrame(catdiff[0])\n",
    "diff0['date'] = diff0.apply(lambda x: x[0].split(\"_\")[2], axis=1)\n",
    "diff0.sort_values(by=['date'], inplace=True) \n",
    "diff1 = pd.DataFrame(catdiff[1])\n",
    "diff1['date'] = diff1.apply(lambda x: x[0].split(\"_\")[2], axis=1)\n",
    "diff1.sort_values(by=['date'], inplace=True)    \n",
    "print('{} Images in Element84 but not Planetary: {}'.format(len(catdiff[0]),diff0))\n",
    "print('{} Images in Planetary but not Element84: {}'.format(len(catdiff[1]),diff1))"
   ]
  },
  {
   "cell_type": "markdown",
   "id": "4919fd2d",
   "metadata": {},
   "source": [
    "## Check original products"
   ]
  },
  {
   "cell_type": "code",
   "execution_count": null,
   "id": "20304f03",
   "metadata": {},
   "outputs": [],
   "source": [
    "l_orig = get_img_from_planetary_hub(catlist[0])\n",
    "import rich.table\n",
    "\n",
    "table = rich.table.Table(\"Asset Key\", \"Descripiption\")\n",
    "for asset_key, asset in l_orig.assets.items():\n",
    "    # print(f\"{asset_key:<25} - {asset.title}\")\n",
    "    table.add_row(asset_key, asset.title)\n",
    "\n",
    "table"
   ]
  },
  {
   "cell_type": "code",
   "execution_count": null,
   "id": "49ec9c2f",
   "metadata": {},
   "outputs": [],
   "source": [
    "#get url to download a band/asset:\n",
    "url=img.assets[\"nir08\"].href\n",
    "print(url)"
   ]
  },
  {
   "cell_type": "markdown",
   "id": "3b6686ce",
   "metadata": {},
   "source": [
    "# Get cell status from new db"
   ]
  },
  {
   "cell_type": "code",
   "execution_count": null,
   "id": "e5265583",
   "metadata": {},
   "outputs": [],
   "source": [
    "##for all years:\n",
    "#dfAll = GetImgListFromDb(basicConfig['raw_dir'], basicConfig['gridCell'],SinglePlotParams['imageType'],Yrs=None,dataSource='stac')\n",
    "##for selection of years:\n",
    "dfSlice = get_img_list_from_db(basic_config['raw_dir'], basic_config['grid_cell'],single_plot_params['image_type'],yrs=single_output_params['map_years'],data_source='stac')\n",
    "\n",
    "dfSlice.head(n=5)"
   ]
  },
  {
   "cell_type": "code",
   "execution_count": null,
   "id": "cb16fde5",
   "metadata": {},
   "outputs": [],
   "source": [
    "(note, there are some methods in file_checks.py to get status of single (and all cells -- but this is done in notebook 5). Most were written before this db was created. Need to consolidate & finish processing checks."
   ]
  },
  {
   "cell_type": "markdown",
   "id": "fcb38cee",
   "metadata": {},
   "source": [
    "## To save an html copy of this notebook with all outputs:"
   ]
  },
  {
   "cell_type": "code",
   "execution_count": null,
   "id": "25b26464",
   "metadata": {},
   "outputs": [],
   "source": [
    "### Run to print output as html\n",
    "out_name = str(basic_config['country']+'1a_ImagesProcessed_in_Cell_'+str(basic_config['grid_cell']))\n",
    "!jupyter nbconvert --output-dir='./Outputs' --to html --no-input --output=$out_name 1a_ExploreData_FileContent.ipynb"
   ]
  }
 ],
 "metadata": {
  "kernelspec": {
   "display_name": "Python 3 (ipykernel)",
   "language": "python",
   "name": "python3"
  },
  "language_info": {
   "codemirror_mode": {
    "name": "ipython",
    "version": 3
   },
   "file_extension": ".py",
   "mimetype": "text/x-python",
   "name": "python",
   "nbconvert_exporter": "python",
   "pygments_lexer": "ipython3",
   "version": "3.8.15"
  }
 },
 "nbformat": 4,
 "nbformat_minor": 5
}
