{
 "cells": [
  {
   "cell_type": "markdown",
   "id": "02d941c9",
   "metadata": {},
   "source": [
    "# Gets summary of images in a directory"
   ]
  },
  {
   "cell_type": "code",
   "execution_count": null,
   "id": "18a56fba",
   "metadata": {},
   "outputs": [],
   "source": [
    "import os\n",
    "from pathlib import Path\n",
    "import pandas as pd\n",
    "import numpy as np\n",
    "import matplotlib.pyplot as plt\n",
    "\n",
    "%matplotlib inline"
   ]
  },
  {
   "cell_type": "code",
   "execution_count": null,
   "id": "87db9803",
   "metadata": {},
   "outputs": [],
   "source": [
    "def PrintFilesInDirectory(in_dir,endstring,brdfDir=True,printList=False,out_dir=None):\n",
    "    '''\n",
    "    Can generate a dataframe with a list of all files in folder for quick exploration. \n",
    "    Option to print to file for deeper look.\n",
    "    If the directory of interest is a brdf directory, can extract dates and sensor types from file names\n",
    "    using '.nc' as {endstring} and {brdfDir=True} and generate quick graphs of images by year and month below.\n",
    "    '''\n",
    "    fileList = []\n",
    "    for f in os.listdir(in_dir):\n",
    "        if f.endswith(endstring) and 'angles' not in f:\n",
    "            fileList.append(f)\n",
    "    filedf = pd.DataFrame(fileList, columns = ['file'])\n",
    "    \n",
    "    if brdfDir==True:\n",
    "        filedf['sensor'] = filedf['file'].str[:4]\n",
    "        filedf['date'] = np.where((filedf['sensor']=='L1C_'),filedf['file'].str[19:27],filedf['file'].str[17:25])\n",
    "        filedf['yr'] = filedf['date'].str[:4]\n",
    "        filedf['yrmo'] = filedf['date'].str[:6]\n",
    "        sorted_files = filedf.sort_values(by='date')\n",
    "    \n",
    "    if printList == True:\n",
    "        pd.DataFrame.to_csv(filedf, os.path.join(out_dir,'FileList.txt'), sep=',', na_rep='.', index=False)   \n",
    "        \n",
    "    return filedf"
   ]
  },
  {
   "cell_type": "code",
   "execution_count": null,
   "id": "0fbc5569",
   "metadata": {},
   "outputs": [],
   "source": [
    "'''\n",
    "PARAMETERS: modify in notebook_params notebook, then run that notebook and this cell to update here\n",
    "DO NOT modify this cell\n",
    "'''\n",
    "\n",
    "%store -r basicConfig\n",
    "print(\"Basic Parameters: \\n brdf_dir = {} \\n gridCell = {} \\n index_dir = {} \\n out_dir = {}\"\n",
    "      .format(basicConfig['brdf_dir'],basicConfig['gridCell'],basicConfig['index_dir'],basicConfig['out_dir']))"
   ]
  },
  {
   "cell_type": "code",
   "execution_count": null,
   "id": "c396dfcf",
   "metadata": {},
   "outputs": [],
   "source": [
    "###To get all images in brdf directory:\n",
    "Allimages = PrintFilesInDirectory(basicConfig['brdf_dir'],'.nc',brdfDir=True,printList=basicConfig['printList'],out_dir=basicConfig['out_dir'])\n",
    "\n",
    "if basicConfig['printList'] == True:\n",
    "    print('full dataframe is printed as FileList.txt in {}'.format(out_dir=basicConfig['out_dir']))\n",
    "else:\n",
    "    print('sample of dataframe: (Not printed to file. Can print by setting printList=True in notebook_params)')\n",
    "Allimages.head(n=5)"
   ]
  },
  {
   "cell_type": "code",
   "execution_count": null,
   "id": "57119161",
   "metadata": {},
   "outputs": [],
   "source": [
    "#Allimages.groupby(['yr','sensor']).size().unstack().plot(kind='bar', stacked=True, figsize=(20, 5), title=('Images per year'))\n",
    "Allimages.groupby(['yr','sensor']).size().unstack().plot(kind='bar', stacked=True, figsize=(20, 5), \n",
    "            title=('Number images processed per year for {} cell {}'.format(basicConfig['country'],basicConfig['gridCell'])));"
   ]
  },
  {
   "cell_type": "code",
   "execution_count": null,
   "id": "c95283a5",
   "metadata": {},
   "outputs": [],
   "source": [
    "Allimages.groupby(['yrmo','sensor']).size().unstack().plot(kind='bar', stacked=True, figsize=(20, 5), \n",
    "        title=('Number images processed per month for {} cell {}'.format(basicConfig['country'],basicConfig['gridCell'])));"
   ]
  },
  {
   "cell_type": "markdown",
   "id": "6413eed5",
   "metadata": {},
   "source": [
    "## Focus on smaller range of years to see month on axis:"
   ]
  },
  {
   "cell_type": "code",
   "execution_count": null,
   "id": "60db71fd",
   "metadata": {},
   "outputs": [],
   "source": [
    "ImgSubset = Allimages[Allimages[\"yr\"].astype(int) > 2019]\n",
    "ImgSubset.groupby(['yrmo','sensor']).size().unstack().plot(kind='bar', stacked=True, figsize=(20, 5), \n",
    "   title=('Number images processed per month for {} cell {} from 2019 on'.format(basicConfig['country'],basicConfig['gridCell'])));"
   ]
  },
  {
   "cell_type": "code",
   "execution_count": null,
   "id": "25b26464",
   "metadata": {},
   "outputs": [],
   "source": [
    "### Run to print output as html\n",
    "\n",
    "outName = str(basicConfig['country']+'1a_ImagesProcessed_in_Cell_'+str(basicConfig['gridCell']))\n",
    "!jupyter nbconvert --output-dir='./Outputs' --to html --no-input --output=$outName 1a_ExploreData_FileContent.ipynb"
   ]
  },
  {
   "cell_type": "code",
   "execution_count": null,
   "id": "0ec07646",
   "metadata": {},
   "outputs": [],
   "source": []
  }
 ],
 "metadata": {
  "kernelspec": {
   "display_name": "Python 3",
   "language": "python",
   "name": "python3"
  },
  "language_info": {
   "codemirror_mode": {
    "name": "ipython",
    "version": 3
   },
   "file_extension": ".py",
   "mimetype": "text/x-python",
   "name": "python",
   "nbconvert_exporter": "python",
   "pygments_lexer": "ipython3",
   "version": "3.8.8"
  }
 },
 "nbformat": 4,
 "nbformat_minor": 5
}
