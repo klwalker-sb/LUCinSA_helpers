{
 "cells": [
  {
   "cell_type": "code",
   "execution_count": 1,
   "id": "6a947286",
   "metadata": {},
   "outputs": [],
   "source": [
    "import os\n",
    "import sys\n",
    "from pathlib import Path\n",
    "import pandas as pd\n",
    "\n",
    "%matplotlib inline"
   ]
  },
  {
   "cell_type": "code",
   "execution_count": 2,
   "id": "72d48bd3",
   "metadata": {},
   "outputs": [],
   "source": [
    "sys.path.append(r\"../LUCinSA_helpers\")\n",
    "from RF1_CreateModel import *"
   ]
  },
  {
   "cell_type": "code",
   "execution_count": 3,
   "id": "01ad1ec9",
   "metadata": {},
   "outputs": [
    {
     "name": "stdout",
     "output_type": "stream",
     "text": [
      "                 USE_NAME  LC22 LC5_name  LC5  LC17          LC17_name  LC3  \\\n",
      "0              NoVeg_Bare     1    NoVeg   10     1         NoVeg_Bare    0   \n",
      "1             NoVeg_Built     3    NoVeg   10     3        NoVeg_Built    0   \n",
      "2             NoVeg_Water     7    NoVeg   10     7        NoVeg_Water    0   \n",
      "4       Grassland-Natural    12   LowVeg   20    12  Grassland-Natural    0   \n",
      "5       Grassland-Planted    13   LowVeg   20    13  Grassland-Planted    0   \n",
      "6   Grassland-Natural-wet    17   LowVeg   20    13  Grassland-Natural    0   \n",
      "14         Crops-Soybeans    31   LowVeg   20    31     Crops-Soybeans    1   \n",
      "15            Crops-Beans    32   LowVeg   20    35          Crops-mix    1   \n",
      "16             Crops-Corn    33   LowVeg   20    33         Crops-Corn    1   \n",
      "17         Crops-Mandioca    34   LowVeg   20    35          Crops-mix    1   \n",
      "18              Crops-mix    35   LowVeg   20    35          Crops-mix    1   \n",
      "19          TreePlant-new    36   LowVeg   20    99            unknown    1   \n",
      "20             Crops-Rice    37   LowVeg   20    37         Crops-Rice    1   \n",
      "21            Crops-Sugar    38   LowVeg   20    38        Crops-Sugar    1   \n",
      "22      Crops-Orchard-new    40   LowVeg   20    99            unknown    1   \n",
      "9          Grass_tree-mix    51   MedVeg   50    51     Grass_tree-mix    0   \n",
      "7                   Shrub    52   MedVeg   50    52              Shrub    0   \n",
      "23          Crops-Orchard    53   MedVeg   40    53      Crops-Orchard    2   \n",
      "24       Crops-Yerba-Mate    55   MedVeg   40    55   Crops-Yerba-Mate    2   \n",
      "8         TreePlant-young    56   MedVeg   50    60          TreePlant    0   \n",
      "10       TreePlant-mature    60  HighVeg   70    60          TreePlant    0   \n",
      "12        Trees-disturbed    65  HighVeg   70    65    Trees-disturbed    0   \n",
      "11           Trees-Forest    80  HighVeg   70    80       Trees-Forest    0   \n",
      "13              Crops-low    99   LowVeg   20    99            unknown    1   \n",
      "3               Grassland    99   LowVeg   20    99            unknown    0   \n",
      "25              Crops-Med    99   MedVeg   40    99            unknown    2   \n",
      "26                unknown    99       99   99    99            unknown   99   \n",
      "\n",
      "   LC3_name  LC4 LC4_name  LC2 LC2_name  LC_crops   LC_crops_name  \n",
      "0    nocrop    0   nocrop    0   nocrop        10          NoCrop  \n",
      "1    nocrop    0   nocrop    0   nocrop        10          NoCrop  \n",
      "2    nocrop    0   nocrop    0   nocrop        10          NoCrop  \n",
      "4    nocrop    0   nocrop    0   nocrop        10          NoCrop  \n",
      "5    nocrop    0   nocrop    0   nocrop        10          NoCrop  \n",
      "6    nocrop    0   nocrop    0   nocrop        10          NoCrop  \n",
      "14     crop    1     crop    1     crop        31  Crops-Soybeans  \n",
      "15     crop    1     crop    1     crop        35       Crops-mix  \n",
      "16     crop    1     crop    1     crop        33      Crops-Corn  \n",
      "17     crop    1     crop    1     crop        35       Crops-mix  \n",
      "18     crop    1     crop    1     crop        35       Crops-mix  \n",
      "19     crop    1     crop    1     crop        99         unknown  \n",
      "20     crop    1     crop    1     crop        37      Crops-Rice  \n",
      "21     crop    1     crop    1     crop        38     Crops-Sugar  \n",
      "22     crop    1     crop    1     crop        99         unknown  \n",
      "9    nocrop    0   nocrop    0   nocrop        10          NoCrop  \n",
      "7    nocrop    0   nocrop    0   nocrop        10          NoCrop  \n",
      "23  medcrop    2  medcrop    1     crop        99         unknown  \n",
      "24  medcrop    2  medcrop    1     crop        99         unknown  \n",
      "8    nocrop    0   nocrop    0   nocrop        10          NoCrop  \n",
      "10   nocrop    3     tree    0   nocrop        10          NoCrop  \n",
      "12   nocrop    3     tree    0   nocrop        10          NoCrop  \n",
      "11   nocrop    3     tree    0   nocrop        10          NoCrop  \n",
      "13     crop    1     crop    1     crop        99         unknown  \n",
      "3    nocrop    0   nocrop    0   nocrop        10          NoCrop  \n",
      "25  medcrop    2  medcrop    1     crop        99         unknown  \n",
      "26  unknown   99  unknown   99  unknown        99         unknown  \n"
     ]
    }
   ],
   "source": [
    "LUT=pd.read_csv('../Class_LUT.csv')\n",
    "LUT.drop(['Description'], axis=1, inplace=True)\n",
    "print(LUT.sort_values('LC22'))"
   ]
  },
  {
   "cell_type": "markdown",
   "id": "ced2658d",
   "metadata": {},
   "source": [
    "#### start with default models with pixel-only data:"
   ]
  },
  {
   "cell_type": "code",
   "execution_count": 4,
   "id": "04f7a074",
   "metadata": {},
   "outputs": [
    {
     "name": "stdout",
     "output_type": "stream",
     "text": [
      "sample breakdown by LC17 class:\n",
      "Crops-Soybeans       1349\n",
      "Crops-mix             454\n",
      "TreePlant             315\n",
      "Grassland-Natural     309\n",
      "Trees-Forest          203\n",
      "NoVeg_Built           202\n",
      "Shrub                 193\n",
      "NoVeg_Water           186\n",
      "Crops-Corn            179\n",
      "NoVeg_Bare            171\n",
      "Crops-Rice            171\n",
      "unknown               168\n",
      "Crops-Yerba-Mate      160\n",
      "Trees-disturbed       154\n",
      "Grassland-Planted     113\n",
      "Crops-Sugar           105\n",
      "Crops-Orchard          91\n",
      "Grass_tree-mix         73\n",
      "Name: LC17_name, dtype: int64\n",
      "default rf model with all sample pixels and pixel only data\n"
     ]
    },
    {
     "ename": "TypeError",
     "evalue": "argument of type 'method' is not iterable",
     "output_type": "error",
     "traceback": [
      "\u001b[1;31m---------------------------------------------------------------------------\u001b[0m",
      "\u001b[1;31mTypeError\u001b[0m                                 Traceback (most recent call last)",
      "Cell \u001b[1;32mIn [4], line 10\u001b[0m\n\u001b[0;32m      8\u001b[0m in_dir \u001b[38;5;241m=\u001b[39m \u001b[38;5;124m'\u001b[39m\u001b[38;5;124mD:/NasaProject/Paraguay/ClassificationModels/RF\u001b[39m\u001b[38;5;124m'\u001b[39m\n\u001b[0;32m      9\u001b[0m out_dir \u001b[38;5;241m=\u001b[39m \u001b[38;5;124m'\u001b[39m\u001b[38;5;124mD:/NasaProject/Paraguay/ClassificationModels/RF\u001b[39m\u001b[38;5;124m'\u001b[39m\n\u001b[1;32m---> 10\u001b[0m rfout17 \u001b[38;5;241m=\u001b[39m \u001b[43mMulticlassRF\u001b[49m\u001b[43m(\u001b[49m\u001b[43mpixdf\u001b[49m\u001b[43m,\u001b[49m\u001b[43mout_dir\u001b[49m\u001b[43m,\u001b[49m\u001b[38;5;124;43m'\u001b[39;49m\u001b[38;5;124;43mcrop_nocrop\u001b[39;49m\u001b[38;5;124;43m'\u001b[39;49m\u001b[43m,\u001b[49m\u001b[38;5;124;43m'\u001b[39;49m\u001b[38;5;124;43mPermutation\u001b[39;49m\u001b[38;5;124;43m'\u001b[39;49m\u001b[43m,\u001b[49m\u001b[38;5;241;43m29\u001b[39;49m\u001b[43m)\u001b[49m\n",
      "File \u001b[1;32m~\\Desktop\\NasaProject\\RemoteComputing\\LUCinSA_helpers\\notebooks\\../LUCinSA_helpers\\RF1_CreateModel.py:159\u001b[0m, in \u001b[0;36mMulticlassRF\u001b[1;34m(trainfeatures, out_dir, classification, importance_method, ran_hold)\u001b[0m\n\u001b[0;32m    157\u001b[0m \u001b[38;5;28;01mdef\u001b[39;00m \u001b[38;5;21mMulticlassRF\u001b[39m(trainfeatures, out_dir, classification, importance_method, ran_hold):\n\u001b[1;32m--> 159\u001b[0m     df_train \u001b[38;5;241m=\u001b[39m \u001b[43mpd\u001b[49m\u001b[38;5;241;43m.\u001b[39;49m\u001b[43mread_csv\u001b[49m\u001b[43m(\u001b[49m\u001b[43mtrainfeatures\u001b[49m\u001b[43m)\u001b[49m\n\u001b[0;32m    160\u001b[0m     \u001b[38;5;28mprint\u001b[39m(\u001b[38;5;124m'\u001b[39m\u001b[38;5;124mThere are \u001b[39m\u001b[38;5;132;01m{}\u001b[39;00m\u001b[38;5;124m training features\u001b[39m\u001b[38;5;124m'\u001b[39m\u001b[38;5;241m.\u001b[39mformat(df_train\u001b[38;5;241m.\u001b[39mshape[\u001b[38;5;241m0\u001b[39m]))\n\u001b[0;32m    161\u001b[0m     y \u001b[38;5;241m=\u001b[39m df_train[\u001b[38;5;124m'\u001b[39m\u001b[38;5;124mLC17\u001b[39m\u001b[38;5;124m'\u001b[39m]\n",
      "File \u001b[1;32m~\\anaconda3\\envs\\.lucinsa38_dl\\lib\\site-packages\\pandas\\util\\_decorators.py:211\u001b[0m, in \u001b[0;36mdeprecate_kwarg.<locals>._deprecate_kwarg.<locals>.wrapper\u001b[1;34m(*args, **kwargs)\u001b[0m\n\u001b[0;32m    209\u001b[0m     \u001b[38;5;28;01melse\u001b[39;00m:\n\u001b[0;32m    210\u001b[0m         kwargs[new_arg_name] \u001b[38;5;241m=\u001b[39m new_arg_value\n\u001b[1;32m--> 211\u001b[0m \u001b[38;5;28;01mreturn\u001b[39;00m \u001b[43mfunc\u001b[49m\u001b[43m(\u001b[49m\u001b[38;5;241;43m*\u001b[39;49m\u001b[43margs\u001b[49m\u001b[43m,\u001b[49m\u001b[43m \u001b[49m\u001b[38;5;241;43m*\u001b[39;49m\u001b[38;5;241;43m*\u001b[39;49m\u001b[43mkwargs\u001b[49m\u001b[43m)\u001b[49m\n",
      "File \u001b[1;32m~\\anaconda3\\envs\\.lucinsa38_dl\\lib\\site-packages\\pandas\\util\\_decorators.py:331\u001b[0m, in \u001b[0;36mdeprecate_nonkeyword_arguments.<locals>.decorate.<locals>.wrapper\u001b[1;34m(*args, **kwargs)\u001b[0m\n\u001b[0;32m    325\u001b[0m \u001b[38;5;28;01mif\u001b[39;00m \u001b[38;5;28mlen\u001b[39m(args) \u001b[38;5;241m>\u001b[39m num_allow_args:\n\u001b[0;32m    326\u001b[0m     warnings\u001b[38;5;241m.\u001b[39mwarn(\n\u001b[0;32m    327\u001b[0m         msg\u001b[38;5;241m.\u001b[39mformat(arguments\u001b[38;5;241m=\u001b[39m_format_argument_list(allow_args)),\n\u001b[0;32m    328\u001b[0m         \u001b[38;5;167;01mFutureWarning\u001b[39;00m,\n\u001b[0;32m    329\u001b[0m         stacklevel\u001b[38;5;241m=\u001b[39mfind_stack_level(),\n\u001b[0;32m    330\u001b[0m     )\n\u001b[1;32m--> 331\u001b[0m \u001b[38;5;28;01mreturn\u001b[39;00m \u001b[43mfunc\u001b[49m\u001b[43m(\u001b[49m\u001b[38;5;241;43m*\u001b[39;49m\u001b[43margs\u001b[49m\u001b[43m,\u001b[49m\u001b[43m \u001b[49m\u001b[38;5;241;43m*\u001b[39;49m\u001b[38;5;241;43m*\u001b[39;49m\u001b[43mkwargs\u001b[49m\u001b[43m)\u001b[49m\n",
      "File \u001b[1;32m~\\anaconda3\\envs\\.lucinsa38_dl\\lib\\site-packages\\pandas\\io\\parsers\\readers.py:950\u001b[0m, in \u001b[0;36mread_csv\u001b[1;34m(filepath_or_buffer, sep, delimiter, header, names, index_col, usecols, squeeze, prefix, mangle_dupe_cols, dtype, engine, converters, true_values, false_values, skipinitialspace, skiprows, skipfooter, nrows, na_values, keep_default_na, na_filter, verbose, skip_blank_lines, parse_dates, infer_datetime_format, keep_date_col, date_parser, dayfirst, cache_dates, iterator, chunksize, compression, thousands, decimal, lineterminator, quotechar, quoting, doublequote, escapechar, comment, encoding, encoding_errors, dialect, error_bad_lines, warn_bad_lines, on_bad_lines, delim_whitespace, low_memory, memory_map, float_precision, storage_options)\u001b[0m\n\u001b[0;32m    935\u001b[0m kwds_defaults \u001b[38;5;241m=\u001b[39m _refine_defaults_read(\n\u001b[0;32m    936\u001b[0m     dialect,\n\u001b[0;32m    937\u001b[0m     delimiter,\n\u001b[1;32m   (...)\u001b[0m\n\u001b[0;32m    946\u001b[0m     defaults\u001b[38;5;241m=\u001b[39m{\u001b[38;5;124m\"\u001b[39m\u001b[38;5;124mdelimiter\u001b[39m\u001b[38;5;124m\"\u001b[39m: \u001b[38;5;124m\"\u001b[39m\u001b[38;5;124m,\u001b[39m\u001b[38;5;124m\"\u001b[39m},\n\u001b[0;32m    947\u001b[0m )\n\u001b[0;32m    948\u001b[0m kwds\u001b[38;5;241m.\u001b[39mupdate(kwds_defaults)\n\u001b[1;32m--> 950\u001b[0m \u001b[38;5;28;01mreturn\u001b[39;00m \u001b[43m_read\u001b[49m\u001b[43m(\u001b[49m\u001b[43mfilepath_or_buffer\u001b[49m\u001b[43m,\u001b[49m\u001b[43m \u001b[49m\u001b[43mkwds\u001b[49m\u001b[43m)\u001b[49m\n",
      "File \u001b[1;32m~\\anaconda3\\envs\\.lucinsa38_dl\\lib\\site-packages\\pandas\\io\\parsers\\readers.py:605\u001b[0m, in \u001b[0;36m_read\u001b[1;34m(filepath_or_buffer, kwds)\u001b[0m\n\u001b[0;32m    602\u001b[0m _validate_names(kwds\u001b[38;5;241m.\u001b[39mget(\u001b[38;5;124m\"\u001b[39m\u001b[38;5;124mnames\u001b[39m\u001b[38;5;124m\"\u001b[39m, \u001b[38;5;28;01mNone\u001b[39;00m))\n\u001b[0;32m    604\u001b[0m \u001b[38;5;66;03m# Create the parser.\u001b[39;00m\n\u001b[1;32m--> 605\u001b[0m parser \u001b[38;5;241m=\u001b[39m \u001b[43mTextFileReader\u001b[49m\u001b[43m(\u001b[49m\u001b[43mfilepath_or_buffer\u001b[49m\u001b[43m,\u001b[49m\u001b[43m \u001b[49m\u001b[38;5;241;43m*\u001b[39;49m\u001b[38;5;241;43m*\u001b[39;49m\u001b[43mkwds\u001b[49m\u001b[43m)\u001b[49m\n\u001b[0;32m    607\u001b[0m \u001b[38;5;28;01mif\u001b[39;00m chunksize \u001b[38;5;129;01mor\u001b[39;00m iterator:\n\u001b[0;32m    608\u001b[0m     \u001b[38;5;28;01mreturn\u001b[39;00m parser\n",
      "File \u001b[1;32m~\\anaconda3\\envs\\.lucinsa38_dl\\lib\\site-packages\\pandas\\io\\parsers\\readers.py:1442\u001b[0m, in \u001b[0;36mTextFileReader.__init__\u001b[1;34m(self, f, engine, **kwds)\u001b[0m\n\u001b[0;32m   1439\u001b[0m     \u001b[38;5;28mself\u001b[39m\u001b[38;5;241m.\u001b[39moptions[\u001b[38;5;124m\"\u001b[39m\u001b[38;5;124mhas_index_names\u001b[39m\u001b[38;5;124m\"\u001b[39m] \u001b[38;5;241m=\u001b[39m kwds[\u001b[38;5;124m\"\u001b[39m\u001b[38;5;124mhas_index_names\u001b[39m\u001b[38;5;124m\"\u001b[39m]\n\u001b[0;32m   1441\u001b[0m \u001b[38;5;28mself\u001b[39m\u001b[38;5;241m.\u001b[39mhandles: IOHandles \u001b[38;5;241m|\u001b[39m \u001b[38;5;28;01mNone\u001b[39;00m \u001b[38;5;241m=\u001b[39m \u001b[38;5;28;01mNone\u001b[39;00m\n\u001b[1;32m-> 1442\u001b[0m \u001b[38;5;28mself\u001b[39m\u001b[38;5;241m.\u001b[39m_engine \u001b[38;5;241m=\u001b[39m \u001b[38;5;28;43mself\u001b[39;49m\u001b[38;5;241;43m.\u001b[39;49m\u001b[43m_make_engine\u001b[49m\u001b[43m(\u001b[49m\u001b[43mf\u001b[49m\u001b[43m,\u001b[49m\u001b[43m \u001b[49m\u001b[38;5;28;43mself\u001b[39;49m\u001b[38;5;241;43m.\u001b[39;49m\u001b[43mengine\u001b[49m\u001b[43m)\u001b[49m\n",
      "File \u001b[1;32m~\\anaconda3\\envs\\.lucinsa38_dl\\lib\\site-packages\\pandas\\io\\parsers\\readers.py:1735\u001b[0m, in \u001b[0;36mTextFileReader._make_engine\u001b[1;34m(self, f, engine)\u001b[0m\n\u001b[0;32m   1733\u001b[0m     \u001b[38;5;28;01mif\u001b[39;00m \u001b[38;5;124m\"\u001b[39m\u001b[38;5;124mb\u001b[39m\u001b[38;5;124m\"\u001b[39m \u001b[38;5;129;01mnot\u001b[39;00m \u001b[38;5;129;01min\u001b[39;00m mode:\n\u001b[0;32m   1734\u001b[0m         mode \u001b[38;5;241m+\u001b[39m\u001b[38;5;241m=\u001b[39m \u001b[38;5;124m\"\u001b[39m\u001b[38;5;124mb\u001b[39m\u001b[38;5;124m\"\u001b[39m\n\u001b[1;32m-> 1735\u001b[0m \u001b[38;5;28mself\u001b[39m\u001b[38;5;241m.\u001b[39mhandles \u001b[38;5;241m=\u001b[39m \u001b[43mget_handle\u001b[49m\u001b[43m(\u001b[49m\n\u001b[0;32m   1736\u001b[0m \u001b[43m    \u001b[49m\u001b[43mf\u001b[49m\u001b[43m,\u001b[49m\n\u001b[0;32m   1737\u001b[0m \u001b[43m    \u001b[49m\u001b[43mmode\u001b[49m\u001b[43m,\u001b[49m\n\u001b[0;32m   1738\u001b[0m \u001b[43m    \u001b[49m\u001b[43mencoding\u001b[49m\u001b[38;5;241;43m=\u001b[39;49m\u001b[38;5;28;43mself\u001b[39;49m\u001b[38;5;241;43m.\u001b[39;49m\u001b[43moptions\u001b[49m\u001b[38;5;241;43m.\u001b[39;49m\u001b[43mget\u001b[49m\u001b[43m(\u001b[49m\u001b[38;5;124;43m\"\u001b[39;49m\u001b[38;5;124;43mencoding\u001b[39;49m\u001b[38;5;124;43m\"\u001b[39;49m\u001b[43m,\u001b[49m\u001b[43m \u001b[49m\u001b[38;5;28;43;01mNone\u001b[39;49;00m\u001b[43m)\u001b[49m\u001b[43m,\u001b[49m\n\u001b[0;32m   1739\u001b[0m \u001b[43m    \u001b[49m\u001b[43mcompression\u001b[49m\u001b[38;5;241;43m=\u001b[39;49m\u001b[38;5;28;43mself\u001b[39;49m\u001b[38;5;241;43m.\u001b[39;49m\u001b[43moptions\u001b[49m\u001b[38;5;241;43m.\u001b[39;49m\u001b[43mget\u001b[49m\u001b[43m(\u001b[49m\u001b[38;5;124;43m\"\u001b[39;49m\u001b[38;5;124;43mcompression\u001b[39;49m\u001b[38;5;124;43m\"\u001b[39;49m\u001b[43m,\u001b[49m\u001b[43m \u001b[49m\u001b[38;5;28;43;01mNone\u001b[39;49;00m\u001b[43m)\u001b[49m\u001b[43m,\u001b[49m\n\u001b[0;32m   1740\u001b[0m \u001b[43m    \u001b[49m\u001b[43mmemory_map\u001b[49m\u001b[38;5;241;43m=\u001b[39;49m\u001b[38;5;28;43mself\u001b[39;49m\u001b[38;5;241;43m.\u001b[39;49m\u001b[43moptions\u001b[49m\u001b[38;5;241;43m.\u001b[39;49m\u001b[43mget\u001b[49m\u001b[43m(\u001b[49m\u001b[38;5;124;43m\"\u001b[39;49m\u001b[38;5;124;43mmemory_map\u001b[39;49m\u001b[38;5;124;43m\"\u001b[39;49m\u001b[43m,\u001b[49m\u001b[43m \u001b[49m\u001b[38;5;28;43;01mFalse\u001b[39;49;00m\u001b[43m)\u001b[49m\u001b[43m,\u001b[49m\n\u001b[0;32m   1741\u001b[0m \u001b[43m    \u001b[49m\u001b[43mis_text\u001b[49m\u001b[38;5;241;43m=\u001b[39;49m\u001b[43mis_text\u001b[49m\u001b[43m,\u001b[49m\n\u001b[0;32m   1742\u001b[0m \u001b[43m    \u001b[49m\u001b[43merrors\u001b[49m\u001b[38;5;241;43m=\u001b[39;49m\u001b[38;5;28;43mself\u001b[39;49m\u001b[38;5;241;43m.\u001b[39;49m\u001b[43moptions\u001b[49m\u001b[38;5;241;43m.\u001b[39;49m\u001b[43mget\u001b[49m\u001b[43m(\u001b[49m\u001b[38;5;124;43m\"\u001b[39;49m\u001b[38;5;124;43mencoding_errors\u001b[39;49m\u001b[38;5;124;43m\"\u001b[39;49m\u001b[43m,\u001b[49m\u001b[43m \u001b[49m\u001b[38;5;124;43m\"\u001b[39;49m\u001b[38;5;124;43mstrict\u001b[39;49m\u001b[38;5;124;43m\"\u001b[39;49m\u001b[43m)\u001b[49m\u001b[43m,\u001b[49m\n\u001b[0;32m   1743\u001b[0m \u001b[43m    \u001b[49m\u001b[43mstorage_options\u001b[49m\u001b[38;5;241;43m=\u001b[39;49m\u001b[38;5;28;43mself\u001b[39;49m\u001b[38;5;241;43m.\u001b[39;49m\u001b[43moptions\u001b[49m\u001b[38;5;241;43m.\u001b[39;49m\u001b[43mget\u001b[49m\u001b[43m(\u001b[49m\u001b[38;5;124;43m\"\u001b[39;49m\u001b[38;5;124;43mstorage_options\u001b[39;49m\u001b[38;5;124;43m\"\u001b[39;49m\u001b[43m,\u001b[49m\u001b[43m \u001b[49m\u001b[38;5;28;43;01mNone\u001b[39;49;00m\u001b[43m)\u001b[49m\u001b[43m,\u001b[49m\n\u001b[0;32m   1744\u001b[0m \u001b[43m\u001b[49m\u001b[43m)\u001b[49m\n\u001b[0;32m   1745\u001b[0m \u001b[38;5;28;01massert\u001b[39;00m \u001b[38;5;28mself\u001b[39m\u001b[38;5;241m.\u001b[39mhandles \u001b[38;5;129;01mis\u001b[39;00m \u001b[38;5;129;01mnot\u001b[39;00m \u001b[38;5;28;01mNone\u001b[39;00m\n\u001b[0;32m   1746\u001b[0m f \u001b[38;5;241m=\u001b[39m \u001b[38;5;28mself\u001b[39m\u001b[38;5;241m.\u001b[39mhandles\u001b[38;5;241m.\u001b[39mhandle\n",
      "File \u001b[1;32m~\\anaconda3\\envs\\.lucinsa38_dl\\lib\\site-packages\\pandas\\io\\common.py:704\u001b[0m, in \u001b[0;36mget_handle\u001b[1;34m(path_or_buf, mode, encoding, compression, memory_map, is_text, errors, storage_options)\u001b[0m\n\u001b[0;32m    701\u001b[0m errors \u001b[38;5;241m=\u001b[39m errors \u001b[38;5;129;01mor\u001b[39;00m \u001b[38;5;124m\"\u001b[39m\u001b[38;5;124mstrict\u001b[39m\u001b[38;5;124m\"\u001b[39m\n\u001b[0;32m    703\u001b[0m \u001b[38;5;66;03m# read_csv does not know whether the buffer is opened in binary/text mode\u001b[39;00m\n\u001b[1;32m--> 704\u001b[0m \u001b[38;5;28;01mif\u001b[39;00m \u001b[43m_is_binary_mode\u001b[49m\u001b[43m(\u001b[49m\u001b[43mpath_or_buf\u001b[49m\u001b[43m,\u001b[49m\u001b[43m \u001b[49m\u001b[43mmode\u001b[49m\u001b[43m)\u001b[49m \u001b[38;5;129;01mand\u001b[39;00m \u001b[38;5;124m\"\u001b[39m\u001b[38;5;124mb\u001b[39m\u001b[38;5;124m\"\u001b[39m \u001b[38;5;129;01mnot\u001b[39;00m \u001b[38;5;129;01min\u001b[39;00m mode:\n\u001b[0;32m    705\u001b[0m     mode \u001b[38;5;241m+\u001b[39m\u001b[38;5;241m=\u001b[39m \u001b[38;5;124m\"\u001b[39m\u001b[38;5;124mb\u001b[39m\u001b[38;5;124m\"\u001b[39m\n\u001b[0;32m    707\u001b[0m \u001b[38;5;66;03m# validate encoding and errors\u001b[39;00m\n",
      "File \u001b[1;32m~\\anaconda3\\envs\\.lucinsa38_dl\\lib\\site-packages\\pandas\\io\\common.py:1163\u001b[0m, in \u001b[0;36m_is_binary_mode\u001b[1;34m(handle, mode)\u001b[0m\n\u001b[0;32m   1160\u001b[0m \u001b[38;5;28;01mif\u001b[39;00m \u001b[38;5;28missubclass\u001b[39m(\u001b[38;5;28mtype\u001b[39m(handle), text_classes):\n\u001b[0;32m   1161\u001b[0m     \u001b[38;5;28;01mreturn\u001b[39;00m \u001b[38;5;28;01mFalse\u001b[39;00m\n\u001b[1;32m-> 1163\u001b[0m \u001b[38;5;28;01mreturn\u001b[39;00m \u001b[38;5;28misinstance\u001b[39m(handle, _get_binary_io_classes()) \u001b[38;5;129;01mor\u001b[39;00m \u001b[38;5;124;43m\"\u001b[39;49m\u001b[38;5;124;43mb\u001b[39;49m\u001b[38;5;124;43m\"\u001b[39;49m\u001b[43m \u001b[49m\u001b[38;5;129;43;01min\u001b[39;49;00m\u001b[43m \u001b[49m\u001b[38;5;28;43mgetattr\u001b[39;49m\u001b[43m(\u001b[49m\n\u001b[0;32m   1164\u001b[0m \u001b[43m    \u001b[49m\u001b[43mhandle\u001b[49m\u001b[43m,\u001b[49m\u001b[43m \u001b[49m\u001b[38;5;124;43m\"\u001b[39;49m\u001b[38;5;124;43mmode\u001b[39;49m\u001b[38;5;124;43m\"\u001b[39;49m\u001b[43m,\u001b[49m\u001b[43m \u001b[49m\u001b[43mmode\u001b[49m\n\u001b[0;32m   1165\u001b[0m \u001b[43m\u001b[49m\u001b[43m)\u001b[49m\n",
      "\u001b[1;31mTypeError\u001b[0m: argument of type 'method' is not iterable"
     ]
    }
   ],
   "source": [
    "pix_data = pd.read_csv('D:/NasaProject/Paraguay/sampling/samplePts_FINALdfs/RFdf.csv')\n",
    "pix_data.drop(['LC17','LC2'], axis=1, inplace=True)\n",
    "pixdf = pix_data.merge(LUT, left_on='Class', right_on='USE_NAME', how='left')\n",
    "print('sample breakdown by LC17 class:')\n",
    "print(pixdf['LC17_name'].value_counts())\n",
    "\n",
    "print('default rf model with all sample pixels and pixel only data')\n",
    "in_dir = 'D:/NasaProject/Paraguay/ClassificationModels/RF'\n",
    "out_dir = 'D:/NasaProject/Paraguay/ClassificationModels/RF'\n",
    "rfout17 = MulticlassRF(pixdf,out_dir,'crop_nocrop','Permutation',29)"
   ]
  },
  {
   "cell_type": "code",
   "execution_count": 5,
   "id": "efbbd40e",
   "metadata": {},
   "outputs": [
    {
     "name": "stdout",
     "output_type": "stream",
     "text": [
      "New sample breakdown by LC17 class:\n",
      "Crops-mix            454\n",
      "Crops-Soybeans       373\n",
      "TreePlant            315\n",
      "Grassland-Natural    309\n",
      "Trees-Forest         203\n",
      "NoVeg_Built          202\n",
      "Shrub                193\n",
      "NoVeg_Water          186\n",
      "Crops-Corn           179\n",
      "NoVeg_Bare           171\n",
      "Crops-Rice           171\n",
      "unknown              168\n",
      "Crops-Yerba-Mate     160\n",
      "Trees-disturbed      154\n",
      "Grassland-Planted    113\n",
      "Crops-Sugar          105\n",
      "Crops-Orchard         91\n",
      "Grass_tree-mix        73\n",
      "Name: LC17_name, dtype: int64\n"
     ]
    },
    {
     "ename": "TypeError",
     "evalue": "argument of type 'method' is not iterable",
     "output_type": "error",
     "traceback": [
      "\u001b[1;31m---------------------------------------------------------------------------\u001b[0m",
      "\u001b[1;31mTypeError\u001b[0m                                 Traceback (most recent call last)",
      "Cell \u001b[1;32mIn [5], line 6\u001b[0m\n\u001b[0;32m      4\u001b[0m \u001b[38;5;28mprint\u001b[39m(pixdf_lessSoy[\u001b[38;5;124m'\u001b[39m\u001b[38;5;124mLC17_name\u001b[39m\u001b[38;5;124m'\u001b[39m]\u001b[38;5;241m.\u001b[39mvalue_counts())\n\u001b[0;32m      5\u001b[0m out_dir \u001b[38;5;241m=\u001b[39m \u001b[38;5;124m'\u001b[39m\u001b[38;5;124mD:/NasaProject/Paraguay/ClassificationModels/RF/LessSoy\u001b[39m\u001b[38;5;124m'\u001b[39m\n\u001b[1;32m----> 6\u001b[0m rfout17 \u001b[38;5;241m=\u001b[39m \u001b[43mMulticlassRF\u001b[49m\u001b[43m(\u001b[49m\u001b[43mpixdf_lessSoy\u001b[49m\u001b[43m,\u001b[49m\u001b[43mout_dir\u001b[49m\u001b[43m,\u001b[49m\u001b[38;5;124;43m'\u001b[39;49m\u001b[38;5;124;43mAll\u001b[39;49m\u001b[38;5;124;43m'\u001b[39;49m\u001b[43m,\u001b[49m\u001b[38;5;124;43m'\u001b[39;49m\u001b[38;5;124;43mPermutation\u001b[39;49m\u001b[38;5;124;43m'\u001b[39;49m\u001b[43m,\u001b[49m\u001b[38;5;241;43m29\u001b[39;49m\u001b[43m)\u001b[49m\n",
      "File \u001b[1;32m~\\Desktop\\NasaProject\\RemoteComputing\\LUCinSA_helpers\\notebooks\\../LUCinSA_helpers\\RF1_CreateModel.py:159\u001b[0m, in \u001b[0;36mMulticlassRF\u001b[1;34m(trainfeatures, out_dir, classification, importance_method, ran_hold)\u001b[0m\n\u001b[0;32m    157\u001b[0m \u001b[38;5;28;01mdef\u001b[39;00m \u001b[38;5;21mMulticlassRF\u001b[39m(trainfeatures, out_dir, classification, importance_method, ran_hold):\n\u001b[1;32m--> 159\u001b[0m     df_train \u001b[38;5;241m=\u001b[39m \u001b[43mpd\u001b[49m\u001b[38;5;241;43m.\u001b[39;49m\u001b[43mread_csv\u001b[49m\u001b[43m(\u001b[49m\u001b[43mtrainfeatures\u001b[49m\u001b[43m)\u001b[49m\n\u001b[0;32m    160\u001b[0m     \u001b[38;5;28mprint\u001b[39m(\u001b[38;5;124m'\u001b[39m\u001b[38;5;124mThere are \u001b[39m\u001b[38;5;132;01m{}\u001b[39;00m\u001b[38;5;124m training features\u001b[39m\u001b[38;5;124m'\u001b[39m\u001b[38;5;241m.\u001b[39mformat(df_train\u001b[38;5;241m.\u001b[39mshape[\u001b[38;5;241m0\u001b[39m]))\n\u001b[0;32m    161\u001b[0m     y \u001b[38;5;241m=\u001b[39m df_train[\u001b[38;5;124m'\u001b[39m\u001b[38;5;124mLC17\u001b[39m\u001b[38;5;124m'\u001b[39m]\n",
      "File \u001b[1;32m~\\anaconda3\\envs\\.lucinsa38_dl\\lib\\site-packages\\pandas\\util\\_decorators.py:211\u001b[0m, in \u001b[0;36mdeprecate_kwarg.<locals>._deprecate_kwarg.<locals>.wrapper\u001b[1;34m(*args, **kwargs)\u001b[0m\n\u001b[0;32m    209\u001b[0m     \u001b[38;5;28;01melse\u001b[39;00m:\n\u001b[0;32m    210\u001b[0m         kwargs[new_arg_name] \u001b[38;5;241m=\u001b[39m new_arg_value\n\u001b[1;32m--> 211\u001b[0m \u001b[38;5;28;01mreturn\u001b[39;00m \u001b[43mfunc\u001b[49m\u001b[43m(\u001b[49m\u001b[38;5;241;43m*\u001b[39;49m\u001b[43margs\u001b[49m\u001b[43m,\u001b[49m\u001b[43m \u001b[49m\u001b[38;5;241;43m*\u001b[39;49m\u001b[38;5;241;43m*\u001b[39;49m\u001b[43mkwargs\u001b[49m\u001b[43m)\u001b[49m\n",
      "File \u001b[1;32m~\\anaconda3\\envs\\.lucinsa38_dl\\lib\\site-packages\\pandas\\util\\_decorators.py:331\u001b[0m, in \u001b[0;36mdeprecate_nonkeyword_arguments.<locals>.decorate.<locals>.wrapper\u001b[1;34m(*args, **kwargs)\u001b[0m\n\u001b[0;32m    325\u001b[0m \u001b[38;5;28;01mif\u001b[39;00m \u001b[38;5;28mlen\u001b[39m(args) \u001b[38;5;241m>\u001b[39m num_allow_args:\n\u001b[0;32m    326\u001b[0m     warnings\u001b[38;5;241m.\u001b[39mwarn(\n\u001b[0;32m    327\u001b[0m         msg\u001b[38;5;241m.\u001b[39mformat(arguments\u001b[38;5;241m=\u001b[39m_format_argument_list(allow_args)),\n\u001b[0;32m    328\u001b[0m         \u001b[38;5;167;01mFutureWarning\u001b[39;00m,\n\u001b[0;32m    329\u001b[0m         stacklevel\u001b[38;5;241m=\u001b[39mfind_stack_level(),\n\u001b[0;32m    330\u001b[0m     )\n\u001b[1;32m--> 331\u001b[0m \u001b[38;5;28;01mreturn\u001b[39;00m \u001b[43mfunc\u001b[49m\u001b[43m(\u001b[49m\u001b[38;5;241;43m*\u001b[39;49m\u001b[43margs\u001b[49m\u001b[43m,\u001b[49m\u001b[43m \u001b[49m\u001b[38;5;241;43m*\u001b[39;49m\u001b[38;5;241;43m*\u001b[39;49m\u001b[43mkwargs\u001b[49m\u001b[43m)\u001b[49m\n",
      "File \u001b[1;32m~\\anaconda3\\envs\\.lucinsa38_dl\\lib\\site-packages\\pandas\\io\\parsers\\readers.py:950\u001b[0m, in \u001b[0;36mread_csv\u001b[1;34m(filepath_or_buffer, sep, delimiter, header, names, index_col, usecols, squeeze, prefix, mangle_dupe_cols, dtype, engine, converters, true_values, false_values, skipinitialspace, skiprows, skipfooter, nrows, na_values, keep_default_na, na_filter, verbose, skip_blank_lines, parse_dates, infer_datetime_format, keep_date_col, date_parser, dayfirst, cache_dates, iterator, chunksize, compression, thousands, decimal, lineterminator, quotechar, quoting, doublequote, escapechar, comment, encoding, encoding_errors, dialect, error_bad_lines, warn_bad_lines, on_bad_lines, delim_whitespace, low_memory, memory_map, float_precision, storage_options)\u001b[0m\n\u001b[0;32m    935\u001b[0m kwds_defaults \u001b[38;5;241m=\u001b[39m _refine_defaults_read(\n\u001b[0;32m    936\u001b[0m     dialect,\n\u001b[0;32m    937\u001b[0m     delimiter,\n\u001b[1;32m   (...)\u001b[0m\n\u001b[0;32m    946\u001b[0m     defaults\u001b[38;5;241m=\u001b[39m{\u001b[38;5;124m\"\u001b[39m\u001b[38;5;124mdelimiter\u001b[39m\u001b[38;5;124m\"\u001b[39m: \u001b[38;5;124m\"\u001b[39m\u001b[38;5;124m,\u001b[39m\u001b[38;5;124m\"\u001b[39m},\n\u001b[0;32m    947\u001b[0m )\n\u001b[0;32m    948\u001b[0m kwds\u001b[38;5;241m.\u001b[39mupdate(kwds_defaults)\n\u001b[1;32m--> 950\u001b[0m \u001b[38;5;28;01mreturn\u001b[39;00m \u001b[43m_read\u001b[49m\u001b[43m(\u001b[49m\u001b[43mfilepath_or_buffer\u001b[49m\u001b[43m,\u001b[49m\u001b[43m \u001b[49m\u001b[43mkwds\u001b[49m\u001b[43m)\u001b[49m\n",
      "File \u001b[1;32m~\\anaconda3\\envs\\.lucinsa38_dl\\lib\\site-packages\\pandas\\io\\parsers\\readers.py:605\u001b[0m, in \u001b[0;36m_read\u001b[1;34m(filepath_or_buffer, kwds)\u001b[0m\n\u001b[0;32m    602\u001b[0m _validate_names(kwds\u001b[38;5;241m.\u001b[39mget(\u001b[38;5;124m\"\u001b[39m\u001b[38;5;124mnames\u001b[39m\u001b[38;5;124m\"\u001b[39m, \u001b[38;5;28;01mNone\u001b[39;00m))\n\u001b[0;32m    604\u001b[0m \u001b[38;5;66;03m# Create the parser.\u001b[39;00m\n\u001b[1;32m--> 605\u001b[0m parser \u001b[38;5;241m=\u001b[39m \u001b[43mTextFileReader\u001b[49m\u001b[43m(\u001b[49m\u001b[43mfilepath_or_buffer\u001b[49m\u001b[43m,\u001b[49m\u001b[43m \u001b[49m\u001b[38;5;241;43m*\u001b[39;49m\u001b[38;5;241;43m*\u001b[39;49m\u001b[43mkwds\u001b[49m\u001b[43m)\u001b[49m\n\u001b[0;32m    607\u001b[0m \u001b[38;5;28;01mif\u001b[39;00m chunksize \u001b[38;5;129;01mor\u001b[39;00m iterator:\n\u001b[0;32m    608\u001b[0m     \u001b[38;5;28;01mreturn\u001b[39;00m parser\n",
      "File \u001b[1;32m~\\anaconda3\\envs\\.lucinsa38_dl\\lib\\site-packages\\pandas\\io\\parsers\\readers.py:1442\u001b[0m, in \u001b[0;36mTextFileReader.__init__\u001b[1;34m(self, f, engine, **kwds)\u001b[0m\n\u001b[0;32m   1439\u001b[0m     \u001b[38;5;28mself\u001b[39m\u001b[38;5;241m.\u001b[39moptions[\u001b[38;5;124m\"\u001b[39m\u001b[38;5;124mhas_index_names\u001b[39m\u001b[38;5;124m\"\u001b[39m] \u001b[38;5;241m=\u001b[39m kwds[\u001b[38;5;124m\"\u001b[39m\u001b[38;5;124mhas_index_names\u001b[39m\u001b[38;5;124m\"\u001b[39m]\n\u001b[0;32m   1441\u001b[0m \u001b[38;5;28mself\u001b[39m\u001b[38;5;241m.\u001b[39mhandles: IOHandles \u001b[38;5;241m|\u001b[39m \u001b[38;5;28;01mNone\u001b[39;00m \u001b[38;5;241m=\u001b[39m \u001b[38;5;28;01mNone\u001b[39;00m\n\u001b[1;32m-> 1442\u001b[0m \u001b[38;5;28mself\u001b[39m\u001b[38;5;241m.\u001b[39m_engine \u001b[38;5;241m=\u001b[39m \u001b[38;5;28;43mself\u001b[39;49m\u001b[38;5;241;43m.\u001b[39;49m\u001b[43m_make_engine\u001b[49m\u001b[43m(\u001b[49m\u001b[43mf\u001b[49m\u001b[43m,\u001b[49m\u001b[43m \u001b[49m\u001b[38;5;28;43mself\u001b[39;49m\u001b[38;5;241;43m.\u001b[39;49m\u001b[43mengine\u001b[49m\u001b[43m)\u001b[49m\n",
      "File \u001b[1;32m~\\anaconda3\\envs\\.lucinsa38_dl\\lib\\site-packages\\pandas\\io\\parsers\\readers.py:1735\u001b[0m, in \u001b[0;36mTextFileReader._make_engine\u001b[1;34m(self, f, engine)\u001b[0m\n\u001b[0;32m   1733\u001b[0m     \u001b[38;5;28;01mif\u001b[39;00m \u001b[38;5;124m\"\u001b[39m\u001b[38;5;124mb\u001b[39m\u001b[38;5;124m\"\u001b[39m \u001b[38;5;129;01mnot\u001b[39;00m \u001b[38;5;129;01min\u001b[39;00m mode:\n\u001b[0;32m   1734\u001b[0m         mode \u001b[38;5;241m+\u001b[39m\u001b[38;5;241m=\u001b[39m \u001b[38;5;124m\"\u001b[39m\u001b[38;5;124mb\u001b[39m\u001b[38;5;124m\"\u001b[39m\n\u001b[1;32m-> 1735\u001b[0m \u001b[38;5;28mself\u001b[39m\u001b[38;5;241m.\u001b[39mhandles \u001b[38;5;241m=\u001b[39m \u001b[43mget_handle\u001b[49m\u001b[43m(\u001b[49m\n\u001b[0;32m   1736\u001b[0m \u001b[43m    \u001b[49m\u001b[43mf\u001b[49m\u001b[43m,\u001b[49m\n\u001b[0;32m   1737\u001b[0m \u001b[43m    \u001b[49m\u001b[43mmode\u001b[49m\u001b[43m,\u001b[49m\n\u001b[0;32m   1738\u001b[0m \u001b[43m    \u001b[49m\u001b[43mencoding\u001b[49m\u001b[38;5;241;43m=\u001b[39;49m\u001b[38;5;28;43mself\u001b[39;49m\u001b[38;5;241;43m.\u001b[39;49m\u001b[43moptions\u001b[49m\u001b[38;5;241;43m.\u001b[39;49m\u001b[43mget\u001b[49m\u001b[43m(\u001b[49m\u001b[38;5;124;43m\"\u001b[39;49m\u001b[38;5;124;43mencoding\u001b[39;49m\u001b[38;5;124;43m\"\u001b[39;49m\u001b[43m,\u001b[49m\u001b[43m \u001b[49m\u001b[38;5;28;43;01mNone\u001b[39;49;00m\u001b[43m)\u001b[49m\u001b[43m,\u001b[49m\n\u001b[0;32m   1739\u001b[0m \u001b[43m    \u001b[49m\u001b[43mcompression\u001b[49m\u001b[38;5;241;43m=\u001b[39;49m\u001b[38;5;28;43mself\u001b[39;49m\u001b[38;5;241;43m.\u001b[39;49m\u001b[43moptions\u001b[49m\u001b[38;5;241;43m.\u001b[39;49m\u001b[43mget\u001b[49m\u001b[43m(\u001b[49m\u001b[38;5;124;43m\"\u001b[39;49m\u001b[38;5;124;43mcompression\u001b[39;49m\u001b[38;5;124;43m\"\u001b[39;49m\u001b[43m,\u001b[49m\u001b[43m \u001b[49m\u001b[38;5;28;43;01mNone\u001b[39;49;00m\u001b[43m)\u001b[49m\u001b[43m,\u001b[49m\n\u001b[0;32m   1740\u001b[0m \u001b[43m    \u001b[49m\u001b[43mmemory_map\u001b[49m\u001b[38;5;241;43m=\u001b[39;49m\u001b[38;5;28;43mself\u001b[39;49m\u001b[38;5;241;43m.\u001b[39;49m\u001b[43moptions\u001b[49m\u001b[38;5;241;43m.\u001b[39;49m\u001b[43mget\u001b[49m\u001b[43m(\u001b[49m\u001b[38;5;124;43m\"\u001b[39;49m\u001b[38;5;124;43mmemory_map\u001b[39;49m\u001b[38;5;124;43m\"\u001b[39;49m\u001b[43m,\u001b[49m\u001b[43m \u001b[49m\u001b[38;5;28;43;01mFalse\u001b[39;49;00m\u001b[43m)\u001b[49m\u001b[43m,\u001b[49m\n\u001b[0;32m   1741\u001b[0m \u001b[43m    \u001b[49m\u001b[43mis_text\u001b[49m\u001b[38;5;241;43m=\u001b[39;49m\u001b[43mis_text\u001b[49m\u001b[43m,\u001b[49m\n\u001b[0;32m   1742\u001b[0m \u001b[43m    \u001b[49m\u001b[43merrors\u001b[49m\u001b[38;5;241;43m=\u001b[39;49m\u001b[38;5;28;43mself\u001b[39;49m\u001b[38;5;241;43m.\u001b[39;49m\u001b[43moptions\u001b[49m\u001b[38;5;241;43m.\u001b[39;49m\u001b[43mget\u001b[49m\u001b[43m(\u001b[49m\u001b[38;5;124;43m\"\u001b[39;49m\u001b[38;5;124;43mencoding_errors\u001b[39;49m\u001b[38;5;124;43m\"\u001b[39;49m\u001b[43m,\u001b[49m\u001b[43m \u001b[49m\u001b[38;5;124;43m\"\u001b[39;49m\u001b[38;5;124;43mstrict\u001b[39;49m\u001b[38;5;124;43m\"\u001b[39;49m\u001b[43m)\u001b[49m\u001b[43m,\u001b[49m\n\u001b[0;32m   1743\u001b[0m \u001b[43m    \u001b[49m\u001b[43mstorage_options\u001b[49m\u001b[38;5;241;43m=\u001b[39;49m\u001b[38;5;28;43mself\u001b[39;49m\u001b[38;5;241;43m.\u001b[39;49m\u001b[43moptions\u001b[49m\u001b[38;5;241;43m.\u001b[39;49m\u001b[43mget\u001b[49m\u001b[43m(\u001b[49m\u001b[38;5;124;43m\"\u001b[39;49m\u001b[38;5;124;43mstorage_options\u001b[39;49m\u001b[38;5;124;43m\"\u001b[39;49m\u001b[43m,\u001b[49m\u001b[43m \u001b[49m\u001b[38;5;28;43;01mNone\u001b[39;49;00m\u001b[43m)\u001b[49m\u001b[43m,\u001b[49m\n\u001b[0;32m   1744\u001b[0m \u001b[43m\u001b[49m\u001b[43m)\u001b[49m\n\u001b[0;32m   1745\u001b[0m \u001b[38;5;28;01massert\u001b[39;00m \u001b[38;5;28mself\u001b[39m\u001b[38;5;241m.\u001b[39mhandles \u001b[38;5;129;01mis\u001b[39;00m \u001b[38;5;129;01mnot\u001b[39;00m \u001b[38;5;28;01mNone\u001b[39;00m\n\u001b[0;32m   1746\u001b[0m f \u001b[38;5;241m=\u001b[39m \u001b[38;5;28mself\u001b[39m\u001b[38;5;241m.\u001b[39mhandles\u001b[38;5;241m.\u001b[39mhandle\n",
      "File \u001b[1;32m~\\anaconda3\\envs\\.lucinsa38_dl\\lib\\site-packages\\pandas\\io\\common.py:704\u001b[0m, in \u001b[0;36mget_handle\u001b[1;34m(path_or_buf, mode, encoding, compression, memory_map, is_text, errors, storage_options)\u001b[0m\n\u001b[0;32m    701\u001b[0m errors \u001b[38;5;241m=\u001b[39m errors \u001b[38;5;129;01mor\u001b[39;00m \u001b[38;5;124m\"\u001b[39m\u001b[38;5;124mstrict\u001b[39m\u001b[38;5;124m\"\u001b[39m\n\u001b[0;32m    703\u001b[0m \u001b[38;5;66;03m# read_csv does not know whether the buffer is opened in binary/text mode\u001b[39;00m\n\u001b[1;32m--> 704\u001b[0m \u001b[38;5;28;01mif\u001b[39;00m \u001b[43m_is_binary_mode\u001b[49m\u001b[43m(\u001b[49m\u001b[43mpath_or_buf\u001b[49m\u001b[43m,\u001b[49m\u001b[43m \u001b[49m\u001b[43mmode\u001b[49m\u001b[43m)\u001b[49m \u001b[38;5;129;01mand\u001b[39;00m \u001b[38;5;124m\"\u001b[39m\u001b[38;5;124mb\u001b[39m\u001b[38;5;124m\"\u001b[39m \u001b[38;5;129;01mnot\u001b[39;00m \u001b[38;5;129;01min\u001b[39;00m mode:\n\u001b[0;32m    705\u001b[0m     mode \u001b[38;5;241m+\u001b[39m\u001b[38;5;241m=\u001b[39m \u001b[38;5;124m\"\u001b[39m\u001b[38;5;124mb\u001b[39m\u001b[38;5;124m\"\u001b[39m\n\u001b[0;32m    707\u001b[0m \u001b[38;5;66;03m# validate encoding and errors\u001b[39;00m\n",
      "File \u001b[1;32m~\\anaconda3\\envs\\.lucinsa38_dl\\lib\\site-packages\\pandas\\io\\common.py:1163\u001b[0m, in \u001b[0;36m_is_binary_mode\u001b[1;34m(handle, mode)\u001b[0m\n\u001b[0;32m   1160\u001b[0m \u001b[38;5;28;01mif\u001b[39;00m \u001b[38;5;28missubclass\u001b[39m(\u001b[38;5;28mtype\u001b[39m(handle), text_classes):\n\u001b[0;32m   1161\u001b[0m     \u001b[38;5;28;01mreturn\u001b[39;00m \u001b[38;5;28;01mFalse\u001b[39;00m\n\u001b[1;32m-> 1163\u001b[0m \u001b[38;5;28;01mreturn\u001b[39;00m \u001b[38;5;28misinstance\u001b[39m(handle, _get_binary_io_classes()) \u001b[38;5;129;01mor\u001b[39;00m \u001b[38;5;124;43m\"\u001b[39;49m\u001b[38;5;124;43mb\u001b[39;49m\u001b[38;5;124;43m\"\u001b[39;49m\u001b[43m \u001b[49m\u001b[38;5;129;43;01min\u001b[39;49;00m\u001b[43m \u001b[49m\u001b[38;5;28;43mgetattr\u001b[39;49m\u001b[43m(\u001b[49m\n\u001b[0;32m   1164\u001b[0m \u001b[43m    \u001b[49m\u001b[43mhandle\u001b[49m\u001b[43m,\u001b[49m\u001b[43m \u001b[49m\u001b[38;5;124;43m\"\u001b[39;49m\u001b[38;5;124;43mmode\u001b[39;49m\u001b[38;5;124;43m\"\u001b[39;49m\u001b[43m,\u001b[49m\u001b[43m \u001b[49m\u001b[43mmode\u001b[49m\n\u001b[0;32m   1165\u001b[0m \u001b[43m\u001b[49m\u001b[43m)\u001b[49m\n",
      "\u001b[1;31mTypeError\u001b[0m: argument of type 'method' is not iterable"
     ]
    }
   ],
   "source": [
    "##Remove 3/4 of the soy points because they are far overrepresented\n",
    "pixdf_lessSoy = pixdf[(pixdf['rand']>.9) | (pixdf['SampMethod'] != 'CAN - unverified in GE')]\n",
    "print('New sample breakdown by LC17 class:')\n",
    "print(pixdf_lessSoy['LC17_name'].value_counts())\n",
    "out_dir = 'D:/NasaProject/Paraguay/ClassificationModels/RF/LessSoy'\n",
    "rfout17 = MulticlassRF(pixdf_lessSoy,out_dir,'All','Permutation',29)"
   ]
  },
  {
   "cell_type": "markdown",
   "id": "5247eb48",
   "metadata": {},
   "source": [
    "#### combine pixel and polygon dfs and create rf datasets for points with polygons and those without:"
   ]
  },
  {
   "cell_type": "code",
   "execution_count": 12,
   "id": "1250ae5d",
   "metadata": {},
   "outputs": [],
   "source": [
    "poly_data = pd.read_csv('D:/NasaProject/Paraguay/ClassificationModels/RF/pts_polyData.csv')\n",
    "#rename column names that also occur in pixel df\n",
    "poly_data.rename(columns={'area':'areaSeg'}, inplace=True)\n",
    "all_data = pixdf.merge(poly_data, left_on='OID_', right_on='OID_', how='left')\n",
    "pd.DataFrame.to_csv(all_data, 'D:/NasaProject/Paraguay/ClassificationModels/RF/pts_polyData_joinCheck.csv', sep=',', na_rep='NaN', index=True)"
   ]
  },
  {
   "cell_type": "markdown",
   "id": "aad21203",
   "metadata": {},
   "source": [
    "##### first create dataset for points outside of polygons (here we have no variables to add to the original model)"
   ]
  },
  {
   "cell_type": "code",
   "execution_count": 13,
   "id": "5f7e4509",
   "metadata": {},
   "outputs": [
    {
     "name": "stdout",
     "output_type": "stream",
     "text": [
      "of the 4621 sample points in our dataset, 2843 are outside of our segmented polygons\n",
      "Crops-mix            352\n",
      "TreePlant            284\n",
      "Grassland-Natural    266\n",
      "Trees-Forest         202\n",
      "NoVeg_Built          191\n",
      "Shrub                187\n",
      "NoVeg_Water          181\n",
      "Crops-Soybeans       171\n",
      "Trees-disturbed      153\n",
      "NoVeg_Bare           146\n",
      "Crops-Yerba-Mate     127\n",
      "unknown              114\n",
      "Grassland-Planted     89\n",
      "Crops-Orchard         84\n",
      "Crops-Rice            76\n",
      "Grass_tree-mix        69\n",
      "Crops-Sugar           67\n",
      "Crops-Corn            65\n",
      "Name: LC17_name, dtype: int64\n",
      "there are 2843 pts in the full data set\n",
      "there are 2587 pts in the training set\n",
      "there are 2470 sample points after removing those without clear class\n",
      "Out-of-bag score estimate: 0.59\n",
      "Mean accuracy score: 0.612\n",
      "Confusion Matrix: predicted  1.0  3.0  7.0  12.0  13.0  31.0  33.0  35.0  37.0  38.0  ...  60.0  \\\n",
      "observed                                                            ...         \n",
      "1.0         17    4    1     2     0     1     0     8     0     0  ...     0   \n",
      "3.0          3   35    1     1     0     0     0     2     0     0  ...     0   \n",
      "7.0          0    0   36     1     0     0     0     1     0     0  ...     0   \n",
      "12.0         0    0    0    37     1     1     0     8     0     1  ...     0   \n",
      "13.0         0    0    1    10     9     1     0     5     0     0  ...     0   \n",
      "31.0         2    0    0     3     0    30     0     3     0     0  ...     0   \n",
      "33.0         0    0    0     0     1     2     0     9     0     1  ...     0   \n",
      "35.0         2    1    0     6     0     1     2    60     0     3  ...     0   \n",
      "37.0         0    0    2     4     0     2     0     0     7     0  ...     0   \n",
      "38.0         0    0    0     1     0     2     0     9     0     3  ...     0   \n",
      "51.0         0    0    0     5     0     0     0     6     0     0  ...     0   \n",
      "52.0         0    0    1     1     2     0     0     2     0     0  ...     2   \n",
      "53.0         0    0    0     2     0     0     0     5     0     0  ...     3   \n",
      "55.0         0    0    0     3     0     0     0    16     0     0  ...     0   \n",
      "60.0         0    0    0     2     0     0     0     1     0     2  ...    54   \n",
      "65.0         1    0    1     0     1     1     0     2     0     0  ...     0   \n",
      "80.0         0    0    0     0     0     0     0     0     0     0  ...     3   \n",
      "All         25   40   43    78    14    41     2   137     7    10  ...    62   \n",
      "\n",
      "predicted  65.0  80.0  All  correct  sumcol        UA        PA  Crop  NoCrop  \n",
      "observed                                                                       \n",
      "1.0           0     0   33       17      25  0.515152  0.680000     9      24  \n",
      "3.0           0     0   42       35      40  0.833333  0.875000     2      40  \n",
      "7.0           1     0   41       36      43  0.878049  0.837209     1      40  \n",
      "12.0          1     0   51       37      78  0.725490  0.474359    11      40  \n",
      "13.0          2     0   32        9      14  0.281250  0.642857     6      26  \n",
      "31.0          0     0   38       30      41  0.789474  0.731707    33       5  \n",
      "33.0          0     0   15        0       2  0.000000  0.000000    14       1  \n",
      "35.0          1     0   81       60     137  0.740741  0.437956    69      12  \n",
      "37.0          1     0   17        7       7  0.411765  1.000000    10       7  \n",
      "38.0          0     0   15        3      10  0.200000  0.300000    14       1  \n",
      "51.0          2     0   16        1       5  0.062500  0.200000     6      10  \n",
      "52.0          1     6   42       26      48  0.619048  0.541667     3      39  \n",
      "53.0          2     0   19        3       7  0.157895  0.428571    10       9  \n",
      "55.0          1     0   29        8      18  0.275862  0.444444    25       4  \n",
      "60.0          2     2   65       54      62  0.830769  0.870968     4      61  \n",
      "65.0         17     4   36       17      34  0.472222  0.500000     3      33  \n",
      "80.0          3    35   46       35      47  0.760870  0.744681     2      44  \n",
      "All          34    47  618      618     618  1.000000  1.000000   222     396  \n",
      "\n",
      "[18 rows x 24 columns]\n"
     ]
    }
   ],
   "source": [
    "outsideSeg = all_data[all_data['areaSeg'].isna()]\n",
    "print(f'of the {all_data.shape[0]} sample points in our dataset, {outsideSeg.shape[0]} are outside of our segmented polygons')\n",
    "print(outsideSeg['LC17_name'].value_counts())\n",
    "out_dir = 'D:/NasaProject/Paraguay/ClassificationModels/RF/outside'\n",
    "rfout17 = MulticlassRF(outsideSeg,out_dir,'All','Permutation',29)"
   ]
  },
  {
   "cell_type": "markdown",
   "id": "0a8ef9f7",
   "metadata": {},
   "source": [
    "And model with more balanced soy representation (LessSoy):"
   ]
  },
  {
   "cell_type": "code",
   "execution_count": 15,
   "id": "ac77984a",
   "metadata": {},
   "outputs": [
    {
     "name": "stdout",
     "output_type": "stream",
     "text": [
      "Crops-mix            352\n",
      "TreePlant            284\n",
      "Grassland-Natural    266\n",
      "Trees-Forest         202\n",
      "NoVeg_Built          191\n",
      "Shrub                187\n",
      "NoVeg_Water          181\n",
      "Trees-disturbed      153\n",
      "NoVeg_Bare           146\n",
      "Crops-Yerba-Mate     127\n",
      "unknown              114\n",
      "Grassland-Planted     89\n",
      "Crops-Orchard         84\n",
      "Crops-Rice            76\n",
      "Grass_tree-mix        69\n",
      "Crops-Sugar           67\n",
      "Crops-Corn            65\n",
      "Crops-Soybeans        51\n",
      "Name: LC17_name, dtype: int64\n",
      "there are 2723 pts in the full data set\n",
      "there are 2481 pts in the training set\n",
      "there are 2364 sample points after removing those without clear class\n",
      "Out-of-bag score estimate: 0.585\n",
      "Mean accuracy score: 0.592\n",
      "Confusion Matrix: predicted  1.0  3.0  7.0  12.0  13.0  31.0  33.0  35.0  37.0  38.0  ...  60.0  \\\n",
      "observed                                                            ...         \n",
      "1.0         17    7    1     2     0     0     0     6     0     0  ...     0   \n",
      "3.0          2   38    1     1     0     0     0     0     0     0  ...     0   \n",
      "7.0          0    0   36     1     0     0     0     2     1     0  ...     0   \n",
      "12.0         0    0    0    35     3     0     0     9     1     0  ...     0   \n",
      "13.0         0    0    1     9    11     1     0     2     0     1  ...     0   \n",
      "31.0         3    0    0     1     1     4     0     2     1     0  ...     0   \n",
      "33.0         0    0    0     2     0     1     0    10     0     0  ...     1   \n",
      "35.0         2    2    0     5     1     0     2    57     0     1  ...     0   \n",
      "37.0         1    0    0     5     2     3     0     0     6     0  ...     0   \n",
      "38.0         0    0    0     0     0     1     0     7     0     4  ...     2   \n",
      "51.0         0    0    0     4     1     0     0     5     0     0  ...     0   \n",
      "52.0         0    0    1     6     0     0     0     2     0     0  ...     3   \n",
      "53.0         0    0    0     3     0     0     0     7     0     0  ...     2   \n",
      "55.0         0    0    0     3     0     0     0    16     0     0  ...     1   \n",
      "60.0         0    0    0     1     0     0     0     3     0     1  ...    47   \n",
      "65.0         0    0    1     0     0     0     0     5     0     0  ...     2   \n",
      "80.0         0    0    0     0     0     0     0     0     0     0  ...     0   \n",
      "All         25   47   41    78    19    10     2   133     9     7  ...    58   \n",
      "\n",
      "predicted  65.0  80.0  All  correct  sumcol        UA        PA  Crop  NoCrop  \n",
      "observed                                                                       \n",
      "1.0           0     0   33       17      25  0.515152  0.680000     6      27  \n",
      "3.0           0     0   42       38      47  0.904762  0.808511     0      42  \n",
      "7.0           0     0   41       36      41  0.878049  0.878049     3      38  \n",
      "12.0          1     0   51       35      78  0.686275  0.448718    11      40  \n",
      "13.0          2     0   32       11      19  0.343750  0.578947     5      27  \n",
      "31.0          0     0   12        4      10  0.333333  0.400000     7       5  \n",
      "33.0          0     0   15        0       2  0.000000  0.000000    12       3  \n",
      "35.0          5     0   81       57     133  0.703704  0.428571    64      17  \n",
      "37.0          0     0   17        6       9  0.352941  0.666667     9       8  \n",
      "38.0          0     0   15        4       7  0.266667  0.571429    12       3  \n",
      "51.0          0     0   15        1       4  0.066667  0.250000     5      10  \n",
      "52.0          5     4   42       21      45  0.500000  0.466667     2      40  \n",
      "53.0          1     1   19        2       4  0.105263  0.500000    10       9  \n",
      "55.0          1     0   29        8      17  0.275862  0.470588    24       5  \n",
      "60.0          4     3   65       47      58  0.723077  0.810345     6      59  \n",
      "65.0         23     2   36       23      42  0.638889  0.547619     5      31  \n",
      "80.0          0    40   46       40      50  0.869565  0.800000     1      45  \n",
      "All          42    50  591      591     591  1.000000  1.000000   182     409  \n",
      "\n",
      "[18 rows x 24 columns]\n"
     ]
    }
   ],
   "source": [
    "all_data_lessSoy = pixdf_lessSoy.merge(poly_data, left_on='OID_', right_on='OID_', how='left')\n",
    "outsideSeg_lessSoy = all_data_lessSoy[all_data_lessSoy['areaSeg'].isna()]\n",
    "print(outsideSeg_lessSoy['LC17_name'].value_counts())\n",
    "out_dir = 'D:/NasaProject/Paraguay/ClassificationModels/RF/outside/LessSoy'\n",
    "rfout17_lessSoy = MulticlassRF(outsideSeg_lessSoy,out_dir,'All','Permutation',29)"
   ]
  },
  {
   "cell_type": "markdown",
   "id": "0af312b5",
   "metadata": {},
   "source": [
    "##### now create dataset for points inside of polygons (here we want to add some variables first)"
   ]
  },
  {
   "cell_type": "code",
   "execution_count": 17,
   "id": "135283bd",
   "metadata": {},
   "outputs": [
    {
     "name": "stdout",
     "output_type": "stream",
     "text": [
      "Crops-Soybeans       1179\n",
      "Crops-Corn            114\n",
      "Crops-mix             103\n",
      "Crops-Rice             95\n",
      "unknown                54\n",
      "Grassland-Natural      43\n",
      "Crops-Sugar            38\n",
      "Crops-Yerba-Mate       33\n",
      "TreePlant              31\n",
      "NoVeg_Bare             25\n",
      "Grassland-Planted      24\n",
      "NoVeg_Built            11\n",
      "Crops-Orchard           7\n",
      "Shrub                   6\n",
      "NoVeg_Water             5\n",
      "Grass_tree-mix          4\n",
      "Trees-disturbed         1\n",
      "Trees-Forest            1\n",
      "Name: LC17_name, dtype: int64\n",
      "there are 1778 pts in the full data set\n",
      "there are 1617 pts in the training set\n",
      "there are 1568 sample points after removing those without clear class\n"
     ]
    },
    {
     "ename": "ValueError",
     "evalue": "The least populated class in y has only 1 member, which is too few. The minimum number of groups for any class cannot be less than 2.",
     "output_type": "error",
     "traceback": [
      "\u001b[1;31m---------------------------------------------------------------------------\u001b[0m",
      "\u001b[1;31mValueError\u001b[0m                                Traceback (most recent call last)",
      "Cell \u001b[1;32mIn [17], line 9\u001b[0m\n\u001b[0;32m      7\u001b[0m \u001b[38;5;28mprint\u001b[39m(withinSeg[\u001b[38;5;124m'\u001b[39m\u001b[38;5;124mLC17_name\u001b[39m\u001b[38;5;124m'\u001b[39m]\u001b[38;5;241m.\u001b[39mvalue_counts())\n\u001b[0;32m      8\u001b[0m out_dir \u001b[38;5;241m=\u001b[39m \u001b[38;5;124m'\u001b[39m\u001b[38;5;124mD:/NasaProject/Paraguay/ClassificationModels/RF/within\u001b[39m\u001b[38;5;124m'\u001b[39m\n\u001b[1;32m----> 9\u001b[0m rfin17 \u001b[38;5;241m=\u001b[39m \u001b[43mMulticlassRF\u001b[49m\u001b[43m(\u001b[49m\u001b[43mwithinSeg\u001b[49m\u001b[43m,\u001b[49m\u001b[43mout_dir\u001b[49m\u001b[43m,\u001b[49m\u001b[38;5;124;43m'\u001b[39;49m\u001b[38;5;124;43mAll\u001b[39;49m\u001b[38;5;124;43m'\u001b[39;49m\u001b[43m,\u001b[49m\u001b[38;5;124;43m'\u001b[39;49m\u001b[38;5;124;43mPermutation\u001b[39;49m\u001b[38;5;124;43m'\u001b[39;49m\u001b[43m,\u001b[49m\u001b[38;5;241;43m29\u001b[39;49m\u001b[43m)\u001b[49m\n",
      "File \u001b[1;32m~\\Desktop\\NasaProject\\RemoteComputing\\LUCinSA_helpers\\notebooks\\../LUCinSA_helpers\\RF1_CreateModel.py:122\u001b[0m, in \u001b[0;36mMulticlassRF\u001b[1;34m(df_in, out_dir, classification, importance_method, ran_hold)\u001b[0m\n\u001b[0;32m    120\u001b[0m X \u001b[38;5;241m=\u001b[39m X\u001b[38;5;241m.\u001b[39mvalues\n\u001b[0;32m    121\u001b[0m y \u001b[38;5;241m=\u001b[39m y\u001b[38;5;241m.\u001b[39mvalues\n\u001b[1;32m--> 122\u001b[0m X_train, X_test, y_train, y_test \u001b[38;5;241m=\u001b[39m \u001b[43mtrain_test_split\u001b[49m\u001b[43m(\u001b[49m\u001b[43mX\u001b[49m\u001b[43m,\u001b[49m\u001b[43m \u001b[49m\u001b[43my\u001b[49m\u001b[43m,\u001b[49m\u001b[43m \u001b[49m\u001b[43mstratify\u001b[49m\u001b[38;5;241;43m=\u001b[39;49m\u001b[43my\u001b[49m\u001b[43m,\u001b[49m\u001b[43mrandom_state\u001b[49m\u001b[38;5;241;43m=\u001b[39;49m\u001b[43mran_hold\u001b[49m\u001b[43m)\u001b[49m\n\u001b[0;32m    124\u001b[0m rf \u001b[38;5;241m=\u001b[39m RandomForestClassifier(n_estimators\u001b[38;5;241m=\u001b[39m\u001b[38;5;241m500\u001b[39m, oob_score\u001b[38;5;241m=\u001b[39m\u001b[38;5;28;01mTrue\u001b[39;00m)\n\u001b[0;32m    125\u001b[0m rf \u001b[38;5;241m=\u001b[39m rf\u001b[38;5;241m.\u001b[39mfit(X_train,y_train)\n",
      "File \u001b[1;32m~\\anaconda3\\envs\\.lucinsa38_dl\\lib\\site-packages\\sklearn\\model_selection\\_split.py:2469\u001b[0m, in \u001b[0;36mtrain_test_split\u001b[1;34m(test_size, train_size, random_state, shuffle, stratify, *arrays)\u001b[0m\n\u001b[0;32m   2465\u001b[0m         CVClass \u001b[38;5;241m=\u001b[39m ShuffleSplit\n\u001b[0;32m   2467\u001b[0m     cv \u001b[38;5;241m=\u001b[39m CVClass(test_size\u001b[38;5;241m=\u001b[39mn_test, train_size\u001b[38;5;241m=\u001b[39mn_train, random_state\u001b[38;5;241m=\u001b[39mrandom_state)\n\u001b[1;32m-> 2469\u001b[0m     train, test \u001b[38;5;241m=\u001b[39m \u001b[38;5;28;43mnext\u001b[39;49m\u001b[43m(\u001b[49m\u001b[43mcv\u001b[49m\u001b[38;5;241;43m.\u001b[39;49m\u001b[43msplit\u001b[49m\u001b[43m(\u001b[49m\u001b[43mX\u001b[49m\u001b[38;5;241;43m=\u001b[39;49m\u001b[43marrays\u001b[49m\u001b[43m[\u001b[49m\u001b[38;5;241;43m0\u001b[39;49m\u001b[43m]\u001b[49m\u001b[43m,\u001b[49m\u001b[43m \u001b[49m\u001b[43my\u001b[49m\u001b[38;5;241;43m=\u001b[39;49m\u001b[43mstratify\u001b[49m\u001b[43m)\u001b[49m\u001b[43m)\u001b[49m\n\u001b[0;32m   2471\u001b[0m \u001b[38;5;28;01mreturn\u001b[39;00m \u001b[38;5;28mlist\u001b[39m(\n\u001b[0;32m   2472\u001b[0m     chain\u001b[38;5;241m.\u001b[39mfrom_iterable(\n\u001b[0;32m   2473\u001b[0m         (_safe_indexing(a, train), _safe_indexing(a, test)) \u001b[38;5;28;01mfor\u001b[39;00m a \u001b[38;5;129;01min\u001b[39;00m arrays\n\u001b[0;32m   2474\u001b[0m     )\n\u001b[0;32m   2475\u001b[0m )\n",
      "File \u001b[1;32m~\\anaconda3\\envs\\.lucinsa38_dl\\lib\\site-packages\\sklearn\\model_selection\\_split.py:1622\u001b[0m, in \u001b[0;36mBaseShuffleSplit.split\u001b[1;34m(self, X, y, groups)\u001b[0m\n\u001b[0;32m   1592\u001b[0m \u001b[38;5;124;03m\"\"\"Generate indices to split data into training and test set.\u001b[39;00m\n\u001b[0;32m   1593\u001b[0m \n\u001b[0;32m   1594\u001b[0m \u001b[38;5;124;03mParameters\u001b[39;00m\n\u001b[1;32m   (...)\u001b[0m\n\u001b[0;32m   1619\u001b[0m \u001b[38;5;124;03mto an integer.\u001b[39;00m\n\u001b[0;32m   1620\u001b[0m \u001b[38;5;124;03m\"\"\"\u001b[39;00m\n\u001b[0;32m   1621\u001b[0m X, y, groups \u001b[38;5;241m=\u001b[39m indexable(X, y, groups)\n\u001b[1;32m-> 1622\u001b[0m \u001b[38;5;28;01mfor\u001b[39;00m train, test \u001b[38;5;129;01min\u001b[39;00m \u001b[38;5;28mself\u001b[39m\u001b[38;5;241m.\u001b[39m_iter_indices(X, y, groups):\n\u001b[0;32m   1623\u001b[0m     \u001b[38;5;28;01myield\u001b[39;00m train, test\n",
      "File \u001b[1;32m~\\anaconda3\\envs\\.lucinsa38_dl\\lib\\site-packages\\sklearn\\model_selection\\_split.py:1968\u001b[0m, in \u001b[0;36mStratifiedShuffleSplit._iter_indices\u001b[1;34m(self, X, y, groups)\u001b[0m\n\u001b[0;32m   1966\u001b[0m class_counts \u001b[38;5;241m=\u001b[39m np\u001b[38;5;241m.\u001b[39mbincount(y_indices)\n\u001b[0;32m   1967\u001b[0m \u001b[38;5;28;01mif\u001b[39;00m np\u001b[38;5;241m.\u001b[39mmin(class_counts) \u001b[38;5;241m<\u001b[39m \u001b[38;5;241m2\u001b[39m:\n\u001b[1;32m-> 1968\u001b[0m     \u001b[38;5;28;01mraise\u001b[39;00m \u001b[38;5;167;01mValueError\u001b[39;00m(\n\u001b[0;32m   1969\u001b[0m         \u001b[38;5;124m\"\u001b[39m\u001b[38;5;124mThe least populated class in y has only 1\u001b[39m\u001b[38;5;124m\"\u001b[39m\n\u001b[0;32m   1970\u001b[0m         \u001b[38;5;124m\"\u001b[39m\u001b[38;5;124m member, which is too few. The minimum\u001b[39m\u001b[38;5;124m\"\u001b[39m\n\u001b[0;32m   1971\u001b[0m         \u001b[38;5;124m\"\u001b[39m\u001b[38;5;124m number of groups for any class cannot\u001b[39m\u001b[38;5;124m\"\u001b[39m\n\u001b[0;32m   1972\u001b[0m         \u001b[38;5;124m\"\u001b[39m\u001b[38;5;124m be less than 2.\u001b[39m\u001b[38;5;124m\"\u001b[39m\n\u001b[0;32m   1973\u001b[0m     )\n\u001b[0;32m   1975\u001b[0m \u001b[38;5;28;01mif\u001b[39;00m n_train \u001b[38;5;241m<\u001b[39m n_classes:\n\u001b[0;32m   1976\u001b[0m     \u001b[38;5;28;01mraise\u001b[39;00m \u001b[38;5;167;01mValueError\u001b[39;00m(\n\u001b[0;32m   1977\u001b[0m         \u001b[38;5;124m\"\u001b[39m\u001b[38;5;124mThe train_size = \u001b[39m\u001b[38;5;132;01m%d\u001b[39;00m\u001b[38;5;124m should be greater or \u001b[39m\u001b[38;5;124m\"\u001b[39m\n\u001b[0;32m   1978\u001b[0m         \u001b[38;5;124m\"\u001b[39m\u001b[38;5;124mequal to the number of classes = \u001b[39m\u001b[38;5;132;01m%d\u001b[39;00m\u001b[38;5;124m\"\u001b[39m \u001b[38;5;241m%\u001b[39m (n_train, n_classes)\n\u001b[0;32m   1979\u001b[0m     )\n",
      "\u001b[1;31mValueError\u001b[0m: The least populated class in y has only 1 member, which is too few. The minimum number of groups for any class cannot be less than 2."
     ]
    }
   ],
   "source": [
    "#poly_data['AvgU'] = poly_data.apply(lambda x:count([x[c] for c in df.columns if c.endswith('U')]),axis=1)\n",
    "#TODO: calculate these in pandas as above\n",
    "poly_data.rename(columns={'areaSeg':'var_areaSeg','AVGU':'var_AVGU','AVGR':'var_AVGR','AVGSTD':'var_AVGSTD','MAXR':'var_MAXR','MINR':'var_MINR','STDU':'var_STDU','MINU':'var_MINU','MAXU':'var_MAXU','rU':'var_RU'}, inplace=True)\n",
    "polyvars = pixdf.merge(poly_data, left_on='OID_', right_on='OID_', how='left')\n",
    "withinSeg = polyvars[polyvars['var_areaSeg'] > 0]\n",
    "\n",
    "print(withinSeg['LC17_name'].value_counts())\n",
    "out_dir = 'D:/NasaProject/Paraguay/ClassificationModels/RF/within'\n",
    "rfin17 = MulticlassRF(withinSeg,out_dir,'All','Permutation',29)"
   ]
  },
  {
   "cell_type": "code",
   "execution_count": 18,
   "id": "621cd9d6",
   "metadata": {},
   "outputs": [
    {
     "name": "stdout",
     "output_type": "stream",
     "text": [
      "Crops-Soybeans       322\n",
      "Crops-Corn           114\n",
      "Crops-mix            103\n",
      "Crops-Rice            95\n",
      "unknown               54\n",
      "Grassland-Natural     43\n",
      "Crops-Sugar           38\n",
      "Crops-Yerba-Mate      33\n",
      "TreePlant             31\n",
      "NoVeg_Bare            25\n",
      "Grassland-Planted     24\n",
      "NoVeg_Built           11\n",
      "Crops-Orchard          7\n",
      "Shrub                  6\n",
      "NoVeg_Water            5\n",
      "Grass_tree-mix         4\n",
      "Trees-disturbed        1\n",
      "Trees-Forest           1\n",
      "Name: LC17_name, dtype: int64\n",
      "there are 921 pts in the full data set\n",
      "there are 836 pts in the training set\n",
      "there are 787 sample points after removing those without clear class\n"
     ]
    },
    {
     "ename": "ValueError",
     "evalue": "The least populated class in y has only 1 member, which is too few. The minimum number of groups for any class cannot be less than 2.",
     "output_type": "error",
     "traceback": [
      "\u001b[1;31m---------------------------------------------------------------------------\u001b[0m",
      "\u001b[1;31mValueError\u001b[0m                                Traceback (most recent call last)",
      "Cell \u001b[1;32mIn [18], line 5\u001b[0m\n\u001b[0;32m      3\u001b[0m \u001b[38;5;28mprint\u001b[39m(withinSeg_lessSoy[\u001b[38;5;124m'\u001b[39m\u001b[38;5;124mLC17_name\u001b[39m\u001b[38;5;124m'\u001b[39m]\u001b[38;5;241m.\u001b[39mvalue_counts())\n\u001b[0;32m      4\u001b[0m out_dir \u001b[38;5;241m=\u001b[39m \u001b[38;5;124m'\u001b[39m\u001b[38;5;124mD:/NasaProject/Paraguay/ClassificationModels/RF/within/LessSoy\u001b[39m\u001b[38;5;124m'\u001b[39m\n\u001b[1;32m----> 5\u001b[0m rfin17_lessSoy \u001b[38;5;241m=\u001b[39m \u001b[43mMulticlassRF\u001b[49m\u001b[43m(\u001b[49m\u001b[43mwithinSeg_lessSoy\u001b[49m\u001b[43m,\u001b[49m\u001b[43mout_dir\u001b[49m\u001b[43m,\u001b[49m\u001b[38;5;124;43m'\u001b[39;49m\u001b[38;5;124;43mAll\u001b[39;49m\u001b[38;5;124;43m'\u001b[39;49m\u001b[43m,\u001b[49m\u001b[38;5;124;43m'\u001b[39;49m\u001b[38;5;124;43mPermutation\u001b[39;49m\u001b[38;5;124;43m'\u001b[39;49m\u001b[43m,\u001b[49m\u001b[38;5;241;43m29\u001b[39;49m\u001b[43m)\u001b[49m\n",
      "File \u001b[1;32m~\\Desktop\\NasaProject\\RemoteComputing\\LUCinSA_helpers\\notebooks\\../LUCinSA_helpers\\RF1_CreateModel.py:122\u001b[0m, in \u001b[0;36mMulticlassRF\u001b[1;34m(df_in, out_dir, classification, importance_method, ran_hold)\u001b[0m\n\u001b[0;32m    120\u001b[0m X \u001b[38;5;241m=\u001b[39m X\u001b[38;5;241m.\u001b[39mvalues\n\u001b[0;32m    121\u001b[0m y \u001b[38;5;241m=\u001b[39m y\u001b[38;5;241m.\u001b[39mvalues\n\u001b[1;32m--> 122\u001b[0m X_train, X_test, y_train, y_test \u001b[38;5;241m=\u001b[39m \u001b[43mtrain_test_split\u001b[49m\u001b[43m(\u001b[49m\u001b[43mX\u001b[49m\u001b[43m,\u001b[49m\u001b[43m \u001b[49m\u001b[43my\u001b[49m\u001b[43m,\u001b[49m\u001b[43m \u001b[49m\u001b[43mstratify\u001b[49m\u001b[38;5;241;43m=\u001b[39;49m\u001b[43my\u001b[49m\u001b[43m,\u001b[49m\u001b[43mrandom_state\u001b[49m\u001b[38;5;241;43m=\u001b[39;49m\u001b[43mran_hold\u001b[49m\u001b[43m)\u001b[49m\n\u001b[0;32m    124\u001b[0m rf \u001b[38;5;241m=\u001b[39m RandomForestClassifier(n_estimators\u001b[38;5;241m=\u001b[39m\u001b[38;5;241m500\u001b[39m, oob_score\u001b[38;5;241m=\u001b[39m\u001b[38;5;28;01mTrue\u001b[39;00m)\n\u001b[0;32m    125\u001b[0m rf \u001b[38;5;241m=\u001b[39m rf\u001b[38;5;241m.\u001b[39mfit(X_train,y_train)\n",
      "File \u001b[1;32m~\\anaconda3\\envs\\.lucinsa38_dl\\lib\\site-packages\\sklearn\\model_selection\\_split.py:2469\u001b[0m, in \u001b[0;36mtrain_test_split\u001b[1;34m(test_size, train_size, random_state, shuffle, stratify, *arrays)\u001b[0m\n\u001b[0;32m   2465\u001b[0m         CVClass \u001b[38;5;241m=\u001b[39m ShuffleSplit\n\u001b[0;32m   2467\u001b[0m     cv \u001b[38;5;241m=\u001b[39m CVClass(test_size\u001b[38;5;241m=\u001b[39mn_test, train_size\u001b[38;5;241m=\u001b[39mn_train, random_state\u001b[38;5;241m=\u001b[39mrandom_state)\n\u001b[1;32m-> 2469\u001b[0m     train, test \u001b[38;5;241m=\u001b[39m \u001b[38;5;28;43mnext\u001b[39;49m\u001b[43m(\u001b[49m\u001b[43mcv\u001b[49m\u001b[38;5;241;43m.\u001b[39;49m\u001b[43msplit\u001b[49m\u001b[43m(\u001b[49m\u001b[43mX\u001b[49m\u001b[38;5;241;43m=\u001b[39;49m\u001b[43marrays\u001b[49m\u001b[43m[\u001b[49m\u001b[38;5;241;43m0\u001b[39;49m\u001b[43m]\u001b[49m\u001b[43m,\u001b[49m\u001b[43m \u001b[49m\u001b[43my\u001b[49m\u001b[38;5;241;43m=\u001b[39;49m\u001b[43mstratify\u001b[49m\u001b[43m)\u001b[49m\u001b[43m)\u001b[49m\n\u001b[0;32m   2471\u001b[0m \u001b[38;5;28;01mreturn\u001b[39;00m \u001b[38;5;28mlist\u001b[39m(\n\u001b[0;32m   2472\u001b[0m     chain\u001b[38;5;241m.\u001b[39mfrom_iterable(\n\u001b[0;32m   2473\u001b[0m         (_safe_indexing(a, train), _safe_indexing(a, test)) \u001b[38;5;28;01mfor\u001b[39;00m a \u001b[38;5;129;01min\u001b[39;00m arrays\n\u001b[0;32m   2474\u001b[0m     )\n\u001b[0;32m   2475\u001b[0m )\n",
      "File \u001b[1;32m~\\anaconda3\\envs\\.lucinsa38_dl\\lib\\site-packages\\sklearn\\model_selection\\_split.py:1622\u001b[0m, in \u001b[0;36mBaseShuffleSplit.split\u001b[1;34m(self, X, y, groups)\u001b[0m\n\u001b[0;32m   1592\u001b[0m \u001b[38;5;124;03m\"\"\"Generate indices to split data into training and test set.\u001b[39;00m\n\u001b[0;32m   1593\u001b[0m \n\u001b[0;32m   1594\u001b[0m \u001b[38;5;124;03mParameters\u001b[39;00m\n\u001b[1;32m   (...)\u001b[0m\n\u001b[0;32m   1619\u001b[0m \u001b[38;5;124;03mto an integer.\u001b[39;00m\n\u001b[0;32m   1620\u001b[0m \u001b[38;5;124;03m\"\"\"\u001b[39;00m\n\u001b[0;32m   1621\u001b[0m X, y, groups \u001b[38;5;241m=\u001b[39m indexable(X, y, groups)\n\u001b[1;32m-> 1622\u001b[0m \u001b[38;5;28;01mfor\u001b[39;00m train, test \u001b[38;5;129;01min\u001b[39;00m \u001b[38;5;28mself\u001b[39m\u001b[38;5;241m.\u001b[39m_iter_indices(X, y, groups):\n\u001b[0;32m   1623\u001b[0m     \u001b[38;5;28;01myield\u001b[39;00m train, test\n",
      "File \u001b[1;32m~\\anaconda3\\envs\\.lucinsa38_dl\\lib\\site-packages\\sklearn\\model_selection\\_split.py:1968\u001b[0m, in \u001b[0;36mStratifiedShuffleSplit._iter_indices\u001b[1;34m(self, X, y, groups)\u001b[0m\n\u001b[0;32m   1966\u001b[0m class_counts \u001b[38;5;241m=\u001b[39m np\u001b[38;5;241m.\u001b[39mbincount(y_indices)\n\u001b[0;32m   1967\u001b[0m \u001b[38;5;28;01mif\u001b[39;00m np\u001b[38;5;241m.\u001b[39mmin(class_counts) \u001b[38;5;241m<\u001b[39m \u001b[38;5;241m2\u001b[39m:\n\u001b[1;32m-> 1968\u001b[0m     \u001b[38;5;28;01mraise\u001b[39;00m \u001b[38;5;167;01mValueError\u001b[39;00m(\n\u001b[0;32m   1969\u001b[0m         \u001b[38;5;124m\"\u001b[39m\u001b[38;5;124mThe least populated class in y has only 1\u001b[39m\u001b[38;5;124m\"\u001b[39m\n\u001b[0;32m   1970\u001b[0m         \u001b[38;5;124m\"\u001b[39m\u001b[38;5;124m member, which is too few. The minimum\u001b[39m\u001b[38;5;124m\"\u001b[39m\n\u001b[0;32m   1971\u001b[0m         \u001b[38;5;124m\"\u001b[39m\u001b[38;5;124m number of groups for any class cannot\u001b[39m\u001b[38;5;124m\"\u001b[39m\n\u001b[0;32m   1972\u001b[0m         \u001b[38;5;124m\"\u001b[39m\u001b[38;5;124m be less than 2.\u001b[39m\u001b[38;5;124m\"\u001b[39m\n\u001b[0;32m   1973\u001b[0m     )\n\u001b[0;32m   1975\u001b[0m \u001b[38;5;28;01mif\u001b[39;00m n_train \u001b[38;5;241m<\u001b[39m n_classes:\n\u001b[0;32m   1976\u001b[0m     \u001b[38;5;28;01mraise\u001b[39;00m \u001b[38;5;167;01mValueError\u001b[39;00m(\n\u001b[0;32m   1977\u001b[0m         \u001b[38;5;124m\"\u001b[39m\u001b[38;5;124mThe train_size = \u001b[39m\u001b[38;5;132;01m%d\u001b[39;00m\u001b[38;5;124m should be greater or \u001b[39m\u001b[38;5;124m\"\u001b[39m\n\u001b[0;32m   1978\u001b[0m         \u001b[38;5;124m\"\u001b[39m\u001b[38;5;124mequal to the number of classes = \u001b[39m\u001b[38;5;132;01m%d\u001b[39;00m\u001b[38;5;124m\"\u001b[39m \u001b[38;5;241m%\u001b[39m (n_train, n_classes)\n\u001b[0;32m   1979\u001b[0m     )\n",
      "\u001b[1;31mValueError\u001b[0m: The least populated class in y has only 1 member, which is too few. The minimum number of groups for any class cannot be less than 2."
     ]
    }
   ],
   "source": [
    "all_data_lessSoy = pixdf_lessSoy.merge(poly_data, left_on='OID_', right_on='OID_', how='left')\n",
    "withinSeg_lessSoy = all_data_lessSoy[all_data_lessSoy['var_areaSeg']>0]\n",
    "print(withinSeg_lessSoy['LC17_name'].value_counts())\n",
    "out_dir = 'D:/NasaProject/Paraguay/ClassificationModels/RF/within/LessSoy'\n",
    "rfin17_lessSoy = MulticlassRF(withinSeg_lessSoy,out_dir,'All','Permutation',29)"
   ]
  },
  {
   "cell_type": "code",
   "execution_count": 42,
   "id": "53626402",
   "metadata": {},
   "outputs": [
    {
     "name": "stderr",
     "output_type": "stream",
     "text": [
      "C:\\Users\\klobw\\AppData\\Local\\Temp\\ipykernel_27672\\111257106.py:2: DtypeWarning: Columns (121,124) have mixed types. Specify dtype option on import or set low_memory=False.\n",
      "  pix_data = pd.read_csv('D:/NasaProject/Paraguay/sampling/samplePts_FINALdfs/RFdf_augmented.csv')\n"
     ]
    },
    {
     "name": "stdout",
     "output_type": "stream",
     "text": [
      "there are 133428 pts in the full data set\n",
      "there are now 53856 pts in the training set after dropping CAN soy\n",
      "there are 50673 sample points after removing those without clear class\n"
     ]
    },
    {
     "data": {
      "text/plain": [
       "('D:/NasaProject/Paraguay/ClassificationModels/RF\\\\All_TRAINING.csv',\n",
       " 'D:/NasaProject/Paraguay/ClassificationModels/RF\\\\All_HOLDOUT.csv')"
      ]
     },
     "execution_count": 42,
     "metadata": {},
     "output_type": "execute_result"
    }
   ],
   "source": [
    "#pix_data = pd.read_csv('D:/NasaProject/Paraguay/sampling/samplePts_FINALdfs/RFdf.csv')\n",
    "pix_data = pd.read_csv('D:/NasaProject/Paraguay/sampling/samplePts_FINALdfs/RFdf_augmented.csv')\n",
    "#pix_data = pix_data[pix_data['numPix'] < 50]\n",
    "#poly_data = pd.read_csv('D:/NasaProject/Paraguay/ClassificationModels/RF/pts_polyData.csv')\n",
    "#rename column names that also occur in pixel df\n",
    "#poly_data.rename(columns={'area':'areaSeg'}, inplace=True)\n",
    "#poly_data.rename(columns={'Seg1Dist':'var_Seg1Dist','Seg2Edge':'var_Seg2Edge','Seg3Prob':'var_Seg2Prob'},inplace=True)\n",
    "#poly_data.rename(columns={'Seg1Dist':'var_Seg1Dist','Seg2Edge':'var_Seg2Edge','Seg3Prob':'var_Seg2Prob','areaSeg':'var_areaSeg','AVGU':'var_AVGU','AVGR':'var_AVGR','AVGSTD':'var_AVGSTD','MAXR':'var_MAXR','MINR':'var_MINR','STDU':'var_STDU','MINU':'var_MINU','MAXU':'var_MAXU','rU':'var_RU', 'DISTS':'var_DISTS'}, inplace=True)\n",
    "#all_data = pix_data.merge(poly_data, left_on='OID_', right_on='OID_', how='left')\n",
    "all_data = pix_data.merge(poly_data, left_on='OID_orig', right_on='OID_', how='left')\n",
    "#all_data.drop(['LC17','LC2'], axis=1, inplace=True)\n",
    "df_in = pix_data.merge(LUT, left_on='Class', right_on='USE_NAME', how='left')\n",
    "#df_in = all_data.merge(LUT, left_on='Class', right_on='USE_NAME', how='left')\n",
    "#withinSeg = df_in[df_in['var_areaSeg'] > 0]\n",
    "#HO_base0 = df_in[['OID_','areaSeg','Class','LC17','TESTSET20']]\n",
    "#HO_base = HO_base0[(HO_base0['TESTSET20'] ==1)]\n",
    "#print(HO_base)\n",
    "#pd.DataFrame.to_csv(HO_base,'D:/NasaProject/Paraguay/ClassificationModels/RF/HO_base.csv', sep=',', na_rep='NaN', index=False)\n",
    "out_dir = 'D:/NasaProject/Paraguay/ClassificationModels/RF'\n",
    "PrepTestTrain(df_in, out_dir, 'All')"
   ]
  },
  {
   "cell_type": "code",
   "execution_count": 37,
   "id": "61eca1f2",
   "metadata": {
    "scrolled": true
   },
   "outputs": [
    {
     "name": "stderr",
     "output_type": "stream",
     "text": [
      "C:\\Users\\klobw\\Desktop\\NasaProject\\RemoteComputing\\LUCinSA_helpers\\notebooks\\../LUCinSA_helpers\\RF1_CreateModel.py:161: DtypeWarning: Columns (121,124) have mixed types. Specify dtype option on import or set low_memory=False.\n",
      "  df_train = pd.read_csv(trainfeatures)\n"
     ]
    },
    {
     "name": "stdout",
     "output_type": "stream",
     "text": [
      "There are 11810 training features\n",
      "Out-of-bag score estimate: 0.832\n",
      "Mean accuracy score: 0.848\n",
      "Confusion Matrix: predicted  1.0  3.0  7.0  12.0  13.0  31.0  33.0  35.0  37.0  38.0  ...  53.0  \\\n",
      "observed                                                            ...         \n",
      "1.0          6    0    0     0     0     0     1     1     0     0  ...     0   \n",
      "3.0          2    3    0     0     0     0     0     0     0     0  ...     0   \n",
      "7.0          0    0    2     0     0     1     0     0     0     0  ...     0   \n",
      "12.0         0    0    0     6     2     0     0     0     0     0  ...     0   \n",
      "13.0         0    0    0     0    14     1     0     1     0     0  ...     0   \n",
      "31.0         0    0    0     0     0    62     1     2     1     0  ...     0   \n",
      "33.0         0    0    0     1     2     2    23     2     0     0  ...     0   \n",
      "35.0         0    0    0     1     0     2     0    23     0     1  ...     0   \n",
      "37.0         0    0    0     0     0     0     0     0    36     0  ...     0   \n",
      "38.0         0    0    0     0     0     0     0     0     0     3  ...     0   \n",
      "52.0         0    0    0     1     0     0     0     0     0     0  ...     0   \n",
      "53.0         0    0    0     0     0     0     0     0     0     0  ...     2   \n",
      "55.0         0    0    0     0     0     1     0     1     0     0  ...     0   \n",
      "60.0         0    0    0     0     1     0     0     0     0     0  ...     0   \n",
      "65.0         0    0    0     0     0     0     0     0     0     0  ...     0   \n",
      "80.0         0    0    0     0     0     0     0     0     0     0  ...     0   \n",
      "All          8    3    2     9    19    69    25    30    37     4  ...     2   \n",
      "\n",
      "predicted  55.0  60.0  65.0  80.0  All  correct  sumcol        UA        PA  \n",
      "observed                                                                     \n",
      "1.0           0     0     0     0    8        6       8  0.750000  0.750000  \n",
      "3.0           0     0     0     0    5        3       3  0.600000  1.000000  \n",
      "7.0           0     0     1     0    5        2       2  0.400000  1.000000  \n",
      "12.0          0     0     0     0    8        6       9  0.750000  0.666667  \n",
      "13.0          0     0     0     0   16       14      19  0.875000  0.736842  \n",
      "31.0          0     0     0     0   66       62      69  0.939394  0.898551  \n",
      "33.0          2     0     0     0   32       23      25  0.718750  0.920000  \n",
      "35.0          0     0     0     0   27       23      30  0.851852  0.766667  \n",
      "37.0          0     0     0     0   36       36      37  1.000000  0.972973  \n",
      "38.0          0     0     0     0    3        3       4  1.000000  0.750000  \n",
      "52.0          1     0     0     0    4        2       4  0.500000  0.500000  \n",
      "53.0          0     0     0     0    2        2       2  1.000000  1.000000  \n",
      "55.0          9     0     2     0   13        9      12  0.692308  0.750000  \n",
      "60.0          0     6     0     0    7        6       6  0.857143  1.000000  \n",
      "65.0          0     0     2     0    2        2       5  1.000000  0.400000  \n",
      "80.0          0     0     0     2    3        2       2  0.666667  1.000000  \n",
      "All          12     6     5     2  237      237     237  1.000000  1.000000  \n",
      "\n",
      "[17 rows x 21 columns]\n"
     ]
    }
   ],
   "source": [
    "out_dir = 'D:/NasaProject/Paraguay/ClassificationModels/RF'\n",
    "trainfeatures = 'D:/NasaProject/Paraguay/ClassificationModels/RF/All_TRAINING.csv'\n",
    "RF = MulticlassRF(trainfeatures, out_dir, 'LC17',None,29)"
   ]
  },
  {
   "cell_type": "code",
   "execution_count": 43,
   "id": "7fa1f63f",
   "metadata": {},
   "outputs": [
    {
     "name": "stdout",
     "output_type": "stream",
     "text": [
      "675\n"
     ]
    },
    {
     "name": "stderr",
     "output_type": "stream",
     "text": [
      "C:\\Users\\klobw\\anaconda3\\envs\\.lucinsa38_dl\\lib\\site-packages\\sklearn\\base.py:443: UserWarning: X has feature names, but RandomForestClassifier was fitted without feature names\n",
      "  warnings.warn(\n",
      "C:\\Users\\klobw\\Desktop\\NasaProject\\RemoteComputing\\LUCinSA_helpers\\notebooks\\../LUCinSA_helpers\\RF1_CreateModel.py:214: SettingWithCopyWarning: \n",
      "A value is trying to be set on a copy of a slice from a DataFrame.\n",
      "Try using .loc[row_indexer,col_indexer] = value instead\n",
      "\n",
      "See the caveats in the documentation: https://pandas.pydata.org/pandas-docs/stable/user_guide/indexing.html#returning-a-view-versus-a-copy\n",
      "  holdout_fields['pred']= holdout_fields_predicted\n",
      "C:\\Users\\klobw\\Desktop\\NasaProject\\RemoteComputing\\LUCinSA_helpers\\notebooks\\../LUCinSA_helpers\\RF1_CreateModel.py:215: SettingWithCopyWarning: \n",
      "A value is trying to be set on a copy of a slice from a DataFrame.\n",
      "Try using .loc[row_indexer,col_indexer] = value instead\n",
      "\n",
      "See the caveats in the documentation: https://pandas.pydata.org/pandas-docs/stable/user_guide/indexing.html#returning-a-view-versus-a-copy\n",
      "  holdout_fields['label']= holdout_labels\n",
      "C:\\Users\\klobw\\Desktop\\NasaProject\\RemoteComputing\\LUCinSA_helpers\\notebooks\\../LUCinSA_helpers\\RF1_CreateModel.py:216: SettingWithCopyWarning: \n",
      "A value is trying to be set on a copy of a slice from a DataFrame.\n",
      "Try using .loc[row_indexer,col_indexer] = value instead\n",
      "\n",
      "See the caveats in the documentation: https://pandas.pydata.org/pandas-docs/stable/user_guide/indexing.html#returning-a-view-versus-a-copy\n",
      "  holdout_fields['OID']=h_IDs\n"
     ]
    }
   ],
   "source": [
    "holdoutDF = 'D:/NasaProject/Paraguay/ClassificationModels/RF/RFSets/All_HOLDOUT.csv'\n",
    "HO = get_holdout_scores(holdoutDF, RF[0], out_dir)"
   ]
  },
  {
   "cell_type": "code",
   "execution_count": 44,
   "id": "b570ad41",
   "metadata": {},
   "outputs": [
    {
     "name": "stdout",
     "output_type": "stream",
     "text": [
      "     var_evi2_Max  var_evi2_Min  var_evi2_Amp  var_evi2_Avg  var_evi2_CV  \\\n",
      "0            2870          2195           675          2540          204   \n",
      "1            5441          3592          1849          4496          656   \n",
      "2            4734          3366          1368          3998          463   \n",
      "3            6928          1922          5006          4691         1870   \n",
      "4            3907          2470          1437          3183          530   \n",
      "..            ...           ...           ...           ...          ...   \n",
      "670          4570          3797           773          4194          271   \n",
      "671          5673          3494          2179          4440          612   \n",
      "672          4322          3914           408          4153          138   \n",
      "673          5512          4684           828          5154          309   \n",
      "674          5066          4496           570          4797          192   \n",
      "\n",
      "     var_evi2_Std  var_evi2_Jan  var_evi2_Feb  var_evi2_Mar  var_evi2_Apr  \\\n",
      "0              80          2798          2870          2821          2653   \n",
      "1             146          5365          5190          5127          5105   \n",
      "2             116          4313          4046          4164          4558   \n",
      "3             398          6772          6848          6532          6374   \n",
      "4             166          3569          3840          3907          3847   \n",
      "..            ...           ...           ...           ...           ...   \n",
      "670            64          4423          4540          4569          4505   \n",
      "671           138          5240          4827          3966          3738   \n",
      "672            33          4232          4299          4317          4321   \n",
      "673            60          5475          5512          5450          5307   \n",
      "674            40          4791          4964          5056          5050   \n",
      "\n",
      "     ...  var_ndmi_Jun  var_ndmi_Jul  var_ndmi_Aug  var_ndmi_Sep  \\\n",
      "0    ...             0             0             0             0   \n",
      "1    ...           346           360           391           432   \n",
      "2    ...           237           236           235           236   \n",
      "3    ...           690           885          1041          1133   \n",
      "4    ...          1048          1038           954           802   \n",
      "..   ...           ...           ...           ...           ...   \n",
      "670  ...             0             0             0             0   \n",
      "671  ...           286           279           277           275   \n",
      "672  ...             0             0             0             0   \n",
      "673  ...             0             0             0             0   \n",
      "674  ...             0             0             0             0   \n",
      "\n",
      "     var_ndmi_Oct  var_ndmi_Nov  var_ndmi_Dec  pred  label   OID  \n",
      "0               0             0             0   3.0   35.0  2222  \n",
      "1             458           459           444  35.0   53.0  2453  \n",
      "2             233           237           233  35.0   60.0  2463  \n",
      "3            1125           987           861  33.0   38.0  2464  \n",
      "4             632           523           492  35.0   35.0  2472  \n",
      "..            ...           ...           ...   ...    ...   ...  \n",
      "670             0             0             0  65.0   65.0  7912  \n",
      "671           276           276           276  31.0   65.0  7914  \n",
      "672             0             0             0  60.0   65.0  7916  \n",
      "673             0             0             0  80.0   80.0  7918  \n",
      "674             0             0             0  65.0   65.0  7926  \n",
      "\n",
      "[675 rows x 111 columns]\n"
     ]
    }
   ],
   "source": [
    "print(HO)"
   ]
  },
  {
   "cell_type": "code",
   "execution_count": 45,
   "id": "f02955e6",
   "metadata": {},
   "outputs": [
    {
     "name": "stdout",
     "output_type": "stream",
     "text": [
      "     obs  pred   OID\n",
      "0     35     3  2222\n",
      "1     53    35  2453\n",
      "2     60    35  2463\n",
      "3     38    33  2464\n",
      "4     35    35  2472\n",
      "..   ...   ...   ...\n",
      "670   65    65  7912\n",
      "671   65    31  7914\n",
      "672   65    60  7916\n",
      "673   80    80  7918\n",
      "674   65    65  7926\n",
      "\n",
      "[675 rows x 3 columns]\n"
     ]
    }
   ],
   "source": [
    "HO['obs'] = HO['label'].apply(np.int64)\n",
    "HO['pred'] = HO['pred'].apply(np.int64)\n",
    "HO_clean = HO[['obs','pred','OID']]\n",
    "print(HO_clean)"
   ]
  },
  {
   "cell_type": "code",
   "execution_count": 46,
   "id": "0fcca77c",
   "metadata": {},
   "outputs": [],
   "source": [
    "HO_clean\n",
    "#HOfinal = HO_clean.merge(HO_base, left_on='OID', right_on='OID_', how='left')\n",
    "pd.DataFrame.to_csv(HO_clean,'D:/NasaProject/Paraguay/ClassificationModels/RF/HO_Preds_8.csv', sep=',', na_rep='NaN', index=False)\n"
   ]
  },
  {
   "cell_type": "code",
   "execution_count": null,
   "id": "68f1e3e3",
   "metadata": {},
   "outputs": [],
   "source": []
  }
 ],
 "metadata": {
  "kernelspec": {
   "display_name": "Python [conda env:.lucinsa38_dl]",
   "language": "python",
   "name": "conda-env-.lucinsa38_dl-py"
  },
  "language_info": {
   "codemirror_mode": {
    "name": "ipython",
    "version": 3
   },
   "file_extension": ".py",
   "mimetype": "text/x-python",
   "name": "python",
   "nbconvert_exporter": "python",
   "pygments_lexer": "ipython3",
   "version": "3.8.15"
  }
 },
 "nbformat": 4,
 "nbformat_minor": 5
}
