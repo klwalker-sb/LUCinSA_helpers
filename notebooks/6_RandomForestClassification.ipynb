{
 "cells": [
  {
   "cell_type": "code",
   "execution_count": 1,
   "id": "6a947286",
   "metadata": {},
   "outputs": [],
   "source": [
    "import os\n",
    "import sys\n",
    "from pathlib import Path\n",
    "import pandas as pd\n",
    "\n",
    "%matplotlib inline"
   ]
  },
  {
   "cell_type": "code",
   "execution_count": 2,
   "id": "72d48bd3",
   "metadata": {},
   "outputs": [],
   "source": [
    "sys.path.append(r\"../LUCinSA_helpers\")\n",
    "from rf import *"
   ]
  },
  {
   "cell_type": "code",
   "execution_count": 3,
   "id": "54f479b5",
   "metadata": {},
   "outputs": [
    {
     "name": "stdout",
     "output_type": "stream",
     "text": [
      "Basic Parameters: \n",
      " brdf_dir = /home/sandbox-cel/paraguay_lc/stac/grid/003045/brdf \n",
      " gridCell = 3045 \n",
      " index_dir = /home/downspout-cel/paraguay_lc/stac/grids/003045/brdf_ts/ms/evi2 \n",
      " out_dir = /home/klwalker/data/tmp\n",
      "Classification_Params: \n",
      " model_type = RF \n",
      " samp_pt_file = /home/downspout-cel/paraguay_lc/vector/sampleData/SamplePts_Mar2023_ALL.csv\n"
     ]
    }
   ],
   "source": [
    "'''\n",
    "PARAMETERS: modify in notebook_params notebook, then run that notebook and this cell to update here\n",
    "DO NOT modify this cell\n",
    "'''\n",
    "\n",
    "%store -r basic_config\n",
    "print(\"Basic Parameters: \\n brdf_dir = {} \\n gridCell = {} \\n index_dir = {} \\n out_dir = {}\"\n",
    "      .format(basic_config['brdf_dir'],basic_config['grid_cell'],basic_config['index_dir'],basic_config['out_dir']))\n",
    "%store -r classification_params\n",
    "print(\"Classification_Params: \\n model_type = {} \\n samp_pt_file = {}\".format(classification_params['model_type'],classification_params['samp_pts']))"
   ]
  },
  {
   "cell_type": "code",
   "execution_count": 4,
   "id": "01ad1ec9",
   "metadata": {},
   "outputs": [
    {
     "name": "stdout",
     "output_type": "stream",
     "text": [
      "                 USE_NAME  LC22 LC5_name  LC5  LC17          LC17_name  LC3  \\\n",
      "0              NoVeg_Bare     1    NoVeg   10     1         NoVeg_Bare    0   \n",
      "1             NoVeg_Built     3    NoVeg   10     3        NoVeg_Built    0   \n",
      "2             NoVeg_Water     7    NoVeg   10     7        NoVeg_Water    0   \n",
      "4       Grassland-Natural    12   LowVeg   20    12  Grassland-Natural    0   \n",
      "5       Grassland-Planted    13   LowVeg   20    13  Grassland-Planted    0   \n",
      "6   Grassland-Natural-wet    17   LowVeg   20    13  Grassland-Natural    0   \n",
      "14         Crops-Soybeans    31   LowVeg   20    31     Crops-Soybeans    1   \n",
      "15            Crops-Beans    32   LowVeg   20    35          Crops-mix    1   \n",
      "16             Crops-Corn    33   LowVeg   20    33         Crops-Corn    1   \n",
      "17         Crops-Mandioca    34   LowVeg   20    35          Crops-mix    1   \n",
      "18              Crops-mix    35   LowVeg   20    35          Crops-mix    1   \n",
      "19          TreePlant-new    36   LowVeg   20    99            unknown    1   \n",
      "20             Crops-Rice    37   LowVeg   20    37         Crops-Rice    1   \n",
      "21            Crops-Sugar    38   LowVeg   20    38        Crops-Sugar    1   \n",
      "22      Crops-Orchard-new    40   LowVeg   20    99            unknown    1   \n",
      "9          Grass_tree-mix    51   MedVeg   50    51     Grass_tree-mix    0   \n",
      "7                   Shrub    52   MedVeg   50    52              Shrub    0   \n",
      "23          Crops-Orchard    53   MedVeg   40    53      Crops-Orchard    2   \n",
      "24       Crops-Yerba-Mate    55   MedVeg   40    55   Crops-Yerba-Mate    2   \n",
      "8         TreePlant-young    56   MedVeg   50    60          TreePlant    0   \n",
      "10       TreePlant-mature    60  HighVeg   70    60          TreePlant    0   \n",
      "12        Trees-disturbed    65  HighVeg   70    65    Trees-disturbed    0   \n",
      "11           Trees-Forest    80  HighVeg   70    80       Trees-Forest    0   \n",
      "13              Crops-low    99   LowVeg   20    99            unknown    1   \n",
      "3               Grassland    99   LowVeg   20    99            unknown    0   \n",
      "25              Crops-Med    99   MedVeg   40    99            unknown    2   \n",
      "26                unknown    99       99   99    99            unknown   99   \n",
      "\n",
      "   LC3_name  LC4 LC4_name  LC2 LC2_name  LC_crops   LC_crops_name  \n",
      "0    nocrop    0   nocrop    0   nocrop        10          NoCrop  \n",
      "1    nocrop    0   nocrop    0   nocrop        10          NoCrop  \n",
      "2    nocrop    0   nocrop    0   nocrop        10          NoCrop  \n",
      "4    nocrop    0   nocrop    0   nocrop        10          NoCrop  \n",
      "5    nocrop    0   nocrop    0   nocrop        10          NoCrop  \n",
      "6    nocrop    0   nocrop    0   nocrop        10          NoCrop  \n",
      "14     crop    1     crop    1     crop        31  Crops-Soybeans  \n",
      "15     crop    1     crop    1     crop        35       Crops-mix  \n",
      "16     crop    1     crop    1     crop        33      Crops-Corn  \n",
      "17     crop    1     crop    1     crop        35       Crops-mix  \n",
      "18     crop    1     crop    1     crop        35       Crops-mix  \n",
      "19     crop    1     crop    1     crop        99         unknown  \n",
      "20     crop    1     crop    1     crop        37      Crops-Rice  \n",
      "21     crop    1     crop    1     crop        38     Crops-Sugar  \n",
      "22     crop    1     crop    1     crop        99         unknown  \n",
      "9    nocrop    0   nocrop    0   nocrop        10          NoCrop  \n",
      "7    nocrop    0   nocrop    0   nocrop        10          NoCrop  \n",
      "23  medcrop    2  medcrop    1     crop        99         unknown  \n",
      "24  medcrop    2  medcrop    1     crop        99         unknown  \n",
      "8    nocrop    0   nocrop    0   nocrop        10          NoCrop  \n",
      "10   nocrop    3     tree    0   nocrop        10          NoCrop  \n",
      "12   nocrop    3     tree    0   nocrop        10          NoCrop  \n",
      "11   nocrop    3     tree    0   nocrop        10          NoCrop  \n",
      "13     crop    1     crop    1     crop        99         unknown  \n",
      "3    nocrop    0   nocrop    0   nocrop        10          NoCrop  \n",
      "25  medcrop    2  medcrop    1     crop        99         unknown  \n",
      "26  unknown   99  unknown   99  unknown        99         unknown  \n"
     ]
    }
   ],
   "source": [
    "lut=pd.read_csv('../Class_LUT.csv')\n",
    "lut.drop(['Description'], axis=1, inplace=True)\n",
    "print(lut.sort_values('LC22'))"
   ]
  },
  {
   "cell_type": "markdown",
   "id": "ced2658d",
   "metadata": {},
   "source": [
    "## start with default models with pixel-only data:"
   ]
  },
  {
   "cell_type": "code",
   "execution_count": 5,
   "id": "04f7a074",
   "metadata": {},
   "outputs": [
    {
     "name": "stdout",
     "output_type": "stream",
     "text": [
      "sample breakdown by LC17 class:\n",
      "Crops-Soybeans       2965\n",
      "Crops-mix             459\n",
      "TreePlant             342\n",
      "Grassland-Natural     309\n",
      "Trees-Forest          203\n",
      "NoVeg_Built           202\n",
      "Shrub                 193\n",
      "NoVeg_Water           187\n",
      "Crops-Rice            184\n",
      "Crops-Corn            179\n",
      "NoVeg_Bare            171\n",
      "unknown               168\n",
      "Crops-Yerba-Mate      160\n",
      "Trees-disturbed       154\n",
      "Grassland-Planted     113\n",
      "Crops-Sugar           105\n",
      "Crops-Orchard          91\n",
      "Grass_tree-mix         73\n",
      "Name: LC17_name, dtype: int64\n",
      "default rf model with all sample pixels and pixel only data\n"
     ]
    }
   ],
   "source": [
    "samp_pts = pd.read_csv(classification_params['samp_pts'])\n",
    "pix_vars = pd.read_csv('/home/downspout-cel/paraguay_lc/vector/ptsgdb_Sep21.csv')\n",
    "\n",
    "pix_data = pix_vars.merge(samp_pts, left_on='OID_', right_on='OID_', how='left')\n",
    "\n",
    "pix_data.drop(['LC2'], axis=1, inplace=True)\n",
    "pixdf = pix_data.merge(lut, left_on='Class', right_on='USE_NAME', how='left')\n",
    "print('sample breakdown by LC17 class:')\n",
    "print(pixdf['LC17_name'].value_counts())\n",
    "\n",
    "print('default rf model with all sample pixels and pixel only data')"
   ]
  },
  {
   "cell_type": "markdown",
   "id": "3bbe361c",
   "metadata": {},
   "source": [
    "## prep pixel datasets by reducing sample\n",
    "### First by sampling method (reducing dominant CAN soy pts)\n",
    "### can also do by field size, etc."
   ]
  },
  {
   "cell_type": "code",
   "execution_count": 6,
   "id": "efbbd40e",
   "metadata": {},
   "outputs": [
    {
     "name": "stdout",
     "output_type": "stream",
     "text": [
      "25Soy sample breakdown by LC17 class:\n",
      "Crops-Soybeans       525\n",
      "Crops-mix            459\n",
      "TreePlant            342\n",
      "Grassland-Natural    309\n",
      "Trees-Forest         203\n",
      "NoVeg_Built          202\n",
      "Shrub                193\n",
      "NoVeg_Water          187\n",
      "Crops-Rice           184\n",
      "Crops-Corn           179\n",
      "NoVeg_Bare           171\n",
      "unknown              168\n",
      "Crops-Yerba-Mate     160\n",
      "Trees-disturbed      154\n",
      "Grassland-Planted    113\n",
      "Crops-Sugar          105\n",
      "Crops-Orchard         91\n",
      "Grass_tree-mix        73\n",
      "Name: LC17_name, dtype: int64\n"
     ]
    }
   ],
   "source": [
    "#### model_name = pixdf_25Soy\n",
    "##   removes 3/4 of the soy points because they are far overrepresented\n",
    "pixdf_25Soy = pixdf[(pixdf['rand']>.9) | (pixdf['SampMethod'] != 'CAN - unverified in GE')]\n",
    "print('25Soy sample breakdown by LC17 class:')\n",
    "print(pixdf_25Soy['LC17_name'].value_counts())\n",
    "pixdf_path = os.path.join(classification_params['model_dir'],'pixdf_25Soy.csv')\n",
    "pd.DataFrame.to_csv(pixdf_25Soy, pixdf_path)"
   ]
  },
  {
   "cell_type": "code",
   "execution_count": 7,
   "id": "6b423a50",
   "metadata": {},
   "outputs": [
    {
     "name": "stdout",
     "output_type": "stream",
     "text": [
      "there are now 3573 pts in the training set after dropping CAN soy\n",
      "LessSoy sample breakdown by LC17 class:\n",
      "Crops-mix            459\n",
      "TreePlant            342\n",
      "Grassland-Natural    309\n",
      "Crops-Soybeans       257\n",
      "Trees-Forest         203\n",
      "NoVeg_Built          202\n",
      "Shrub                193\n",
      "NoVeg_Water          187\n",
      "Crops-Rice           184\n",
      "Crops-Corn           179\n",
      "NoVeg_Bare           171\n",
      "unknown              168\n",
      "Crops-Yerba-Mate     160\n",
      "Trees-disturbed      154\n",
      "Grassland-Planted    113\n",
      "Crops-Sugar          105\n",
      "Crops-Orchard         91\n",
      "Grass_tree-mix        73\n",
      "Name: LC17_name, dtype: int64\n"
     ]
    }
   ],
   "source": [
    "#### model_name = pixdf_lessSoy\n",
    "# removes all soy points that sre not verified in Google Earth\n",
    "pixdf_lessSoy = pixdf_25Soy[pixdf_25Soy['SampMethod'] != 'CAN - unverified in GE']\n",
    "print('there are now {} pts in the training set after dropping CAN soy'.format(len(pixdf_lessSoy)))\n",
    "print('LessSoy sample breakdown by LC17 class:')\n",
    "print(pixdf_lessSoy['LC17_name'].value_counts())\n",
    "pixdf_path = os.path.join(classification_params['model_dir'],'pixdf_lessSoy.csv')\n",
    "pd.DataFrame.to_csv(pixdf_lessSoy, pixdf_path)"
   ]
  },
  {
   "cell_type": "markdown",
   "id": "5247eb48",
   "metadata": {},
   "source": [
    "## if polygons are available, can combine pixel and polygon dfs and create rf datasets for points with polygons and those without:"
   ]
  },
  {
   "cell_type": "code",
   "execution_count": null,
   "id": "1250ae5d",
   "metadata": {},
   "outputs": [],
   "source": [
    "poly_data = pd.read_csv(classification_params['samp_poly'])\n",
    "#rename column names that also occur in pixel df\n",
    "poly_data.rename(columns={'area':'areaSeg'}, inplace=True)\n",
    "all_data = pixdf.merge(poly_data, left_on='OID_', right_on='OID_', how='left')\n",
    "polypixdf_path = os.path.join(classification_params['model_dir'],'pts_polyData_joinCheck.csv')\n",
    "pd.DataFrame.to_csv(all_data, polypixdf_path, sep=',', na_rep='NaN', index=True)"
   ]
  },
  {
   "cell_type": "markdown",
   "id": "aad21203",
   "metadata": {},
   "source": [
    "### first create dataset for points outside of polygons (here we have no variables to add to the original model)"
   ]
  },
  {
   "cell_type": "code",
   "execution_count": null,
   "id": "5f7e4509",
   "metadata": {},
   "outputs": [],
   "source": [
    "outsideSeg = all_data[all_data['areaSeg'].isna()]\n",
    "print(f'of the {all_data.shape[0]} sample points in our dataset, {outsideSeg.shape[0]} are outside of our segmented polygons')\n",
    "print(outsideSeg['LC17_name'].value_counts())\n",
    "out_dir = os.path.join(classification_params['model_dir'],'outside')\n",
    "rfout17 = rf_model(outsideSeg,out_dir,'All','Permutation',29,'Fullsamp')"
   ]
  },
  {
   "cell_type": "markdown",
   "id": "0a8ef9f7",
   "metadata": {},
   "source": [
    "And for model with more balanced soy representation (25Soy):"
   ]
  },
  {
   "cell_type": "code",
   "execution_count": null,
   "id": "ac77984a",
   "metadata": {},
   "outputs": [],
   "source": [
    "all_data_25Soy = pixdf_25Soy.merge(poly_data, left_on='OID_', right_on='OID_', how='left')\n",
    "outsideSeg_25Soy = all_data_25Soy[all_data_25Soy['areaSeg'].isna()]\n",
    "print(outsideSeg_25Soy['LC17_name'].value_counts())\n",
    "out_dir = os.path.join(classification_params['model_dir'],'outside')\n",
    "rfout17_lessSoy = rf_model(outsideSeg_lessSoy,out_dir,'All','Permutation',29,'LessSoy')"
   ]
  },
  {
   "cell_type": "markdown",
   "id": "0af312b5",
   "metadata": {},
   "source": [
    "#### now create dataset for points inside of polygons (here we want to add some variables first)"
   ]
  },
  {
   "cell_type": "code",
   "execution_count": null,
   "id": "135283bd",
   "metadata": {},
   "outputs": [],
   "source": [
    "#poly_data['AvgU'] = poly_data.apply(lambda x:count([x[c] for c in df.columns if c.endswith('U')]),axis=1)\n",
    "#TODO: calculate these in pandas as above\n",
    "poly_data.rename(columns={'areaSeg':'var_areaSeg','AVGU':'var_AVGU','AVGR':'var_AVGR','AVGSTD':'var_AVGSTD','MAXR':'var_MAXR','MINR':'var_MINR','STDU':'var_STDU','MINU':'var_MINU','MAXU':'var_MAXU','rU':'var_RU'}, inplace=True)\n",
    "polyvars = pixdf.merge(poly_data, left_on='OID_', right_on='OID_', how='left')\n",
    "withinSeg = polyvars[polyvars['var_areaSeg'] > 0]\n",
    "\n",
    "print(withinSeg['LC17_name'].value_counts())\n",
    "out_dir = os.path.join(classification_params['model_dir'],'within')\n",
    "rfin17 = rf_model(withinSeg,out_dir,'All','Permutation',29,'Fullsamp')"
   ]
  },
  {
   "cell_type": "code",
   "execution_count": null,
   "id": "621cd9d6",
   "metadata": {},
   "outputs": [],
   "source": [
    "all_data_lessSoy = pixdf_lessSoy.merge(poly_data, left_on='OID_', right_on='OID_', how='left')\n",
    "withinSeg_lessSoy = all_data_lessSoy[all_data_lessSoy['var_areaSeg']>0]\n",
    "print(withinSeg_lessSoy['LC17_name'].value_counts())\n",
    "out_dir = os.path.join(classification_params['model_dir'],'within')\n",
    "rfin17_lessSoy = rf_model(withinSeg_lessSoy,out_dir,'All','Permutation',29,'LessSoy')"
   ]
  },
  {
   "cell_type": "markdown",
   "id": "b44e7ae8",
   "metadata": {},
   "source": [
    "# run test model"
   ]
  },
  {
   "cell_type": "code",
   "execution_count": 9,
   "id": "61eca1f2",
   "metadata": {},
   "outputs": [
    {
     "name": "stdout",
     "output_type": "stream",
     "text": [
      "there are 3573 pts in the full data set\n",
      "there are 3382 sample points after removing those without clear class\n",
      "There are 2697 training features\n",
      "Out-of-bag score estimate: 0.617\n",
      "Mean accuracy score: 0.704\n",
      "Confusion Matrix: predicted  1.0  3.0  7.0  12.0  31.0  33.0  35.0  37.0  38.0  52.0  60.0  \\\n",
      "observed                                                                   \n",
      "1.0          1    0    0     0     0     0     0     0     0     0     0   \n",
      "3.0          0    2    0     0     0     0     0     0     0     0     0   \n",
      "7.0          0    0    1     0     0     0     0     0     0     0     0   \n",
      "12.0         0    0    0     0     0     0     2     0     0     0     0   \n",
      "13.0         0    0    0     1     0     0     0     0     0     0     0   \n",
      "31.0         0    0    0     0     2     0     0     0     0     0     0   \n",
      "33.0         0    0    0     0     0     1     0     0     0     0     0   \n",
      "35.0         0    0    0     0     0     0     4     0     0     0     0   \n",
      "37.0         0    0    0     0     0     0     0     1     0     0     0   \n",
      "38.0         0    0    0     0     0     0     0     0     1     0     0   \n",
      "51.0         0    0    0     0     0     0     1     0     0     0     0   \n",
      "52.0         0    0    0     0     0     0     0     0     0     1     0   \n",
      "53.0         0    0    0     0     0     0     0     0     0     0     1   \n",
      "55.0         0    0    0     0     0     0     1     0     0     0     0   \n",
      "60.0         0    0    0     0     0     0     0     0     0     0     3   \n",
      "65.0         0    0    0     0     0     0     0     0     0     0     0   \n",
      "80.0         0    0    0     0     0     0     0     0     0     0     0   \n",
      "All          1    2    1     1     2     1     8     1     1     1     4   \n",
      "\n",
      "predicted  65.0  80.0  All  correct  sumcol   UA    PA  Crop  NoCrop  \n",
      "observed                                                              \n",
      "1.0           0     0    1        1     1.0  1.0  1.00     0       1  \n",
      "3.0           0     0    2        2     2.0  1.0  1.00     0       2  \n",
      "7.0           0     0    1        1     1.0  1.0  1.00     0       1  \n",
      "12.0          0     0    2        0     1.0  0.0  0.00     2       0  \n",
      "13.0          0     0    1        0     NaN  0.0   NaN     0       1  \n",
      "31.0          0     0    2        2     2.0  1.0  1.00     2       0  \n",
      "33.0          0     0    1        1     1.0  1.0  1.00     1       0  \n",
      "35.0          0     0    4        4     8.0  1.0  0.50     4       0  \n",
      "37.0          0     0    1        1     1.0  1.0  1.00     1       0  \n",
      "38.0          0     0    1        1     1.0  1.0  1.00     1       0  \n",
      "51.0          0     0    1        0     NaN  0.0   NaN     1       0  \n",
      "52.0          0     1    2        1     1.0  0.5  1.00     0       2  \n",
      "53.0          0     0    1        0     NaN  0.0   NaN     0       1  \n",
      "55.0          0     0    1        0     NaN  0.0   NaN     1       0  \n",
      "60.0          0     0    3        3     4.0  1.0  0.75     0       3  \n",
      "65.0          1     0    1        1     2.0  1.0  0.50     0       1  \n",
      "80.0          1     1    2        1     2.0  0.5  0.50     0       2  \n",
      "All           2     2   27       27    27.0  1.0  1.00    13      14  \n",
      "number of holdout pixels = 685\n"
     ]
    },
    {
     "name": "stderr",
     "output_type": "stream",
     "text": [
      "/home/klwalker/miniconda3/envs/venv.lucinla38_jupyter/lib/python3.8/site-packages/sklearn/base.py:432: UserWarning: X has feature names, but RandomForestClassifier was fitted without feature names\n",
      "  warnings.warn(\n"
     ]
    }
   ],
   "source": [
    "classification_params['model_dir']\n",
    "rf = rf_model(pixdf_path,classification_params['model_dir'],'All','Inference',29,'LessSoy_test')"
   ]
  },
  {
   "cell_type": "code",
   "execution_count": null,
   "id": "68f1e3e3",
   "metadata": {},
   "outputs": [],
   "source": []
  }
 ],
 "metadata": {
  "kernelspec": {
   "display_name": "Python 3 (ipykernel)",
   "language": "python",
   "name": "python3"
  },
  "language_info": {
   "codemirror_mode": {
    "name": "ipython",
    "version": 3
   },
   "file_extension": ".py",
   "mimetype": "text/x-python",
   "name": "python",
   "nbconvert_exporter": "python",
   "pygments_lexer": "ipython3",
   "version": "3.8.15"
  }
 },
 "nbformat": 4,
 "nbformat_minor": 5
}
