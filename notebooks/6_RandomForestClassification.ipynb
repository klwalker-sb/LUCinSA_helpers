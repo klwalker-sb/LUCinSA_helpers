{
 "cells": [
  {
   "cell_type": "code",
   "execution_count": 7,
   "id": "6a947286",
   "metadata": {},
   "outputs": [],
   "source": [
    "import os\n",
    "import sys\n",
    "from pathlib import Path\n",
    "import pandas as pd\n",
    "\n",
    "%matplotlib inline"
   ]
  },
  {
   "cell_type": "code",
   "execution_count": 8,
   "id": "72d48bd3",
   "metadata": {},
   "outputs": [
    {
     "name": "stdout",
     "output_type": "stream",
     "text": [
      "there are 4151 pts in the full data set\n",
      "there are 3331 pts in the training set\n",
      "there are 3218 sample points after removing those without clear class\n",
      "Out-of-bag score estimate: 0.623\n",
      "Mean accuracy score: 0.619\n",
      "Confusion Matrix: predicted   1   3   7  12  13  17   31  33  34  35  ...  53  55  60  70  80  \\\n",
      "observed                                            ...                       \n",
      "1          16  10   0   0   1   0    1   1   1   3  ...   0   0   0   0   0   \n",
      "3           5  31   0   0   0   0    2   0   0   0  ...   0   2   0   0   0   \n",
      "7           0   1  29   2   0   2    1   0   0   0  ...   0   0   0   1   1   \n",
      "12          0   0   0  11   5   0    4   2   0   5  ...   0   3   0   0   0   \n",
      "13          0   0   1   4   9   0    5   0   0   3  ...   0   1   0   1   0   \n",
      "17          0   0   1   4   0   1    1   0   0   3  ...   0   0   0   0   0   \n",
      "31          0   1   0   0   0   0  251   0   0   2  ...   0   0   0   0   0   \n",
      "32          0   0   0   0   0   0    0   1   2   3  ...   0   0   0   0   0   \n",
      "33          1   0   0   0   1   0   17   9   2   2  ...   1   3   0   1   0   \n",
      "34          2   0   0   1   1   0    0   4   2  10  ...   0   1   0   0   0   \n",
      "35          2   0   1   3   0   0    7   4   2  28  ...   2   6   1   1   1   \n",
      "36          0   0   0   0   0   0    0   1   0   0  ...   0   0   1   0   1   \n",
      "37          1   0   0   0   0   0   10   0   0   1  ...   1   0   0   0   0   \n",
      "38          0   0   0   0   2   0    7   2   1   3  ...   0   0   0   0   0   \n",
      "51          0   0   0   2   0   0    0   0   0   4  ...   0   0   0   3   0   \n",
      "52          2   0   0   0   0   0    2   0   0   2  ...   0   0   0   1   5   \n",
      "53          0   0   0   2   0   0    1   0   1   3  ...   4   1   0   2   0   \n",
      "55          1   0   0   2   0   0    2   4   0  10  ...   1  10   0   2   0   \n",
      "56          0   0   0   0   0   0    0   0   0   0  ...   0   1   6   0   0   \n",
      "60          0   0   0   0   0   0    2   0   0   1  ...   0   1  19   1   4   \n",
      "70          0   0   0   1   0   0    0   0   0   4  ...   0   0   2   8   4   \n",
      "80          0   0   0   0   0   0    1   0   0   1  ...   0   0   2   0  30   \n",
      "All        30  43  32  32  19   3  314  28  11  88  ...   9  29  31  21  46   \n",
      "\n",
      "predicted  All  correct        UA  Crop  NoCrop  \n",
      "observed                                         \n",
      "1           33       16  0.484848     6      27  \n",
      "3           40       31  0.775000     4      36  \n",
      "7           37       29  0.783784     1      36  \n",
      "12          33       11  0.333333    15      18  \n",
      "13          24        9  0.375000     9      15  \n",
      "17          12        1  0.083333     6       6  \n",
      "31         255      251  0.984314   254       1  \n",
      "32           6        0  0.000000     6       0  \n",
      "33          37        9  0.243243    34       3  \n",
      "34          22        2  0.090909    18       4  \n",
      "35          60       28  0.466667    49      11  \n",
      "36           4        0  0.000000     1       3  \n",
      "37          27       14  0.518519    26       1  \n",
      "38          19        3  0.157895    17       2  \n",
      "51          13        1  0.076923     4       9  \n",
      "52          35       22  0.628571     5      30  \n",
      "53          16        4  0.250000    10       6  \n",
      "55          32       10  0.312500    27       5  \n",
      "56           8        0  0.000000     1       7  \n",
      "60          30       19  0.633333     4      26  \n",
      "70          25        8  0.320000     4      21  \n",
      "80          37       30  0.810811     2      35  \n",
      "All        805      805  1.000000   503     302  \n",
      "\n",
      "[23 rows x 24 columns]\n"
     ]
    }
   ],
   "source": [
    "sys.path.append(r\"../LUCinSA_helpers\")\n",
    "from RF1_CreateModel import *"
   ]
  },
  {
   "cell_type": "code",
   "execution_count": null,
   "id": "01ad1ec9",
   "metadata": {},
   "outputs": [],
   "source": [
    "in_dir = 'D:/NasaProject/Paraguay/ClassificationModels'\n",
    "df_in = os.path.join(in_dir, 'RFdf.csv')\n",
    "out_dir = 'D:/NasaProject/Paraguay/ClassificationModels/RF'"
   ]
  },
  {
   "cell_type": "code",
   "execution_count": null,
   "id": "087c3c00",
   "metadata": {},
   "outputs": [],
   "source": [
    "## Multi-class model with all 22 classes"
   ]
  },
  {
   "cell_type": "code",
   "execution_count": null,
   "id": "ec165a5b",
   "metadata": {},
   "outputs": [],
   "source": [
    "RFmod = MulticlassRF(df_in,out_dir,'All','Permutation',29)"
   ]
  },
  {
   "cell_type": "code",
   "execution_count": 6,
   "id": "bf98c968",
   "metadata": {},
   "outputs": [
    {
     "name": "stdout",
     "output_type": "stream",
     "text": [
      "                 USE_NAME   Class1  LC5  LC22  LC3  LC4  LC2  \\\n",
      "0              NoVeg_Bare    NoVeg   10     1    0    0    0   \n",
      "1             NoVeg_Built    NoVeg   10     3    0    0    0   \n",
      "2             NoVeg_Water    NoVeg   10     7    0    0    0   \n",
      "3               Grassland   LowVeg   20    99    0    0    0   \n",
      "4       Grassland-Natural   LowVeg   20    12    0    0    0   \n",
      "5       Grassland-Planted   LowVeg   20    13    0    0    0   \n",
      "6   Grassland-Natural-wet   LowVeg   20    17    0    0    0   \n",
      "7               Crops-low   LowVeg   20    99    1    1    1   \n",
      "8          Crops-Soybeans   LowVeg   20    31    1    1    1   \n",
      "9             Crops-Beans   LowVeg   20    32    1    1    1   \n",
      "10             Crops-Corn   LowVeg   20    33    1    1    1   \n",
      "11         Crops-Mandioca   LowVeg   20    34    1    1    1   \n",
      "12              Crops-mix   LowVeg   20    35    1    1    1   \n",
      "13          TreePlant-new   LowVeg   20    36    1    1    1   \n",
      "14             Crops-Rice   LowVeg   20    37    1    1    1   \n",
      "15            Crops-Sugar   LowVeg   20    38    1    1    1   \n",
      "16                  Shrub   MedVeg   50    52    0    0    0   \n",
      "17          Crops-Orchard   MedVeg   40    53    2    2    1   \n",
      "18       Crops-Yerba-Mate   MedVeg   40    55    2    2    1   \n",
      "19        TreePlant-young   MedVeg   50    56    2    2    0   \n",
      "20       TreePlant-mature  HighVeg   70    60    0    3    0   \n",
      "21           Trees-Forest  HighVeg   70    80    0    3    0   \n",
      "22        Trees-disturbed  HighVeg   70    65    0    3    0   \n",
      "23         Grass_tree-mix   MedVeg   50    51    0    0    0   \n",
      "24                unknown       99   99    99   99   99   99   \n",
      "25              Crops-Med   MedVeg   40    99    2    2    1   \n",
      "26      Crops-Orchard-new   LowVeg   20    40    1    1    1   \n",
      "\n",
      "                                          Description  \n",
      "0   Bare soil/rock/sand throughout the year (NOT p...  \n",
      "1                                                 NaN  \n",
      "2                                                 NaN  \n",
      "3              grass -- unknown if planted or natural  \n",
      "4                   natural grassland, dry year-round  \n",
      "5                                       planted grass  \n",
      "6   natural grassland that is flooded at some poin...  \n",
      "7                                 unknown annual crop  \n",
      "8                                                 NaN  \n",
      "9                                                 NaN  \n",
      "10                                                NaN  \n",
      "11                                                NaN  \n",
      "12           intercropping with each crop <30m across  \n",
      "13                                            <1 year  \n",
      "14                                                NaN  \n",
      "15                                                NaN  \n",
      "16                          natural shrubs / regrowth  \n",
      "17                                                NaN  \n",
      "18                                                NaN  \n",
      "19                                            1-2 yrs  \n",
      "20                                          >=3 years  \n",
      "21                                                NaN  \n",
      "22  Mature trees with gaps (>70% closed canopy) or...  \n",
      "23          Grassland with trees (<70% closed canopy)  \n",
      "24  no idea -- this is a placeholder for data chec...  \n",
      "25  unknown or other shrubby perrenial crops (i.e....  \n",
      "26                                            <1 year  \n"
     ]
    }
   ],
   "source": [
    "LUT=pd.read_csv('../Class_LUT.csv')\n",
    "print(LUT)"
   ]
  },
  {
   "cell_type": "code",
   "execution_count": null,
   "id": "d08bfa1e",
   "metadata": {},
   "outputs": [],
   "source": []
  }
 ],
 "metadata": {
  "kernelspec": {
   "display_name": "Python [conda env:.lucinsa38_dl]",
   "language": "python",
   "name": "conda-env-.lucinsa38_dl-py"
  },
  "language_info": {
   "codemirror_mode": {
    "name": "ipython",
    "version": 3
   },
   "file_extension": ".py",
   "mimetype": "text/x-python",
   "name": "python",
   "nbconvert_exporter": "python",
   "pygments_lexer": "ipython3",
   "version": "3.8.15"
  }
 },
 "nbformat": 4,
 "nbformat_minor": 5
}
