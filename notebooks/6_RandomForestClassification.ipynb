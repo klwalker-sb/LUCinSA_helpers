{
 "cells": [
  {
   "cell_type": "code",
   "execution_count": null,
   "id": "6a947286",
   "metadata": {},
   "outputs": [],
   "source": [
    "import os\n",
    "import sys\n",
    "from pathlib import Path\n",
    "import pandas as pd\n",
    "\n",
    "%matplotlib inline"
   ]
  },
  {
   "cell_type": "code",
   "execution_count": null,
   "id": "72d48bd3",
   "metadata": {},
   "outputs": [],
   "source": [
    "sys.path.append(r\"../LUCinSA_helpers\")\n",
    "from rf1_create_model import *"
   ]
  },
  {
   "cell_type": "code",
   "execution_count": null,
   "id": "01ad1ec9",
   "metadata": {},
   "outputs": [],
   "source": [
    "lut=pd.read_csv('../Class_LUT.csv')\n",
    "lut.drop(['Description'], axis=1, inplace=True)\n",
    "print(lut.sort_values('LC22'))"
   ]
  },
  {
   "cell_type": "markdown",
   "id": "ced2658d",
   "metadata": {},
   "source": [
    "#### start with default models with pixel-only data:"
   ]
  },
  {
   "cell_type": "code",
   "execution_count": null,
   "id": "04f7a074",
   "metadata": {},
   "outputs": [],
   "source": [
    "pix_data = pd.read_csv('D:/NasaProject/Paraguay/sampling/samplePts_FINALdfs/RFdf.csv')\n",
    "pix_data.drop(['LC17','LC2'], axis=1, inplace=True)\n",
    "pixdf = pix_data.merge(LUT, left_on='Class', right_on='USE_NAME', how='left')\n",
    "print('sample breakdown by LC17 class:')\n",
    "print(pixdf['LC17_name'].value_counts())\n",
    "\n",
    "print('default rf model with all sample pixels and pixel only data')\n",
    "in_dir = 'D:/NasaProject/Paraguay/ClassificationModels/RF'\n",
    "out_dir = 'D:/NasaProject/Paraguay/ClassificationModels/RF'\n",
    "rfout17 = MulticlassRF(pixdf,out_dir,'crop_nocrop','Permutation',29)"
   ]
  },
  {
   "cell_type": "code",
   "execution_count": null,
   "id": "efbbd40e",
   "metadata": {},
   "outputs": [],
   "source": [
    "##Remove 3/4 of the soy points because they are far overrepresented\n",
    "pixdf_lessSoy = pixdf[(pixdf['rand']>.9) | (pixdf['SampMethod'] != 'CAN - unverified in GE')]\n",
    "print('New sample breakdown by LC17 class:')\n",
    "print(pixdf_lessSoy['LC17_name'].value_counts())\n",
    "out_dir = 'D:/NasaProject/Paraguay/ClassificationModels/RF/LessSoy'\n",
    "rfout17 = MulticlassRF(pixdf_lessSoy,out_dir,'All','Permutation',29)"
   ]
  },
  {
   "cell_type": "markdown",
   "id": "5247eb48",
   "metadata": {},
   "source": [
    "#### combine pixel and polygon dfs and create rf datasets for points with polygons and those without:"
   ]
  },
  {
   "cell_type": "code",
   "execution_count": null,
   "id": "1250ae5d",
   "metadata": {},
   "outputs": [],
   "source": [
    "poly_data = pd.read_csv('D:/NasaProject/Paraguay/ClassificationModels/RF/pts_polyData.csv')\n",
    "#rename column names that also occur in pixel df\n",
    "poly_data.rename(columns={'area':'areaSeg'}, inplace=True)\n",
    "all_data = pixdf.merge(poly_data, left_on='OID_', right_on='OID_', how='left')\n",
    "pd.DataFrame.to_csv(all_data, 'D:/NasaProject/Paraguay/ClassificationModels/RF/pts_polyData_joinCheck.csv', sep=',', na_rep='NaN', index=True)"
   ]
  },
  {
   "cell_type": "markdown",
   "id": "aad21203",
   "metadata": {},
   "source": [
    "##### first create dataset for points outside of polygons (here we have no variables to add to the original model)"
   ]
  },
  {
   "cell_type": "code",
   "execution_count": null,
   "id": "5f7e4509",
   "metadata": {},
   "outputs": [],
   "source": [
    "outsideSeg = all_data[all_data['areaSeg'].isna()]\n",
    "print(f'of the {all_data.shape[0]} sample points in our dataset, {outsideSeg.shape[0]} are outside of our segmented polygons')\n",
    "print(outsideSeg['LC17_name'].value_counts())\n",
    "out_dir = 'D:/NasaProject/Paraguay/ClassificationModels/RF/outside'\n",
    "rfout17 = MulticlassRF(outsideSeg,out_dir,'All','Permutation',29)"
   ]
  },
  {
   "cell_type": "markdown",
   "id": "0a8ef9f7",
   "metadata": {},
   "source": [
    "And model with more balanced soy representation (LessSoy):"
   ]
  },
  {
   "cell_type": "code",
   "execution_count": null,
   "id": "ac77984a",
   "metadata": {},
   "outputs": [],
   "source": [
    "all_data_lessSoy = pixdf_lessSoy.merge(poly_data, left_on='OID_', right_on='OID_', how='left')\n",
    "outsideSeg_lessSoy = all_data_lessSoy[all_data_lessSoy['areaSeg'].isna()]\n",
    "print(outsideSeg_lessSoy['LC17_name'].value_counts())\n",
    "out_dir = 'D:/NasaProject/Paraguay/ClassificationModels/RF/outside/LessSoy'\n",
    "rfout17_lessSoy = MulticlassRF(outsideSeg_lessSoy,out_dir,'All','Permutation',29)"
   ]
  },
  {
   "cell_type": "markdown",
   "id": "0af312b5",
   "metadata": {},
   "source": [
    "##### now create dataset for points inside of polygons (here we want to add some variables first)"
   ]
  },
  {
   "cell_type": "code",
   "execution_count": null,
   "id": "135283bd",
   "metadata": {},
   "outputs": [],
   "source": [
    "#poly_data['AvgU'] = poly_data.apply(lambda x:count([x[c] for c in df.columns if c.endswith('U')]),axis=1)\n",
    "#TODO: calculate these in pandas as above\n",
    "poly_data.rename(columns={'areaSeg':'var_areaSeg','AVGU':'var_AVGU','AVGR':'var_AVGR','AVGSTD':'var_AVGSTD','MAXR':'var_MAXR','MINR':'var_MINR','STDU':'var_STDU','MINU':'var_MINU','MAXU':'var_MAXU','rU':'var_RU'}, inplace=True)\n",
    "polyvars = pixdf.merge(poly_data, left_on='OID_', right_on='OID_', how='left')\n",
    "withinSeg = polyvars[polyvars['var_areaSeg'] > 0]\n",
    "\n",
    "print(withinSeg['LC17_name'].value_counts())\n",
    "out_dir = 'D:/NasaProject/Paraguay/ClassificationModels/RF/within'\n",
    "rfin17 = MulticlassRF(withinSeg,out_dir,'All','Permutation',29)"
   ]
  },
  {
   "cell_type": "code",
   "execution_count": null,
   "id": "621cd9d6",
   "metadata": {},
   "outputs": [],
   "source": [
    "all_data_lessSoy = pixdf_lessSoy.merge(poly_data, left_on='OID_', right_on='OID_', how='left')\n",
    "withinSeg_lessSoy = all_data_lessSoy[all_data_lessSoy['var_areaSeg']>0]\n",
    "print(withinSeg_lessSoy['LC17_name'].value_counts())\n",
    "out_dir = 'D:/NasaProject/Paraguay/ClassificationModels/RF/within/LessSoy'\n",
    "rfin17_lessSoy = MulticlassRF(withinSeg_lessSoy,out_dir,'All','Permutation',29)"
   ]
  },
  {
   "cell_type": "code",
   "execution_count": null,
   "id": "53626402",
   "metadata": {},
   "outputs": [],
   "source": [
    "#pix_data = pd.read_csv('D:/NasaProject/Paraguay/sampling/samplePts_FINALdfs/RFdf.csv')\n",
    "pix_data = pd.read_csv('D:/NasaProject/Paraguay/sampling/samplePts_FINALdfs/RFdf_augmented.csv')\n",
    "#pix_data = pix_data[pix_data['numPix'] < 50]\n",
    "#poly_data = pd.read_csv('D:/NasaProject/Paraguay/ClassificationModels/RF/pts_polyData.csv')\n",
    "#rename column names that also occur in pixel df\n",
    "#poly_data.rename(columns={'area':'areaSeg'}, inplace=True)\n",
    "#poly_data.rename(columns={'Seg1Dist':'var_Seg1Dist','Seg2Edge':'var_Seg2Edge','Seg3Prob':'var_Seg2Prob'},inplace=True)\n",
    "#poly_data.rename(columns={'Seg1Dist':'var_Seg1Dist','Seg2Edge':'var_Seg2Edge','Seg3Prob':'var_Seg2Prob','areaSeg':'var_areaSeg','AVGU':'var_AVGU','AVGR':'var_AVGR','AVGSTD':'var_AVGSTD','MAXR':'var_MAXR','MINR':'var_MINR','STDU':'var_STDU','MINU':'var_MINU','MAXU':'var_MAXU','rU':'var_RU', 'DISTS':'var_DISTS'}, inplace=True)\n",
    "#all_data = pix_data.merge(poly_data, left_on='OID_', right_on='OID_', how='left')\n",
    "all_data = pix_data.merge(poly_data, left_on='OID_orig', right_on='OID_', how='left')\n",
    "#all_data.drop(['LC17','LC2'], axis=1, inplace=True)\n",
    "df_in = pix_data.merge(LUT, left_on='Class', right_on='USE_NAME', how='left')\n",
    "#df_in = all_data.merge(LUT, left_on='Class', right_on='USE_NAME', how='left')\n",
    "#withinSeg = df_in[df_in['var_areaSeg'] > 0]\n",
    "#HO_base0 = df_in[['OID_','areaSeg','Class','LC17','TESTSET20']]\n",
    "#HO_base = HO_base0[(HO_base0['TESTSET20'] ==1)]\n",
    "#print(HO_base)\n",
    "#pd.DataFrame.to_csv(HO_base,'D:/NasaProject/Paraguay/ClassificationModels/RF/HO_base.csv', sep=',', na_rep='NaN', index=False)\n",
    "out_dir = 'D:/NasaProject/Paraguay/ClassificationModels/RF'\n",
    "PrepTestTrain(df_in, out_dir, 'All')"
   ]
  },
  {
   "cell_type": "code",
   "execution_count": null,
   "id": "61eca1f2",
   "metadata": {},
   "outputs": [],
   "source": [
    "out_dir = 'D:/NasaProject/Paraguay/ClassificationModels/RF'\n",
    "trainfeatures = 'D:/NasaProject/Paraguay/ClassificationModels/RF/All_TRAINING.csv'\n",
    "RF = MulticlassRF(trainfeatures, out_dir, 'LC17',None,29)"
   ]
  },
  {
   "cell_type": "code",
   "execution_count": null,
   "id": "7fa1f63f",
   "metadata": {},
   "outputs": [],
   "source": [
    "holdoutDF = 'D:/NasaProject/Paraguay/ClassificationModels/RF/RFSets/All_HOLDOUT.csv'\n",
    "HO = get_holdout_scores(holdoutDF, RF[0], out_dir)"
   ]
  },
  {
   "cell_type": "code",
   "execution_count": null,
   "id": "b570ad41",
   "metadata": {},
   "outputs": [],
   "source": [
    "print(HO)"
   ]
  },
  {
   "cell_type": "code",
   "execution_count": null,
   "id": "f02955e6",
   "metadata": {},
   "outputs": [],
   "source": [
    "HO['obs'] = HO['label'].apply(np.int64)\n",
    "HO['pred'] = HO['pred'].apply(np.int64)\n",
    "HO_clean = HO[['obs','pred','OID']]\n",
    "print(HO_clean)"
   ]
  },
  {
   "cell_type": "code",
   "execution_count": null,
   "id": "0fcca77c",
   "metadata": {},
   "outputs": [],
   "source": [
    "HO_clean\n",
    "#HOfinal = HO_clean.merge(HO_base, left_on='OID', right_on='OID_', how='left')\n",
    "pd.DataFrame.to_csv(HO_clean,'D:/NasaProject/Paraguay/ClassificationModels/RF/HO_Preds_8.csv', sep=',', na_rep='NaN', index=False)\n"
   ]
  },
  {
   "cell_type": "code",
   "execution_count": null,
   "id": "68f1e3e3",
   "metadata": {},
   "outputs": [],
   "source": []
  }
 ],
 "metadata": {
  "kernelspec": {
   "display_name": "Python 3 (ipykernel)",
   "language": "python",
   "name": "python3"
  },
  "language_info": {
   "codemirror_mode": {
    "name": "ipython",
    "version": 3
   },
   "file_extension": ".py",
   "mimetype": "text/x-python",
   "name": "python",
   "nbconvert_exporter": "python",
   "pygments_lexer": "ipython3",
   "version": "3.8.15"
  }
 },
 "nbformat": 4,
 "nbformat_minor": 5
}
