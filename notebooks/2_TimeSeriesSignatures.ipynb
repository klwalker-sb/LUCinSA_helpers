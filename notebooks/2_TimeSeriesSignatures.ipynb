{
 "cells": [
  {
   "cell_type": "markdown",
   "id": "a9bbbf31",
   "metadata": {},
   "source": [
    "# Time-series signatures from raw brdf imagery / smoothed ts outputs"
   ]
  },
  {
   "cell_type": "code",
   "execution_count": null,
   "id": "a7945893",
   "metadata": {},
   "outputs": [],
   "source": [
    "import os\n",
    "import sys\n",
    "from pathlib import Path\n",
    "import rasterio as rio\n",
    "from rasterio import plot\n",
    "import shutil\n",
    "import tempfile\n",
    "import json\n",
    "import random\n",
    "import datetime\n",
    "import numpy as np\n",
    "import pandas as pd\n",
    "import geopandas as gpd\n",
    "import xarray as xr\n",
    "from pyproj import Proj, transform\n",
    "from pyproj import CRS\n",
    "from shapely.geometry import box\n",
    "from shapely.geometry import shape\n",
    "from shapely.geometry import MultiPoint\n",
    "from shapely.geometry import Point\n",
    "from shapely.geometry import Polygon\n",
    "from rasterio.plot import show\n",
    "import matplotlib\n",
    "import matplotlib.pyplot as plt\n",
    "from matplotlib.lines import Line2D\n",
    "%matplotlib notebook"
   ]
  },
  {
   "cell_type": "code",
   "execution_count": null,
   "id": "2592e8b6",
   "metadata": {},
   "outputs": [],
   "source": [
    "sys.path.append(r\"../LUCinSA_helpers\")\n",
    "from ts_profile import *\n",
    "from ts_composite import *"
   ]
  },
  {
   "cell_type": "code",
   "execution_count": null,
   "id": "e34215f1",
   "metadata": {},
   "outputs": [],
   "source": [
    "##### Note: \n",
    "###  Notebook is housed on login node; time series calculations shold not be run on login node (and take a long time anyway). \n",
    "###  Better to install on cluster, run GettimeSeries.sh in Bash folder and copy output file path to parameters \n",
    "###  to read with `LoadTSfromFile(TSfile)` to load time series here for plotting.\n",
    "\n",
    "###TODO: Enable editing Bash script to run through Slurm via this notebook directly"
   ]
  },
  {
   "cell_type": "code",
   "execution_count": null,
   "id": "f58c6033",
   "metadata": {},
   "outputs": [],
   "source": [
    "'''\n",
    "PARAMETERS: modify in Notebook_settings notebook, then run that notebook and this cell to update here\n",
    "DO not modify this cell\n",
    "'''\n",
    "\n",
    "%store -r basic_config\n",
    "print(\"Run Parameters: \\n raw_dir = {} \\n  index_dir = {} \\n local_dir = {} \\n grid_cell = {} \\n years = {} \\n spec_index = {}\"\n",
    "      .format(basic_config['raw_dir'],basic_config['index_dir'], basic_config['local_dir'], basic_config['grid_cell'],\n",
    "             basic_config['yr_range'], basic_config['spec_index']))\n",
    "%store -r plot_params\n",
    "%store -r timeseries_params\n",
    "print('filter class: {}'.format(timeseries_params['filter_class']))\n",
    "if timeseries_params['load_prerunTS'] == True:\n",
    "    print(\" Smooth TS loaded from {}\".format(timeseries_params['smooth_TSfile']))\n",
    "    print(\" Raw TS loaded from {}\".format(timeseries_params['raw_TSfile']))\n",
    "elif timeseries_params['load_samp']==True:\n",
    "    print(\"using point_file: {}\".format(basic_config['ptfile']))\n",
    "else:\n",
    "    print(\"using poly_file: {}\".format(basic_config['polyfile']))\n",
    "    "
   ]
  },
  {
   "cell_type": "code",
   "execution_count": null,
   "id": "2e7dc31e",
   "metadata": {},
   "outputs": [],
   "source": [
    "if plot_params['interactive'] == True:\n",
    "    from ipywidgets import Label\n",
    "    from ipyleaflet  import Map, GeoData, basemaps, LayersControl, ImageOverlay, Marker, Popup\n",
    "    from localtileserver import get_leaflet_tile_layer, TileClient\n",
    "    from plot_interactive import *"
   ]
  },
  {
   "cell_type": "code",
   "execution_count": null,
   "id": "3ab5f2fb",
   "metadata": {},
   "outputs": [],
   "source": [
    "#natpts = get_pts_in_grid(basic_config['grid_file'], basic_config['grid_cell'], basic_config['ptfile'])\n",
    "#natpts.head(n=5)"
   ]
  },
  {
   "cell_type": "markdown",
   "id": "ee5cb449",
   "metadata": {},
   "source": [
    "## Plot smooth time series"
   ]
  },
  {
   "cell_type": "code",
   "execution_count": null,
   "id": "86be5728",
   "metadata": {},
   "outputs": [],
   "source": [
    "#smooth = load_ts_from_file('../samp_data/ts_3737_rice')\n",
    "\n",
    "# If time series is already saved to file, load it here\n",
    "if timeseries_params['load_prerunTS'] == True:\n",
    "    if timeseries_params['smooth_TSfile']:\n",
    "        smooth = load_ts_from_file(timeseries_params['smooth_TSfile'])\n",
    "        \n",
    "## Else generate time series for selected coordinates,sample points (if load_samp parameter == True), \n",
    "## or random points in sample polygons\n",
    "\n",
    "else:\n",
    "    if str(basic_config['ptfile']).endswith('SelectedCoords.csv'):\n",
    "        gcells = [basic_config['grid_cell']]\n",
    "        load_samp = True\n",
    "        filter_class = None\n",
    "    else:\n",
    "        gcells = basic_config['grid_cells']\n",
    "        load_samp=timeseries_params['load_samp']\n",
    "        ## for point sample, can filter on Class column to restrict sample to a certain land cover type\n",
    "        filter_class = timeseries_params['filter_class'] \n",
    "        \n",
    "    smooth = get_timeseries_for_pts_multicell(basic_config['local_dir'], basic_config['spec_index'], \n",
    "                                              timeseries_params['start_yr'], timeseries_params['end_yr'],\n",
    "                                              basic_config['smooth_dir'], 'Smooth', basic_config['grid_file'], gcells, \n",
    "                                              polyfile=basic_config['polyfile'], oldest=timeseries_params['oldest_samp'],\n",
    "                                              newest=timeseries_params['newest_samp'], npts=timeseries_params['npts'], \n",
    "                                              seed=timeseries_params['seed1'], load_samp = load_samp, ptfile=basic_config['ptfile'], \n",
    "                                              filter_class = filter_class)"
   ]
  },
  {
   "cell_type": "code",
   "execution_count": null,
   "id": "7dccc64a",
   "metadata": {},
   "outputs": [],
   "source": [
    "pd.DataFrame.to_csv(smooth, '../samp_data/ts_3737_rice', sep=',', na_rep='NaN')\n",
    "print(smooth)"
   ]
  },
  {
   "cell_type": "code",
   "execution_count": null,
   "id": "26d7668f",
   "metadata": {},
   "outputs": [],
   "source": [
    "smooth = smooth[smooth['ALL'] != 0]\n",
    "\n",
    "fig = plt.figure(figsize=(10, 5))\n",
    "plt.errorbar(smooth.index, smooth['ALL'], yerr=smooth['stdv'], fmt='o', color='k')\n",
    "#plt.errorbar(raw.index, raw['ALL'], yerr=raw['stdv'], fmt='o', color='g')\n",
    "plt.title('Smoothed {} for sample {}-{}'.format(basic_config['spec_index'],timeseries_params['start_yr'],timeseries_params['end_yr']))\n",
    "plt.ylim(0,7000)\n",
    "plt.show();"
   ]
  },
  {
   "cell_type": "code",
   "execution_count": null,
   "id": "933b963b",
   "metadata": {},
   "outputs": [],
   "source": [
    "smooth = smooth[smooth['ALL'] != 0]\n",
    "\n",
    "fig = plt.figure(figsize=(10, 5))\n",
    "for r in range(smooth.shape[0]):\n",
    "    line, = plt.plot(smooth.index, smooth[r], color=(random.uniform(0, 1), random.uniform(0, 1), random.uniform(0, 1)), label=r,  picker=True, pickradius=5)\n",
    "\n",
    "text = plt.text(0,0,\"\")\n",
    "check_pts = []\n",
    "def onpick(event):\n",
    "    thisline = event.artist\n",
    "    ind = event.ind\n",
    "    xdata = thisline.get_xdata()\n",
    "    ydata = thisline.get_ydata()\n",
    "    text.set_position((xdata[ind], ydata[ind]))\n",
    "    text.set_text(event.artist.get_label())\n",
    "    check_pts.append(event.artist.get_label())\n",
    "\n",
    "fig.canvas.mpl_connect('pick_event', onpick)\n",
    "\n",
    "plt.plot(smooth.index, smooth['ALL'], color='black', linewidth=7.0)\n",
    "plt.title('Smoothed {} for {} sample points {}-{}'.format(basic_config['spec_index'],timeseries_params['filter_class'],timeseries_params['start_yr'],timeseries_params['end_yr']))\n",
    "plt.ylim(0,7000)\n",
    "plt.show()"
   ]
  },
  {
   "cell_type": "code",
   "execution_count": null,
   "id": "97788ada",
   "metadata": {},
   "outputs": [],
   "source": [
    "print(check_pts)"
   ]
  },
  {
   "cell_type": "code",
   "execution_count": null,
   "id": "60be2ba8",
   "metadata": {},
   "outputs": [],
   "source": [
    "si_vars = ['maxv_yr','minv_yr','amp_yr']\n",
    "#si_vars = ['Nov_20','Dec_20','Feb_20']\n",
    "\n",
    "comp_dir = os.path.join(basic_config['smooth_dir'],'{:06d}'.format(basic_config['grid_cell']),'comp')\n",
    "comp_path = os.path.join(comp_dir,'{:06d}_{}_{}_{}{}{}.tif'.format(basic_config['grid_cell'],basic_config['filter_yr'],\n",
    "                                                                  basic_config['spec_index'],si_vars[0],si_vars[1],si_vars[2]))\n",
    "if Path(comp_path).exists():\n",
    "    print('comp already exists')\n",
    "    comp = comp_path\n",
    "else:\n",
    "    comp = make_ts_composite(basic_config['grid_cell'],basic_config['index_dir'],comp_dir,basic_config['filter_yr'],\n",
    "                             timeseries_params['start_mo'],basic_config['spec_index'],si_vars)"
   ]
  },
  {
   "cell_type": "code",
   "execution_count": null,
   "id": "41d6d348",
   "metadata": {},
   "outputs": [],
   "source": [
    "point_df = pd.read_csv(basic_config['ptfile'], index_col=0)\n",
    "selpts = point_df[point_df['Class']==timeseries_params['filter_class']]\n",
    "ptsdf = get_pts_in_grid (basic_config['grid_file'], basic_config['grid_cell'], selpts)\n",
    "ptsdf.reset_index(drop=False, inplace=True)\n",
    "ptsdf_ll = ptsdf.to_crs(\"EPSG:4326\")"
   ]
  },
  {
   "cell_type": "code",
   "execution_count": null,
   "id": "70f36cd9",
   "metadata": {},
   "outputs": [],
   "source": [
    "tile_client = TileClient(comp,port=5554)\n",
    "m = Map(center=tile_client.center(), zoom=12, basemap=basemaps.Esri.WorldImagery)\n",
    "t = get_leaflet_tile_layer(tile_client, band=[3,2,1])\n",
    "#m.add_layer(t)\n",
    "\n",
    "pts_data = GeoData(geo_dataframe = ptsdf_ll, style={'color': 'black', 'radius':3, 'fillColor': 'yellow'},\n",
    "    point_style={'radius': 5}, name = 'OID_')\n",
    "m.add(pts_data)\n",
    "\n",
    "for i in check_pts:\n",
    "    # Get the coordinates and place name from the feature properties\n",
    "    coords = ptsdf_ll['geometry'].iloc[int(i)]\n",
    "    place_name = ptsdf_ll['OID_'].iloc[int(i)]\n",
    "    marker = Marker(location = [coords.y,coords.x])\n",
    "    popup = Popup(\n",
    "        location=[coords.y,coords.x],\n",
    "        close_button=False,\n",
    "        auto_close=False,\n",
    "        close_on_click=False,\n",
    "        close_on_escape_key=False,\n",
    "        )\n",
    "    popup.children = \"{}:OID={} coords={},{}\".format(i,place_name,coords.y,coords.x)\n",
    "    print(popup.children)\n",
    "    message=Label()\n",
    "    message.value = popup.children\n",
    "    marker.popup = message\n",
    "    m.add_layer(marker)\n",
    "    \n",
    "m.add(LayersControl())\n",
    "display(m)"
   ]
  },
  {
   "cell_type": "markdown",
   "id": "7f244eb0",
   "metadata": {},
   "source": [
    "## Examine phenology variables for a time series"
   ]
  },
  {
   "cell_type": "code",
   "execution_count": null,
   "id": "faa4e02a",
   "metadata": {},
   "outputs": [],
   "source": [
    "comp_dir = os.path.join(basic_config['smooth_dir'],'{:06d}'.format(basic_config['grid_cell']),'comp/{}'.format( basic_config['spec_index']))\n",
    "temp = 'wet'\n",
    "phen_bands = [f'maxv_{temp}',f'maxd_{temp}',f'sosd_{temp}',f'sosv_{temp}',f'eosd_{temp}',f'eosv_{temp}',f'rog_{temp}',f'ros_{temp}',f'los_{temp}']\n",
    "comp_path = os.path.join(comp_dir,'{:06d}_{}_{}_Phen{}.tif'.format(basic_config['grid_cell'],basic_config['filter_yr'],\n",
    "                                                                   basic_config['spec_index'],temp))\n",
    "if Path(comp_path).exists():\n",
    "    print('comp already exists')\n",
    "    phen_comp = comp_path\n",
    "else:\n",
    "    phen_comp = make_ts_composite(basic_config['grid_cell'], basic_config['index_dir'],\n",
    "                                      comp_dir,basic_config['filter_yr'],timeseries_params['start_mo'],\n",
    "                                      basic_config['spec_index'],phen_bands)"
   ]
  },
  {
   "cell_type": "code",
   "execution_count": null,
   "id": "e8acbdbe",
   "metadata": {},
   "outputs": [],
   "source": [
    "#[maxv_wet', 'maxd_wet', 'sosv_wet', 'sosd_wet', 'rog_wet', 'eosv_wet', 'eosd_wet', 'ros_wet', 'los_wet']\n",
    "vals = get_values_at_coords(ptsdf, plot_params['inputCRS'], phen_comp,\n",
    "                           ['maxv_wet', 'maxd_wet', 'sosv_wet', 'sosd_wet', 'rog_wet', 'eosv_wet', 'eosd_wet', 'ros_wet', 'los_wet'])\n",
    "print(vals)        "
   ]
  },
  {
   "cell_type": "code",
   "execution_count": null,
   "id": "11030bdc",
   "metadata": {},
   "outputs": [],
   "source": [
    "print(vals.at[12,'sosd_wet'])"
   ]
  },
  {
   "cell_type": "code",
   "execution_count": null,
   "id": "aff7a0d1",
   "metadata": {},
   "outputs": [],
   "source": [
    "samppt = 7\n",
    "if vals.at[samppt,'sosd_wet'] < 366:\n",
    "    sosd = datetime.datetime(basic_config['filter_yr'], 1, 1) + datetime.timedelta(int(vals.at[samppt,'sosd_wet']) - 1)\n",
    "else:\n",
    "    sosd = datetime.datetime(basic_config['filter_yr'] + 1, 1, 1) + datetime.timedelta(int(vals.at[samppt,'sosd_wet'] -365))  \n",
    "sosv = int(vals.at[samppt,'sosv_wet'])\n",
    "\n",
    "if vals.at[samppt,'eosd_wet'] < 366:\n",
    "    eosd = datetime.datetime(basic_config['filter_yr'], 1, 1) + datetime.timedelta(int(vals.at[samppt,'eosd_wet']) - 1)\n",
    "else:\n",
    "    eosd = datetime.datetime(basic_config['filter_yr'] + 1, 1, 1) + datetime.timedelta(int(vals.at[samppt,'eosd_wet'] -365))\n",
    "eosv = int(vals.at[samppt,'eosv_wet'])\n",
    "\n",
    "if vals.at[samppt,'maxd_wet'] < 366:\n",
    "    posd = datetime.datetime(basic_config['filter_yr'], 1, 1) + datetime.timedelta(int(vals.at[samppt,'maxd_wet']) - 1)\n",
    "else:\n",
    "    posd = datetime.datetime(basic_config['filter_yr'] + 1, 1, 1) + datetime.timedelta(int(vals.at[samppt,'maxd_wet'] - 365))\n",
    "posv = int(vals.at[samppt,'maxv_wet'])\n",
    "\n",
    "fig = plt.figure(figsize=(10, 5))\n",
    "plt.plot(smooth.index, smooth[samppt], color='black', linewidth=1.0)\n",
    "plt.plot(sosd,sosv,'ro')\n",
    "plt.annotate('SOS', xy=(sosd,sosv-300))\n",
    "plt.plot(eosd,eosv,'ro')\n",
    "plt.annotate('EOS', xy=(eosd,eosv-400))\n",
    "plt.plot(posd,posv,'ro')\n",
    "plt.annotate('POS', xy=(posd,posv+200))\n",
    "x = [sosd, eosd]\n",
    "y = [sosv, sosv]\n",
    "plt.plot(x, y, 'r')\n",
    "avgd = (eosd - sosd) / 2\n",
    "plt.annotate('LOS',xy=(sosd + avgd, sosv + 300))\n",
    "plt.title('Example of smoothed {} curve with phenology points'.format(basic_config['spec_index']))\n",
    "plt.ylim(0,7000)\n",
    "plt.show()"
   ]
  },
  {
   "cell_type": "code",
   "execution_count": null,
   "id": "3a4e7094",
   "metadata": {},
   "outputs": [],
   "source": []
  },
  {
   "cell_type": "markdown",
   "id": "1caad205",
   "metadata": {},
   "source": [
    "## To compare two smoothed time-series (i.e. with different parameters)\n",
    "One is in the regular time_series folder called 'brdf_ts/ms/index' and the other is in folder called 'brdf_ts_old/ms/index'  "
   ]
  },
  {
   "cell_type": "code",
   "execution_count": null,
   "id": "09f924b9",
   "metadata": {},
   "outputs": [],
   "source": [
    "if not os.path.exists(os.path.join(basic_config['smooth_dir'],'{:06d}'.format(basic_config['grid_cell']),'brdf_ts_old','ms',basic_config['spec_index'])):\n",
    "    print('There is no old time series to compare')\n",
    "else:\n",
    "    if basic_config['ptfile'].endswith('SelectedCoords.csv'):\n",
    "        gcells = [basic_config['grid_cell']]\n",
    "        load_samp = True\n",
    "    else:\n",
    "        gcells = basic_config['grid_cells']\n",
    "        load_samp=timeseries_params['load_samp']\n",
    "        \n",
    "    old = get_timeseries_for_pts_multicell(basic_config['local_dir'], basic_config['spec_index'], timeseries_params['start_yr'], timeseries_params['end_yr'],\n",
    "            basic_config['smooth_dir'], 'Smooth_old', basic_config['grid_file'], gcells, \n",
    "            ground_polys=basic_config['polyfile'], oldest=timeseries_params['oldest_samp'], newest=timeseries_params['newest_samp'],\n",
    "            npts=timeseries_params['npts'], seed=timeseries_params['seed1'], load_samp, basic_config['ptfile'])\n",
    "\n",
    "    old = old[old['ALL'] != 0]\n",
    "\n",
    "    fig = plt.figure(figsize=(10, 5))\n",
    "    plt.errorbar(smooth.index, smooth['ALL'], yerr=smooth['stdv'], fmt='o', color='k')\n",
    "    plt.errorbar(old.index, old['ALL'], yerr=old['stdv'], fmt='o', color='g')\n",
    "    plt.title('New vs old smoothed ts {} for sample {}-{}'.format(basic_config['spec_index'],timeseries_params['start_yr'],timeseries_params['end_yr']))\n",
    "    plt.ylim(0,7000)\n",
    "    plt.show();"
   ]
  },
  {
   "cell_type": "markdown",
   "id": "a27ae54c",
   "metadata": {},
   "source": [
    "## Plot raw time series"
   ]
  },
  {
   "cell_type": "code",
   "execution_count": null,
   "id": "0b96c626",
   "metadata": {},
   "outputs": [],
   "source": [
    "if timeseries_params['load_prerunTS'] == True:\n",
    "    if timeseries_params['raw_TSfile']:\n",
    "        raw = load_TSfromFile(timeseries_params['raw_TSfile'])\n",
    "else:\n",
    "    raw = get_timeseries_for_pts_multicell(basic_config['home_dir'], basic_config['spec_index'], timeseries_params['start_yr'], timeseries_params['end_yr'],\n",
    "            basic_config['raw_dir'], timeseries_params['image_type'], basic_config['grid_file'], timeseries_params['grid_cells'], \n",
    "            ground_polys=basic_config['polyfile'], oldest=timeseries_params['oldest_samp'], newest=timeseries_params['newest_samp'],\n",
    "            npts=timeseries_params['npts'], seed=timeseries_params['seed1'], load_samp=timeseries_params['load_samp'], ptfile=basic_config['ptfile'])"
   ]
  },
  {
   "cell_type": "code",
   "execution_count": null,
   "id": "d72767fc",
   "metadata": {},
   "outputs": [],
   "source": [
    "raw = raw[raw['ALL'] != 0]\n",
    "\n",
    "fig = plt.figure(figsize=(10, 5))\n",
    "#plt.errorbar(smooth.index, smooth['ALL'], yerr=smooth['stdv'], fmt='o', color='k')\n",
    "plt.errorbar(raw.index, raw['ALL'], yerr=raw['stdv'], fmt='o', color='g')\n",
    "plt.title('Raw {} for sample points {}-{}'.format(basic_config['spec_index'], timeseries_params['start_yr'],timeseries_params['end_yr']))\n",
    "plt.show()"
   ]
  },
  {
   "cell_type": "markdown",
   "id": "a704229b",
   "metadata": {},
   "source": [
    "## To plot a timeseries for each polygon in file:"
   ]
  },
  {
   "cell_type": "code",
   "execution_count": null,
   "id": "3e035105",
   "metadata": {},
   "outputs": [],
   "source": [
    "smooth = get_timeseries_for_pts_multicell(basic_config['home_dir'], basic_config['spec_index'], timeseries_params['start_yr'], timeseries_params['end_yr'],\n",
    "            basic_config['smooth_dir'], 'Smooth', basic_config['grid_file'], timeseries_params['grid_cells'], \n",
    "            ground_polys=basic_config['polyfile'], oldest=timeseries_params['oldest_samp'], newest=timeseries_params['newest_samp'],\n",
    "            npts=timeseries_params['npts'], seed=timeseries_params['seed1'], load_samp=timeseries_params['load_samp'], basic_config['ptfile'])"
   ]
  },
  {
   "cell_type": "code",
   "execution_count": null,
   "id": "c878b126",
   "metadata": {},
   "outputs": [],
   "source": [
    "smooth"
   ]
  },
  {
   "cell_type": "code",
   "execution_count": null,
   "id": "a24b507e",
   "metadata": {},
   "outputs": [],
   "source": [
    "smooth = smooth[smooth['ALL'] != 0]\n",
    "\n",
    "fig = plt.figure(figsize=(10, 5))\n",
    "#plt.errorbar(smooth.index, smooth['ALL'], yerr=smooth['stdv'], fmt='o', color='k')\n",
    "plt.plot(smooth.index, smooth[22], color='k')\n",
    "#plt.errorbar(raw.index, raw['ALL'], yerr=raw['stdv'], fmt='o', color='g')\n",
    "plt.title('Smoothed {} for natural forest points {}-{}'.format(basic_config['spec_index'],timeseries_params['start_yr'],timeseries_params['end_yr']))\n",
    "plt.show();"
   ]
  },
  {
   "cell_type": "markdown",
   "id": "c1f39cdb",
   "metadata": {},
   "source": [
    "## To save an html copy of this notebook with all outputs:"
   ]
  },
  {
   "cell_type": "code",
   "execution_count": null,
   "id": "531c59b8",
   "metadata": {},
   "outputs": [],
   "source": [
    "### Run to print output as html\n",
    "\n",
    "out_name = str(basic_config['country']+'2_TimeSeries'+str(basic_config['grid_cell'])+'_from_'+str(timeseries_params['start_yr'])+'_to_'+str(timeseries_params['end_yr']))\n",
    "!jupyter nbconvert --output-dir='../outputs' --to html --no-input --output=$out_name 2_TimeSeriesSignatures.ipynb"
   ]
  },
  {
   "cell_type": "code",
   "execution_count": null,
   "id": "2e6bfcc2",
   "metadata": {},
   "outputs": [],
   "source": []
  }
 ],
 "metadata": {
  "kernelspec": {
   "display_name": "Python 3 (ipykernel)",
   "language": "python",
   "name": "python3"
  },
  "language_info": {
   "codemirror_mode": {
    "name": "ipython",
    "version": 3
   },
   "file_extension": ".py",
   "mimetype": "text/x-python",
   "name": "python",
   "nbconvert_exporter": "python",
   "pygments_lexer": "ipython3",
   "version": "3.8.15"
  }
 },
 "nbformat": 4,
 "nbformat_minor": 5
}
