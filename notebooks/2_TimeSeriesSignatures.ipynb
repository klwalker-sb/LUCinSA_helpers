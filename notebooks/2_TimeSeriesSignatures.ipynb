{
 "cells": [
  {
   "cell_type": "markdown",
   "id": "a9bbbf31",
   "metadata": {},
   "source": [
    "# Time-series signatures from raw brdf imagery / smoothed ts outputs"
   ]
  },
  {
   "cell_type": "code",
   "execution_count": null,
   "id": "a7945893",
   "metadata": {},
   "outputs": [],
   "source": [
    "import os\n",
    "import sys\n",
    "from pathlib import Path\n",
    "import rasterio as rio\n",
    "from rasterio import plot\n",
    "import matplotlib.pyplot as plt\n",
    "import shutil\n",
    "import tempfile\n",
    "import json\n",
    "import random\n",
    "import datetime\n",
    "import numpy as np\n",
    "import pandas as pd\n",
    "import geopandas as gpd\n",
    "from pyproj import Proj, transform\n",
    "from pyproj import CRS\n",
    "from shapely.geometry import box\n",
    "from shapely.geometry import shape\n",
    "from shapely.geometry import MultiPoint\n",
    "from shapely.geometry import Point\n",
    "from shapely.geometry import Polygon\n",
    "from rasterio.plot import show\n",
    "import xarray as xr\n",
    "\n",
    "%matplotlib inline"
   ]
  },
  {
   "cell_type": "code",
   "execution_count": null,
   "id": "2592e8b6",
   "metadata": {},
   "outputs": [],
   "source": [
    "sys.path.append(r\"../LUCinSA_helpers\")\n",
    "module_path = os.path.abspath(os.path.join('.'))\n",
    "if module_path not in sys.path:\n",
    "    sys.path.append(module_path)\n",
    "    \n",
    "from ts_profile import *"
   ]
  },
  {
   "cell_type": "code",
   "execution_count": null,
   "id": "e34215f1",
   "metadata": {},
   "outputs": [],
   "source": [
    "##### Note: \n",
    "###  Notebook is housed on login node; time series calculations shold not be run on login node (and take a long time anyway). \n",
    "###  Better to install on cluster, run GettimeSeries.sh in Bash folder and copy output file path to parameters \n",
    "###  to read with `LoadTSfromFile(TSfile)` to load time series here for plotting.\n",
    "\n",
    "###TODO: Enable editing Bash script to run through Slurm via this notebook directly"
   ]
  },
  {
   "cell_type": "code",
   "execution_count": null,
   "id": "f58c6033",
   "metadata": {},
   "outputs": [],
   "source": [
    "'''\n",
    "PARAMETERS: modify in Notebook_settings notebook, then run that notebook and this cell to update here\n",
    "DO not modify this cell\n",
    "'''\n",
    "\n",
    "%store -r basic_config\n",
    "print(\"Run Parameters: \\n raw_dir = {} \\n grid_cell = {} \\n index_dir = {} \\n grid_file = {} \\n local_dir = {}\"\n",
    "      .format(basic_config['raw_dir'],basic_config['grid_cell'],basic_config['index_dir'],basic_config['grid_file'],basic_config['local_dir']))\n",
    "%store -r timeseries_params\n",
    "print(\" point_file = {}\".format(basic_config['ptfile']))\n",
    "print(\" poly_file = {}\".format(basic_config['polyfile']))\n",
    "if timeseries_params['load_prerunTS'] == True:\n",
    "    print(\" Smooth TS loaded from {}\".format(timeseries_params['smooth_TSfile']))\n",
    "    print(\" Raw TS loaded from {}\".format(timeseries_params['raw_TSfile']))\n",
    "    "
   ]
  },
  {
   "cell_type": "code",
   "execution_count": null,
   "id": "3ab5f2fb",
   "metadata": {},
   "outputs": [],
   "source": [
    "natpts = get_pts_in_grid(basic_config['grid_file'], basic_config['grid_cell'], basic_config['ptfile'])\n",
    "natpts.head(n=5)"
   ]
  },
  {
   "cell_type": "markdown",
   "id": "ee5cb449",
   "metadata": {},
   "source": [
    "## Plot smooth time series"
   ]
  },
  {
   "cell_type": "code",
   "execution_count": null,
   "id": "86be5728",
   "metadata": {},
   "outputs": [],
   "source": [
    "if timeseries_params['load_prerunTS'] == True:\n",
    "    if timeseries_params['smooth_TSfile']:\n",
    "        smooth = load_ts_from_file(timeseries_params['smooth_TSfile'])\n",
    "else:\n",
    "    if basic_config['ptfile'].endswith('SelectedCoords.csv'):\n",
    "        gcells = [basic_config['grid_cell']]\n",
    "        load_samp = True\n",
    "    else:\n",
    "        gcells = basic_config['grid_cells']\n",
    "        load_samp=timeseries_params['load_samp']\n",
    "        \n",
    "    smooth = get_timeseries_for_pts_multicell(basic_config['local_dir'], basic_config['spec_index'], timeseries_params['start_yr'], timeseries_params['end_yr'],\n",
    "            basic_config['smooth_dir'], 'Smooth', basic_config['grid_file'], gcells, \n",
    "             ground_polys=basic_config['polyfile'], oldest=timeseries_params['oldest_samp'], newest=timeseries_params['newest_samp'],\n",
    "            npts=timeseries_params['npts'], seed=timeseries_params['seed1'], load_samp = load_samp, ptfile=basic_config['ptfile'])"
   ]
  },
  {
   "cell_type": "code",
   "execution_count": null,
   "id": "26d7668f",
   "metadata": {},
   "outputs": [],
   "source": [
    "smooth = smooth[smooth['ALL'] != 0]\n",
    "\n",
    "fig = plt.figure(figsize=(10, 5))\n",
    "plt.errorbar(smooth.index, smooth['ALL'], yerr=smooth['stdv'], fmt='o', color='k')\n",
    "#plt.errorbar(raw.index, raw['ALL'], yerr=raw['stdv'], fmt='o', color='g')\n",
    "plt.title('Smoothed {} for sample {}-{}'.format(basic_config['spec_index'],timeseries_params['start_yr'],timeseries_params['end_yr']))\n",
    "plt.ylim(0,7000)\n",
    "plt.show();"
   ]
  },
  {
   "cell_type": "markdown",
   "id": "1caad205",
   "metadata": {},
   "source": [
    "## To compare two smoothed time-series (i.e. with different parameters)\n",
    "One is in the regular time_series folder called 'brdf_ts/ms/index' and the other is in folder called 'brdf_ts_old/ms/index'  "
   ]
  },
  {
   "cell_type": "code",
   "execution_count": null,
   "id": "09f924b9",
   "metadata": {},
   "outputs": [],
   "source": [
    "if not os.path.exists(os.path.join(basic_config['smooth_dir'],'{:06d}'.format(basic_config['grid_cell']),'brdf_ts_old','ms',basic_config['spec_index'])):\n",
    "    print('There is no old time series to compare')\n",
    "else:\n",
    "    if basic_config['ptfile'].endswith('SelectedCoords.csv'):\n",
    "        gcells = [basic_config['grid_cell']]\n",
    "        load_samp = True\n",
    "    else:\n",
    "        gcells = basic_config['grid_cells']\n",
    "        load_samp=timeseries_params['load_samp']\n",
    "        \n",
    "    old = get_timeseries_for_pts_multicell(basic_config['local_dir'], basic_config['spec_index'], timeseries_params['start_yr'], timeseries_params['end_yr'],\n",
    "            basic_config['smooth_dir'], 'Smooth_old', basic_config['grid_file'], gcells, \n",
    "            ground_polys=basic_config['polyfile'], oldest=timeseries_params['oldest_samp'], newest=timeseries_params['newest_samp'],\n",
    "            npts=timeseries_params['npts'], seed=timeseries_params['seed1'], load_samp, basic_config['ptfile'])\n",
    "\n",
    "    old = old[old['ALL'] != 0]\n",
    "\n",
    "    fig = plt.figure(figsize=(10, 5))\n",
    "    plt.errorbar(smooth.index, smooth['ALL'], yerr=smooth['stdv'], fmt='o', color='k')\n",
    "    plt.errorbar(old.index, old['ALL'], yerr=old['stdv'], fmt='o', color='g')\n",
    "    plt.title('New vs old smoothed ts {} for sample {}-{}'.format(basic_config['spec_index'],timeseries_params['start_yr'],timeseries_params['end_yr']))\n",
    "    plt.ylim(0,7000)\n",
    "    plt.show();"
   ]
  },
  {
   "cell_type": "markdown",
   "id": "a27ae54c",
   "metadata": {},
   "source": [
    "## Plot raw time series"
   ]
  },
  {
   "cell_type": "code",
   "execution_count": null,
   "id": "0b96c626",
   "metadata": {},
   "outputs": [],
   "source": [
    "if timeseries_params['load_prerunTS'] == True:\n",
    "    if timeseries_params['raw_TSfile']:\n",
    "        raw = load_TSfromFile(timeseries_params['raw_TSfile'])\n",
    "else:\n",
    "    raw = get_timeseries_for_pts_multicell(basic_config['home_dir'], basic_config['spec_index'], timeseries_params['start_yr'], timeseries_params['end_yr'],\n",
    "            basic_config['raw_dir'], timeseries_params['image_type'], basic_config['grid_file'], timeseries_params['grid_cells'], \n",
    "            ground_polys=basic_config['polyfile'], oldest=timeseries_params['oldest_samp'], newest=timeseries_params['newest_samp'],\n",
    "            npts=timeseries_params['npts'], seed=timeseries_params['seed1'], load_samp=timeseries_params['load_samp'], ptfile=basic_config['ptfile'])"
   ]
  },
  {
   "cell_type": "code",
   "execution_count": null,
   "id": "d72767fc",
   "metadata": {},
   "outputs": [],
   "source": [
    "raw = raw[raw['ALL'] != 0]\n",
    "\n",
    "fig = plt.figure(figsize=(10, 5))\n",
    "#plt.errorbar(smooth.index, smooth['ALL'], yerr=smooth['stdv'], fmt='o', color='k')\n",
    "plt.errorbar(raw.index, raw['ALL'], yerr=raw['stdv'], fmt='o', color='g')\n",
    "plt.title('Raw {} for sample points {}-{}'.format(basic_config['spec_index'], timeseries_params['start_yr'],timeseries_params['end_yr']))\n",
    "plt.show()"
   ]
  },
  {
   "cell_type": "markdown",
   "id": "a704229b",
   "metadata": {},
   "source": [
    "## To plot a timeseries for each polygon in file:"
   ]
  },
  {
   "cell_type": "code",
   "execution_count": null,
   "id": "3e035105",
   "metadata": {},
   "outputs": [],
   "source": [
    "smooth = get_timeseries_for_pts_multicell(basic_config['home_dir'], basic_config['spec_index'], timeseries_params['start_yr'], timeseries_params['end_yr'],\n",
    "            basic_config['smooth_dir'], 'Smooth', basic_config['grid_file'], timeseries_params['grid_cells'], \n",
    "            ground_polys=basic_config['polyfile'], oldest=timeseries_params['oldest_samp'], newest=timeseries_params['newest_samp'],\n",
    "            npts=timeseries_params['npts'], seed=timeseries_params['seed1'], load_samp=timeseries_params['load_samp'], basic_config['ptfile'])"
   ]
  },
  {
   "cell_type": "code",
   "execution_count": null,
   "id": "c878b126",
   "metadata": {},
   "outputs": [],
   "source": [
    "smooth"
   ]
  },
  {
   "cell_type": "code",
   "execution_count": null,
   "id": "a24b507e",
   "metadata": {},
   "outputs": [],
   "source": [
    "smooth = smooth[smooth['ALL'] != 0]\n",
    "\n",
    "fig = plt.figure(figsize=(10, 5))\n",
    "#plt.errorbar(smooth.index, smooth['ALL'], yerr=smooth['stdv'], fmt='o', color='k')\n",
    "plt.plot(smooth.index, smooth[22], color='k')\n",
    "#plt.errorbar(raw.index, raw['ALL'], yerr=raw['stdv'], fmt='o', color='g')\n",
    "plt.title('Smoothed {} for natural forest points {}-{}'.format(basic_config['spec_index'],timeseries_params['start_yr'],timeseries_params['end_yr']))\n",
    "plt.show();"
   ]
  },
  {
   "cell_type": "markdown",
   "id": "c1f39cdb",
   "metadata": {},
   "source": [
    "## To save an html copy of this notebook with all outputs:"
   ]
  },
  {
   "cell_type": "code",
   "execution_count": null,
   "id": "531c59b8",
   "metadata": {},
   "outputs": [],
   "source": [
    "### Run to print output as html\n",
    "\n",
    "out_name = str(basic_config['country']+'2_TimeSeries'+str(basic_config['grid_cell'])+'_from_'+str(timeseries_params['start_yr'])+'_to_'+str(timeseries_params['end_yr']))\n",
    "!jupyter nbconvert --output-dir='../outputs' --to html --no-input --output=$out_name 2_TimeSeriesSignatures.ipynb"
   ]
  },
  {
   "cell_type": "code",
   "execution_count": null,
   "id": "2e6bfcc2",
   "metadata": {},
   "outputs": [],
   "source": []
  }
 ],
 "metadata": {
  "kernelspec": {
   "display_name": "Python 3 (ipykernel)",
   "language": "python",
   "name": "python3"
  },
  "language_info": {
   "codemirror_mode": {
    "name": "ipython",
    "version": 3
   },
   "file_extension": ".py",
   "mimetype": "text/x-python",
   "name": "python",
   "nbconvert_exporter": "python",
   "pygments_lexer": "ipython3",
   "version": "3.8.15"
  }
 },
 "nbformat": 4,
 "nbformat_minor": 5
}
