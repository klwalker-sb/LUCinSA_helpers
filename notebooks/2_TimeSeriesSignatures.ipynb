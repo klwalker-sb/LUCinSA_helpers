{
 "cells": [
  {
   "cell_type": "markdown",
   "id": "a9bbbf31",
   "metadata": {},
   "source": [
    "# Time-series signatures from raw brdf imagery / smoothed ts outputs"
   ]
  },
  {
   "cell_type": "code",
   "execution_count": null,
   "id": "a7945893",
   "metadata": {},
   "outputs": [],
   "source": [
    "import os\n",
    "import sys\n",
    "from pathlib import Path\n",
    "import rasterio\n",
    "from rasterio import plot\n",
    "import matplotlib.pyplot as plt\n",
    "import shutil\n",
    "import tempfile\n",
    "import json\n",
    "import random\n",
    "import datetime\n",
    "import numpy as np\n",
    "import pandas as pd\n",
    "import geopandas as gpd\n",
    "from pyproj import Proj, transform\n",
    "from pyproj import CRS\n",
    "from shapely.geometry import box\n",
    "from shapely.geometry import shape\n",
    "from shapely.geometry import MultiPoint\n",
    "from shapely.geometry import Point\n",
    "from shapely.geometry import Polygon\n",
    "from rasterio.plot import show\n",
    "import xarray as xr\n",
    "\n",
    "%matplotlib inline"
   ]
  },
  {
   "cell_type": "code",
   "execution_count": null,
   "id": "2592e8b6",
   "metadata": {},
   "outputs": [],
   "source": [
    "sys.path.append(r\"../LUCinSA_helpers\")\n",
    "from TSprofile import *"
   ]
  },
  {
   "cell_type": "code",
   "execution_count": null,
   "id": "e34215f1",
   "metadata": {},
   "outputs": [],
   "source": [
    "##### Note: \n",
    "###  Notebook is housed on login node; time series calculations shold not be run on login node (and take a long time anyway). \n",
    "###  Better to install on cluster, run GettimeSeries.sh in Bash folder and copy output file path to parameters \n",
    "###  to read with `LoadTSfromFile(TSfile)` to load time series here for plotting.\n",
    "\n",
    "###TODO: Fix bash script (and LUCinSA_helpers.py) so that it can take more than one cell at a time (cellList should be an array)\n",
    "###TODO: Enable editing Bash script to run through Slurm via this notebook directly"
   ]
  },
  {
   "cell_type": "code",
   "execution_count": null,
   "id": "f58c6033",
   "metadata": {},
   "outputs": [],
   "source": [
    "'''\n",
    "PARAMETERS: modify in Notebook_settings notebook, then run that notebook and this cell to update here\n",
    "DO not modify this cell\n",
    "'''\n",
    "\n",
    "%store -r basicConfig\n",
    "print(\"Run Parameters: \\n raw_dir = {} \\n gridCell = {} \\n index_dir = {} \\n gridFile = {} \\n out_dir = {}\"\n",
    "      .format(basicConfig['raw_dir'],basicConfig['gridCell'],basicConfig['index_dir'],basicConfig['gridFile'],basicConfig['out_dir']))\n",
    "\n",
    "%store -r TimeSeriesParams\n",
    "print(\" point_file = {}\".format(TimeSeriesParams['PtFile']))\n",
    "if TimeSeriesParams['LoadPreRunTS'] == True:\n",
    "    print(\" Smooth TS loaded from {}\".format(TimeSeriesParams['SmoothTSfile']))\n",
    "    print(\" Raw TS loaded from {}\".format(TimeSeriesParams['RawTSfile']))\n",
    "    "
   ]
  },
  {
   "cell_type": "code",
   "execution_count": null,
   "id": "3ab5f2fb",
   "metadata": {},
   "outputs": [],
   "source": [
    "NatPts = GetPtsInGrid(basicConfig['gridFile'], basicConfig['gridCell'], TimeSeriesParams['PtFile'])\n",
    "NatPts.head(n=5)"
   ]
  },
  {
   "cell_type": "code",
   "execution_count": null,
   "id": "f6382faa",
   "metadata": {},
   "outputs": [],
   "source": []
  },
  {
   "cell_type": "markdown",
   "id": "ee5cb449",
   "metadata": {},
   "source": [
    "## Plot smooth time series"
   ]
  },
  {
   "cell_type": "code",
   "execution_count": null,
   "id": "86be5728",
   "metadata": {},
   "outputs": [],
   "source": [
    "if TimeSeriesParams['LoadPreRunTS'] == True:\n",
    "    if TimeSeriesParams['SmoothTSfile']:\n",
    "        smooth = LoadTSfromFile(TimeSeriesParams['SmoothTSfile'])\n",
    "else:\n",
    "    smooth = GetTimeSeriesForPts_MultiCell(basicConfig['out_dir'], basicConfig['spec_index'], TimeSeriesParams['StartYr'], TimeSeriesParams['EndYr'],\n",
    "            basicConfig['smooth_dir'], 'Smooth', basicConfig['gridFile'], TimeSeriesParams['gridCells'], \n",
    "            groundPolys=TimeSeriesParams['groundPolys'], oldest=TimeSeriesParams['oldestSamp'], newest=TimeSeriesParams['newestSamp'],\n",
    "            npts=TimeSeriesParams['npts'], seed=TimeSeriesParams['seed1'], loadSamp=TimeSeriesParams['loadSamp'], ptFile=TimeSeriesParams['PtFile'])"
   ]
  },
  {
   "cell_type": "code",
   "execution_count": null,
   "id": "26d7668f",
   "metadata": {},
   "outputs": [],
   "source": [
    "smooth = smooth[smooth['ALL'] != 0]\n",
    "\n",
    "fig = plt.figure(figsize=(10, 5))\n",
    "plt.errorbar(smooth.index, smooth['ALL'], yerr=smooth['stdv'], fmt='o', color='k')\n",
    "#plt.errorbar(raw.index, raw['ALL'], yerr=raw['stdv'], fmt='o', color='g')\n",
    "plt.title('Smoothed {} for Yucca sample {}-{}'.format(basicConfig['spec_index'],TimeSeriesParams['StartYr'],TimeSeriesParams['EndYr']))\n",
    "plt.ylim(0,7000)\n",
    "plt.show();"
   ]
  },
  {
   "cell_type": "markdown",
   "id": "a27ae54c",
   "metadata": {},
   "source": [
    "## Plot raw time series"
   ]
  },
  {
   "cell_type": "code",
   "execution_count": null,
   "id": "0b96c626",
   "metadata": {},
   "outputs": [],
   "source": [
    "if TimeSeriesParams['LoadPreRunTS'] == True:\n",
    "    if TimeSeriesParams['RawTSfile']:\n",
    "        raw = LoadTSfromFile(TimeSeriesParams['RawTSfile'])\n",
    "else:\n",
    "    raw = GetTimeSeriesForPts_MultiCell(basicConfig['out_dir'], basicConfig['spec_index'], TimeSeriesParams['StartYr'], TimeSeriesParams['EndYr'],\n",
    "            basicConfig['raw_dir'], TimeSeriesParams['imageType'], basicConfig['gridFile'], TimeSeriesParams['gridCells'], \n",
    "            groundPolys=TimeSeriesParams['groundPolys'], oldest=TimeSeriesParams['oldestSamp'], newest=TimeSeriesParams['newestSamp'],\n",
    "            npts=TimeSeriesParams['npts'], seed=TimeSeriesParams['seed1'], loadSamp=TimeSeriesParams['loadSamp'], ptFile=TimeSeriesParams['PtFile'])"
   ]
  },
  {
   "cell_type": "code",
   "execution_count": null,
   "id": "d72767fc",
   "metadata": {},
   "outputs": [],
   "source": [
    "raw = raw[raw['ALL'] != 0]\n",
    "\n",
    "fig = plt.figure(figsize=(10, 5))\n",
    "#plt.errorbar(smooth.index, smooth['ALL'], yerr=smooth['stdv'], fmt='o', color='k')\n",
    "plt.errorbar(raw.index, raw['ALL'], yerr=raw['stdv'], fmt='o', color='g')\n",
    "plt.title('Raw {} for natural forest points {}-{}'.format(basicConfig['spec_index'], TimeSeriesParams['StartYr'],TimeSeriesParams['EndYr']))\n",
    "plt.show()"
   ]
  },
  {
   "cell_type": "markdown",
   "id": "a704229b",
   "metadata": {},
   "source": [
    "## To plot a timeseries for each polygon in file:"
   ]
  },
  {
   "cell_type": "code",
   "execution_count": null,
   "id": "3e035105",
   "metadata": {},
   "outputs": [],
   "source": [
    "smooth = GetTimeSeriesForPts_MultiCell(basicConfig['out_dir'], basicConfig['spec_index'], TimeSeriesParams['StartYr'], TimeSeriesParams['EndYr'],\n",
    "            basicConfig['smooth_dir'], 'Smooth', basicConfig['gridFile'], TimeSeriesParams['gridCells'], \n",
    "            groundPolys=TimeSeriesParams['groundPolys'], oldest=TimeSeriesParams['oldestSamp'], newest=TimeSeriesParams['newestSamp'],\n",
    "            npts=TimeSeriesParams['npts'], seed=TimeSeriesParams['seed1'], loadSamp=TimeSeriesParams['loadSamp'], ptFile=TimeSeriesParams['PtFile'])"
   ]
  },
  {
   "cell_type": "code",
   "execution_count": null,
   "id": "a24b507e",
   "metadata": {},
   "outputs": [],
   "source": [
    "smooth = smooth[smooth['ALL'] != 0]\n",
    "\n",
    "fig = plt.figure(figsize=(10, 5))\n",
    "plt.errorbar(smooth.index, smooth['ALL'], yerr=smooth['stdv'], fmt='o', color='k')\n",
    "#plt.errorbar(raw.index, raw['ALL'], yerr=raw['stdv'], fmt='o', color='g')\n",
    "plt.title('Smoothed {} for natural forest points {}-{}'.format(basicConfig['spec_index'],TimeSeriesParams['StartYr'],TimeSeriesParams['EndYr']))\n",
    "plt.show();"
   ]
  },
  {
   "cell_type": "markdown",
   "id": "c1f39cdb",
   "metadata": {},
   "source": [
    "## To save an html copy of this notebook with all outputs:"
   ]
  },
  {
   "cell_type": "code",
   "execution_count": null,
   "id": "531c59b8",
   "metadata": {},
   "outputs": [],
   "source": [
    "### Run to print output as html\n",
    "\n",
    "outName = str(basicConfig['country']+'2_TimeSeries'+str(basicConfig['gridCell'])+'_from_'+str(SinglePlotParams['plotYr'])+str(SinglePlotParams['plotDay']))\n",
    "!jupyter nbconvert --output-dir='./Outputs' --to html --no-input --output=$outName 1b_ExploreData_OpenImage.ipynb"
   ]
  },
  {
   "cell_type": "code",
   "execution_count": null,
   "id": "2e6bfcc2",
   "metadata": {},
   "outputs": [],
   "source": []
  }
 ],
 "metadata": {
  "kernelspec": {
   "display_name": "Python 3 (ipykernel)",
   "language": "python",
   "name": "python3"
  },
  "language_info": {
   "codemirror_mode": {
    "name": "ipython",
    "version": 3
   },
   "file_extension": ".py",
   "mimetype": "text/x-python",
   "name": "python",
   "nbconvert_exporter": "python",
   "pygments_lexer": "ipython3",
   "version": "3.8.13"
  }
 },
 "nbformat": 4,
 "nbformat_minor": 5
}
