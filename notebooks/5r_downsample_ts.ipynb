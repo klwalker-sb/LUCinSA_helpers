{
 "cells": [
  {
   "cell_type": "code",
   "execution_count": null,
   "id": "b24e958c",
   "metadata": {},
   "outputs": [],
   "source": [
    "import os\n",
    "import sys\n",
    "from pathlib import Path\n",
    "import csv"
   ]
  },
  {
   "cell_type": "code",
   "execution_count": null,
   "id": "9563d4d1",
   "metadata": {},
   "outputs": [],
   "source": [
    "sys.path.append(r\"../LUCinSA_helpers\")\n",
    "module_path = os.path.abspath(os.path.join('.'))\n",
    "if module_path not in sys.path:\n",
    "    sys.path.append(module_path)\n",
    "    \n",
    "from ras_tools import *"
   ]
  },
  {
   "cell_type": "code",
   "execution_count": null,
   "id": "4b7bf16f",
   "metadata": {},
   "outputs": [],
   "source": [
    "'''\n",
    "PARAMETERS: modify in Notebook_settings notebook, then run that notebook and this cell to update here\n",
    "DO not modify this cell\n",
    "'''\n",
    "\n",
    "%store -r basic_config\n",
    "print(\"Parameters: \\n input ts_dir = {} \\n  spec_index = {} \\n  filter_yr = {} \\n filter_yrs = {} \\n  grid_cells = {} \\n raw_dir = {} \\n\"\n",
    "      .format(basic_config['smooth_dir'],basic_config['spec_index'], basic_config['filter_yr'], basic_config['yr_range'], basic_config['grid_cells'],\n",
    "             basic_config['raw_dir']))"
   ]
  },
  {
   "cell_type": "code",
   "execution_count": null,
   "id": "ccc60fb5",
   "metadata": {},
   "outputs": [],
   "source": [
    "out_dir_main = '/home/sandbox-cel/paraguay_lc/stac/ts_30m'\n",
    "spec_index = basic_config['spec_index']\n",
    "for y in basic_config['yr_range']:\n",
    "    common_str = str(y)\n",
    "    downsample_images(basic_config['grid_cells'], basic_config['smooth_dir'], Path('brdf_ts/ms/{}'.format(spec_index)), common_str, out_dir_main, 30)"
   ]
  },
  {
   "cell_type": "code",
   "execution_count": null,
   "id": "95bc1e92",
   "metadata": {},
   "outputs": [],
   "source": []
  }
 ],
 "metadata": {
  "kernelspec": {
   "display_name": "Python 3 (ipykernel)",
   "language": "python",
   "name": "python3"
  },
  "language_info": {
   "codemirror_mode": {
    "name": "ipython",
    "version": 3
   },
   "file_extension": ".py",
   "mimetype": "text/x-python",
   "name": "python",
   "nbconvert_exporter": "python",
   "pygments_lexer": "ipython3",
   "version": "3.8.15"
  }
 },
 "nbformat": 4,
 "nbformat_minor": 5
}
