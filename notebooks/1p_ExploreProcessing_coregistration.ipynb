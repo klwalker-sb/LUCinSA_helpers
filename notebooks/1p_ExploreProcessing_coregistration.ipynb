{
 "cells": [
  {
   "cell_type": "markdown",
   "id": "02d941c9",
   "metadata": {},
   "source": [
    "# Get cell processing info"
   ]
  },
  {
   "cell_type": "code",
   "execution_count": null,
   "id": "18a56fba",
   "metadata": {},
   "outputs": [],
   "source": [
    "import os\n",
    "import sys\n",
    "from pathlib import Path\n",
    "import pandas as pd\n",
    "import geopandas as gpd\n",
    "import numpy as np\n",
    "import pyproj\n",
    "import pickle\n",
    "from shapely.geometry import box\n",
    "from IPython.display import Image\n",
    "from ipywidgets import Label\n",
    "import math\n",
    "import matplotlib\n",
    "#import jupyter_compare_view\n",
    "\n",
    "%matplotlib inline\n",
    "#matplotlib.use('nbagg')\n",
    "import matplotlib.pyplot as plt"
   ]
  },
  {
   "cell_type": "code",
   "execution_count": null,
   "id": "4a6b586a",
   "metadata": {},
   "outputs": [],
   "source": [
    "sys.path.append(r\"../LUCinSA_helpers\")\n",
    "from file_checks import *\n",
    "from plot import *"
   ]
  },
  {
   "cell_type": "code",
   "execution_count": null,
   "id": "0fbc5569",
   "metadata": {},
   "outputs": [],
   "source": [
    "'''\n",
    "PARAMETERS: modify in notebook_params notebook, then run that notebook and this cell to update here\n",
    "DO NOT modify this cell\n",
    "'''\n",
    "\n",
    "%store -r basic_config\n",
    "print(\"Basic Parameters: \\n brdf_dir = {} \\n gridCell = {} \\n index_dir = {} \\n home_dir = {} \\n yr_range = {} \\n image_type = {}\"\n",
    "      .format(basic_config['brdf_dir'],basic_config['grid_cell'],basic_config['index_dir'],basic_config['home_dir'],basic_config['yr_range'],basic_config['image_type']))"
   ]
  },
  {
   "cell_type": "markdown",
   "id": "1370b074",
   "metadata": {},
   "source": [
    "## Read processing.info file and get coreg info"
   ]
  },
  {
   "cell_type": "code",
   "execution_count": null,
   "id": "74edd6bd",
   "metadata": {},
   "outputs": [],
   "source": [
    "db_path = Path('{}/{:06d}/processing.info'.format(basic_config['raw_dir'],int(basic_config['grid_cell'])))\n",
    "p_df = read_db(db_path,'current')\n",
    "p_df = p_df.reset_index()\n",
    "p_df['shift'] = p_df.apply(lambda x: math.sqrt(math.pow(x['shift_x'],2)+math.pow(x['shift_y'],2)),axis=1)\n",
    "p_df.index = pd.to_datetime(p_df['date'], format='%Y%m%d', errors='coerce')\n",
    "p_df.head(n=10)"
   ]
  },
  {
   "cell_type": "code",
   "execution_count": null,
   "id": "75f9374e",
   "metadata": {},
   "outputs": [],
   "source": [
    "p_df5 = p_df[p_df['sensor']=='lt05']\n",
    "creg_l5 = p_df5[p_df5['coreg']==True]\n",
    "print('of the {} L5 images, {} were coregistered'.format(p_df5.shape[0],creg_l5.shape[0]))\n",
    "avg_shift = creg_l5['shift'].mean()\n",
    "med_shift = creg_l5['shift'].median()\n",
    "max_shift = creg_l5['shift'].max()\n",
    "print('Average shift: {}. Median shift: {}. Max shift: {}'.format(avg_shift,med_shift,max_shift))\n",
    "p_df5.head(n=5)"
   ]
  },
  {
   "cell_type": "code",
   "execution_count": null,
   "id": "331ecc35",
   "metadata": {},
   "outputs": [],
   "source": [
    "p_df7 = p_df[p_df['sensor']=='le07']\n",
    "creg_l7 = p_df7[p_df7['coreg']==True]\n",
    "print('of the {} L7 images, {} were coregistered'.format(p_df7.shape[0],creg_l7.shape[0]))\n",
    "avg_shift = creg_l7['shift'].mean()\n",
    "med_shift = creg_l7['shift'].median()\n",
    "max_shift = creg_l7['shift'].max()\n",
    "print('Average shift: {}. Median shift: {}. Max shift: {}'.format(avg_shift,med_shift,max_shift))\n",
    "p_df7.head(n=5)"
   ]
  },
  {
   "cell_type": "code",
   "execution_count": null,
   "id": "cf5f2a68",
   "metadata": {},
   "outputs": [],
   "source": [
    "p_dfs = p_df[p_df['sensor'].str.startswith('s')]\n",
    "creg_s = p_dfs[p_dfs['coreg']==True]\n",
    "print('of the {} Sentinel images, {} were coregistered'.format(p_dfs.shape[0],creg_s.shape[0]))\n",
    "avg_shift = creg_s['shift'].mean()\n",
    "med_shift = creg_s['shift'].median()\n",
    "max_shift = creg_s['shift'].max()\n",
    "print('Average shift: {}. Median shift: {}. Max shift: {}'.format(avg_shift,med_shift,max_shift))\n",
    "p_dfs.head(n=5)"
   ]
  },
  {
   "cell_type": "markdown",
   "id": "abeef300",
   "metadata": {},
   "source": [
    "## Plot coreg time series"
   ]
  },
  {
   "cell_type": "code",
   "execution_count": null,
   "id": "6cf0b725",
   "metadata": {},
   "outputs": [],
   "source": [
    "p_df.groupby('sensor')['shift'].plot(legend='True')\n",
    "plt.ylim(0,2)\n",
    "plt.ylim([.2,.5])\n",
    "plt.show()\n"
   ]
  },
  {
   "cell_type": "markdown",
   "id": "4e649008",
   "metadata": {},
   "source": [
    "## View uncoreged images against Landsat reference"
   ]
  },
  {
   "cell_type": "code",
   "execution_count": null,
   "id": "4713ced6",
   "metadata": {},
   "outputs": [],
   "source": [
    "def open_img(img):\n",
    "    if img.endswith('.tif'):\n",
    "        with rio.open(img) as src:\n",
    "             img_out = src.read(1)\n",
    "    elif img.endswith('.nc'):\n",
    "        with xr.open_dataset(img) as xrimg:\n",
    "            xrcrs = xrimg.crs\n",
    "        band = xrimg['nir'].where(xrimg['nir'] != 65535)\n",
    "        #xr_idx = xrimg[band]\n",
    "        #img_out = xr_idx.where(xr_idx > 0)\n",
    "        img_out = band\n",
    "\n",
    "    return img_out\n",
    "\n",
    "def crop(img, x1, x2, y1, y2):\n",
    "\n",
    "    mask = np.zeros(img.shape)\n",
    "    mask[y1:y2+1, x1:x2+1]=1\n",
    "    m = mask>0\n",
    "\n",
    "    return img[m].reshape((y2+1-y1, x2+1-x1))\n",
    "\n",
    "def handle_interaction(**kwargs):\n",
    "    if kwargs.get('type') == 'click':\n",
    "        label.value = str(kwargs.get('coordinates'))\n",
    "        coords =eval(label.value) \n",
    "        coordList.append(coords)\n",
    "        print(coordList)\n"
   ]
  },
  {
   "cell_type": "code",
   "execution_count": null,
   "id": "34b0ff8d",
   "metadata": {},
   "outputs": [],
   "source": [
    "ref_img = '{}/{:06d}/brdf_ref/_tmp_reference.tif'.format(basic_config['raw_dir'],int(basic_config['grid_cell']))\n",
    "ref = open_img(ref_img)\n",
    "\n",
    "p_df5 = p_df5.sort_values(by=['shift'], ascending=False)\n",
    "imgs_l5 = p_df5['brdf_id'].tolist()\n",
    "#print(imgs_l5)\n",
    "comp_img = '{}/{:06d}/brdf/{}_coreg.nc'.format(basic_config['raw_dir'],int(basic_config['grid_cell']),imgs_l5[1].strip('.nc'))\n",
    "print(comp_img)\n",
    "comp = open_img(comp_img)\n",
    "\n",
    "## Need to run pip install jupyter_compare_view\n",
    "from jupyter_compare_view import compare\n",
    "compare(ref, comp, cmap=\"gray\", start_mode=\"horizontal\", start_slider_pos=0.73)\n",
    "plt.figure(figsize =(10,10))\n",
    "plt.imshow(ref)\n",
    "plt.set_title(\"ref_image\")\n",
    "plt.axis('off')\n",
    "plt.imshow(comp)\n",
    "plt.set_title(\"coregistered\")\n",
    "plt.axis('off');"
   ]
  },
  {
   "cell_type": "markdown",
   "id": "fcb38cee",
   "metadata": {},
   "source": [
    "## To save an html copy of this notebook with all outputs:"
   ]
  },
  {
   "cell_type": "code",
   "execution_count": null,
   "id": "25b26464",
   "metadata": {},
   "outputs": [],
   "source": [
    "### Run to print output as html\n",
    "out_name = str(basic_config['country']+'1p_ExploreProcessing_coregistration_'+str(basic_config['grid_cell']))\n",
    "!jupyter nbconvert --output-dir='./Outputs' --to html --no-input --output=$out_name 1p_ExploreProcessing_coregistration.ipynb"
   ]
  },
  {
   "cell_type": "code",
   "execution_count": null,
   "id": "372b2a8e",
   "metadata": {},
   "outputs": [],
   "source": []
  }
 ],
 "metadata": {
  "kernelspec": {
   "display_name": "Python 3 (ipykernel)",
   "language": "python",
   "name": "python3"
  },
  "language_info": {
   "codemirror_mode": {
    "name": "ipython",
    "version": 3
   },
   "file_extension": ".py",
   "mimetype": "text/x-python",
   "name": "python",
   "nbconvert_exporter": "python",
   "pygments_lexer": "ipython3",
   "version": "3.8.15"
  }
 },
 "nbformat": 4,
 "nbformat_minor": 5
}
