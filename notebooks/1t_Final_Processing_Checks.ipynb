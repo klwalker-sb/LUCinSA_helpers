{
 "cells": [
  {
   "cell_type": "markdown",
   "id": "02d941c9",
   "metadata": {},
   "source": [
    "# Final processing checks on cluster"
   ]
  },
  {
   "cell_type": "code",
   "execution_count": null,
   "id": "18a56fba",
   "metadata": {},
   "outputs": [],
   "source": [
    "import os\n",
    "import sys\n",
    "from pathlib import Path"
   ]
  },
  {
   "cell_type": "code",
   "execution_count": null,
   "id": "4a6b586a",
   "metadata": {},
   "outputs": [],
   "source": [
    "sys.path.append(r\"../LUCinSA_helpers\")\n",
    "from ts_composite import check_ts_windows"
   ]
  },
  {
   "cell_type": "code",
   "execution_count": null,
   "id": "0fbc5569",
   "metadata": {},
   "outputs": [],
   "source": [
    "'''\n",
    "PARAMETERS: modify in notebook_params notebook, then run that notebook and this cell to update here\n",
    "DO NOT modify this cell\n",
    "'''\n",
    "%store -r basic_config\n",
    "%store -r classification_params\n",
    "print(\"Basic Parameters: \\n ts_dir = {} \\n spec_indices = {} \\n\".format(basic_config['smooth_dir'], classification_params['spec_indices']))"
   ]
  },
  {
   "cell_type": "markdown",
   "id": "1370b074",
   "metadata": {},
   "source": [
    "## Check whether there is data in all windows of ts outputs"
   ]
  },
  {
   "cell_type": "code",
   "execution_count": null,
   "id": "9e4c39da",
   "metadata": {},
   "outputs": [],
   "source": [
    "#cell_list =\"/home/downspout-cel/paraguay_lc/vector/sampleData/ReadyMar4/12.csv\"\n",
    "#cell_list =\"/home/downspout-cel/paraguay_lc/mosaics/lists/Tile6list.csv\"\n",
    "cell_list=[3762]\n",
    "#[3737,3773,3774,3806,3807,3808,3809,3810,3841,3842,3843,3844,3845,3877,3878,3880,3911,3912,3913,3914,3944,3945,3946,3947,3948,3976,3978,3979,3980,4007,4008,4009,4010,4036]\n",
    "start_check = 2017200\n",
    "end_check = 2024200"
   ]
  },
  {
   "cell_type": "code",
   "execution_count": null,
   "id": "2440d73b",
   "metadata": {},
   "outputs": [],
   "source": [
    "check_ts_windows(cell_list, basic_config['smooth_dir'], classification_params['spec_indices'], start_check, end_check)"
   ]
  },
  {
   "cell_type": "markdown",
   "id": "af6d7fe4-b9b1-4ca7-8e7d-f78c36803b40",
   "metadata": {},
   "source": [
    "## Check whether stacks are complete for all cells"
   ]
  },
  {
   "cell_type": "code",
   "execution_count": null,
   "id": "f0b7bd4e-d0fa-48d3-9ef9-ba856f0da07c",
   "metadata": {},
   "outputs": [],
   "source": [
    "#cells=[3937]\n",
    "cells = range(2900,3000)\n",
    "for cell in cells:\n",
    "    comp_dir = Path(f'/home/sandbox-cel/paraguay_lc/stac/grid/00{cell}/comp')\n",
    "    if os.path.isdir(comp_dir) == False:\n",
    "        print(F'ERROR: Cell {cell} does not have a comp directory')\n",
    "    else:\n",
    "        print(cell)\n",
    "        bad_stacks = []\n",
    "        for f in os.listdir(comp_dir):\n",
    "            if (f.endswith('stack.tif')) and (f.startswith('base4Poly6')):\n",
    "                ft = os.path.getsize(os.path.join(comp_dir,f))\n",
    "                if ft < 906770000:\n",
    "                    print(f'problem with {f} for cell {cell}')"
   ]
  },
  {
   "cell_type": "markdown",
   "id": "fcb38cee",
   "metadata": {},
   "source": [
    "## To save an html copy of this notebook with all outputs:"
   ]
  },
  {
   "cell_type": "code",
   "execution_count": null,
   "id": "25b26464",
   "metadata": {},
   "outputs": [],
   "source": [
    "### Run to print output as html\n",
    "#out_name = str(basic_config['country']+'1t_FinalProcessing_Checks')\n",
    "#!jupyter nbconvert --output-dir='./Outputs' --to html --no-input --output=$out_name 1t_FinalProcessing_Checks.ipynb"
   ]
  }
 ],
 "metadata": {
  "kernelspec": {
   "display_name": "Python 3 (ipykernel)",
   "language": "python",
   "name": "python3"
  },
  "language_info": {
   "codemirror_mode": {
    "name": "ipython",
    "version": 3
   },
   "file_extension": ".py",
   "mimetype": "text/x-python",
   "name": "python",
   "nbconvert_exporter": "python",
   "pygments_lexer": "ipython3",
   "version": "3.8.18"
  }
 },
 "nbformat": 4,
 "nbformat_minor": 5
}
