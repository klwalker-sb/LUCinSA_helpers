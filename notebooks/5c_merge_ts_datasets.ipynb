{
 "cells": [
  {
   "cell_type": "code",
   "execution_count": null,
   "id": "b24e958c",
   "metadata": {},
   "outputs": [],
   "source": [
    "import os\n",
    "import sys\n",
    "from pathlib import Path\n",
    "import csv\n",
    "import datetime\n",
    "import shutil"
   ]
  },
  {
   "cell_type": "code",
   "execution_count": null,
   "id": "6d656e3d",
   "metadata": {},
   "outputs": [],
   "source": [
    "ts_dir = Path('/home/downspout-cel/paraguay_lc/stac/grids/003654/brdf_ts/ms/evi2/sub_ts')\n",
    "ts_dir_up = ts_dir.parent\n",
    "end_pad = '2011-06-01'\n",
    "endt = pd.to_datetime(end_pad,format='%Y-%m-%d')\n",
    "for f in os.listdir(ts_dir):\n",
    "    if f.endswith('.tif') and (pd.to_datetime(f[:7],format='%Y%j') < endt):\n",
    "        shutil.move(os.path.join(ts_dir,f), os.path.join(ts_dir_up, f))\n",
    "#layer_name = f'{int(date.year):d}{int(date.timetuple().tm_yday):03d}.tif'\n",
    "#start_pad = '2000-01-01'\n",
    "\n",
    "#end = '2011-01-01'\n",
    "#pad_files_new = [f for f in os.listdir(ts_dir) if (int(f.split('.')[0]) < startt) & (f.split('.')[1] == 'tif')]"
   ]
  },
  {
   "cell_type": "code",
   "execution_count": null,
   "id": "963c51bf",
   "metadata": {},
   "outputs": [],
   "source": []
  }
 ],
 "metadata": {
  "kernelspec": {
   "display_name": "Python 3 (ipykernel)",
   "language": "python",
   "name": "python3"
  },
  "language_info": {
   "codemirror_mode": {
    "name": "ipython",
    "version": 3
   },
   "file_extension": ".py",
   "mimetype": "text/x-python",
   "name": "python",
   "nbconvert_exporter": "python",
   "pygments_lexer": "ipython3",
   "version": "3.8.15"
  }
 },
 "nbformat": 4,
 "nbformat_minor": 5
}
