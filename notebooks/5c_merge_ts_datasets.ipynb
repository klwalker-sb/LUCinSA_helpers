{
 "cells": [
  {
   "cell_type": "code",
   "execution_count": null,
   "id": "b24e958c",
   "metadata": {},
   "outputs": [],
   "source": [
    "import os\n",
    "import sys\n",
    "from pathlib import Path\n",
    "import csv\n",
    "import datetime\n",
    "import shutil\n",
    "import pandas as pd"
   ]
  },
  {
   "cell_type": "code",
   "execution_count": null,
   "id": "963c51bf",
   "metadata": {},
   "outputs": [],
   "source": [
    "vis = ['gcvi','ndmi','kndvi','nbr']\n",
    "cells=[2951]\n",
    "#cells = range(3312,3317)\n",
    "start = \"2021-03-01\"\n",
    "#start = \"2023-03-01\"\n",
    "end = \"2024-09-01\"\n",
    "\n",
    "for cell in cells:\n",
    "    ts_dir = Path(f'/home/downspout-cel/paraguay_lc/stac/grids/00{cell}/brdf_ts/ms')\n",
    "    if os.path.isdir(ts_dir) == False:\n",
    "        print(F'ERROR: Cell {cell} does not have a sub ts directory')\n",
    "    else:\n",
    "        print(cell)\n",
    "        startd = pd.to_datetime(start,format='%Y-%m-%d')\n",
    "        endd = pd.to_datetime(end,format='%Y-%m-%d')\n",
    "        ts_dir = Path(f'/home/downspout-cel/paraguay_lc/stac/grids/00{cell}/brdf_ts/ms')\n",
    "        for vi in vis:\n",
    "            updir = os.path.join(ts_dir,vi)\n",
    "            subdir = os.path.join(ts_dir,vi,'sub_ts')\n",
    "            move_files = [f for f in os.listdir(subdir) if f.endswith('.tif') \n",
    "                    and (pd.to_datetime(f[:7],format='%Y%j') < endd)\n",
    "                  and (pd.to_datetime(f[:7],format='%Y%j') > startd)]\n",
    "            print(f'{vi}: moving {len(move_files)} files')\n",
    "            for fi in move_files:\n",
    "                shutil.move(os.path.join(subdir,fi), os.path.join(updir,fi))"
   ]
  },
  {
   "cell_type": "code",
   "execution_count": null,
   "id": "ff15dad5-30ce-4483-baab-e1ef4d4787c5",
   "metadata": {},
   "outputs": [],
   "source": []
  }
 ],
 "metadata": {
  "kernelspec": {
   "display_name": "Python 3 (ipykernel)",
   "language": "python",
   "name": "python3"
  },
  "language_info": {
   "codemirror_mode": {
    "name": "ipython",
    "version": 3
   },
   "file_extension": ".py",
   "mimetype": "text/x-python",
   "name": "python",
   "nbconvert_exporter": "python",
   "pygments_lexer": "ipython3",
   "version": "3.8.18"
  }
 },
 "nbformat": 4,
 "nbformat_minor": 5
}
