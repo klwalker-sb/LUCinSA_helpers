{
 "cells": [
  {
   "cell_type": "code",
   "execution_count": null,
   "id": "989552f5",
   "metadata": {},
   "outputs": [],
   "source": [
    "import os\n",
    "import sys\n",
    "from pathlib import Path\n",
    "import datetime\n",
    "import rasterio as rio\n",
    "from rasterio import plot\n",
    "from rasterio.plot import show\n",
    "from rasterio.merge import merge\n",
    "import matplotlib.pyplot as plt\n",
    "from matplotlib.colors import ListedColormap, BoundaryNorm\n",
    "import matplotlib.patches as mpatches\n",
    "\n",
    "#import shutil\n",
    "#import tempfile\n",
    "#import json\n",
    "#import random\n",
    "import numpy as np\n",
    "import pandas as pd\n",
    "#import geopandas as gpd\n",
    "#from pyproj import Proj, transform\n",
    "#from pyproj import CRS\n",
    "#from shapely.geometry import box\n",
    "#from shapely.geometry import shape\n",
    "#from shapely.geometry import MultiPoint\n",
    "#from shapely.geometry import Point\n",
    "#from shapely.geometry import Polygon\n",
    "#import xarray as xr\n",
    "\n",
    "%matplotlib inline"
   ]
  },
  {
   "cell_type": "code",
   "execution_count": null,
   "id": "db59a2ca",
   "metadata": {},
   "outputs": [],
   "source": [
    "'''\n",
    "PARAMETERS: modify in Notebook_settings notebook, then run that notebook and this cell to update here\n",
    "DO not modify this cell\n",
    "'''\n",
    "\n",
    "%store -r basic_config\n",
    "print(\"Basic Parameters: \\n gridCell = {} \\n index_dir = {} \\n local_dir = {}\"\n",
    "      .format(basic_config['grid_cell'],basic_config['index_dir'],basic_config['local_dir']))\n",
    "\n",
    "%store -r single_output_params\n",
    "print(\"SingleOutputParams: \\n ClassPrefix = {} \\n ClassFile = {}\"\n",
    "      .format(single_output_params['class_prefix'],single_output_params['class_file']))"
   ]
  },
  {
   "cell_type": "markdown",
   "id": "1ac9a487",
   "metadata": {},
   "source": [
    "## Define classification system"
   ]
  },
  {
   "cell_type": "code",
   "execution_count": null,
   "id": "9e5464ad",
   "metadata": {},
   "outputs": [],
   "source": [
    "##TODO: Make dictionaries for each classification option\n",
    "LC_labels = [\"bare/built\",\n",
    "            \"water\",\n",
    "            \"lowveg\",\n",
    "            \"medVeg\",\n",
    "            \"plantation\",\n",
    "            \"mature forest\"]\n",
    "colors = ['linen',\n",
    "          'blue',\n",
    "          'lightgreen',\n",
    "          'yellowgreen',\n",
    "          'purple',\n",
    "          'darkgreen'\n",
    "         ]\n",
    "cmap = ListedColormap(colors)\n",
    "\n",
    "patches = []\n",
    "for lc in range(len(LC_labels)):\n",
    "    patch = mpatches.Patch(color=colors[lc], label=LC_labels[lc])\n",
    "    patches.append(patch)\n",
    "\n",
    "class_bins = [1, 7, 10, 40, 60, 80,100]\n",
    "norm = BoundaryNorm(class_bins,\n",
    "                    len(colors))"
   ]
  },
  {
   "cell_type": "markdown",
   "id": "6413ff0d",
   "metadata": {},
   "source": [
    "## Get band info"
   ]
  },
  {
   "cell_type": "code",
   "execution_count": null,
   "id": "0ed74dca",
   "metadata": {},
   "outputs": [],
   "source": [
    "with rio.open(single_output_params['class_file']) as src:\n",
    "    stack = src.read()\n",
    "    num_bands = stack.shape[0]\n",
    "    \n",
    "##Get band years from input data (assumes that data in selected index directory corresponds to that used in classification)\n",
    "##TODO: make option of inputing own start year instead.\n",
    "\n",
    "yr_stack = []\n",
    "print(\"Getting year list from: {}\".format(basic_config['index_dir']))\n",
    "for r in os.listdir(basic_config['index_dir']):\n",
    "    if r.endswith('.tif'):\n",
    "        in_yr = r[:4]\n",
    "        if in_yr not in yr_stack:\n",
    "            yr_stack.append(in_yr)\n",
    "yr_stack.sort()\n",
    "##remove the first element in the list (this is the padding and probably not in the final; heck if this is always the case)\n",
    "print(\"skipping first year in TS (used as padding)\")\n",
    "yr_stack.pop(0)\n",
    "stack_data = pd.DataFrame({'MapYear':yr_stack})\n",
    "stack_data.index.name='Band'\n",
    "print('Bands in classified output are:')\n",
    "print(stack_data.T)"
   ]
  },
  {
   "cell_type": "markdown",
   "id": "f12003bc",
   "metadata": {},
   "source": [
    "## plot classified map at multiple timepoints"
   ]
  },
  {
   "cell_type": "code",
   "execution_count": null,
   "id": "70f8f023",
   "metadata": {},
   "outputs": [],
   "source": [
    "tot_plots = len(single_output_params['map_years'])\n",
    "cols = 2\n",
    "rows = tot_plots // cols \n",
    "rows += tot_plots % cols\n",
    "position = range(1,tot_plots + 1)\n",
    "\n",
    "fig = plt.figure(1, figsize=(20,20))\n",
    "fig.legend(handles=patches, loc='center')\n",
    "\n",
    "for k in range(tot_plots):\n",
    "    ax = fig.add_subplot(rows,cols,position[k])\n",
    "    with rio.open(single_output_params['class_file']) as src:\n",
    "        class_yr = src.read(k+1)\n",
    "    ax.imshow(class_yr, cmap=cmap, norm=norm)\n",
    "    ax.set_title(\"Year {}\".format(basic_config['yr_range'][k]))\n",
    "    ax.axis('off')"
   ]
  },
  {
   "cell_type": "markdown",
   "id": "e50f199f",
   "metadata": {},
   "source": [
    "## view change in plantations over time"
   ]
  },
  {
   "cell_type": "markdown",
   "id": "05536ebd",
   "metadata": {},
   "source": [
    "## view change in natural forest over time"
   ]
  },
  {
   "cell_type": "markdown",
   "id": "b8c670fc",
   "metadata": {},
   "source": [
    "## mosaic multiple cells"
   ]
  },
  {
   "cell_type": "code",
   "execution_count": null,
   "id": "00500f92",
   "metadata": {},
   "outputs": [],
   "source": [
    "gridcells = [1157,1158]  #TODO: Make this a parameter\n",
    "src_to_mosaic = []\n",
    "for g in gridcells:\n",
    "    classfile = os.path.join(basic_config['smooth_dir'],'{:06d}'.format(g),'cls',single_output_params['class_prefix']+'{:06d}'.format(g)+'.tif')\n",
    "    src = rio.open(ClassFile)\n",
    "    src_to_mosaic.append(src[1])\n",
    "mosaic, out_trans = merge(src_to_mosaic)\n",
    "show(mosaic, cmap=cmap)"
   ]
  },
  {
   "cell_type": "markdown",
   "id": "6f40c4a8",
   "metadata": {},
   "source": [
    "## view alongside actual image"
   ]
  }
 ],
 "metadata": {
  "kernelspec": {
   "display_name": "Python 3 (ipykernel)",
   "language": "python",
   "name": "python3"
  },
  "language_info": {
   "codemirror_mode": {
    "name": "ipython",
    "version": 3
   },
   "file_extension": ".py",
   "mimetype": "text/x-python",
   "name": "python",
   "nbconvert_exporter": "python",
   "pygments_lexer": "ipython3",
   "version": "3.8.15"
  }
 },
 "nbformat": 4,
 "nbformat_minor": 5
}
