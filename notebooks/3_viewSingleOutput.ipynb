{
 "cells": [
  {
   "cell_type": "code",
   "execution_count": null,
   "id": "989552f5",
   "metadata": {},
   "outputs": [],
   "source": [
    "import os\n",
    "import sys\n",
    "from pathlib import Path\n",
    "import datetime\n",
    "import rasterio\n",
    "from rasterio import plot\n",
    "from rasterio.plot import show\n",
    "from rasterio.merge import merge\n",
    "import matplotlib.pyplot as plt\n",
    "from matplotlib.colors import ListedColormap, BoundaryNorm\n",
    "import matplotlib.patches as mpatches\n",
    "\n",
    "#import shutil\n",
    "#import tempfile\n",
    "#import json\n",
    "#import random\n",
    "import numpy as np\n",
    "import pandas as pd\n",
    "#import geopandas as gpd\n",
    "#from pyproj import Proj, transform\n",
    "#from pyproj import CRS\n",
    "#from shapely.geometry import box\n",
    "#from shapely.geometry import shape\n",
    "#from shapely.geometry import MultiPoint\n",
    "#from shapely.geometry import Point\n",
    "#from shapely.geometry import Polygon\n",
    "#import xarray as xr\n",
    "\n",
    "%matplotlib inline"
   ]
  },
  {
   "cell_type": "code",
   "execution_count": null,
   "id": "db59a2ca",
   "metadata": {},
   "outputs": [],
   "source": [
    "'''\n",
    "PARAMETERS: modify in Notebook_settings notebook, then run that notebook and this cell to update here\n",
    "DO not modify this cell\n",
    "'''\n",
    "\n",
    "%store -r basicConfig\n",
    "print(\"Basic Parameters: \\n gridCell = {} \\n index_dir = {} \\n out_dir = {}\"\n",
    "      .format(basicConfig['gridCell'],basicConfig['index_dir'],basicConfig['out_dir']))\n",
    "\n",
    "%store -r SingleOutputParams\n",
    "print(\"SingleOutputParams: \\n ClassPrefix = {} \\n ClassFile = {}\"\n",
    "      .format(SingleOutputParams['ClassPrefix'],SingleOutputParams['ClassFile']))"
   ]
  },
  {
   "cell_type": "markdown",
   "id": "1ac9a487",
   "metadata": {},
   "source": [
    "## Define classification system"
   ]
  },
  {
   "cell_type": "code",
   "execution_count": null,
   "id": "9e5464ad",
   "metadata": {},
   "outputs": [],
   "source": [
    "##TODO: Make dictionaries for each classification option\n",
    "LC_labels = [\"bare/built\",\n",
    "            \"water\",\n",
    "            \"lowveg\",\n",
    "            \"medVeg\",\n",
    "            \"plantation\",\n",
    "            \"mature forest\"]\n",
    "colors = ['linen',\n",
    "          'blue',\n",
    "          'lightgreen',\n",
    "          'yellowgreen',\n",
    "          'purple',\n",
    "          'darkgreen'\n",
    "         ]\n",
    "cmap = ListedColormap(colors)\n",
    "\n",
    "patches = []\n",
    "for lc in range(len(LC_labels)):\n",
    "    patch = mpatches.Patch(color=colors[lc], label=LC_labels[lc])\n",
    "    patches.append(patch)\n",
    "\n",
    "class_bins = [1, 7, 10, 40, 60, 80,100]\n",
    "norm = BoundaryNorm(class_bins,\n",
    "                    len(colors))"
   ]
  },
  {
   "cell_type": "markdown",
   "id": "6413ff0d",
   "metadata": {},
   "source": [
    "## Get band info"
   ]
  },
  {
   "cell_type": "code",
   "execution_count": null,
   "id": "0ed74dca",
   "metadata": {},
   "outputs": [],
   "source": [
    "with rasterio.open(SingleOutputParams['ClassFile']) as src:\n",
    "    Stack = src.read()\n",
    "    NumBands = Stack.shape[0]\n",
    "    \n",
    "##Get band years from input data (assumes that data in selected index directory corresponds to that used in classification)\n",
    "##TODO: make option of inputing own start year instead.\n",
    "\n",
    "YrStack = []\n",
    "print(\"Getting year list from: {}\".format(basicConfig['index_dir']))\n",
    "for r in os.listdir(basicConfig['index_dir']):\n",
    "    if r.endswith('.tif'):\n",
    "        InYr = r[:4]\n",
    "        if InYr not in YrStack:\n",
    "            YrStack.append(InYr)\n",
    "YrStack.sort()\n",
    "##remove the first element in the list (this is the padding and probably not in the final; heck if this is always the case)\n",
    "print(\"skipping first year in TS (used as padding)\")\n",
    "YrStack.pop(0)\n",
    "StackData = pd.DataFrame({'MapYear':YrStack})\n",
    "StackData.index.name='Band'\n",
    "print('Bands in classified output are:')\n",
    "print(StackData.T)"
   ]
  },
  {
   "cell_type": "markdown",
   "id": "f12003bc",
   "metadata": {},
   "source": [
    "## plot classified map at multiple timepoints"
   ]
  },
  {
   "cell_type": "code",
   "execution_count": null,
   "id": "70f8f023",
   "metadata": {},
   "outputs": [],
   "source": [
    "TotPlots = len(SingleOutputParams['MapYears'])\n",
    "Cols = 2\n",
    "Rows = TotPlots // Cols \n",
    "Rows += TotPlots % Cols\n",
    "Position = range(1,TotPlots + 1)\n",
    "\n",
    "fig = plt.figure(1, figsize=(20,20))\n",
    "fig.legend(handles=patches, loc='center')\n",
    "\n",
    "for k in range(TotPlots):\n",
    "    ax = fig.add_subplot(Rows,Cols,Position[k])\n",
    "    with rasterio.open(SingleOutputParams['ClassFile']) as src:\n",
    "        ClassYr = src.read(k+1)\n",
    "    ax.imshow(ClassYr, cmap=cmap, norm=norm)\n",
    "    ax.set_title(\"Year {}\".format(SingleOutputParams['MapYears'][k]))\n",
    "    ax.axis('off')"
   ]
  },
  {
   "cell_type": "markdown",
   "id": "e50f199f",
   "metadata": {},
   "source": [
    "## view change in plantations over time"
   ]
  },
  {
   "cell_type": "markdown",
   "id": "05536ebd",
   "metadata": {},
   "source": [
    "## view change in natural forest over time"
   ]
  },
  {
   "cell_type": "markdown",
   "id": "b8c670fc",
   "metadata": {},
   "source": [
    "## mosaic multiple cells"
   ]
  },
  {
   "cell_type": "code",
   "execution_count": null,
   "id": "00500f92",
   "metadata": {},
   "outputs": [],
   "source": [
    "GridCells = [1157,1158]  #TODO: Make this a parameter\n",
    "src_to_mosaic = []\n",
    "for g in GridCells:\n",
    "    ClassFile = os.path.join(basicConfig['smooth_dir'],'{:06d}'.format(g),'cls',SingleOutputParams['ClassPrefix']+'{:06d}'.format(g)+'.tif')\n",
    "    src = rasterio.open(ClassFile)\n",
    "    src_to_mosaic.append(src[1])\n",
    "mosaic, out_trans = merge(src_to_mosaic)\n",
    "show(mosaic, cmap=cmap)"
   ]
  },
  {
   "cell_type": "markdown",
   "id": "6f40c4a8",
   "metadata": {},
   "source": [
    "## view alongside actual image"
   ]
  }
 ],
 "metadata": {
  "kernelspec": {
   "display_name": "Python 3",
   "language": "python",
   "name": "python3"
  },
  "language_info": {
   "codemirror_mode": {
    "name": "ipython",
    "version": 3
   },
   "file_extension": ".py",
   "mimetype": "text/x-python",
   "name": "python",
   "nbconvert_exporter": "python",
   "pygments_lexer": "ipython3",
   "version": "3.6.8"
  }
 },
 "nbformat": 4,
 "nbformat_minor": 5
}
