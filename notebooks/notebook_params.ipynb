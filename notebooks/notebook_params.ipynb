{
 "cells": [
  {
   "cell_type": "code",
   "execution_count": null,
   "id": "8a6f69d2",
   "metadata": {},
   "outputs": [],
   "source": [
    "import os\n",
    "from pathlib import Path"
   ]
  },
  {
   "cell_type": "markdown",
   "id": "a0a785a8",
   "metadata": {},
   "source": [
    "## Set parameters in cell below, then run all:"
   ]
  },
  {
   "cell_type": "code",
   "execution_count": null,
   "id": "9d7307f6",
   "metadata": {},
   "outputs": [],
   "source": [
    "country = 'Chile'  ## ('Chile' | 'Paraguay')\n",
    "gridCell = 1157\n",
    "out_dir = Path(\"/home/klwalker/data/tmp\")\n",
    "spec_index = 'evi2'\n",
    "printList=False\n",
    "\n",
    "### params for single input plots (to view a single raw index or composite image)\n",
    "imageType = 'TS'\n",
    "Viewband = 'evi2'\n",
    "plotYr = 2018\n",
    "plotDay = 250\n",
    "gamma = 3\n",
    "\n",
    "### params for interactive plots\n",
    "## use inputs for single input plots as well as:\n",
    "shpFile = 'point'   ## ('point', 'poly', or None)\n",
    "PtFile = Path(\"~/sandbox-cel/chile_lc/vector/sampleData/Arauco1A_Natural2014.csv\")\n",
    "PolyFile = Path(\"\")\n",
    "inputCRS = \"esri:102033\"  ## esri:102033 = Albers SA Equal Area Conic\n",
    "\n",
    "### params for time series\n",
    "StartYr = 2017\n",
    "EndYr = 2018\n",
    "imageType = 'TS'\n",
    "gridCells = [1157]\n",
    "##For polygon-based sample:\n",
    "groundPolys = None   ##Polygon file if sample based on polygons (if = None: oldest, newest and npts are ignored):\n",
    "oldestSamp = 2018   ##oldest polygon to use\n",
    "newestSamp = 2018  ##newest polygon to use\n",
    "npts = 2  ##pts sampled per polygon\n",
    "seed1 = 88\n",
    "##For point-based sample:\n",
    "loadSamp = True   ##if = False: PtFile is ignored\n",
    "PtFile = Path(\"/home/sandbox-cel/chile_lc/vector/sampleData/Arauco1A_Natural2014.csv\")"
   ]
  },
  {
   "cell_type": "markdown",
   "id": "3d5aa02c",
   "metadata": {},
   "source": [
    "### Do not need to modify below this line unless adding a new parameter\n",
    "==============================================================================================================================="
   ]
  },
  {
   "cell_type": "code",
   "execution_count": null,
   "id": "3982bade",
   "metadata": {},
   "outputs": [],
   "source": [
    "if country == 'Chile':\n",
    "    smooth_dir = Path(\"/home/downspout-cel/chile_lc/raster/grids\")\n",
    "    raw_dir = Path(\"/home/sandbox-cel/chile_lc/raster/grids\")\n",
    "    gridFile = Path(\"/home/sandbox-cel/chile_lc/chl_grids.gpkg\")\n",
    "    \n",
    "if country == 'Paraguay':\n",
    "    smooth_dir = Path(\"/home/downspout-cel/paraguay_lc/raster/grids\")\n",
    "    raw_dir = Path(\"/home/sandbox-cel/paraguay_lc/raster/grids\")\n",
    "    gridFile = Path(\"/home/sandbox-cel/paraguay_lc/vector/pry_grids.gpkg\")\n",
    "\n",
    "basicConfig = { 'country' : country,\n",
    "                'gridCell' : gridCell,\n",
    "                'smooth_dir' : smooth_dir,\n",
    "                'spec_index' : spec_index,\n",
    "                'index_dir' : os.path.join(smooth_dir,'{:06d}'.format(gridCell),'brdf_ts','ms',spec_index),\n",
    "                'raw_dir' : raw_dir,\n",
    "                'brdf_dir': os.path.join(raw_dir,'{:06d}'.format(gridCell),'brdf'),\n",
    "                'gridFile' : gridFile,\n",
    "                'out_dir' : out_dir,\n",
    "                'printList' : printList\n",
    "              }\n",
    "\n",
    "%store basicConfig\n",
    "\n",
    "SinglePlotParams = {'imageType' : imageType,\n",
    "                   'Viewband' : Viewband,\n",
    "                   'PtFile' : PtFile,\n",
    "                   'plotYr' : plotYr,\n",
    "                   'plotDay' : plotDay,\n",
    "                   'gamma': gamma\n",
    "              \n",
    "    }\n",
    "\n",
    "%store SinglePlotParams\n",
    "\n",
    "InteractivePlotParams = {'shpFile' : shpFile,\n",
    "                         'PtFile' : PtFile,\n",
    "                         'PolyFile' : PolyFile,\n",
    "                         'inputCRS' : inputCRS\n",
    "                        }\n",
    "%store InteractivePlotParams\n",
    "\n",
    "\n",
    "TimeSeriesParams = {'PtFile' : PtFile,\n",
    "                    'StartYr': StartYr,\n",
    "                    'EndYr': EndYr,\n",
    "                    'imageType' : imageType,\n",
    "                    'gridCells' : gridCells,\n",
    "                    'groundPolys': groundPolys,\n",
    "                    'oldestSamp' : oldestSamp,\n",
    "                    'newestSamp' : newestSamp,\n",
    "                    'npts' : npts,\n",
    "                    'seed1' : seed1,\n",
    "                    'loadSamp' : loadSamp,\n",
    "                    \n",
    "    }\n",
    "\n",
    "%store TimeSeriesParams\n"
   ]
  },
  {
   "cell_type": "code",
   "execution_count": null,
   "id": "a43378a5",
   "metadata": {},
   "outputs": [],
   "source": []
  }
 ],
 "metadata": {
  "kernelspec": {
   "display_name": "Python 3",
   "language": "python",
   "name": "python3"
  },
  "language_info": {
   "codemirror_mode": {
    "name": "ipython",
    "version": 3
   },
   "file_extension": ".py",
   "mimetype": "text/x-python",
   "name": "python",
   "nbconvert_exporter": "python",
   "pygments_lexer": "ipython3",
   "version": "3.8.8"
  }
 },
 "nbformat": 4,
 "nbformat_minor": 5
}
