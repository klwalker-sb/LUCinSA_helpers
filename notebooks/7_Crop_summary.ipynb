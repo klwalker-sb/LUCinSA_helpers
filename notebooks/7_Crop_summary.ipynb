{
 "cells": [
  {
   "cell_type": "markdown",
   "id": "02d941c9",
   "metadata": {},
   "source": [
    "# Get summary of crop info for maps"
   ]
  },
  {
   "cell_type": "code",
   "execution_count": null,
   "id": "18a56fba",
   "metadata": {},
   "outputs": [],
   "source": [
    "import os\n",
    "import sys"
   ]
  },
  {
   "cell_type": "code",
   "execution_count": null,
   "id": "4a6b586a",
   "metadata": {},
   "outputs": [],
   "source": [
    "sys.path.append(r\"../LUCinSA_helpers\")\n",
    "module_path = os.path.abspath(os.path.join('.'))\n",
    "if module_path not in sys.path:\n",
    "    sys.path.append(module_path)\n",
    "\n",
    "from mosaic import *\n",
    "from ras_tools import *\n",
    "#from var_dataframe import *"
   ]
  },
  {
   "cell_type": "markdown",
   "id": "29cb2bc0",
   "metadata": {},
   "source": [
    "## get summary for # rotations per year\n",
    "or any single variable previously created with 'ts_composite' tool"
   ]
  },
  {
   "cell_type": "code",
   "execution_count": null,
   "id": "fa90aa06",
   "metadata": {},
   "outputs": [],
   "source": [
    "#out_dir = '/home/downspout-cel/paraguay_lc/vector/tests'\n",
    "#out_path = Path('/home/downspout-cel/paraguay_lc/mosaics')\n",
    "#cell_list = '/home/downspout-cel/paraguay_lc/mosaics/lists/Training_cells.csv'\n",
    "#ts_dir = '/home/downspout-cel/paraguay_lc/stac/grids'\n",
    "#ptfile = '/home/downspout-cel/paraguay_lc/vector/sampleData/SamplePts_Mar2024_ALL.csv'\n",
    "\n",
    "#numrot_wet_mosaic = mosaic_cells(cell_list, ts_dir, 'comp/kndvi', 'numrot_wet_2021', out_path)\n",
    "#numrot_wet_mosaic = '/home/downspout-cel/paraguay_lc/mosaics/numrot_wet_2021_mosaic.tif'\n",
    "#numrot_yr_mosaic = mosaic_cells(cell_list, ts_dir, 'comp/kndvi', 'numrot_yr_2021', out_path)\n",
    "#numrot_yr_mosaic = '/home/downspout-cel/paraguay_lc/mosaics/numrot_yr_2021_mosaic.tif'\n",
    "\n",
    "#samp_numrot_wet = get_variables_at_pts_external2(out_dir, numrot_wet_mosaic, ptfile)\n",
    "\n",
    "#samp_numrot_yr = pd.read_csv(os.path.join(out_dir,'samp_numrot_yr_2021.csv'))\n",
    "#samp_numrot_wet = pd.read_csv(os.path.join(out_dir,'samp_numrot_wet_2021.csv'))\n",
    "#samp_numrot_dry = pd.read_csv(os.path.join(out_dir,'samp_numrot_dry_2021.csv'))\n",
    "                              \n",
    "#crop_samp_wet = samp_numrot_wet[(samp_numrot_wet['LC_UNQ'] > 30) & (samp_numrot_wet['LC_UNQ'] < 50)]\n",
    "#crop_samp_yr = samp_numrot_yr[(samp_numrot_yr['LC_UNQ'] > 30) & (samp_numrot_yr['LC_UNQ'] < 50)]\n",
    "#crop_samp_wetg = crop_samp_wet[['Class','numrot_wet']].groupby('Class').mean()\n",
    "#crop_samp_yrg = crop_samp_yr[['Class','numrot_yr']].groupby('Class').mean()\n",
    "#crop_samp_numrot = crop_samp_yrg.join(crop_samp_wetg,on='Class',how='left')\n",
    "#print(crop_samp_numrot)"
   ]
  },
  {
   "cell_type": "markdown",
   "id": "242d1401",
   "metadata": {},
   "source": [
    "## get map classification for sample"
   ]
  },
  {
   "cell_type": "code",
   "execution_count": null,
   "id": "7abcdcff",
   "metadata": {},
   "outputs": [],
   "source": [
    "out_dir = '/home/scratch-cel/cm'\n",
    "ptfile = '/home/scratch-cel/cm/samp2022_pix.csv'\n",
    "ras = '/home/downspout-cel/paraguay_lc/mosaics/CEL_base4Poly6_bal300mix3_mosaic.tif'\n",
    "lut = '/home/scratch-cel/cm/Class_LUT.csv'\n",
    "\n",
    "check1 = get_variables_at_pts_external(out_dir, ras, ptfile,'map_val','samp_2022_base4Poly6_bal300mix3.csv')"
   ]
  },
  {
   "cell_type": "markdown",
   "id": "1d990da9",
   "metadata": {},
   "source": [
    "## get crop/no_crop confusion matrix for map"
   ]
  },
  {
   "cell_type": "code",
   "execution_count": null,
   "id": "67b9f54d",
   "metadata": {},
   "outputs": [],
   "source": [
    "samp = pd.read_csv(os.path.join(out_dir,'samp_2022_base4Poly6_bal300mix2.csv'))\n",
    "cm_cropNoCrop = get_confusion_matrix_generic(samp,'map_val','LC_UNQ',lut,'LC2',nodata=0, \n",
    "                                     print_cm=False, out_dir=out_dir,model_name='base4Poly6_bal300mix3_2021')\n",
    "cm_cropNoCrop"
   ]
  },
  {
   "cell_type": "code",
   "execution_count": null,
   "id": "117ed0e8",
   "metadata": {},
   "outputs": [],
   "source": []
  }
 ],
 "metadata": {
  "kernelspec": {
   "display_name": "Python 3 (ipykernel)",
   "language": "python",
   "name": "python3"
  },
  "language_info": {
   "codemirror_mode": {
    "name": "ipython",
    "version": 3
   },
   "file_extension": ".py",
   "mimetype": "text/x-python",
   "name": "python",
   "nbconvert_exporter": "python",
   "pygments_lexer": "ipython3",
   "version": "3.8.15"
  }
 },
 "nbformat": 4,
 "nbformat_minor": 5
}
