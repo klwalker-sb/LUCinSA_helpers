{
 "cells": [
  {
   "cell_type": "markdown",
   "id": "02d941c9",
   "metadata": {},
   "source": [
    "# Get cell processing info"
   ]
  },
  {
   "cell_type": "code",
   "execution_count": null,
   "id": "18a56fba",
   "metadata": {},
   "outputs": [],
   "source": [
    "import os\n",
    "import sys"
   ]
  },
  {
   "cell_type": "code",
   "execution_count": null,
   "id": "4a6b586a",
   "metadata": {},
   "outputs": [],
   "source": [
    "sys.path.append(r\"../LUCinSA_helpers\")\n",
    "module_path = os.path.abspath(os.path.join('.'))\n",
    "if module_path not in sys.path:\n",
    "    sys.path.append(module_path)\n",
    "\n",
    "from mosaic import *\n",
    "from ras_tools import *\n",
    "from var_dataframe import *"
   ]
  },
  {
   "cell_type": "code",
   "execution_count": null,
   "id": "cca68036",
   "metadata": {},
   "outputs": [],
   "source": [
    "out_path = Path('/home/downspout-cel/paraguay_lc/mosaics')\n",
    "cell_list = '/home/downspout-cel/paraguay_lc/mosaics/lists/Training_cells.csv'\n",
    "ts_dir = '/home/downspout-cel/paraguay_lc/stac/grids'"
   ]
  },
  {
   "cell_type": "code",
   "execution_count": null,
   "id": "fa90aa06",
   "metadata": {},
   "outputs": [],
   "source": [
    "#numrot_wet_mosaic = mosaic_cells(cell_list, ts_dir, 'comp/kndvi', 'numrot_wet_2021', out_path)\n",
    "numrot_wet_mosaic = '/home/downspout-cel/paraguay_lc/mosaics/numrot_wet_2021_mosaic.tif'\n",
    "numrot_yr_mosaic = mosaic_cells(cell_list, ts_dir, 'comp/kndvi', 'numrot_yr_2021', out_path)\n",
    "#numrot_yr_mosaic = '/home/downspout-cel/paraguay_lc/mosaics/numrot_yr_2021_mosaic.tif'"
   ]
  },
  {
   "cell_type": "code",
   "execution_count": null,
   "id": "e1577355",
   "metadata": {},
   "outputs": [],
   "source": [
    "def get_variables_at_pts_external2(out_dir, ras_in,ptfile):\n",
    "\n",
    "    ptsdf = pd.read_csv(ptfile, index_col=0)\n",
    "    ptsgdb = gpd.GeoDataFrame(ptsdf,geometry=gpd.points_from_xy(ptsdf.XCoord,ptsdf.YCoord),crs='epsg:8858')\n",
    "    #pts4326 = ptsgdb.to_crs({'init': 'epsg:4326'})\n",
    "    xy = [ptsgdb['geometry'].x, ptsgdb['geometry'].y]\n",
    "    coords = list(map(list, zip(*xy)))\n",
    "    \n",
    "    with rio.open(ras_in, 'r') as comp:\n",
    "        comp.np = comp.read()\n",
    "        ptsgdb['numrot_wet'] = [sample[0] for sample in comp.sample(coords)]     \n",
    "\n",
    "    pd.DataFrame.to_csv(ptsgdb,os.path.join(out_dir,'samp_numrot_wet_2021.csv'), sep=',', index=True)\n",
    "    return ptsgdb"
   ]
  },
  {
   "cell_type": "code",
   "execution_count": null,
   "id": "7abcdcff",
   "metadata": {},
   "outputs": [],
   "source": [
    "out_dir = '/home/downspout-cel/paraguay_lc/vector/tests'\n",
    "ptfile = '/home/downspout-cel/paraguay_lc/vector/sampleData/SamplePts_Mar2024_ALL.csv'\n",
    "samp_numrot_wet = get_variables_at_pts_external2(out_dir, numrot_wet_mosaic, ptfile)"
   ]
  },
  {
   "cell_type": "code",
   "execution_count": null,
   "id": "67b9f54d",
   "metadata": {},
   "outputs": [],
   "source": [
    "#get_variables_at_pts_external2(out_dir, numrot_yr_mosaic, ptfile)\n"
   ]
  },
  {
   "cell_type": "code",
   "execution_count": null,
   "id": "fc39a34c",
   "metadata": {},
   "outputs": [],
   "source": [
    "samp_numrot_yr = pd.read_csv(os.path.join(out_dir,'samp_numrot_yr_2021.csv'))\n",
    "samp_numrot_wet = pd.read_csv(os.path.join(out_dir,'samp_numrot_wet_2021.csv'))\n",
    "#samp_numrot_dry = pd.read_csv(os.path.join(out_dir,'samp_numrot_dry_2021.csv'))\n",
    "                              \n",
    "crop_samp_wet = samp_numrot_wet[(samp_numrot_wet['LC_UNQ'] > 30) & (samp_numrot_wet['LC_UNQ'] < 50)]\n",
    "crop_samp_yr = samp_numrot_yr[(samp_numrot_yr['LC_UNQ'] > 30) & (samp_numrot_yr['LC_UNQ'] < 50)]\n",
    "crop_samp_wetg = crop_samp_wet[['Class','numrot_wet']].groupby('Class').mean()\n",
    "crop_samp_yrg = crop_samp_yr[['Class','numrot_yr']].groupby('Class').mean()\n",
    "crop_samp_numrot = crop_samp_yrg.join(crop_samp_wetg,on='Class',how='left')\n",
    "print(crop_samp_numrot)"
   ]
  },
  {
   "cell_type": "code",
   "execution_count": null,
   "id": "3425c0c1",
   "metadata": {},
   "outputs": [],
   "source": []
  }
 ],
 "metadata": {
  "kernelspec": {
   "display_name": "Python 3 (ipykernel)",
   "language": "python",
   "name": "python3"
  },
  "language_info": {
   "codemirror_mode": {
    "name": "ipython",
    "version": 3
   },
   "file_extension": ".py",
   "mimetype": "text/x-python",
   "name": "python",
   "nbconvert_exporter": "python",
   "pygments_lexer": "ipython3",
   "version": "3.8.15"
  }
 },
 "nbformat": 4,
 "nbformat_minor": 5
}
