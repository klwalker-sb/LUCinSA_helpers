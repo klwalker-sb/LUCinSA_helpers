{
 "cells": [
  {
   "cell_type": "markdown",
   "id": "02d941c9",
   "metadata": {},
   "source": [
    "# Get summary of crop info for maps"
   ]
  },
  {
   "cell_type": "code",
   "execution_count": null,
   "id": "18a56fba",
   "metadata": {},
   "outputs": [],
   "source": [
    "import os\n",
    "import sys"
   ]
  },
  {
   "cell_type": "code",
   "execution_count": null,
   "id": "4a6b586a",
   "metadata": {},
   "outputs": [],
   "source": [
    "sys.path.append(r\"../LUCinSA_helpers\")\n",
    "module_path = os.path.abspath(os.path.join('.'))\n",
    "if module_path not in sys.path:\n",
    "    sys.path.append(module_path)\n",
    "\n",
    "from mosaic import *\n",
    "from ras_tools import *\n",
    "#from var_dataframe import *"
   ]
  },
  {
   "cell_type": "markdown",
   "id": "29cb2bc0",
   "metadata": {},
   "source": [
    "## get summary for # rotations per year\n",
    "or any single variable previously created with 'ts_composite' tool"
   ]
  },
  {
   "cell_type": "code",
   "execution_count": null,
   "id": "fa90aa06",
   "metadata": {},
   "outputs": [],
   "source": [
    "#out_dir = '/home/downspout-cel/paraguay_lc/vector/tests'\n",
    "#out_path = Path('/home/downspout-cel/paraguay_lc/mosaics')\n",
    "#cell_list = '/home/downspout-cel/paraguay_lc/mosaics/lists/Training_cells.csv'\n",
    "#ts_dir = '/home/downspout-cel/paraguay_lc/stac/grids'\n",
    "#ptfile = '/home/downspout-cel/paraguay_lc/vector/sampleData/SamplePts_Mar2024_ALL.csv'\n",
    "\n",
    "#numrot_wet_mosaic = mosaic_cells(cell_list, ts_dir, 'comp/kndvi', 'numrot_wet_2021', out_path)\n",
    "#numrot_wet_mosaic = '/home/downspout-cel/paraguay_lc/mosaics/numrot_wet_2021_mosaic.tif'\n",
    "#numrot_yr_mosaic = mosaic_cells(cell_list, ts_dir, 'comp/kndvi', 'numrot_yr_2021', out_path)\n",
    "#numrot_yr_mosaic = '/home/downspout-cel/paraguay_lc/mosaics/numrot_yr_2021_mosaic.tif'\n",
    "\n",
    "#samp_numrot_wet = get_variables_at_pts_external2(out_dir, numrot_wet_mosaic, ptfile)\n",
    "\n",
    "#samp_numrot_yr = pd.read_csv(os.path.join(out_dir,'samp_numrot_yr_2021.csv'))\n",
    "#samp_numrot_wet = pd.read_csv(os.path.join(out_dir,'samp_numrot_wet_2021.csv'))\n",
    "#samp_numrot_dry = pd.read_csv(os.path.join(out_dir,'samp_numrot_dry_2021.csv'))\n",
    "                              \n",
    "#crop_samp_wet = samp_numrot_wet[(samp_numrot_wet['LC_UNQ'] > 30) & (samp_numrot_wet['LC_UNQ'] < 50)]\n",
    "#crop_samp_yr = samp_numrot_yr[(samp_numrot_yr['LC_UNQ'] > 30) & (samp_numrot_yr['LC_UNQ'] < 50)]\n",
    "#crop_samp_wetg = crop_samp_wet[['Class','numrot_wet']].groupby('Class').mean()\n",
    "#crop_samp_yrg = crop_samp_yr[['Class','numrot_yr']].groupby('Class').mean()\n",
    "#crop_samp_numrot = crop_samp_yrg.join(crop_samp_wetg,on='Class',how='left')\n",
    "#print(crop_samp_numrot)"
   ]
  },
  {
   "cell_type": "markdown",
   "id": "242d1401",
   "metadata": {},
   "source": [
    "## get map classification for sample"
   ]
  },
  {
   "cell_type": "code",
   "execution_count": null,
   "id": "7abcdcff",
   "metadata": {},
   "outputs": [],
   "source": [
    "out_dir = '/home/downspout-cel/paraguay_lc/lc_prods'\n",
    "ptfile = '/home/downspout-cel/paraguay_lc/vector/pts_calval/EPy_district_samp/GENERAL_AUXSAMP.csv'\n",
    "product_name = \"ESA_WorldCereal\"\n",
    "out_name = f'smsamp_2021_{product_name}.csv'\n",
    "ras = '/home/downspout-cel/paraguay_lc/lc_prods/ESA_WorldCereal/WorldCereal_TempCrops_PyE.tif'\n",
    "#ras = '/home/downspout-cel/paraguay_lc/mosaics/CEL_base4NoPoly_bal300mix3_mosaic.tif'\n",
    "\n",
    "samp = get_variables_at_pts_external(out_dir, ras, ptfile,'map_val',out_name)"
   ]
  },
  {
   "cell_type": "code",
   "execution_count": null,
   "id": "c59e599a",
   "metadata": {},
   "outputs": [],
   "source": [
    "samp.head()"
   ]
  },
  {
   "cell_type": "markdown",
   "id": "1d990da9",
   "metadata": {},
   "source": [
    "## get crop/no_crop confusion matrix for map"
   ]
  },
  {
   "cell_type": "code",
   "execution_count": null,
   "id": "67b9f54d",
   "metadata": {},
   "outputs": [],
   "source": [
    "lut_valid = ('../Class_LUT.csv')\n",
    "lut_map = '/home/downspout-cel/paraguay_lc/lc_prods/ESA_WorldCereal/LUT_ESA_WorldCereal.csv'\n",
    "\n",
    "#samp = pd.read_csv(os.path.join(out_dir,'smsamp_2021_ESAWorldCereal.csv'))\n",
    "cm_cropNoCrop = get_confusion_matrix_generic(samp,'map_val','LC_UNQ',lut_valid,lut_map,'LC2',nodata=None, \n",
    "                                     print_cm=False, out_dir=out_dir,model_name=product_name)\n",
    "cm_cropNoCrop"
   ]
  },
  {
   "cell_type": "code",
   "execution_count": null,
   "id": "59711679",
   "metadata": {},
   "outputs": [],
   "source": [
    "fixed_ho_dir = '/home/downspout-cel/paraguay_lc/vector/pts_calval/EPy_district_samp'\n",
    "\n",
    "test_df_all = os.path.join(fixed_ho_dir, 'GENERAL_AUXSAMP.csv')\n",
    "if os.path.isfile(test_df_all):\n",
    "    test_all = pd.read_csv(test_df_all)\n",
    "    ho_smallCrop_path = test_all.loc[(test_all['LC_UNQ'] == 35) | (test_all['LC_UNQ'] == 23)] \n",
    "    ho_bigCrop_path = test_all.loc[(test_all['LC2'] == 30) & (test_all['LC_UNQ'] != 35) & (test_all['LC_UNQ'] != 23) & (test_all['LC_UNQ'] < 40)]\n",
    "    ho_noCrop_path = test_all.loc[(test_all['LC2'] == 0) & (test_all['LC_UNQ'] != 19)]\n",
    "else:\n",
    "    sys.stderr.write(f'ERR: cannot find fixed test set')\n",
    "\n",
    "score = {}\n",
    "ho_smallcrop = get_variables_at_pts_external(out_dir, ras, ho_smallCrop_path,'map_val',out_name)[['map_val','LC2','OID_','LC_UNQ']]\n",
    "num_sm_correct = ho_smallcrop['map_val'].sum()\n",
    "ho_bigcrop = get_variables_at_pts_external(out_dir, ras, ho_bigCrop_path,'map_val',out_name)[['map_val','LC2','OID_','LC_UNQ']]\n",
    "#ho_bigcrop.to_csv(os.path.join(out_dir, 'crop_test.csv'))\n",
    "num_big_correct = ho_bigcrop['map_val'].sum()\n",
    "ho_nocrop = get_variables_at_pts_external(out_dir, ras, ho_noCrop_path,'map_val',out_name)[['map_val','LC2','OID_','LC_UNQ']]\n",
    "num_no_correct = len(ho_nocrop) - (ho_nocrop['map_val']).sum()\n",
    "ho = pd.concat([ho_smallcrop,ho_bigcrop,ho_nocrop])\n",
    "score[\"recall_smallCrop\"] = (num_sm_correct / len(ho_smallcrop)).round(3)\n",
    "score[\"recall_bigCrop\"] = (num_big_correct / len(ho_bigcrop)).round(3)\n",
    "score[\"recall_noCrop\"] =  (num_no_correct / len(ho_nocrop)).round(3)\n",
    "cm = get_confusion_matrix_generic(ho,'map_val','LC_UNQ',lut_valid,lut_map,'LC2',nodata=None, \n",
    "        print_cm=False, out_dir=out_dir,model_name=product_name)\n",
    "score[\"Kappa_cnc\"] = cm.at['crop','Kappa']\n",
    "score[\"F1_cnc\"] = cm.at['crop','F1']\n",
    "score[\"F_5_cnc\"] = cm.at['crop','F_5']\n",
    "score[\"F_25_cnc\"] = cm.at['crop','F_25']        \n",
    "score[\"OA_cnc\"] = cm.at['All','UA']\n",
    "\n",
    "print(score)"
   ]
  },
  {
   "cell_type": "code",
   "execution_count": null,
   "id": "a49cd633",
   "metadata": {},
   "outputs": [],
   "source": []
  }
 ],
 "metadata": {
  "kernelspec": {
   "display_name": "Python 3 (ipykernel)",
   "language": "python",
   "name": "python3"
  },
  "language_info": {
   "codemirror_mode": {
    "name": "ipython",
    "version": 3
   },
   "file_extension": ".py",
   "mimetype": "text/x-python",
   "name": "python",
   "nbconvert_exporter": "python",
   "pygments_lexer": "ipython3",
   "version": "3.8.15"
  }
 },
 "nbformat": 4,
 "nbformat_minor": 5
}
