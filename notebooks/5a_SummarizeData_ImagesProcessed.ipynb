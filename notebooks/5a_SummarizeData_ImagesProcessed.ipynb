{
 "cells": [
  {
   "cell_type": "markdown",
   "id": "97ee4134",
   "metadata": {},
   "source": [
    "# Summary of images processed"
   ]
  },
  {
   "cell_type": "code",
   "execution_count": null,
   "id": "7e07b344",
   "metadata": {},
   "outputs": [],
   "source": [
    "import os\n",
    "import sys\n",
    "from pathlib import Path\n",
    "import pandas as pd\n",
    "import numpy as np\n",
    "import matplotlib.pyplot as plt\n",
    "\n",
    "%matplotlib inline"
   ]
  },
  {
   "cell_type": "code",
   "execution_count": null,
   "id": "5b9ffa3e",
   "metadata": {},
   "outputs": [],
   "source": [
    "sys.path.append(r\"../LUCinSA_helpers\")\n",
    "from file_checks import *"
   ]
  },
  {
   "cell_type": "code",
   "execution_count": null,
   "id": "7bce9bbd",
   "metadata": {},
   "outputs": [],
   "source": [
    "'''\n",
    "PARAMETERS: modify in Notebook_settings notebook, then run that notebook and this cell to update here\n",
    "DO not modify this cell\n",
    "'''\n",
    "\n",
    "%store -r basic_config\n",
    "print(\"Basic Parameters: \\n raw_dir = {} \\n smooth_dir = {} \\n home_dir = {}\"\n",
    "      .format(basic_config['raw_dir'],basic_config['smooth_dir'],basic_config['home_dir']))"
   ]
  },
  {
   "cell_type": "code",
   "execution_count": null,
   "id": "8a12159b",
   "metadata": {},
   "outputs": [],
   "source": [
    "###To get all files processed in brdf directory across all processed cells:\n",
    "all_files = print_files_in_multiple_directories(basic_config['raw_dir'],\"brdf\",'.nc',print_list=basic_config['print_list'],out_dir=basic_config['home_dir'])"
   ]
  },
  {
   "cell_type": "code",
   "execution_count": null,
   "id": "f990d2ec",
   "metadata": {},
   "outputs": [],
   "source": [
    "#all_images.groupby(['yr','sensor']).size().unstack().plot(kind='bar', stacked=True, figsize=(20, 5), title=('Images per year'))\n",
    "all_files.groupby(['yr','sensor']).size().unstack().plot(kind='bar', stacked=True, figsize=(20, 5),\n",
    "            title=('Images processed for {}'.format(basic_config['country'])));"
   ]
  },
  {
   "cell_type": "markdown",
   "id": "28981214",
   "metadata": {},
   "source": [
    "## To check all processed cells for missing files at download:"
   ]
  },
  {
   "cell_type": "code",
   "execution_count": null,
   "id": "f97f3ab2",
   "metadata": {},
   "outputs": [],
   "source": [
    "dl_db_path = \"/home/downspout-cel/paraguay_lc/cell_processing_dl.csv\"\n",
    "dl_db = pd.read_csv(Path(dl_db_path),index_col=[0])\n",
    "dl_fix = dl_db[(dl_db['dl_fix_now']!='[]') & (pd.notnull(dl_db['dl_fix_now']))]\n",
    "print(dl_fix)"
   ]
  },
  {
   "cell_type": "markdown",
   "id": "eab3293d",
   "metadata": {},
   "source": [
    "## Get full processing status\n",
    "(note, there are some methods in file_checks.py to get status of single and all cells. Most were written before this db was created. Need to consolidate & finish processing checks."
   ]
  },
  {
   "cell_type": "code",
   "execution_count": null,
   "id": "6396a5e4",
   "metadata": {},
   "outputs": [],
   "source": [
    "full_db_path = \"/home/downspout-cel/paraguay_lc/cell_processing_post.csv\"\n",
    "post_db = pd.read_csv(Path(full_db_path),index_col=[0])\n",
    "post_db.head(n=5)"
   ]
  },
  {
   "cell_type": "markdown",
   "id": "f3d1d709",
   "metadata": {},
   "source": [
    "## To save an html copy of this notebook with all outputs:"
   ]
  },
  {
   "cell_type": "code",
   "execution_count": null,
   "id": "cf679d59",
   "metadata": {},
   "outputs": [],
   "source": [
    "### Run to print output as html\n",
    "\n",
    "out_name = str(basic_config['country']+'5a_ImagesProcessed')\n",
    "!jupyter nbconvert --output-dir='./Outputs' --to html --no-input --output=$out_name 5a_SummarizeData_ImagesProcessed.ipynb"
   ]
  },
  {
   "cell_type": "code",
   "execution_count": null,
   "id": "069d6132",
   "metadata": {},
   "outputs": [],
   "source": []
  }
 ],
 "metadata": {
  "kernelspec": {
   "display_name": "Python 3 (ipykernel)",
   "language": "python",
   "name": "python3"
  },
  "language_info": {
   "codemirror_mode": {
    "name": "ipython",
    "version": 3
   },
   "file_extension": ".py",
   "mimetype": "text/x-python",
   "name": "python",
   "nbconvert_exporter": "python",
   "pygments_lexer": "ipython3",
   "version": "3.8.15"
  }
 },
 "nbformat": 4,
 "nbformat_minor": 5
}
