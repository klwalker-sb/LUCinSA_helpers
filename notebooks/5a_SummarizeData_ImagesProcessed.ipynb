{
 "cells": [
  {
   "cell_type": "markdown",
   "id": "97ee4134",
   "metadata": {},
   "source": [
    "# Summary of images processed"
   ]
  },
  {
   "cell_type": "code",
   "execution_count": null,
   "id": "7e07b344",
   "metadata": {},
   "outputs": [],
   "source": [
    "import os\n",
    "from pathlib import Path\n",
    "import pandas as pd\n",
    "import numpy as np\n",
    "import matplotlib.pyplot as plt\n",
    "\n",
    "%matplotlib inline"
   ]
  },
  {
   "cell_type": "code",
   "execution_count": null,
   "id": "92215b7c",
   "metadata": {},
   "outputs": [],
   "source": [
    "def PrintFilesInDirectory(in_dir,endstring,brdfDir=True,printList=False,out_dir=None):\n",
    "    fileList = []\n",
    "    for f in os.listdir(in_dir):\n",
    "        if f.endswith(endstring) and 'angles' not in f:\n",
    "            fileList.append(f)\n",
    "    filedf = pd.DataFrame(fileList, columns = ['file'])\n",
    "    \n",
    "    if brdfDir==True:\n",
    "        filedf['sensor'] = filedf['file'].str[:4]\n",
    "        filedf['date'] = np.where((filedf['sensor']=='L1C_'),filedf['file'].str[19:27],filedf['file'].str[17:25])\n",
    "        filedf['yr'] = filedf['date'].str[:4]\n",
    "        filedf['yrmo'] = filedf['date'].str[:6]\n",
    "        sorted_files = filedf.sort_values(by='date')\n",
    "    \n",
    "    if printList == True:\n",
    "        pd.DataFrame.to_csv(filedf, os.path.join(out_dir,'FileList.txt'), sep=',', na_rep='.', index=False)   \n",
    "        \n",
    "    return filedf"
   ]
  },
  {
   "cell_type": "code",
   "execution_count": null,
   "id": "11ee5fda",
   "metadata": {},
   "outputs": [],
   "source": [
    "def PrintFilesInMultipleDirectories(full_dir,sub_dir,endstring,brdfDir=True,printList=False,out_dir=None):\n",
    "    '''\n",
    "    This will return a dataframe with all files ending in {endstring} in each directory named {sub_dir} within the {full_dir}\n",
    "    If the desired sub_dir is a brdf directory ({brdf=True}), adds correct date and year info to dataframe for plotting\n",
    "    Drops duplicated filenames to reveal the number of images coming from unique Sentinel/Landsat scenes.\n",
    "    Will print final dataframe to file in {out_dir} with {printList=True}\n",
    "    '''\n",
    "    fileList = []\n",
    "    multiFileList = []\n",
    "    for x in full_dir.iterdir():\n",
    "        if x.is_dir():\n",
    "            for sx in x.iterdir():\n",
    "                if os.path.basename(sx) == sub_dir:\n",
    "                    fileSet = PrintFilesInDirectory(sx,endstring,brdfDir=brdfDir,printList=False,out_dir=None)\n",
    "                    multiFileList.append(fileSet)\n",
    "    fullFiledf = pd.concat(multiFileList)\n",
    "    numCells = len(multiFileList)\n",
    "    lenOrig = len(fullFiledf)\n",
    "    uniqueImgs = fullFiledf.drop_duplicates(subset=['file'],keep='first')\n",
    "    print('There are {} processed images coming from {} unique Sentinel/Landsat images over {} cells.'.format(lenOrig,len(uniqueImgs),numCells))\n",
    "    \n",
    "    if printList == True:\n",
    "        pd.DataFrame.to_csv(uniqueImgs, os.path.join(out_dir,'ALLFileList.txt'), sep=',', na_rep='.', index=False)   \n",
    "        \n",
    "    return uniqueImgs"
   ]
  },
  {
   "cell_type": "code",
   "execution_count": null,
   "id": "7bce9bbd",
   "metadata": {},
   "outputs": [],
   "source": [
    "'''\n",
    "PARAMETERS: modify in Notebook_settings notebook, then run that notebook and this cell to update here\n",
    "DO not modify this cell\n",
    "'''\n",
    "\n",
    "%store -r basicConfig\n",
    "print(\"Basic Parameters: \\n raw_dir = {} \\n smooth_dir = {} \\n out_dir = {}\"\n",
    "      .format(basicConfig['raw_dir'],basicConfig['smooth_dir'],basicConfig['out_dir']))"
   ]
  },
  {
   "cell_type": "code",
   "execution_count": null,
   "id": "8a12159b",
   "metadata": {},
   "outputs": [],
   "source": [
    "###To get all files processed in brdf directory across all processed cells:\n",
    "AllFiles = PrintFilesInMultipleDirectories(basicConfig['raw_dir'],\"brdf\",'.nc',brdfDir=True,printList=basicConfig['printList'],out_dir=basicConfig['out_dir'])"
   ]
  },
  {
   "cell_type": "code",
   "execution_count": null,
   "id": "f990d2ec",
   "metadata": {},
   "outputs": [],
   "source": [
    "#Allimages.groupby(['yr','sensor']).size().unstack().plot(kind='bar', stacked=True, figsize=(20, 5), title=('Images per year'))\n",
    "AllFiles.groupby(['yr','sensor']).size().unstack().plot(kind='bar', stacked=True, figsize=(20, 5),\n",
    "            title=('Images processed for {}'.format(basicConfig['country'])));"
   ]
  },
  {
   "cell_type": "code",
   "execution_count": null,
   "id": "cf679d59",
   "metadata": {},
   "outputs": [],
   "source": [
    "### Run to print output as html\n",
    "\n",
    "outName = str(basicConfig['country']+'5a_ImagesProcessed')\n",
    "!jupyter nbconvert --output-dir='./Outputs' --to html --no-input --output=$outName 5a_SummarizeData_ImagesProcessed.ipynb"
   ]
  },
  {
   "cell_type": "code",
   "execution_count": null,
   "id": "069d6132",
   "metadata": {},
   "outputs": [],
   "source": []
  }
 ],
 "metadata": {
  "kernelspec": {
   "display_name": "Python 3",
   "language": "python",
   "name": "python3"
  },
  "language_info": {
   "codemirror_mode": {
    "name": "ipython",
    "version": 3
   },
   "file_extension": ".py",
   "mimetype": "text/x-python",
   "name": "python",
   "nbconvert_exporter": "python",
   "pygments_lexer": "ipython3",
   "version": "3.6.8"
  }
 },
 "nbformat": 4,
 "nbformat_minor": 5
}
