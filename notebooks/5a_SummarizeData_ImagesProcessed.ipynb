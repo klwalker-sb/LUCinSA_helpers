{
 "cells": [
  {
   "cell_type": "markdown",
   "id": "97ee4134",
   "metadata": {},
   "source": [
    "# Summary of images processed"
   ]
  },
  {
   "cell_type": "code",
   "execution_count": null,
   "id": "7e07b344",
   "metadata": {},
   "outputs": [],
   "source": [
    "import os\n",
    "import sys\n",
    "from pathlib import Path\n",
    "import pandas as pd\n",
    "import numpy as np\n",
    "import matplotlib.pyplot as plt\n",
    "\n",
    "%matplotlib inline"
   ]
  },
  {
   "cell_type": "code",
   "execution_count": null,
   "id": "5b9ffa3e",
   "metadata": {},
   "outputs": [],
   "source": [
    "sys.path.append(r\"../LUCinSA_helpers\")\n",
    "from FileChecks import *"
   ]
  },
  {
   "cell_type": "code",
   "execution_count": null,
   "id": "7bce9bbd",
   "metadata": {},
   "outputs": [],
   "source": [
    "'''\n",
    "PARAMETERS: modify in Notebook_settings notebook, then run that notebook and this cell to update here\n",
    "DO not modify this cell\n",
    "'''\n",
    "\n",
    "%store -r basicConfig\n",
    "print(\"Basic Parameters: \\n raw_dir = {} \\n smooth_dir = {} \\n out_dir = {}\"\n",
    "      .format(basicConfig['raw_dir'],basicConfig['smooth_dir'],basicConfig['out_dir']))"
   ]
  },
  {
   "cell_type": "code",
   "execution_count": null,
   "id": "8a12159b",
   "metadata": {},
   "outputs": [],
   "source": [
    "###To get all files processed in brdf directory across all processed cells:\n",
    "AllFiles = PrintFilesInMultipleDirectories(basicConfig['raw_dir'],\"brdf\",'.nc',printList=basicConfig['printList'],out_dir=basicConfig['out_dir'])"
   ]
  },
  {
   "cell_type": "code",
   "execution_count": null,
   "id": "f990d2ec",
   "metadata": {},
   "outputs": [],
   "source": [
    "#Allimages.groupby(['yr','sensor']).size().unstack().plot(kind='bar', stacked=True, figsize=(20, 5), title=('Images per year'))\n",
    "AllFiles.groupby(['yr','sensor']).size().unstack().plot(kind='bar', stacked=True, figsize=(20, 5),\n",
    "            title=('Images processed for {}'.format(basicConfig['country'])));"
   ]
  },
  {
   "cell_type": "code",
   "execution_count": null,
   "id": "efd1a7a4",
   "metadata": {},
   "outputs": [],
   "source": [
    "###To check all processed cells for missing files at download:"
   ]
  },
  {
   "cell_type": "markdown",
   "id": "f3d1d709",
   "metadata": {},
   "source": [
    "## To save an html copy of this notebook with all outputs:"
   ]
  },
  {
   "cell_type": "code",
   "execution_count": null,
   "id": "cf679d59",
   "metadata": {},
   "outputs": [],
   "source": [
    "### Run to print output as html\n",
    "\n",
    "outName = str(basicConfig['country']+'5a_ImagesProcessed')\n",
    "!jupyter nbconvert --output-dir='./Outputs' --to html --no-input --output=$outName 5a_SummarizeData_ImagesProcessed.ipynb"
   ]
  },
  {
   "cell_type": "code",
   "execution_count": null,
   "id": "069d6132",
   "metadata": {},
   "outputs": [],
   "source": []
  }
 ],
 "metadata": {
  "kernelspec": {
   "display_name": "Python 3 (ipykernel)",
   "language": "python",
   "name": "python3"
  },
  "language_info": {
   "codemirror_mode": {
    "name": "ipython",
    "version": 3
   },
   "file_extension": ".py",
   "mimetype": "text/x-python",
   "name": "python",
   "nbconvert_exporter": "python",
   "pygments_lexer": "ipython3",
   "version": "3.8.13"
  }
 },
 "nbformat": 4,
 "nbformat_minor": 5
}
