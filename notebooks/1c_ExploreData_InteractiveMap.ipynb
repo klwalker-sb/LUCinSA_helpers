{
 "cells": [
  {
   "cell_type": "markdown",
   "metadata": {
    "Collapsed": "false"
   },
   "source": [
    "## Opens a basemap in image location and prints list of coordinates selected by user"
   ]
  },
  {
   "cell_type": "markdown",
   "metadata": {
    "Collapsed": "false"
   },
   "source": [
    "## Imports"
   ]
  },
  {
   "cell_type": "code",
   "execution_count": null,
   "metadata": {
    "Collapsed": "false"
   },
   "outputs": [],
   "source": [
    "import os\n",
    "import sys\n",
    "from pathlib import Path\n",
    "import datetime\n",
    "\n",
    "from ipywidgets import Label\n",
    "from ipyleaflet  import Map, GeoData, basemaps, LayersControl, ImageOverlay, Marker\n",
    "from localtileserver import get_leaflet_tile_layer, TileClient\n",
    "\n",
    "%matplotlib inline"
   ]
  },
  {
   "cell_type": "code",
   "execution_count": null,
   "metadata": {},
   "outputs": [],
   "source": [
    "sys.path.append(r\"../LUCinSA_helpers\")\n",
    "from file_info import *\n",
    "from plot import *"
   ]
  },
  {
   "cell_type": "code",
   "execution_count": null,
   "metadata": {},
   "outputs": [],
   "source": [
    "'''\n",
    "PARAMETERS: modify in Notebook_settings notebook, then run that notebook and this cell to update here\n",
    "DO not modify this cell\n",
    "'''\n",
    "\n",
    "%store -r basic_config\n",
    "print(\"Basic Parameters: \\n PrintDate = {} \\n brdf_dir = {} \\n grid_cell = {} \\n index_dir = {} \\n home_dir = {}\"\n",
    "      .format(basic_config['today'], basic_config['brdf_dir'],basic_config['grid_cell'],basic_config['index_dir'],basic_config['home_dir']))\n",
    "\n",
    "%store -r single_plot_params\n",
    "print(\"Plotting Parameters: \\n plot_yr = {} \\n plot_day = {} \\n viewband = {} \\n image_type = {}\"\n",
    "      .format(single_plot_params['plot_yr'],single_plot_params['plot_day'],single_plot_params['viewband'],single_plot_params['image_type']))\n",
    "\n",
    "%store -r interactive_plot_params\n",
    "print( \"Shapefile = {} \\n If point, file is {} \\n If poly, file is {} \\n input crs = {}\"\n",
    "     .format (interactive_plot_params['shpfile'], interactive_plot_params['ptfile'],interactive_plot_params['polyfile'],interactive_plot_params['inputCRS']))"
   ]
  },
  {
   "cell_type": "code",
   "execution_count": null,
   "metadata": {},
   "outputs": [],
   "source": [
    "## Get a sample image of type image_type, closest to the date specified with plot_day and plot_yr parameters\n",
    "if single_plot_params['image_type'] == 'Smooth':\n",
    "    samp_img = get_closest_image(basic_config['index_dir'],single_plot_params['image_type'],basic_config['data_source'],single_plot_params['plot_yr'],single_plot_params['plot_day'])\n",
    "else:\n",
    "    samp_img = get_closest_image(basic_config['brdf_dir'],single_plot_params['image_type'],basic_config['data_source'],single_plot_params['plot_yr'],single_plot_params['plot_day'])\n",
    "\n",
    "print(samp_img)"
   ]
  },
  {
   "cell_type": "markdown",
   "metadata": {},
   "source": [
    "## image with color correction, but not interactive"
   ]
  },
  {
   "cell_type": "code",
   "execution_count": null,
   "metadata": {},
   "outputs": [],
   "source": [
    "img = samp_img\n",
    "img_tif = nc_to_tif(img, out_dir=basic_config['home_dir'])\n",
    "rgb = get_rbg_img(img_tif,single_plot_params['gamma'])\n",
    "fig = plt.figure(figsize=(18,12))\n",
    "plt.imshow(rgb)"
   ]
  },
  {
   "cell_type": "markdown",
   "metadata": {},
   "source": [
    "## Interactive version"
   ]
  },
  {
   "cell_type": "code",
   "execution_count": null,
   "metadata": {},
   "outputs": [],
   "source": [
    "img = samp_img\n",
    "img_tif = nc_to_tif(img, out_dir=basic_config['home_dir'])\n",
    "#m,t = show_interactive_img(img, 5555, out_dir=basic_config['out_dir'])\n",
    "tile_client = TileClient(img_tif,port=5555)\n",
    "m = Map(center=tile_client.center(), zoom=12, basemap=basemaps.Esri.WorldImagery)\n",
    "t = get_leaflet_tile_layer(tile_client, band=[1,2,3])\n",
    "m.add_layer(t)\n",
    "m"
   ]
  },
  {
   "cell_type": "code",
   "execution_count": null,
   "metadata": {},
   "outputs": [],
   "source": [
    "#add_shpfile_overlay(shp=interactive_plot_params['shpfile'],ptfile=interactive_plot_params['ptfile'],inputCRS=interactive_plot_params['inputCRS'],polyfile=interactive_plot_params['polyfile'])"
   ]
  },
  {
   "cell_type": "code",
   "execution_count": null,
   "metadata": {},
   "outputs": [],
   "source": [
    "def get_coords(**kwargs):\n",
    "    if kwargs.get('type') == 'click':\n",
    "        label = Label()\n",
    "        label.value = str(kwargs.get('coordinates'))\n",
    "        coords =eval(label.value) \n",
    "        selected_coords.append(coords)\n",
    "        print(selected_coords)\n",
    "        return selected_coords\n",
    "\n",
    "selected_coords = []\n",
    "m.on_interaction(get_coords)"
   ]
  },
  {
   "cell_type": "markdown",
   "metadata": {},
   "source": [
    "## Get list of coordinates to use (first click on map above)\n",
    "#### list is saved as 'out_dir/SelectedCoords.csv'"
   ]
  },
  {
   "cell_type": "code",
   "execution_count": null,
   "metadata": {},
   "outputs": [],
   "source": [
    "coords = convert_and_print_coord_list(selected_coords, img_crs=interactive_plot_params['inputCRS'], out_dir=basic_config['out_dir'])"
   ]
  },
  {
   "cell_type": "markdown",
   "metadata": {},
   "source": [
    "## Get Values at Coordinates"
   ]
  },
  {
   "cell_type": "code",
   "execution_count": null,
   "metadata": {},
   "outputs": [],
   "source": [
    "get_values_at_coords(coords, interactive_plot_params['inputCRS'], img_tif, [1,2,3])"
   ]
  },
  {
   "cell_type": "markdown",
   "metadata": {},
   "source": [
    "## To save an html copy of this notebook with all outputs:"
   ]
  },
  {
   "cell_type": "code",
   "execution_count": null,
   "metadata": {},
   "outputs": [],
   "source": [
    "### Run to print output as html\n",
    "outName = str(basicConfig['country']+'1c_InteractiveMapSession'\n",
    "!jupyter nbconvert --output-dir='./Outputs' --to html --no-input --output=$outName 1c_ExploreData_InteractiveMap.ipynb"
   ]
  }
 ],
 "metadata": {
  "kernelspec": {
   "display_name": "Python 3 (ipykernel)",
   "language": "python",
   "name": "python3"
  },
  "language_info": {
   "codemirror_mode": {
    "name": "ipython",
    "version": 3
   },
   "file_extension": ".py",
   "mimetype": "text/x-python",
   "name": "python",
   "nbconvert_exporter": "python",
   "pygments_lexer": "ipython3",
   "version": "3.8.15"
  },
  "toc-autonumbering": true,
  "toc-showmarkdowntxt": false
 },
 "nbformat": 4,
 "nbformat_minor": 4
}
